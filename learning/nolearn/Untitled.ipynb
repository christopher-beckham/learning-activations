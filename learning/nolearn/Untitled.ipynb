{
 "cells": [
  {
   "cell_type": "code",
   "execution_count": 15,
   "metadata": {
    "collapsed": false
   },
   "outputs": [],
   "source": [
    "import os\n",
    "import cPickle as pickle\n",
    "import gzip"
   ]
  },
  {
   "cell_type": "code",
   "execution_count": 23,
   "metadata": {
    "collapsed": false
   },
   "outputs": [
    {
     "name": "stdout",
     "output_type": "stream",
     "text": [
      "Populating the interactive namespace from numpy and matplotlib\n"
     ]
    },
    {
     "name": "stderr",
     "output_type": "stream",
     "text": [
      "WARNING: pylab import has clobbered these variables: ['f']\n",
      "`%matplotlib` prevents importing * from pylab and numpy\n"
     ]
    }
   ],
   "source": [
    "import matplotlib.pyplot as plt\n",
    "%pylab inline\n",
    "import numpy as np"
   ]
  },
  {
   "cell_type": "code",
   "execution_count": 50,
   "metadata": {
    "collapsed": false
   },
   "outputs": [],
   "source": [
    "from lasagne.layers import DenseLayer\n",
    "from lasagne.layers import InputLayer\n",
    "from lasagne.layers import DropoutLayer\n",
    "from lasagne.layers import Conv2DLayer\n",
    "from lasagne.layers import MaxPool2DLayer\n",
    "from lasagne.layers import get_all_layers, get_output\n",
    "from lasagne.nonlinearities import softmax\n",
    "from lasagne.updates import adam\n",
    "from lasagne.layers import get_all_params"
   ]
  },
  {
   "cell_type": "code",
   "execution_count": 25,
   "metadata": {
    "collapsed": true
   },
   "outputs": [],
   "source": [
    "from nolearn.lasagne import NeuralNet\n",
    "from nolearn.lasagne import TrainSplit\n",
    "from nolearn.lasagne import objective"
   ]
  },
  {
   "cell_type": "markdown",
   "metadata": {},
   "source": [
    "----"
   ]
  },
  {
   "cell_type": "code",
   "execution_count": 70,
   "metadata": {
    "collapsed": true
   },
   "outputs": [],
   "source": [
    "with gzip.open(\"../../data/mnist.pkl.gz\") as f:\n",
    "    train_data, _, _ = pickle.load(f)\n",
    "    X, y = train_data"
   ]
  },
  {
   "cell_type": "code",
   "execution_count": 72,
   "metadata": {
    "collapsed": false
   },
   "outputs": [],
   "source": [
    "X, y = X[0:10], y[0:10]\n",
    "X = X.reshape((X.shape[0], 1, 28, 28)).astype(\"float32\")\n",
    "y = y.astype(\"int32\")"
   ]
  },
  {
   "cell_type": "markdown",
   "metadata": {},
   "source": [
    "----"
   ]
  },
  {
   "cell_type": "code",
   "execution_count": 60,
   "metadata": {
    "collapsed": false
   },
   "outputs": [],
   "source": [
    "layers0 = [\n",
    "    (InputLayer, {'shape': (None, X.shape[1], X.shape[2], X.shape[3])}),\n",
    "    (Conv2DLayer, {'num_filters': 96, 'filter_size': 5}),\n",
    "    (Conv2DLayer, {'num_filters': 96, 'filter_size': 3}),\n",
    "    (Conv2DLayer, {'num_filters': 96, 'filter_size': 3}),\n",
    "    (Conv2DLayer, {'num_filters': 96, 'filter_size': 3}),\n",
    "    (Conv2DLayer, {'num_filters': 96, 'filter_size': 3}),\n",
    "    (MaxPool2DLayer, {'pool_size': 2}),\n",
    "    (Conv2DLayer, {'num_filters': 128, 'filter_size': 3}),\n",
    "    (Conv2DLayer, {'num_filters': 128, 'filter_size': 3}),\n",
    "    (Conv2DLayer, {'num_filters': 128, 'filter_size': 3}),\n",
    "    (MaxPool2DLayer, {'pool_size': 2}),\n",
    "    (DenseLayer, {'num_units': 64}),\n",
    "    (DropoutLayer, {}),\n",
    "    (DenseLayer, {'num_units': 10, 'nonlinearity': softmax}),\n",
    "]"
   ]
  },
  {
   "cell_type": "code",
   "execution_count": 61,
   "metadata": {
    "collapsed": true
   },
   "outputs": [],
   "source": [
    "def dump_intermediate_layer(layer, test_input):\n",
    "    input_var = get_all_layers(layer)[0].input_var\n",
    "    layer_out = get_output(layer, input_var)\n",
    "    f = theano.function([input_var], layer_out)\n",
    "    def after_epoch(net, info):\n",
    "        print f(test_input)\n",
    "    return after_epoch"
   ]
  },
  {
   "cell_type": "code",
   "execution_count": 74,
   "metadata": {
    "collapsed": false
   },
   "outputs": [
    {
     "data": {
      "text/plain": [
       "0.0002"
      ]
     },
     "execution_count": 74,
     "metadata": {},
     "output_type": "execute_result"
    }
   ],
   "source": [
    "net0.update_learning_rate"
   ]
  },
  {
   "cell_type": "code",
   "execution_count": 67,
   "metadata": {
    "collapsed": false
   },
   "outputs": [],
   "source": [
    "net0 = NeuralNet(\n",
    "    layers=layers0,\n",
    "    max_epochs=10,\n",
    "    update=adam,\n",
    "    update_learning_rate=0.0002,\n",
    "    objective_l2=0.0025,\n",
    "    train_split=TrainSplit(eval_size=0.0),\n",
    "    verbose=1,\n",
    ")\n",
    "net0.initialize()\n",
    "net0.on_epoch_finished = [\n",
    "    dump_intermediate_layer( net0.get_all_layers()[-2], X[0:1])    \n",
    "]"
   ]
  },
  {
   "cell_type": "code",
   "execution_count": 68,
   "metadata": {
    "collapsed": false
   },
   "outputs": [
    {
     "name": "stdout",
     "output_type": "stream",
     "text": [
      "<lasagne.layers.input.InputLayer object at 0x116e49350> (None, 1, 28, 28)\n",
      "<lasagne.layers.conv.Conv2DLayer object at 0x116e49c90> (None, 96, 24, 24)\n",
      "<lasagne.layers.conv.Conv2DLayer object at 0x110a389d0> (None, 96, 22, 22)\n",
      "<lasagne.layers.conv.Conv2DLayer object at 0x10e332fd0> (None, 96, 20, 20)\n",
      "<lasagne.layers.conv.Conv2DLayer object at 0x11872a4d0> (None, 96, 18, 18)\n",
      "<lasagne.layers.conv.Conv2DLayer object at 0x118814290> (None, 96, 16, 16)\n",
      "<lasagne.layers.pool.MaxPool2DLayer object at 0x11882ee90> (None, 96, 8, 8)\n",
      "<lasagne.layers.conv.Conv2DLayer object at 0x11883ded0> (None, 128, 6, 6)\n",
      "<lasagne.layers.conv.Conv2DLayer object at 0x118746cd0> (None, 128, 4, 4)\n",
      "<lasagne.layers.conv.Conv2DLayer object at 0x11876e810> (None, 128, 2, 2)\n",
      "<lasagne.layers.pool.MaxPool2DLayer object at 0x116a23390> (None, 128, 1, 1)\n",
      "<lasagne.layers.dense.DenseLayer object at 0x116a23f50> (None, 64)\n",
      "<lasagne.layers.noise.DropoutLayer object at 0x119e3d350> (None, 64)\n",
      "<lasagne.layers.dense.DenseLayer object at 0x119b10e50> (None, 10)\n"
     ]
    }
   ],
   "source": [
    "for layer in net0.get_all_layers():\n",
    "    print layer, layer.output_shape"
   ]
  },
  {
   "cell_type": "code",
   "execution_count": 73,
   "metadata": {
    "collapsed": false
   },
   "outputs": [
    {
     "name": "stdout",
     "output_type": "stream",
     "text": [
      "# Neural Network with 749450 learnable parameters\n",
      "\n",
      "## Layer information\n",
      "\n",
      "  #  name         size\n",
      "---  -----------  --------\n",
      "  0  input0       1x28x28\n",
      "  1  conv2d1      96x24x24\n",
      "  2  conv2d2      96x22x22\n",
      "  3  conv2d3      96x20x20\n",
      "  4  conv2d4      96x18x18\n",
      "  5  conv2d5      96x16x16\n",
      "  6  maxpool2d6   96x8x8\n",
      "  7  conv2d7      128x6x6\n",
      "  8  conv2d8      128x4x4\n",
      "  9  conv2d9      128x2x2\n",
      " 10  maxpool2d10  128x1x1\n",
      " 11  dense11      64\n",
      " 12  dropout12    64\n",
      " 13  dense13      10\n",
      "\n",
      "[[ 0.          0.          0.          0.          0.          0.          0.\n",
      "   0.          0.          0.01763937  0.          0.          0.02200288\n",
      "   0.          0.          0.02756306  0.          0.          0.\n",
      "   0.01850183  0.05389618  0.          0.          0.01612351  0.          0.\n",
      "   0.          0.          0.          0.          0.02602817  0.04100121\n",
      "   0.          0.0208814   0.01848322  0.03867007  0.          0.          0.\n",
      "   0.05974561  0.00022636  0.          0.          0.          0.          0.\n",
      "   0.02280702  0.          0.          0.          0.         -0.          0.\n",
      "   0.          0.          0.          0.          0.          0.          0.\n",
      "   0.          0.          0.          0.        ]]\n",
      "[[  0.00000000e+00   0.00000000e+00   0.00000000e+00   0.00000000e+00\n",
      "    0.00000000e+00   0.00000000e+00   0.00000000e+00   4.87890978e-19\n",
      "    0.00000000e+00   0.00000000e+00   0.00000000e+00   0.00000000e+00\n",
      "    3.22167737e-02   0.00000000e+00   0.00000000e+00   3.39858050e-02\n",
      "    0.00000000e+00   0.00000000e+00   0.00000000e+00   0.00000000e+00\n",
      "    6.73389519e-02   0.00000000e+00   0.00000000e+00   0.00000000e+00\n",
      "    0.00000000e+00   0.00000000e+00   0.00000000e+00   0.00000000e+00\n",
      "    0.00000000e+00   0.00000000e+00   4.31742549e-02   4.74388331e-02\n",
      "    2.08955892e-03   2.33457639e-02   0.00000000e+00   5.45366373e-02\n",
      "    0.00000000e+00   0.00000000e+00   0.00000000e+00   0.00000000e+00\n",
      "    0.00000000e+00  -2.16840434e-19   0.00000000e+00   0.00000000e+00\n",
      "    0.00000000e+00   3.29122342e-03   0.00000000e+00   0.00000000e+00\n",
      "    0.00000000e+00   0.00000000e+00   0.00000000e+00   0.00000000e+00\n",
      "    1.79594433e-03   2.00376732e-03   0.00000000e+00   0.00000000e+00\n",
      "    0.00000000e+00   0.00000000e+00   0.00000000e+00   0.00000000e+00\n",
      "    0.00000000e+00   0.00000000e+00   3.15676422e-02   0.00000000e+00]]\n",
      "[[  5.47566323e-02   3.90698316e-03   0.00000000e+00   0.00000000e+00\n",
      "    0.00000000e+00   0.00000000e+00   0.00000000e+00  -1.62630326e-19\n",
      "    0.00000000e+00  -4.33680869e-19   0.00000000e+00   0.00000000e+00\n",
      "    0.00000000e+00   0.00000000e+00   6.80102196e-02   4.59124032e-02\n",
      "    0.00000000e+00   0.00000000e+00   0.00000000e+00   4.50728476e-02\n",
      "    0.00000000e+00   0.00000000e+00   0.00000000e+00   5.51737551e-02\n",
      "    0.00000000e+00   0.00000000e+00   0.00000000e+00   0.00000000e+00\n",
      "    0.00000000e+00   0.00000000e+00   0.00000000e+00   6.64222677e-02\n",
      "    1.00392251e-02   3.38959318e-02   2.12629932e-02   8.89522691e-02\n",
      "    0.00000000e+00   0.00000000e+00   0.00000000e+00   1.36320715e-01\n",
      "    0.00000000e+00  -0.00000000e+00   0.00000000e+00   2.21174428e-02\n",
      "    0.00000000e+00   0.00000000e+00   3.34824586e-02   0.00000000e+00\n",
      "    0.00000000e+00   2.63937687e-03   0.00000000e+00   0.00000000e+00\n",
      "    0.00000000e+00   0.00000000e+00   0.00000000e+00   0.00000000e+00\n",
      "    0.00000000e+00   0.00000000e+00   0.00000000e+00   0.00000000e+00\n",
      "    2.24595024e-02   0.00000000e+00   4.52964455e-02   0.00000000e+00]]\n",
      "[[  7.13443468e-02   4.25000311e-03   0.00000000e+00   0.00000000e+00\n",
      "    0.00000000e+00   0.00000000e+00   0.00000000e+00  -0.00000000e+00\n",
      "    0.00000000e+00   0.00000000e+00   0.00000000e+00   0.00000000e+00\n",
      "    0.00000000e+00   0.00000000e+00   0.00000000e+00   6.51756481e-02\n",
      "    0.00000000e+00   0.00000000e+00   0.00000000e+00   6.97504275e-02\n",
      "    0.00000000e+00   0.00000000e+00   0.00000000e+00   7.15593192e-02\n",
      "    0.00000000e+00   0.00000000e+00   0.00000000e+00   0.00000000e+00\n",
      "    0.00000000e+00   0.00000000e+00   1.03518296e-01   8.83875418e-02\n",
      "    2.06053717e-02   4.19744170e-02   1.86310218e-02   1.40474539e-01\n",
      "    0.00000000e+00   0.00000000e+00   0.00000000e+00   0.00000000e+00\n",
      "    0.00000000e+00  -4.33680869e-19   0.00000000e+00   3.24945261e-02\n",
      "    0.00000000e+00   5.30316286e-03   4.83756037e-02   0.00000000e+00\n",
      "    0.00000000e+00   1.70546066e-02   9.43380441e-02   0.00000000e+00\n",
      "    3.37283446e-03  -0.00000000e+00   0.00000000e+00   0.00000000e+00\n",
      "    0.00000000e+00   0.00000000e+00   0.00000000e+00   0.00000000e+00\n",
      "    0.00000000e+00   0.00000000e+00   6.11733176e-02   0.00000000e+00]]\n",
      "[[  0.00000000e+00  -8.13151629e-20   0.00000000e+00   0.00000000e+00\n",
      "    0.00000000e+00   0.00000000e+00   0.00000000e+00  -0.00000000e+00\n",
      "    1.86980748e-01  -5.42101086e-19   0.00000000e+00   4.48744154e-02\n",
      "    0.00000000e+00   0.00000000e+00   0.00000000e+00   0.00000000e+00\n",
      "    0.00000000e+00   0.00000000e+00   0.00000000e+00   9.68031950e-02\n",
      "    1.54633355e-01   0.00000000e+00   0.00000000e+00   0.00000000e+00\n",
      "    0.00000000e+00   0.00000000e+00   0.00000000e+00   0.00000000e+00\n",
      "    0.00000000e+00   0.00000000e+00   0.00000000e+00   1.19230814e-01\n",
      "    2.59139465e-02   4.95180685e-02   7.15492625e-03   0.00000000e+00\n",
      "    0.00000000e+00   0.00000000e+00   0.00000000e+00   2.86731878e-01\n",
      "    0.00000000e+00   0.00000000e+00   0.00000000e+00   0.00000000e+00\n",
      "    0.00000000e+00   4.57048005e-03   0.00000000e+00   0.00000000e+00\n",
      "    0.00000000e+00   0.00000000e+00   0.00000000e+00   5.79419381e-03\n",
      "    0.00000000e+00  -0.00000000e+00   0.00000000e+00   0.00000000e+00\n",
      "    0.00000000e+00   0.00000000e+00   0.00000000e+00   0.00000000e+00\n",
      "    0.00000000e+00   0.00000000e+00   7.63432855e-02   0.00000000e+00]]\n",
      "[[  1.29166717e-01  -0.00000000e+00   0.00000000e+00   0.00000000e+00\n",
      "    0.00000000e+00   0.00000000e+00   1.76253152e-03  -3.46944695e-18\n",
      "    2.70471287e-01  -2.16840434e-19   0.00000000e+00   5.85486650e-02\n",
      "    1.73887212e-01   0.00000000e+00   1.84495952e-01   0.00000000e+00\n",
      "    0.00000000e+00   0.00000000e+00   0.00000000e+00   0.00000000e+00\n",
      "    2.15877778e-01   0.00000000e+00   0.00000000e+00   1.36047515e-01\n",
      "    0.00000000e+00   0.00000000e+00   0.00000000e+00   0.00000000e+00\n",
      "    0.00000000e+00   0.00000000e+00   0.00000000e+00   1.63311311e-01\n",
      "    0.00000000e+00   6.84363844e-02   4.18623360e-03   2.97026125e-01\n",
      "    0.00000000e+00   0.00000000e+00   0.00000000e+00   4.21685111e-01\n",
      "    0.00000000e+00   0.00000000e+00   0.00000000e+00   7.23691548e-02\n",
      "    0.00000000e+00   0.00000000e+00   0.00000000e+00   0.00000000e+00\n",
      "    0.00000000e+00   4.76425785e-02   0.00000000e+00   0.00000000e+00\n",
      "    1.08420217e-19   1.08420217e-19   0.00000000e+00   0.00000000e+00\n",
      "    0.00000000e+00   0.00000000e+00   0.00000000e+00   0.00000000e+00\n",
      "    6.11230585e-02   0.00000000e+00   1.04434585e-01   0.00000000e+00]]\n",
      "[[  1.81677936e-01   0.00000000e+00   0.00000000e+00   0.00000000e+00\n",
      "    0.00000000e+00   0.00000000e+00   1.32911339e-02  -1.08420217e-18\n",
      "    0.00000000e+00  -2.27682456e-18   0.00000000e+00   7.50889258e-02\n",
      "    0.00000000e+00   0.00000000e+00   2.43804777e-01   0.00000000e+00\n",
      "    0.00000000e+00   0.00000000e+00   0.00000000e+00   0.00000000e+00\n",
      "    2.88973231e-01   0.00000000e+00   0.00000000e+00   0.00000000e+00\n",
      "    0.00000000e+00   0.00000000e+00   0.00000000e+00   0.00000000e+00\n",
      "    0.00000000e+00   0.00000000e+00   2.90008248e-01   0.00000000e+00\n",
      "    1.16309849e-01   8.45951857e-02  -2.16840434e-19   3.91154813e-01\n",
      "    0.00000000e+00  -0.00000000e+00   0.00000000e+00   5.78330887e-01\n",
      "    0.00000000e+00   3.14418630e-18   0.00000000e+00   0.00000000e+00\n",
      "    0.00000000e+00   0.00000000e+00   1.05734686e-01   0.00000000e+00\n",
      "    0.00000000e+00   4.49464553e-02   0.00000000e+00   1.08420217e-19\n",
      "    0.00000000e+00  -4.87890978e-19   0.00000000e+00   0.00000000e+00\n",
      "    0.00000000e+00   0.00000000e+00   0.00000000e+00   0.00000000e+00\n",
      "    7.54347891e-02   0.00000000e+00   1.46168100e-01   0.00000000e+00]]\n",
      "[[  0.00000000e+00   9.75781955e-19   0.00000000e+00   0.00000000e+00\n",
      "    0.00000000e+00   0.00000000e+00  -8.13151629e-19  -0.00000000e+00\n",
      "    5.17304311e-01   1.62630326e-18   0.00000000e+00   9.01445974e-02\n",
      "    3.22922391e-01   0.00000000e+00   0.00000000e+00   0.00000000e+00\n",
      "    0.00000000e+00   0.00000000e+00   0.00000000e+00   2.72908731e-01\n",
      "    3.85290246e-01   0.00000000e+00   0.00000000e+00   0.00000000e+00\n",
      "    0.00000000e+00   0.00000000e+00   0.00000000e+00   0.00000000e+00\n",
      "    0.00000000e+00   0.00000000e+00   0.00000000e+00   2.61140329e-01\n",
      "    1.70818208e-01   1.03051849e-01   4.33680869e-19   5.23585758e-01\n",
      "    0.00000000e+00   2.16840434e-19   0.00000000e+00   0.00000000e+00\n",
      "    0.00000000e+00  -0.00000000e+00   0.00000000e+00   8.86229615e-02\n",
      "    0.00000000e+00   0.00000000e+00   1.22193243e-01   0.00000000e+00\n",
      "    0.00000000e+00   0.00000000e+00   2.96510906e-01   0.00000000e+00\n",
      "    0.00000000e+00  -1.73472348e-18   0.00000000e+00   0.00000000e+00\n",
      "    0.00000000e+00   0.00000000e+00   0.00000000e+00   0.00000000e+00\n",
      "    1.06204288e-01   0.00000000e+00   1.88559957e-01   0.00000000e+00]]\n",
      "[[  3.37367182e-01   1.62630326e-18   0.00000000e+00   0.00000000e+00\n",
      "    0.00000000e+00   0.00000000e+00   1.05709712e-18  -1.84314369e-18\n",
      "    7.33233138e-01  -2.60208521e-18   0.00000000e+00   1.21233312e-01\n",
      "    0.00000000e+00   0.00000000e+00   4.34217468e-01   0.00000000e+00\n",
      "    0.00000000e+00   0.00000000e+00   0.00000000e+00   0.00000000e+00\n",
      "    0.00000000e+00   0.00000000e+00   0.00000000e+00   3.56344605e-01\n",
      "    0.00000000e+00   0.00000000e+00   0.00000000e+00   0.00000000e+00\n",
      "    0.00000000e+00   0.00000000e+00   5.47265688e-01   3.52756657e-01\n",
      "    0.00000000e+00   1.59198602e-01   0.00000000e+00   7.25662345e-01\n",
      "    0.00000000e+00   2.05998413e-18   0.00000000e+00   0.00000000e+00\n",
      "    0.00000000e+00   1.19262239e-18   0.00000000e+00   0.00000000e+00\n",
      "    0.00000000e+00   0.00000000e+00   1.42352014e-01   0.00000000e+00\n",
      "    0.00000000e+00   8.90114605e-02   0.00000000e+00  -0.00000000e+00\n",
      "    0.00000000e+00   0.00000000e+00   0.00000000e+00   0.00000000e+00\n",
      "    0.00000000e+00   0.00000000e+00   0.00000000e+00   0.00000000e+00\n",
      "    0.00000000e+00   0.00000000e+00   0.00000000e+00   0.00000000e+00]]\n",
      "[[  4.72163176e-01  -0.00000000e+00   0.00000000e+00   0.00000000e+00\n",
      "    0.00000000e+00   0.00000000e+00   3.36102673e-18   1.17093835e-17\n",
      "    0.00000000e+00  -0.00000000e+00   0.00000000e+00   0.00000000e+00\n",
      "    0.00000000e+00   0.00000000e+00   5.85000576e-01   1.48871975e-01\n",
      "    0.00000000e+00   0.00000000e+00   0.00000000e+00   5.72757520e-01\n",
      "    0.00000000e+00   0.00000000e+00   0.00000000e+00   0.00000000e+00\n",
      "    0.00000000e+00   0.00000000e+00   0.00000000e+00   0.00000000e+00\n",
      "    0.00000000e+00   0.00000000e+00   7.52216496e-01   0.00000000e+00\n",
      "    0.00000000e+00   2.45934938e-01   6.50521303e-19   1.00495200e+00\n",
      "    0.00000000e+00   0.00000000e+00   0.00000000e+00   1.44452527e+00\n",
      "    0.00000000e+00  -6.17995238e-18   0.00000000e+00   0.00000000e+00\n",
      "    0.00000000e+00  -0.00000000e+00   1.78271684e-01   0.00000000e+00\n",
      "    0.00000000e+00   9.91958785e-02   0.00000000e+00   0.00000000e+00\n",
      "    0.00000000e+00   0.00000000e+00   0.00000000e+00   0.00000000e+00\n",
      "    0.00000000e+00   0.00000000e+00   0.00000000e+00   0.00000000e+00\n",
      "    1.95010712e-01   0.00000000e+00   0.00000000e+00   0.00000000e+00]]\n"
     ]
    },
    {
     "data": {
      "text/plain": [
       "NeuralNet(X_tensor_type=None,\n",
       "     batch_iterator_test=<nolearn.lasagne.base.BatchIterator object at 0x10d69f0d0>,\n",
       "     batch_iterator_train=<nolearn.lasagne.base.BatchIterator object at 0x10d693f10>,\n",
       "     check_input=True, custom_scores=None,\n",
       "     layers=[(<class 'lasagne.layers.input.InputLayer'>, {'shape': (None, 1, 28, 28)}), (<class 'lasagne.layers.conv.Conv2DLayer'>, {'filter_size': 5, 'num_filters': 96}), (<class 'lasagne.layers.conv.Conv2DLayer'>, {'filter_size': 3, 'num_filters': 96}), (<class 'lasagne.layers.conv.Conv2DLayer'>, {'fil...ne.layers.dense.DenseLayer'>, {'num_units': 10, 'nonlinearity': <function softmax at 0x10c695c80>})],\n",
       "     loss=None, max_epochs=10, more_params={},\n",
       "     objective=<function objective at 0x10d69cd70>, objective_l2=0.0025,\n",
       "     objective_loss_function=<function categorical_crossentropy at 0x10d141f50>,\n",
       "     on_batch_finished=[],\n",
       "     on_epoch_finished=[<function after_epoch at 0x1189c8ed8>],\n",
       "     on_training_finished=[],\n",
       "     on_training_started=[<nolearn.lasagne.handlers.PrintLayerInfo instance at 0x118769f38>],\n",
       "     regression=False, scores_train=[], scores_valid=[],\n",
       "     train_split=<nolearn.lasagne.base.TrainSplit object at 0x116e490d0>,\n",
       "     update=<function adam at 0x10d146938>, update_learning_rate=0.0002,\n",
       "     use_label_encoder=False, verbose=1,\n",
       "     y_tensor_type=TensorType(int32, vector))"
      ]
     },
     "execution_count": 73,
     "metadata": {},
     "output_type": "execute_result"
    }
   ],
   "source": [
    "net0.fit(X[0:1],y[0:1])"
   ]
  },
  {
   "cell_type": "code",
   "execution_count": null,
   "metadata": {
    "collapsed": true
   },
   "outputs": [],
   "source": []
  }
 ],
 "metadata": {
  "kernelspec": {
   "display_name": "Python 2",
   "language": "python",
   "name": "python2"
  },
  "language_info": {
   "codemirror_mode": {
    "name": "ipython",
    "version": 2
   },
   "file_extension": ".py",
   "mimetype": "text/x-python",
   "name": "python",
   "nbconvert_exporter": "python",
   "pygments_lexer": "ipython2",
   "version": "2.7.12"
  }
 },
 "nbformat": 4,
 "nbformat_minor": 0
}
