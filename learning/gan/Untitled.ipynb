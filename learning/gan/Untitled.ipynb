{
 "cells": [
  {
   "cell_type": "code",
   "execution_count": 1,
   "metadata": {
    "collapsed": false
   },
   "outputs": [
    {
     "name": "stdout",
     "output_type": "stream",
     "text": [
      "20news_w100.mat\n",
      "dr_sample\n",
      "mnist.pkl.gz\n",
      "mnist_cluttered_60x60_6distortions.npz\n",
      "mnist_pretrained.pkl\n"
     ]
    }
   ],
   "source": [
    "%%bash\n",
    "ls ../../data/"
   ]
  },
  {
   "cell_type": "markdown",
   "metadata": {},
   "source": [
    "Load the data"
   ]
  },
  {
   "cell_type": "code",
   "execution_count": 55,
   "metadata": {
    "collapsed": true
   },
   "outputs": [],
   "source": [
    "import matplotlib.pyplot as plt\n",
    "%matplotlib inline"
   ]
  },
  {
   "cell_type": "code",
   "execution_count": 2,
   "metadata": {
    "collapsed": true
   },
   "outputs": [],
   "source": [
    "import gzip\n",
    "import cPickle as pickle"
   ]
  },
  {
   "cell_type": "code",
   "execution_count": 3,
   "metadata": {
    "collapsed": true
   },
   "outputs": [],
   "source": [
    "with gzip.open(\"../../data/mnist.pkl.gz\") as f:\n",
    "    dat = pickle.load(f)"
   ]
  },
  {
   "cell_type": "code",
   "execution_count": 4,
   "metadata": {
    "collapsed": true
   },
   "outputs": [],
   "source": [
    "train_data, _, _ = dat\n",
    "X_train, y_train = train_data"
   ]
  },
  {
   "cell_type": "code",
   "execution_count": 6,
   "metadata": {
    "collapsed": false
   },
   "outputs": [
    {
     "data": {
      "text/plain": [
       "dtype('float32')"
      ]
     },
     "execution_count": 6,
     "metadata": {},
     "output_type": "execute_result"
    }
   ],
   "source": [
    "X_train.dtype"
   ]
  },
  {
   "cell_type": "code",
   "execution_count": 95,
   "metadata": {
    "collapsed": true
   },
   "outputs": [],
   "source": [
    "# for cnn mode\n",
    "X_train = X_train.reshape( (X_train.shape[0], 1, 28, 28) )"
   ]
  },
  {
   "cell_type": "code",
   "execution_count": 98,
   "metadata": {
    "collapsed": false
   },
   "outputs": [
    {
     "data": {
      "text/plain": [
       "<matplotlib.image.AxesImage at 0x115f16a50>"
      ]
     },
     "execution_count": 98,
     "metadata": {},
     "output_type": "execute_result"
    },
    {
     "data": {
      "image/png": "[encoded data removed]",
      "text/plain": [
       "<matplotlib.figure.Figure at 0x115ee53d0>"
      ]
     },
     "metadata": {},
     "output_type": "display_data"
    }
   ],
   "source": [
    "plt.imshow(X_train[1][0], cmap=\"gray\")"
   ]
  },
  {
   "cell_type": "code",
   "execution_count": 45,
   "metadata": {
    "collapsed": true
   },
   "outputs": [],
   "source": [
    "import theano\n",
    "from theano import tensor as T\n",
    "import lasagne\n",
    "from lasagne.layers import *\n",
    "from lasagne.nonlinearities import *\n",
    "from lasagne.init import *\n",
    "from lasagne.objectives import *\n",
    "import numpy as np\n",
    "from lasagne.updates import *"
   ]
  },
  {
   "cell_type": "markdown",
   "metadata": {},
   "source": [
    "Define the model architecture"
   ]
  },
  {
   "cell_type": "code",
   "execution_count": 13,
   "metadata": {
    "collapsed": true
   },
   "outputs": [],
   "source": [
    "def build_model():\n",
    "    num_input = 28 * 28\n",
    "    # should really use more dimensions, but this is nice for visualization\n",
    "    num_code = 2\n",
    "    num_hidden = 1000\n",
    "\n",
    "    l_encoder_in = InputLayer((None, num_input), name='l_encoder_in')\n",
    "\n",
    "    # first layer of the encoder/generator\n",
    "    l_dense1 = DenseLayer(\n",
    "        l_encoder_in, num_units=num_hidden, nonlinearity=rectify,\n",
    "        name='l_encoder_dense1',\n",
    "    )\n",
    "    l_dense1.params[l_dense1.W].add('generator')\n",
    "    l_dense1.params[l_dense1.b].add('generator')\n",
    "\n",
    "    # second layer of the encoder/generator\n",
    "    l_dense2 = DenseLayer(\n",
    "        l_dense1, num_units=num_hidden, nonlinearity=rectify,\n",
    "        name='l_encoder_dense2',\n",
    "    )\n",
    "    l_dense2.params[l_dense2.W].add('generator')\n",
    "    l_dense2.params[l_dense2.b].add('generator')\n",
    "\n",
    "    # output of the encoder/generator: q(z|x)\n",
    "    l_encoder_out = DenseLayer(\n",
    "        l_dense2, num_units=num_code, nonlinearity=linear,\n",
    "        name='l_encoder_out',\n",
    "    )\n",
    "    l_encoder_out.params[l_encoder_out.W].add('generator')\n",
    "    l_encoder_out.params[l_encoder_out.b].add('generator')\n",
    "\n",
    "    # first layer of the decoder\n",
    "    l_decoder_in = DenseLayer(\n",
    "        l_encoder_out, num_units=num_hidden, nonlinearity=rectify,\n",
    "        name='l_decoder_dense1',\n",
    "    )\n",
    "    # second layer of the decoder\n",
    "    l_dense5 = DenseLayer(\n",
    "        l_decoder_in, num_units=num_hidden, nonlinearity=rectify,\n",
    "        name='l_decoder_dense2',\n",
    "    )\n",
    "\n",
    "    # output of the decoder: p(x|z)\n",
    "    l_decoder_out = DenseLayer(\n",
    "        l_dense5, num_units=num_input, nonlinearity=sigmoid,\n",
    "        name='l_decoder_out',\n",
    "    )\n",
    "\n",
    "    # print output of encoder\n",
    "    print \"encoder/decoder:\"\n",
    "    for layer in get_all_layers(l_decoder_out):\n",
    "        print layer, layer.name, layer.output_shape\n",
    "\n",
    "    # --------------------------------------------------------------------------\n",
    "        \n",
    "    # input layer providing samples from p(z)\n",
    "    l_prior = InputLayer((None, num_code), name='l_prior_in')\n",
    "\n",
    "    # concatenate samples from q(z|x) to samples from p(z)\n",
    "    l_concat = ConcatLayer(\n",
    "        [l_encoder_out, l_prior], axis=0, name='l_prior_encoder_concat',\n",
    "    )\n",
    "\n",
    "    # first layer of the discriminator\n",
    "    l_dense6 = DenseLayer(\n",
    "        l_concat, num_units=num_hidden, nonlinearity=rectify,\n",
    "        name='l_discriminator_dense1',\n",
    "    )\n",
    "    l_dense6.params[l_dense6.W].add('discriminator')\n",
    "    l_dense6.params[l_dense6.b].add('discriminator')\n",
    "\n",
    "    # second layer of the discriminator\n",
    "    l_dense7 = DenseLayer(\n",
    "        l_dense6, num_units=num_hidden, nonlinearity=rectify,\n",
    "        name='l_discriminator_dense2',\n",
    "    )\n",
    "    l_dense7.params[l_dense7.W].add('discriminator')\n",
    "    l_dense7.params[l_dense7.b].add('discriminator')\n",
    "\n",
    "    # output layer of the discriminator\n",
    "    l_discriminator_out = DenseLayer(\n",
    "        l_dense7, num_units=1, nonlinearity=sigmoid,\n",
    "        name='l_discriminator_out',\n",
    "    )\n",
    "    l_discriminator_out.params[l_discriminator_out.W].add('discriminator')\n",
    "    l_discriminator_out.params[l_discriminator_out.b].add('discriminator')\n",
    "\n",
    "    print \"discriminator:\"\n",
    "    for layer in get_all_layers(l_discriminator_out):\n",
    "        print layer, layer.name, layer.output_shape\n",
    "        \n",
    "    model_layers = get_all_layers([l_decoder_out, l_discriminator_out])\n",
    "\n",
    "    # put all layers in a dictionary for convenience\n",
    "    return {layer.name: layer for layer in model_layers}\n"
   ]
  },
  {
   "cell_type": "code",
   "execution_count": 123,
   "metadata": {
    "collapsed": false
   },
   "outputs": [],
   "source": [
    "def build_model_cnn():\n",
    "    # should really use more dimensions, but this is nice for visualization\n",
    "    num_code = 2\n",
    "    num_hidden = 64\n",
    "\n",
    "    l_encoder_in = InputLayer((None, 1, 28, 28), name='l_encoder_in')\n",
    "    \n",
    "    l_conv1 = Conv2DLayer(l_encoder_in, filter_size=3, num_filters=8, name=\"conv1\")\n",
    "    l_conv1.params[l_conv1.W].add(\"generator\")\n",
    "    l_conv1.params[l_conv1.b].add(\"generator\")\n",
    "                   \n",
    "    l_mp1 = Pool2DLayer(l_conv1, pool_size=2, name=\"mp1\", mode=\"average_inc_pad\")\n",
    "                   \n",
    "    l_conv2 = Conv2DLayer(l_mp1, filter_size=3, num_filters=16, name=\"conv2\")\n",
    "    l_conv2.params[l_conv2.W].add(\"generator\")\n",
    "    l_conv2.params[l_conv2.b].add(\"generator\")\n",
    "                   \n",
    "    l_mp2 = Pool2DLayer(l_conv2, pool_size=2, name=\"mp2\", mode=\"average_inc_pad\")\n",
    "    \n",
    "    # output of the encoder/generator: q(z|x)\n",
    "    l_encoder_out = DenseLayer(l_mp2, num_units=num_code, nonlinearity=rectify, name=\"l_encoder_out\")\n",
    "    l_encoder_out.params[l_encoder_out.W].add('generator')\n",
    "    l_encoder_out.params[l_encoder_out.b].add('generator')\n",
    "        \n",
    "    l_decoder_out = l_encoder_out\n",
    "    k = 0\n",
    "    for layer in get_all_layers(l_encoder_out)[::-1]:\n",
    "        if isinstance(layer, InputLayer):\n",
    "            break\n",
    "        l_decoder_out = InverseLayer(l_decoder_out, layer, name=\"inv%i\" % k)\n",
    "        k += 1\n",
    "    # output of the decoder: p(x|z)\n",
    "    l_decoder_out.name = \"l_decoder_out\"\n",
    "    l_decoder_out.nonlinearity = sigmoid\n",
    "\n",
    "    # print output of encoder\n",
    "    print \"encoder/decoder:\"\n",
    "    for layer in get_all_layers(l_decoder_out):\n",
    "        print layer, layer.name, layer.output_shape\n",
    "\n",
    "    # --------------------------------------------------------------------------\n",
    "\n",
    "    # input layer providing samples from p(z)\n",
    "    l_prior = InputLayer((None, num_code), name='l_prior_in')\n",
    "\n",
    "    # concatenate samples from q(z|x) to samples from p(z)\n",
    "    l_concat = ConcatLayer(\n",
    "        [l_encoder_out, l_prior], axis=0, name='l_prior_encoder_concat',\n",
    "    )\n",
    "\n",
    "    # first layer of the discriminator\n",
    "    l_dense6 = DenseLayer(\n",
    "        l_concat, num_units=num_hidden, nonlinearity=rectify,\n",
    "        name='l_discriminator_dense1',\n",
    "    )\n",
    "    l_dense6.params[l_dense6.W].add('discriminator')\n",
    "    l_dense6.params[l_dense6.b].add('discriminator')\n",
    "\n",
    "    # second layer of the discriminator\n",
    "    l_dense7 = DenseLayer(\n",
    "        l_dense6, num_units=num_hidden, nonlinearity=rectify,\n",
    "        name='l_discriminator_dense2',\n",
    "    )\n",
    "    l_dense7.params[l_dense7.W].add('discriminator')\n",
    "    l_dense7.params[l_dense7.b].add('discriminator')\n",
    "\n",
    "    # output layer of the discriminator\n",
    "    l_discriminator_out = DenseLayer(\n",
    "        l_dense7, num_units=1, nonlinearity=sigmoid,\n",
    "        name='l_discriminator_out',\n",
    "    )\n",
    "    l_discriminator_out.params[l_discriminator_out.W].add('discriminator')\n",
    "    l_discriminator_out.params[l_discriminator_out.b].add('discriminator')\n",
    "\n",
    "    print \"discriminator:\"\n",
    "    for layer in get_all_layers(l_discriminator_out):\n",
    "        print layer, layer.name, layer.output_shape\n",
    "        \n",
    "    model_layers = get_all_layers([l_decoder_out, l_discriminator_out])\n",
    "\n",
    "    # put all layers in a dictionary for convenience\n",
    "    return {layer.name: layer for layer in model_layers}\n",
    "    \n",
    "\n"
   ]
  },
  {
   "cell_type": "code",
   "execution_count": 14,
   "metadata": {
    "collapsed": false
   },
   "outputs": [
    {
     "name": "stdout",
     "output_type": "stream",
     "text": [
      "encoder/decoder:\n",
      "<lasagne.layers.input.InputLayer object at 0x103cc8110> l_encoder_in (None, 784)\n",
      "<lasagne.layers.dense.DenseLayer object at 0x10c437790> l_encoder_dense1 (None, 1000)\n",
      "<lasagne.layers.dense.DenseLayer object at 0x10c4d4090> l_encoder_dense2 (None, 1000)\n",
      "<lasagne.layers.dense.DenseLayer object at 0x10c4b0610> l_encoder_out (None, 2)\n",
      "<lasagne.layers.dense.DenseLayer object at 0x10c4b0850> l_decoder_dense1 (None, 1000)\n",
      "<lasagne.layers.dense.DenseLayer object at 0x10c4b0a90> l_decoder_dense2 (None, 1000)\n",
      "<lasagne.layers.dense.DenseLayer object at 0x10c4b0cd0> l_decoder_out (None, 784)\n",
      "discriminator:\n",
      "<lasagne.layers.input.InputLayer object at 0x103cc8110> l_encoder_in (None, 784)\n",
      "<lasagne.layers.dense.DenseLayer object at 0x10c437790> l_encoder_dense1 (None, 1000)\n",
      "<lasagne.layers.dense.DenseLayer object at 0x10c4d4090> l_encoder_dense2 (None, 1000)\n",
      "<lasagne.layers.dense.DenseLayer object at 0x10c4b0610> l_encoder_out (None, 2)\n",
      "<lasagne.layers.input.InputLayer object at 0x10c4b0f10> l_prior_in (None, 2)\n",
      "<lasagne.layers.merge.ConcatLayer object at 0x10c4c30d0> l_prior_encoder_concat (None, 2)\n",
      "<lasagne.layers.dense.DenseLayer object at 0x10c4c3110> l_discriminator_dense1 (None, 1000)\n",
      "<lasagne.layers.dense.DenseLayer object at 0x10c4c3310> l_discriminator_dense2 (None, 1000)\n",
      "<lasagne.layers.dense.DenseLayer object at 0x10c4c35d0> l_discriminator_out (None, 1)\n"
     ]
    }
   ],
   "source": [
    "model_dict = build_model()"
   ]
  },
  {
   "cell_type": "code",
   "execution_count": 124,
   "metadata": {
    "collapsed": false
   },
   "outputs": [
    {
     "name": "stdout",
     "output_type": "stream",
     "text": [
      "encoder/decoder:\n",
      "<lasagne.layers.input.InputLayer object at 0x1165e7750> l_encoder_in (None, 1, 28, 28)\n",
      "<lasagne.layers.conv.Conv2DLayer object at 0x1165e7850> conv1 (None, 8, 26, 26)\n",
      "<lasagne.layers.pool.Pool2DLayer object at 0x1165e7ad0> mp1 (None, 8, 13, 13)\n",
      "<lasagne.layers.conv.Conv2DLayer object at 0x1165e7a10> conv2 (None, 16, 11, 11)\n",
      "<lasagne.layers.pool.Pool2DLayer object at 0x1165e7d10> mp2 (None, 16, 5, 5)\n",
      "<lasagne.layers.dense.DenseLayer object at 0x1165e7e50> l_encoder_out (None, 2)\n",
      "<lasagne.layers.special.InverseLayer object at 0x1165e7150> inv0 (None, 16, 5, 5)\n",
      "<lasagne.layers.special.InverseLayer object at 0x1165e7210> inv1 (None, 16, 11, 11)\n",
      "<lasagne.layers.special.InverseLayer object at 0x1165e7250> inv2 (None, 8, 13, 13)\n",
      "<lasagne.layers.special.InverseLayer object at 0x1165e7290> inv3 (None, 8, 26, 26)\n",
      "<lasagne.layers.special.InverseLayer object at 0x1165e7090> l_decoder_out (None, 1, 28, 28)\n",
      "discriminator:\n",
      "<lasagne.layers.input.InputLayer object at 0x1165e7750> l_encoder_in (None, 1, 28, 28)\n",
      "<lasagne.layers.conv.Conv2DLayer object at 0x1165e7850> conv1 (None, 8, 26, 26)\n",
      "<lasagne.layers.pool.Pool2DLayer object at 0x1165e7ad0> mp1 (None, 8, 13, 13)\n",
      "<lasagne.layers.conv.Conv2DLayer object at 0x1165e7a10> conv2 (None, 16, 11, 11)\n",
      "<lasagne.layers.pool.Pool2DLayer object at 0x1165e7d10> mp2 (None, 16, 5, 5)\n",
      "<lasagne.layers.dense.DenseLayer object at 0x1165e7e50> l_encoder_out (None, 2)\n",
      "<lasagne.layers.input.InputLayer object at 0x1165e7f90> l_prior_in (None, 2)\n",
      "<lasagne.layers.merge.ConcatLayer object at 0x1165cedd0> l_prior_encoder_concat (None, 2)\n",
      "<lasagne.layers.dense.DenseLayer object at 0x1165cef10> l_discriminator_dense1 (None, 64)\n",
      "<lasagne.layers.dense.DenseLayer object at 0x1165f2ad0> l_discriminator_dense2 (None, 64)\n",
      "<lasagne.layers.dense.DenseLayer object at 0x116615090> l_discriminator_out (None, 1)\n"
     ]
    }
   ],
   "source": [
    "cnn_model_dict = build_model_cnn()"
   ]
  },
  {
   "cell_type": "code",
   "execution_count": 72,
   "metadata": {
    "collapsed": false
   },
   "outputs": [
    {
     "data": {
      "text/plain": [
       "{'l_decoder_dense1': <lasagne.layers.dense.DenseLayer at 0x10c4b0850>,\n",
       " 'l_decoder_dense2': <lasagne.layers.dense.DenseLayer at 0x10c4b0a90>,\n",
       " 'l_decoder_out': <lasagne.layers.dense.DenseLayer at 0x10c4b0cd0>,\n",
       " 'l_discriminator_dense1': <lasagne.layers.dense.DenseLayer at 0x10c4c3110>,\n",
       " 'l_discriminator_dense2': <lasagne.layers.dense.DenseLayer at 0x10c4c3310>,\n",
       " 'l_discriminator_out': <lasagne.layers.dense.DenseLayer at 0x10c4c35d0>,\n",
       " 'l_encoder_dense1': <lasagne.layers.dense.DenseLayer at 0x10c437790>,\n",
       " 'l_encoder_dense2': <lasagne.layers.dense.DenseLayer at 0x10c4d4090>,\n",
       " 'l_encoder_in': <lasagne.layers.input.InputLayer at 0x103cc8110>,\n",
       " 'l_encoder_out': <lasagne.layers.dense.DenseLayer at 0x10c4b0610>,\n",
       " 'l_prior_encoder_concat': <lasagne.layers.merge.ConcatLayer at 0x10c4c30d0>,\n",
       " 'l_prior_in': <lasagne.layers.input.InputLayer at 0x10c4b0f10>}"
      ]
     },
     "execution_count": 72,
     "metadata": {},
     "output_type": "execute_result"
    }
   ],
   "source": [
    "model_dict"
   ]
  },
  {
   "cell_type": "markdown",
   "metadata": {},
   "source": [
    "Create functions"
   ]
  },
  {
   "cell_type": "code",
   "execution_count": 125,
   "metadata": {
    "collapsed": true
   },
   "outputs": [],
   "source": [
    "# forward pass for the encoder, q(z|x)\n",
    "def create_encoder_func(layers):\n",
    "    X = T.tensor4('X')\n",
    "    X_batch = T.tensor4('X_batch')\n",
    "\n",
    "    Z = get_output(layers['l_encoder_out'], X, deterministic=True)\n",
    "    \n",
    "    encoder_func = theano.function(\n",
    "        inputs=[theano.In(X_batch)],\n",
    "        outputs=Z,\n",
    "        givens={\n",
    "            X: X_batch,\n",
    "        },\n",
    "    )\n",
    "    \n",
    "    return encoder_func\n"
   ]
  },
  {
   "cell_type": "code",
   "execution_count": 126,
   "metadata": {
    "collapsed": false
   },
   "outputs": [],
   "source": [
    "encoder_func = create_encoder_func(cnn_model_dict)"
   ]
  },
  {
   "cell_type": "code",
   "execution_count": 130,
   "metadata": {
    "collapsed": false
   },
   "outputs": [
    {
     "data": {
      "text/plain": [
       "array([[ 0.00901434,  0.        ]])"
      ]
     },
     "execution_count": 130,
     "metadata": {},
     "output_type": "execute_result"
    }
   ],
   "source": [
    "encoder_func(X_train[0:1])"
   ]
  },
  {
   "cell_type": "code",
   "execution_count": 145,
   "metadata": {
    "collapsed": false
   },
   "outputs": [
    {
     "name": "stdout",
     "output_type": "stream",
     "text": [
      "<lasagne.layers.input.InputLayer object at 0x1165e7750> l_encoder_in (None, 1, 28, 28)\n",
      "<lasagne.layers.conv.Conv2DLayer object at 0x1165e7850> conv1 (None, 8, 26, 26)\n",
      "<lasagne.layers.pool.Pool2DLayer object at 0x1165e7ad0> mp1 (None, 8, 13, 13)\n",
      "<lasagne.layers.conv.Conv2DLayer object at 0x1165e7a10> conv2 (None, 16, 11, 11)\n",
      "<lasagne.layers.pool.Pool2DLayer object at 0x1165e7d10> mp2 (None, 16, 5, 5)\n",
      "<lasagne.layers.dense.DenseLayer object at 0x1165e7e50> l_encoder_out (None, 2)\n",
      "<lasagne.layers.special.InverseLayer object at 0x1165e7150> inv0 (None, 16, 5, 5)\n",
      "<lasagne.layers.special.InverseLayer object at 0x1165e7210> inv1 (None, 16, 11, 11)\n",
      "<lasagne.layers.special.InverseLayer object at 0x1165e7250> inv2 (None, 8, 13, 13)\n",
      "<lasagne.layers.special.InverseLayer object at 0x1165e7290> inv3 (None, 8, 26, 26)\n",
      "<lasagne.layers.special.InverseLayer object at 0x1165e7090> l_decoder_out (None, 1, 28, 28)\n"
     ]
    }
   ],
   "source": [
    "for layer in get_all_layers(cnn_model_dict[\"l_decoder_out\"]):\n",
    "    print layer, layer.name, layer.output_shape"
   ]
  },
  {
   "cell_type": "code",
   "execution_count": 131,
   "metadata": {
    "collapsed": true
   },
   "outputs": [],
   "source": [
    "# forward pass for the decoder, p(x|z)\n",
    "def create_decoder_func(layers):\n",
    "    Z = T.fmatrix('Z')\n",
    "    Z_batch = T.fmatrix('Z_batch')\n",
    "\n",
    "    X = get_output(\n",
    "        layers['l_decoder_out'],\n",
    "        inputs={\n",
    "            layers['l_encoder_out']: Z\n",
    "        },\n",
    "        deterministic=True\n",
    "    )\n",
    "\n",
    "    decoder_func = theano.function(\n",
    "        inputs=[theano.In(Z_batch)],\n",
    "        outputs=X,\n",
    "        givens={\n",
    "            Z: Z_batch,\n",
    "        },\n",
    "    )\n",
    "\n",
    "    return decoder_func"
   ]
  },
  {
   "cell_type": "code",
   "execution_count": 136,
   "metadata": {
    "collapsed": false
   },
   "outputs": [
    {
     "ename": "DisconnectedInputError",
     "evalue": "grad method was asked to compute the gradient with respect to a variable that is not part of the computational graph of the cost, or is used only by a non-differentiable operator: Pool{ds=(2, 2), ignore_border=True, st=(2, 2), padding=(0, 0), mode='average_inc_pad'}.0\nBacktrace when the node is created:\n  File \"//anaconda/lib/python2.7/site-packages/Lasagne-0.2.dev1-py2.7.egg/lasagne/layers/pool.py\", line 267, in get_output_for\n    mode=self.mode,\n",
     "output_type": "error",
     "traceback": [
      "\u001b[0;31m---------------------------------------------------------------------------\u001b[0m",
      "\u001b[0;31mDisconnectedInputError\u001b[0m                    Traceback (most recent call last)",
      "\u001b[0;32m<ipython-input-136-04c3217af287>\u001b[0m in \u001b[0;36m<module>\u001b[0;34m()\u001b[0m\n\u001b[0;32m----> 1\u001b[0;31m \u001b[0mdecoder_func\u001b[0m \u001b[0;34m=\u001b[0m \u001b[0mcreate_decoder_func\u001b[0m\u001b[0;34m(\u001b[0m\u001b[0mcnn_model_dict\u001b[0m\u001b[0;34m)\u001b[0m\u001b[0;34m\u001b[0m\u001b[0m\n\u001b[0m",
      "\u001b[0;32m<ipython-input-131-a76037ceddaa>\u001b[0m in \u001b[0;36mcreate_decoder_func\u001b[0;34m(layers)\u001b[0m\n\u001b[1;32m      9\u001b[0m             \u001b[0mlayers\u001b[0m\u001b[0;34m[\u001b[0m\u001b[0;34m'l_encoder_out'\u001b[0m\u001b[0;34m]\u001b[0m\u001b[0;34m:\u001b[0m \u001b[0mZ\u001b[0m\u001b[0;34m\u001b[0m\u001b[0m\n\u001b[1;32m     10\u001b[0m         },\n\u001b[0;32m---> 11\u001b[0;31m         \u001b[0mdeterministic\u001b[0m\u001b[0;34m=\u001b[0m\u001b[0mTrue\u001b[0m\u001b[0;34m\u001b[0m\u001b[0m\n\u001b[0m\u001b[1;32m     12\u001b[0m     )\n\u001b[1;32m     13\u001b[0m \u001b[0;34m\u001b[0m\u001b[0m\n",
      "\u001b[0;32m//anaconda/lib/python2.7/site-packages/Lasagne-0.2.dev1-py2.7.egg/lasagne/layers/helper.pyc\u001b[0m in \u001b[0;36mget_output\u001b[0;34m(layer_or_layers, inputs, **kwargs)\u001b[0m\n\u001b[1;32m    189\u001b[0m                                  \u001b[0;34m\"mapping this layer to an input expression.\"\u001b[0m\u001b[0;34m\u001b[0m\u001b[0m\n\u001b[1;32m    190\u001b[0m                                  % layer)\n\u001b[0;32m--> 191\u001b[0;31m             \u001b[0mall_outputs\u001b[0m\u001b[0;34m[\u001b[0m\u001b[0mlayer\u001b[0m\u001b[0;34m]\u001b[0m \u001b[0;34m=\u001b[0m \u001b[0mlayer\u001b[0m\u001b[0;34m.\u001b[0m\u001b[0mget_output_for\u001b[0m\u001b[0;34m(\u001b[0m\u001b[0mlayer_inputs\u001b[0m\u001b[0;34m,\u001b[0m \u001b[0;34m**\u001b[0m\u001b[0mkwargs\u001b[0m\u001b[0;34m)\u001b[0m\u001b[0;34m\u001b[0m\u001b[0m\n\u001b[0m\u001b[1;32m    192\u001b[0m             \u001b[0;32mtry\u001b[0m\u001b[0;34m:\u001b[0m\u001b[0;34m\u001b[0m\u001b[0m\n\u001b[1;32m    193\u001b[0m                 \u001b[0mnames\u001b[0m\u001b[0;34m,\u001b[0m \u001b[0m_\u001b[0m\u001b[0;34m,\u001b[0m \u001b[0m_\u001b[0m\u001b[0;34m,\u001b[0m \u001b[0mdefaults\u001b[0m \u001b[0;34m=\u001b[0m \u001b[0mgetargspec\u001b[0m\u001b[0;34m(\u001b[0m\u001b[0mlayer\u001b[0m\u001b[0;34m.\u001b[0m\u001b[0mget_output_for\u001b[0m\u001b[0;34m)\u001b[0m\u001b[0;34m\u001b[0m\u001b[0m\n",
      "\u001b[0;32m//anaconda/lib/python2.7/site-packages/Lasagne-0.2.dev1-py2.7.egg/lasagne/layers/special.pyc\u001b[0m in \u001b[0;36mget_output_for\u001b[0;34m(self, inputs, **kwargs)\u001b[0m\n\u001b[1;32m    349\u001b[0m     \u001b[0;32mdef\u001b[0m \u001b[0mget_output_for\u001b[0m\u001b[0;34m(\u001b[0m\u001b[0mself\u001b[0m\u001b[0;34m,\u001b[0m \u001b[0minputs\u001b[0m\u001b[0;34m,\u001b[0m \u001b[0;34m**\u001b[0m\u001b[0mkwargs\u001b[0m\u001b[0;34m)\u001b[0m\u001b[0;34m:\u001b[0m\u001b[0;34m\u001b[0m\u001b[0m\n\u001b[1;32m    350\u001b[0m         \u001b[0minput\u001b[0m\u001b[0;34m,\u001b[0m \u001b[0mlayer_out\u001b[0m\u001b[0;34m,\u001b[0m \u001b[0mlayer_in\u001b[0m \u001b[0;34m=\u001b[0m \u001b[0minputs\u001b[0m\u001b[0;34m\u001b[0m\u001b[0m\n\u001b[0;32m--> 351\u001b[0;31m         \u001b[0;32mreturn\u001b[0m \u001b[0mtheano\u001b[0m\u001b[0;34m.\u001b[0m\u001b[0mgrad\u001b[0m\u001b[0;34m(\u001b[0m\u001b[0mNone\u001b[0m\u001b[0;34m,\u001b[0m \u001b[0mwrt\u001b[0m\u001b[0;34m=\u001b[0m\u001b[0mlayer_in\u001b[0m\u001b[0;34m,\u001b[0m \u001b[0mknown_grads\u001b[0m\u001b[0;34m=\u001b[0m\u001b[0;34m{\u001b[0m\u001b[0mlayer_out\u001b[0m\u001b[0;34m:\u001b[0m \u001b[0minput\u001b[0m\u001b[0;34m}\u001b[0m\u001b[0;34m)\u001b[0m\u001b[0;34m\u001b[0m\u001b[0m\n\u001b[0m\u001b[1;32m    352\u001b[0m \u001b[0;34m\u001b[0m\u001b[0m\n\u001b[1;32m    353\u001b[0m \u001b[0;34m\u001b[0m\u001b[0m\n",
      "\u001b[0;32m//anaconda/lib/python2.7/site-packages/Theano-0.8.0.dev0-py2.7.egg/theano/gradient.pyc\u001b[0m in \u001b[0;36mgrad\u001b[0;34m(cost, wrt, consider_constant, disconnected_inputs, add_names, known_grads, return_disconnected, null_gradients)\u001b[0m\n\u001b[1;32m    543\u001b[0m         \u001b[0;32mif\u001b[0m \u001b[0melem\u001b[0m \u001b[0;32mnot\u001b[0m \u001b[0;32min\u001b[0m \u001b[0mvar_to_app_to_idx\u001b[0m \u001b[0;32mand\u001b[0m \u001b[0melem\u001b[0m \u001b[0;32mis\u001b[0m \u001b[0;32mnot\u001b[0m \u001b[0mcost\u001b[0m\u001b[0;31m \u001b[0m\u001b[0;31m\\\u001b[0m\u001b[0;34m\u001b[0m\u001b[0m\n\u001b[1;32m    544\u001b[0m                 \u001b[0;32mand\u001b[0m \u001b[0melem\u001b[0m \u001b[0;32mnot\u001b[0m \u001b[0;32min\u001b[0m \u001b[0mgrad_dict\u001b[0m\u001b[0;34m:\u001b[0m\u001b[0;34m\u001b[0m\u001b[0m\n\u001b[0;32m--> 545\u001b[0;31m             \u001b[0mhandle_disconnected\u001b[0m\u001b[0;34m(\u001b[0m\u001b[0melem\u001b[0m\u001b[0;34m)\u001b[0m\u001b[0;34m\u001b[0m\u001b[0m\n\u001b[0m\u001b[1;32m    546\u001b[0m             \u001b[0mgrad_dict\u001b[0m\u001b[0;34m[\u001b[0m\u001b[0melem\u001b[0m\u001b[0;34m]\u001b[0m \u001b[0;34m=\u001b[0m \u001b[0mdisconnected_type\u001b[0m\u001b[0;34m(\u001b[0m\u001b[0;34m)\u001b[0m\u001b[0;34m\u001b[0m\u001b[0m\n\u001b[1;32m    547\u001b[0m \u001b[0;34m\u001b[0m\u001b[0m\n",
      "\u001b[0;32m//anaconda/lib/python2.7/site-packages/Theano-0.8.0.dev0-py2.7.egg/theano/gradient.pyc\u001b[0m in \u001b[0;36mhandle_disconnected\u001b[0;34m(var)\u001b[0m\n\u001b[1;32m    530\u001b[0m                     \u001b[0mmessage\u001b[0m \u001b[0;34m+=\u001b[0m \u001b[0mstr\u001b[0m\u001b[0;34m(\u001b[0m\u001b[0msio\u001b[0m\u001b[0;34m.\u001b[0m\u001b[0mgetvalue\u001b[0m\u001b[0;34m(\u001b[0m\u001b[0;34m)\u001b[0m\u001b[0;34m)\u001b[0m\u001b[0;34m\u001b[0m\u001b[0m\n\u001b[1;32m    531\u001b[0m \u001b[0;34m\u001b[0m\u001b[0m\n\u001b[0;32m--> 532\u001b[0;31m                 \u001b[0;32mraise\u001b[0m \u001b[0mDisconnectedInputError\u001b[0m\u001b[0;34m(\u001b[0m\u001b[0mmessage\u001b[0m\u001b[0;34m)\u001b[0m\u001b[0;34m\u001b[0m\u001b[0m\n\u001b[0m\u001b[1;32m    533\u001b[0m             \u001b[0;32melse\u001b[0m\u001b[0;34m:\u001b[0m\u001b[0;34m\u001b[0m\u001b[0m\n\u001b[1;32m    534\u001b[0m                 raise ValueError(\"Invalid value for keyword \"\n",
      "\u001b[0;31mDisconnectedInputError\u001b[0m: grad method was asked to compute the gradient with respect to a variable that is not part of the computational graph of the cost, or is used only by a non-differentiable operator: Pool{ds=(2, 2), ignore_border=True, st=(2, 2), padding=(0, 0), mode='average_inc_pad'}.0\nBacktrace when the node is created:\n  File \"//anaconda/lib/python2.7/site-packages/Lasagne-0.2.dev1-py2.7.egg/lasagne/layers/pool.py\", line 267, in get_output_for\n    mode=self.mode,\n"
     ]
    }
   ],
   "source": [
    "decoder_func = create_decoder_func(cnn_model_dict)"
   ]
  },
  {
   "cell_type": "code",
   "execution_count": 24,
   "metadata": {
    "collapsed": false
   },
   "outputs": [
    {
     "data": {
      "text/plain": [
       "(1, 784)"
      ]
     },
     "execution_count": 24,
     "metadata": {},
     "output_type": "execute_result"
    }
   ],
   "source": [
    "decoder_func(\n",
    "    encoder_func(X_train[0:1]).astype(\"float32\")\n",
    ").shape"
   ]
  },
  {
   "cell_type": "code",
   "execution_count": 21,
   "metadata": {
    "collapsed": false
   },
   "outputs": [
    {
     "data": {
      "text/plain": [
       "(50000, 784)"
      ]
     },
     "execution_count": 21,
     "metadata": {},
     "output_type": "execute_result"
    }
   ],
   "source": [
    "X_train.shape"
   ]
  },
  {
   "cell_type": "code",
   "execution_count": 151,
   "metadata": {
    "collapsed": true
   },
   "outputs": [],
   "source": [
    "# forward/backward (optional) pass for the encoder/decoder pair\n",
    "def create_encoder_decoder_func(layers, apply_updates=False):\n",
    "    X = T.tensor4('X')\n",
    "    X_batch = T.tensor4('X_batch')\n",
    "\n",
    "    X_hat = get_output(layers['l_decoder_out'], X, deterministic=False)\n",
    "\n",
    "    # reconstruction loss\n",
    "    encoder_decoder_loss = T.mean(\n",
    "        T.mean(T.sqr(X - X_hat), axis=1)\n",
    "    )\n",
    "\n",
    "    if apply_updates:\n",
    "        # all layers that participate in the forward pass should be updated\n",
    "        encoder_decoder_params = get_all_params(\n",
    "            layers['l_decoder_out'], trainable=True)\n",
    "\n",
    "        encoder_decoder_updates = nesterov_momentum(\n",
    "            encoder_decoder_loss, encoder_decoder_params, 0.01, 0.9)\n",
    "    else:\n",
    "        encoder_decoder_updates = None\n",
    "\n",
    "    encoder_decoder_func = theano.function(\n",
    "        inputs=[theano.In(X_batch)],\n",
    "        outputs=encoder_decoder_loss,\n",
    "        updates=encoder_decoder_updates,\n",
    "        givens={\n",
    "            X: X_batch,\n",
    "        },\n",
    "    )\n",
    "\n",
    "    return encoder_decoder_func"
   ]
  },
  {
   "cell_type": "code",
   "execution_count": 152,
   "metadata": {
    "collapsed": false
   },
   "outputs": [
    {
     "data": {
      "text/plain": [
       "<theano.compile.function_module.Function at 0x116b398d0>"
      ]
     },
     "execution_count": 152,
     "metadata": {},
     "output_type": "execute_result"
    }
   ],
   "source": [
    "create_encoder_decoder_func(cnn_model_dict)"
   ]
  },
  {
   "cell_type": "code",
   "execution_count": 155,
   "metadata": {
    "collapsed": true
   },
   "outputs": [],
   "source": [
    "# forward/backward (optional) pass for discriminator\n",
    "def create_discriminator_func(layers, apply_updates=False):\n",
    "    X = T.tensor4('X')\n",
    "    pz = T.fmatrix('pz')\n",
    "\n",
    "    X_batch = T.tensor4('X_batch')\n",
    "    pz_batch = T.fmatrix('pz_batch')\n",
    "\n",
    "    # the discriminator receives samples from q(z|x) and p(z)\n",
    "    # and should predict to which distribution each sample belongs\n",
    "    discriminator_outputs = get_output(\n",
    "        layers['l_discriminator_out'],\n",
    "        inputs={\n",
    "            layers['l_prior_in']: pz,\n",
    "            layers['l_encoder_in']: X,\n",
    "        },\n",
    "        deterministic=False,\n",
    "    )\n",
    "\n",
    "    # label samples from q(z|x) as 1 and samples from p(z) as 0\n",
    "    discriminator_targets = T.vertical_stack(\n",
    "        T.ones((X_batch.shape[0], 1)),\n",
    "        T.zeros((pz_batch.shape[0], 1))\n",
    "    )\n",
    "\n",
    "    discriminator_loss = T.mean(\n",
    "        T.nnet.binary_crossentropy(\n",
    "            discriminator_outputs,\n",
    "            discriminator_targets,\n",
    "        )\n",
    "    )\n",
    "\n",
    "    if apply_updates:\n",
    "        # only layers that are part of the discriminator should be updated\n",
    "        discriminator_params = get_all_params(\n",
    "            layers['l_discriminator_out'], trainable=True, discriminator=True)\n",
    "\n",
    "        discriminator_updates = nesterov_momentum(\n",
    "            discriminator_loss, discriminator_params, 0.1, 0.0)\n",
    "    else:\n",
    "        discriminator_updates = None\n",
    "\n",
    "    discriminator_func = theano.function(\n",
    "        inputs=[\n",
    "            theano.In(X_batch),\n",
    "            theano.In(pz_batch),\n",
    "        ],\n",
    "        outputs=discriminator_loss,\n",
    "        updates=discriminator_updates,\n",
    "        givens={\n",
    "            X: X_batch,\n",
    "            pz: pz_batch,\n",
    "        },\n",
    "    )\n",
    "\n",
    "    return discriminator_func\n"
   ]
  },
  {
   "cell_type": "code",
   "execution_count": 156,
   "metadata": {
    "collapsed": false
   },
   "outputs": [],
   "source": [
    "discriminator_func = create_discriminator_func(model_dict)"
   ]
  },
  {
   "cell_type": "code",
   "execution_count": 31,
   "metadata": {
    "collapsed": false
   },
   "outputs": [
    {
     "data": {
      "text/plain": [
       "array(0.675344140239736)"
      ]
     },
     "execution_count": 31,
     "metadata": {},
     "output_type": "execute_result"
    }
   ],
   "source": [
    "pz_train_batch = np.random.uniform(\n",
    "    low=-2, high=2,\n",
    "    size=(X_train.shape[0], 2)).astype(np.float32)\n",
    "discriminator_func(X_train[0:1], pz_train_batch[0:1])"
   ]
  },
  {
   "cell_type": "code",
   "execution_count": 33,
   "metadata": {
    "collapsed": true
   },
   "outputs": [],
   "source": [
    "# forward/backward (optional) pass for the generator\n",
    "# note that the generator is the same network as the encoder,\n",
    "# but updated separately\n",
    "def create_generator_func(layers, apply_updates=False):\n",
    "    X = T.fmatrix('X')\n",
    "    X_batch = T.fmatrix('X_batch')\n",
    "\n",
    "    # no need to pass an input to l_prior_in here\n",
    "    generator_outputs = get_output(\n",
    "        layers['l_encoder_out'], X, deterministic=False)\n",
    "\n",
    "    # so pass the output of the generator as the output of the concat layer\n",
    "    discriminator_outputs = get_output(\n",
    "        layers['l_discriminator_out'],\n",
    "        inputs={\n",
    "            layers['l_prior_encoder_concat']: generator_outputs,\n",
    "        },\n",
    "        deterministic=False\n",
    "    )\n",
    "\n",
    "    # the discriminator learns to predict 1 for q(z|x),\n",
    "    # so the generator should fool it into predicting 0\n",
    "    generator_targets = T.zeros_like(X_batch.shape[0])\n",
    "\n",
    "    # so the generator needs to push the discriminator's output to 0\n",
    "    generator_loss = T.mean(\n",
    "        T.nnet.binary_crossentropy(\n",
    "            discriminator_outputs,\n",
    "            generator_targets,\n",
    "        )\n",
    "    )\n",
    "\n",
    "    if apply_updates:\n",
    "        # only layers that are part of the generator (i.e., encoder)\n",
    "        # should be updated\n",
    "        generator_params = get_all_params(\n",
    "            layers['l_discriminator_out'], trainable=True, generator=True)\n",
    "\n",
    "        generator_updates = nesterov_momentum(\n",
    "            generator_loss, generator_params, 0.1, 0.0)\n",
    "    else:\n",
    "        generator_updates = None\n",
    "\n",
    "    generator_func = theano.function(\n",
    "        inputs=[\n",
    "            theano.In(X_batch),\n",
    "        ],\n",
    "        outputs=generator_loss,\n",
    "        updates=generator_updates,\n",
    "        givens={\n",
    "            X: X_batch,\n",
    "        },\n",
    "    )\n",
    "\n",
    "    return generator_func\n"
   ]
  },
  {
   "cell_type": "code",
   "execution_count": 35,
   "metadata": {
    "collapsed": false
   },
   "outputs": [],
   "source": [
    "generator_func = create_generator_func(model_dict)"
   ]
  },
  {
   "cell_type": "code",
   "execution_count": 36,
   "metadata": {
    "collapsed": false
   },
   "outputs": [
    {
     "data": {
      "text/plain": [
       "array(0.691995816875417)"
      ]
     },
     "execution_count": 36,
     "metadata": {},
     "output_type": "execute_result"
    }
   ],
   "source": [
    "generator_func(X_train[0:1])"
   ]
  },
  {
   "cell_type": "code",
   "execution_count": 47,
   "metadata": {
    "collapsed": false
   },
   "outputs": [
    {
     "name": "stdout",
     "output_type": "stream",
     "text": [
      "compiling theano functions for training\n",
      "  encoder/decoder\n",
      "  discriminator\n",
      "  generator\n"
     ]
    }
   ],
   "source": [
    "print('compiling theano functions for training')\n",
    "print('  encoder/decoder')\n",
    "encoder_decoder_update = create_encoder_decoder_func(\n",
    "    model_dict, apply_updates=True)\n",
    "print('  discriminator')\n",
    "discriminator_update = create_discriminator_func(\n",
    "    model_dict, apply_updates=True)\n",
    "print('  generator')\n",
    "generator_update = create_generator_func(\n",
    "    model_dict, apply_updates=True)"
   ]
  },
  {
   "cell_type": "code",
   "execution_count": 40,
   "metadata": {
    "collapsed": true
   },
   "outputs": [],
   "source": [
    "def iterator(X_train, bs=32):\n",
    "    b = 0\n",
    "    while True:\n",
    "        if b*bs >= X_train.shape[0]:\n",
    "            break\n",
    "        yield X_train[b*bs:(b+1)*bs]\n",
    "        b += 1"
   ]
  },
  {
   "cell_type": "code",
   "execution_count": 48,
   "metadata": {
    "collapsed": false
   },
   "outputs": [
    {
     "name": "stdout",
     "output_type": "stream",
     "text": [
      "epoch 1\n",
      "  train: rec = 0.212946, dis = 0.686736, gen = 0.740064\n",
      "epoch 2\n",
      "  train: rec = 0.097661, dis = 0.689868, gen = 0.717792\n",
      "epoch 3\n",
      "  train: rec = 0.067434, dis = 0.693079, gen = 0.695199\n",
      "epoch 4\n",
      "  train: rec = 0.064287, dis = 0.693110, gen = 0.693812\n",
      "epoch 5\n",
      "  train: rec = 0.061969, dis = 0.693119, gen = 0.693759\n",
      "epoch 6\n",
      "  train: rec = 0.060150, dis = 0.693200, gen = 0.693867\n",
      "epoch 7\n",
      "  train: rec = 0.058863, dis = 0.693235, gen = 0.693560\n",
      "epoch 8\n",
      "  train: rec = 0.058029, dis = 0.693222, gen = 0.693571\n",
      "epoch 9\n",
      "  train: rec = 0.057446, dis = 0.693196, gen = 0.693570\n",
      "epoch 10\n",
      "  train: rec = 0.057029, dis = 0.693202, gen = 0.693407\n"
     ]
    }
   ],
   "source": [
    "max_epochs=10\n",
    "idxs = [x for x in range(0, X_train.shape[0])]\n",
    "for epoch in range(1, max_epochs+1):\n",
    "    \n",
    "    print('epoch %d' % (epoch))\n",
    "    \n",
    "    # compute loss on training data and apply gradient updates\n",
    "    train_reconstruction_losses = []\n",
    "    train_discriminative_losses = []\n",
    "    train_generative_losses = []\n",
    "    \n",
    "    np.random.shuffle(idxs)\n",
    "    X_train = X_train[idxs]\n",
    "    \n",
    "    for X_train_batch in iterator(X_train, bs=32):\n",
    "\n",
    "        # 1.) update the encoder/decoder to min. reconstruction loss\n",
    "        train_batch_reconstruction_loss =\\\n",
    "            encoder_decoder_update(X_train_batch)\n",
    "\n",
    "        # sample from p(z)\n",
    "        pz_train_batch = np.random.uniform(\n",
    "            low=-2, high=2,\n",
    "            size=(X_train_batch.shape[0], 2)).astype(\n",
    "                np.float32)\n",
    "\n",
    "        # 2.) update discriminator to separate q(z|x) from p(z)\n",
    "        train_batch_discriminative_loss =\\\n",
    "            discriminator_update(X_train_batch, pz_train_batch)\n",
    "\n",
    "        # 3.)  update generator to output q(z|x) that mimic p(z)\n",
    "        train_batch_generative_loss = generator_update(X_train_batch)\n",
    "\n",
    "        train_reconstruction_losses.append(\n",
    "            train_batch_reconstruction_loss)\n",
    "        train_discriminative_losses.append(\n",
    "            train_batch_discriminative_loss)\n",
    "        train_generative_losses.append(\n",
    "            train_batch_generative_loss)\n",
    "\n",
    "    # average over minibatches\n",
    "    train_reconstruction_losses_mean = np.mean(\n",
    "        train_reconstruction_losses)\n",
    "    train_discriminative_losses_mean = np.mean(\n",
    "        train_discriminative_losses)\n",
    "    train_generative_losses_mean = np.mean(\n",
    "        train_generative_losses)\n",
    "\n",
    "    print('  train: rec = %.6f, dis = %.6f, gen = %.6f' % (\n",
    "        train_reconstruction_losses_mean,\n",
    "        train_discriminative_losses_mean,\n",
    "        train_generative_losses_mean,\n",
    "    ))\n"
   ]
  },
  {
   "cell_type": "code",
   "execution_count": 61,
   "metadata": {
    "collapsed": false
   },
   "outputs": [
    {
     "data": {
      "text/plain": [
       "<matplotlib.image.AxesImage at 0x11497ef10>"
      ]
     },
     "execution_count": 61,
     "metadata": {},
     "output_type": "execute_result"
    },
    {
     "data": {
      "image/png": "[encoded data removed]",
      "text/plain": [
       "<matplotlib.figure.Figure at 0x114a05790>"
      ]
     },
     "metadata": {},
     "output_type": "display_data"
    }
   ],
   "source": [
    "plt.imshow( decoder_func( encoder_func(X_train[2:3]).astype(\"float32\") ).reshape((28,28)), cmap=\"gray\" )"
   ]
  },
  {
   "cell_type": "code",
   "execution_count": 71,
   "metadata": {
    "collapsed": false
   },
   "outputs": [
    {
     "data": {
      "text/plain": [
       "<matplotlib.image.AxesImage at 0x1158200d0>"
      ]
     },
     "execution_count": 71,
     "metadata": {},
     "output_type": "execute_result"
    },
    {
     "data": {
      "image/png": "[encoded data removed]",
      "text/plain": [
       "<matplotlib.figure.Figure at 0x11e1cf410>"
      ]
     },
     "metadata": {},
     "output_type": "display_data"
    }
   ],
   "source": [
    "plt.imshow( decoder_func( np.random.uniform(low=-2, high=2, size=(1, 2)).astype(np.float32) ).reshape((28,28)), cmap=\"gray\" )"
   ]
  },
  {
   "cell_type": "code",
   "execution_count": null,
   "metadata": {
    "collapsed": true
   },
   "outputs": [],
   "source": []
  }
 ],
 "metadata": {
  "kernelspec": {
   "display_name": "Python 2",
   "language": "python",
   "name": "python2"
  },
  "language_info": {
   "codemirror_mode": {
    "name": "ipython",
    "version": 2
   },
   "file_extension": ".py",
   "mimetype": "text/x-python",
   "name": "python",
   "nbconvert_exporter": "python",
   "pygments_lexer": "ipython2",
   "version": "2.7.11"
  }
 },
 "nbformat": 4,
 "nbformat_minor": 0
}
