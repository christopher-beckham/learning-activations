{
 "cells": [
  {
   "cell_type": "code",
   "execution_count": 4,
   "metadata": {
    "collapsed": true
   },
   "outputs": [],
   "source": [
    "import sys\n",
    "sys.path.append(\"../../modules/\")\n",
    "import helper as m_helper\n",
    "# ---\n",
    "import theano\n",
    "from theano import tensor as T\n",
    "import lasagne\n",
    "import numpy as np\n",
    "from lasagne.layers import *\n",
    "from lasagne.nonlinearities import *\n",
    "# ---\n",
    "import random\n",
    "# ---\n",
    "from matplotlib import pyplot as plt\n",
    "%matplotlib inline"
   ]
  },
  {
   "cell_type": "code",
   "execution_count": 7,
   "metadata": {
    "collapsed": false
   },
   "outputs": [],
   "source": [
    "train_set, _, _ = m_helper.load_mnist(\"../../data/mnist.pkl.gz\")\n",
    "Xt, yt = train_set"
   ]
  },
  {
   "cell_type": "markdown",
   "metadata": {},
   "source": [
    "**From [this link](https://github.com/Lasagne/Lasagne/issues/168), we wish to implement this contrastive loss function:**\n",
    "\n",
    "$ E = \\frac{1}{2N} \\sum\\limits_{n=1}^N \\left(y\\right) d + \\left(1-y\\right) \\max \\left(margin-d, 0\\right) $ where $ d = \\left| \\left| a_n - b_n \\right| \\right|_2^2 $"
   ]
  },
  {
   "cell_type": "code",
   "execution_count": 8,
   "metadata": {
    "collapsed": false
   },
   "outputs": [],
   "source": [
    "cls_to_idx = dict()\n",
    "for k in range(0,10):\n",
    "    cls_to_idx[k] = np.where(yt == k)[0].tolist()"
   ]
  },
  {
   "cell_type": "code",
   "execution_count": 9,
   "metadata": {
    "collapsed": false
   },
   "outputs": [
    {
     "data": {
      "text/plain": [
       "array([5, 0, 4, ..., 8, 4, 8])"
      ]
     },
     "execution_count": 9,
     "metadata": {},
     "output_type": "execute_result"
    }
   ],
   "source": [
    "yt"
   ]
  },
  {
   "cell_type": "code",
   "execution_count": 76,
   "metadata": {
    "collapsed": false
   },
   "outputs": [],
   "source": [
    "def get_actual_pair(cls_to_idx, Xt):\n",
    "    random_class = np.random.randint(0, len(cls_to_idx.keys()))      \n",
    "    random_idx_1_for_class = cls_to_idx[random_class][ np.random.randint(0, len(cls_to_idx[random_class])) ]\n",
    "    random_idx_2_for_class = cls_to_idx[random_class][ np.random.randint(0, len(cls_to_idx[random_class])) ]\n",
    "    return (random_class, random_idx_1_for_class), (random_class, random_idx_2_for_class)"
   ]
  },
  {
   "cell_type": "code",
   "execution_count": 77,
   "metadata": {
    "collapsed": true
   },
   "outputs": [],
   "source": [
    "def get_imposter_pair(cls_to_idx, Xt):\n",
    "    random_class_1 = 0\n",
    "    random_class_2 = 0\n",
    "    while random_class_1 == random_class_2:\n",
    "        random_class_1 = np.random.randint(0, len(cls_to_idx.keys()))\n",
    "        random_class_2 = np.random.randint(0, len(cls_to_idx.keys()))        \n",
    "    random_idx_in_class_1 = cls_to_idx[random_class_1][ np.random.randint(0, len(cls_to_idx[random_class_1])) ]\n",
    "    random_idx_in_class_2 = cls_to_idx[random_class_2][ np.random.randint(0, len(cls_to_idx[random_class_2])) ]\n",
    "    return (random_class_1, random_idx_in_class_1), (random_class_2, random_idx_in_class_2)"
   ]
  },
  {
   "cell_type": "code",
   "execution_count": 78,
   "metadata": {
    "collapsed": false
   },
   "outputs": [
    {
     "data": {
      "text/plain": [
       "((9, 12131), (6, 18344))"
      ]
     },
     "execution_count": 78,
     "metadata": {},
     "output_type": "execute_result"
    }
   ],
   "source": [
    "get_imposter_pair(cls_to_idx, Xt)"
   ]
  },
  {
   "cell_type": "code",
   "execution_count": 79,
   "metadata": {
    "collapsed": false
   },
   "outputs": [
    {
     "name": "stdout",
     "output_type": "stream",
     "text": [
      "((1, 36657), (2, 33743))\n",
      "((5, 8856), (7, 40231))\n",
      "((2, 29573), (9, 11415))\n",
      "((4, 4513), (4, 41163))\n",
      "((6, 19563), (6, 24158))\n",
      "((4, 16995), (4, 21875))\n",
      "((7, 45285), (7, 33717))\n",
      "((6, 40526), (9, 12868))\n",
      "((2, 43988), (3, 48599))\n",
      "((3, 18119), (4, 19813))\n"
     ]
    }
   ],
   "source": [
    "# suppose the batch size is 200, let's get 100 actual pairs and 100 imposter pairs\n",
    "X_batch = []\n",
    "y_batch = []\n",
    "debug = []\n",
    "for i in range(0, 10):\n",
    "    c = np.random.randint(0,2)\n",
    "    if c == 0:    \n",
    "        imposter_pair = get_imposter_pair(cls_to_idx, Xt)\n",
    "        X_batch.append( Xt[ imposter_pair[0][1] ] )\n",
    "        X_batch.append( Xt[ imposter_pair[1][1] ] )\n",
    "        y_batch.append(1) # they are non-similar!\n",
    "        #debug.append( (imposter_pair[0][0], imposter_pair[1][0]) )\n",
    "        print imposter_pair\n",
    "    else:\n",
    "        actual_pair = get_actual_pair(cls_to_idx, Xt)\n",
    "        X_batch.append( Xt[ actual_pair[0][1] ] )\n",
    "        X_batch.append( Xt[ actual_pair[1][1] ] )\n",
    "        y_batch.append(0) # they are similar!\n",
    "        print actual_pair\n",
    "        #debug.append( (actual_pair[0][0], actual_pair[1][0]) )"
   ]
  },
  {
   "cell_type": "code",
   "execution_count": 80,
   "metadata": {
    "collapsed": false
   },
   "outputs": [],
   "source": [
    "X_batch = np.asarray(X_batch, dtype=\"float32\")\n",
    "y_batch = np.asarray(y_batch, dtype=\"int32\")"
   ]
  },
  {
   "cell_type": "code",
   "execution_count": 61,
   "metadata": {
    "collapsed": false
   },
   "outputs": [
    {
     "data": {
      "text/plain": [
       "((20, 1, 28, 28), (10,))"
      ]
     },
     "execution_count": 61,
     "metadata": {},
     "output_type": "execute_result"
    }
   ],
   "source": [
    "X_batch.shape, y_batch.shape"
   ]
  },
  {
   "cell_type": "code",
   "execution_count": 85,
   "metadata": {
    "collapsed": false
   },
   "outputs": [
    {
     "data": {
      "text/plain": [
       "array([1, 1, 1, 0, 0, 0, 0, 1, 1, 1], dtype=int32)"
      ]
     },
     "execution_count": 85,
     "metadata": {},
     "output_type": "execute_result"
    }
   ],
   "source": [
    "y_batch"
   ]
  },
  {
   "cell_type": "code",
   "execution_count": 95,
   "metadata": {
    "collapsed": false
   },
   "outputs": [
    {
     "data": {
      "text/plain": [
       "<matplotlib.image.AxesImage at 0x1146a0e10>"
      ]
     },
     "execution_count": 95,
     "metadata": {},
     "output_type": "execute_result"
    },
    {
     "data": {
      "image/png": "[encoded data removed]",
      "text/plain": [
       "<matplotlib.figure.Figure at 0x1146eb590>"
      ]
     },
     "metadata": {},
     "output_type": "display_data"
    }
   ],
   "source": [
    "plt.imshow( X_batch[9][0] )"
   ]
  },
  {
   "cell_type": "markdown",
   "metadata": {},
   "source": [
    "**Now that we have some data, let us define the network and the loss function.**"
   ]
  },
  {
   "cell_type": "code",
   "execution_count": 99,
   "metadata": {
    "collapsed": true
   },
   "outputs": [],
   "source": [
    "def siamese_loss(output, y, margin):\n",
    "    a = output[0::2]\n",
    "    b = output[1::2]\n",
    "    d = T.sum((a - b)**2, axis=1)  # this is now a vector with distances for each pair of examples (a, b)\n",
    "    loss = T.mean(y * d + (1 - y) * T.maximum(margin - d, 0))\n",
    "    return loss"
   ]
  },
  {
   "cell_type": "code",
   "execution_count": 96,
   "metadata": {
    "collapsed": true
   },
   "outputs": [],
   "source": [
    "l_in = InputLayer( (None, 1, 28, 28) )\n",
    "l_conv1 = Conv2DLayer(l_in, num_filters=16, filter_size=(5,5))\n",
    "l_pool1 = MaxPool2DLayer(l_conv1, pool_size=(2,2))\n",
    "l_conv2 = Conv2DLayer(l_pool1, num_filters=32, filter_size=(3,3))\n",
    "l_pool2 = MaxPool2DLayer(l_conv2, pool_size=(2,2))\n",
    "l_conv3 = Conv2DLayer(l_pool2, num_filters=32, filter_size=(3,3))\n",
    "l_dense = DenseLayer(l_conv3, num_units=100)\n",
    "l_final = DenseLayer(l_dense, num_units=1, nonlinearity=linear)"
   ]
  },
  {
   "cell_type": "code",
   "execution_count": 97,
   "metadata": {
    "collapsed": false
   },
   "outputs": [],
   "source": [
    "X = T.tensor4('X')\n",
    "y = T.ivector('y')\n",
    "predictions = lasagne.layers.get_output(l_final, X)\n",
    "get_out = theano.function([X], predictions)"
   ]
  },
  {
   "cell_type": "code",
   "execution_count": 100,
   "metadata": {
    "collapsed": false
   },
   "outputs": [],
   "source": [
    "margin = theano.shared(0.0)\n",
    "loss = siamese_loss(predictions, y, margin).mean()\n",
    "get_loss = theano.function([X, y], loss)"
   ]
  },
  {
   "cell_type": "code",
   "execution_count": 101,
   "metadata": {
    "collapsed": false
   },
   "outputs": [],
   "source": [
    "params = lasagne.layers.get_all_params(l_final, trainable=True)\n",
    "params += [margin]\n",
    "updates = lasagne.updates.nesterov_momentum(\n",
    "        loss, params, learning_rate=0.01, momentum=0.9)"
   ]
  },
  {
   "cell_type": "code",
   "execution_count": 103,
   "metadata": {
    "collapsed": false
   },
   "outputs": [],
   "source": [
    "train = theano.function([X,y], loss, updates=updates)"
   ]
  },
  {
   "cell_type": "code",
   "execution_count": 112,
   "metadata": {
    "collapsed": false
   },
   "outputs": [
    {
     "data": {
      "text/plain": [
       "array(0.0001824605068686049)"
      ]
     },
     "execution_count": 112,
     "metadata": {},
     "output_type": "execute_result"
    }
   ],
   "source": [
    "train(X_batch, y_batch)"
   ]
  },
  {
   "cell_type": "code",
   "execution_count": null,
   "metadata": {
    "collapsed": true
   },
   "outputs": [],
   "source": []
  }
 ],
 "metadata": {
  "kernelspec": {
   "display_name": "Python 2",
   "language": "python",
   "name": "python2"
  },
  "language_info": {
   "codemirror_mode": {
    "name": "ipython",
    "version": 2
   },
   "file_extension": ".py",
   "mimetype": "text/x-python",
   "name": "python",
   "nbconvert_exporter": "python",
   "pygments_lexer": "ipython2",
   "version": "2.7.10"
  }
 },
 "nbformat": 4,
 "nbformat_minor": 0
}
