{
 "cells": [
  {
   "cell_type": "code",
   "execution_count": 4,
   "metadata": {
    "collapsed": true
   },
   "outputs": [],
   "source": [
    "import sys\n",
    "sys.path.append(\"../../modules/\")\n",
    "import helper as m_helper\n",
    "# ---\n",
    "import theano\n",
    "from theano import tensor as T\n",
    "import lasagne\n",
    "import numpy as np\n",
    "from lasagne.layers import *\n",
    "from lasagne.nonlinearities import *\n",
    "# ---\n",
    "import random\n",
    "# ---\n",
    "from matplotlib import pyplot as plt\n",
    "%matplotlib inline"
   ]
  },
  {
   "cell_type": "code",
   "execution_count": 7,
   "metadata": {
    "collapsed": false
   },
   "outputs": [],
   "source": [
    "train_set, _, _ = m_helper.load_mnist(\"../../data/mnist.pkl.gz\")\n",
    "Xt, yt = train_set"
   ]
  },
  {
   "cell_type": "markdown",
   "metadata": {},
   "source": [
    "**From [this link](https://github.com/Lasagne/Lasagne/issues/168), we wish to implement this contrastive loss function:**\n",
    "\n",
    "$ E = \\frac{1}{2N} \\sum\\limits_{n=1}^N \\left(y\\right) d + \\left(1-y\\right) \\max \\left(margin-d, 0\\right) $ where $ d = \\left| \\left| a_n - b_n \\right| \\right|_2^2 $"
   ]
  },
  {
   "cell_type": "code",
   "execution_count": 8,
   "metadata": {
    "collapsed": false
   },
   "outputs": [],
   "source": [
    "cls_to_idx = dict()\n",
    "for k in range(0,10):\n",
    "    cls_to_idx[k] = np.where(yt == k)[0].tolist()"
   ]
  },
  {
   "cell_type": "code",
   "execution_count": 9,
   "metadata": {
    "collapsed": false
   },
   "outputs": [
    {
     "data": {
      "text/plain": [
       "array([5, 0, 4, ..., 8, 4, 8])"
      ]
     },
     "execution_count": 9,
     "metadata": {},
     "output_type": "execute_result"
    }
   ],
   "source": [
    "yt"
   ]
  },
  {
   "cell_type": "code",
   "execution_count": 76,
   "metadata": {
    "collapsed": false
   },
   "outputs": [],
   "source": [
    "def get_actual_pair(cls_to_idx, Xt):\n",
    "    random_class = np.random.randint(0, len(cls_to_idx.keys()))      \n",
    "    random_idx_1_for_class = cls_to_idx[random_class][ np.random.randint(0, len(cls_to_idx[random_class])) ]\n",
    "    random_idx_2_for_class = cls_to_idx[random_class][ np.random.randint(0, len(cls_to_idx[random_class])) ]\n",
    "    return (random_class, random_idx_1_for_class), (random_class, random_idx_2_for_class)"
   ]
  },
  {
   "cell_type": "code",
   "execution_count": 77,
   "metadata": {
    "collapsed": true
   },
   "outputs": [],
   "source": [
    "def get_imposter_pair(cls_to_idx, Xt):\n",
    "    random_class_1 = 0\n",
    "    random_class_2 = 0\n",
    "    while random_class_1 == random_class_2:\n",
    "        random_class_1 = np.random.randint(0, len(cls_to_idx.keys()))\n",
    "        random_class_2 = np.random.randint(0, len(cls_to_idx.keys()))        \n",
    "    random_idx_in_class_1 = cls_to_idx[random_class_1][ np.random.randint(0, len(cls_to_idx[random_class_1])) ]\n",
    "    random_idx_in_class_2 = cls_to_idx[random_class_2][ np.random.randint(0, len(cls_to_idx[random_class_2])) ]\n",
    "    return (random_class_1, random_idx_in_class_1), (random_class_2, random_idx_in_class_2)"
   ]
  },
  {
   "cell_type": "code",
   "execution_count": 78,
   "metadata": {
    "collapsed": false
   },
   "outputs": [
    {
     "data": {
      "text/plain": [
       "((9, 12131), (6, 18344))"
      ]
     },
     "execution_count": 78,
     "metadata": {},
     "output_type": "execute_result"
    }
   ],
   "source": [
    "get_imposter_pair(cls_to_idx, Xt)"
   ]
  },
  {
   "cell_type": "code",
   "execution_count": 125,
   "metadata": {
    "collapsed": false
   },
   "outputs": [],
   "source": [
    "def get_batch(size):\n",
    "    X_batch = []\n",
    "    y_batch = []\n",
    "    for i in range(0, size/2):\n",
    "        c = np.random.randint(0,2)\n",
    "        if c == 0:    \n",
    "            imposter_pair = get_imposter_pair(cls_to_idx, Xt)\n",
    "            X_batch.append( Xt[ imposter_pair[0][1] ] )\n",
    "            X_batch.append( Xt[ imposter_pair[1][1] ] )\n",
    "            y_batch.append(1) # they are non-similar!\n",
    "            #debug.append( (imposter_pair[0][0], imposter_pair[1][0]) )\n",
    "            #print imposter_pair\n",
    "        else:\n",
    "            actual_pair = get_actual_pair(cls_to_idx, Xt)\n",
    "            X_batch.append( Xt[ actual_pair[0][1] ] )\n",
    "            X_batch.append( Xt[ actual_pair[1][1] ] )\n",
    "            y_batch.append(0) # they are similar!\n",
    "            #print actual_pair\n",
    "            #debug.append( (actual_pair[0][0], actual_pair[1][0]) )\n",
    "    X_batch = np.asarray(X_batch, dtype=\"float32\")\n",
    "    y_batch = np.asarray(y_batch, dtype=\"int32\")\n",
    "    return X_batch, y_batch"
   ]
  },
  {
   "cell_type": "code",
   "execution_count": 129,
   "metadata": {
    "collapsed": false
   },
   "outputs": [],
   "source": [
    "X_batch, y_batch = get_batch(size=20)"
   ]
  },
  {
   "cell_type": "code",
   "execution_count": 130,
   "metadata": {
    "collapsed": false
   },
   "outputs": [
    {
     "data": {
      "text/plain": [
       "((20, 1, 28, 28), (10,))"
      ]
     },
     "execution_count": 130,
     "metadata": {},
     "output_type": "execute_result"
    }
   ],
   "source": [
    "X_batch.shape, y_batch.shape"
   ]
  },
  {
   "cell_type": "code",
   "execution_count": 131,
   "metadata": {
    "collapsed": false
   },
   "outputs": [
    {
     "data": {
      "text/plain": [
       "array([0, 1, 0, 1, 0, 1, 1, 0, 1, 1], dtype=int32)"
      ]
     },
     "execution_count": 131,
     "metadata": {},
     "output_type": "execute_result"
    }
   ],
   "source": [
    "y_batch"
   ]
  },
  {
   "cell_type": "code",
   "execution_count": 135,
   "metadata": {
    "collapsed": false
   },
   "outputs": [
    {
     "data": {
      "text/plain": [
       "<matplotlib.image.AxesImage at 0x1187142d0>"
      ]
     },
     "execution_count": 135,
     "metadata": {},
     "output_type": "execute_result"
    },
    {
     "data": {
      "image/png": "[encoded data removed]",
      "text/plain": [
       "<matplotlib.figure.Figure at 0x11879a1d0>"
      ]
     },
     "metadata": {},
     "output_type": "display_data"
    }
   ],
   "source": [
    "plt.imshow( X_batch[3][0] )"
   ]
  },
  {
   "cell_type": "markdown",
   "metadata": {},
   "source": [
    "**Now that we have some data, let us define the network and the loss function.**"
   ]
  },
  {
   "cell_type": "code",
   "execution_count": 136,
   "metadata": {
    "collapsed": true
   },
   "outputs": [],
   "source": [
    "def siamese_loss(output, y, margin):\n",
    "    a = output[0::2]\n",
    "    b = output[1::2]\n",
    "    d = T.sum((a - b)**2, axis=1)  # this is now a vector with distances for each pair of examples (a, b)\n",
    "    loss = T.mean(y * d + (1 - y) * T.maximum(margin - d, 0))\n",
    "    return loss"
   ]
  },
  {
   "cell_type": "code",
   "execution_count": 154,
   "metadata": {
    "collapsed": true
   },
   "outputs": [],
   "source": [
    "l_in = InputLayer( (None, 1, 28, 28) )\n",
    "l_conv1 = Conv2DLayer(l_in, num_filters=16, filter_size=(5,5))\n",
    "l_pool1 = MaxPool2DLayer(l_conv1, pool_size=(2,2))\n",
    "l_conv2 = Conv2DLayer(l_pool1, num_filters=32, filter_size=(3,3))\n",
    "l_pool2 = MaxPool2DLayer(l_conv2, pool_size=(2,2))\n",
    "l_conv3 = Conv2DLayer(l_pool2, num_filters=32, filter_size=(3,3))\n",
    "l_final = DenseLayer(l_conv3, num_units=100, nonlinearity=linear)\n",
    "#l_final = DenseLayer(l_dense, num_units=1, nonlinearity=linear)"
   ]
  },
  {
   "cell_type": "code",
   "execution_count": 138,
   "metadata": {
    "collapsed": false
   },
   "outputs": [],
   "source": [
    "X = T.tensor4('X')\n",
    "y = T.ivector('y')\n",
    "predictions = lasagne.layers.get_output(l_final, X)\n",
    "get_out = theano.function([X], predictions)"
   ]
  },
  {
   "cell_type": "code",
   "execution_count": 139,
   "metadata": {
    "collapsed": false
   },
   "outputs": [],
   "source": [
    "margin = theano.shared(1.0)\n",
    "loss = siamese_loss(predictions, y, margin).mean()\n",
    "get_loss = theano.function([X, y], loss)"
   ]
  },
  {
   "cell_type": "code",
   "execution_count": 140,
   "metadata": {
    "collapsed": false
   },
   "outputs": [],
   "source": [
    "params = lasagne.layers.get_all_params(l_final, trainable=True)\n",
    "params += [margin]\n",
    "updates = lasagne.updates.nesterov_momentum(\n",
    "        loss, params, learning_rate=0.01, momentum=0.9)"
   ]
  },
  {
   "cell_type": "code",
   "execution_count": 141,
   "metadata": {
    "collapsed": false
   },
   "outputs": [],
   "source": [
    "train = theano.function([X,y], loss, updates=updates)"
   ]
  },
  {
   "cell_type": "code",
   "execution_count": 142,
   "metadata": {
    "collapsed": false
   },
   "outputs": [
    {
     "name": "stdout",
     "output_type": "stream",
     "text": [
      "0.461538605842\n",
      "0.511483077868\n",
      "0.481459292788\n",
      "0.517509032831\n",
      "0.520932094483\n",
      "0.514881284372\n",
      "0.457943886568\n",
      "0.382307465289\n",
      "0.401234174293\n",
      "0.421649300958\n",
      "0.426793496286\n",
      "0.338665234028\n",
      "0.342295435025\n",
      "0.322744115265\n",
      "0.283399133298\n",
      "0.31706911342\n",
      "0.276625071562\n",
      "0.242468284973\n",
      "0.216093685153\n",
      "0.175890977064\n",
      "0.156261453214\n",
      "0.144861402376\n",
      "0.132905786199\n",
      "0.102536406202\n",
      "0.0692482595201\n",
      "0.0546869173133\n",
      "0.0340048582282\n",
      "0.0118656816075\n",
      "0.000659086675845\n",
      "0.000877372880671\n",
      "0.00132740459758\n",
      "0.000994760280904\n",
      "0.000683841899381\n",
      "0.000565981415269\n",
      "0.00122578386858\n",
      "0.000690837894332\n",
      "0.00108447002521\n",
      "0.000750363653764\n",
      "0.00104860871145\n",
      "0.000679668714578\n",
      "0.000806037718314\n",
      "0.000626043250015\n",
      "0.000528483134258\n",
      "0.000824039103225\n",
      "0.000681016316993\n",
      "0.000512315059246\n",
      "0.000716245108622\n",
      "0.000686117938332\n",
      "0.000592906894737\n",
      "0.000588777262624\n",
      "0.000744526073449\n",
      "0.000618598601893\n",
      "0.000461464600167\n",
      "0.000535157111729\n",
      "0.000351276031643\n",
      "0.000504397705219\n",
      "0.000517987090895\n",
      "0.000516423546101\n",
      "0.000569018764148\n",
      "0.000523935390363\n",
      "0.000414829205192\n",
      "0.000736408128372\n",
      "0.000458673152691\n",
      "0.000322712797741\n",
      "0.00045272671537\n",
      "0.000232385074115\n",
      "0.000548781241845\n",
      "0.000505576739552\n",
      "0.000407001551627\n",
      "0.000301295144914\n",
      "0.000500886799713\n",
      "0.000410227087534\n",
      "0.000488958546187\n",
      "0.000321931356205\n",
      "0.00043705569134\n",
      "0.00046594815002\n",
      "0.000374402692688\n",
      "0.000378749577746\n",
      "0.000247914179925\n",
      "0.000416139626468\n",
      "0.000431973216246\n",
      "0.000277359991843\n",
      "0.00044279277163\n",
      "0.000332397638452\n",
      "0.000432755323409\n",
      "0.000437941387562\n",
      "0.000609296611205\n",
      "0.000348106475597\n",
      "0.000384352353495\n",
      "0.000382437890132\n",
      "0.000367817945687\n",
      "0.000392575575339\n",
      "0.00029047444476\n",
      "0.000272091517796\n"
     ]
    },
    {
     "ename": "KeyboardInterrupt",
     "evalue": "",
     "output_type": "error",
     "traceback": [
      "\u001b[0;31m---------------------------------------------------------------------------\u001b[0m",
      "\u001b[0;31mKeyboardInterrupt\u001b[0m                         Traceback (most recent call last)",
      "\u001b[0;32m<ipython-input-142-b7806af069e4>\u001b[0m in \u001b[0;36m<module>\u001b[0;34m()\u001b[0m\n\u001b[1;32m      1\u001b[0m \u001b[0;32mfor\u001b[0m \u001b[0mnum_iters\u001b[0m \u001b[0;32min\u001b[0m \u001b[0mrange\u001b[0m\u001b[0;34m(\u001b[0m\u001b[0;36m0\u001b[0m\u001b[0;34m,\u001b[0m \u001b[0;36m100\u001b[0m\u001b[0;34m)\u001b[0m\u001b[0;34m:\u001b[0m\u001b[0;34m\u001b[0m\u001b[0m\n\u001b[1;32m      2\u001b[0m     \u001b[0mX_batch\u001b[0m\u001b[0;34m,\u001b[0m \u001b[0my_batch\u001b[0m \u001b[0;34m=\u001b[0m \u001b[0mget_batch\u001b[0m\u001b[0;34m(\u001b[0m\u001b[0msize\u001b[0m\u001b[0;34m=\u001b[0m\u001b[0;36m256\u001b[0m\u001b[0;34m)\u001b[0m\u001b[0;34m\u001b[0m\u001b[0m\n\u001b[0;32m----> 3\u001b[0;31m     \u001b[0;32mprint\u001b[0m \u001b[0mtrain\u001b[0m\u001b[0;34m(\u001b[0m\u001b[0mX_batch\u001b[0m\u001b[0;34m,\u001b[0m \u001b[0my_batch\u001b[0m\u001b[0;34m)\u001b[0m\u001b[0;34m\u001b[0m\u001b[0m\n\u001b[0m",
      "\u001b[0;32m//anaconda/lib/python2.7/site-packages/Theano-0.7.0-py2.7.egg/theano/compile/function_module.pyc\u001b[0m in \u001b[0;36m__call__\u001b[0;34m(self, *args, **kwargs)\u001b[0m\n\u001b[1;32m    857\u001b[0m         \u001b[0mt0_fn\u001b[0m \u001b[0;34m=\u001b[0m \u001b[0mtime\u001b[0m\u001b[0;34m.\u001b[0m\u001b[0mtime\u001b[0m\u001b[0;34m(\u001b[0m\u001b[0;34m)\u001b[0m\u001b[0;34m\u001b[0m\u001b[0m\n\u001b[1;32m    858\u001b[0m         \u001b[0;32mtry\u001b[0m\u001b[0;34m:\u001b[0m\u001b[0;34m\u001b[0m\u001b[0m\n\u001b[0;32m--> 859\u001b[0;31m             \u001b[0moutputs\u001b[0m \u001b[0;34m=\u001b[0m \u001b[0mself\u001b[0m\u001b[0;34m.\u001b[0m\u001b[0mfn\u001b[0m\u001b[0;34m(\u001b[0m\u001b[0;34m)\u001b[0m\u001b[0;34m\u001b[0m\u001b[0m\n\u001b[0m\u001b[1;32m    860\u001b[0m         \u001b[0;32mexcept\u001b[0m \u001b[0mException\u001b[0m\u001b[0;34m:\u001b[0m\u001b[0;34m\u001b[0m\u001b[0m\n\u001b[1;32m    861\u001b[0m             \u001b[0;32mif\u001b[0m \u001b[0mhasattr\u001b[0m\u001b[0;34m(\u001b[0m\u001b[0mself\u001b[0m\u001b[0;34m.\u001b[0m\u001b[0mfn\u001b[0m\u001b[0;34m,\u001b[0m \u001b[0;34m'position_of_error'\u001b[0m\u001b[0;34m)\u001b[0m\u001b[0;34m:\u001b[0m\u001b[0;34m\u001b[0m\u001b[0m\n",
      "\u001b[0;32m//anaconda/lib/python2.7/site-packages/Theano-0.7.0-py2.7.egg/theano/gof/op.pyc\u001b[0m in \u001b[0;36mrval\u001b[0;34m(p, i, o, n)\u001b[0m\n\u001b[1;32m    876\u001b[0m         \u001b[0;32mif\u001b[0m \u001b[0mparams\u001b[0m \u001b[0;32mis\u001b[0m \u001b[0mgraph\u001b[0m\u001b[0;34m.\u001b[0m\u001b[0mNoParams\u001b[0m\u001b[0;34m:\u001b[0m\u001b[0;34m\u001b[0m\u001b[0m\n\u001b[1;32m    877\u001b[0m             \u001b[0;31m# default arguments are stored in the closure of `rval`\u001b[0m\u001b[0;34m\u001b[0m\u001b[0;34m\u001b[0m\u001b[0m\n\u001b[0;32m--> 878\u001b[0;31m             \u001b[0;32mdef\u001b[0m \u001b[0mrval\u001b[0m\u001b[0;34m(\u001b[0m\u001b[0mp\u001b[0m\u001b[0;34m=\u001b[0m\u001b[0mp\u001b[0m\u001b[0;34m,\u001b[0m \u001b[0mi\u001b[0m\u001b[0;34m=\u001b[0m\u001b[0mnode_input_storage\u001b[0m\u001b[0;34m,\u001b[0m \u001b[0mo\u001b[0m\u001b[0;34m=\u001b[0m\u001b[0mnode_output_storage\u001b[0m\u001b[0;34m,\u001b[0m \u001b[0mn\u001b[0m\u001b[0;34m=\u001b[0m\u001b[0mnode\u001b[0m\u001b[0;34m)\u001b[0m\u001b[0;34m:\u001b[0m\u001b[0;34m\u001b[0m\u001b[0m\n\u001b[0m\u001b[1;32m    879\u001b[0m                 \u001b[0mr\u001b[0m \u001b[0;34m=\u001b[0m \u001b[0mp\u001b[0m\u001b[0;34m(\u001b[0m\u001b[0mn\u001b[0m\u001b[0;34m,\u001b[0m \u001b[0;34m[\u001b[0m\u001b[0mx\u001b[0m\u001b[0;34m[\u001b[0m\u001b[0;36m0\u001b[0m\u001b[0;34m]\u001b[0m \u001b[0;32mfor\u001b[0m \u001b[0mx\u001b[0m \u001b[0;32min\u001b[0m \u001b[0mi\u001b[0m\u001b[0;34m]\u001b[0m\u001b[0;34m,\u001b[0m \u001b[0mo\u001b[0m\u001b[0;34m)\u001b[0m\u001b[0;34m\u001b[0m\u001b[0m\n\u001b[1;32m    880\u001b[0m                 \u001b[0;32mfor\u001b[0m \u001b[0mo\u001b[0m \u001b[0;32min\u001b[0m \u001b[0mnode\u001b[0m\u001b[0;34m.\u001b[0m\u001b[0moutputs\u001b[0m\u001b[0;34m:\u001b[0m\u001b[0;34m\u001b[0m\u001b[0m\n",
      "\u001b[0;31mKeyboardInterrupt\u001b[0m: "
     ]
    }
   ],
   "source": [
    "for num_iters in range(0, 100):\n",
    "    X_batch, y_batch = get_batch(size=256)\n",
    "    print train(X_batch, y_batch)"
   ]
  },
  {
   "cell_type": "code",
   "execution_count": 146,
   "metadata": {
    "collapsed": false
   },
   "outputs": [
    {
     "data": {
      "text/plain": [
       "([1, 21, 34, 37, 51, 56, 63, 68, 69, 75],\n",
       " [3, 6, 8, 14, 23, 24, 40, 59, 67, 70])"
      ]
     },
     "execution_count": 146,
     "metadata": {},
     "output_type": "execute_result"
    }
   ],
   "source": [
    "cls_to_idx[0][0:10], cls_to_idx[1][0:10]"
   ]
  },
  {
   "cell_type": "code",
   "execution_count": 149,
   "metadata": {
    "collapsed": true
   },
   "outputs": [],
   "source": [
    "identity_pair = np.asarray( [Xt[1], Xt[21]], dtype=\"float32\" ) # (0,0)\n",
    "imposter_pair = np.asarray( [Xt[1], Xt[3]], dtype=\"float32\" ) # (0, 1)"
   ]
  },
  {
   "cell_type": "code",
   "execution_count": null,
   "metadata": {
    "collapsed": true
   },
   "outputs": [],
   "source": []
  }
 ],
 "metadata": {
  "kernelspec": {
   "display_name": "Python 2",
   "language": "python",
   "name": "python2"
  },
  "language_info": {
   "codemirror_mode": {
    "name": "ipython",
    "version": 2
   },
   "file_extension": ".py",
   "mimetype": "text/x-python",
   "name": "python",
   "nbconvert_exporter": "python",
   "pygments_lexer": "ipython2",
   "version": "2.7.10"
  }
 },
 "nbformat": 4,
 "nbformat_minor": 0
}
