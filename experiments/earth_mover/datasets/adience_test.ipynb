{
 "cells": [
  {
   "cell_type": "code",
   "execution_count": 2,
   "metadata": {
    "collapsed": false
   },
   "outputs": [],
   "source": [
    "import numpy as np\n",
    "import glob\n",
    "#import matplotlib.pyplot as plt\n",
    "#%matplotlib inline\n",
    "from skimage.io import imread\n",
    "from skimage import img_as_float"
   ]
  },
  {
   "cell_type": "markdown",
   "metadata": {},
   "source": [
    "-----"
   ]
  },
  {
   "cell_type": "code",
   "execution_count": 32,
   "metadata": {
    "collapsed": true
   },
   "outputs": [],
   "source": [
    "# (0-2, 4-6, 8-13, 15-20, 25-32, 38-43, 48-53, 60-)"
   ]
  },
  {
   "cell_type": "code",
   "execution_count": 23,
   "metadata": {
    "collapsed": false
   },
   "outputs": [],
   "source": [
    "def _read_fold(fold_idx, dataset_dir, debug=False):\n",
    "    ages = dict() # debug\n",
    "    dd = dict() # map column names to indices\n",
    "    classes = {\n",
    "        \"(0, 2)\": 0, \"(4, 6)\": 1, \"(8, 12)\": 2, \"(15, 20)\": 3, \"(25, 32)\": 4, \"(38, 43)\": 5, \"(48, 53)\": 6, \"(60, 100)\": 7\n",
    "    }\n",
    "    delim = \"\\t\"\n",
    "    # -----\n",
    "    X, y = [], []\n",
    "    with open(\"%s/../fold_%i_data.txt\" % (dataset_dir, fold_idx)) as f:\n",
    "        header = f.readline().rstrip().split(delim)\n",
    "        for k in range(0, len(header)):\n",
    "            dd[ header[k] ] = k\n",
    "        for line in f:\n",
    "            line = line.rstrip().split(delim)\n",
    "            #print line\n",
    "            #print line[dd[\"user_id\"]], line[dd[\"original_image\"]], line[dd[\"face_id\"]], line[dd[\"age\"]]\n",
    "            img_loc = \"%s/%s/landmark_aligned_face.%s.%s\" % \\\n",
    "                (dataset_dir, line[dd[\"user_id\"]], line[dd[\"face_id\"]], line[dd[\"original_image\"]])\n",
    "            if line[dd[\"age\"]] in classes:\n",
    "                #print img_loc, classes[ line[dd[\"age\"]] ]\n",
    "                X.append(img_loc)\n",
    "                y.append(classes[ line[dd[\"age\"]] ])          \n",
    "            if line[dd[\"age\"]] not in ages:\n",
    "                ages[ line[dd[\"age\"]] ] = 0\n",
    "            ages[ line[dd[\"age\"]] ] += 1\n",
    "    if debug:\n",
    "        print ages\n",
    "    return X, y"
   ]
  },
  {
   "cell_type": "code",
   "execution_count": 17,
   "metadata": {
    "collapsed": false
   },
   "outputs": [],
   "source": [
    "def load_xval_data(valid_fold_idx, dataset_dir):\n",
    "    assert 0 <= valid_fold_idx <= 3\n",
    "    tot_folds = [\"fold_0_data.txt\", \"fold_1_data.txt\", \"fold_2_data.txt\", \"fold_3_data.txt\"]\n",
    "    training_folds_idxs = [ i for i in range(0, len(tot_folds)) if i != valid_fold_idx ]\n",
    "    #valid_fold = tot_folds[valid_fold_idx]\n",
    "    training_X = []\n",
    "    training_y = []\n",
    "    for training_fold_idx in training_folds_idxs:\n",
    "        x, y = _read_fold(training_fold_idx, dataset_dir)\n",
    "        training_X += x\n",
    "        training_y += y\n",
    "    valid_X, valid_y = _read_fold(valid_fold_idx, dataset_dir)\n",
    "    training_X = np.asarray(training_X)\n",
    "    valid_X = np.asarray(valid_X)\n",
    "    training_y = np.asarray(training_y, dtype=\"int32\")\n",
    "    valid_y = np.asarray(valid_y, dtype=\"int32\")\n",
    "    return training_X, training_y, valid_X, valid_y"
   ]
  },
  {
   "cell_type": "code",
   "execution_count": 20,
   "metadata": {
    "collapsed": true
   },
   "outputs": [],
   "source": [
    "def load_all_data(dataset_dir):\n",
    "    training_folds_idxs = [ i for i in range(0, 4) ]\n",
    "    #valid_fold = tot_folds[valid_fold_idx]\n",
    "    training_X = []\n",
    "    training_y = []\n",
    "    for training_fold_idx in training_folds_idxs:\n",
    "        x, y = _read_fold(training_fold_idx, dataset_dir)\n",
    "        training_X += x\n",
    "        training_y += y\n",
    "    training_X = np.asarray(training_X)\n",
    "    training_y = np.asarray(training_y, dtype=\"int32\")\n",
    "    return training_X, training_y"
   ]
  },
  {
   "cell_type": "code",
   "execution_count": 29,
   "metadata": {
    "collapsed": true
   },
   "outputs": [],
   "source": [
    "def load_pre_split_data(dataset_dir):\n",
    "    all_X, all_y = load_all_data(dataset_dir)\n",
    "    rnd = np.random.RandomState(0)\n",
    "    idxs = [x for x in range(len(all_y))]\n",
    "    rnd.shuffle(idxs)\n",
    "    train_idxs = idxs[0:int(0.9*len(idxs))]\n",
    "    valid_idxs = idxs[int(0.9*len(idxs))::]\n",
    "    return all_X[train_idxs], all_y[train_idxs], all_X[valid_idxs], all_y[valid_idxs]"
   ]
  },
  {
   "cell_type": "code",
   "execution_count": 37,
   "metadata": {
    "collapsed": false
   },
   "outputs": [],
   "source": [
    "#xt, yt, xv, yv = load_pre_split_data(\"/Volumes/CB_RESEARCH/adience_face/aligned/\")"
   ]
  },
  {
   "cell_type": "code",
   "execution_count": 38,
   "metadata": {
    "collapsed": false
   },
   "outputs": [],
   "source": [
    "#len(xt), len(yt), len(xv), len(yv)"
   ]
  },
  {
   "cell_type": "code",
   "execution_count": 39,
   "metadata": {
    "collapsed": false
   },
   "outputs": [],
   "source": [
    "#from collections import Counter\n",
    "#Counter(yv.tolist()).most_common()"
   ]
  },
  {
   "cell_type": "markdown",
   "metadata": {},
   "source": [
    "----"
   ]
  },
  {
   "cell_type": "code",
   "execution_count": null,
   "metadata": {
    "collapsed": true
   },
   "outputs": [],
   "source": []
  }
 ],
 "metadata": {
  "kernelspec": {
   "display_name": "Python 2",
   "language": "python",
   "name": "python2"
  },
  "language_info": {
   "codemirror_mode": {
    "name": "ipython",
    "version": 2
   },
   "file_extension": ".py",
   "mimetype": "text/x-python",
   "name": "python",
   "nbconvert_exporter": "python",
   "pygments_lexer": "ipython2",
   "version": "2.7.12"
  }
 },
 "nbformat": 4,
 "nbformat_minor": 0
}
