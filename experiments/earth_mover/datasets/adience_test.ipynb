{
 "cells": [
  {
   "cell_type": "code",
   "execution_count": 239,
   "metadata": {
    "collapsed": false
   },
   "outputs": [],
   "source": [
    "import numpy as np\n",
    "import glob\n",
    "#import matplotlib.pyplot as plt\n",
    "#%matplotlib inline\n",
    "from skimage.io import imread\n",
    "from skimage import img_as_float"
   ]
  },
  {
   "cell_type": "code",
   "execution_count": 85,
   "metadata": {
    "collapsed": true
   },
   "outputs": [],
   "source": [
    "DATASET_DIR = \"/Volumes/CB_RESEARCH/adience_face/\"\n",
    "IMG_FOLDER = \"aligned\""
   ]
  },
  {
   "cell_type": "markdown",
   "metadata": {},
   "source": [
    "-----"
   ]
  },
  {
   "cell_type": "code",
   "execution_count": 32,
   "metadata": {
    "collapsed": true
   },
   "outputs": [],
   "source": [
    "# (0-2, 4-6, 8-13, 15-20, 25-32, 38-43, 48-53, 60-)"
   ]
  },
  {
   "cell_type": "code",
   "execution_count": 114,
   "metadata": {
    "collapsed": false
   },
   "outputs": [],
   "source": [
    "def _read_fold(filename, debug=False):\n",
    "    ages = dict() # debug\n",
    "    dd = dict() # map column names to indices\n",
    "    classes = {\n",
    "        \"(0, 2)\": 0, \"(4, 6)\": 1, \"(8, 12)\": 2, \"(15, 20)\": 3, \"(25, 32)\": 4, \"(38, 43)\": 5, \"(48, 53)\": 6, \"(60, 100)\": 7\n",
    "    }\n",
    "    delim = \"\\t\"\n",
    "    # -----\n",
    "    X, y = [], []\n",
    "    with open(filename) as f:\n",
    "        header = f.readline().rstrip().split(delim)\n",
    "        for k in range(0, len(header)):\n",
    "            dd[ header[k] ] = k\n",
    "        for line in f:\n",
    "            line = line.rstrip().split(delim)\n",
    "            #print line\n",
    "            #print line[dd[\"user_id\"]], line[dd[\"original_image\"]], line[dd[\"face_id\"]], line[dd[\"age\"]]\n",
    "            img_loc = \"%s/%s/%s/landmark_aligned_face.%s.%s\" % \\\n",
    "                (DATASET_DIR, IMG_FOLDER, line[dd[\"user_id\"]], line[dd[\"face_id\"]], line[dd[\"original_image\"]])\n",
    "            if line[dd[\"age\"]] in classes:\n",
    "                #print img_loc, classes[ line[dd[\"age\"]] ]\n",
    "                X.append(img_loc)\n",
    "                y.append(classes[ line[dd[\"age\"]] ])          \n",
    "            if line[dd[\"age\"]] not in ages:\n",
    "                ages[ line[dd[\"age\"]] ] = 0\n",
    "            ages[ line[dd[\"age\"]] ] += 1\n",
    "    if debug:\n",
    "        print ages\n",
    "    return X, y"
   ]
  },
  {
   "cell_type": "code",
   "execution_count": 115,
   "metadata": {
    "collapsed": false
   },
   "outputs": [],
   "source": [
    "def get_fold(valid_fold_idx):\n",
    "    assert 0 <= valid_fold_idx <= 3\n",
    "    tot_folds = [\"fold_0_data.txt\", \"fold_1_data.txt\", \"fold_2_data.txt\", \"fold_3_data.txt\"]\n",
    "    training_folds = [ tot_folds[i] for i in range(0, len(tot_folds)) if i != valid_fold_idx ]\n",
    "    valid_fold = tot_folds[valid_fold_idx]\n",
    "    training_X = []\n",
    "    training_y = []\n",
    "    for training_fold in training_folds:\n",
    "        x, y = _read_fold(\"%s/%s\" % (DATASET_DIR, training_fold))\n",
    "        training_X += x\n",
    "        training_y += y\n",
    "    valid_X, valid_y = _read_fold(\"%s/%s\" % (DATASET_DIR, valid_fold))\n",
    "    return training_X, training_y, valid_X, valid_y"
   ]
  },
  {
   "cell_type": "code",
   "execution_count": 116,
   "metadata": {
    "collapsed": false
   },
   "outputs": [],
   "source": [
    "xt, yt, xv, yv = get_fold(0)"
   ]
  },
  {
   "cell_type": "code",
   "execution_count": 121,
   "metadata": {
    "collapsed": false
   },
   "outputs": [
    {
     "data": {
      "text/plain": [
       "(9340, 4377)"
      ]
     },
     "execution_count": 121,
     "metadata": {},
     "output_type": "execute_result"
    }
   ],
   "source": [
    "len(xt), len(xv)"
   ]
  },
  {
   "cell_type": "markdown",
   "metadata": {},
   "source": [
    "----"
   ]
  },
  {
   "cell_type": "code",
   "execution_count": 163,
   "metadata": {
    "collapsed": false
   },
   "outputs": [
    {
     "name": "stderr",
     "output_type": "stream",
     "text": [
      "Using Theano backend.\n"
     ]
    }
   ],
   "source": [
    "import os\n",
    "os.environ[\"HDF5_DISABLE_VERSION_CHECK\"] = \"1\"\n",
    "import keras\n",
    "from keras.preprocessing.image import ImageDataGenerator"
   ]
  },
  {
   "cell_type": "code",
   "execution_count": 241,
   "metadata": {
    "collapsed": true
   },
   "outputs": [],
   "source": [
    "IMGEN = ImageDataGenerator(horizontal_flip=True)"
   ]
  },
  {
   "cell_type": "code",
   "execution_count": 242,
   "metadata": {
    "collapsed": false
   },
   "outputs": [],
   "source": [
    "def load_image_keras(filename, crop):\n",
    "    img = imread(filename)\n",
    "    img = img_as_float(img)\n",
    "    img = np.asarray( [ img[...,0], img[...,1], img[...,2] ] ) # reshape\n",
    "    for i in range(0, img.shape[0]):\n",
    "        img[i, ...] = (img[i, ...] - np.mean(img[i, ...])) / np.std(img[i,...]) # zmuv\n",
    "    for xb, _ in IMGEN.flow( np.asarray([img], dtype=img.dtype), np.asarray([0], dtype=\"int32\")):\n",
    "        if crop != None:\n",
    "            img_size = xb[0].shape[-1]\n",
    "            #print xb[0].shape\n",
    "            #print img_size\n",
    "            x_start = np.random.randint(0, img_size-crop+1)\n",
    "            y_start = np.random.randint(0, img_size-crop+1)\n",
    "            ret = xb[0][:, y_start:y_start+crop, x_start:x_start+crop]\n",
    "            #print ret.shape\n",
    "            return ret\n",
    "        break\n",
    "    return xb[0]"
   ]
  },
  {
   "cell_type": "code",
   "execution_count": 240,
   "metadata": {
    "collapsed": false
   },
   "outputs": [],
   "source": [
    "#plt.imshow( load_image_keras(xt[1], imgen, crop=600)[0], cmap=\"gray\" )"
   ]
  },
  {
   "cell_type": "code",
   "execution_count": null,
   "metadata": {
    "collapsed": true
   },
   "outputs": [],
   "source": []
  }
 ],
 "metadata": {
  "kernelspec": {
   "display_name": "Python 2",
   "language": "python",
   "name": "python2"
  },
  "language_info": {
   "codemirror_mode": {
    "name": "ipython",
    "version": 2
   },
   "file_extension": ".py",
   "mimetype": "text/x-python",
   "name": "python",
   "nbconvert_exporter": "python",
   "pygments_lexer": "ipython2",
   "version": "2.7.12"
  }
 },
 "nbformat": 4,
 "nbformat_minor": 0
}
