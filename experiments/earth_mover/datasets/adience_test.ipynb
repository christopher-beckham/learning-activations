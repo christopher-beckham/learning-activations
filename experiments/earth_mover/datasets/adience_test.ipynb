{
 "cells": [
  {
   "cell_type": "code",
   "execution_count": 239,
   "metadata": {
    "collapsed": false
   },
   "outputs": [],
   "source": [
    "import numpy as np\n",
    "import glob\n",
    "#import matplotlib.pyplot as plt\n",
    "#%matplotlib inline\n",
    "from skimage.io import imread\n",
    "from skimage import img_as_float"
   ]
  },
  {
   "cell_type": "code",
   "execution_count": 85,
   "metadata": {
    "collapsed": true
   },
   "outputs": [],
   "source": [
    "DATASET_DIR = \"/Volumes/CB_RESEARCH/adience_face/\"\n",
    "IMG_FOLDER = \"aligned\""
   ]
  },
  {
   "cell_type": "markdown",
   "metadata": {},
   "source": [
    "-----"
   ]
  },
  {
   "cell_type": "code",
   "execution_count": 32,
   "metadata": {
    "collapsed": true
   },
   "outputs": [],
   "source": [
    "# (0-2, 4-6, 8-13, 15-20, 25-32, 38-43, 48-53, 60-)"
   ]
  },
  {
   "cell_type": "code",
   "execution_count": 244,
   "metadata": {
    "collapsed": false
   },
   "outputs": [],
   "source": [
    "def _read_fold(filename, debug=False):\n",
    "    ages = dict() # debug\n",
    "    dd = dict() # map column names to indices\n",
    "    classes = {\n",
    "        \"(0, 2)\": 0, \"(4, 6)\": 1, \"(8, 12)\": 2, \"(15, 20)\": 3, \"(25, 32)\": 4, \"(38, 43)\": 5, \"(48, 53)\": 6, \"(60, 100)\": 7\n",
    "    }\n",
    "    delim = \"\\t\"\n",
    "    # -----\n",
    "    X, y = [], []\n",
    "    with open(filename) as f:\n",
    "        header = f.readline().rstrip().split(delim)\n",
    "        for k in range(0, len(header)):\n",
    "            dd[ header[k] ] = k\n",
    "        for line in f:\n",
    "            line = line.rstrip().split(delim)\n",
    "            #print line\n",
    "            #print line[dd[\"user_id\"]], line[dd[\"original_image\"]], line[dd[\"face_id\"]], line[dd[\"age\"]]\n",
    "            img_loc = \"%s/%s/%s/landmark_aligned_face.%s.%s\" % \\\n",
    "                (DATASET_DIR, IMG_FOLDER, line[dd[\"user_id\"]], line[dd[\"face_id\"]], line[dd[\"original_image\"]])\n",
    "            if line[dd[\"age\"]] in classes:\n",
    "                #print img_loc, classes[ line[dd[\"age\"]] ]\n",
    "                X.append(img_loc)\n",
    "                y.append(classes[ line[dd[\"age\"]] ])          \n",
    "            if line[dd[\"age\"]] not in ages:\n",
    "                ages[ line[dd[\"age\"]] ] = 0\n",
    "            ages[ line[dd[\"age\"]] ] += 1\n",
    "    if debug:\n",
    "        print ages\n",
    "    return X, y"
   ]
  },
  {
   "cell_type": "code",
   "execution_count": 246,
   "metadata": {
    "collapsed": false
   },
   "outputs": [],
   "source": [
    "def get_fold(valid_fold_idx):\n",
    "    assert 0 <= valid_fold_idx <= 3\n",
    "    tot_folds = [\"fold_0_data.txt\", \"fold_1_data.txt\", \"fold_2_data.txt\", \"fold_3_data.txt\"]\n",
    "    training_folds = [ tot_folds[i] for i in range(0, len(tot_folds)) if i != valid_fold_idx ]\n",
    "    valid_fold = tot_folds[valid_fold_idx]\n",
    "    training_X = []\n",
    "    training_y = []\n",
    "    for training_fold in training_folds:\n",
    "        x, y = _read_fold(\"%s/%s\" % (DATASET_DIR, training_fold))\n",
    "        training_X += x\n",
    "        training_y += y\n",
    "    valid_X, valid_y = _read_fold(\"%s/%s\" % (DATASET_DIR, valid_fold))\n",
    "    training_X = np.asarray(training_X)\n",
    "    valid_X = np.asarray(valid_X)\n",
    "    training_y = np.asarray(training_y, dtype=\"int32\")\n",
    "    valid_y = np.asarray(valid_y, dtype=\"int32\")\n",
    "    return training_X, training_y, valid_X, valid_y"
   ]
  },
  {
   "cell_type": "code",
   "execution_count": 116,
   "metadata": {
    "collapsed": false
   },
   "outputs": [],
   "source": [
    "xt, yt, xv, yv = get_fold(0)"
   ]
  },
  {
   "cell_type": "code",
   "execution_count": 121,
   "metadata": {
    "collapsed": false
   },
   "outputs": [
    {
     "data": {
      "text/plain": [
       "(9340, 4377)"
      ]
     },
     "execution_count": 121,
     "metadata": {},
     "output_type": "execute_result"
    }
   ],
   "source": [
    "len(xt), len(xv)"
   ]
  },
  {
   "cell_type": "markdown",
   "metadata": {},
   "source": [
    "----"
   ]
  },
  {
   "cell_type": "code",
   "execution_count": null,
   "metadata": {
    "collapsed": true
   },
   "outputs": [],
   "source": []
  }
 ],
 "metadata": {
  "kernelspec": {
   "display_name": "Python 2",
   "language": "python",
   "name": "python2"
  },
  "language_info": {
   "codemirror_mode": {
    "name": "ipython",
    "version": 2
   },
   "file_extension": ".py",
   "mimetype": "text/x-python",
   "name": "python",
   "nbconvert_exporter": "python",
   "pygments_lexer": "ipython2",
   "version": "2.7.12"
  }
 },
 "nbformat": 4,
 "nbformat_minor": 0
}
