{
 "cells": [
  {
   "cell_type": "markdown",
   "metadata": {},
   "source": [
    "## Ordinal non-additive MNIST (ONA-MNIST)"
   ]
  },
  {
   "cell_type": "code",
   "execution_count": 1,
   "metadata": {
    "collapsed": true
   },
   "outputs": [],
   "source": [
    "import numpy as np\n",
    "import matplotlib.pyplot as plt\n",
    "%matplotlib inline\n",
    "import gzip\n",
    "import pickle"
   ]
  },
  {
   "cell_type": "code",
   "execution_count": 3,
   "metadata": {
    "collapsed": false
   },
   "outputs": [],
   "source": [
    "dat = pickle.load(gzip.open(\"../../../data/mnist.pkl.gz\"))"
   ]
  },
  {
   "cell_type": "code",
   "execution_count": 4,
   "metadata": {
    "collapsed": true
   },
   "outputs": [],
   "source": [
    "train_data, valid_data, test_data = dat"
   ]
  },
  {
   "cell_type": "code",
   "execution_count": 9,
   "metadata": {
    "collapsed": false
   },
   "outputs": [],
   "source": [
    "X_train, y_train = train_data\n",
    "X_train = X_train.reshape((X_train.shape[0], 1, 28, 28))\n",
    "X_valid, y_valid = valid_data\n",
    "X_valid = X_valid.reshape((X_valid.shape[0], 1, 28, 28))\n",
    "X_test, y_test = test_data\n",
    "X_test = X_test.reshape((X_test.shape[0], 1, 28, 28))"
   ]
  },
  {
   "cell_type": "code",
   "execution_count": 7,
   "metadata": {
    "collapsed": false
   },
   "outputs": [
    {
     "data": {
      "text/plain": [
       "dtype('float32')"
      ]
     },
     "execution_count": 7,
     "metadata": {},
     "output_type": "execute_result"
    }
   ],
   "source": [
    "X_train.dtype"
   ]
  },
  {
   "cell_type": "code",
   "execution_count": 29,
   "metadata": {
    "collapsed": false
   },
   "outputs": [],
   "source": [
    "def create_digit(d1, d2):\n",
    "    sz = 48\n",
    "    blank = np.zeros((sz,sz))\n",
    "    for dg in [d1, d2]:\n",
    "        rand_x = np.random.randint(0, sz-28)\n",
    "        rand_y = np.random.randint(0, sz-28)\n",
    "        blank[rand_y:rand_y+28,rand_x:rand_x+28] += dg\n",
    "        np.clip(blank, 0, 1)\n",
    "    return blank"
   ]
  },
  {
   "cell_type": "code",
   "execution_count": 52,
   "metadata": {
    "collapsed": false
   },
   "outputs": [
    {
     "data": {
      "text/plain": [
       "array([5, 0, 4, ..., 8, 4, 8])"
      ]
     },
     "execution_count": 52,
     "metadata": {},
     "output_type": "execute_result"
    }
   ],
   "source": [
    "y_train"
   ]
  },
  {
   "cell_type": "code",
   "execution_count": 101,
   "metadata": {
    "collapsed": false
   },
   "outputs": [
    {
     "name": "stdout",
     "output_type": "stream",
     "text": [
      "2 + 1\n"
     ]
    },
    {
     "data": {
      "text/plain": [
       "<matplotlib.image.AxesImage at 0x1235a17d0>"
      ]
     },
     "execution_count": 101,
     "metadata": {},
     "output_type": "execute_result"
    },
    {
     "data": {
      "image/png": "[encoded data removed]",
      "text/plain": [
       "<matplotlib.figure.Figure at 0x12238a1d0>"
      ]
     },
     "metadata": {},
     "output_type": "display_data"
    }
   ],
   "source": [
    "idx1 = np.random.randint(0, X_train.shape[0])\n",
    "idx2 = np.random.randint(0, X_train.shape[0])\n",
    "print \"%i + %i\" % (y_train[idx1], y_train[idx2])\n",
    "plt.imshow(create_digit(X_train[idx1][0], X_train[idx2][0]),cmap=\"gray\")"
   ]
  },
  {
   "cell_type": "code",
   "execution_count": 107,
   "metadata": {
    "collapsed": true
   },
   "outputs": [],
   "source": [
    "def create_dataset():\n",
    "    np.random.seed(0)\n",
    "    # create a new dataset which is the same\n",
    "    # size as the original mnist dataset\n",
    "    results = []\n",
    "    for X_frame, y_frame in [(X_train, y_train),(X_valid,y_valid),(X_test,y_valid)]:\n",
    "        X_frame_new = np.zeros((X_frame.shape[0], 1, 48, 48))\n",
    "        y_frame_new = np.zeros((X_frame.shape[0],))\n",
    "        for e in range(X_frame.shape[0]):\n",
    "            idx1 = np.random.randint(0, X_frame.shape[0])\n",
    "            idx2 = np.random.randint(0, X_frame.shape[0])\n",
    "            img = create_digit(X_frame[idx1][0], X_frame[idx2][0])\n",
    "            X_frame_new[e][0] = img\n",
    "            y_frame_new[e] = y_frame[idx1] + y_frame[idx2]\n",
    "        results.append(X_frame_new)\n",
    "        results.append(y_frame_new)\n",
    "    return results"
   ]
  },
  {
   "cell_type": "code",
   "execution_count": 108,
   "metadata": {
    "collapsed": false
   },
   "outputs": [],
   "source": [
    "new_dataset = create_dataset()"
   ]
  },
  {
   "cell_type": "code",
   "execution_count": 123,
   "metadata": {
    "collapsed": false
   },
   "outputs": [
    {
     "data": {
      "text/plain": [
       "<matplotlib.image.AxesImage at 0x17e884950>"
      ]
     },
     "execution_count": 123,
     "metadata": {},
     "output_type": "execute_result"
    },
    {
     "data": {
      "image/png": "[encoded data removed]",
      "text/plain": [
       "<matplotlib.figure.Figure at 0x17e71d250>"
      ]
     },
     "metadata": {},
     "output_type": "display_data"
    }
   ],
   "source": [
    "plt.imshow(new_dataset[0][-2][0],cmap=\"gray\")"
   ]
  },
  {
   "cell_type": "code",
   "execution_count": 127,
   "metadata": {
    "collapsed": false
   },
   "outputs": [
    {
     "data": {
      "text/plain": [
       "18.0"
      ]
     },
     "execution_count": 127,
     "metadata": {},
     "output_type": "execute_result"
    }
   ],
   "source": [
    "new_dataset[1]"
   ]
  },
  {
   "cell_type": "code",
   "execution_count": 128,
   "metadata": {
    "collapsed": true
   },
   "outputs": [],
   "source": [
    "from collections import Counter"
   ]
  },
  {
   "cell_type": "code",
   "execution_count": 131,
   "metadata": {
    "collapsed": false
   },
   "outputs": [
    {
     "data": {
      "text/plain": [
       "Counter({0.0: 87,\n",
       "         1.0: 227,\n",
       "         2.0: 301,\n",
       "         3.0: 413,\n",
       "         4.0: 501,\n",
       "         5.0: 581,\n",
       "         6.0: 712,\n",
       "         7.0: 799,\n",
       "         8.0: 890,\n",
       "         9.0: 1002,\n",
       "         10.0: 914,\n",
       "         11.0: 799,\n",
       "         12.0: 700,\n",
       "         13.0: 563,\n",
       "         14.0: 495,\n",
       "         15.0: 396,\n",
       "         16.0: 312,\n",
       "         17.0: 200,\n",
       "         18.0: 108})"
      ]
     },
     "execution_count": 131,
     "metadata": {},
     "output_type": "execute_result"
    }
   ],
   "source": [
    "Counter(new_dataset[5])"
   ]
  },
  {
   "cell_type": "code",
   "execution_count": 143,
   "metadata": {
    "collapsed": false
   },
   "outputs": [],
   "source": [
    "import h5py\n",
    "f = h5py.File(\"/tmp/mnist.ord.na.h5\", \"w\")\n",
    "f.create_dataset('xt', shape=new_dataset[0].shape, dtype=new_dataset[0].dtype)\n",
    "f['xt'][:] = new_dataset[0]\n",
    "f.create_dataset('yt', shape=new_dataset[1].shape, dtype=new_dataset[1].dtype)\n",
    "f['yt'][:] = new_dataset[1]\n",
    "f.create_dataset('xv', shape=new_dataset[2].shape, dtype=new_dataset[2].dtype)\n",
    "f['xv'][:] = new_dataset[2]\n",
    "f.create_dataset('yv', shape=new_dataset[3].shape, dtype=new_dataset[3].dtype)\n",
    "f['yv'][:] = new_dataset[3]\n",
    "f.create_dataset('xtest', shape=new_dataset[4].shape, dtype=new_dataset[4].dtype)\n",
    "f['xtest'][:] = new_dataset[4]\n",
    "f.create_dataset('ytest', shape=new_dataset[5].shape, dtype=new_dataset[5].dtype)\n",
    "f['ytest'][:] = new_dataset[5]\n",
    "f.close()"
   ]
  },
  {
   "cell_type": "code",
   "execution_count": 145,
   "metadata": {
    "collapsed": false
   },
   "outputs": [],
   "source": [
    "%%bash\n",
    "rm /tmp/mnist.ord.na.h5"
   ]
  },
  {
   "cell_type": "code",
   "execution_count": null,
   "metadata": {
    "collapsed": true
   },
   "outputs": [],
   "source": []
  }
 ],
 "metadata": {
  "kernelspec": {
   "display_name": "Python 2",
   "language": "python",
   "name": "python2"
  },
  "language_info": {
   "codemirror_mode": {
    "name": "ipython",
    "version": 2
   },
   "file_extension": ".py",
   "mimetype": "text/x-python",
   "name": "python",
   "nbconvert_exporter": "python",
   "pygments_lexer": "ipython2",
   "version": "2.7.13"
  }
 },
 "nbformat": 4,
 "nbformat_minor": 2
}
