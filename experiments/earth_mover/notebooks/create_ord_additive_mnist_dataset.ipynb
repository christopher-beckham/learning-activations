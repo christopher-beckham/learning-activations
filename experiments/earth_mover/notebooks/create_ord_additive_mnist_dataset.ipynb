{
 "cells": [
  {
   "cell_type": "markdown",
   "metadata": {},
   "source": [
    "## Ordinal additive MNIST (OA-MNIST)"
   ]
  },
  {
   "cell_type": "code",
   "execution_count": 2,
   "metadata": {
    "collapsed": true
   },
   "outputs": [],
   "source": [
    "import numpy as np\n",
    "import matplotlib.pyplot as plt\n",
    "%matplotlib inline\n",
    "import gzip\n",
    "import pickle"
   ]
  },
  {
   "cell_type": "code",
   "execution_count": 3,
   "metadata": {
    "collapsed": false
   },
   "outputs": [],
   "source": [
    "dat = pickle.load(gzip.open(\"../../../data/mnist.pkl.gz\"))"
   ]
  },
  {
   "cell_type": "code",
   "execution_count": 4,
   "metadata": {
    "collapsed": true
   },
   "outputs": [],
   "source": [
    "train_data, valid_data, test_data = dat"
   ]
  },
  {
   "cell_type": "code",
   "execution_count": 5,
   "metadata": {
    "collapsed": false
   },
   "outputs": [],
   "source": [
    "X_train, y_train = train_data\n",
    "X_train = X_train.reshape((X_train.shape[0], 1, 28, 28))\n",
    "X_valid, y_valid = valid_data\n",
    "X_valid = X_valid.reshape((X_valid.shape[0], 1, 28, 28))\n",
    "X_test, y_test = test_data\n",
    "X_test = X_test.reshape((X_test.shape[0], 1, 28, 28))"
   ]
  },
  {
   "cell_type": "code",
   "execution_count": 6,
   "metadata": {
    "collapsed": false
   },
   "outputs": [
    {
     "data": {
      "text/plain": [
       "dtype('float32')"
      ]
     },
     "execution_count": 6,
     "metadata": {},
     "output_type": "execute_result"
    }
   ],
   "source": [
    "X_train.dtype"
   ]
  },
  {
   "cell_type": "code",
   "execution_count": 140,
   "metadata": {
    "collapsed": false
   },
   "outputs": [],
   "source": [
    "def create_digit(X_frame, y_frame, num_to_sample):\n",
    "    \"\"\"\n",
    "    X_frame:\n",
    "    y_frame:\n",
    "    returns: the composite digit, and the number of unique\n",
    "      digits it has\n",
    "    \"\"\"\n",
    "    #np.random.seed(0)\n",
    "    sz = 96\n",
    "    blank = np.zeros((sz,sz))\n",
    "    digit_list = []\n",
    "    for iter_ in range(num_to_sample):\n",
    "        rnd_idx = np.random.randint(0, X_frame.shape[0])\n",
    "        dg, cls = X_frame[rnd_idx][0], y_frame[rnd_idx]\n",
    "        digit_list.append(cls)\n",
    "        rand_x = np.random.randint(0, sz-28)\n",
    "        rand_y = np.random.randint(0, sz-28)\n",
    "        blank[rand_y:rand_y+28,rand_x:rand_x+28] += dg\n",
    "    np.clip(blank, 0, 1)\n",
    "    return blank, len(set(digit_list))-1"
   ]
  },
  {
   "cell_type": "code",
   "execution_count": 128,
   "metadata": {
    "collapsed": false
   },
   "outputs": [
    {
     "name": "stdout",
     "output_type": "stream",
     "text": [
      "num unique: 2\n"
     ]
    },
    {
     "data": {
      "text/plain": [
       "<matplotlib.image.AxesImage at 0x132cb9390>"
      ]
     },
     "execution_count": 128,
     "metadata": {},
     "output_type": "execute_result"
    },
    {
     "data": {
      "image/png": "[encoded data removed]",
      "text/plain": [
       "<matplotlib.figure.Figure at 0x132aab710>"
      ]
     },
     "metadata": {},
     "output_type": "display_data"
    }
   ],
   "source": [
    "plt.imshow(create_digit(X_train, y_train, num_to_sample=2),cmap=\"gray\")"
   ]
  },
  {
   "cell_type": "code",
   "execution_count": 141,
   "metadata": {
    "collapsed": true
   },
   "outputs": [],
   "source": [
    "def create_dataset():\n",
    "    np.random.seed(0)\n",
    "    # create a new dataset which is the same\n",
    "    # size as the original mnist dataset\n",
    "    results = []\n",
    "    for X_frame, y_frame in [(X_train, y_train),(X_valid,y_valid),(X_test,y_valid)]:\n",
    "        X_frame_new = np.zeros((X_frame.shape[0], 1, 96, 96))\n",
    "        y_frame_new = np.zeros((X_frame.shape[0],))\n",
    "        for e in range(X_frame.shape[0]):\n",
    "            num_to_sample = np.random.randint(1, 5+1)\n",
    "            img, cls = create_digit(X_frame, y_frame, num_to_sample=num_to_sample)\n",
    "            X_frame_new[e][0] = img\n",
    "            y_frame_new[e] = cls\n",
    "        results.append(X_frame_new)\n",
    "        results.append(y_frame_new)\n",
    "    return results"
   ]
  },
  {
   "cell_type": "code",
   "execution_count": 142,
   "metadata": {
    "collapsed": false
   },
   "outputs": [],
   "source": [
    "new_dataset = create_dataset()"
   ]
  },
  {
   "cell_type": "code",
   "execution_count": 143,
   "metadata": {
    "collapsed": false
   },
   "outputs": [
    {
     "data": {
      "text/plain": [
       "<matplotlib.image.AxesImage at 0x342678910>"
      ]
     },
     "execution_count": 143,
     "metadata": {},
     "output_type": "execute_result"
    },
    {
     "data": {
      "image/png": "[encoded data removed]",
      "text/plain": [
       "<matplotlib.figure.Figure at 0x132dc6710>"
      ]
     },
     "metadata": {},
     "output_type": "display_data"
    }
   ],
   "source": [
    "plt.imshow(new_dataset[0][-2][0],cmap=\"gray\")"
   ]
  },
  {
   "cell_type": "code",
   "execution_count": 138,
   "metadata": {
    "collapsed": true
   },
   "outputs": [],
   "source": [
    "from collections import Counter"
   ]
  },
  {
   "cell_type": "code",
   "execution_count": 148,
   "metadata": {
    "collapsed": false
   },
   "outputs": [
    {
     "data": {
      "text/plain": [
       "Counter({0.0: 2272, 1.0: 2433, 2.0: 2696, 3.0: 1963, 4.0: 636})"
      ]
     },
     "execution_count": 148,
     "metadata": {},
     "output_type": "execute_result"
    }
   ],
   "source": [
    "Counter(new_dataset[5])"
   ]
  },
  {
   "cell_type": "code",
   "execution_count": 149,
   "metadata": {
    "collapsed": false
   },
   "outputs": [],
   "source": [
    "import h5py\n",
    "f = h5py.File(\"/tmp/mnist.ord.a.h5\", \"w\")\n",
    "f.create_dataset('xt', shape=new_dataset[0].shape, dtype=new_dataset[0].dtype)\n",
    "f['xt'][:] = new_dataset[0]\n",
    "f.create_dataset('yt', shape=new_dataset[1].shape, dtype=new_dataset[1].dtype)\n",
    "f['yt'][:] = new_dataset[1]\n",
    "f.create_dataset('xv', shape=new_dataset[2].shape, dtype=new_dataset[2].dtype)\n",
    "f['xv'][:] = new_dataset[2]\n",
    "f.create_dataset('yv', shape=new_dataset[3].shape, dtype=new_dataset[3].dtype)\n",
    "f['yv'][:] = new_dataset[3]\n",
    "f.create_dataset('xtest', shape=new_dataset[4].shape, dtype=new_dataset[4].dtype)\n",
    "f['xtest'][:] = new_dataset[4]\n",
    "f.create_dataset('ytest', shape=new_dataset[5].shape, dtype=new_dataset[5].dtype)\n",
    "f['ytest'][:] = new_dataset[5]\n",
    "f.close()"
   ]
  },
  {
   "cell_type": "code",
   "execution_count": 151,
   "metadata": {
    "collapsed": false
   },
   "outputs": [],
   "source": [
    "%%bash\n",
    "rm /tmp/mnist.ord.a.h5"
   ]
  },
  {
   "cell_type": "code",
   "execution_count": null,
   "metadata": {
    "collapsed": true
   },
   "outputs": [],
   "source": []
  }
 ],
 "metadata": {
  "kernelspec": {
   "display_name": "Python 2",
   "language": "python",
   "name": "python2"
  },
  "language_info": {
   "codemirror_mode": {
    "name": "ipython",
    "version": 2
   },
   "file_extension": ".py",
   "mimetype": "text/x-python",
   "name": "python",
   "nbconvert_exporter": "python",
   "pygments_lexer": "ipython2",
   "version": "2.7.13"
  }
 },
 "nbformat": 4,
 "nbformat_minor": 2
}
