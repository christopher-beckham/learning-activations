{
 "cells": [
  {
   "cell_type": "markdown",
   "metadata": {},
   "source": [
    "### Stick-breaking formulation for ordinal classification"
   ]
  },
  {
   "cell_type": "markdown",
   "metadata": {},
   "source": [
    "http://proceedings.mlr.press/v22/khan12/khan12.pdf"
   ]
  },
  {
   "cell_type": "code",
   "execution_count": 1,
   "metadata": {
    "collapsed": true
   },
   "outputs": [],
   "source": [
    "import numpy as np\n",
    "from theano import tensor as T\n",
    "import lasagne\n",
    "from lasagne.layers import *\n",
    "from lasagne.nonlinearities import *"
   ]
  },
  {
   "cell_type": "code",
   "execution_count": 2,
   "metadata": {
    "collapsed": true
   },
   "outputs": [],
   "source": [
    "k = 10"
   ]
  },
  {
   "cell_type": "code",
   "execution_count": 3,
   "metadata": {
    "collapsed": true
   },
   "outputs": [],
   "source": [
    "l_in = InputLayer((None, k-1)) # for a 4-class problem"
   ]
  },
  {
   "cell_type": "code",
   "execution_count": 4,
   "metadata": {
    "collapsed": false
   },
   "outputs": [],
   "source": [
    "l_sp = NonlinearityLayer(l_in, nonlinearity=softplus)"
   ]
  },
  {
   "cell_type": "code",
   "execution_count": 5,
   "metadata": {
    "collapsed": true
   },
   "outputs": [],
   "source": [
    "l_agg = DenseLayer(l_sp, num_units=k-1, nonlinearity=linear, W=np.tri(k-1,k-1).T.astype(\"float32\"))"
   ]
  },
  {
   "cell_type": "code",
   "execution_count": 6,
   "metadata": {
    "collapsed": false
   },
   "outputs": [],
   "source": [
    "l_merge = ElemwiseMergeLayer([l_in, l_agg], merge_function=T.sub)"
   ]
  },
  {
   "cell_type": "code",
   "execution_count": 7,
   "metadata": {
    "collapsed": true
   },
   "outputs": [],
   "source": [
    "l_exp = NonlinearityLayer(l_merge, nonlinearity=T.exp)"
   ]
  },
  {
   "cell_type": "code",
   "execution_count": 8,
   "metadata": {
    "collapsed": false
   },
   "outputs": [],
   "source": [
    "l_extra = DenseLayer(l_exp, num_units=k, nonlinearity=linear, W=np.eye(k-1,k).astype(\"float32\"))"
   ]
  },
  {
   "cell_type": "code",
   "execution_count": 9,
   "metadata": {
    "collapsed": false
   },
   "outputs": [],
   "source": [
    "extra_mat = l_extra.W.get_value()\n",
    "extra_mat[:,-1] -= 1\n",
    "l_extra.W.set_value(extra_mat)"
   ]
  },
  {
   "cell_type": "code",
   "execution_count": 10,
   "metadata": {
    "collapsed": false
   },
   "outputs": [
    {
     "data": {
      "text/plain": [
       "array([ 0.,  0.,  0.,  0.,  0.,  0.,  0.,  0.,  0.,  1.])"
      ]
     },
     "execution_count": 10,
     "metadata": {},
     "output_type": "execute_result"
    }
   ],
   "source": [
    "extra_bias = l_extra.b.get_value()\n",
    "extra_bias[-1] = 1\n",
    "l_extra.b.set_value( extra_bias )\n",
    "l_extra.b.get_value()"
   ]
  },
  {
   "cell_type": "markdown",
   "metadata": {},
   "source": [
    "-------"
   ]
  },
  {
   "cell_type": "code",
   "execution_count": 11,
   "metadata": {
    "collapsed": false
   },
   "outputs": [],
   "source": [
    "tmp1, tmp2 = get_output([l_sp,l_agg], l_in.input_var)\n",
    "tmp3 = get_output(l_exp, l_in.input_var)\n",
    "tmp4 = get_output(l_extra, l_in.input_var)"
   ]
  },
  {
   "cell_type": "code",
   "execution_count": 13,
   "metadata": {
    "collapsed": false,
    "scrolled": true
   },
   "outputs": [
    {
     "name": "stdout",
     "output_type": "stream",
     "text": [
      "[[  7.55007885e-01   2.07538060e+00   3.17754822e+00   5.83505138e-02\n",
      "    1.14708461e-01   1.11768462e+00   1.56903536e-04   2.55948629e+00\n",
      "    4.26801817e-01]]\n",
      "[[  0.75500788   2.83038849   6.0079367    6.06628722   6.18099568\n",
      "    7.2986803    7.2988372    9.85832349  10.28512531]]\n"
     ]
    }
   ],
   "source": [
    "fake_x = np.random.normal(0,3,size=(1,k-1)).astype(\"float32\")\n",
    "#fake_x = np.asarray([[1.5,0.11,0.215]]).astype(\"float32\")\n",
    "print tmp1.eval({l_in.input_var: fake_x})\n",
    "print tmp2.eval({l_in.input_var: fake_x})\n"
   ]
  },
  {
   "cell_type": "code",
   "execution_count": 14,
   "metadata": {
    "collapsed": false
   },
   "outputs": [
    {
     "data": {
      "text/plain": [
       "array([[  5.29993091e-01,   4.11016977e-01,   5.65307754e-02,\n",
       "          1.39386876e-04,   2.51402643e-04,   1.39193652e-03,\n",
       "          1.06126070e-07,   6.24014775e-04,   1.81728580e-05]])"
      ]
     },
     "execution_count": 14,
     "metadata": {},
     "output_type": "execute_result"
    }
   ],
   "source": [
    "tmp3.eval({l_in.input_var: fake_x})"
   ]
  },
  {
   "cell_type": "code",
   "execution_count": 17,
   "metadata": {
    "collapsed": false
   },
   "outputs": [
    {
     "data": {
      "text/plain": [
       "[[0.5299930911335945,\n",
       "  0.41101697656693015,\n",
       "  0.05653077538130948,\n",
       "  0.0001393868755976593,\n",
       "  0.00025140264337855135,\n",
       "  0.0013919365239889062,\n",
       "  1.061260699801705e-07,\n",
       "  0.000624014774778221,\n",
       "  1.817285795479545e-05,\n",
       "  3.413711639776995e-05]]"
      ]
     },
     "execution_count": 17,
     "metadata": {},
     "output_type": "execute_result"
    }
   ],
   "source": [
    "tmp4.eval({l_in.input_var: fake_x}).tolist()"
   ]
  },
  {
   "cell_type": "code",
   "execution_count": 16,
   "metadata": {
    "collapsed": false
   },
   "outputs": [
    {
     "data": {
      "text/plain": [
       "1.0"
      ]
     },
     "execution_count": 16,
     "metadata": {},
     "output_type": "execute_result"
    }
   ],
   "source": [
    "np.sum(tmp4.eval({l_in.input_var: fake_x}))"
   ]
  },
  {
   "cell_type": "markdown",
   "metadata": {},
   "source": [
    "----"
   ]
  },
  {
   "cell_type": "code",
   "execution_count": 61,
   "metadata": {
    "collapsed": false
   },
   "outputs": [
    {
     "data": {
      "text/plain": [
       "array([[ 0.0039312 ,  1.06453777, -0.94312781, -0.99296491]])"
      ]
     },
     "execution_count": 61,
     "metadata": {},
     "output_type": "execute_result"
    }
   ],
   "source": [
    "np.random.normal(0,1,size=(1,4))"
   ]
  },
  {
   "cell_type": "code",
   "execution_count": null,
   "metadata": {
    "collapsed": true
   },
   "outputs": [],
   "source": []
  }
 ],
 "metadata": {
  "kernelspec": {
   "display_name": "Python 2",
   "language": "python",
   "name": "python2"
  },
  "language_info": {
   "codemirror_mode": {
    "name": "ipython",
    "version": 2
   },
   "file_extension": ".py",
   "mimetype": "text/x-python",
   "name": "python",
   "nbconvert_exporter": "python",
   "pygments_lexer": "ipython2",
   "version": "2.7.13"
  }
 },
 "nbformat": 4,
 "nbformat_minor": 2
}
