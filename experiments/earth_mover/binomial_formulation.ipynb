{
 "cells": [
  {
   "cell_type": "code",
   "execution_count": 8,
   "metadata": {
    "collapsed": true
   },
   "outputs": [],
   "source": [
    "import numpy as np\n",
    "import theano\n",
    "from theano import tensor as T\n",
    "import lasagne\n",
    "from lasagne.layers import *\n",
    "from lasagne.nonlinearities import *\n",
    "from scipy.misc import factorial\n",
    "import scipy\n",
    "import matplotlib.pyplot as plt\n",
    "%matplotlib inline"
   ]
  },
  {
   "cell_type": "code",
   "execution_count": 2,
   "metadata": {
    "collapsed": true
   },
   "outputs": [],
   "source": [
    "def _remove_trainable(layer):\n",
    "    for key in layer.params:\n",
    "        layer.params[key].remove('trainable')"
   ]
  },
  {
   "cell_type": "code",
   "execution_count": 67,
   "metadata": {
    "collapsed": false
   },
   "outputs": [],
   "source": [
    "def get_net(k):\n",
    "    # k = num classes\n",
    "    l_in = InputLayer((None, 1))\n",
    "    l_copy = DenseLayer(l_in, num_units=k, nonlinearity=linear)\n",
    "    l_copy.W.set_value( np.ones((1,k)).astype(\"float32\") )\n",
    "    _remove_trainable(l_copy)\n",
    "    c = np.asarray([[(i) for i in range(0, k)]], dtype=\"float32\")\n",
    "    #print np.fa\n",
    "    #l_binom_coef = ExpressionLayer(l_copy, lambda x: (factorial(k) / ( factorial(c)*factorial(k - c) )) * x )\n",
    "    binom_coef = scipy.special.binom(k-1, c)\n",
    "    #l_logf = ExpressionLayer( l_copy, lambda px: (c*T.log(px)) + ((k-1-c)*T.log(1.-px)) )\n",
    "    #l_logf = ExpressionLayer(l_logf, lambda px: T.exp(px) )\n",
    "    #l_logf = ExpressionLayer(l_logf, lambda px: binom_coef*px )\n",
    "    #### let's try to do a more stable one\n",
    "    l_logf = ExpressionLayer( l_copy, lambda px: T.log(binom_coef) + (c*T.log(px)) + ((k-1-c)*T.log(1.-px)) )\n",
    "    l_logf = NonlinearityLayer(l_logf, nonlinearity=softmax)\n",
    "    \n",
    "    print c\n",
    "    print binom_coef\n",
    "    return l_copy, l_logf"
   ]
  },
  {
   "cell_type": "code",
   "execution_count": 68,
   "metadata": {
    "collapsed": false
   },
   "outputs": [
    {
     "name": "stdout",
     "output_type": "stream",
     "text": [
      "[[ 0.  1.  2.  3.  4.  5.  6.  7.]]\n",
      "[[  1.   7.  21.  35.  35.  21.   7.   1.]]\n"
     ]
    }
   ],
   "source": [
    "k = 8\n",
    "c = np.asarray([[(i) for i in range(0, k)]], dtype=\"float32\")\n",
    "l_copy, l_logf = get_net(k)"
   ]
  },
  {
   "cell_type": "code",
   "execution_count": 69,
   "metadata": {
    "collapsed": false
   },
   "outputs": [
    {
     "name": "stdout",
     "output_type": "stream",
     "text": [
      "<lasagne.layers.input.InputLayer object at 0x11cdfe150> (None, 1)\n",
      "<lasagne.layers.dense.DenseLayer object at 0x11ce31d10> (None, 8)\n",
      "<lasagne.layers.special.ExpressionLayer object at 0x11cdeb910> (None, 8)\n",
      "<lasagne.layers.special.NonlinearityLayer object at 0x11cdb1710> (None, 8)\n"
     ]
    }
   ],
   "source": [
    "for layer in get_all_layers(l_logf):\n",
    "    print layer, layer.output_shape"
   ]
  },
  {
   "cell_type": "code",
   "execution_count": 70,
   "metadata": {
    "collapsed": false
   },
   "outputs": [
    {
     "name": "stdout",
     "output_type": "stream",
     "text": [
      "[[ 0.0016384   0.01720319  0.07741438  0.19353598  0.290304    0.26127363\n",
      "   0.13063681  0.02799361]] 1.0\n",
      "[[ 0.60000002  0.60000002  0.60000002  0.60000002  0.60000002  0.60000002\n",
      "   0.60000002  0.60000002]]\n"
     ]
    }
   ],
   "source": [
    "X = T.fmatrix('X')\n",
    "net_out = get_output(l_logf, X)\n",
    "p_out = get_output(l_copy, X)\n",
    "xfake = np.asarray([[0.6]]).astype(\"float32\")\n",
    "pdist = net_out.eval({X: xfake.astype(\"float32\")})\n",
    "print pdist, np.sum(pdist)\n",
    "p = p_out.eval({X: xfake.astype(\"float32\")})\n",
    "print p"
   ]
  },
  {
   "cell_type": "code",
   "execution_count": 71,
   "metadata": {
    "collapsed": false
   },
   "outputs": [
    {
     "data": {
      "text/plain": [
       "[<matplotlib.lines.Line2D at 0x11b5ee750>]"
      ]
     },
     "execution_count": 71,
     "metadata": {},
     "output_type": "execute_result"
    },
    {
     "data": {
      "image/png": "[encoded data removed]",
      "text/plain": [
       "<matplotlib.figure.Figure at 0x110c3d150>"
      ]
     },
     "metadata": {},
     "output_type": "display_data"
    }
   ],
   "source": [
    "plt.plot(pdist[0],\"bo\")"
   ]
  },
  {
   "cell_type": "code",
   "execution_count": 43,
   "metadata": {
    "collapsed": false
   },
   "outputs": [
    {
     "name": "stdout",
     "output_type": "stream",
     "text": [
      "[[ 0.0625      0.25        0.375       0.24999999  0.0625    ]]\n",
      "0.999999992254\n"
     ]
    }
   ],
   "source": [
    "ground_dist = scipy.stats.binom.pmf(c, k-1, 0.5)\n",
    "print ground_dist\n",
    "print np.sum(ground_dist)"
   ]
  },
  {
   "cell_type": "code",
   "execution_count": 37,
   "metadata": {
    "collapsed": false
   },
   "outputs": [
    {
     "data": {
      "text/plain": [
       "array([[ 0.01456024,  0.10942171,  0.30836833,  0.38623667,  0.18141304]])"
      ]
     },
     "execution_count": 37,
     "metadata": {},
     "output_type": "execute_result"
    }
   ],
   "source": [
    "scipy.stats.binom.pmf(c, k-1, p[0][0])"
   ]
  },
  {
   "cell_type": "code",
   "execution_count": 113,
   "metadata": {
    "collapsed": false
   },
   "outputs": [
    {
     "data": {
      "text/plain": [
       "numpy.ndarray"
      ]
     },
     "execution_count": 113,
     "metadata": {},
     "output_type": "execute_result"
    }
   ],
   "source": [
    "type(scipy.special.binom(k-1, c))"
   ]
  },
  {
   "cell_type": "markdown",
   "metadata": {},
   "source": [
    "-----------"
   ]
  },
  {
   "cell_type": "code",
   "execution_count": 377,
   "metadata": {
    "collapsed": false
   },
   "outputs": [
    {
     "data": {
      "text/plain": [
       "0.21374255158533834"
      ]
     },
     "execution_count": 377,
     "metadata": {},
     "output_type": "execute_result"
    }
   ],
   "source": [
    "px = 0.21374255158533834\n",
    "px"
   ]
  },
  {
   "cell_type": "code",
   "execution_count": 388,
   "metadata": {
    "collapsed": false
   },
   "outputs": [
    {
     "name": "stdout",
     "output_type": "stream",
     "text": [
      "[[ 0.30048574  0.4084323   0.22206305  0.06036741  0.00820538]]\n",
      "0.999553876657\n"
     ]
    }
   ],
   "source": [
    "c = np.asarray([[(i) for i in range(0, k)]], dtype=\"float32\")\n",
    "k = 5\n",
    "binom_coef = scipy.special.binom(k, c)\n",
    "#binom_coef = 1\n",
    "tmp = T.exp( (c*T.log(px)) + ((k-c)*T.log(1.-px)) ).eval()\n",
    "#tmp = (px**c) * ((1-px)**(k-c))\n",
    "tmp = tmp * binom_coef\n",
    "#tmp = tmp * binom_coef\n",
    "print tmp\n",
    "print np.sum(tmp)"
   ]
  },
  {
   "cell_type": "code",
   "execution_count": 349,
   "metadata": {
    "collapsed": false
   },
   "outputs": [
    {
     "data": {
      "text/plain": [
       "array([[  5.,  10.,  10.,   5.,   1.]], dtype=float32)"
      ]
     },
     "execution_count": 349,
     "metadata": {},
     "output_type": "execute_result"
    }
   ],
   "source": [
    "binom_coef"
   ]
  },
  {
   "cell_type": "code",
   "execution_count": 358,
   "metadata": {
    "collapsed": false
   },
   "outputs": [],
   "source": [
    "import scipy\n",
    "?scipy.special.binom(k, c)"
   ]
  },
  {
   "cell_type": "code",
   "execution_count": 372,
   "metadata": {
    "collapsed": false
   },
   "outputs": [
    {
     "data": {
      "text/plain": [
       "0.99955387471228974"
      ]
     },
     "execution_count": 372,
     "metadata": {},
     "output_type": "execute_result"
    }
   ],
   "source": [
    "# x, n, p\n",
    "np.sum(scipy.stats.binom.pmf(c, k, p))"
   ]
  },
  {
   "cell_type": "code",
   "execution_count": 374,
   "metadata": {
    "collapsed": false
   },
   "outputs": [
    {
     "data": {
      "text/plain": [
       "[<matplotlib.lines.Line2D at 0x113affd50>]"
      ]
     },
     "execution_count": 374,
     "metadata": {},
     "output_type": "execute_result"
    },
    {
     "data": {
      "image/png": "[encoded data removed]",
      "text/plain": [
       "<matplotlib.figure.Figure at 0x1122f9410>"
      ]
     },
     "metadata": {},
     "output_type": "display_data"
    }
   ],
   "source": [
    "plt.plot(scipy.stats.binom.pmf(c, k, p)[0],\"ro\")"
   ]
  },
  {
   "cell_type": "code",
   "execution_count": 369,
   "metadata": {
    "collapsed": false
   },
   "outputs": [
    {
     "data": {
      "text/plain": [
       "array([[ 1.,  2.,  3.,  4.,  5.]], dtype=float32)"
      ]
     },
     "execution_count": 369,
     "metadata": {},
     "output_type": "execute_result"
    }
   ],
   "source": [
    "c"
   ]
  },
  {
   "cell_type": "markdown",
   "metadata": {},
   "source": [
    "-----"
   ]
  },
  {
   "cell_type": "code",
   "execution_count": 29,
   "metadata": {
    "collapsed": false
   },
   "outputs": [
    {
     "data": {
      "text/plain": [
       "array([[ 1.,  2.,  3.,  4.,  5.]], dtype=float32)"
      ]
     },
     "execution_count": 29,
     "metadata": {},
     "output_type": "execute_result"
    }
   ],
   "source": [
    "c = np.asarray([[(i+1) for i in range(0, k)]], dtype=\"float32\")\n",
    "c"
   ]
  },
  {
   "cell_type": "code",
   "execution_count": 33,
   "metadata": {
    "collapsed": false
   },
   "outputs": [
    {
     "data": {
      "text/plain": [
       "array([[  5.,  10.,  10.,   5.,   1.]], dtype=float32)"
      ]
     },
     "execution_count": 33,
     "metadata": {},
     "output_type": "execute_result"
    }
   ],
   "source": [
    "factorial(k) / ( factorial(c)*factorial(k - c) )"
   ]
  },
  {
   "cell_type": "code",
   "execution_count": 32,
   "metadata": {
    "collapsed": false
   },
   "outputs": [
    {
     "data": {
      "text/plain": [
       "array([[   1.,    2.,    6.,   24.,  120.]], dtype=float32)"
      ]
     },
     "execution_count": 32,
     "metadata": {},
     "output_type": "execute_result"
    }
   ],
   "source": [
    "factorial(c)"
   ]
  },
  {
   "cell_type": "code",
   "execution_count": 34,
   "metadata": {
    "collapsed": true
   },
   "outputs": [],
   "source": [
    "?T.exp"
   ]
  },
  {
   "cell_type": "code",
   "execution_count": 184,
   "metadata": {
    "collapsed": true
   },
   "outputs": [],
   "source": [
    "?T.log"
   ]
  },
  {
   "cell_type": "code",
   "execution_count": 185,
   "metadata": {
    "collapsed": false
   },
   "outputs": [
    {
     "data": {
      "text/plain": [
       "array(-0.6931471824645996, dtype=float32)"
      ]
     },
     "execution_count": 185,
     "metadata": {},
     "output_type": "execute_result"
    }
   ],
   "source": [
    "T.log(0.5).eval()"
   ]
  },
  {
   "cell_type": "code",
   "execution_count": 123,
   "metadata": {
    "collapsed": false
   },
   "outputs": [
    {
     "data": {
      "text/plain": [
       "-6.9077552789821368"
      ]
     },
     "execution_count": 123,
     "metadata": {},
     "output_type": "execute_result"
    }
   ],
   "source": [
    "np.log(0.001)"
   ]
  },
  {
   "cell_type": "code",
   "execution_count": null,
   "metadata": {
    "collapsed": true
   },
   "outputs": [],
   "source": []
  }
 ],
 "metadata": {
  "kernelspec": {
   "display_name": "Python 2",
   "language": "python",
   "name": "python2"
  },
  "language_info": {
   "codemirror_mode": {
    "name": "ipython",
    "version": 2
   },
   "file_extension": ".py",
   "mimetype": "text/x-python",
   "name": "python",
   "nbconvert_exporter": "python",
   "pygments_lexer": "ipython2",
   "version": "2.7.13"
  }
 },
 "nbformat": 4,
 "nbformat_minor": 2
}
