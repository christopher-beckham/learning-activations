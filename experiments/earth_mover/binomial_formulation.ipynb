{
 "cells": [
  {
   "cell_type": "code",
   "execution_count": 23,
   "metadata": {
    "collapsed": true
   },
   "outputs": [],
   "source": [
    "import numpy as np\n",
    "import theano\n",
    "from theano import tensor as T\n",
    "import lasagne\n",
    "from lasagne.layers import *\n",
    "from lasagne.nonlinearities import *\n",
    "from scipy.misc import factorial"
   ]
  },
  {
   "cell_type": "code",
   "execution_count": 7,
   "metadata": {
    "collapsed": true
   },
   "outputs": [],
   "source": [
    "def _remove_trainable(layer):\n",
    "    for key in layer.params:\n",
    "        layer.params[key].remove('trainable')"
   ]
  },
  {
   "cell_type": "code",
   "execution_count": 389,
   "metadata": {
    "collapsed": false
   },
   "outputs": [],
   "source": [
    "def get_net(k):\n",
    "    # k = num classes\n",
    "    l_in = InputLayer((None, 10))\n",
    "    l_sigm = DenseLayer(l_in, num_units=1, nonlinearity=sigmoid)\n",
    "    l_copy = DenseLayer(l_sigm, num_units=k, nonlinearity=linear)\n",
    "    l_copy.W.set_value( np.ones((1,k)).astype(\"float32\") )\n",
    "    _remove_trainable(l_copy)\n",
    "    c = np.asarray([[(i) for i in range(0, k)]], dtype=\"float32\")\n",
    "    #print np.fa\n",
    "    #l_binom_coef = ExpressionLayer(l_copy, lambda x: (factorial(k) / ( factorial(c)*factorial(k - c) )) * x )\n",
    "    l_logf = ExpressionLayer( l_copy, lambda px: T.exp( (c*T.log(px)) + ((k-c)*T.log(1.-px)) ) )\n",
    "    #l_explogf = ExpressionLayer(l_logf, lambda x: T.exp(x))\n",
    "    binom_coef = scipy.special.binom(k, c)\n",
    "    l_logf = ExpressionLayer(l_logf, lambda px: binom_coef*px)\n",
    "    print c\n",
    "    return l_copy, l_logf"
   ]
  },
  {
   "cell_type": "code",
   "execution_count": 390,
   "metadata": {
    "collapsed": false
   },
   "outputs": [
    {
     "name": "stdout",
     "output_type": "stream",
     "text": [
      "[[ 0.  1.  2.  3.  4.]]\n"
     ]
    }
   ],
   "source": [
    "k = 5\n",
    "l_copy, l_logf = get_net(k)"
   ]
  },
  {
   "cell_type": "code",
   "execution_count": 391,
   "metadata": {
    "collapsed": false
   },
   "outputs": [
    {
     "name": "stdout",
     "output_type": "stream",
     "text": [
      "<lasagne.layers.input.InputLayer object at 0x11537ab90> (None, 10)\n",
      "<lasagne.layers.dense.DenseLayer object at 0x11537afd0> (None, 1)\n",
      "<lasagne.layers.dense.DenseLayer object at 0x11537ae50> (None, 5)\n",
      "<lasagne.layers.special.ExpressionLayer object at 0x11537d1d0> (None, 5)\n",
      "<lasagne.layers.special.ExpressionLayer object at 0x11537d390> (None, 5)\n"
     ]
    }
   ],
   "source": [
    "for layer in get_all_layers(l_logf):\n",
    "    print layer, layer.output_shape"
   ]
  },
  {
   "cell_type": "code",
   "execution_count": 392,
   "metadata": {
    "collapsed": false
   },
   "outputs": [
    {
     "name": "stdout",
     "output_type": "stream",
     "text": [
      "[[ 0.1204989   0.31743908  0.3345012   0.1762402   0.04642825]] 0.995107627034\n",
      "[[ 0.34506738  0.34506738  0.34506738  0.34506738  0.34506738]]\n"
     ]
    }
   ],
   "source": [
    "X = T.fmatrix('X')\n",
    "net_out = get_output(l_logf, X)\n",
    "p_out = get_output(l_copy, X)\n",
    "xfake = np.random.normal(0,1,size=(1,10))\n",
    "pdist = net_out.eval({X: xfake.astype(\"float32\")})\n",
    "print pdist, np.sum(pdist)\n",
    "p = p_out.eval({X: xfake.astype(\"float32\")})\n",
    "print p"
   ]
  },
  {
   "cell_type": "code",
   "execution_count": 393,
   "metadata": {
    "collapsed": false
   },
   "outputs": [
    {
     "data": {
      "text/plain": [
       "[<matplotlib.lines.Line2D at 0x11558ee90>]"
      ]
     },
     "execution_count": 393,
     "metadata": {},
     "output_type": "execute_result"
    },
    {
     "data": {
      "image/png": "[encoded data removed]",
      "text/plain": [
       "<matplotlib.figure.Figure at 0x115530650>"
      ]
     },
     "metadata": {},
     "output_type": "display_data"
    }
   ],
   "source": [
    "import matplotlib.pyplot as plt\n",
    "%matplotlib inline\n",
    "plt.plot(pdist[0], \"ro\")"
   ]
  },
  {
   "cell_type": "code",
   "execution_count": 377,
   "metadata": {
    "collapsed": false
   },
   "outputs": [
    {
     "data": {
      "text/plain": [
       "0.21374255158533834"
      ]
     },
     "execution_count": 377,
     "metadata": {},
     "output_type": "execute_result"
    }
   ],
   "source": [
    "px = 0.21374255158533834\n",
    "px"
   ]
  },
  {
   "cell_type": "code",
   "execution_count": 388,
   "metadata": {
    "collapsed": false
   },
   "outputs": [
    {
     "name": "stdout",
     "output_type": "stream",
     "text": [
      "[[ 0.30048574  0.4084323   0.22206305  0.06036741  0.00820538]]\n",
      "0.999553876657\n"
     ]
    }
   ],
   "source": [
    "c = np.asarray([[(i) for i in range(0, k)]], dtype=\"float32\")\n",
    "k = 5\n",
    "binom_coef = scipy.special.binom(k, c)\n",
    "#binom_coef = 1\n",
    "tmp = T.exp( (c*T.log(px)) + ((k-c)*T.log(1.-px)) ).eval()\n",
    "#tmp = (px**c) * ((1-px)**(k-c))\n",
    "tmp = tmp * binom_coef\n",
    "#tmp = tmp * binom_coef\n",
    "print tmp\n",
    "print np.sum(tmp)"
   ]
  },
  {
   "cell_type": "code",
   "execution_count": 349,
   "metadata": {
    "collapsed": false
   },
   "outputs": [
    {
     "data": {
      "text/plain": [
       "array([[  5.,  10.,  10.,   5.,   1.]], dtype=float32)"
      ]
     },
     "execution_count": 349,
     "metadata": {},
     "output_type": "execute_result"
    }
   ],
   "source": [
    "binom_coef"
   ]
  },
  {
   "cell_type": "code",
   "execution_count": 358,
   "metadata": {
    "collapsed": false
   },
   "outputs": [],
   "source": [
    "import scipy\n",
    "?scipy.special.binom(k, c)"
   ]
  },
  {
   "cell_type": "code",
   "execution_count": 372,
   "metadata": {
    "collapsed": false
   },
   "outputs": [
    {
     "data": {
      "text/plain": [
       "0.99955387471228974"
      ]
     },
     "execution_count": 372,
     "metadata": {},
     "output_type": "execute_result"
    }
   ],
   "source": [
    "# x, n, p\n",
    "np.sum(scipy.stats.binom.pmf(c, k, p))"
   ]
  },
  {
   "cell_type": "code",
   "execution_count": 374,
   "metadata": {
    "collapsed": false
   },
   "outputs": [
    {
     "data": {
      "text/plain": [
       "[<matplotlib.lines.Line2D at 0x113affd50>]"
      ]
     },
     "execution_count": 374,
     "metadata": {},
     "output_type": "execute_result"
    },
    {
     "data": {
      "image/png": "[encoded data removed]",
      "text/plain": [
       "<matplotlib.figure.Figure at 0x1122f9410>"
      ]
     },
     "metadata": {},
     "output_type": "display_data"
    }
   ],
   "source": [
    "plt.plot(scipy.stats.binom.pmf(c, k, p)[0],\"ro\")"
   ]
  },
  {
   "cell_type": "code",
   "execution_count": 369,
   "metadata": {
    "collapsed": false
   },
   "outputs": [
    {
     "data": {
      "text/plain": [
       "array([[ 1.,  2.,  3.,  4.,  5.]], dtype=float32)"
      ]
     },
     "execution_count": 369,
     "metadata": {},
     "output_type": "execute_result"
    }
   ],
   "source": [
    "c"
   ]
  },
  {
   "cell_type": "markdown",
   "metadata": {},
   "source": [
    "-----"
   ]
  },
  {
   "cell_type": "code",
   "execution_count": 29,
   "metadata": {
    "collapsed": false
   },
   "outputs": [
    {
     "data": {
      "text/plain": [
       "array([[ 1.,  2.,  3.,  4.,  5.]], dtype=float32)"
      ]
     },
     "execution_count": 29,
     "metadata": {},
     "output_type": "execute_result"
    }
   ],
   "source": [
    "c = np.asarray([[(i+1) for i in range(0, k)]], dtype=\"float32\")\n",
    "c"
   ]
  },
  {
   "cell_type": "code",
   "execution_count": 33,
   "metadata": {
    "collapsed": false
   },
   "outputs": [
    {
     "data": {
      "text/plain": [
       "array([[  5.,  10.,  10.,   5.,   1.]], dtype=float32)"
      ]
     },
     "execution_count": 33,
     "metadata": {},
     "output_type": "execute_result"
    }
   ],
   "source": [
    "factorial(k) / ( factorial(c)*factorial(k - c) )"
   ]
  },
  {
   "cell_type": "code",
   "execution_count": 32,
   "metadata": {
    "collapsed": false
   },
   "outputs": [
    {
     "data": {
      "text/plain": [
       "array([[   1.,    2.,    6.,   24.,  120.]], dtype=float32)"
      ]
     },
     "execution_count": 32,
     "metadata": {},
     "output_type": "execute_result"
    }
   ],
   "source": [
    "factorial(c)"
   ]
  },
  {
   "cell_type": "code",
   "execution_count": 34,
   "metadata": {
    "collapsed": true
   },
   "outputs": [],
   "source": [
    "?T.exp"
   ]
  },
  {
   "cell_type": "code",
   "execution_count": 184,
   "metadata": {
    "collapsed": true
   },
   "outputs": [],
   "source": [
    "?T.log"
   ]
  },
  {
   "cell_type": "code",
   "execution_count": 185,
   "metadata": {
    "collapsed": false
   },
   "outputs": [
    {
     "data": {
      "text/plain": [
       "array(-0.6931471824645996, dtype=float32)"
      ]
     },
     "execution_count": 185,
     "metadata": {},
     "output_type": "execute_result"
    }
   ],
   "source": [
    "T.log(0.5).eval()"
   ]
  },
  {
   "cell_type": "code",
   "execution_count": null,
   "metadata": {
    "collapsed": true
   },
   "outputs": [],
   "source": []
  }
 ],
 "metadata": {
  "kernelspec": {
   "display_name": "Python 2",
   "language": "python",
   "name": "python2"
  },
  "language_info": {
   "codemirror_mode": {
    "name": "ipython",
    "version": 2
   },
   "file_extension": ".py",
   "mimetype": "text/x-python",
   "name": "python",
   "nbconvert_exporter": "python",
   "pygments_lexer": "ipython2",
   "version": "2.7.13"
  }
 },
 "nbformat": 4,
 "nbformat_minor": 2
}
