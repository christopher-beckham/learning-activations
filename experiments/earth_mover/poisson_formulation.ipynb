{
 "cells": [
  {
   "cell_type": "code",
   "execution_count": 27,
   "metadata": {
    "collapsed": true
   },
   "outputs": [],
   "source": [
    "import lasagne\n",
    "import theano\n",
    "from theano import tensor as T\n",
    "from lasagne.layers import *\n",
    "from lasagne.nonlinearities import *\n",
    "import numpy as np\n",
    "from scipy.misc import factorial\n",
    "import matplotlib.pyplot as plt\n",
    "%matplotlib inline"
   ]
  },
  {
   "cell_type": "code",
   "execution_count": 3,
   "metadata": {
    "collapsed": false
   },
   "outputs": [],
   "source": [
    "l_in = InputLayer((None, 1))\n",
    "l_copy = DenseLayer(l_in, num_units=4)\n",
    "l_copy.W.set_value( np.ones((1,4)) )"
   ]
  },
  {
   "cell_type": "code",
   "execution_count": 4,
   "metadata": {
    "collapsed": true
   },
   "outputs": [],
   "source": [
    "X = T.fmatrix('X')"
   ]
  },
  {
   "cell_type": "code",
   "execution_count": 5,
   "metadata": {
    "collapsed": false
   },
   "outputs": [
    {
     "data": {
      "text/plain": [
       "array([[ 1.,  1.,  1.,  1.],\n",
       "       [ 2.,  2.,  2.,  2.]])"
      ]
     },
     "execution_count": 5,
     "metadata": {},
     "output_type": "execute_result"
    }
   ],
   "source": [
    "copy_val = get_output(l_copy, X).eval({X: np.asarray([[1.],[2.]]).astype(\"float32\")})\n",
    "copy_val"
   ]
  },
  {
   "cell_type": "code",
   "execution_count": 6,
   "metadata": {
    "collapsed": false
   },
   "outputs": [
    {
     "name": "stdout",
     "output_type": "stream",
     "text": [
      "[[  1.   2.   6.  24.]]\n"
     ]
    }
   ],
   "source": [
    "c = np.asarray([[1.0,2.0,3.0,4.0]])\n",
    "cf = factorial(c)\n",
    "print cf"
   ]
  },
  {
   "cell_type": "code",
   "execution_count": 7,
   "metadata": {
    "collapsed": false
   },
   "outputs": [
    {
     "data": {
      "text/plain": [
       "array([[-0.99004967, -0.98009934, -0.97014901, -0.96019868],\n",
       "       [-1.30186528, -0.60373056,  0.09440417,  0.79253889]])"
      ]
     },
     "execution_count": 7,
     "metadata": {},
     "output_type": "execute_result"
    }
   ],
   "source": [
    "(c*np.log(copy_val+0.01)) - copy_val"
   ]
  },
  {
   "cell_type": "code",
   "execution_count": 8,
   "metadata": {
    "collapsed": true
   },
   "outputs": [],
   "source": [
    "tau = 0.3"
   ]
  },
  {
   "cell_type": "code",
   "execution_count": 9,
   "metadata": {
    "collapsed": false
   },
   "outputs": [],
   "source": [
    "l_pois = ExpressionLayer(l_copy, lambda x: ((c*T.log(x+0.01)) - x - T.log(cf)) / tau )"
   ]
  },
  {
   "cell_type": "code",
   "execution_count": 10,
   "metadata": {
    "collapsed": false
   },
   "outputs": [],
   "source": [
    "l_softmax = NonlinearityLayer(l_pois, nonlinearity=softmax)"
   ]
  },
  {
   "cell_type": "code",
   "execution_count": 209,
   "metadata": {
    "collapsed": false
   },
   "outputs": [
    {
     "data": {
      "text/plain": [
       "array([[ 0.5763631 ,  0.32854138,  0.08323413,  0.01186138],\n",
       "       [ 0.24320899,  0.38306025,  0.26814643,  0.10558433]])"
      ]
     },
     "execution_count": 209,
     "metadata": {},
     "output_type": "execute_result"
    }
   ],
   "source": [
    "f_dists = get_output(l_softmax, X).eval({X: np.asarray([[1.5],[2.5]]).astype(\"float32\")})\n",
    "f_dists"
   ]
  },
  {
   "cell_type": "code",
   "execution_count": 11,
   "metadata": {
    "collapsed": true
   },
   "outputs": [],
   "source": [
    "import matplotlib.pyplot as plt\n",
    "%matplotlib inline"
   ]
  },
  {
   "cell_type": "code",
   "execution_count": 178,
   "metadata": {
    "collapsed": false
   },
   "outputs": [
    {
     "name": "stdout",
     "output_type": "stream",
     "text": [
      "[[ 0.32029351]]\n"
     ]
    },
    {
     "data": {
      "text/plain": [
       "<Container object of 4 artists>"
      ]
     },
     "execution_count": 178,
     "metadata": {},
     "output_type": "execute_result"
    },
    {
     "data": {
      "image/png": "[encoded data removed]",
      "text/plain": [
       "<matplotlib.figure.Figure at 0x11b2d2ad0>"
      ]
     },
     "metadata": {},
     "output_type": "display_data"
    }
   ],
   "source": [
    "rnd = np.abs(np.random.normal(0,1,size=(1,1)))\n",
    "some_output = get_output(l_softmax, X).eval({X: rnd.astype(\"float32\")})\n",
    "print rnd\n",
    "plt.bar( [1,2,3,4], some_output[0])"
   ]
  },
  {
   "cell_type": "code",
   "execution_count": 15,
   "metadata": {
    "collapsed": false
   },
   "outputs": [
    {
     "name": "stdout",
     "output_type": "stream",
     "text": [
      "[ 0.          0.17241379  0.34482759  0.51724138  0.68965517  0.86206897\n",
      "  1.03448276  1.20689655  1.37931034  1.55172414  1.72413793  1.89655172\n",
      "  2.06896552  2.24137931  2.4137931   2.5862069   2.75862069  2.93103448\n",
      "  3.10344828  3.27586207  3.44827586  3.62068966  3.79310345  3.96551724\n",
      "  4.13793103  4.31034483  4.48275862  4.65517241  4.82758621  5.        ]\n"
     ]
    }
   ],
   "source": [
    "print arr"
   ]
  },
  {
   "cell_type": "code",
   "execution_count": 18,
   "metadata": {
    "collapsed": true
   },
   "outputs": [],
   "source": [
    "?plt.bar"
   ]
  },
  {
   "cell_type": "code",
   "execution_count": 23,
   "metadata": {
    "collapsed": false
   },
   "outputs": [
    {
     "data": {
      "image/png": "[encoded data removed]",
      "text/plain": [
       "<matplotlib.figure.Figure at 0x112efabd0>"
      ]
     },
     "metadata": {},
     "output_type": "display_data"
    }
   ],
   "source": [
    "plt.figure(figsize=(15,10))\n",
    "arr = np.linspace(0, 5, num=30)\n",
    "for i in range(0, len(arr)):\n",
    "    plt.subplot(6, 5, i+1)\n",
    "    rnd = np.asarray([[arr[i]]]).astype(\"float32\")\n",
    "    some_output = get_output(l_softmax, X).eval({X: rnd.astype(\"float32\")})\n",
    "    plt.title('f(x) = %f' % arr[i])\n",
    "    plt.axis('off')\n",
    "    plt.bar( [1,2,3,4], some_output[0])\n",
    "    #plt.show()"
   ]
  },
  {
   "cell_type": "code",
   "execution_count": 222,
   "metadata": {
    "collapsed": false
   },
   "outputs": [
    {
     "data": {
      "text/plain": [
       "array([ 0.        ,  0.17241379,  0.34482759,  0.51724138,  0.68965517,\n",
       "        0.86206897,  1.03448276,  1.20689655,  1.37931034,  1.55172414,\n",
       "        1.72413793,  1.89655172,  2.06896552,  2.24137931,  2.4137931 ,\n",
       "        2.5862069 ,  2.75862069,  2.93103448,  3.10344828,  3.27586207,\n",
       "        3.44827586,  3.62068966,  3.79310345,  3.96551724,  4.13793103,\n",
       "        4.31034483,  4.48275862,  4.65517241,  4.82758621,  5.        ])"
      ]
     },
     "execution_count": 222,
     "metadata": {},
     "output_type": "execute_result"
    }
   ],
   "source": [
    "arr"
   ]
  },
  {
   "cell_type": "code",
   "execution_count": 221,
   "metadata": {
    "collapsed": false
   },
   "outputs": [
    {
     "ename": "ImportError",
     "evalue": "No module named pydot",
     "output_type": "error",
     "traceback": [
      "\u001b[0;31m---------------------------------------------------------------------------\u001b[0m",
      "\u001b[0;31mImportError\u001b[0m                               Traceback (most recent call last)",
      "\u001b[0;32m<ipython-input-221-9561921ab02e>\u001b[0m in \u001b[0;36m<module>\u001b[0;34m()\u001b[0m\n\u001b[0;32m----> 1\u001b[0;31m \u001b[0;32mimport\u001b[0m \u001b[0mpydot\u001b[0m\u001b[0;34m\u001b[0m\u001b[0m\n\u001b[0m\u001b[1;32m      2\u001b[0m \u001b[0mtheano\u001b[0m\u001b[0;34m.\u001b[0m\u001b[0mprinting\u001b[0m\u001b[0;34m.\u001b[0m\u001b[0mpydotprint\u001b[0m\u001b[0;34m(\u001b[0m\u001b[0mget_output\u001b[0m\u001b[0;34m(\u001b[0m\u001b[0ml_softmax\u001b[0m\u001b[0;34m,\u001b[0m\u001b[0mX\u001b[0m\u001b[0;34m)\u001b[0m\u001b[0;34m)\u001b[0m\u001b[0;34m\u001b[0m\u001b[0m\n",
      "\u001b[0;31mImportError\u001b[0m: No module named pydot"
     ]
    }
   ],
   "source": [
    "import pydot\n",
    "theano.printing.pydotprint(get_output(l_softmax,X))"
   ]
  },
  {
   "cell_type": "code",
   "execution_count": 196,
   "metadata": {
    "collapsed": false
   },
   "outputs": [
    {
     "data": {
      "text/plain": [
       "array([ 0.        ,  0.10344828,  0.20689655,  0.31034483,  0.4137931 ,\n",
       "        0.51724138,  0.62068966,  0.72413793,  0.82758621,  0.93103448,\n",
       "        1.03448276,  1.13793103,  1.24137931,  1.34482759,  1.44827586,\n",
       "        1.55172414,  1.65517241,  1.75862069,  1.86206897,  1.96551724,\n",
       "        2.06896552,  2.17241379,  2.27586207,  2.37931034,  2.48275862,\n",
       "        2.5862069 ,  2.68965517,  2.79310345,  2.89655172,  3.        ])"
      ]
     },
     "execution_count": 196,
     "metadata": {},
     "output_type": "execute_result"
    }
   ],
   "source": [
    "np.linspace(0, 3, num=30)"
   ]
  },
  {
   "cell_type": "markdown",
   "metadata": {
    "collapsed": true
   },
   "source": [
    "-------"
   ]
  },
  {
   "cell_type": "markdown",
   "metadata": {},
   "source": [
    "(Empirical) proof that POM formulation does not result in G-like distributions"
   ]
  },
  {
   "cell_type": "code",
   "execution_count": 19,
   "metadata": {
    "collapsed": false
   },
   "outputs": [],
   "source": [
    "import layers\n",
    "reload(layers)\n",
    "from layers import UpperRightOnesLayer, OrdinalSubtractLayer, SimpleOrdinalSubtractLayer"
   ]
  },
  {
   "cell_type": "code",
   "execution_count": 98,
   "metadata": {
    "collapsed": false
   },
   "outputs": [
    {
     "name": "stdout",
     "output_type": "stream",
     "text": [
      "5\n"
     ]
    }
   ],
   "source": [
    "print num_classes\n",
    "l_in = InputLayer((None, 1)) # this is f(x)\n",
    "# copy f(x) k times\n",
    "l_copy = DenseLayer(l_in, num_units=num_classes-1, nonlinearity=linear)\n",
    "l_copy.W.set_value( np.ones((1,num_classes-1)).astype(\"float32\") )\n",
    "# add the bias\n",
    "biases = np.asarray([[0.2, 0.5, 1.0, 1.5]]).astype(\"float32\")\n",
    "l_bias = ExpressionLayer(l_copy, lambda x: x + biases)\n",
    "l_sigm = NonlinearityLayer(l_bias, nonlinearity=sigmoid)\n",
    "l_sub = OrdinalSubtractLayer(l_sigm)\n",
    "#l_softmax = NonlinearityLayer(l_sub, nonlinearity=softmax)"
   ]
  },
  {
   "cell_type": "code",
   "execution_count": 100,
   "metadata": {
    "collapsed": false
   },
   "outputs": [
    {
     "name": "stdout",
     "output_type": "stream",
     "text": [
      "<lasagne.layers.input.InputLayer object at 0x11c856750>\n",
      "<lasagne.layers.dense.DenseLayer object at 0x11cea3410>\n",
      "<lasagne.layers.special.ExpressionLayer object at 0x11c38d590>\n",
      "<lasagne.layers.special.NonlinearityLayer object at 0x11c38d5d0>\n",
      "<layers.OrdinalSubtractLayer object at 0x11c38d490>\n"
     ]
    }
   ],
   "source": [
    "for layer in get_all_layers(l_sub):\n",
    "    print layer"
   ]
  },
  {
   "cell_type": "code",
   "execution_count": 79,
   "metadata": {
    "collapsed": false
   },
   "outputs": [],
   "source": [
    "X = T.fmatrix('X')"
   ]
  },
  {
   "cell_type": "code",
   "execution_count": 101,
   "metadata": {
    "collapsed": false
   },
   "outputs": [
    {
     "data": {
      "text/plain": [
       "array([[ 0.57444252,  0.07121379,  0.1046038 ,  0.08175828,  0.16798161]])"
      ]
     },
     "execution_count": 101,
     "metadata": {},
     "output_type": "execute_result"
    }
   ],
   "source": [
    "out = get_output(l_sub, X).eval({X:np.asarray([[0.1]]).astype(\"float32\")})\n",
    "out"
   ]
  },
  {
   "cell_type": "code",
   "execution_count": 102,
   "metadata": {
    "collapsed": false
   },
   "outputs": [
    {
     "data": {
      "text/plain": [
       "1.0"
      ]
     },
     "execution_count": 102,
     "metadata": {},
     "output_type": "execute_result"
    }
   ],
   "source": [
    "np.sum(out)"
   ]
  },
  {
   "cell_type": "code",
   "execution_count": 95,
   "metadata": {
    "collapsed": false
   },
   "outputs": [
    {
     "data": {
      "text/plain": [
       "<Container object of 5 artists>"
      ]
     },
     "execution_count": 95,
     "metadata": {},
     "output_type": "execute_result"
    },
    {
     "data": {
      "image/png": "[encoded data removed]",
      "text/plain": [
       "<matplotlib.figure.Figure at 0x11ca89210>"
      ]
     },
     "metadata": {},
     "output_type": "display_data"
    }
   ],
   "source": [
    "plt.bar( [0,1,2,3,4], out[0] )"
   ]
  },
  {
   "cell_type": "markdown",
   "metadata": {},
   "source": [
    "----"
   ]
  }
 ],
 "metadata": {
  "kernelspec": {
   "display_name": "Python 2",
   "language": "python",
   "name": "python2"
  },
  "language_info": {
   "codemirror_mode": {
    "name": "ipython",
    "version": 2
   },
   "file_extension": ".py",
   "mimetype": "text/x-python",
   "name": "python",
   "nbconvert_exporter": "python",
   "pygments_lexer": "ipython2",
   "version": "2.7.13"
  }
 },
 "nbformat": 4,
 "nbformat_minor": 2
}
