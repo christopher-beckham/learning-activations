{
 "cells": [
  {
   "cell_type": "code",
   "execution_count": 1,
   "metadata": {
    "collapsed": false
   },
   "outputs": [
    {
     "name": "stderr",
     "output_type": "stream",
     "text": [
      "//anaconda/lib/python2.7/site-packages/Theano-0.8.0.dev0-py2.7.egg/theano/tensor/signal/downsample.py:5: UserWarning: downsample module has been moved to the pool module.\n",
      "  warnings.warn(\"downsample module has been moved to the pool module.\")\n"
     ]
    }
   ],
   "source": [
    "import theano\n",
    "from theano import tensor as T\n",
    "import lasagne\n",
    "from lasagne.layers import *\n",
    "from lasagne.nonlinearities import *\n",
    "from lasagne.objectives import *\n",
    "from lasagne.regularization import *\n",
    "from lasagne.random import get_rng\n",
    "from lasagne.updates import *\n",
    "from lasagne.init import *\n",
    "import numpy as np\n",
    "import sys\n",
    "sys.path.append(\"../../modules/\")\n",
    "import helper as hp\n",
    "\n",
    "from theano.sandbox.rng_mrg import MRG_RandomStreams as RandomStreams\n",
    "\n",
    "import matplotlib.pyplot as plt\n",
    "%matplotlib inline"
   ]
  },
  {
   "cell_type": "code",
   "execution_count": 8,
   "metadata": {
    "collapsed": true
   },
   "outputs": [],
   "source": [
    "def negative_relu(x):\n",
    "    return T.minimum(0, x)"
   ]
  },
  {
   "cell_type": "code",
   "execution_count": 153,
   "metadata": {
    "collapsed": false
   },
   "outputs": [
    {
     "name": "stderr",
     "output_type": "stream",
     "text": [
      "loading mnist...\n"
     ]
    }
   ],
   "source": [
    "sys.stderr.write(\"loading mnist...\\n\")\n",
    "train_data, valid_data, _ = hp.load_mnist(\"../../data/mnist.pkl.gz\")\n",
    "X_train, y_train = train_data\n",
    "X_valid, y_valid = valid_data\n",
    "# minimal\n",
    "X_train = X_train[0:5000].astype(\"float32\")\n",
    "y_train = y_train[0:5000].astype(\"int32\")"
   ]
  },
  {
   "cell_type": "code",
   "execution_count": 143,
   "metadata": {
    "collapsed": false
   },
   "outputs": [],
   "source": [
    "def get_net(args):\n",
    "    l_in = InputLayer( (None, 1, 28, 28) )\n",
    "    l_conv1 = Conv2DLayer(l_in, num_filters=8, filter_size=3, nonlinearity=linear)\n",
    "    if args[\"relu_layer\"]:\n",
    "        l_conv1 = ReluLayer(l_conv1)\n",
    "    else:\n",
    "        l_conv1 = NonlinearityLayer(l_conv1, nonlinearity=rectify)\n",
    "    l_mp1 = MaxPool2DLayer(l_conv1, pool_size=2)\n",
    "    l_conv2 = Conv2DLayer(l_mp1, num_filters=16, filter_size=3, nonlinearity=linear)\n",
    "    if args[\"relu_layer\"]:\n",
    "        l_conv2 = ReluLayer(l_conv2)\n",
    "    else:\n",
    "        l_conv2 = NonlinearityLayer(l_conv2, nonlinearity=rectify)\n",
    "    l_mp2 = MaxPool2DLayer(l_conv2, pool_size=2)\n",
    "    l_conv3 = Conv2DLayer(l_mp2, num_filters=32, filter_size=3, nonlinearity=linear)\n",
    "    if args[\"relu_layer\"]:\n",
    "        l_conv3 = ReluLayer(l_conv3)\n",
    "    else:\n",
    "        l_conv3 = NonlinearityLayer(l_conv3, nonlinearity=rectify)\n",
    "    l_pen = DenseLayer(l_conv3, num_units=64, nonlinearity=linear)\n",
    "    if args[\"relu_layer\"]:\n",
    "        l_pen = ReluLayer(l_pen)\n",
    "    else:\n",
    "        l_pen = NonlinearityLayer(l_pen, nonlinearity=rectify)\n",
    "    l_dense = DenseLayer(l_pen, num_units=10, nonlinearity=softmax)\n",
    "    for layer in get_all_layers(l_dense):\n",
    "        print layer, layer.output_shape\n",
    "    print count_params(l_dense)\n",
    "    return l_dense"
   ]
  },
  {
   "cell_type": "code",
   "execution_count": 129,
   "metadata": {
    "collapsed": false
   },
   "outputs": [
    {
     "name": "stdout",
     "output_type": "stream",
     "text": [
      "<lasagne.layers.input.InputLayer object at 0x10dc65590> (None, 1, 28, 28)\n",
      "<lasagne.layers.conv.Conv2DLayer object at 0x10dc656d0> (None, 8, 26, 26)\n",
      "<__main__.ReluLayer object at 0x10dc65cd0> (None, 8, 26, 26)\n",
      "<lasagne.layers.pool.MaxPool2DLayer object at 0x10dc65a10> (None, 8, 13, 13)\n",
      "<lasagne.layers.conv.Conv2DLayer object at 0x10dc65a90> (None, 16, 11, 11)\n",
      "<__main__.ReluLayer object at 0x10dc655d0> (None, 16, 11, 11)\n",
      "<lasagne.layers.pool.MaxPool2DLayer object at 0x10dc65b50> (None, 16, 5, 5)\n",
      "<lasagne.layers.conv.Conv2DLayer object at 0x10dc65c50> (None, 32, 3, 3)\n",
      "<__main__.ReluLayer object at 0x10dc65790> (None, 32, 3, 3)\n",
      "<lasagne.layers.dense.DenseLayer object at 0x10dc65290> (None, 64)\n",
      "<__main__.ReluLayer object at 0x10dc65950> (None, 64)\n",
      "<lasagne.layers.dense.DenseLayer object at 0x10dc5ae10> (None, 10)\n",
      "25034\n"
     ]
    }
   ],
   "source": [
    "l_out = get_net()"
   ]
  },
  {
   "cell_type": "code",
   "execution_count": 98,
   "metadata": {
    "collapsed": false
   },
   "outputs": [],
   "source": [
    "class ReluLayer(Layer):\n",
    "    def __init__(self, incoming, p=0.5, **kwargs):\n",
    "        super(ReluLayer, self).__init__(incoming, **kwargs)\n",
    "        self._srng = RandomStreams(get_rng().randint(1, 2147462579))\n",
    "        self.incoming = incoming\n",
    "        self.p = p\n",
    "        #self.mask = theano.shared(\n",
    "        #    self._srng.binomial(n=1, p=(self.p), size=incoming.output_shape[1::]))\n",
    "        self.mask = np.random.binomial(n=1, p=self.p, size=incoming.output_shape[1::])\n",
    "    def get_output_for(self, input, deterministic=False, **kwargs):\n",
    "        return self.mask*rectify(input) + (1-self.mask)*negative_relu(input)"
   ]
  },
  {
   "cell_type": "code",
   "execution_count": 107,
   "metadata": {
    "collapsed": false
   },
   "outputs": [],
   "source": [
    "l_in = InputLayer( (None, 1, 3, 3) )\n",
    "l_r = ReluLayer(l_in)"
   ]
  },
  {
   "cell_type": "code",
   "execution_count": 141,
   "metadata": {
    "collapsed": false
   },
   "outputs": [],
   "source": [
    "def train(X_train, y_train, args={}):\n",
    "    # config\n",
    "    X = T.tensor4('X')\n",
    "    y = T.ivector('y')\n",
    "    l_out = get_net(args)\n",
    "    net_out = get_output(l_out, X)\n",
    "    loss = categorical_crossentropy(net_out, y).mean()\n",
    "    params = get_all_params(l_out, trainable=True)\n",
    "    updates = nesterov_momentum(loss, params, learning_rate=0.01, momentum=0.9)\n",
    "    train_fn = theano.function([X, y], loss, updates=updates)    \n",
    "    # training\n",
    "    bs = 32\n",
    "    n_batches = X_train.shape[0] // bs\n",
    "    num_epochs=10\n",
    "    epochs = []\n",
    "    losses = []\n",
    "    for epoch in range(0, num_epochs):\n",
    "        idxs = [x for x in range(0, X_train.shape[0])]\n",
    "        np.random.shuffle(idxs)\n",
    "        X_train = X_train[idxs]\n",
    "        y_train = y_train[idxs]\n",
    "        train_losses=[]\n",
    "        for b in range(0, n_batches):\n",
    "            X_batch, y_batch = X_train[b*bs:(b+1)*bs], y_train[b*bs:(b+1)*bs]\n",
    "            train_losses.append(train_fn(X_batch,y_batch))\n",
    "        epochs.append(epoch+1)\n",
    "        losses.append(np.mean(train_losses))\n",
    "    return (epochs, losses)"
   ]
  },
  {
   "cell_type": "code",
   "execution_count": 154,
   "metadata": {
    "collapsed": false
   },
   "outputs": [
    {
     "name": "stdout",
     "output_type": "stream",
     "text": [
      "<lasagne.layers.input.InputLayer object at 0x115d7ced0> (None, 1, 28, 28)\n",
      "<lasagne.layers.conv.Conv2DLayer object at 0x115d7cad0> (None, 8, 26, 26)\n",
      "<__main__.ReluLayer object at 0x115d7e250> (None, 8, 26, 26)\n",
      "<lasagne.layers.pool.MaxPool2DLayer object at 0x115d48a90> (None, 8, 13, 13)\n",
      "<lasagne.layers.conv.Conv2DLayer object at 0x115d48110> (None, 16, 11, 11)\n",
      "<__main__.ReluLayer object at 0x115d48b10> (None, 16, 11, 11)\n",
      "<lasagne.layers.pool.MaxPool2DLayer object at 0x115d7c950> (None, 16, 5, 5)\n",
      "<lasagne.layers.conv.Conv2DLayer object at 0x115d7c210> (None, 32, 3, 3)\n",
      "<__main__.ReluLayer object at 0x115d48310> (None, 32, 3, 3)\n",
      "<lasagne.layers.dense.DenseLayer object at 0x10df543d0> (None, 64)\n",
      "<__main__.ReluLayer object at 0x10f257ed0> (None, 64)\n",
      "<lasagne.layers.dense.DenseLayer object at 0x10f257290> (None, 10)\n",
      "25034\n",
      "<lasagne.layers.input.InputLayer object at 0x117e35f90> (None, 1, 28, 28)\n",
      "<lasagne.layers.conv.Conv2DLayer object at 0x115a58c90> (None, 8, 26, 26)\n",
      "<__main__.ReluLayer object at 0x115a589d0> (None, 8, 26, 26)\n",
      "<lasagne.layers.pool.MaxPool2DLayer object at 0x115a58b90> (None, 8, 13, 13)\n",
      "<lasagne.layers.conv.Conv2DLayer object at 0x115a58810> (None, 16, 11, 11)\n",
      "<__main__.ReluLayer object at 0x115db0410> (None, 16, 11, 11)\n",
      "<lasagne.layers.pool.MaxPool2DLayer object at 0x115db02d0> (None, 16, 5, 5)\n",
      "<lasagne.layers.conv.Conv2DLayer object at 0x115db0890> (None, 32, 3, 3)\n",
      "<__main__.ReluLayer object at 0x115db0250> (None, 32, 3, 3)\n",
      "<lasagne.layers.dense.DenseLayer object at 0x115dc8350> (None, 64)\n",
      "<__main__.ReluLayer object at 0x115dc8050> (None, 64)\n",
      "<lasagne.layers.dense.DenseLayer object at 0x115dc8f90> (None, 10)\n",
      "25034\n",
      "<lasagne.layers.input.InputLayer object at 0x117e5df50> (None, 1, 28, 28)\n",
      "<lasagne.layers.conv.Conv2DLayer object at 0x117e5d810> (None, 8, 26, 26)\n",
      "<__main__.ReluLayer object at 0x10d19e250> (None, 8, 26, 26)\n",
      "<lasagne.layers.pool.MaxPool2DLayer object at 0x117e5de10> (None, 8, 13, 13)\n",
      "<lasagne.layers.conv.Conv2DLayer object at 0x117e5d150> (None, 16, 11, 11)\n",
      "<__main__.ReluLayer object at 0x10d9e6910> (None, 16, 11, 11)\n",
      "<lasagne.layers.pool.MaxPool2DLayer object at 0x10d9e6590> (None, 16, 5, 5)\n",
      "<lasagne.layers.conv.Conv2DLayer object at 0x10d9e6f50> (None, 32, 3, 3)\n",
      "<__main__.ReluLayer object at 0x10d9e6450> (None, 32, 3, 3)\n",
      "<lasagne.layers.dense.DenseLayer object at 0x10d799f90> (None, 64)\n",
      "<__main__.ReluLayer object at 0x10e1841d0> (None, 64)\n",
      "<lasagne.layers.dense.DenseLayer object at 0x10e184990> (None, 10)\n",
      "25034\n"
     ]
    }
   ],
   "source": [
    "exp1 = train(X_train, y_train, {\"relu_layer\":True})\n",
    "exp2 = train(X_train, y_train, {\"relu_layer\":True})\n",
    "exp3 = train(X_train, y_train, {\"relu_layer\":True})"
   ]
  },
  {
   "cell_type": "code",
   "execution_count": 155,
   "metadata": {
    "collapsed": false
   },
   "outputs": [
    {
     "name": "stdout",
     "output_type": "stream",
     "text": [
      "<lasagne.layers.input.InputLayer object at 0x1171f7b10> (None, 1, 28, 28)\n",
      "<lasagne.layers.conv.Conv2DLayer object at 0x1171f7290> (None, 8, 26, 26)\n",
      "<lasagne.layers.special.NonlinearityLayer object at 0x117b01310> (None, 8, 26, 26)\n",
      "<lasagne.layers.pool.MaxPool2DLayer object at 0x1171f7ed0> (None, 8, 13, 13)\n",
      "<lasagne.layers.conv.Conv2DLayer object at 0x1171f7210> (None, 16, 11, 11)\n",
      "<lasagne.layers.special.NonlinearityLayer object at 0x1171f7f10> (None, 16, 11, 11)\n",
      "<lasagne.layers.pool.MaxPool2DLayer object at 0x1171f7850> (None, 16, 5, 5)\n",
      "<lasagne.layers.conv.Conv2DLayer object at 0x1171f7950> (None, 32, 3, 3)\n",
      "<lasagne.layers.special.NonlinearityLayer object at 0x1171f7610> (None, 32, 3, 3)\n",
      "<lasagne.layers.dense.DenseLayer object at 0x10e639f10> (None, 64)\n",
      "<lasagne.layers.special.NonlinearityLayer object at 0x1171f7550> (None, 64)\n",
      "<lasagne.layers.dense.DenseLayer object at 0x117445a10> (None, 10)\n",
      "25034\n",
      "<lasagne.layers.input.InputLayer object at 0x115a62210> (None, 1, 28, 28)\n",
      "<lasagne.layers.conv.Conv2DLayer object at 0x115a62110> (None, 8, 26, 26)\n",
      "<lasagne.layers.special.NonlinearityLayer object at 0x115a62090> (None, 8, 26, 26)\n",
      "<lasagne.layers.pool.MaxPool2DLayer object at 0x115a62950> (None, 8, 13, 13)\n",
      "<lasagne.layers.conv.Conv2DLayer object at 0x115a62710> (None, 16, 11, 11)\n",
      "<lasagne.layers.special.NonlinearityLayer object at 0x115a62dd0> (None, 16, 11, 11)\n",
      "<lasagne.layers.pool.MaxPool2DLayer object at 0x115a62a10> (None, 16, 5, 5)\n",
      "<lasagne.layers.conv.Conv2DLayer object at 0x115a62390> (None, 32, 3, 3)\n",
      "<lasagne.layers.special.NonlinearityLayer object at 0x115a62810> (None, 32, 3, 3)\n",
      "<lasagne.layers.dense.DenseLayer object at 0x115a625d0> (None, 64)\n",
      "<lasagne.layers.special.NonlinearityLayer object at 0x115a62d50> (None, 64)\n",
      "<lasagne.layers.dense.DenseLayer object at 0x11638c810> (None, 10)\n",
      "25034\n",
      "<lasagne.layers.input.InputLayer object at 0x1175697d0> (None, 1, 28, 28)\n",
      "<lasagne.layers.conv.Conv2DLayer object at 0x117569b50> (None, 8, 26, 26)\n",
      "<lasagne.layers.special.NonlinearityLayer object at 0x117569410> (None, 8, 26, 26)\n",
      "<lasagne.layers.pool.MaxPool2DLayer object at 0x1175694d0> (None, 8, 13, 13)\n",
      "<lasagne.layers.conv.Conv2DLayer object at 0x117569d50> (None, 16, 11, 11)\n",
      "<lasagne.layers.special.NonlinearityLayer object at 0x117569810> (None, 16, 11, 11)\n",
      "<lasagne.layers.pool.MaxPool2DLayer object at 0x117569550> (None, 16, 5, 5)\n",
      "<lasagne.layers.conv.Conv2DLayer object at 0x1175692d0> (None, 32, 3, 3)\n",
      "<lasagne.layers.special.NonlinearityLayer object at 0x1176a6190> (None, 32, 3, 3)\n",
      "<lasagne.layers.dense.DenseLayer object at 0x1176a6790> (None, 64)\n",
      "<lasagne.layers.special.NonlinearityLayer object at 0x1176a6610> (None, 64)\n",
      "<lasagne.layers.dense.DenseLayer object at 0x1176a6850> (None, 10)\n",
      "25034\n"
     ]
    }
   ],
   "source": [
    "exp1b = train(X_train, y_train, {\"relu_layer\":False})\n",
    "exp2b = train(X_train, y_train, {\"relu_layer\":False})\n",
    "exp3b = train(X_train, y_train, {\"relu_layer\":False})"
   ]
  },
  {
   "cell_type": "code",
   "execution_count": 156,
   "metadata": {
    "collapsed": false
   },
   "outputs": [
    {
     "data": {
      "text/plain": [
       "[<matplotlib.lines.Line2D at 0x115a0a8d0>,\n",
       " <matplotlib.lines.Line2D at 0x115a0a490>,\n",
       " <matplotlib.lines.Line2D at 0x115bf70d0>,\n",
       " <matplotlib.lines.Line2D at 0x110499310>,\n",
       " <matplotlib.lines.Line2D at 0x110499950>,\n",
       " <matplotlib.lines.Line2D at 0x110499f90>]"
      ]
     },
     "execution_count": 156,
     "metadata": {},
     "output_type": "execute_result"
    },
    {
     "data": {
      "image/png": "[encoded data removed]",
      "text/plain": [
       "<matplotlib.figure.Figure at 0x10ee809d0>"
      ]
     },
     "metadata": {},
     "output_type": "display_data"
    }
   ],
   "source": [
    "plt.plot(\n",
    "    exp1[0], exp1[1], \"r-\", \n",
    "    exp2[0], exp2[1], \"r-\", \n",
    "    exp3[0], exp3[1], \"r-\",\n",
    "    exp1b[0], exp1b[1], \"b-\",\n",
    "    exp2b[0], exp2b[1], \"b-\",\n",
    "    exp3b[0], exp3b[1], \"b-\"\n",
    "\n",
    ")"
   ]
  },
  {
   "cell_type": "code",
   "execution_count": 162,
   "metadata": {
    "collapsed": false
   },
   "outputs": [
    {
     "name": "stdout",
     "output_type": "stream",
     "text": [
      "<lasagne.layers.input.InputLayer object at 0x117d7b890> (None, 1, 28, 28)\n",
      "<lasagne.layers.conv.Conv2DLayer object at 0x117fbc950> (None, 8, 26, 26)\n",
      "<__main__.ReluLayer object at 0x10ed36b90> (None, 8, 26, 26)\n",
      "<lasagne.layers.pool.MaxPool2DLayer object at 0x117895610> (None, 8, 13, 13)\n",
      "<lasagne.layers.conv.Conv2DLayer object at 0x117895f50> (None, 16, 11, 11)\n",
      "<__main__.ReluLayer object at 0x117895a90> (None, 16, 11, 11)\n",
      "<lasagne.layers.pool.MaxPool2DLayer object at 0x117dee710> (None, 16, 5, 5)\n",
      "<lasagne.layers.conv.Conv2DLayer object at 0x117deebd0> (None, 32, 3, 3)\n",
      "<__main__.ReluLayer object at 0x117dee9d0> (None, 32, 3, 3)\n",
      "<lasagne.layers.dense.DenseLayer object at 0x115a01810> (None, 64)\n",
      "<__main__.ReluLayer object at 0x115a01a10> (None, 64)\n",
      "<lasagne.layers.dense.DenseLayer object at 0x115a01750> (None, 10)\n",
      "25034\n"
     ]
    },
    {
     "data": {
      "text/plain": [
       "array([[[0, 1, 0],\n",
       "        [1, 0, 0],\n",
       "        [0, 1, 1]],\n",
       "\n",
       "       [[0, 0, 1],\n",
       "        [0, 1, 0],\n",
       "        [0, 0, 0]],\n",
       "\n",
       "       [[1, 0, 0],\n",
       "        [0, 1, 1],\n",
       "        [0, 1, 0]],\n",
       "\n",
       "       [[1, 1, 1],\n",
       "        [0, 1, 0],\n",
       "        [1, 0, 1]],\n",
       "\n",
       "       [[0, 1, 0],\n",
       "        [0, 1, 0],\n",
       "        [1, 1, 0]],\n",
       "\n",
       "       [[0, 1, 1],\n",
       "        [1, 0, 0],\n",
       "        [0, 0, 0]],\n",
       "\n",
       "       [[0, 0, 0],\n",
       "        [0, 1, 1],\n",
       "        [1, 1, 1]],\n",
       "\n",
       "       [[1, 1, 0],\n",
       "        [0, 1, 0],\n",
       "        [1, 0, 0]],\n",
       "\n",
       "       [[1, 1, 0],\n",
       "        [1, 0, 1],\n",
       "        [0, 1, 1]],\n",
       "\n",
       "       [[1, 0, 0],\n",
       "        [0, 0, 1],\n",
       "        [0, 0, 1]],\n",
       "\n",
       "       [[1, 0, 0],\n",
       "        [1, 1, 1],\n",
       "        [0, 0, 0]],\n",
       "\n",
       "       [[1, 1, 1],\n",
       "        [0, 0, 1],\n",
       "        [1, 1, 1]],\n",
       "\n",
       "       [[1, 0, 1],\n",
       "        [0, 1, 1],\n",
       "        [0, 0, 1]],\n",
       "\n",
       "       [[0, 0, 1],\n",
       "        [1, 1, 0],\n",
       "        [1, 1, 1]],\n",
       "\n",
       "       [[0, 1, 1],\n",
       "        [1, 0, 0],\n",
       "        [1, 1, 0]],\n",
       "\n",
       "       [[0, 0, 1],\n",
       "        [0, 1, 0],\n",
       "        [0, 1, 0]],\n",
       "\n",
       "       [[0, 1, 1],\n",
       "        [1, 1, 0],\n",
       "        [1, 1, 1]],\n",
       "\n",
       "       [[1, 1, 0],\n",
       "        [0, 0, 0],\n",
       "        [0, 0, 0]],\n",
       "\n",
       "       [[0, 0, 0],\n",
       "        [1, 1, 1],\n",
       "        [1, 0, 1]],\n",
       "\n",
       "       [[0, 1, 0],\n",
       "        [1, 1, 1],\n",
       "        [0, 0, 1]],\n",
       "\n",
       "       [[1, 1, 0],\n",
       "        [0, 0, 1],\n",
       "        [0, 1, 1]],\n",
       "\n",
       "       [[0, 0, 0],\n",
       "        [1, 1, 1],\n",
       "        [1, 1, 1]],\n",
       "\n",
       "       [[1, 1, 1],\n",
       "        [0, 1, 0],\n",
       "        [0, 1, 1]],\n",
       "\n",
       "       [[1, 0, 1],\n",
       "        [1, 0, 0],\n",
       "        [0, 0, 1]],\n",
       "\n",
       "       [[1, 0, 0],\n",
       "        [0, 0, 0],\n",
       "        [1, 1, 1]],\n",
       "\n",
       "       [[0, 1, 1],\n",
       "        [0, 1, 1],\n",
       "        [0, 1, 0]],\n",
       "\n",
       "       [[0, 0, 1],\n",
       "        [0, 0, 0],\n",
       "        [1, 0, 0]],\n",
       "\n",
       "       [[1, 1, 0],\n",
       "        [0, 1, 0],\n",
       "        [0, 1, 0]],\n",
       "\n",
       "       [[0, 1, 1],\n",
       "        [1, 1, 0],\n",
       "        [0, 1, 0]],\n",
       "\n",
       "       [[1, 0, 0],\n",
       "        [1, 0, 1],\n",
       "        [1, 1, 0]],\n",
       "\n",
       "       [[1, 0, 1],\n",
       "        [0, 0, 1],\n",
       "        [1, 1, 0]],\n",
       "\n",
       "       [[1, 1, 1],\n",
       "        [1, 0, 0],\n",
       "        [0, 0, 0]]])"
      ]
     },
     "execution_count": 162,
     "metadata": {},
     "output_type": "execute_result"
    }
   ],
   "source": [
    "get_net({\"relu_layer\":True}).input_layer.input_layer.input_layer.mask"
   ]
  },
  {
   "cell_type": "code",
   "execution_count": null,
   "metadata": {
    "collapsed": true
   },
   "outputs": [],
   "source": []
  }
 ],
 "metadata": {
  "kernelspec": {
   "display_name": "Python 2",
   "language": "python",
   "name": "python2"
  },
  "language_info": {
   "codemirror_mode": {
    "name": "ipython",
    "version": 2
   },
   "file_extension": ".py",
   "mimetype": "text/x-python",
   "name": "python",
   "nbconvert_exporter": "python",
   "pygments_lexer": "ipython2",
   "version": "2.7.11"
  }
 },
 "nbformat": 4,
 "nbformat_minor": 0
}
