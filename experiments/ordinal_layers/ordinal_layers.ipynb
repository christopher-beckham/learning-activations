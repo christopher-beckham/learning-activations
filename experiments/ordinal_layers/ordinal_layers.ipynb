{
 "cells": [
  {
   "cell_type": "code",
   "execution_count": 29,
   "metadata": {
    "collapsed": false
   },
   "outputs": [],
   "source": [
    "import numpy as np\n",
    "import theano\n",
    "from theano import tensor as T\n",
    "import lasagne\n",
    "from lasagne.layers import *\n",
    "from lasagne.nonlinearities import *"
   ]
  },
  {
   "cell_type": "code",
   "execution_count": 18,
   "metadata": {
    "collapsed": true
   },
   "outputs": [],
   "source": [
    "class UpperRightOnesLayer(Layer):\n",
    "    def __init__(self, incoming, **kwargs):\n",
    "        super(UpperRightOnesLayer, self).__init__(incoming, **kwargs)\n",
    "        num_inputs = int(np.prod(self.input_shape[1:]))\n",
    "        self.num_inputs = num_inputs\n",
    "        # construct the upper triangular matrix\n",
    "        self.W = np.ones((num_inputs, num_inputs), dtype=\"float32\")\n",
    "        for k in range(0, num_inputs):\n",
    "            self.W[k][0:k] = 0\n",
    "\n",
    "    def get_output_shape_for(self, input_shape):\n",
    "        return (input_shape[0], self.num_inputs)\n",
    "\n",
    "    def get_output_for(self, input, **kwargs):\n",
    "        if input.ndim > 2:\n",
    "            # if the input has more than two dimensions, flatten it into a\n",
    "            # batch of feature vectors.\n",
    "            input = input.flatten(2)\n",
    "\n",
    "        result = T.dot(input, self.W)\n",
    "        return result"
   ]
  },
  {
   "cell_type": "code",
   "execution_count": 14,
   "metadata": {
    "collapsed": false
   },
   "outputs": [],
   "source": [
    "W = np.ones((3, 3), dtype=\"float32\")\n",
    "for k in range(0, 3):\n",
    "    W[k][0:k] = 0"
   ]
  },
  {
   "cell_type": "code",
   "execution_count": 15,
   "metadata": {
    "collapsed": false
   },
   "outputs": [
    {
     "data": {
      "text/plain": [
       "array([[ 1.,  1.,  1.],\n",
       "       [ 0.,  1.,  1.],\n",
       "       [ 0.,  0.,  1.]], dtype=float32)"
      ]
     },
     "execution_count": 15,
     "metadata": {},
     "output_type": "execute_result"
    }
   ],
   "source": [
    "W"
   ]
  },
  {
   "cell_type": "code",
   "execution_count": 30,
   "metadata": {
    "collapsed": false
   },
   "outputs": [],
   "source": [
    "l_in = InputLayer((None, 3))\n",
    "l_uro = UpperRightOnesLayer(l_in)\n",
    "l_softmax = NonlinearityLayer(l_uro, nonlinearity=softmax)"
   ]
  },
  {
   "cell_type": "code",
   "execution_count": 31,
   "metadata": {
    "collapsed": false
   },
   "outputs": [],
   "source": [
    "X = T.fmatrix('X')\n",
    "uro_out = get_output(l_uro, X)\n",
    "softmax_out = get_output(l_softmax, X)"
   ]
  },
  {
   "cell_type": "code",
   "execution_count": 28,
   "metadata": {
    "collapsed": false
   },
   "outputs": [
    {
     "data": {
      "text/plain": [
       "array([[ 0.5,  1. ,  1.5],\n",
       "       [ 0.5,  1. ,  1.5],\n",
       "       [ 0.5,  1. ,  1.5]], dtype=float32)"
      ]
     },
     "execution_count": 28,
     "metadata": {},
     "output_type": "execute_result"
    }
   ],
   "source": [
    "uro_out.eval({X: np.zeros((3,3), dtype=\"float32\")+0.5})"
   ]
  },
  {
   "cell_type": "code",
   "execution_count": 32,
   "metadata": {
    "collapsed": false
   },
   "outputs": [
    {
     "data": {
      "text/plain": [
       "array([[ 0.18632373,  0.30719587,  0.5064804 ],\n",
       "       [ 0.18632373,  0.30719587,  0.5064804 ],\n",
       "       [ 0.18632373,  0.30719587,  0.5064804 ]], dtype=float32)"
      ]
     },
     "execution_count": 32,
     "metadata": {},
     "output_type": "execute_result"
    }
   ],
   "source": [
    "softmax_out.eval({X: np.zeros((3,3), dtype=\"float32\")+0.5})"
   ]
  },
  {
   "cell_type": "markdown",
   "metadata": {},
   "source": [
    "---"
   ]
  },
  {
   "cell_type": "code",
   "execution_count": 54,
   "metadata": {
    "collapsed": true
   },
   "outputs": [],
   "source": [
    "class OrdinalSubtractLayer(Layer):\n",
    "    def __init__(self, incoming, **kwargs):\n",
    "        super(OrdinalSubtractLayer, self).__init__(incoming, **kwargs)\n",
    "        num_inputs = int(np.prod(self.input_shape[1:]))\n",
    "        self.num_inputs = num_inputs\n",
    "        # construct the matrix\n",
    "        self.W = np.zeros((num_inputs, num_inputs), dtype=\"float32\")\n",
    "        self.W[0,0]=1\n",
    "        for k in range(1, num_inputs-1):\n",
    "            self.W[k-1,k] = -1\n",
    "            self.W[k,k] = 1\n",
    "        self.W[num_inputs-1,num_inputs-1] = 1\n",
    "        # construct the bias row vector\n",
    "        self.b = np.zeros((1, num_inputs), dtype=\"float32\")\n",
    "        self.b[0, num_inputs-1] = 1\n",
    "\n",
    "    def get_output_shape_for(self, input_shape):\n",
    "        return (input_shape[0], self.num_inputs)\n",
    "\n",
    "    def get_output_for(self, input, **kwargs):\n",
    "        if input.ndim > 2:\n",
    "            # if the input has more than two dimensions, flatten it into a\n",
    "            # batch of feature vectors.\n",
    "            input = input.flatten(2)\n",
    "\n",
    "        result = T.dot(input, self.W)\n",
    "        result = T.abs_(self.b - result)\n",
    "        return result"
   ]
  },
  {
   "cell_type": "code",
   "execution_count": 55,
   "metadata": {
    "collapsed": true
   },
   "outputs": [],
   "source": [
    "l_ord = OrdinalSubtractLayer(l_softmax)\n",
    "ord_out = get_output(l_ord, X)"
   ]
  },
  {
   "cell_type": "code",
   "execution_count": 56,
   "metadata": {
    "collapsed": false
   },
   "outputs": [
    {
     "data": {
      "text/plain": [
       "array([[ 0.18632373,  0.12087214,  0.4935196 ],\n",
       "       [ 0.18632373,  0.12087214,  0.4935196 ],\n",
       "       [ 0.18632373,  0.12087214,  0.4935196 ]], dtype=float32)"
      ]
     },
     "execution_count": 56,
     "metadata": {},
     "output_type": "execute_result"
    }
   ],
   "source": [
    "ord_out.eval({X: np.zeros((3,3), dtype=\"float32\")+0.5})"
   ]
  },
  {
   "cell_type": "code",
   "execution_count": 42,
   "metadata": {
    "collapsed": false
   },
   "outputs": [
    {
     "data": {
      "text/plain": [
       "array([[ 1., -1.,  0.],\n",
       "       [ 0.,  1.,  0.],\n",
       "       [ 0.,  0.,  1.]])"
      ]
     },
     "execution_count": 42,
     "metadata": {},
     "output_type": "execute_result"
    }
   ],
   "source": [
    "num_inputs=3\n",
    "W = np.zeros((num_inputs, num_inputs))\n",
    "W[0,0]=1\n",
    "for k in range(1, num_inputs-1):\n",
    "    W[k-1,k] = -1\n",
    "    W[k,k] = 1\n",
    "W[num_inputs-1,num_inputs-1] = 1\n",
    "W"
   ]
  },
  {
   "cell_type": "code",
   "execution_count": 48,
   "metadata": {
    "collapsed": false
   },
   "outputs": [
    {
     "data": {
      "text/plain": [
       "array([[-1., -1., -1., -1.],\n",
       "       [-1., -1., -1., -1.],\n",
       "       [-1., -1., -1., -1.],\n",
       "       [-1., -1., -1., -1.],\n",
       "       [-1., -1., -1., -1.],\n",
       "       [-1., -1., -1., -1.],\n",
       "       [-1., -1., -1., -1.],\n",
       "       [-1., -1., -1., -1.],\n",
       "       [-1., -1., -1., -1.],\n",
       "       [-1., -1., -1., -1.]])"
      ]
     },
     "execution_count": 48,
     "metadata": {},
     "output_type": "execute_result"
    }
   ],
   "source": [
    "(T.ones((1,4)) - (T.ones((10,4))*2)).eval()"
   ]
  },
  {
   "cell_type": "code",
   "execution_count": null,
   "metadata": {
    "collapsed": true
   },
   "outputs": [],
   "source": []
  }
 ],
 "metadata": {
  "kernelspec": {
   "display_name": "Python 2",
   "language": "python",
   "name": "python2"
  },
  "language_info": {
   "codemirror_mode": {
    "name": "ipython",
    "version": 2
   },
   "file_extension": ".py",
   "mimetype": "text/x-python",
   "name": "python",
   "nbconvert_exporter": "python",
   "pygments_lexer": "ipython2",
   "version": "2.7.11"
  }
 },
 "nbformat": 4,
 "nbformat_minor": 0
}
