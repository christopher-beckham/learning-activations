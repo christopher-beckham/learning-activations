{
 "cells": [
  {
   "cell_type": "code",
   "execution_count": 85,
   "metadata": {
    "collapsed": false
   },
   "outputs": [],
   "source": [
    "import numpy as np\n",
    "import theano\n",
    "from theano import tensor as T\n",
    "import lasagne\n",
    "from lasagne.layers import *\n",
    "from lasagne.nonlinearities import *\n",
    "from lasagne.objectives import *\n",
    "from lasagne.updates import *\n",
    "import sys\n",
    "sys.path.append(\"../../modules\")\n",
    "import helper as hp"
   ]
  },
  {
   "cell_type": "code",
   "execution_count": 18,
   "metadata": {
    "collapsed": true
   },
   "outputs": [],
   "source": [
    "class UpperRightOnesLayer(Layer):\n",
    "    def __init__(self, incoming, **kwargs):\n",
    "        super(UpperRightOnesLayer, self).__init__(incoming, **kwargs)\n",
    "        num_inputs = int(np.prod(self.input_shape[1:]))\n",
    "        self.num_inputs = num_inputs\n",
    "        # construct the upper triangular matrix\n",
    "        self.W = np.ones((num_inputs, num_inputs), dtype=\"float32\")\n",
    "        for k in range(0, num_inputs):\n",
    "            self.W[k][0:k] = 0\n",
    "\n",
    "    def get_output_shape_for(self, input_shape):\n",
    "        return (input_shape[0], self.num_inputs)\n",
    "\n",
    "    def get_output_for(self, input, **kwargs):\n",
    "        if input.ndim > 2:\n",
    "            # if the input has more than two dimensions, flatten it into a\n",
    "            # batch of feature vectors.\n",
    "            input = input.flatten(2)\n",
    "\n",
    "        result = T.dot(input, self.W)\n",
    "        return result"
   ]
  },
  {
   "cell_type": "code",
   "execution_count": 14,
   "metadata": {
    "collapsed": false
   },
   "outputs": [],
   "source": [
    "W = np.ones((3, 3), dtype=\"float32\")\n",
    "for k in range(0, 3):\n",
    "    W[k][0:k] = 0"
   ]
  },
  {
   "cell_type": "code",
   "execution_count": 15,
   "metadata": {
    "collapsed": false
   },
   "outputs": [
    {
     "data": {
      "text/plain": [
       "array([[ 1.,  1.,  1.],\n",
       "       [ 0.,  1.,  1.],\n",
       "       [ 0.,  0.,  1.]], dtype=float32)"
      ]
     },
     "execution_count": 15,
     "metadata": {},
     "output_type": "execute_result"
    }
   ],
   "source": [
    "W"
   ]
  },
  {
   "cell_type": "code",
   "execution_count": 30,
   "metadata": {
    "collapsed": false
   },
   "outputs": [],
   "source": [
    "l_in = InputLayer((None, 3))\n",
    "l_uro = UpperRightOnesLayer(l_in)\n",
    "l_softmax = NonlinearityLayer(l_uro, nonlinearity=softmax)"
   ]
  },
  {
   "cell_type": "code",
   "execution_count": 31,
   "metadata": {
    "collapsed": false
   },
   "outputs": [],
   "source": [
    "X = T.fmatrix('X')\n",
    "uro_out = get_output(l_uro, X)\n",
    "softmax_out = get_output(l_softmax, X)"
   ]
  },
  {
   "cell_type": "code",
   "execution_count": 28,
   "metadata": {
    "collapsed": false
   },
   "outputs": [
    {
     "data": {
      "text/plain": [
       "array([[ 0.5,  1. ,  1.5],\n",
       "       [ 0.5,  1. ,  1.5],\n",
       "       [ 0.5,  1. ,  1.5]], dtype=float32)"
      ]
     },
     "execution_count": 28,
     "metadata": {},
     "output_type": "execute_result"
    }
   ],
   "source": [
    "uro_out.eval({X: np.zeros((3,3), dtype=\"float32\")+0.5})"
   ]
  },
  {
   "cell_type": "code",
   "execution_count": 32,
   "metadata": {
    "collapsed": false
   },
   "outputs": [
    {
     "data": {
      "text/plain": [
       "array([[ 0.18632373,  0.30719587,  0.5064804 ],\n",
       "       [ 0.18632373,  0.30719587,  0.5064804 ],\n",
       "       [ 0.18632373,  0.30719587,  0.5064804 ]], dtype=float32)"
      ]
     },
     "execution_count": 32,
     "metadata": {},
     "output_type": "execute_result"
    }
   ],
   "source": [
    "softmax_out.eval({X: np.zeros((3,3), dtype=\"float32\")+0.5})"
   ]
  },
  {
   "cell_type": "markdown",
   "metadata": {},
   "source": [
    "---"
   ]
  },
  {
   "cell_type": "code",
   "execution_count": 167,
   "metadata": {
    "collapsed": true
   },
   "outputs": [],
   "source": [
    "class OrdinalSubtractLayer(Layer):\n",
    "    def __init__(self, incoming, **kwargs):\n",
    "        super(OrdinalSubtractLayer, self).__init__(incoming, **kwargs)\n",
    "        num_inputs = int(np.prod(self.input_shape[1:]))\n",
    "        self.num_inputs = num_inputs\n",
    "        # construct the matrix\n",
    "        self.W = np.zeros((num_inputs, num_inputs), dtype=\"float32\")\n",
    "        self.W[0,0]=1\n",
    "        for k in range(1, num_inputs-1):\n",
    "            self.W[k-1,k] = -1\n",
    "            self.W[k,k] = 1\n",
    "        self.W[num_inputs-1,num_inputs-1] = 1\n",
    "        # construct the bias row vector\n",
    "        self.b = np.zeros((1, num_inputs), dtype=\"float32\")\n",
    "        self.b[0, num_inputs-1] = 1\n",
    "        print self.W\n",
    "        print self.b\n",
    "\n",
    "    def get_output_shape_for(self, input_shape):\n",
    "        return (input_shape[0], self.num_inputs)\n",
    "\n",
    "    def get_output_for(self, input, **kwargs):\n",
    "        if input.ndim > 2:\n",
    "            # if the input has more than two dimensions, flatten it into a\n",
    "            # batch of feature vectors.\n",
    "            input = input.flatten(2)\n",
    "\n",
    "        result = T.dot(input, self.W)\n",
    "        result = T.abs_(self.b - result)\n",
    "        return result"
   ]
  },
  {
   "cell_type": "code",
   "execution_count": 55,
   "metadata": {
    "collapsed": true
   },
   "outputs": [],
   "source": [
    "l_ord = OrdinalSubtractLayer(l_softmax)\n",
    "ord_out = get_output(l_ord, X)"
   ]
  },
  {
   "cell_type": "code",
   "execution_count": 56,
   "metadata": {
    "collapsed": false
   },
   "outputs": [
    {
     "data": {
      "text/plain": [
       "array([[ 0.18632373,  0.12087214,  0.4935196 ],\n",
       "       [ 0.18632373,  0.12087214,  0.4935196 ],\n",
       "       [ 0.18632373,  0.12087214,  0.4935196 ]], dtype=float32)"
      ]
     },
     "execution_count": 56,
     "metadata": {},
     "output_type": "execute_result"
    }
   ],
   "source": [
    "ord_out.eval({X: np.zeros((3,3), dtype=\"float32\")+0.5})"
   ]
  },
  {
   "cell_type": "markdown",
   "metadata": {},
   "source": [
    "-----"
   ]
  },
  {
   "cell_type": "code",
   "execution_count": 63,
   "metadata": {
    "collapsed": true
   },
   "outputs": [],
   "source": [
    "dat = hp.load_mnist(\"../../data/mnist.pkl.gz\")\n",
    "train_data, _, _ = dat\n",
    "X_train, y_train = train_data\n",
    "y_train = y_train.astype(\"int32\")"
   ]
  },
  {
   "cell_type": "code",
   "execution_count": 64,
   "metadata": {
    "collapsed": false
   },
   "outputs": [
    {
     "data": {
      "text/plain": [
       "(dtype('float32'), dtype('int32'))"
      ]
     },
     "execution_count": 64,
     "metadata": {},
     "output_type": "execute_result"
    }
   ],
   "source": [
    "X_train.dtype, y_train.dtype"
   ]
  },
  {
   "cell_type": "code",
   "execution_count": 168,
   "metadata": {
    "collapsed": true
   },
   "outputs": [],
   "source": [
    "from theano.compile.nanguardmode import NanGuardMode"
   ]
  },
  {
   "cell_type": "code",
   "execution_count": 229,
   "metadata": {
    "collapsed": true
   },
   "outputs": [],
   "source": [
    "def get_net():\n",
    "    l_in = InputLayer( (None, 1, 28, 28) )\n",
    "    l_conv = Conv2DLayer(l_in, num_filters=8, filter_size=3)\n",
    "    l_mp = MaxPool2DLayer(l_conv, pool_size=2)\n",
    "    l_conv2 = Conv2DLayer(l_mp, num_filters=16, filter_size=3)\n",
    "    l_mp2 = MaxPool2DLayer(l_conv2, pool_size=2)\n",
    "    l_conv3 = Conv2DLayer(l_mp2, num_filters=32, filter_size=3)\n",
    "    l_pre = DenseLayer(l_conv3, num_units=10)\n",
    "    l_uro = UpperRightOnesLayer(l_pre) # addition, and \"cumulative probs\"\n",
    "    #l_softmax = NonlinearityLayer(l_uro, nonlinearity=softmax) # cumulative probs\n",
    "    l_ord = OrdinalSubtractLayer(l_uro) # convert to discrete probs\n",
    "    #l_ord = ExpressionLayer(l_ord, lambda X: (X+0.001) / 1.01, output_shape='auto') # numerical stability\n",
    "    l_ord = NonlinearityLayer(l_ord, nonlinearity=softmax)\n",
    "    return l_ord"
   ]
  },
  {
   "cell_type": "code",
   "execution_count": 230,
   "metadata": {
    "collapsed": false
   },
   "outputs": [
    {
     "name": "stdout",
     "output_type": "stream",
     "text": [
      "[[ 1. -1.  0.  0.  0.  0.  0.  0.  0.  0.]\n",
      " [ 0.  1. -1.  0.  0.  0.  0.  0.  0.  0.]\n",
      " [ 0.  0.  1. -1.  0.  0.  0.  0.  0.  0.]\n",
      " [ 0.  0.  0.  1. -1.  0.  0.  0.  0.  0.]\n",
      " [ 0.  0.  0.  0.  1. -1.  0.  0.  0.  0.]\n",
      " [ 0.  0.  0.  0.  0.  1. -1.  0.  0.  0.]\n",
      " [ 0.  0.  0.  0.  0.  0.  1. -1.  0.  0.]\n",
      " [ 0.  0.  0.  0.  0.  0.  0.  1. -1.  0.]\n",
      " [ 0.  0.  0.  0.  0.  0.  0.  0.  1.  0.]\n",
      " [ 0.  0.  0.  0.  0.  0.  0.  0.  0.  1.]]\n",
      "[[ 0.  0.  0.  0.  0.  0.  0.  0.  0.  1.]]\n",
      "<lasagne.layers.input.InputLayer object at 0x11361a490> (None, 1, 28, 28)\n",
      "<lasagne.layers.conv.Conv2DLayer object at 0x113724310> (None, 8, 26, 26)\n",
      "<lasagne.layers.pool.MaxPool2DLayer object at 0x115e39290> (None, 8, 13, 13)\n",
      "<lasagne.layers.conv.Conv2DLayer object at 0x10b4e5e50> (None, 16, 11, 11)\n",
      "<lasagne.layers.pool.MaxPool2DLayer object at 0x10b4e5710> (None, 16, 5, 5)\n",
      "<lasagne.layers.conv.Conv2DLayer object at 0x115d52290> (None, 32, 3, 3)\n",
      "<lasagne.layers.dense.DenseLayer object at 0x113724f10> (None, 10)\n",
      "<__main__.UpperRightOnesLayer object at 0x115d65e50> (None, 10)\n",
      "<__main__.OrdinalSubtractLayer object at 0x115d65e10> (None, 10)\n",
      "<lasagne.layers.special.NonlinearityLayer object at 0x115d65bd0> (None, 10)\n"
     ]
    }
   ],
   "source": [
    "X = T.tensor4('X')\n",
    "y = T.ivector('y')\n",
    "l_out = get_net()\n",
    "net_out = get_output(l_out, X)\n",
    "for layer in get_all_layers(l_out):\n",
    "    print layer, layer.output_shape"
   ]
  },
  {
   "cell_type": "code",
   "execution_count": 210,
   "metadata": {
    "collapsed": false
   },
   "outputs": [
    {
     "data": {
      "text/plain": [
       "array([[ 0.04890596,  0.01240272,  0.00918723,  0.0009901 ,  0.03845213,\n",
       "         0.00868523,  0.0009901 ,  0.0009901 ,  0.03661405,  0.83462839]])"
      ]
     },
     "execution_count": 210,
     "metadata": {},
     "output_type": "execute_result"
    }
   ],
   "source": [
    "net_out.eval({X:X_train[0:1]})+0.001 / 1.01"
   ]
  },
  {
   "cell_type": "code",
   "execution_count": 208,
   "metadata": {
    "collapsed": false
   },
   "outputs": [
    {
     "data": {
      "text/plain": [
       "array([[ 0.04791586,  0.01141262,  0.00819714,  0.        ,  0.03746203,\n",
       "         0.00769514,  0.        ,  0.        ,  0.03562395,  0.8336383 ]])"
      ]
     },
     "execution_count": 208,
     "metadata": {},
     "output_type": "execute_result"
    }
   ],
   "source": [
    "net_out.eval({X:X_train[0:1]})"
   ]
  },
  {
   "cell_type": "markdown",
   "metadata": {},
   "source": [
    "---"
   ]
  },
  {
   "cell_type": "code",
   "execution_count": 232,
   "metadata": {
    "collapsed": false
   },
   "outputs": [
    {
     "data": {
      "text/plain": [
       "0.99999999999999978"
      ]
     },
     "execution_count": 232,
     "metadata": {},
     "output_type": "execute_result"
    }
   ],
   "source": [
    "np.sum(net_out.eval({X:X_train[0:1]}))"
   ]
  },
  {
   "cell_type": "code",
   "execution_count": 233,
   "metadata": {
    "collapsed": false
   },
   "outputs": [],
   "source": [
    "params = get_all_params(l_out)\n",
    "loss = categorical_crossentropy(net_out, y).mean()\n",
    "updates = nesterov_momentum(loss, params, 0.01, 0.9)"
   ]
  },
  {
   "cell_type": "code",
   "execution_count": 234,
   "metadata": {
    "collapsed": true
   },
   "outputs": [],
   "source": [
    "train_fn = theano.function([X,y], loss, updates=updates, mode=NanGuardMode(nan_is_error=True, inf_is_error=True, big_is_error=True))"
   ]
  },
  {
   "cell_type": "code",
   "execution_count": 113,
   "metadata": {
    "collapsed": false
   },
   "outputs": [
    {
     "data": {
      "text/plain": [
       "[W, b, W, b, W, b, W, b]"
      ]
     },
     "execution_count": 113,
     "metadata": {},
     "output_type": "execute_result"
    }
   ],
   "source": [
    "params"
   ]
  },
  {
   "cell_type": "code",
   "execution_count": 218,
   "metadata": {
    "collapsed": true
   },
   "outputs": [],
   "source": [
    "def iterate(X_train, y_train, bs=32):\n",
    "    b=0\n",
    "    while True:\n",
    "        if b*bs >= X_train.shape[0]:\n",
    "            break\n",
    "        yield X_train[b*bs:(b+1)*bs], y_train[b*bs:(b+1)*bs]\n",
    "        b += 1"
   ]
  },
  {
   "cell_type": "code",
   "execution_count": 235,
   "metadata": {
    "collapsed": false
   },
   "outputs": [
    {
     "name": "stdout",
     "output_type": "stream",
     "text": [
      "1.0020876979\n",
      "0.817761946893\n",
      "0.743667285172\n",
      "0.603692934384\n",
      "0.584278360348\n"
     ]
    }
   ],
   "source": [
    "for epoch in range(0,5):\n",
    "    losses = []\n",
    "    for X_batch, y_batch in iterate(X_train, y_train):\n",
    "        losses.append(train_fn(X_batch,y_batch))\n",
    "    print np.mean(losses)"
   ]
  },
  {
   "cell_type": "code",
   "execution_count": 236,
   "metadata": {
    "collapsed": false
   },
   "outputs": [
    {
     "data": {
      "text/plain": [
       "array([[ 0.03678119,  0.03678119,  0.03678119,  0.03678119,  0.03678119,\n",
       "         0.51594494,  0.03678119,  0.03678119,  0.03678119,  0.18980554]])"
      ]
     },
     "execution_count": 236,
     "metadata": {},
     "output_type": "execute_result"
    }
   ],
   "source": [
    "net_out.eval({X:X_train[0:1]})"
   ]
  },
  {
   "cell_type": "code",
   "execution_count": 237,
   "metadata": {
    "collapsed": false
   },
   "outputs": [
    {
     "data": {
      "text/plain": [
       "5"
      ]
     },
     "execution_count": 237,
     "metadata": {},
     "output_type": "execute_result"
    }
   ],
   "source": [
    "y_train[0]"
   ]
  },
  {
   "cell_type": "code",
   "execution_count": null,
   "metadata": {
    "collapsed": true
   },
   "outputs": [],
   "source": []
  }
 ],
 "metadata": {
  "kernelspec": {
   "display_name": "Python 2",
   "language": "python",
   "name": "python2"
  },
  "language_info": {
   "codemirror_mode": {
    "name": "ipython",
    "version": 2
   },
   "file_extension": ".py",
   "mimetype": "text/x-python",
   "name": "python",
   "nbconvert_exporter": "python",
   "pygments_lexer": "ipython2",
   "version": "2.7.11"
  }
 },
 "nbformat": 4,
 "nbformat_minor": 0
}
