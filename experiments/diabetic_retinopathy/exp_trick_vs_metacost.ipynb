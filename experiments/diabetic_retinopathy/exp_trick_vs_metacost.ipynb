{
 "cells": [
  {
   "cell_type": "code",
   "execution_count": 1,
   "metadata": {
    "collapsed": true
   },
   "outputs": [],
   "source": [
    "import theano\n",
    "from theano import tensor as T\n",
    "import numpy as np"
   ]
  },
  {
   "cell_type": "code",
   "execution_count": 34,
   "metadata": {
    "collapsed": true
   },
   "outputs": [],
   "source": [
    "def cost(i,j):\n",
    "    return (i-j)**2\n",
    "\n",
    "def risk(p_dist, i):\n",
    "    assert i >= 0 and i < len(p_dist)\n",
    "    res = 0\n",
    "    for j in range(0, len(p_dist)):\n",
    "        res += p_dist[j]*cost(i,j)\n",
    "    return res\n",
    "\n",
    "def np_exp(p_dist):\n",
    "    return int(round(np.dot(p_dist, np.arange(0,5))))"
   ]
  },
  {
   "cell_type": "code",
   "execution_count": 24,
   "metadata": {
    "collapsed": false
   },
   "outputs": [],
   "source": [
    "def random_pdist():\n",
    "    arr = np.random.randint(1,20,(1,5))*1.0\n",
    "    arr = arr / np.sum(arr)\n",
    "    return arr"
   ]
  },
  {
   "cell_type": "code",
   "execution_count": 37,
   "metadata": {
    "collapsed": false
   },
   "outputs": [
    {
     "data": {
      "text/plain": [
       "2"
      ]
     },
     "execution_count": 37,
     "metadata": {},
     "output_type": "execute_result"
    }
   ],
   "source": [
    "np_exp(random_pdist())"
   ]
  },
  {
   "cell_type": "code",
   "execution_count": 68,
   "metadata": {
    "collapsed": false
   },
   "outputs": [],
   "source": [
    "for i in range(0,10):\n",
    "    dist = random_pdist()[0]\n",
    "    r1 = np.argmin([ risk(dist, i) for i in range(0, len(dist)) ])\n",
    "    r2 = np_exp(dist)\n",
    "    if r1 != r2:\n",
    "        print r1, r2\n",
    "        assert r1 == r2"
   ]
  },
  {
   "cell_type": "code",
   "execution_count": 53,
   "metadata": {
    "collapsed": false
   },
   "outputs": [
    {
     "data": {
      "text/plain": [
       "array([[ 0.225,  0.125,  0.125,  0.175,  0.35 ]])"
      ]
     },
     "execution_count": 53,
     "metadata": {},
     "output_type": "execute_result"
    }
   ],
   "source": [
    "random_pdist()"
   ]
  },
  {
   "cell_type": "code",
   "execution_count": null,
   "metadata": {
    "collapsed": true
   },
   "outputs": [],
   "source": []
  }
 ],
 "metadata": {
  "kernelspec": {
   "display_name": "Python 2",
   "language": "python",
   "name": "python2"
  },
  "language_info": {
   "codemirror_mode": {
    "name": "ipython",
    "version": 2
   },
   "file_extension": ".py",
   "mimetype": "text/x-python",
   "name": "python",
   "nbconvert_exporter": "python",
   "pygments_lexer": "ipython2",
   "version": "2.7.11"
  }
 },
 "nbformat": 4,
 "nbformat_minor": 0
}
