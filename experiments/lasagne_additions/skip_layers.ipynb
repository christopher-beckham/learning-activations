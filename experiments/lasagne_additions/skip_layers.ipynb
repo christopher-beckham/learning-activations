{
 "cells": [
  {
   "cell_type": "code",
   "execution_count": 337,
   "metadata": {
    "collapsed": false
   },
   "outputs": [],
   "source": [
    "import theano\n",
    "from theano import tensor as T\n",
    "import lasagne\n",
    "from lasagne.layers import *\n",
    "from lasagne.nonlinearities import *\n",
    "from lasagne.objectives import *\n",
    "from lasagne.random import get_rng\n",
    "from lasagne.updates import *\n",
    "import numpy as np\n",
    "import sys\n",
    "sys.path.append(\"../../modules/\")\n",
    "import helper as hp\n",
    "\n",
    "from theano.sandbox.rng_mrg import MRG_RandomStreams as RandomStreams"
   ]
  },
  {
   "cell_type": "code",
   "execution_count": 242,
   "metadata": {
    "collapsed": false
   },
   "outputs": [],
   "source": [
    "from theano.ifelse import ifelse"
   ]
  },
  {
   "cell_type": "code",
   "execution_count": 192,
   "metadata": {
    "collapsed": false
   },
   "outputs": [],
   "source": [
    "\"\"\"\n",
    "not working yet\n",
    "\"\"\"\n",
    "class SkipLayer(Layer):\n",
    "    def __init__(self, incoming, wrapped_layer, p=0.5, **kwargs):\n",
    "        super(SkipLayer, self).__init__(incoming, **kwargs)\n",
    "        self._srng = RandomStreams(get_rng().randint(1, 2147462579))\n",
    "        self.wrapped_layer = wrapped_layer\n",
    "        self.incoming = incoming\n",
    "        self.p = p\n",
    "    def get_output_for(self, input, deterministic=False, **kwargs):\n",
    "        # if deterministic, use the underlying layer\n",
    "        if deterministic or self.p == 0:\n",
    "            return self.wrapped_layer.get_output_for(input, deterministic=False, **kwargs)\n",
    "        else:\n",
    "            # if uniform(0,1) < p, skip the underlying layer\n",
    "            u = np.random.normal(0, 1)\n",
    "            if u < self.p:\n",
    "                print \"ignoring\"\n",
    "                return input\n",
    "            else:\n",
    "                return self.wrapped_layer.get_output_for(input, deterministic=False, **kwargs)"
   ]
  },
  {
   "cell_type": "markdown",
   "metadata": {},
   "source": [
    "----"
   ]
  },
  {
   "cell_type": "code",
   "execution_count": 281,
   "metadata": {
    "collapsed": false
   },
   "outputs": [],
   "source": [
    "class SkippableNonlinearityLayer(Layer):\n",
    "    def __init__(self, incoming, nonlinearity=rectify, p=0.5,\n",
    "                 **kwargs):\n",
    "        super(SkippableNonlinearityLayer, self).__init__(incoming, **kwargs)\n",
    "        self.nonlinearity = (identity if nonlinearity is None\n",
    "                             else nonlinearity)\n",
    "        self._srng = RandomStreams(get_rng().randint(1, 2147462579))\n",
    "        self.p = p\n",
    "\n",
    "    def get_output_for(self, input, deterministic=False, **kwargs):\n",
    "        if deterministic or self.p == 0:\n",
    "            return self.nonlinearity(input)\n",
    "        else:\n",
    "            return ifelse(\n",
    "                T.lt(self._srng.uniform( (1,), 0, 1)[0], self.p),\n",
    "                input,\n",
    "                self.nonlinearity(input)\n",
    "            )"
   ]
  },
  {
   "cell_type": "code",
   "execution_count": 346,
   "metadata": {
    "collapsed": false
   },
   "outputs": [],
   "source": [
    "def get_net(args={}):\n",
    "    l_in = InputLayer( (None, 1, 28, 28) )\n",
    "    #l_dense = DenseLayer(l_in, num_units=50)\n",
    "    #l_skip = SkipLayer(l_in, l_dense)\n",
    "    l_conv1 = SkippableNonlinearityLayer(\n",
    "        Conv2DLayer(l_in, filter_size=(3,3), num_filters=16, nonlinearity=linear),\n",
    "        nonlinearity=rectify,\n",
    "        p=0.5\n",
    "    )\n",
    "    l_mp1 = MaxPool2DLayer(l_conv1, pool_size=(2,2))\n",
    "    l_conv2 = SkippableNonlinearityLayer(\n",
    "        Conv2DLayer(l_mp1, filter_size=(3,3), num_filters=32, nonlinearity=linear),\n",
    "        nonlinearity=rectify,\n",
    "        p=0.5\n",
    "    )\n",
    "    l_mp2 = MaxPool2DLayer(l_conv2, pool_size=(2,2))\n",
    "    l_conv3 = SkippableNonlinearityLayer(\n",
    "        Conv2DLayer(l_mp2, filter_size=(3,3), num_filters=64, nonlinearity=linear),\n",
    "        nonlinearity=rectify,\n",
    "        p=0.5\n",
    "    )\n",
    "    l_out = DenseLayer(l_conv3, num_units=10, nonlinearity=softmax)\n",
    "    for layer in get_all_layers(l_out):\n",
    "        print layer.output_shape\n",
    "    print count_params(l_out)\n",
    "    # ----\n",
    "    X = T.tensor4('X')\n",
    "    y = T.ivector('y')\n",
    "    net_out = get_output(l_out, X)\n",
    "    net_out_det = get_output(l_out, X, deterministic=True)\n",
    "    loss = categorical_crossentropy(net_out, y).mean()\n",
    "    params = get_all_params(l_out, trainable=True)\n",
    "    updates = nesterov_momentum(loss, params, learning_rate=0.01, momentum=0.9)\n",
    "    train_fn = theano.function([X, y], loss, updates=updates)\n",
    "    eval_fn = theano.function([X], net_out_det)\n",
    "    return {\n",
    "        \"train_fn\": train_fn,\n",
    "        \"eval_fn\": eval_fn\n",
    "    }"
   ]
  },
  {
   "cell_type": "code",
   "execution_count": 355,
   "metadata": {
    "collapsed": false
   },
   "outputs": [
    {
     "name": "stdout",
     "output_type": "stream",
     "text": [
      "(None, 1, 28, 28)\n",
      "(None, 16, 26, 26)\n",
      "(None, 16, 26, 26)\n",
      "(None, 16, 13, 13)\n",
      "(None, 32, 11, 11)\n",
      "(None, 32, 11, 11)\n",
      "(None, 32, 5, 5)\n",
      "(None, 64, 3, 3)\n",
      "(None, 64, 3, 3)\n",
      "(None, 10)\n",
      "29066\n"
     ]
    }
   ],
   "source": [
    "net_cfg = get_net()"
   ]
  },
  {
   "cell_type": "code",
   "execution_count": 344,
   "metadata": {
    "collapsed": false
   },
   "outputs": [],
   "source": [
    "train_data, _, _ = hp.load_mnist(\"../../data/mnist.pkl.gz\")\n",
    "X_train, y_train = train_data\n",
    "X_train = X_train.astype(\"float32\")\n",
    "y_train = y_train.astype(\"int32\")"
   ]
  },
  {
   "cell_type": "code",
   "execution_count": 356,
   "metadata": {
    "collapsed": false
   },
   "outputs": [
    {
     "name": "stdout",
     "output_type": "stream",
     "text": [
      "0.454405799224\n",
      "0.117364909076\n"
     ]
    },
    {
     "ename": "KeyboardInterrupt",
     "evalue": "",
     "output_type": "error",
     "traceback": [
      "\u001b[0;31m---------------------------------------------------------------------------\u001b[0m",
      "\u001b[0;31mKeyboardInterrupt\u001b[0m                         Traceback (most recent call last)",
      "\u001b[0;32m<ipython-input-356-2cdee1e0ec7e>\u001b[0m in \u001b[0;36m<module>\u001b[0;34m()\u001b[0m\n\u001b[1;32m      7\u001b[0m             \u001b[0;32mbreak\u001b[0m\u001b[0;34m\u001b[0m\u001b[0m\n\u001b[1;32m      8\u001b[0m         train_losses.append(\n\u001b[0;32m----> 9\u001b[0;31m             \u001b[0mnet_cfg\u001b[0m\u001b[0;34m[\u001b[0m\u001b[0;34m\"train_fn\"\u001b[0m\u001b[0;34m]\u001b[0m\u001b[0;34m(\u001b[0m\u001b[0mX_train\u001b[0m\u001b[0;34m[\u001b[0m\u001b[0mb\u001b[0m\u001b[0;34m*\u001b[0m\u001b[0mbs\u001b[0m\u001b[0;34m:\u001b[0m\u001b[0;34m(\u001b[0m\u001b[0mb\u001b[0m\u001b[0;34m+\u001b[0m\u001b[0;36m1\u001b[0m\u001b[0;34m)\u001b[0m\u001b[0;34m*\u001b[0m\u001b[0mbs\u001b[0m\u001b[0;34m]\u001b[0m\u001b[0;34m,\u001b[0m \u001b[0my_train\u001b[0m\u001b[0;34m[\u001b[0m\u001b[0mb\u001b[0m\u001b[0;34m*\u001b[0m\u001b[0mbs\u001b[0m\u001b[0;34m:\u001b[0m\u001b[0;34m(\u001b[0m\u001b[0mb\u001b[0m\u001b[0;34m+\u001b[0m\u001b[0;36m1\u001b[0m\u001b[0;34m)\u001b[0m\u001b[0;34m*\u001b[0m\u001b[0mbs\u001b[0m\u001b[0;34m]\u001b[0m\u001b[0;34m)\u001b[0m\u001b[0;34m\u001b[0m\u001b[0m\n\u001b[0m\u001b[1;32m     10\u001b[0m         )\n\u001b[1;32m     11\u001b[0m         \u001b[0mb\u001b[0m \u001b[0;34m+=\u001b[0m \u001b[0;36m1\u001b[0m\u001b[0;34m\u001b[0m\u001b[0m\n",
      "\u001b[0;32m//anaconda/lib/python2.7/site-packages/Theano-0.8.0.dev0-py2.7.egg/theano/compile/function_module.pyc\u001b[0m in \u001b[0;36m__call__\u001b[0;34m(self, *args, **kwargs)\u001b[0m\n\u001b[1;32m    857\u001b[0m         \u001b[0mt0_fn\u001b[0m \u001b[0;34m=\u001b[0m \u001b[0mtime\u001b[0m\u001b[0;34m.\u001b[0m\u001b[0mtime\u001b[0m\u001b[0;34m(\u001b[0m\u001b[0;34m)\u001b[0m\u001b[0;34m\u001b[0m\u001b[0m\n\u001b[1;32m    858\u001b[0m         \u001b[0;32mtry\u001b[0m\u001b[0;34m:\u001b[0m\u001b[0;34m\u001b[0m\u001b[0m\n\u001b[0;32m--> 859\u001b[0;31m             \u001b[0moutputs\u001b[0m \u001b[0;34m=\u001b[0m \u001b[0mself\u001b[0m\u001b[0;34m.\u001b[0m\u001b[0mfn\u001b[0m\u001b[0;34m(\u001b[0m\u001b[0;34m)\u001b[0m\u001b[0;34m\u001b[0m\u001b[0m\n\u001b[0m\u001b[1;32m    860\u001b[0m         \u001b[0;32mexcept\u001b[0m \u001b[0mException\u001b[0m\u001b[0;34m:\u001b[0m\u001b[0;34m\u001b[0m\u001b[0m\n\u001b[1;32m    861\u001b[0m             \u001b[0;32mif\u001b[0m \u001b[0mhasattr\u001b[0m\u001b[0;34m(\u001b[0m\u001b[0mself\u001b[0m\u001b[0;34m.\u001b[0m\u001b[0mfn\u001b[0m\u001b[0;34m,\u001b[0m \u001b[0;34m'position_of_error'\u001b[0m\u001b[0;34m)\u001b[0m\u001b[0;34m:\u001b[0m\u001b[0;34m\u001b[0m\u001b[0m\n",
      "\u001b[0;32m//anaconda/lib/python2.7/site-packages/Theano-0.8.0.dev0-py2.7.egg/theano/ifelse.pyc\u001b[0m in \u001b[0;36mthunk\u001b[0;34m()\u001b[0m\n\u001b[1;32m    235\u001b[0m         \u001b[0moutputs\u001b[0m \u001b[0;34m=\u001b[0m \u001b[0mnode\u001b[0m\u001b[0;34m.\u001b[0m\u001b[0moutputs\u001b[0m\u001b[0;34m\u001b[0m\u001b[0m\n\u001b[1;32m    236\u001b[0m \u001b[0;34m\u001b[0m\u001b[0m\n\u001b[0;32m--> 237\u001b[0;31m         \u001b[0;32mdef\u001b[0m \u001b[0mthunk\u001b[0m\u001b[0;34m(\u001b[0m\u001b[0;34m)\u001b[0m\u001b[0;34m:\u001b[0m\u001b[0;34m\u001b[0m\u001b[0m\n\u001b[0m\u001b[1;32m    238\u001b[0m             \u001b[0;32mif\u001b[0m \u001b[0;32mnot\u001b[0m \u001b[0mcompute_map\u001b[0m\u001b[0;34m[\u001b[0m\u001b[0mcond\u001b[0m\u001b[0;34m]\u001b[0m\u001b[0;34m[\u001b[0m\u001b[0;36m0\u001b[0m\u001b[0;34m]\u001b[0m\u001b[0;34m:\u001b[0m\u001b[0;34m\u001b[0m\u001b[0m\n\u001b[1;32m    239\u001b[0m                 \u001b[0;32mreturn\u001b[0m \u001b[0;34m[\u001b[0m\u001b[0;36m0\u001b[0m\u001b[0;34m]\u001b[0m\u001b[0;34m\u001b[0m\u001b[0m\n",
      "\u001b[0;31mKeyboardInterrupt\u001b[0m: "
     ]
    }
   ],
   "source": [
    "bs=128\n",
    "for epoch in range(0, 10):\n",
    "    b = 0\n",
    "    train_losses = []\n",
    "    while True:\n",
    "        if b*bs >= X_train.shape[0]:\n",
    "            break\n",
    "        train_losses.append(\n",
    "            net_cfg[\"train_fn\"](X_train[b*bs:(b+1)*bs], y_train[b*bs:(b+1)*bs])\n",
    "        )\n",
    "        b += 1\n",
    "    print np.mean(train_losses)"
   ]
  },
  {
   "cell_type": "code",
   "execution_count": null,
   "metadata": {
    "collapsed": true
   },
   "outputs": [],
   "source": []
  }
 ],
 "metadata": {
  "kernelspec": {
   "display_name": "Python 2",
   "language": "python",
   "name": "python2"
  },
  "language_info": {
   "codemirror_mode": {
    "name": "ipython",
    "version": 2
   },
   "file_extension": ".py",
   "mimetype": "text/x-python",
   "name": "python",
   "nbconvert_exporter": "python",
   "pygments_lexer": "ipython2",
   "version": "2.7.11"
  }
 },
 "nbformat": 4,
 "nbformat_minor": 0
}
