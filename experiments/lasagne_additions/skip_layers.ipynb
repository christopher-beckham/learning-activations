{
 "cells": [
  {
   "cell_type": "code",
   "execution_count": 1,
   "metadata": {
    "collapsed": false
   },
   "outputs": [
    {
     "name": "stderr",
     "output_type": "stream",
     "text": [
      "//anaconda/lib/python2.7/site-packages/Theano-0.8.0.dev0-py2.7.egg/theano/tensor/signal/downsample.py:5: UserWarning: downsample module has been moved to the pool module.\n",
      "  warnings.warn(\"downsample module has been moved to the pool module.\")\n"
     ]
    }
   ],
   "source": [
    "import theano\n",
    "from theano import tensor as T\n",
    "import lasagne\n",
    "from lasagne.layers import *\n",
    "from lasagne.nonlinearities import *\n",
    "from lasagne.objectives import *\n",
    "from lasagne.random import get_rng\n",
    "from lasagne.updates import *\n",
    "import numpy as np\n",
    "import sys\n",
    "sys.path.append(\"../../modules/\")\n",
    "import helper as hp\n",
    "\n",
    "from theano.sandbox.rng_mrg import MRG_RandomStreams as RandomStreams\n",
    "\n",
    "import matplotlib.pyplot as plt\n",
    "%matplotlib inline\n",
    "\n",
    "import os\n",
    "import cPickle as pickle\n",
    "\n",
    "from theano.tensor import TensorType\n",
    "\n",
    "from theano.ifelse import ifelse"
   ]
  },
  {
   "cell_type": "code",
   "execution_count": 192,
   "metadata": {
    "collapsed": false
   },
   "outputs": [],
   "source": [
    "\"\"\"\n",
    "not working yet\n",
    "\"\"\"\n",
    "class SkipLayer(Layer):\n",
    "    def __init__(self, incoming, wrapped_layer, p=0.5, **kwargs):\n",
    "        super(SkipLayer, self).__init__(incoming, **kwargs)\n",
    "        self._srng = RandomStreams(get_rng().randint(1, 2147462579))\n",
    "        self.wrapped_layer = wrapped_layer\n",
    "        self.incoming = incoming\n",
    "        self.p = p\n",
    "    def get_output_for(self, input, deterministic=False, **kwargs):\n",
    "        # if deterministic, use the underlying layer\n",
    "        if deterministic or self.p == 0:\n",
    "            return self.wrapped_layer.get_output_for(input, deterministic=False, **kwargs)\n",
    "        else:\n",
    "            # if uniform(0,1) < p, skip the underlying layer\n",
    "            u = np.random.normal(0, 1)\n",
    "            if u < self.p:\n",
    "                print \"ignoring\"\n",
    "                return input\n",
    "            else:\n",
    "                return self.wrapped_layer.get_output_for(input, deterministic=False, **kwargs)"
   ]
  },
  {
   "cell_type": "markdown",
   "metadata": {},
   "source": [
    "----"
   ]
  },
  {
   "cell_type": "code",
   "execution_count": 3,
   "metadata": {
    "collapsed": false
   },
   "outputs": [
    {
     "data": {
      "text/plain": [
       "'\\nrs = np.random.RandomState(1234)\\nrng = theano.tensor.shared_randomstreams.RandomStreams(rs.randint(999999))\\nshp = (10,8,26,26)\\n#new_shp = np.asarray([shp[0]]).reshape(shp.shape)\\n\\nmask = rng.binomial( n=1, p=(0.5), size=(10,1,1,1) )\\nprint mask.broadcastable\\nmask = T.addbroadcast(mask, *[x for x in range(1, len(shp))])\\nprint mask.broadcastable\\nprint (mask * T.ones((10,8,26,26))).eval()\\n'"
      ]
     },
     "execution_count": 3,
     "metadata": {},
     "output_type": "execute_result"
    }
   ],
   "source": [
    "\"\"\"\n",
    "rs = np.random.RandomState(1234)\n",
    "rng = theano.tensor.shared_randomstreams.RandomStreams(rs.randint(999999))\n",
    "shp = (10,8,26,26)\n",
    "#new_shp = np.asarray([shp[0]]).reshape(shp.shape)\n",
    "\n",
    "mask = rng.binomial( n=1, p=(0.5), size=(10,1,1,1) )\n",
    "print mask.broadcastable\n",
    "mask = T.addbroadcast(mask, *[x for x in range(1, len(shp))])\n",
    "print mask.broadcastable\n",
    "print (mask * T.ones((10,8,26,26))).eval()\n",
    "\"\"\""
   ]
  },
  {
   "cell_type": "code",
   "execution_count": 3,
   "metadata": {
    "collapsed": false
   },
   "outputs": [],
   "source": [
    "class SkippableNonlinearityLayer(Layer):\n",
    "    def __init__(self, incoming, nonlinearity=rectify, p=0.5, max_=10,\n",
    "                 **kwargs):\n",
    "        super(SkippableNonlinearityLayer, self).__init__(incoming, **kwargs)\n",
    "        self.nonlinearity = (identity if nonlinearity is None\n",
    "                             else nonlinearity)\n",
    "        self._srng = RandomStreams(get_rng().randint(1, 2147462579))\n",
    "        self.p = p\n",
    "        self.max_ = max_\n",
    "\n",
    "    def get_output_for(self, input, deterministic=False, **kwargs):\n",
    "        if deterministic and self.p == 0.0:\n",
    "            # apply the bernoulli expectation\n",
    "            return self.p*input + (1-self.p)*self.nonlinearity(input)\n",
    "        else:\n",
    "            # if uniform(0,1) < p, then apply I(x), else g(x)\n",
    "            # so the probability of applying a nonlinearity\n",
    "            # is 1-p\n",
    "            \"\"\"\n",
    "            return ifelse(\n",
    "                T.lt(self._srng.uniform( (1,), 0, 1)[0], self.p),\n",
    "                input,\n",
    "                self.nonlinearity(input)\n",
    "            )\n",
    "            \"\"\"\n",
    "            #print input.ndim\n",
    "            \n",
    "            if input.ndim==4:\n",
    "                mask = self._srng.binomial(n=1, p=(self.p), size=(input.shape[0],1,1,1),\n",
    "                    dtype=input.dtype)\n",
    "                mask = T.addbroadcast(mask, 1,2,3)\n",
    "                return mask*input + (1-mask)*self.nonlinearity(input)\n",
    "            elif input.ndim == 2:\n",
    "                mask = self._srng.binomial(n=1, p=(self.p), size=(input.shape[0],1),\n",
    "                    dtype=input.dtype)\n",
    "                mask = T.addbroadcast(mask, 1)\n",
    "                return mask*input + (1-mask)*self.nonlinearity(input) \n",
    "            \n",
    "            #return input\n",
    "            "
   ]
  },
  {
   "cell_type": "code",
   "execution_count": 4,
   "metadata": {
    "collapsed": true
   },
   "outputs": [],
   "source": [
    "shallow_net = [\n",
    "    (\"conv\", 3, 16, 1),\n",
    "    (\"maxpool\", 2),\n",
    "    (\"conv\", 3, 32, 1),\n",
    "    (\"maxpool\", 2),\n",
    "    (\"conv\", 3, 64, 1),\n",
    "    (\"dense\", 128)\n",
    "]"
   ]
  },
  {
   "cell_type": "code",
   "execution_count": 5,
   "metadata": {
    "collapsed": false
   },
   "outputs": [],
   "source": [
    "deep_net = [\n",
    "    (\"conv\", 3, 8, 1),\n",
    "    (\"conv\", 3, 8, 1),\n",
    "    (\"conv\", 3, 8, 1),\n",
    "    \n",
    "    (\"conv\", 3, 16, 1),\n",
    "    (\"conv\", 3, 16, 1),\n",
    "    (\"conv\", 3, 16, 1),\n",
    "    (\"conv\", 3, 16, 1),\n",
    "    (\"conv\", 3, 16, 1),\n",
    "    (\"conv\", 3, 16, 1),\n",
    "    \n",
    "    (\"conv\", 3, 32, 1),\n",
    "    (\"conv\", 3, 32, 1),\n",
    "    (\"conv\", 3, 32, 1),\n",
    "    (\"conv\", 3, 32, 1),\n",
    "    \n",
    "    (\"dense\", 128) \n",
    "]"
   ]
  },
  {
   "cell_type": "code",
   "execution_count": 50,
   "metadata": {
    "collapsed": false
   },
   "outputs": [],
   "source": [
    "def get_net(cfg, data, args={}):\n",
    "    nonlinearity = args[\"nonlinearity\"] if \"nonlinearity\" in args else linear\n",
    "    l_in = InputLayer( (None, 1, 28, 28) )\n",
    "    l_prev = l_in\n",
    "    for line in cfg:\n",
    "        if line[0] == \"conv\":\n",
    "            #l_prev = Conv2DLayer(l_prev, filter_size=line[1], num_filters=line[2], nonlinearity=linear, stride=line[3])           \n",
    "            l_prev = SkippableNonlinearityLayer(\n",
    "                Conv2DLayer(l_prev, filter_size=line[1], num_filters=line[2], nonlinearity=linear, stride=line[3]),\n",
    "                nonlinearity=nonlinearity,\n",
    "                p=args[\"p\"])\n",
    "        elif line[0] == \"maxpool\":\n",
    "            l_prev = MaxPool2DLayer(l_prev, pool_size=line[1])\n",
    "        elif line[0] == \"dense\":\n",
    "            l_prev = SkippableNonlinearityLayer( DenseLayer(l_prev, num_units=line[1], nonlinearity=linear),\n",
    "                nonlinearity=nonlinearity, p=args[\"p\"] )\n",
    "        sys.stderr.write( str(l_prev.output_shape) + \"\\n\" )\n",
    "    l_out = DenseLayer(l_prev, num_units=10, nonlinearity=softmax)\n",
    "    sys.stderr.write(str(count_params(l_out)) + \"\\n\")\n",
    "    # ----\n",
    "    X = T.tensor4('X')\n",
    "    y = T.ivector('y')\n",
    "    idx = T.lscalar('idx')\n",
    "    # ----\n",
    "    net_out = get_output(l_out, X)\n",
    "    net_out_det = get_output(l_out, X, deterministic=True)\n",
    "    loss = categorical_crossentropy(net_out, y).mean()\n",
    "    params = get_all_params(l_out, trainable=True)\n",
    "    grads = total_norm_constraint( T.grad(loss, params), max_norm=10)\n",
    "    updates = nesterov_momentum(grads, params, learning_rate=0.01, momentum=0.9)\n",
    "    # index fns\n",
    "    bs = args[\"batch_size\"]\n",
    "    X_train, y_train, X_valid, y_valid = data\n",
    "    train_fn = theano.function(inputs=[idx], outputs=loss, updates=updates, \n",
    "        givens={\n",
    "            X: X_train[idx*bs : (idx+1)*bs],\n",
    "            y: y_train[idx*bs : (idx+1)*bs]\n",
    "        }\n",
    "    )\n",
    "    loss_fn = theano.function(inputs=[], outputs=loss, \n",
    "        givens={\n",
    "            X: X_valid,\n",
    "            y: y_valid\n",
    "        }\n",
    "    )\n",
    "    eval_fn = theano.function(inputs=[idx], outputs=net_out_det,\n",
    "        givens={\n",
    "            X:X_train[idx*bs : (idx+1)*bs]\n",
    "        }\n",
    "    )\n",
    "    \n",
    "    tmp_fn = theano.function([X], net_out)\n",
    "    outs_with_nonlinearity = theano.function(\n",
    "        [X], [ get_output(layer, X, deterministic=True) for layer in get_all_layers(l_out) \n",
    "              if isinstance(layer, SkippableNonlinearityLayer) ]\n",
    "    )\n",
    "    outs_without_nonlinearity = theano.function(\n",
    "        [X], [ get_output(layer, X, deterministic=True) for layer in get_all_layers(l_out) \n",
    "              if isinstance(layer, Conv2DLayer) or isinstance(layer, DenseLayer) ]\n",
    "    )\n",
    "    return {\n",
    "        \"train_fn\": train_fn,\n",
    "        \"eval_fn\": eval_fn,\n",
    "        \"loss_fn\": loss_fn,\n",
    "        \"outs_with_nonlinearity\": outs_with_nonlinearity,\n",
    "        \"outs_without_nonlinearity\": outs_without_nonlinearity,\n",
    "        \"l_out\": l_out,\n",
    "        \"tmp_fn\": tmp_fn\n",
    "    }"
   ]
  },
  {
   "cell_type": "code",
   "execution_count": 70,
   "metadata": {
    "collapsed": false
   },
   "outputs": [],
   "source": [
    "train_data, valid_data, _ = hp.load_mnist(\"../../data/mnist.pkl.gz\")\n",
    "X_train, y_train = train_data\n",
    "X_valid, y_valid = valid_data\n",
    "X_train = theano.shared(np.asarray(X_train, dtype=theano.config.floatX), borrow=True)\n",
    "y_train = theano.shared(np.asarray(y_train, dtype=theano.config.floatX), borrow=True)\n",
    "X_valid = theano.shared(np.asarray(X_valid, dtype=theano.config.floatX), borrow=True)\n",
    "y_valid = theano.shared(np.asarray(y_valid, dtype=theano.config.floatX), borrow=True)\n",
    "y_train = T.cast(y_train, \"int32\")\n",
    "y_valid = T.cast(y_valid, \"int32\")"
   ]
  },
  {
   "cell_type": "code",
   "execution_count": 37,
   "metadata": {
    "collapsed": false
   },
   "outputs": [
    {
     "data": {
      "text/plain": [
       "'float32'"
      ]
     },
     "execution_count": 37,
     "metadata": {},
     "output_type": "execute_result"
    }
   ],
   "source": [
    "X_valid.dtype"
   ]
  },
  {
   "cell_type": "code",
   "execution_count": 22,
   "metadata": {
    "collapsed": true
   },
   "outputs": [],
   "source": [
    "\"\"\"\n",
    "DON'T USE\n",
    "\"\"\"\n",
    "def iterate(X_train, y_train, batch_size):\n",
    "    b = 0\n",
    "    idxs = [x for x in range(0, X_train.shape[0])]\n",
    "    while True:\n",
    "        np.random.shuffle(idxs)\n",
    "        if b*batch_size >= X_train.shape[0]:\n",
    "            break\n",
    "        X_batch = X_train[idxs][b*batch_size:(b+1)*batch_size]\n",
    "        y_batch = y_train[idxs][b*batch_size:(b+1)*batch_size] \n",
    "        b += 1\n",
    "        yield X_batch, y_batch"
   ]
  },
  {
   "cell_type": "code",
   "execution_count": 67,
   "metadata": {
    "collapsed": false
   },
   "outputs": [],
   "source": [
    "def train(X_train, y_train, X_valid, y_valid, \n",
    "          net_cfg, \n",
    "          num_epochs, \n",
    "          batch_size, \n",
    "          out_file=None,\n",
    "          print_out=True,\n",
    "          debug=False):\n",
    "    # prepare the out_file\n",
    "    f = None\n",
    "    if out_file != None:\n",
    "        f = open(\"%s.txt\" % out_file, \"wb\")\n",
    "        f.write(\"train_loss,valid_loss\\n\")\n",
    "    if print_out:\n",
    "        print \"train_loss,valid_loss\"\n",
    "    # extract functions\n",
    "    train_fn = net_cfg[\"train_fn\"]\n",
    "    loss_fn = net_cfg[\"loss_fn\"]\n",
    "    outs_with_nonlinearity = net_cfg[\"outs_with_nonlinearity\"]\n",
    "    # training\n",
    "    train_losses = []\n",
    "    n_batches = X_train.get_value().shape[0] // batch_size\n",
    "    idxs = [x for x in range(0, n_batches)]\n",
    "    if debug:\n",
    "        sys.stderr.write(\"n_batches: %s\\n\" % n_batches)\n",
    "        sys.stderr.write(\"idxs: %s\\n\" % idxs)\n",
    "    for epoch in range(0, num_epochs):\n",
    "        this_train_losses = []\n",
    "        np.random.shuffle(idxs)\n",
    "        for i in range(0, len(idxs)):\n",
    "            loss_for_this_batch = train_fn( idxs[i] )\n",
    "            this_train_losses.append( loss_for_this_batch )\n",
    "        train_losses.append( np.mean(this_train_losses) )\n",
    "        valid_loss = loss_fn()\n",
    "        if f != None:\n",
    "            f.write( \"%f,%f\\n\" % (np.mean(this_train_losses), valid_loss) )\n",
    "        if print_out:\n",
    "            print \"%f,%f\" % (np.mean(this_train_losses), valid_loss)\n",
    "        #print valid_loss\n",
    "        #return train_losses\n",
    "    if f != None:\n",
    "        f.close()\n",
    "        # ok, now save the model as a pkl\n",
    "        l_out = net_cfg[\"l_out\"]\n",
    "        with open(\"%s.model\" % out_file, \"wb\") as g:\n",
    "            pickle.dump(get_all_param_values(l_out), g, pickle.HIGHEST_PROTOCOL)"
   ]
  },
  {
   "cell_type": "markdown",
   "metadata": {},
   "source": [
    "If we train two networks: one with $p = 0$ and $p = 0.5$, we expect the latter to have activations that are not close to the saturation regime. This is because if $x$ is very big, $tanh(x)$ will be in the saturation regime, but when we compute $I(x) = x$, this will be massive, therefore significantly influencing the subsequent layers and forcing backprop to lower the magnitude of $x$."
   ]
  },
  {
   "cell_type": "code",
   "execution_count": 64,
   "metadata": {
    "collapsed": false
   },
   "outputs": [
    {
     "name": "stderr",
     "output_type": "stream",
     "text": [
      "(None, 16, 26, 26)\n",
      "(None, 16, 13, 13)\n",
      "(None, 32, 11, 11)\n",
      "(None, 32, 5, 5)\n",
      "(None, 64, 3, 3)\n",
      "(None, 128)\n",
      "98442\n"
     ]
    }
   ],
   "source": [
    "tmp_net = get_net(\n",
    "    shallow_net,\n",
    "    (X_train, y_train, X_valid, y_valid),\n",
    "    { \"p\":0.0, \"nonlinearity\": tanh, \"batch_size\": 10}\n",
    ")"
   ]
  },
  {
   "cell_type": "markdown",
   "metadata": {},
   "source": [
    "Let's verify the implementation using a dummy example."
   ]
  },
  {
   "cell_type": "code",
   "execution_count": 12,
   "metadata": {
    "collapsed": false
   },
   "outputs": [],
   "source": [
    "def test_this():\n",
    "    l_in = InputLayer( (None, 5) )\n",
    "    l_dense = DenseLayer(l_in, num_units=5, nonlinearity=linear, W=np.eye(5))\n",
    "    l_id = SkippableNonlinearityLayer(l_dense, nonlinearity=sigmoid)\n",
    "    X = T.fmatrix()\n",
    "    out = get_output(l_id, X)\n",
    "    return theano.function([X], out)\n",
    "dummy_net_eval = test_this()"
   ]
  },
  {
   "cell_type": "code",
   "execution_count": 17,
   "metadata": {
    "collapsed": false
   },
   "outputs": [
    {
     "data": {
      "text/plain": [
       "array([[ 1.        ,  1.        ,  1.        ,  1.        ,  1.        ],\n",
       "       [ 1.        ,  1.        ,  1.        ,  1.        ,  1.        ],\n",
       "       [ 1.        ,  1.        ,  1.        ,  1.        ,  1.        ],\n",
       "       [ 0.73105858,  0.73105858,  0.73105858,  0.73105858,  0.73105858]])"
      ]
     },
     "execution_count": 17,
     "metadata": {},
     "output_type": "execute_result"
    }
   ],
   "source": [
    "dummy_net_eval( np.ones((4, 5), dtype=\"float32\") )"
   ]
  },
  {
   "cell_type": "markdown",
   "metadata": {},
   "source": [
    "Let's try a \"deep\" net on a subset of MNIST, and see what the outputs look like."
   ]
  },
  {
   "cell_type": "code",
   "execution_count": 43,
   "metadata": {
    "collapsed": true
   },
   "outputs": [],
   "source": [
    "skip_check = True"
   ]
  },
  {
   "cell_type": "code",
   "execution_count": 71,
   "metadata": {
    "collapsed": false
   },
   "outputs": [
    {
     "name": "stderr",
     "output_type": "stream",
     "text": [
      "(None, 8, 26, 26)\n",
      "(None, 8, 24, 24)\n",
      "(None, 8, 22, 22)\n",
      "(None, 16, 20, 20)\n",
      "(None, 16, 18, 18)\n",
      "(None, 16, 16, 16)\n",
      "(None, 16, 14, 14)\n",
      "(None, 16, 12, 12)\n",
      "(None, 16, 10, 10)\n",
      "(None, 32, 8, 8)\n",
      "(None, 32, 6, 6)\n",
      "(None, 32, 4, 4)\n",
      "(None, 32, 2, 2)\n",
      "(None, 128)\n",
      "64202\n"
     ]
    },
    {
     "ename": "KeyboardInterrupt",
     "evalue": "",
     "output_type": "error",
     "traceback": [
      "\u001b[0;31m---------------------------------------------------------------------------\u001b[0m",
      "\u001b[0;31mKeyboardInterrupt\u001b[0m                         Traceback (most recent call last)",
      "\u001b[0;32m<ipython-input-71-eac05985ea8d>\u001b[0m in \u001b[0;36m<module>\u001b[0;34m()\u001b[0m\n\u001b[1;32m      4\u001b[0m             \u001b[0mnp\u001b[0m\u001b[0;34m.\u001b[0m\u001b[0mrandom\u001b[0m\u001b[0;34m.\u001b[0m\u001b[0mseed\u001b[0m\u001b[0;34m(\u001b[0m\u001b[0;36m0\u001b[0m\u001b[0;34m)\u001b[0m\u001b[0;34m\u001b[0m\u001b[0m\n\u001b[1;32m      5\u001b[0m             \u001b[0margs\u001b[0m \u001b[0;34m=\u001b[0m \u001b[0;34m{\u001b[0m\u001b[0;34m\"p\"\u001b[0m\u001b[0;34m:\u001b[0m\u001b[0mp\u001b[0m\u001b[0;34m,\u001b[0m \u001b[0;34m\"nonlinearity\"\u001b[0m\u001b[0;34m:\u001b[0m \u001b[0mnonlinearity\u001b[0m\u001b[0;34m[\u001b[0m\u001b[0;36m1\u001b[0m\u001b[0;34m]\u001b[0m\u001b[0;34m,\u001b[0m \u001b[0;34m\"batch_size\"\u001b[0m\u001b[0;34m:\u001b[0m \u001b[0;36m128\u001b[0m\u001b[0;34m}\u001b[0m\u001b[0;34m\u001b[0m\u001b[0m\n\u001b[0;32m----> 6\u001b[0;31m             \u001b[0mid_net\u001b[0m \u001b[0;34m=\u001b[0m \u001b[0mget_net\u001b[0m\u001b[0;34m(\u001b[0m\u001b[0mdeep_net\u001b[0m\u001b[0;34m,\u001b[0m \u001b[0;34m(\u001b[0m\u001b[0mX_train\u001b[0m\u001b[0;34m,\u001b[0m \u001b[0my_train\u001b[0m\u001b[0;34m,\u001b[0m \u001b[0mX_valid\u001b[0m\u001b[0;34m,\u001b[0m \u001b[0my_valid\u001b[0m\u001b[0;34m)\u001b[0m\u001b[0;34m,\u001b[0m \u001b[0margs\u001b[0m\u001b[0;34m)\u001b[0m\u001b[0;34m\u001b[0m\u001b[0m\n\u001b[0m\u001b[1;32m      7\u001b[0m             train_losses_with_id = train(\n\u001b[1;32m      8\u001b[0m                 \u001b[0mX_train\u001b[0m\u001b[0;34m,\u001b[0m \u001b[0my_train\u001b[0m\u001b[0;34m,\u001b[0m \u001b[0mX_valid\u001b[0m\u001b[0;34m,\u001b[0m \u001b[0my_valid\u001b[0m\u001b[0;34m,\u001b[0m\u001b[0;34m\u001b[0m\u001b[0m\n",
      "\u001b[0;32m<ipython-input-50-aa60cb6181aa>\u001b[0m in \u001b[0;36mget_net\u001b[0;34m(cfg, data, args)\u001b[0m\n\u001b[1;32m     24\u001b[0m     \u001b[0;31m# ----\u001b[0m\u001b[0;34m\u001b[0m\u001b[0;34m\u001b[0m\u001b[0m\n\u001b[1;32m     25\u001b[0m     \u001b[0mnet_out\u001b[0m \u001b[0;34m=\u001b[0m \u001b[0mget_output\u001b[0m\u001b[0;34m(\u001b[0m\u001b[0ml_out\u001b[0m\u001b[0;34m,\u001b[0m \u001b[0mX\u001b[0m\u001b[0;34m)\u001b[0m\u001b[0;34m\u001b[0m\u001b[0m\n\u001b[0;32m---> 26\u001b[0;31m     \u001b[0mnet_out_det\u001b[0m \u001b[0;34m=\u001b[0m \u001b[0mget_output\u001b[0m\u001b[0;34m(\u001b[0m\u001b[0ml_out\u001b[0m\u001b[0;34m,\u001b[0m \u001b[0mX\u001b[0m\u001b[0;34m,\u001b[0m \u001b[0mdeterministic\u001b[0m\u001b[0;34m=\u001b[0m\u001b[0mTrue\u001b[0m\u001b[0;34m)\u001b[0m\u001b[0;34m\u001b[0m\u001b[0m\n\u001b[0m\u001b[1;32m     27\u001b[0m     \u001b[0mloss\u001b[0m \u001b[0;34m=\u001b[0m \u001b[0mcategorical_crossentropy\u001b[0m\u001b[0;34m(\u001b[0m\u001b[0mnet_out\u001b[0m\u001b[0;34m,\u001b[0m \u001b[0my\u001b[0m\u001b[0;34m)\u001b[0m\u001b[0;34m.\u001b[0m\u001b[0mmean\u001b[0m\u001b[0;34m(\u001b[0m\u001b[0;34m)\u001b[0m\u001b[0;34m\u001b[0m\u001b[0m\n\u001b[1;32m     28\u001b[0m     \u001b[0mparams\u001b[0m \u001b[0;34m=\u001b[0m \u001b[0mget_all_params\u001b[0m\u001b[0;34m(\u001b[0m\u001b[0ml_out\u001b[0m\u001b[0;34m,\u001b[0m \u001b[0mtrainable\u001b[0m\u001b[0;34m=\u001b[0m\u001b[0mTrue\u001b[0m\u001b[0;34m)\u001b[0m\u001b[0;34m\u001b[0m\u001b[0m\n",
      "\u001b[0;32m//anaconda/lib/python2.7/site-packages/Lasagne-0.2.dev1-py2.7.egg/lasagne/layers/helper.pyc\u001b[0m in \u001b[0;36mget_output\u001b[0;34m(layer_or_layers, inputs, **kwargs)\u001b[0m\n\u001b[1;32m    183\u001b[0m                                  \u001b[0;34m\"mapping this layer to an input expression.\"\u001b[0m\u001b[0;34m\u001b[0m\u001b[0m\n\u001b[1;32m    184\u001b[0m                                  % layer)\n\u001b[0;32m--> 185\u001b[0;31m             \u001b[0mall_outputs\u001b[0m\u001b[0;34m[\u001b[0m\u001b[0mlayer\u001b[0m\u001b[0;34m]\u001b[0m \u001b[0;34m=\u001b[0m \u001b[0mlayer\u001b[0m\u001b[0;34m.\u001b[0m\u001b[0mget_output_for\u001b[0m\u001b[0;34m(\u001b[0m\u001b[0mlayer_inputs\u001b[0m\u001b[0;34m,\u001b[0m \u001b[0;34m**\u001b[0m\u001b[0mkwargs\u001b[0m\u001b[0;34m)\u001b[0m\u001b[0;34m\u001b[0m\u001b[0m\n\u001b[0m\u001b[1;32m    186\u001b[0m     \u001b[0;31m# return the output(s) of the requested layer(s) only\u001b[0m\u001b[0;34m\u001b[0m\u001b[0;34m\u001b[0m\u001b[0m\n\u001b[1;32m    187\u001b[0m     \u001b[0;32mtry\u001b[0m\u001b[0;34m:\u001b[0m\u001b[0;34m\u001b[0m\u001b[0m\n",
      "\u001b[0;32m<ipython-input-3-1c36f9475fab>\u001b[0m in \u001b[0;36mget_output_for\u001b[0;34m(self, input, deterministic, **kwargs)\u001b[0m\n\u001b[1;32m     33\u001b[0m             \u001b[0;32melif\u001b[0m \u001b[0minput\u001b[0m\u001b[0;34m.\u001b[0m\u001b[0mndim\u001b[0m \u001b[0;34m==\u001b[0m \u001b[0;36m2\u001b[0m\u001b[0;34m:\u001b[0m\u001b[0;34m\u001b[0m\u001b[0m\n\u001b[1;32m     34\u001b[0m                 mask = self._srng.binomial(n=1, p=(self.p), size=(input.shape[0],1),\n\u001b[0;32m---> 35\u001b[0;31m                     dtype=input.dtype)\n\u001b[0m\u001b[1;32m     36\u001b[0m                 \u001b[0mmask\u001b[0m \u001b[0;34m=\u001b[0m \u001b[0mT\u001b[0m\u001b[0;34m.\u001b[0m\u001b[0maddbroadcast\u001b[0m\u001b[0;34m(\u001b[0m\u001b[0mmask\u001b[0m\u001b[0;34m,\u001b[0m \u001b[0;36m1\u001b[0m\u001b[0;34m)\u001b[0m\u001b[0;34m\u001b[0m\u001b[0m\n\u001b[1;32m     37\u001b[0m                 \u001b[0;32mreturn\u001b[0m \u001b[0mmask\u001b[0m\u001b[0;34m*\u001b[0m\u001b[0minput\u001b[0m \u001b[0;34m+\u001b[0m \u001b[0;34m(\u001b[0m\u001b[0;36m1\u001b[0m\u001b[0;34m-\u001b[0m\u001b[0mmask\u001b[0m\u001b[0;34m)\u001b[0m\u001b[0;34m*\u001b[0m\u001b[0mself\u001b[0m\u001b[0;34m.\u001b[0m\u001b[0mnonlinearity\u001b[0m\u001b[0;34m(\u001b[0m\u001b[0minput\u001b[0m\u001b[0;34m)\u001b[0m\u001b[0;34m\u001b[0m\u001b[0m\n",
      "\u001b[0;32m//anaconda/lib/python2.7/site-packages/Theano-0.8.0.dev0-py2.7.egg/theano/sandbox/rng_mrg.pyc\u001b[0m in \u001b[0;36mbinomial\u001b[0;34m(self, size, n, p, ndim, dtype, nstreams)\u001b[0m\n\u001b[1;32m   1310\u001b[0m                 \u001b[0mx\u001b[0m \u001b[0;34m=\u001b[0m \u001b[0mself\u001b[0m\u001b[0;34m.\u001b[0m\u001b[0muniform\u001b[0m\u001b[0;34m(\u001b[0m\u001b[0msize\u001b[0m\u001b[0;34m=\u001b[0m\u001b[0msize\u001b[0m\u001b[0;34m,\u001b[0m \u001b[0mdtype\u001b[0m\u001b[0;34m=\u001b[0m\u001b[0mdtype\u001b[0m\u001b[0;34m,\u001b[0m \u001b[0mnstreams\u001b[0m\u001b[0;34m=\u001b[0m\u001b[0mnstreams\u001b[0m\u001b[0;34m)\u001b[0m\u001b[0;34m\u001b[0m\u001b[0m\n\u001b[1;32m   1311\u001b[0m             \u001b[0;32melse\u001b[0m\u001b[0;34m:\u001b[0m\u001b[0;34m\u001b[0m\u001b[0m\n\u001b[0;32m-> 1312\u001b[0;31m                 \u001b[0mx\u001b[0m \u001b[0;34m=\u001b[0m \u001b[0mself\u001b[0m\u001b[0;34m.\u001b[0m\u001b[0muniform\u001b[0m\u001b[0;34m(\u001b[0m\u001b[0msize\u001b[0m\u001b[0;34m=\u001b[0m\u001b[0msize\u001b[0m\u001b[0;34m,\u001b[0m \u001b[0mnstreams\u001b[0m\u001b[0;34m=\u001b[0m\u001b[0mnstreams\u001b[0m\u001b[0;34m)\u001b[0m\u001b[0;34m\u001b[0m\u001b[0m\n\u001b[0m\u001b[1;32m   1313\u001b[0m             \u001b[0;32mreturn\u001b[0m \u001b[0mcast\u001b[0m\u001b[0;34m(\u001b[0m\u001b[0mx\u001b[0m \u001b[0;34m<\u001b[0m \u001b[0mp\u001b[0m\u001b[0;34m,\u001b[0m \u001b[0mdtype\u001b[0m\u001b[0;34m)\u001b[0m\u001b[0;34m\u001b[0m\u001b[0m\n\u001b[1;32m   1314\u001b[0m         \u001b[0;32melse\u001b[0m\u001b[0;34m:\u001b[0m\u001b[0;34m\u001b[0m\u001b[0m\n",
      "\u001b[0;32m//anaconda/lib/python2.7/site-packages/Theano-0.8.0.dev0-py2.7.egg/theano/sandbox/rng_mrg.pyc\u001b[0m in \u001b[0;36muniform\u001b[0;34m(self, size, low, high, ndim, dtype, nstreams)\u001b[0m\n\u001b[1;32m   1271\u001b[0m         \u001b[0;32mif\u001b[0m \u001b[0mnstreams\u001b[0m \u001b[0;32mis\u001b[0m \u001b[0mNone\u001b[0m\u001b[0;34m:\u001b[0m\u001b[0;34m\u001b[0m\u001b[0m\n\u001b[1;32m   1272\u001b[0m             \u001b[0mnstreams\u001b[0m \u001b[0;34m=\u001b[0m \u001b[0mself\u001b[0m\u001b[0;34m.\u001b[0m\u001b[0mn_streams\u001b[0m\u001b[0;34m(\u001b[0m\u001b[0msize\u001b[0m\u001b[0;34m)\u001b[0m\u001b[0;34m\u001b[0m\u001b[0m\n\u001b[0;32m-> 1273\u001b[0;31m         \u001b[0mrstates\u001b[0m \u001b[0;34m=\u001b[0m \u001b[0mself\u001b[0m\u001b[0;34m.\u001b[0m\u001b[0mget_substream_rstates\u001b[0m\u001b[0;34m(\u001b[0m\u001b[0mnstreams\u001b[0m\u001b[0;34m,\u001b[0m \u001b[0mdtype\u001b[0m\u001b[0;34m)\u001b[0m\u001b[0;34m\u001b[0m\u001b[0m\n\u001b[0m\u001b[1;32m   1274\u001b[0m \u001b[0;34m\u001b[0m\u001b[0m\n\u001b[1;32m   1275\u001b[0m         \u001b[0;32mif\u001b[0m \u001b[0mself\u001b[0m\u001b[0;34m.\u001b[0m\u001b[0muse_cuda\u001b[0m \u001b[0;32mand\u001b[0m \u001b[0mdtype\u001b[0m \u001b[0;34m==\u001b[0m \u001b[0;34m'float32'\u001b[0m\u001b[0;34m:\u001b[0m\u001b[0;34m\u001b[0m\u001b[0m\n",
      "\u001b[0;32m//anaconda/lib/python2.7/site-packages/Theano-0.8.0.dev0-py2.7.egg/theano/sandbox/rng_mrg.pyc\u001b[0m in \u001b[0;36mget_substream_rstates\u001b[0;34m(self, n_streams, dtype, inc_rstate)\u001b[0m\n\u001b[1;32m   1191\u001b[0m             \u001b[0mf\u001b[0m\u001b[0;34m.\u001b[0m\u001b[0minput_storage\u001b[0m\u001b[0;34m[\u001b[0m\u001b[0;36m4\u001b[0m\u001b[0;34m]\u001b[0m\u001b[0;34m.\u001b[0m\u001b[0mstorage\u001b[0m\u001b[0;34m[\u001b[0m\u001b[0;36m0\u001b[0m\u001b[0;34m]\u001b[0m \u001b[0;34m=\u001b[0m \u001b[0mv\u001b[0m\u001b[0;34m[\u001b[0m\u001b[0;36m3\u001b[0m\u001b[0;34m:\u001b[0m\u001b[0;34m]\u001b[0m\u001b[0;34m\u001b[0m\u001b[0m\n\u001b[1;32m   1192\u001b[0m             \u001b[0mf\u001b[0m\u001b[0;34m.\u001b[0m\u001b[0mfn\u001b[0m\u001b[0;34m(\u001b[0m\u001b[0;34m)\u001b[0m\u001b[0;34m\u001b[0m\u001b[0m\n\u001b[0;32m-> 1193\u001b[0;31m             \u001b[0mrval\u001b[0m\u001b[0;34m[\u001b[0m\u001b[0mi\u001b[0m\u001b[0;34m]\u001b[0m \u001b[0;34m=\u001b[0m \u001b[0mf\u001b[0m\u001b[0;34m.\u001b[0m\u001b[0moutput_storage\u001b[0m\u001b[0;34m[\u001b[0m\u001b[0;36m0\u001b[0m\u001b[0;34m]\u001b[0m\u001b[0;34m.\u001b[0m\u001b[0mstorage\u001b[0m\u001b[0;34m[\u001b[0m\u001b[0;36m0\u001b[0m\u001b[0;34m]\u001b[0m\u001b[0;34m\u001b[0m\u001b[0m\n\u001b[0m\u001b[1;32m   1194\u001b[0m \u001b[0;34m\u001b[0m\u001b[0m\n\u001b[1;32m   1195\u001b[0m         \u001b[0;32mif\u001b[0m \u001b[0minc_rstate\u001b[0m\u001b[0;34m:\u001b[0m\u001b[0;34m\u001b[0m\u001b[0m\n",
      "\u001b[0;31mKeyboardInterrupt\u001b[0m: "
     ]
    }
   ],
   "source": [
    "if skip_check or os.environ[\"HOSTNAME\"] == \"cuda4.rdgi.polymtl.ca\":\n",
    "    for p in [0.1, 0.2, 0.3, 0.4, 0.5]:\n",
    "        for nonlinearity in [(\"sigmoid\", sigmoid), (\"tanh\", tanh), (\"relu\", rectify)]:\n",
    "            np.random.seed(0)\n",
    "            args = {\"p\":p, \"nonlinearity\": nonlinearity[1], \"batch_size\": 128}\n",
    "            id_net = get_net(deep_net, (X_train, y_train, X_valid, y_valid), args)\n",
    "            train_losses_with_id = train(\n",
    "                X_train, y_train, X_valid, y_valid,\n",
    "                id_net,\n",
    "                num_epochs=10,\n",
    "                batch_size=args[\"batch_size\"],\n",
    "                out_file=\"output/p%f_%s\" % (p, nonlinearity[0]),\n",
    "                debug=False\n",
    "            )"
   ]
  },
  {
   "cell_type": "code",
   "execution_count": 50,
   "metadata": {
    "collapsed": false
   },
   "outputs": [
    {
     "data": {
      "text/plain": [
       "<matplotlib.text.Text at 0x14fecac10>"
      ]
     },
     "execution_count": 50,
     "metadata": {},
     "output_type": "execute_result"
    },
    {
     "data": {
      "image/png": "[encoded data removed]",
      "text/plain": [
       "<matplotlib.figure.Figure at 0x117f57810>"
      ]
     },
     "metadata": {},
     "output_type": "display_data"
    }
   ],
   "source": [
    "plt.plot(train_losses_without_id, \"b-\", train_losses_with_id, \"r-\")\n",
    "plt.xlabel(\"# epochs\")\n",
    "plt.ylabel(\"train loss\")"
   ]
  },
  {
   "cell_type": "code",
   "execution_count": 181,
   "metadata": {
    "collapsed": false
   },
   "outputs": [
    {
     "data": {
      "image/png": "[encoded data removed]",
      "text/plain": [
       "<matplotlib.figure.Figure at 0x135c5a9d0>"
      ]
     },
     "metadata": {},
     "output_type": "display_data"
    }
   ],
   "source": [
    "plt.figure(figsize=(8,6))\n",
    "for i in range(0,4):\n",
    "    plt.subplot(2,2,i)\n",
    "    plt.xlim(-4, 4)\n",
    "    plt.ylim(-2, 2)\n",
    "    plt.plot(\n",
    "        no_id_net[\"outs_without_nonlinearity\"](X_train[0:100])[i].flatten(),\n",
    "        no_id_net[\"outs_with_nonlinearity\"](X_train[0:100])[i].flatten(),\n",
    "        \"bo\",\n",
    "        id_net[\"outs_without_nonlinearity\"](X_train[0:100])[i].flatten(),\n",
    "        id_net[\"outs_with_nonlinearity\"](X_train[0:100])[i].flatten(),\n",
    "        \"ro\",\n",
    "    )\n",
    "    plt.ylabel(\"g(x)\")\n",
    "    plt.xlabel(\"x\")"
   ]
  },
  {
   "cell_type": "code",
   "execution_count": 49,
   "metadata": {
    "collapsed": false
   },
   "outputs": [],
   "source": [
    "%Rpush train_losses"
   ]
  },
  {
   "cell_type": "code",
   "execution_count": 51,
   "metadata": {
    "collapsed": false
   },
   "outputs": [
    {
     "name": "stdout",
     "output_type": "stream",
     "text": [
      "(None, 1, 28, 28)\n",
      "(None, 16, 26, 26)\n",
      "(None, 16, 26, 26)\n",
      "(None, 16, 13, 13)\n",
      "(None, 32, 11, 11)\n",
      "(None, 32, 11, 11)\n",
      "(None, 32, 5, 5)\n",
      "(None, 64, 3, 3)\n",
      "(None, 64, 3, 3)\n",
      "(None, 10)\n",
      "29066\n"
     ]
    }
   ],
   "source": [
    "train_losses_2 = \\\n",
    "    train(X_train, y_train, X_valid, y_valid, get_net({\"p\":0}), num_epochs=7, bs=32)"
   ]
  },
  {
   "cell_type": "code",
   "execution_count": 52,
   "metadata": {
    "collapsed": true
   },
   "outputs": [],
   "source": [
    "%Rpush train_losses_2"
   ]
  },
  {
   "cell_type": "code",
   "execution_count": 59,
   "metadata": {
    "collapsed": false
   },
   "outputs": [
    {
     "data": {
      "image/png": "[encoded data removed]"
     },
     "metadata": {},
     "output_type": "display_data"
    }
   ],
   "source": [
    "%%R\n",
    "plot(train_losses_2, type=\"l\", col=\"red\")\n",
    "lines(train_losses, col=\"blue\")"
   ]
  },
  {
   "cell_type": "code",
   "execution_count": null,
   "metadata": {
    "collapsed": true
   },
   "outputs": [],
   "source": []
  }
 ],
 "metadata": {
  "kernelspec": {
   "display_name": "Python 2",
   "language": "python",
   "name": "python2"
  },
  "language_info": {
   "codemirror_mode": {
    "name": "ipython",
    "version": 2
   },
   "file_extension": ".py",
   "mimetype": "text/x-python",
   "name": "python",
   "nbconvert_exporter": "python",
   "pygments_lexer": "ipython2",
   "version": "2.7.11"
  }
 },
 "nbformat": 4,
 "nbformat_minor": 0
}
