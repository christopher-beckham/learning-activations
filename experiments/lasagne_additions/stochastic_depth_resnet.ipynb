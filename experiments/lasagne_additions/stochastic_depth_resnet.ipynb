{
 "cells": [
  {
   "cell_type": "markdown",
   "metadata": {},
   "source": [
    "todo: move to lasagne recipes fork, and import the cifar10 data loader, and run exps on cuda4"
   ]
  },
  {
   "cell_type": "code",
   "execution_count": 1,
   "metadata": {
    "collapsed": false
   },
   "outputs": [
    {
     "name": "stderr",
     "output_type": "stream",
     "text": [
      "//anaconda/lib/python2.7/site-packages/Theano-0.8.0.dev0-py2.7.egg/theano/tensor/signal/downsample.py:5: UserWarning: downsample module has been moved to the pool module.\n",
      "  warnings.warn(\"downsample module has been moved to the pool module.\")\n"
     ]
    }
   ],
   "source": [
    "import theano\n",
    "from theano import tensor as T\n",
    "import lasagne\n",
    "from lasagne.layers import *\n",
    "from lasagne.nonlinearities import *\n",
    "from lasagne.objectives import *\n",
    "from lasagne.regularization import *\n",
    "from lasagne.random import get_rng\n",
    "from lasagne.updates import *\n",
    "from lasagne.init import *\n",
    "import numpy as np\n",
    "import sys\n",
    "sys.path.append(\"../../modules/\")\n",
    "import helper as hp\n",
    "\n",
    "from theano.sandbox.rng_mrg import MRG_RandomStreams as RandomStreams\n",
    "\n",
    "import matplotlib.pyplot as plt\n",
    "%matplotlib inline\n",
    "\n",
    "import os\n",
    "import cPickle as pickle\n",
    "\n",
    "from theano.tensor import TensorType\n",
    "\n",
    "from theano.ifelse import ifelse\n",
    "\n",
    "from time import time\n",
    "\n",
    "%load_ext rpy2.ipython\n",
    "\n",
    "from scipy import stats\n",
    "\n",
    "import deep_residual_learning_CIFAR10\n",
    "\n",
    "import math"
   ]
  },
  {
   "cell_type": "code",
   "execution_count": 40,
   "metadata": {
    "collapsed": true
   },
   "outputs": [],
   "source": [
    "class BinomialDropLayer(Layer):\n",
    "    def __init__(self, incoming, nonlinearity=rectify, p=0.5,\n",
    "                 **kwargs):\n",
    "        super(BinomialDropLayer, self).__init__(incoming, **kwargs)\n",
    "        self.nonlinearity = (identity if nonlinearity is None\n",
    "                             else nonlinearity)\n",
    "        self._srng = RandomStreams(get_rng().randint(1, 2147462579))\n",
    "        self.p = p\n",
    "\n",
    "    def get_output_for(self, input, deterministic=False, **kwargs):\n",
    "        if deterministic:\n",
    "            return self.p*input\n",
    "        else:\n",
    "            #mask = self._srng.binomial(n=1, p=(self.p), size=(input.shape[0],),\n",
    "            #    dtype=input.dtype)\n",
    "            mask = T.zeros((input.shape[0],)) + self._srng.uniform( (1,), 0, 1)[0]\n",
    "            mask = mask.dimshuffle(0,'x','x','x')\n",
    "            return mask*input"
   ]
  },
  {
   "cell_type": "code",
   "execution_count": 19,
   "metadata": {
    "collapsed": true
   },
   "outputs": [],
   "source": [
    "class IfElseDropLayer(Layer):\n",
    "    def __init__(self, incoming, nonlinearity=rectify, p=0.5,\n",
    "                 **kwargs):\n",
    "        super(IfElseDropLayer, self).__init__(incoming, **kwargs)\n",
    "        self.nonlinearity = (identity if nonlinearity is None\n",
    "                             else nonlinearity)\n",
    "        self._srng = RandomStreams(get_rng().randint(1, 2147462579))\n",
    "        self.p = p\n",
    "\n",
    "    def get_output_for(self, input, deterministic=False, **kwargs):\n",
    "        if deterministic:\n",
    "            return self.p*input\n",
    "        else:\n",
    "            return ifelse(\n",
    "                T.lt(self._srng.uniform( (1,), 0, 1)[0], self.p),\n",
    "                input,\n",
    "                T.zeros(input.shape)\n",
    "            )"
   ]
  },
  {
   "cell_type": "markdown",
   "metadata": {},
   "source": [
    "There is a difference between this residual block method and the one that is defined in [link]. When the number of filters is different to the layer's output shape (or the stride is different), instead of using a convolution to make things compatible, we use an average pooling with a pool size of 1 and a the defined stride, followed by (if necessary) adding extra zero-padded feature maps. This is because this is how the authors in [link] have defined it."
   ]
  },
  {
   "cell_type": "code",
   "execution_count": 59,
   "metadata": {
    "collapsed": false
   },
   "outputs": [],
   "source": [
    "def residual_block(layer, num_filters, filter_size=3, stride=1, num_layers=2):\n",
    "    #print \"input =\", layer.output_shape\n",
    "    conv = layer\n",
    "    if (num_filters != layer.output_shape[1]) or (stride != 1):\n",
    "        layer = Pool2DLayer(layer, pool_size=1, stride=stride, mode=\"average_inc_pad\")\n",
    "        diff = num_filters-layer.output_shape[1]\n",
    "        if diff % 2 == 0: \n",
    "            width_tp = ((diff/2, diff/2),)\n",
    "        else:\n",
    "            width_tp = (((diff/2)+1, diff/2),)\n",
    "        layer = pad(\n",
    "            layer, \n",
    "            batch_ndim=1, \n",
    "            width=width_tp\n",
    "        )\n",
    "        #print \"layer =\", layer.output_shape\n",
    "    for _ in range(num_layers):\n",
    "        conv = Conv2DLayer(conv, num_filters, filter_size, stride=stride, pad='same')\n",
    "        #print \"conv =\", conv.output_shape\n",
    "        stride = 1\n",
    "    nonlinearity = conv.nonlinearity\n",
    "    conv.nonlinearity = lasagne.nonlinearities.identity\n",
    "    return NonlinearityLayer(ElemwiseSumLayer([conv, layer]), nonlinearity)\n",
    "\n",
    "layer = InputLayer( (None, 3, 32, 32) )\n",
    "layer = Conv2DLayer(layer, 64, 7, stride=2, pad='same')\n",
    "layer = Pool2DLayer(layer, 2)\n",
    "for _ in range(3):\n",
    "    layer = residual_block(layer, 64)\n",
    "layer = residual_block(layer, 128, stride=2)\n",
    "for _ in range(3):\n",
    "    layer = residual_block(layer, 128)\n",
    "layer = residual_block(layer, 256, stride=2)\n",
    "for _ in range(5):\n",
    "    layer = residual_block(layer, 256)\n",
    "layer = residual_block(layer, 512, stride=2)\n",
    "for _ in range(2):\n",
    "    layer = residual_block(layer, 512)\n",
    "layer = DenseLayer(layer, num_units=10)"
   ]
  },
  {
   "cell_type": "code",
   "execution_count": 60,
   "metadata": {
    "collapsed": false
   },
   "outputs": [],
   "source": [
    "l_out = layer"
   ]
  },
  {
   "cell_type": "code",
   "execution_count": 53,
   "metadata": {
    "collapsed": false
   },
   "outputs": [],
   "source": [
    "X = T.tensor4('X')\n",
    "y = T.ivector('y')\n",
    "\n",
    "net_out = get_output(l_out, X)\n",
    "loss = categorical_crossentropy(net_out, y).mean()\n",
    "params = get_all_params(l_out, trainable=True)\n",
    "grads = T.grad(loss, params)\n",
    "updates = nesterov_momentum(grads, params, learning_rate=0.01, momentum=0.9)\n",
    "train_fn = theano.function(inputs=[X, y], outputs=loss, updates=updates)"
   ]
  },
  {
   "cell_type": "code",
   "execution_count": 54,
   "metadata": {
    "collapsed": false
   },
   "outputs": [
    {
     "data": {
      "text/plain": [
       "<lasagne.layers.dense.DenseLayer at 0x1458093d0>"
      ]
     },
     "execution_count": 54,
     "metadata": {},
     "output_type": "execute_result"
    }
   ],
   "source": [
    "l_out"
   ]
  },
  {
   "cell_type": "code",
   "execution_count": 55,
   "metadata": {
    "collapsed": false
   },
   "outputs": [],
   "source": [
    "fn_test = theano.function([X], get_output(l_out, X))"
   ]
  },
  {
   "cell_type": "code",
   "execution_count": 56,
   "metadata": {
    "collapsed": false
   },
   "outputs": [
    {
     "data": {
      "text/plain": [
       "array([[ 0.08618267,  0.07042011,  0.05019732,  0.23297129,  0.32451911,\n",
       "         0.        ,  0.        ,  0.        ,  0.        ,  0.05605585]])"
      ]
     },
     "execution_count": 56,
     "metadata": {},
     "output_type": "execute_result"
    }
   ],
   "source": [
    "fn_test( np.ones((1, 3, 32, 32)) )"
   ]
  },
  {
   "cell_type": "code",
   "execution_count": null,
   "metadata": {
    "collapsed": true
   },
   "outputs": [],
   "source": []
  }
 ],
 "metadata": {
  "kernelspec": {
   "display_name": "Python 2",
   "language": "python",
   "name": "python2"
  },
  "language_info": {
   "codemirror_mode": {
    "name": "ipython",
    "version": 2
   },
   "file_extension": ".py",
   "mimetype": "text/x-python",
   "name": "python",
   "nbconvert_exporter": "python",
   "pygments_lexer": "ipython2",
   "version": "2.7.11"
  }
 },
 "nbformat": 4,
 "nbformat_minor": 0
}
