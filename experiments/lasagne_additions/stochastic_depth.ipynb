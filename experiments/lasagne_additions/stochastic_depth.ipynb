{
 "cells": [
  {
   "cell_type": "code",
   "execution_count": 1,
   "metadata": {
    "collapsed": false
   },
   "outputs": [
    {
     "name": "stderr",
     "output_type": "stream",
     "text": [
      "//anaconda/lib/python2.7/site-packages/Theano-0.8.0.dev0-py2.7.egg/theano/tensor/signal/downsample.py:5: UserWarning: downsample module has been moved to the pool module.\n",
      "  warnings.warn(\"downsample module has been moved to the pool module.\")\n"
     ]
    }
   ],
   "source": [
    "import theano\n",
    "from theano import tensor as T\n",
    "import lasagne\n",
    "from lasagne.layers import *\n",
    "from lasagne.nonlinearities import *\n",
    "from lasagne.objectives import *\n",
    "from lasagne.regularization import *\n",
    "from lasagne.random import get_rng\n",
    "from lasagne.updates import *\n",
    "from lasagne.init import *\n",
    "import numpy as np\n",
    "import sys\n",
    "sys.path.append(\"../../modules/\")\n",
    "import helper as hp\n",
    "\n",
    "from theano.sandbox.rng_mrg import MRG_RandomStreams as RandomStreams\n",
    "\n",
    "import matplotlib.pyplot as plt\n",
    "%matplotlib inline\n",
    "\n",
    "import os\n",
    "import cPickle as pickle\n",
    "\n",
    "from theano.tensor import TensorType\n",
    "\n",
    "from theano.ifelse import ifelse\n",
    "\n",
    "from time import time\n",
    "\n",
    "%load_ext rpy2.ipython\n",
    "\n",
    "from scipy import stats\n",
    "\n",
    "import deep_residual_learning_CIFAR10\n",
    "\n",
    "import math"
   ]
  },
  {
   "cell_type": "markdown",
   "metadata": {},
   "source": [
    "https://github.com/Lasagne/Lasagne/issues/531"
   ]
  },
  {
   "cell_type": "markdown",
   "metadata": {},
   "source": [
    "----"
   ]
  },
  {
   "cell_type": "code",
   "execution_count": 166,
   "metadata": {
    "collapsed": true
   },
   "outputs": [],
   "source": [
    "class BinomialDropLayer(Layer):\n",
    "    def __init__(self, incoming, nonlinearity=rectify, p=0.5,\n",
    "                 **kwargs):\n",
    "        super(BinomialDropLayer, self).__init__(incoming, **kwargs)\n",
    "        self.nonlinearity = (identity if nonlinearity is None\n",
    "                             else nonlinearity)\n",
    "        self._srng = RandomStreams(get_rng().randint(1, 2147462579))\n",
    "        self.p = p\n",
    "\n",
    "    def get_output_for(self, input, deterministic=False, **kwargs):\n",
    "        if deterministic:\n",
    "            return self.p*input\n",
    "        else:\n",
    "            # TODO: same rand num for all examples in the minibatch\n",
    "            mask = self._srng.binomial(n=1, p=(self.p), size=(input.shape[0],),\n",
    "                dtype=input.dtype)\n",
    "            mask = mask.dimshuffle(0,'x','x','x')\n",
    "            return mask*input"
   ]
  },
  {
   "cell_type": "code",
   "execution_count": null,
   "metadata": {
    "collapsed": true
   },
   "outputs": [],
   "source": [
    "            \"\"\"\n",
    "            return ifelse(\n",
    "                T.lt(self._srng.uniform( (1,), 0, 1)[0], self.p),\n",
    "                input,\n",
    "                self.nonlinearity(input)\n",
    "            )\n",
    "            \"\"\""
   ]
  },
  {
   "cell_type": "code",
   "execution_count": 69,
   "metadata": {
    "collapsed": false
   },
   "outputs": [],
   "source": [
    "def stochastic_depth_block(incoming, p):\n",
    "    layer_before_incoming = None\n",
    "    for prev_layer in get_all_layers(incoming)[::-1][1::]:\n",
    "        if \"ignore\" not in prev_layer.name and prev_layer.name != \"nonlinearity\":\n",
    "            layer_before_incoming = prev_layer\n",
    "            break\n",
    "    if layer_before_incoming == None:\n",
    "        raise Exception(\"Cannot find an appropriate layer before layer: %s\" % incoming.name)\n",
    "    if layer_before_incoming.output_shape != incoming.output_shape:         \n",
    "\n",
    "        l_pool = Pool2DLayer(\n",
    "            layer_before_incoming, \n",
    "            pool_size=incoming.filter_size if hasattr(incoming, \"filter_size\") else incoming.pool_size,\n",
    "            stride=incoming.stride,\n",
    "            mode=\"average_inc_pad\", \n",
    "            name=\"ignore_pool\"\n",
    "        )\n",
    "        #print \"incoming\", incoming.output_shape\n",
    "        #print \"l_pool\", l_pool.output_shape\n",
    "\n",
    "        if layer_before_incoming.output_shape[1] < incoming.output_shape[1]:\n",
    "            diff_in_fms = incoming.output_shape[1]-layer_before_incoming.output_shape[1]\n",
    "            if diff_in_fms % 2 == 0: \n",
    "                width_tp = ((diff_in_fms/2, diff_in_fms/2),)\n",
    "            else:\n",
    "                width_tp = (((diff_in_fms/2)+1, diff_in_fms/2),)\n",
    "            l_pool = pad(\n",
    "                l_pool, \n",
    "                batch_ndim=1, \n",
    "                width=width_tp,\n",
    "                name=\"ignore_fm_pad\"\n",
    "            )\n",
    "        #print \"l_pool again: %s\" % str(l_pool.output_shape)\n",
    "        l_binom_drop = BinomialDropLayer(incoming, p=p, name=\"ignore_binom\")\n",
    "        l_sum = ElemwiseSumLayer([l_binom_drop, l_pool], name=\"ignore_elemsum\") \n",
    "        return l_sum\n",
    "    else:\n",
    "        l_binom_drop = BinomialDropLayer(incoming, p=p, name=\"ignore_binom\")\n",
    "        l_sum = ElemwiseSumLayer([l_binom_drop, layer_before_incoming], name=\"ignore_elemsum\")\n",
    "        return l_sum"
   ]
  },
  {
   "cell_type": "code",
   "execution_count": 59,
   "metadata": {
    "collapsed": false
   },
   "outputs": [],
   "source": [
    "def net1():\n",
    "\n",
    "    l_in = InputLayer( (None, 1, 28, 28), name=\"input\" )\n",
    "\n",
    "    l_conv1 = Conv2DLayer(l_in, num_filters=8, filter_size=3, name=\"l_conv1\", nonlinearity=None)\n",
    "    l_sd1 = NonlinearityLayer(stochastic_depth_block(l_conv1, p=0.5), nonlinearity=rectify, name=\"nonlinearity\")\n",
    "\n",
    "    l_mp1 = MaxPool2DLayer(l_sd1, pool_size=(2,2), name=\"l_mp1\")\n",
    "    l_sd2 = stochastic_depth_block(l_mp1, p=0.5)\n",
    "\n",
    "    l_conv2 = Conv2DLayer(l_sd2, num_filters=8, filter_size=3, name=\"l_conv2\", nonlinearity=None)\n",
    "    l_sd3 = NonlinearityLayer(stochastic_depth_block(l_conv2, p=0.5), nonlinearity=rectify, name=\"nonlinearity\")\n",
    "\n",
    "    l_mp2 = MaxPool2DLayer(l_sd3, pool_size=(2,2), name=\"l_mp2\")\n",
    "    l_sd4 = stochastic_depth_block(l_mp2, p=0.5)\n",
    "\n",
    "    l_conv3 = Conv2DLayer(l_sd4, num_filters=16, filter_size=3, name=\"l_conv3\", nonlinearity=None)\n",
    "    l_sd5 = NonlinearityLayer(stochastic_depth_block(l_conv3, p=0.5), nonlinearity=rectify, name=\"nonlinearity\")\n",
    "\n",
    "    l_fc = DenseLayer(l_sd5, num_units=10, nonlinearity=softmax, name=\"l_fc\")\n",
    "\n",
    "    l_out = l_fc\n",
    "\n",
    "    for layer in get_all_layers(l_out):\n",
    "        print layer.name, layer.output_shape\n",
    "    print count_params(l_out)\n",
    "    \n",
    "    return l_out"
   ]
  },
  {
   "cell_type": "code",
   "execution_count": 49,
   "metadata": {
    "collapsed": false
   },
   "outputs": [],
   "source": [
    "def net2():\n",
    "\n",
    "    l_in = InputLayer( (None, 1, 28, 28), name=\"input\" )\n",
    "\n",
    "    l_conv1 = Conv2DLayer(l_in, num_filters=8, filter_size=3, name=\"l_conv1\", nonlinearity=None)\n",
    "    l_sd1 = stochastic_depth_block(l_conv1, p=0.5)\n",
    "\n",
    "    l_conv2 = Conv2DLayer(l_sd1, num_filters=8, filter_size=1, stride=1, name=\"l_conv2\", nonlinearity=None)\n",
    "    l_sd2 = NonlinearityLayer(stochastic_depth_block(l_conv2, p=0.5), nonlinearity=rectify, name=\"nonlinearity\")\n",
    "\n",
    "    l_fc = DenseLayer(l_sd2, num_units=10, nonlinearity=softmax, name=\"l_fc\")\n",
    "\n",
    "    l_out = l_fc\n",
    "\n",
    "    for layer in get_all_layers(l_out):\n",
    "        print layer.name, layer.output_shape\n",
    "    print count_params(l_out)\n",
    "    \n",
    "    return l_out"
   ]
  },
  {
   "cell_type": "code",
   "execution_count": 79,
   "metadata": {
    "collapsed": false
   },
   "outputs": [
    {
     "name": "stdout",
     "output_type": "stream",
     "text": [
      "input (None, 1, 28, 28)\n",
      "l_conv1 (None, 8, 26, 26)\n",
      "ignore_binom (None, 8, 26, 26)\n",
      "ignore_pool (None, 1, 26, 26)\n",
      "ignore_fm_pad (None, 8, 26, 26)\n",
      "ignore_elemsum (None, 8, 26, 26)\n",
      "nonlinearity (None, 8, 26, 26)\n",
      "l_mp1 (None, 8, 13, 13)\n",
      "ignore_binom (None, 8, 13, 13)\n",
      "ignore_pool (None, 8, 13, 13)\n",
      "ignore_elemsum (None, 8, 13, 13)\n",
      "l_conv2 (None, 8, 11, 11)\n",
      "ignore_binom (None, 8, 11, 11)\n",
      "ignore_pool (None, 8, 11, 11)\n",
      "ignore_elemsum (None, 8, 11, 11)\n",
      "nonlinearity (None, 8, 11, 11)\n",
      "l_mp2 (None, 8, 5, 5)\n",
      "ignore_binom (None, 8, 5, 5)\n",
      "ignore_pool (None, 8, 5, 5)\n",
      "ignore_elemsum (None, 8, 5, 5)\n",
      "l_conv3 (None, 16, 3, 3)\n",
      "ignore_binom (None, 16, 3, 3)\n",
      "ignore_pool (None, 8, 3, 3)\n",
      "ignore_fm_pad (None, 16, 3, 3)\n",
      "ignore_elemsum (None, 16, 3, 3)\n",
      "nonlinearity (None, 16, 3, 3)\n",
      "l_fc (None, 10)\n",
      "3282\n"
     ]
    }
   ],
   "source": [
    "l_out = net1()"
   ]
  },
  {
   "cell_type": "markdown",
   "metadata": {},
   "source": [
    "----"
   ]
  },
  {
   "cell_type": "code",
   "execution_count": 111,
   "metadata": {
    "collapsed": false
   },
   "outputs": [
    {
     "data": {
      "text/plain": [
       "'\\n\\nnChannels, nOutChannels\\n\\nconv @ 3x3 @ stride @ nChannels2->nOutChannels\\nbatch norm\\nrelu\\nconv @ 3x3 @ 1 @ nOutChannels->nOutChannels\\nbatch norm\\n\\nskip:\\n\\nif stride > 1\\n  average pool @ 1x1 @ stride\\n\\n\\n\\n'"
      ]
     },
     "execution_count": 111,
     "metadata": {},
     "output_type": "execute_result"
    }
   ],
   "source": [
    "\"\"\"\n",
    "\n",
    "nChannels, nOutChannels\n",
    "\n",
    "conv @ 3x3 @ stride @ nChannels2->nOutChannels\n",
    "batch norm\n",
    "relu\n",
    "conv @ 3x3 @ 1 @ nOutChannels->nOutChannels\n",
    "batch norm\n",
    "\n",
    "skip:\n",
    "\n",
    "if stride > 1\n",
    "  average pool @ 1x1 @ stride\n",
    "\n",
    "\n",
    "\n",
    "\"\"\""
   ]
  },
  {
   "cell_type": "markdown",
   "metadata": {},
   "source": [
    "https://github.com/Lasagne/Lasagne/issues/531"
   ]
  },
  {
   "cell_type": "code",
   "execution_count": 164,
   "metadata": {
    "collapsed": false
   },
   "outputs": [
    {
     "name": "stdout",
     "output_type": "stream",
     "text": [
      "input = (1, 3, 28, 28)\n",
      "layer = (1, 16, 14, 14)\n",
      "conv = (1, 16, 14, 14)\n",
      "conv = (1, 16, 14, 14)\n",
      "(1, 16, 14, 14)\n",
      "(1, 16, 7, 7)\n"
     ]
    }
   ],
   "source": [
    "l_in = InputLayer( (1, 3, 28, 28) )\n",
    "\n",
    "def residual_block(layer, num_filters, filter_size=3, stride=1, num_layers=2):\n",
    "    print \"input =\", layer.output_shape\n",
    "    conv = layer\n",
    "    if (num_filters != layer.output_shape[1]) or (stride != 1):\n",
    "        #layer = Conv2DLayer(layer, num_filters, filter_size=1, stride=stride, nonlinearity=None, b=None)\n",
    "        # this is equivalent to yu's code\n",
    "        layer = MaxPool2DLayer(layer, pool_size=1, stride=stride)\n",
    "        diff = num_filters-layer.output_shape[1]\n",
    "        if diff % 2 == 0: \n",
    "            width_tp = ((diff/2, diff/2),)\n",
    "        else:\n",
    "            width_tp = (((diff/2)+1, diff/2),)\n",
    "        layer = pad(\n",
    "            layer, \n",
    "            batch_ndim=1, \n",
    "            width=width_tp\n",
    "        )\n",
    "        print \"layer =\", layer.output_shape\n",
    "    for _ in range(num_layers):\n",
    "        conv = Conv2DLayer(conv, num_filters, filter_size, stride=stride, pad='same')\n",
    "        print \"conv =\", conv.output_shape\n",
    "        stride = 1\n",
    "    nonlinearity = conv.nonlinearity\n",
    "    conv.nonlinearity = lasagne.nonlinearities.identity\n",
    "    return NonlinearityLayer(ElemwiseSumLayer([conv, layer]), nonlinearity)\n",
    "    \n",
    "#for layer in get_all_layers(residual_block(l_in, num_filters=3, stride=2)):\n",
    "#    print layer, layer.output_shape\n",
    "\n",
    "l_out = residual_block(l_in, num_filters=16, stride=2)\n",
    "print l_out.output_shape\n",
    "print MaxPool2DLayer(l_out, pool_size=1, stride=2).output_shape"
   ]
  },
  {
   "cell_type": "code",
   "execution_count": null,
   "metadata": {
    "collapsed": true
   },
   "outputs": [],
   "source": []
  },
  {
   "cell_type": "markdown",
   "metadata": {},
   "source": [
    "----"
   ]
  },
  {
   "cell_type": "code",
   "execution_count": 80,
   "metadata": {
    "collapsed": false
   },
   "outputs": [],
   "source": [
    "X = T.tensor4('X')\n",
    "y = T.ivector('y')\n",
    "\n",
    "net_out = get_output(l_out, X)\n",
    "loss = categorical_crossentropy(net_out, y).mean()\n",
    "params = get_all_params(l_out, trainable=True)\n",
    "grads = T.grad(loss, params)\n",
    "updates = nesterov_momentum(grads, params, learning_rate=0.01, momentum=0.9)\n",
    "train_fn = theano.function(inputs=[X, y], outputs=loss, updates=updates)"
   ]
  },
  {
   "cell_type": "code",
   "execution_count": 81,
   "metadata": {
    "collapsed": false
   },
   "outputs": [],
   "source": [
    "fn_test = theano.function([X], get_output(l_out, X))"
   ]
  },
  {
   "cell_type": "code",
   "execution_count": 82,
   "metadata": {
    "collapsed": false
   },
   "outputs": [
    {
     "data": {
      "text/plain": [
       "array([[ 0.07945322,  0.05831984,  0.08652536,  0.08706014,  0.18493246,\n",
       "         0.14282879,  0.05461725,  0.0947271 ,  0.14081899,  0.07071684]])"
      ]
     },
     "execution_count": 82,
     "metadata": {},
     "output_type": "execute_result"
    }
   ],
   "source": [
    "fn_test( np.ones((1, 1, 28, 28)) )"
   ]
  },
  {
   "cell_type": "code",
   "execution_count": 95,
   "metadata": {
    "collapsed": false
   },
   "outputs": [
    {
     "name": "stderr",
     "output_type": "stream",
     "text": [
      "loading mnist...\n"
     ]
    }
   ],
   "source": [
    "sys.stderr.write(\"loading mnist...\\n\")\n",
    "train_data, valid_data, _ = hp.load_mnist(\"../../data/mnist.pkl.gz\")"
   ]
  },
  {
   "cell_type": "code",
   "execution_count": 96,
   "metadata": {
    "collapsed": true
   },
   "outputs": [],
   "source": [
    "X_train, y_train = train_data\n",
    "X_train = X_train.astype(\"float32\")\n",
    "y_train = y_train.astype(\"int32\")"
   ]
  },
  {
   "cell_type": "code",
   "execution_count": 97,
   "metadata": {
    "collapsed": false
   },
   "outputs": [
    {
     "ename": "KeyboardInterrupt",
     "evalue": "",
     "output_type": "error",
     "traceback": [
      "\u001b[0;31m---------------------------------------------------------------------------\u001b[0m",
      "\u001b[0;31mKeyboardInterrupt\u001b[0m                         Traceback (most recent call last)",
      "\u001b[0;32m<ipython-input-97-91762c6d8838>\u001b[0m in \u001b[0;36m<module>\u001b[0;34m()\u001b[0m\n\u001b[1;32m      5\u001b[0m     \u001b[0mtrain_losses\u001b[0m \u001b[0;34m=\u001b[0m \u001b[0;34m[\u001b[0m\u001b[0;34m]\u001b[0m\u001b[0;34m\u001b[0m\u001b[0m\n\u001b[1;32m      6\u001b[0m     \u001b[0;32mfor\u001b[0m \u001b[0mb\u001b[0m \u001b[0;32min\u001b[0m \u001b[0mrange\u001b[0m\u001b[0;34m(\u001b[0m\u001b[0;36m0\u001b[0m\u001b[0;34m,\u001b[0m \u001b[0mn_batches\u001b[0m\u001b[0;34m)\u001b[0m\u001b[0;34m:\u001b[0m\u001b[0;34m\u001b[0m\u001b[0m\n\u001b[0;32m----> 7\u001b[0;31m         \u001b[0mtrain_losses\u001b[0m\u001b[0;34m.\u001b[0m\u001b[0mappend\u001b[0m\u001b[0;34m(\u001b[0m\u001b[0mtrain_fn\u001b[0m\u001b[0;34m(\u001b[0m\u001b[0mX_train\u001b[0m\u001b[0;34m[\u001b[0m\u001b[0mb\u001b[0m\u001b[0;34m*\u001b[0m\u001b[0mbs\u001b[0m \u001b[0;34m:\u001b[0m \u001b[0;34m(\u001b[0m\u001b[0mb\u001b[0m\u001b[0;34m+\u001b[0m\u001b[0;36m1\u001b[0m\u001b[0;34m)\u001b[0m\u001b[0;34m*\u001b[0m\u001b[0mbs\u001b[0m\u001b[0;34m]\u001b[0m\u001b[0;34m,\u001b[0m \u001b[0my_train\u001b[0m\u001b[0;34m[\u001b[0m\u001b[0mb\u001b[0m\u001b[0;34m*\u001b[0m\u001b[0mbs\u001b[0m \u001b[0;34m:\u001b[0m \u001b[0;34m(\u001b[0m\u001b[0mb\u001b[0m\u001b[0;34m+\u001b[0m\u001b[0;36m1\u001b[0m\u001b[0;34m)\u001b[0m\u001b[0;34m*\u001b[0m\u001b[0mbs\u001b[0m\u001b[0;34m]\u001b[0m\u001b[0;34m)\u001b[0m\u001b[0;34m)\u001b[0m\u001b[0;34m\u001b[0m\u001b[0m\n\u001b[0m\u001b[1;32m      8\u001b[0m     \u001b[0;32mprint\u001b[0m \u001b[0;34m(\u001b[0m\u001b[0mepoch\u001b[0m\u001b[0;34m+\u001b[0m\u001b[0;36m1\u001b[0m\u001b[0;34m)\u001b[0m\u001b[0;34m,\u001b[0m \u001b[0mnp\u001b[0m\u001b[0;34m.\u001b[0m\u001b[0mmean\u001b[0m\u001b[0;34m(\u001b[0m\u001b[0mtrain_losses\u001b[0m\u001b[0;34m)\u001b[0m\u001b[0;34m\u001b[0m\u001b[0m\n",
      "\u001b[0;32m//anaconda/lib/python2.7/site-packages/Theano-0.8.0.dev0-py2.7.egg/theano/compile/function_module.pyc\u001b[0m in \u001b[0;36m__call__\u001b[0;34m(self, *args, **kwargs)\u001b[0m\n\u001b[1;32m    857\u001b[0m         \u001b[0mt0_fn\u001b[0m \u001b[0;34m=\u001b[0m \u001b[0mtime\u001b[0m\u001b[0;34m.\u001b[0m\u001b[0mtime\u001b[0m\u001b[0;34m(\u001b[0m\u001b[0;34m)\u001b[0m\u001b[0;34m\u001b[0m\u001b[0m\n\u001b[1;32m    858\u001b[0m         \u001b[0;32mtry\u001b[0m\u001b[0;34m:\u001b[0m\u001b[0;34m\u001b[0m\u001b[0m\n\u001b[0;32m--> 859\u001b[0;31m             \u001b[0moutputs\u001b[0m \u001b[0;34m=\u001b[0m \u001b[0mself\u001b[0m\u001b[0;34m.\u001b[0m\u001b[0mfn\u001b[0m\u001b[0;34m(\u001b[0m\u001b[0;34m)\u001b[0m\u001b[0;34m\u001b[0m\u001b[0m\n\u001b[0m\u001b[1;32m    860\u001b[0m         \u001b[0;32mexcept\u001b[0m \u001b[0mException\u001b[0m\u001b[0;34m:\u001b[0m\u001b[0;34m\u001b[0m\u001b[0m\n\u001b[1;32m    861\u001b[0m             \u001b[0;32mif\u001b[0m \u001b[0mhasattr\u001b[0m\u001b[0;34m(\u001b[0m\u001b[0mself\u001b[0m\u001b[0;34m.\u001b[0m\u001b[0mfn\u001b[0m\u001b[0;34m,\u001b[0m \u001b[0;34m'position_of_error'\u001b[0m\u001b[0;34m)\u001b[0m\u001b[0;34m:\u001b[0m\u001b[0;34m\u001b[0m\u001b[0m\n",
      "\u001b[0;32m//anaconda/lib/python2.7/site-packages/Theano-0.8.0.dev0-py2.7.egg/theano/gof/op.pyc\u001b[0m in \u001b[0;36mrval\u001b[0;34m(p, i, o, n)\u001b[0m\n\u001b[1;32m    906\u001b[0m             \u001b[0;31m# default arguments are stored in the closure of `rval`\u001b[0m\u001b[0;34m\u001b[0m\u001b[0;34m\u001b[0m\u001b[0m\n\u001b[1;32m    907\u001b[0m             \u001b[0;32mdef\u001b[0m \u001b[0mrval\u001b[0m\u001b[0;34m(\u001b[0m\u001b[0mp\u001b[0m\u001b[0;34m=\u001b[0m\u001b[0mp\u001b[0m\u001b[0;34m,\u001b[0m \u001b[0mi\u001b[0m\u001b[0;34m=\u001b[0m\u001b[0mnode_input_storage\u001b[0m\u001b[0;34m,\u001b[0m \u001b[0mo\u001b[0m\u001b[0;34m=\u001b[0m\u001b[0mnode_output_storage\u001b[0m\u001b[0;34m,\u001b[0m \u001b[0mn\u001b[0m\u001b[0;34m=\u001b[0m\u001b[0mnode\u001b[0m\u001b[0;34m)\u001b[0m\u001b[0;34m:\u001b[0m\u001b[0;34m\u001b[0m\u001b[0m\n\u001b[0;32m--> 908\u001b[0;31m                 \u001b[0mr\u001b[0m \u001b[0;34m=\u001b[0m \u001b[0mp\u001b[0m\u001b[0;34m(\u001b[0m\u001b[0mn\u001b[0m\u001b[0;34m,\u001b[0m \u001b[0;34m[\u001b[0m\u001b[0mx\u001b[0m\u001b[0;34m[\u001b[0m\u001b[0;36m0\u001b[0m\u001b[0;34m]\u001b[0m \u001b[0;32mfor\u001b[0m \u001b[0mx\u001b[0m \u001b[0;32min\u001b[0m \u001b[0mi\u001b[0m\u001b[0;34m]\u001b[0m\u001b[0;34m,\u001b[0m \u001b[0mo\u001b[0m\u001b[0;34m)\u001b[0m\u001b[0;34m\u001b[0m\u001b[0m\n\u001b[0m\u001b[1;32m    909\u001b[0m                 \u001b[0;32mfor\u001b[0m \u001b[0mo\u001b[0m \u001b[0;32min\u001b[0m \u001b[0mnode\u001b[0m\u001b[0;34m.\u001b[0m\u001b[0moutputs\u001b[0m\u001b[0;34m:\u001b[0m\u001b[0;34m\u001b[0m\u001b[0m\n\u001b[1;32m    910\u001b[0m                     \u001b[0mcompute_map\u001b[0m\u001b[0;34m[\u001b[0m\u001b[0mo\u001b[0m\u001b[0;34m]\u001b[0m\u001b[0;34m[\u001b[0m\u001b[0;36m0\u001b[0m\u001b[0;34m]\u001b[0m \u001b[0;34m=\u001b[0m \u001b[0mTrue\u001b[0m\u001b[0;34m\u001b[0m\u001b[0m\n",
      "\u001b[0;32m//anaconda/lib/python2.7/site-packages/Theano-0.8.0.dev0-py2.7.egg/theano/tensor/signal/pool.pyc\u001b[0m in \u001b[0;36mperform\u001b[0;34m(self, node, inp, out)\u001b[0m\n\u001b[1;32m    879\u001b[0m                             val = gz[n, k, r, c] / ((row_end - row_st) *\n\u001b[1;32m    880\u001b[0m                                                     (col_end - col_st))\n\u001b[0;32m--> 881\u001b[0;31m                         \u001b[0mgx\u001b[0m\u001b[0;34m[\u001b[0m\u001b[0mn\u001b[0m\u001b[0;34m,\u001b[0m \u001b[0mk\u001b[0m\u001b[0;34m,\u001b[0m \u001b[0mrow_st\u001b[0m\u001b[0;34m:\u001b[0m\u001b[0mrow_end\u001b[0m\u001b[0;34m,\u001b[0m \u001b[0mcol_st\u001b[0m\u001b[0;34m:\u001b[0m\u001b[0mcol_end\u001b[0m\u001b[0;34m]\u001b[0m \u001b[0;34m+=\u001b[0m \u001b[0mval\u001b[0m\u001b[0;34m\u001b[0m\u001b[0m\n\u001b[0m\u001b[1;32m    882\u001b[0m         \u001b[0;31m# unpad the image\u001b[0m\u001b[0;34m\u001b[0m\u001b[0;34m\u001b[0m\u001b[0m\n\u001b[1;32m    883\u001b[0m         \u001b[0mgx\u001b[0m \u001b[0;34m=\u001b[0m \u001b[0mgx\u001b[0m\u001b[0;34m[\u001b[0m\u001b[0;34m:\u001b[0m\u001b[0;34m,\u001b[0m \u001b[0;34m:\u001b[0m\u001b[0;34m,\u001b[0m \u001b[0mpad_h\u001b[0m\u001b[0;34m:\u001b[0m\u001b[0;34m(\u001b[0m\u001b[0mimg_rows\u001b[0m \u001b[0;34m-\u001b[0m \u001b[0mpad_h\u001b[0m\u001b[0;34m)\u001b[0m\u001b[0;34m,\u001b[0m \u001b[0mpad_w\u001b[0m\u001b[0;34m:\u001b[0m\u001b[0;34m(\u001b[0m\u001b[0mimg_cols\u001b[0m \u001b[0;34m-\u001b[0m \u001b[0mpad_w\u001b[0m\u001b[0;34m)\u001b[0m\u001b[0;34m]\u001b[0m\u001b[0;34m\u001b[0m\u001b[0m\n",
      "\u001b[0;31mKeyboardInterrupt\u001b[0m: "
     ]
    }
   ],
   "source": [
    "bs = 32\n",
    "n_batches = X_train.shape[0] // bs\n",
    "num_epochs = 10\n",
    "for epoch in range(0, num_epochs):\n",
    "    train_losses = []\n",
    "    for b in range(0, n_batches):\n",
    "        train_losses.append(train_fn(X_train[b*bs : (b+1)*bs], y_train[b*bs : (b+1)*bs]))\n",
    "    print (epoch+1), np.mean(train_losses)"
   ]
  },
  {
   "cell_type": "code",
   "execution_count": 87,
   "metadata": {
    "collapsed": false
   },
   "outputs": [
    {
     "data": {
      "text/plain": [
       "array(1.9055026730172253)"
      ]
     },
     "execution_count": 87,
     "metadata": {},
     "output_type": "execute_result"
    }
   ],
   "source": [
    "train_fn(X_train[0:1], y_train[0:1])"
   ]
  },
  {
   "cell_type": "code",
   "execution_count": null,
   "metadata": {
    "collapsed": true
   },
   "outputs": [],
   "source": []
  }
 ],
 "metadata": {
  "kernelspec": {
   "display_name": "Python 2",
   "language": "python",
   "name": "python2"
  },
  "language_info": {
   "codemirror_mode": {
    "name": "ipython",
    "version": 2
   },
   "file_extension": ".py",
   "mimetype": "text/x-python",
   "name": "python",
   "nbconvert_exporter": "python",
   "pygments_lexer": "ipython2",
   "version": "2.7.11"
  }
 },
 "nbformat": 4,
 "nbformat_minor": 0
}
