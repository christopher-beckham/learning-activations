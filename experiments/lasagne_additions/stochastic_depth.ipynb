{
 "cells": [
  {
   "cell_type": "code",
   "execution_count": 2,
   "metadata": {
    "collapsed": false
   },
   "outputs": [
    {
     "name": "stderr",
     "output_type": "stream",
     "text": [
      "//anaconda/lib/python2.7/site-packages/Theano-0.8.0.dev0-py2.7.egg/theano/tensor/signal/downsample.py:5: UserWarning: downsample module has been moved to the pool module.\n",
      "  warnings.warn(\"downsample module has been moved to the pool module.\")\n"
     ]
    }
   ],
   "source": [
    "import theano\n",
    "from theano import tensor as T\n",
    "import lasagne\n",
    "from lasagne.layers import *\n",
    "from lasagne.nonlinearities import *\n",
    "from lasagne.objectives import *\n",
    "from lasagne.regularization import *\n",
    "from lasagne.random import get_rng\n",
    "from lasagne.updates import *\n",
    "from lasagne.init import *\n",
    "import numpy as np\n",
    "import sys\n",
    "sys.path.append(\"../../modules/\")\n",
    "import helper as hp\n",
    "\n",
    "from theano.sandbox.rng_mrg import MRG_RandomStreams as RandomStreams\n",
    "\n",
    "import matplotlib.pyplot as plt\n",
    "%matplotlib inline\n",
    "\n",
    "import os\n",
    "import cPickle as pickle\n",
    "\n",
    "from theano.tensor import TensorType\n",
    "\n",
    "from theano.ifelse import ifelse\n",
    "\n",
    "from time import time\n",
    "\n",
    "%load_ext rpy2.ipython\n",
    "\n",
    "from scipy import stats\n",
    "\n",
    "import deep_residual_learning_CIFAR10"
   ]
  },
  {
   "cell_type": "code",
   "execution_count": 5,
   "metadata": {
    "collapsed": true
   },
   "outputs": [],
   "source": [
    "srng = RandomStreams(get_rng().randint(1, 2147462579))"
   ]
  },
  {
   "cell_type": "code",
   "execution_count": 13,
   "metadata": {
    "collapsed": false
   },
   "outputs": [
    {
     "data": {
      "text/plain": [
       "(10, 1, 1, 1)"
      ]
     },
     "execution_count": 13,
     "metadata": {},
     "output_type": "execute_result"
    }
   ],
   "source": [
    "srng.binomial(n=1, p=0.5, size=(10,), dtype=\"float32\").dimshuffle(0,'x','x','x').eval().shape"
   ]
  },
  {
   "cell_type": "code",
   "execution_count": 14,
   "metadata": {
    "collapsed": false
   },
   "outputs": [
    {
     "data": {
      "text/plain": [
       "array([[[[ 0.,  0.],\n",
       "         [ 0.,  0.]],\n",
       "\n",
       "        [[ 0.,  0.],\n",
       "         [ 0.,  0.]],\n",
       "\n",
       "        [[ 0.,  0.],\n",
       "         [ 0.,  0.]]],\n",
       "\n",
       "\n",
       "       [[[ 0.,  0.],\n",
       "         [ 0.,  0.]],\n",
       "\n",
       "        [[ 0.,  0.],\n",
       "         [ 0.,  0.]],\n",
       "\n",
       "        [[ 0.,  0.],\n",
       "         [ 0.,  0.]]],\n",
       "\n",
       "\n",
       "       [[[ 0.,  0.],\n",
       "         [ 0.,  0.]],\n",
       "\n",
       "        [[ 0.,  0.],\n",
       "         [ 0.,  0.]],\n",
       "\n",
       "        [[ 0.,  0.],\n",
       "         [ 0.,  0.]]],\n",
       "\n",
       "\n",
       "       [[[ 1.,  1.],\n",
       "         [ 1.,  1.]],\n",
       "\n",
       "        [[ 1.,  1.],\n",
       "         [ 1.,  1.]],\n",
       "\n",
       "        [[ 1.,  1.],\n",
       "         [ 1.,  1.]]],\n",
       "\n",
       "\n",
       "       [[[ 0.,  0.],\n",
       "         [ 0.,  0.]],\n",
       "\n",
       "        [[ 0.,  0.],\n",
       "         [ 0.,  0.]],\n",
       "\n",
       "        [[ 0.,  0.],\n",
       "         [ 0.,  0.]]],\n",
       "\n",
       "\n",
       "       [[[ 1.,  1.],\n",
       "         [ 1.,  1.]],\n",
       "\n",
       "        [[ 1.,  1.],\n",
       "         [ 1.,  1.]],\n",
       "\n",
       "        [[ 1.,  1.],\n",
       "         [ 1.,  1.]]],\n",
       "\n",
       "\n",
       "       [[[ 0.,  0.],\n",
       "         [ 0.,  0.]],\n",
       "\n",
       "        [[ 0.,  0.],\n",
       "         [ 0.,  0.]],\n",
       "\n",
       "        [[ 0.,  0.],\n",
       "         [ 0.,  0.]]],\n",
       "\n",
       "\n",
       "       [[[ 0.,  0.],\n",
       "         [ 0.,  0.]],\n",
       "\n",
       "        [[ 0.,  0.],\n",
       "         [ 0.,  0.]],\n",
       "\n",
       "        [[ 0.,  0.],\n",
       "         [ 0.,  0.]]],\n",
       "\n",
       "\n",
       "       [[[ 1.,  1.],\n",
       "         [ 1.,  1.]],\n",
       "\n",
       "        [[ 1.,  1.],\n",
       "         [ 1.,  1.]],\n",
       "\n",
       "        [[ 1.,  1.],\n",
       "         [ 1.,  1.]]],\n",
       "\n",
       "\n",
       "       [[[ 1.,  1.],\n",
       "         [ 1.,  1.]],\n",
       "\n",
       "        [[ 1.,  1.],\n",
       "         [ 1.,  1.]],\n",
       "\n",
       "        [[ 1.,  1.],\n",
       "         [ 1.,  1.]]]])"
      ]
     },
     "execution_count": 14,
     "metadata": {},
     "output_type": "execute_result"
    }
   ],
   "source": [
    "srng.binomial(n=1, p=0.5, size=(10,), dtype=\"float32\").dimshuffle(0,'x','x','x').eval() * np.ones( (10, 3, 2, 2) )"
   ]
  },
  {
   "cell_type": "markdown",
   "metadata": {},
   "source": [
    "Stuff related to resnet shortcut connections..."
   ]
  },
  {
   "cell_type": "code",
   "execution_count": 31,
   "metadata": {
    "collapsed": false
   },
   "outputs": [
    {
     "name": "stdout",
     "output_type": "stream",
     "text": [
      "(None, 8, 28, 28)\n"
     ]
    }
   ],
   "source": [
    "l_in = InputLayer( (None, 3, 28, 28) )\n",
    "l_conv1 = Conv2DLayer(l_in, num_filters=8, filter_size=3, pad='same')\n",
    "l_conv2 = Conv2DLayer(l_conv1, num_filters=8, filter_size=3,pad='same')\n",
    "print l_conv2.output_shape"
   ]
  },
  {
   "cell_type": "code",
   "execution_count": 34,
   "metadata": {
    "collapsed": false
   },
   "outputs": [
    {
     "data": {
      "text/plain": [
       "(None, 8, 14, 14)"
      ]
     },
     "execution_count": 34,
     "metadata": {},
     "output_type": "execute_result"
    }
   ],
   "source": [
    "Conv2DLayer(l_in, num_filters=8, stride=2, filter_size=1, pad=0).output_shape"
   ]
  },
  {
   "cell_type": "markdown",
   "metadata": {},
   "source": [
    "https://github.com/Lasagne/Lasagne/issues/531"
   ]
  },
  {
   "cell_type": "code",
   "execution_count": 69,
   "metadata": {
    "collapsed": true
   },
   "outputs": [],
   "source": [
    "def residual_block(layer, num_filters, filter_size=3, stride=1, num_layers=2):\n",
    "    print layer.output_shape\n",
    "    conv = layer\n",
    "    if (num_filters != layer.output_shape[1]) or (stride != 1):\n",
    "        layer = Conv2DLayer(layer, num_filters, filter_size=1, stride=stride, pad=0, nonlinearity=None, b=None)\n",
    "    for _ in range(num_layers):\n",
    "        # first conv has to respect the stride, so that we can add the id connection\n",
    "        conv = Conv2DLayer(conv, num_filters, filter_size, stride=stride, pad='same')\n",
    "        print conv.output_shape\n",
    "        stride = 1\n",
    "    print \"[conv, layer] = %s, %s\" % (str(conv.output_shape), str(layer.output_shape))\n",
    "    return ElemwiseSumLayer([conv, layer])"
   ]
  },
  {
   "cell_type": "code",
   "execution_count": 70,
   "metadata": {
    "collapsed": false
   },
   "outputs": [
    {
     "name": "stdout",
     "output_type": "stream",
     "text": [
      "(None, 3, 28, 28)\n",
      "(None, 8, 14, 14)\n",
      "(None, 8, 14, 14)\n",
      "[conv, layer] = (None, 8, 14, 14), (None, 8, 14, 14)\n"
     ]
    }
   ],
   "source": [
    "l_out = residual_block(l_in, num_filters=8, filter_size=3, stride=2)"
   ]
  },
  {
   "cell_type": "code",
   "execution_count": null,
   "metadata": {
    "collapsed": true
   },
   "outputs": [],
   "source": []
  },
  {
   "cell_type": "code",
   "execution_count": 55,
   "metadata": {
    "collapsed": true
   },
   "outputs": [],
   "source": [
    "X = T.tensor4('X')"
   ]
  },
  {
   "cell_type": "code",
   "execution_count": 59,
   "metadata": {
    "collapsed": false
   },
   "outputs": [],
   "source": [
    "out_fn = theano.function([X], get_output(l_out, X))"
   ]
  },
  {
   "cell_type": "code",
   "execution_count": 61,
   "metadata": {
    "collapsed": false
   },
   "outputs": [
    {
     "ename": "ValueError",
     "evalue": "Input dimension mis-match. (input[1].shape[2] = 28, input[3].shape[2] = 14)\nApply node that caused the error: Elemwise{Composite{((i0 * (Abs((i1 + i2)) + i1 + i2)) + i3)}}[(0, 1)](TensorConstant{(1, 1, 1, 1) of 0.5}, CorrMM{half, (1, 1)}.0, InplaceDimShuffle{x,0,x,x}.0, CorrMM{(0, 0), (2, 2)}.0)\nToposort index: 9\nInputs types: [TensorType(float64, (True, True, True, True)), TensorType(float64, 4D), TensorType(float64, (True, False, True, True)), TensorType(float64, 4D)]\nInputs shapes: [(1, 1, 1, 1), (1, 8, 28, 28), (1, 8, 1, 1), (1, 8, 14, 14)]\nInputs strides: [(8, 8, 8, 8), (50176, 6272, 224, 8), (64, 8, 8, 8), (12544, 1568, 112, 8)]\nInputs values: [array([[[[ 0.5]]]]), 'not shown', 'not shown', 'not shown']\nOutputs clients: [['output']]\n\nHINT: Re-running with most Theano optimization disabled could give you a back-trace of when this node was created. This can be done with by setting the Theano flag 'optimizer=fast_compile'. If that does not work, Theano optimizations can be disabled with 'optimizer=None'.\nHINT: Use the Theano flag 'exception_verbosity=high' for a debugprint and storage map footprint of this apply node.",
     "output_type": "error",
     "traceback": [
      "\u001b[0;31m---------------------------------------------------------------------------\u001b[0m",
      "\u001b[0;31mValueError\u001b[0m                                Traceback (most recent call last)",
      "\u001b[0;32m<ipython-input-61-0929563bf957>\u001b[0m in \u001b[0;36m<module>\u001b[0;34m()\u001b[0m\n\u001b[0;32m----> 1\u001b[0;31m \u001b[0mout_fn\u001b[0m\u001b[0;34m(\u001b[0m \u001b[0mnp\u001b[0m\u001b[0;34m.\u001b[0m\u001b[0mones\u001b[0m\u001b[0;34m(\u001b[0m\u001b[0;34m(\u001b[0m\u001b[0;36m1\u001b[0m\u001b[0;34m,\u001b[0m\u001b[0;36m3\u001b[0m\u001b[0;34m,\u001b[0m\u001b[0;36m28\u001b[0m\u001b[0;34m,\u001b[0m\u001b[0;36m28\u001b[0m\u001b[0;34m)\u001b[0m \u001b[0;34m)\u001b[0m \u001b[0;34m)\u001b[0m\u001b[0;34m\u001b[0m\u001b[0m\n\u001b[0m",
      "\u001b[0;32m//anaconda/lib/python2.7/site-packages/Theano-0.8.0.dev0-py2.7.egg/theano/compile/function_module.pyc\u001b[0m in \u001b[0;36m__call__\u001b[0;34m(self, *args, **kwargs)\u001b[0m\n\u001b[1;32m    869\u001b[0m                     \u001b[0mnode\u001b[0m\u001b[0;34m=\u001b[0m\u001b[0mself\u001b[0m\u001b[0;34m.\u001b[0m\u001b[0mfn\u001b[0m\u001b[0;34m.\u001b[0m\u001b[0mnodes\u001b[0m\u001b[0;34m[\u001b[0m\u001b[0mself\u001b[0m\u001b[0;34m.\u001b[0m\u001b[0mfn\u001b[0m\u001b[0;34m.\u001b[0m\u001b[0mposition_of_error\u001b[0m\u001b[0;34m]\u001b[0m\u001b[0;34m,\u001b[0m\u001b[0;34m\u001b[0m\u001b[0m\n\u001b[1;32m    870\u001b[0m                     \u001b[0mthunk\u001b[0m\u001b[0;34m=\u001b[0m\u001b[0mthunk\u001b[0m\u001b[0;34m,\u001b[0m\u001b[0;34m\u001b[0m\u001b[0m\n\u001b[0;32m--> 871\u001b[0;31m                     storage_map=getattr(self.fn, 'storage_map', None))\n\u001b[0m\u001b[1;32m    872\u001b[0m             \u001b[0;32melse\u001b[0m\u001b[0;34m:\u001b[0m\u001b[0;34m\u001b[0m\u001b[0m\n\u001b[1;32m    873\u001b[0m                 \u001b[0;31m# old-style linkers raise their own exceptions\u001b[0m\u001b[0;34m\u001b[0m\u001b[0;34m\u001b[0m\u001b[0m\n",
      "\u001b[0;32m//anaconda/lib/python2.7/site-packages/Theano-0.8.0.dev0-py2.7.egg/theano/gof/link.pyc\u001b[0m in \u001b[0;36mraise_with_op\u001b[0;34m(node, thunk, exc_info, storage_map)\u001b[0m\n\u001b[1;32m    312\u001b[0m         \u001b[0;31m# extra long error message in that case.\u001b[0m\u001b[0;34m\u001b[0m\u001b[0;34m\u001b[0m\u001b[0m\n\u001b[1;32m    313\u001b[0m         \u001b[0;32mpass\u001b[0m\u001b[0;34m\u001b[0m\u001b[0m\n\u001b[0;32m--> 314\u001b[0;31m     \u001b[0mreraise\u001b[0m\u001b[0;34m(\u001b[0m\u001b[0mexc_type\u001b[0m\u001b[0;34m,\u001b[0m \u001b[0mexc_value\u001b[0m\u001b[0;34m,\u001b[0m \u001b[0mexc_trace\u001b[0m\u001b[0;34m)\u001b[0m\u001b[0;34m\u001b[0m\u001b[0m\n\u001b[0m\u001b[1;32m    315\u001b[0m \u001b[0;34m\u001b[0m\u001b[0m\n\u001b[1;32m    316\u001b[0m \u001b[0;34m\u001b[0m\u001b[0m\n",
      "\u001b[0;32m//anaconda/lib/python2.7/site-packages/Theano-0.8.0.dev0-py2.7.egg/theano/compile/function_module.pyc\u001b[0m in \u001b[0;36m__call__\u001b[0;34m(self, *args, **kwargs)\u001b[0m\n\u001b[1;32m    857\u001b[0m         \u001b[0mt0_fn\u001b[0m \u001b[0;34m=\u001b[0m \u001b[0mtime\u001b[0m\u001b[0;34m.\u001b[0m\u001b[0mtime\u001b[0m\u001b[0;34m(\u001b[0m\u001b[0;34m)\u001b[0m\u001b[0;34m\u001b[0m\u001b[0m\n\u001b[1;32m    858\u001b[0m         \u001b[0;32mtry\u001b[0m\u001b[0;34m:\u001b[0m\u001b[0;34m\u001b[0m\u001b[0m\n\u001b[0;32m--> 859\u001b[0;31m             \u001b[0moutputs\u001b[0m \u001b[0;34m=\u001b[0m \u001b[0mself\u001b[0m\u001b[0;34m.\u001b[0m\u001b[0mfn\u001b[0m\u001b[0;34m(\u001b[0m\u001b[0;34m)\u001b[0m\u001b[0;34m\u001b[0m\u001b[0m\n\u001b[0m\u001b[1;32m    860\u001b[0m         \u001b[0;32mexcept\u001b[0m \u001b[0mException\u001b[0m\u001b[0;34m:\u001b[0m\u001b[0;34m\u001b[0m\u001b[0m\n\u001b[1;32m    861\u001b[0m             \u001b[0;32mif\u001b[0m \u001b[0mhasattr\u001b[0m\u001b[0;34m(\u001b[0m\u001b[0mself\u001b[0m\u001b[0;34m.\u001b[0m\u001b[0mfn\u001b[0m\u001b[0;34m,\u001b[0m \u001b[0;34m'position_of_error'\u001b[0m\u001b[0;34m)\u001b[0m\u001b[0;34m:\u001b[0m\u001b[0;34m\u001b[0m\u001b[0m\n",
      "\u001b[0;31mValueError\u001b[0m: Input dimension mis-match. (input[1].shape[2] = 28, input[3].shape[2] = 14)\nApply node that caused the error: Elemwise{Composite{((i0 * (Abs((i1 + i2)) + i1 + i2)) + i3)}}[(0, 1)](TensorConstant{(1, 1, 1, 1) of 0.5}, CorrMM{half, (1, 1)}.0, InplaceDimShuffle{x,0,x,x}.0, CorrMM{(0, 0), (2, 2)}.0)\nToposort index: 9\nInputs types: [TensorType(float64, (True, True, True, True)), TensorType(float64, 4D), TensorType(float64, (True, False, True, True)), TensorType(float64, 4D)]\nInputs shapes: [(1, 1, 1, 1), (1, 8, 28, 28), (1, 8, 1, 1), (1, 8, 14, 14)]\nInputs strides: [(8, 8, 8, 8), (50176, 6272, 224, 8), (64, 8, 8, 8), (12544, 1568, 112, 8)]\nInputs values: [array([[[[ 0.5]]]]), 'not shown', 'not shown', 'not shown']\nOutputs clients: [['output']]\n\nHINT: Re-running with most Theano optimization disabled could give you a back-trace of when this node was created. This can be done with by setting the Theano flag 'optimizer=fast_compile'. If that does not work, Theano optimizations can be disabled with 'optimizer=None'.\nHINT: Use the Theano flag 'exception_verbosity=high' for a debugprint and storage map footprint of this apply node."
     ]
    }
   ],
   "source": [
    "out_fn( np.ones((1,3,28,28) ) )"
   ]
  },
  {
   "cell_type": "markdown",
   "metadata": {},
   "source": [
    "----"
   ]
  },
  {
   "cell_type": "code",
   "execution_count": 149,
   "metadata": {
    "collapsed": true
   },
   "outputs": [],
   "source": [
    "import math"
   ]
  },
  {
   "cell_type": "code",
   "execution_count": 209,
   "metadata": {
    "collapsed": false
   },
   "outputs": [
    {
     "name": "stdout",
     "output_type": "stream",
     "text": [
      "input (None, 3, 28, 28)\n",
      "conv1 (None, 8, 26, 26)\n",
      "conv2 (None, 8, 24, 24)\n"
     ]
    }
   ],
   "source": [
    "l_in = InputLayer( (None, 3, 28, 28), name=\"input\" )\n",
    "l_conv1 = Conv2DLayer(l_in, num_filters=8, filter_size=3, name=\"conv1\")\n",
    "l_conv2 = Conv2DLayer(l_conv1, num_filters=8, filter_size=3, name=\"conv2\")\n",
    "for layer in get_all_layers(l_conv2):\n",
    "    print layer.name, layer.output_shape"
   ]
  },
  {
   "cell_type": "code",
   "execution_count": 210,
   "metadata": {
    "collapsed": false
   },
   "outputs": [
    {
     "name": "stdout",
     "output_type": "stream",
     "text": [
      "(None, 8, 13, 13)\n"
     ]
    }
   ],
   "source": [
    "id1 = Pool2DLayer(l_conv1, pool_size=(2,2), mode=\"average_inc_pad\")\n",
    "print id1.output_shape"
   ]
  },
  {
   "cell_type": "code",
   "execution_count": 211,
   "metadata": {
    "collapsed": false
   },
   "outputs": [
    {
     "data": {
      "text/plain": [
       "(None, 8, 24, 24)"
      ]
     },
     "execution_count": 211,
     "metadata": {},
     "output_type": "execute_result"
    }
   ],
   "source": [
    "# if the pool shape is not divisible by 2, let's pad asymmetrically\n",
    "# e.g. if (13,13) then make it (14,14)\n",
    "if id1.output_shape[2] % 2 == 1:\n",
    "    l_pad = pad(id1, width=((0,1), (0,1)))\n",
    "# now, pad it so that it's good\n",
    "nd1 = (l_conv2.output_shape[2]-l_pad.output_shape[2])/2\n",
    "l_pad = pad(l_pad, width=(nd1, nd1))\n",
    "    \n",
    "l_pad.output_shape"
   ]
  },
  {
   "cell_type": "code",
   "execution_count": 199,
   "metadata": {
    "collapsed": false
   },
   "outputs": [],
   "source": [
    "out_pad = theano.function([X], get_output(l_pad, X))"
   ]
  },
  {
   "cell_type": "code",
   "execution_count": 201,
   "metadata": {
    "collapsed": false
   },
   "outputs": [
    {
     "data": {
      "text/plain": [
       "(10, 8, 24, 24)"
      ]
     },
     "execution_count": 201,
     "metadata": {},
     "output_type": "execute_result"
    }
   ],
   "source": [
    "out_pad( np.ones((10,3,28,28)) ).shape"
   ]
  },
  {
   "cell_type": "markdown",
   "metadata": {},
   "source": [
    "-----"
   ]
  },
  {
   "cell_type": "code",
   "execution_count": 370,
   "metadata": {
    "collapsed": false
   },
   "outputs": [
    {
     "name": "stdout",
     "output_type": "stream",
     "text": [
      "input (None, 3, 28, 28)\n",
      "conv1 (None, 8, 26, 26)\n",
      "conv2 (None, 8, 24, 24)\n"
     ]
    }
   ],
   "source": [
    "l_in = InputLayer( (None, 3, 28, 28), name=\"input\" )\n",
    "l_conv1 = Conv2DLayer(l_in, num_filters=8, filter_size=3, name=\"conv1\")\n",
    "l_conv2 = Conv2DLayer(l_conv1, num_filters=8, filter_size=3, name=\"conv2\")\n",
    "for layer in get_all_layers(l_conv2):\n",
    "    print layer.name, layer.output_shape"
   ]
  },
  {
   "cell_type": "code",
   "execution_count": null,
   "metadata": {
    "collapsed": false
   },
   "outputs": [],
   "source": [
    "class StochasticDepthLayer(Layer):\n",
    "    def __init__(self, incoming, in_var, nonlinearity=rectify, p=0.5,\n",
    "                 **kwargs):\n",
    "        super(StochasticDepthLayer, self).__init__(incoming, **kwargs)\n",
    "        self.nonlinearity = (identity if nonlinearity is None\n",
    "                             else nonlinearity)\n",
    "        self._srng = RandomStreams(get_rng().randint(1, 2147462579))\n",
    "        self.p = p\n",
    "        \n",
    "        #self.layer_before_incoming = incoming.input_layer\n",
    "        for prev_layer in get_all_layers(incoming)[::-1]:\n",
    "            if isinstance(prev_layer, StochasticDepthLayer) or isinstance(prev_layer, InputLayer) \\\n",
    "            or isinstance(prev_layer, InputLayer):\n",
    "                self.layer_before_incoming = prev_layer\n",
    "                break\n",
    "        \n",
    "        self.incoming = incoming\n",
    "        self.in_var = in_var\n",
    "\n",
    "    def get_output_for(self, input, deterministic=False, **kwargs):\n",
    "        if deterministic or self.p == 0.0:\n",
    "            return input\n",
    "        else:\n",
    "            \"\"\"\n",
    "            layer_before_incoming: (26, 26)\n",
    "            incoming: (24, 24)\n",
    "            If we apply avg pooling to layer_before_incoming, we get:\n",
    "            (13,13)\n",
    "            So let's add a condition to pad asymmetrically so that it is:\n",
    "            (14,14)\n",
    "            Then, let's pool up to (24, 24)\n",
    "            \"\"\"\n",
    "            layer_before_incoming = self.layer_before_incoming\n",
    "            incoming = self.incoming\n",
    "            print \"layer i have right now: %s\" % str(incoming.name),\n",
    "            print \"layer before incoming: %s\" % str(layer_before_incoming.name)\n",
    "            l_pool = Pool2DLayer(layer_before_incoming, pool_size=(2,2), mode=\"average_inc_pad\")\n",
    "            print \"l_pool: %s\" % str(l_pool.output_shape),\n",
    "            if (l_pool.output_shape[2] % 2 == 1 and incoming.output_shape[2] % 2 == 0) or \\\n",
    "                (l_pool.output_shape[2] % 2 == 0 and incoming.output_shape[2] % 2 == 1):\n",
    "                l_pad = pad( l_pool, width=((0,1),(0,1)) )\n",
    "                print \"l_pad: %s\" % str(l_pad.output_shape),\n",
    "            else:\n",
    "                l_pad = l_pool\n",
    "                print \"l_pad: %s\" % str(l_pad.output_shape),\n",
    "            nd1 = (self.incoming.output_shape[2]-l_pad.output_shape[2])/2\n",
    "            print \"nd1: %i\" % nd1,\n",
    "            if nd1 > 0:\n",
    "                l_pad = pad(l_pad, width=(nd1,nd1))\n",
    "            # what if the layer_before_incoming num feature maps is\n",
    "            # less than the incoming_layer num feature maps?\n",
    "            if layer_before_incoming.output_shape[1] < incoming.output_shape[1]:\n",
    "                diff_in_fms = incoming.output_shape[1]-layer_before_incoming.output_shape[1]\n",
    "                if diff_in_fms % 2 == 0: \n",
    "                    width_tp = ((diff_in_fms/2, diff_in_fms/2),)\n",
    "                else:\n",
    "                    width_tp = (((diff_in_fms/2)+1, diff_in_fms/2),)\n",
    "                l_pad = pad(\n",
    "                    l_pad, \n",
    "                    batch_ndim=1, \n",
    "                    width=width_tp\n",
    "                ) \n",
    "            \n",
    "            print \"l_pad: %s\" % str(l_pad.output_shape)\n",
    "            #print input\n",
    "            #print dir(self)\n",
    "            #print self.input_layer.output_shape\n",
    "            \n",
    "            l_pad_out = get_output(l_pad, self.in_var)\n",
    "\n",
    "            # ok, now do the binomial mask\n",
    "            mask = self._srng.binomial(n=1, p=(self.p), size=(input.shape[0],),\n",
    "                dtype=input.dtype)\n",
    "            mask = mask.dimshuffle(0,'x','x','x')\n",
    "            \n",
    "            return self.nonlinearity( (mask*input) + l_pad_out )\n",
    "            #return self.nonlinearity(input+l_pad_out)"
   ]
  },
  {
   "cell_type": "code",
   "execution_count": 639,
   "metadata": {
    "collapsed": true
   },
   "outputs": [],
   "source": [
    "class BinomialDropLayer(Layer):\n",
    "    def __init__(self, incoming, nonlinearity=rectify, p=0.5,\n",
    "                 **kwargs):\n",
    "        super(BinomialDropLayer, self).__init__(incoming, **kwargs)\n",
    "        self.nonlinearity = (identity if nonlinearity is None\n",
    "                             else nonlinearity)\n",
    "        self._srng = RandomStreams(get_rng().randint(1, 2147462579))\n",
    "        self.p = p\n",
    "\n",
    "    def get_output_for(self, input, deterministic=False, **kwargs):\n",
    "        if deterministic or self.p == 0.0:\n",
    "            return input\n",
    "        else:\n",
    "            # ok, now do the binomial mask\n",
    "            mask = self._srng.binomial(n=1, p=(self.p), size=(input.shape[0],),\n",
    "                dtype=input.dtype)\n",
    "            mask = mask.dimshuffle(0,'x','x','x')\n",
    "            return self.nonlinearity(mask*input)"
   ]
  },
  {
   "cell_type": "code",
   "execution_count": 656,
   "metadata": {
    "collapsed": false
   },
   "outputs": [],
   "source": [
    "def stochastic_depth_block(incoming):\n",
    "    for prev_layer in get_all_layers(incoming)[::-1][1::]:\n",
    "        if prev_layer.name != \"ignore\":\n",
    "            layer_before_incoming = prev_layer\n",
    "            break\n",
    "    print \"layer i have right now: %s\" % str(incoming.name),\n",
    "    print \"layer before incoming: %s\" % str(layer_before_incoming.name)\n",
    "    l_pool = Pool2DLayer(layer_before_incoming, pool_size=(2,2), mode=\"average_inc_pad\", name=\"ignore\")\n",
    "    print \"l_pool: %s\" % str(l_pool.output_shape),\n",
    "    if (l_pool.output_shape[2] % 2 == 1 and incoming.output_shape[2] % 2 == 0) or \\\n",
    "        (l_pool.output_shape[2] % 2 == 0 and incoming.output_shape[2] % 2 == 1):\n",
    "        l_pad = pad( l_pool, width=((0,1),(0,1)), name=\"ignore\" )\n",
    "        print \"l_pad: %s\" % str(l_pad.output_shape),\n",
    "    else:\n",
    "        l_pad = l_pool\n",
    "        print \"l_pad: %s\" % str(l_pad.output_shape),\n",
    "    nd1 = (incoming.output_shape[2]-l_pad.output_shape[2])/2\n",
    "    print \"nd1: %i\" % nd1,\n",
    "    if nd1 > 0:\n",
    "        l_pad = pad(l_pad, width=(nd1,nd1), name=\"ignore\")\n",
    "    # what if the layer_before_incoming num feature maps is\n",
    "    # less than the incoming_layer num feature maps?\n",
    "    if layer_before_incoming.output_shape[1] < incoming.output_shape[1]:\n",
    "        diff_in_fms = incoming.output_shape[1]-layer_before_incoming.output_shape[1]\n",
    "        if diff_in_fms % 2 == 0: \n",
    "            width_tp = ((diff_in_fms/2, diff_in_fms/2),)\n",
    "        else:\n",
    "            width_tp = (((diff_in_fms/2)+1, diff_in_fms/2),)\n",
    "        l_pad = pad(\n",
    "            l_pad, \n",
    "            batch_ndim=1, \n",
    "            width=width_tp,\n",
    "            name=\"ignore\"\n",
    "        )\n",
    "    print \"l_pad: %s\" % str(l_pad.output_shape)\n",
    "    \n",
    "    l_binom_drop = BinomialDropLayer(incoming, p=0.5, name=\"ignore\")\n",
    "    l_sum = ElemwiseSumLayer([l_binom_drop, l_pad], name=\"ignore\") \n",
    "    \n",
    "    return l_sum"
   ]
  },
  {
   "cell_type": "code",
   "execution_count": 657,
   "metadata": {
    "collapsed": false
   },
   "outputs": [
    {
     "name": "stdout",
     "output_type": "stream",
     "text": [
      "layer i have right now: conv1 layer before incoming: input\n",
      "l_pool: (None, 3, 14, 14) l_pad: (None, 3, 14, 14) nd1: 6 l_pad: (None, 8, 26, 26)\n",
      "layer i have right now: conv2 layer before incoming: conv1\n",
      "l_pool: (None, 8, 13, 13) l_pad: (None, 8, 14, 14) nd1: 5 l_pad: (None, 8, 24, 24)\n",
      "input (None, 3, 28, 28)\n",
      "conv1 (None, 8, 26, 26)\n",
      "ignore (None, 8, 26, 26)\n",
      "ignore (None, 3, 14, 14)\n",
      "ignore (None, 3, 26, 26)\n",
      "ignore (None, 8, 26, 26)\n",
      "ignore (None, 8, 26, 26)\n",
      "conv2 (None, 8, 24, 24)\n",
      "ignore (None, 8, 24, 24)\n",
      "ignore (None, 8, 13, 13)\n",
      "ignore (None, 8, 14, 14)\n",
      "ignore (None, 8, 24, 24)\n",
      "ignore (None, 8, 24, 24)\n"
     ]
    }
   ],
   "source": [
    "l_in = InputLayer( (None, 3, 28, 28), name=\"input\" )\n",
    "l_conv1 = Conv2DLayer(l_in, num_filters=8, filter_size=3, name=\"conv1\", nonlinearity=None)\n",
    "l_sd1 = stochastic_depth_block(l_conv1)\n",
    "l_conv2 = Conv2DLayer(l_sd1, num_filters=8, filter_size=3, name=\"conv2\", nonlinearity=None)\n",
    "l_sd2 = stochastic_depth_block(l_conv2)\n",
    "\n",
    "\n",
    "for layer in get_all_layers(l_sd2):\n",
    "    print layer.name, layer.output_shape"
   ]
  },
  {
   "cell_type": "code",
   "execution_count": 644,
   "metadata": {
    "collapsed": false
   },
   "outputs": [
    {
     "name": "stdout",
     "output_type": "stream",
     "text": [
      "layer i have right now: sd_conv2 layer before incoming: conv2\n",
      "l_pool: (None, 16, 5, 5) l_pad: (None, 16, 5, 5) nd1: 3 l_pad: (None, 16, 11, 11)\n",
      "<lasagne.layers.input.InputLayer object at 0x1169a9050>\n",
      "<lasagne.layers.conv.Conv2DLayer object at 0x1169d2150>\n",
      "<__main__.StochasticDepthLayer object at 0x1169d2090>\n",
      "<lasagne.layers.pool.MaxPool2DLayer object at 0x1169a9e10>\n",
      "<__main__.StochasticDepthLayer object at 0x1169d2410>\n",
      "<lasagne.layers.conv.Conv2DLayer object at 0x1169d2490>\n",
      "<__main__.StochasticDepthLayer object at 0x1169d2550>\n",
      "<__main__.BinomialDropLayer object at 0x12aaf3190>\n",
      "<lasagne.layers.pool.Pool2DLayer object at 0x115371ed0>\n",
      "<lasagne.layers.shape.PadLayer object at 0x12aaf3250>\n",
      "<lasagne.layers.merge.ElemwiseSumLayer object at 0x112c3a790>\n"
     ]
    }
   ],
   "source": [
    "for layer in get_all_layers(stochastic_depth_block(l_conv2)):\n",
    "    print layer"
   ]
  },
  {
   "cell_type": "code",
   "execution_count": 372,
   "metadata": {
    "collapsed": false
   },
   "outputs": [
    {
     "data": {
      "text/plain": [
       "(None, 8, 24, 24)"
      ]
     },
     "execution_count": 372,
     "metadata": {},
     "output_type": "execute_result"
    }
   ],
   "source": [
    "l_test = StochasticDepthLayer(l_conv2, nonlinearity=rectify, in_var=X)\n",
    "l_test.output_shape"
   ]
  },
  {
   "cell_type": "code",
   "execution_count": 373,
   "metadata": {
    "collapsed": false
   },
   "outputs": [
    {
     "name": "stdout",
     "output_type": "stream",
     "text": [
      "yes\n",
      "<function rectify at 0x107833140>\n"
     ]
    }
   ],
   "source": [
    "fn_test = theano.function([X], get_output(l_test, X))"
   ]
  },
  {
   "cell_type": "code",
   "execution_count": 376,
   "metadata": {
    "collapsed": false
   },
   "outputs": [
    {
     "data": {
      "text/plain": [
       "array([[[[ 0.        ,  0.        ,  0.        , ...,  0.        ,\n",
       "           0.        ,  0.        ],\n",
       "         [ 0.        ,  0.        ,  0.        , ...,  0.        ,\n",
       "           0.        ,  0.        ],\n",
       "         [ 0.        ,  0.        ,  0.        , ...,  0.        ,\n",
       "           0.        ,  0.        ],\n",
       "         ..., \n",
       "         [ 0.        ,  0.        ,  0.        , ...,  0.        ,\n",
       "           0.        ,  0.        ],\n",
       "         [ 0.        ,  0.        ,  0.        , ...,  0.        ,\n",
       "           0.        ,  0.        ],\n",
       "         [ 0.        ,  0.        ,  0.        , ...,  0.        ,\n",
       "           0.        ,  0.        ]],\n",
       "\n",
       "        [[ 0.02005802,  0.02005802,  0.02005802, ...,  0.02005802,\n",
       "           0.02005802,  0.02005802],\n",
       "         [ 0.02005802,  0.02005802,  0.02005802, ...,  0.02005802,\n",
       "           0.02005802,  0.02005802],\n",
       "         [ 0.02005802,  0.02005802,  0.02005802, ...,  0.02005802,\n",
       "           0.02005802,  0.02005802],\n",
       "         ..., \n",
       "         [ 0.02005802,  0.02005802,  0.02005802, ...,  0.02005802,\n",
       "           0.02005802,  0.02005802],\n",
       "         [ 0.02005802,  0.02005802,  0.02005802, ...,  0.02005802,\n",
       "           0.02005802,  0.02005802],\n",
       "         [ 0.02005802,  0.02005802,  0.02005802, ...,  0.02005802,\n",
       "           0.02005802,  0.02005802]],\n",
       "\n",
       "        [[ 0.0361864 ,  0.0361864 ,  0.0361864 , ...,  0.0361864 ,\n",
       "           0.0361864 ,  0.0361864 ],\n",
       "         [ 0.0361864 ,  0.0361864 ,  0.0361864 , ...,  0.0361864 ,\n",
       "           0.0361864 ,  0.0361864 ],\n",
       "         [ 0.0361864 ,  0.0361864 ,  0.0361864 , ...,  0.0361864 ,\n",
       "           0.0361864 ,  0.0361864 ],\n",
       "         ..., \n",
       "         [ 0.0361864 ,  0.0361864 ,  0.0361864 , ...,  0.0361864 ,\n",
       "           0.0361864 ,  0.0361864 ],\n",
       "         [ 0.0361864 ,  0.0361864 ,  0.0361864 , ...,  0.0361864 ,\n",
       "           0.0361864 ,  0.0361864 ],\n",
       "         [ 0.0361864 ,  0.0361864 ,  0.0361864 , ...,  0.0361864 ,\n",
       "           0.0361864 ,  0.0361864 ]],\n",
       "\n",
       "        ..., \n",
       "        [[ 0.        ,  0.        ,  0.        , ...,  0.        ,\n",
       "           0.        ,  0.        ],\n",
       "         [ 0.        ,  0.        ,  0.        , ...,  0.        ,\n",
       "           0.        ,  0.        ],\n",
       "         [ 0.        ,  0.        ,  0.        , ...,  0.        ,\n",
       "           0.        ,  0.        ],\n",
       "         ..., \n",
       "         [ 0.        ,  0.        ,  0.        , ...,  0.        ,\n",
       "           0.        ,  0.        ],\n",
       "         [ 0.        ,  0.        ,  0.        , ...,  0.        ,\n",
       "           0.        ,  0.        ],\n",
       "         [ 0.        ,  0.        ,  0.        , ...,  0.        ,\n",
       "           0.        ,  0.        ]],\n",
       "\n",
       "        [[ 0.11052079,  0.11052079,  0.11052079, ...,  0.11052079,\n",
       "           0.11052079,  0.11052079],\n",
       "         [ 0.11052079,  0.11052079,  0.11052079, ...,  0.11052079,\n",
       "           0.11052079,  0.11052079],\n",
       "         [ 0.11052079,  0.11052079,  0.11052079, ...,  0.11052079,\n",
       "           0.11052079,  0.11052079],\n",
       "         ..., \n",
       "         [ 0.11052079,  0.11052079,  0.11052079, ...,  0.11052079,\n",
       "           0.11052079,  0.11052079],\n",
       "         [ 0.11052079,  0.11052079,  0.11052079, ...,  0.11052079,\n",
       "           0.11052079,  0.11052079],\n",
       "         [ 0.11052079,  0.11052079,  0.11052079, ...,  0.11052079,\n",
       "           0.11052079,  0.11052079]],\n",
       "\n",
       "        [[ 0.        ,  0.        ,  0.        , ...,  0.        ,\n",
       "           0.        ,  0.        ],\n",
       "         [ 0.        ,  0.        ,  0.        , ...,  0.        ,\n",
       "           0.        ,  0.        ],\n",
       "         [ 0.        ,  0.        ,  0.        , ...,  0.        ,\n",
       "           0.        ,  0.        ],\n",
       "         ..., \n",
       "         [ 0.        ,  0.        ,  0.        , ...,  0.        ,\n",
       "           0.        ,  0.        ],\n",
       "         [ 0.        ,  0.        ,  0.        , ...,  0.        ,\n",
       "           0.        ,  0.        ],\n",
       "         [ 0.        ,  0.        ,  0.        , ...,  0.        ,\n",
       "           0.        ,  0.        ]]]])"
      ]
     },
     "execution_count": 376,
     "metadata": {},
     "output_type": "execute_result"
    }
   ],
   "source": [
    "fn_test( np.ones((1, 3, 28, 28)) )"
   ]
  },
  {
   "cell_type": "code",
   "execution_count": null,
   "metadata": {
    "collapsed": false
   },
   "outputs": [],
   "source": [
    "l_in = InputLayer( (None, 3, 28, 28), name=\"input\" )\n",
    "l_conv1 = StochasticDepthLayer(\n",
    "    Conv2DLayer(l_in, num_filters=8, filter_size=3, name=\"conv1\", nonlinearity=None),\n",
    "    nonlinearity=rectify, in_var=l_in.input_var, name=\"sd_conv1\"\n",
    ")\n",
    "l_mp1 = StochasticDepthLayer(\n",
    "    MaxPool2DLayer(l_conv1, pool_size=(2,2), name=\"pool1\"),\n",
    "    nonlinearity=identity, in_var=l_in.input_var, name=\"sd_mp1\"\n",
    ")\n",
    "l_conv2 = StochasticDepthLayer(\n",
    "    Conv2DLayer(l_mp1, num_filters=16, filter_size=3, name=\"conv2\", nonlinearity=None),\n",
    "    nonlinearity=rectify, in_var=l_in.input_var, name=\"sd_conv2\"\n",
    ")\n",
    "l_mp2 = StochasticDepthLayer(\n",
    "    MaxPool2DLayer(l_conv2, pool_size=(2,2), name=\"pool2\"),\n",
    "    nonlinearity=identity, in_var=l_in.input_var, name=\"sd_mp2\"\n",
    ")\n",
    "l_conv3 = StochasticDepthLayer(\n",
    "    Conv2DLayer(l_mp2, num_filters=32, filter_size=3, name=\"conv3\", nonlinearity=None),\n",
    "    nonlinearity=rectify, in_var=l_in.input_var, name=\"sd_conv3\"\n",
    ")\n",
    "l_out = DenseLayer(l_conv3, num_units=10, nonlinearity=softmax, name=\"final\")\n",
    "\n",
    "for layer in get_all_layers(l_out):\n",
    "    print layer.name, layer.output_shape"
   ]
  },
  {
   "cell_type": "code",
   "execution_count": 623,
   "metadata": {
    "collapsed": false,
    "scrolled": true
   },
   "outputs": [
    {
     "name": "stdout",
     "output_type": "stream",
     "text": [
      "layer i have right now: conv1 layer before incoming: input\n",
      "l_pool: (None, 3, 14, 14) l_pad: (None, 3, 14, 14) nd1: 6 l_pad: (None, 8, 26, 26)\n",
      "layer i have right now: pool1 layer before incoming: sd_conv1\n",
      "l_pool: (None, 8, 13, 13) l_pad: (None, 8, 13, 13) nd1: 0 l_pad: (None, 8, 13, 13)\n",
      "layer i have right now: conv1 layer before incoming: input\n",
      "l_pool: (None, 3, 14, 14) l_pad: (None, 3, 14, 14) nd1: 6 l_pad: (None, 8, 26, 26)\n",
      "layer i have right now: conv2 layer before incoming: sd_mp1\n",
      "l_pool: (None, 8, 6, 6) l_pad: (None, 8, 7, 7) nd1: 2 l_pad: (None, 16, 11, 11)\n",
      "layer i have right now: conv1 layer before incoming: input\n",
      "l_pool: (None, 3, 14, 14) l_pad: (None, 3, 14, 14) nd1: 6 l_pad: (None, 8, 26, 26)\n",
      "layer i have right now: pool1 layer before incoming: sd_conv1\n",
      "l_pool: (None, 8, 13, 13) l_pad: (None, 8, 13, 13) nd1: 0 l_pad: (None, 8, 13, 13)\n",
      "layer i have right now: conv1 layer before incoming: input\n",
      "l_pool: (None, 3, 14, 14) l_pad: (None, 3, 14, 14) nd1: 6 l_pad: (None, 8, 26, 26)\n",
      "layer i have right now: pool2 layer before incoming: sd_conv2\n",
      "l_pool: (None, 16, 5, 5) l_pad: (None, 16, 5, 5) nd1: 0 l_pad: (None, 16, 5, 5)\n",
      "layer i have right now: conv1 layer before incoming: input\n",
      "l_pool: (None, 3, 14, 14) l_pad: (None, 3, 14, 14) nd1: 6 l_pad: (None, 8, 26, 26)\n",
      "layer i have right now: pool1 layer before incoming: sd_conv1\n",
      "l_pool: (None, 8, 13, 13) l_pad: (None, 8, 13, 13) nd1: 0 l_pad: (None, 8, 13, 13)\n",
      "layer i have right now: conv1 layer before incoming: input\n",
      "l_pool: (None, 3, 14, 14) l_pad: (None, 3, 14, 14) nd1: 6 l_pad: (None, 8, 26, 26)\n",
      "layer i have right now: conv2 layer before incoming: sd_mp1\n",
      "l_pool: (None, 8, 6, 6) l_pad: (None, 8, 7, 7) nd1: 2 l_pad: (None, 16, 11, 11)\n",
      "layer i have right now: conv1 layer before incoming: input\n",
      "l_pool: (None, 3, 14, 14) l_pad: (None, 3, 14, 14) nd1: 6 l_pad: (None, 8, 26, 26)\n",
      "layer i have right now: pool1 layer before incoming: sd_conv1\n",
      "l_pool: (None, 8, 13, 13) l_pad: (None, 8, 13, 13) nd1: 0 l_pad: (None, 8, 13, 13)\n",
      "layer i have right now: conv1 layer before incoming: input\n",
      "l_pool: (None, 3, 14, 14) l_pad: (None, 3, 14, 14) nd1: 6 l_pad: (None, 8, 26, 26)\n",
      "layer i have right now: conv3 layer before incoming: sd_mp2\n",
      "l_pool: (None, 16, 2, 2) l_pad: (None, 16, 3, 3) nd1: 0 l_pad: (None, 32, 3, 3)\n",
      "layer i have right now: conv1 layer before incoming: input\n",
      "l_pool: (None, 3, 14, 14) l_pad: (None, 3, 14, 14) nd1: 6 l_pad: (None, 8, 26, 26)\n",
      "layer i have right now: pool1 layer before incoming: sd_conv1\n",
      "l_pool: (None, 8, 13, 13) l_pad: (None, 8, 13, 13) nd1: 0 l_pad: (None, 8, 13, 13)\n",
      "layer i have right now: conv1 layer before incoming: input\n",
      "l_pool: (None, 3, 14, 14) l_pad: (None, 3, 14, 14) nd1: 6 l_pad: (None, 8, 26, 26)\n",
      "layer i have right now: conv2 layer before incoming: sd_mp1\n",
      "l_pool: (None, 8, 6, 6) l_pad: (None, 8, 7, 7) nd1: 2 l_pad: (None, 16, 11, 11)\n",
      "layer i have right now: conv1 layer before incoming: input\n",
      "l_pool: (None, 3, 14, 14) l_pad: (None, 3, 14, 14) nd1: 6 l_pad: (None, 8, 26, 26)\n",
      "layer i have right now: pool1 layer before incoming: sd_conv1\n",
      "l_pool: (None, 8, 13, 13) l_pad: (None, 8, 13, 13) nd1: 0 l_pad: (None, 8, 13, 13)\n",
      "layer i have right now: conv1 layer before incoming: input\n",
      "l_pool: (None, 3, 14, 14) l_pad: (None, 3, 14, 14) nd1: 6 l_pad: (None, 8, 26, 26)\n",
      "layer i have right now: pool2 layer before incoming: sd_conv2\n",
      "l_pool: (None, 16, 5, 5) l_pad: (None, 16, 5, 5) nd1: 0 l_pad: (None, 16, 5, 5)\n",
      "layer i have right now: conv1 layer before incoming: input\n",
      "l_pool: (None, 3, 14, 14) l_pad: (None, 3, 14, 14) nd1: 6 l_pad: (None, 8, 26, 26)\n",
      "layer i have right now: pool1 layer before incoming: sd_conv1\n",
      "l_pool: (None, 8, 13, 13) l_pad: (None, 8, 13, 13) nd1: 0 l_pad: (None, 8, 13, 13)\n",
      "layer i have right now: conv1 layer before incoming: input\n",
      "l_pool: (None, 3, 14, 14) l_pad: (None, 3, 14, 14) nd1: 6 l_pad: (None, 8, 26, 26)\n",
      "layer i have right now: conv2 layer before incoming: sd_mp1\n",
      "l_pool: (None, 8, 6, 6) l_pad: (None, 8, 7, 7) nd1: 2 l_pad: (None, 16, 11, 11)\n",
      "layer i have right now: conv1 layer before incoming: input\n",
      "l_pool: (None, 3, 14, 14) l_pad: (None, 3, 14, 14) nd1: 6 l_pad: (None, 8, 26, 26)\n",
      "layer i have right now: pool1 layer before incoming: sd_conv1\n",
      "l_pool: (None, 8, 13, 13) l_pad: (None, 8, 13, 13) nd1: 0 l_pad: (None, 8, 13, 13)\n",
      "layer i have right now: conv1 layer before incoming: input\n",
      "l_pool: (None, 3, 14, 14) l_pad: (None, 3, 14, 14) nd1: 6 l_pad: (None, 8, 26, 26)\n"
     ]
    }
   ],
   "source": [
    "fn_test = theano.function([X], get_output(l_out, X))"
   ]
  },
  {
   "cell_type": "code",
   "execution_count": 624,
   "metadata": {
    "collapsed": false
   },
   "outputs": [
    {
     "data": {
      "text/plain": [
       "(10, 10)"
      ]
     },
     "execution_count": 624,
     "metadata": {},
     "output_type": "execute_result"
    }
   ],
   "source": [
    "fn_test( np.ones((10, 3, 28, 28) ) ).shape"
   ]
  },
  {
   "cell_type": "code",
   "execution_count": 608,
   "metadata": {
    "collapsed": false
   },
   "outputs": [
    {
     "data": {
      "text/plain": [
       "0"
      ]
     },
     "execution_count": 608,
     "metadata": {},
     "output_type": "execute_result"
    }
   ],
   "source": [
    "np.sum(np.isnan( np.ones((10, 3, 28, 28) ) ))"
   ]
  },
  {
   "cell_type": "code",
   "execution_count": 594,
   "metadata": {
    "collapsed": false
   },
   "outputs": [
    {
     "name": "stderr",
     "output_type": "stream",
     "text": [
      "loading mnist...\n"
     ]
    }
   ],
   "source": [
    "sys.stderr.write(\"loading mnist...\\n\")\n",
    "train_data, valid_data, _ = hp.load_mnist(\"../../data/mnist.pkl.gz\")"
   ]
  },
  {
   "cell_type": "code",
   "execution_count": 595,
   "metadata": {
    "collapsed": true
   },
   "outputs": [],
   "source": [
    "X_train, y_train = train_data"
   ]
  },
  {
   "cell_type": "code",
   "execution_count": 596,
   "metadata": {
    "collapsed": true
   },
   "outputs": [],
   "source": [
    "X_train_subset = X_train[0:200]\n",
    "y_train_subset = y_train[0:200]"
   ]
  },
  {
   "cell_type": "code",
   "execution_count": 622,
   "metadata": {
    "collapsed": false
   },
   "outputs": [
    {
     "name": "stdout",
     "output_type": "stream",
     "text": [
      "layer i have right now: conv1 layer before incoming: input\n",
      "l_pool: (None, 3, 14, 14) l_pad: (None, 3, 14, 14) nd1: 6 l_pad: (None, 8, 26, 26)\n",
      "layer i have right now: pool1 layer before incoming: sd_conv1\n",
      "l_pool: (None, 8, 13, 13) l_pad: (None, 8, 13, 13) nd1: 0 l_pad: (None, 8, 13, 13)\n",
      "layer i have right now: conv1 layer before incoming: input\n",
      "l_pool: (None, 3, 14, 14) l_pad: (None, 3, 14, 14) nd1: 6 l_pad: (None, 8, 26, 26)\n",
      "layer i have right now: conv2 layer before incoming: sd_mp1\n",
      "l_pool: (None, 8, 6, 6) l_pad: (None, 8, 7, 7) nd1: 2 l_pad: (None, 16, 11, 11)\n",
      "layer i have right now: conv1 layer before incoming: input\n",
      "l_pool: (None, 3, 14, 14) l_pad: (None, 3, 14, 14) nd1: 6 l_pad: (None, 8, 26, 26)\n",
      "layer i have right now: pool1 layer before incoming: sd_conv1\n",
      "l_pool: (None, 8, 13, 13) l_pad: (None, 8, 13, 13) nd1: 0 l_pad: (None, 8, 13, 13)\n",
      "layer i have right now: conv1 layer before incoming: input\n",
      "l_pool: (None, 3, 14, 14) l_pad: (None, 3, 14, 14) nd1: 6 l_pad: (None, 8, 26, 26)\n",
      "layer i have right now: pool2 layer before incoming: sd_conv2\n",
      "l_pool: (None, 16, 5, 5) l_pad: (None, 16, 5, 5) nd1: 0 l_pad: (None, 16, 5, 5)\n",
      "layer i have right now: conv1 layer before incoming: input\n",
      "l_pool: (None, 3, 14, 14) l_pad: (None, 3, 14, 14) nd1: 6 l_pad: (None, 8, 26, 26)\n",
      "layer i have right now: pool1 layer before incoming: sd_conv1\n",
      "l_pool: (None, 8, 13, 13) l_pad: (None, 8, 13, 13) nd1: 0 l_pad: (None, 8, 13, 13)\n",
      "layer i have right now: conv1 layer before incoming: input\n",
      "l_pool: (None, 3, 14, 14) l_pad: (None, 3, 14, 14) nd1: 6 l_pad: (None, 8, 26, 26)\n",
      "layer i have right now: conv2 layer before incoming: sd_mp1\n",
      "l_pool: (None, 8, 6, 6) l_pad: (None, 8, 7, 7) nd1: 2 l_pad: (None, 16, 11, 11)\n",
      "layer i have right now: conv1 layer before incoming: input\n",
      "l_pool: (None, 3, 14, 14) l_pad: (None, 3, 14, 14) nd1: 6 l_pad: (None, 8, 26, 26)\n",
      "layer i have right now: pool1 layer before incoming: sd_conv1\n",
      "l_pool: (None, 8, 13, 13) l_pad: (None, 8, 13, 13) nd1: 0 l_pad: (None, 8, 13, 13)\n",
      "layer i have right now: conv1 layer before incoming: input\n",
      "l_pool: (None, 3, 14, 14) l_pad: (None, 3, 14, 14) nd1: 6 l_pad: (None, 8, 26, 26)\n",
      "layer i have right now: conv3 layer before incoming: sd_mp2\n",
      "l_pool: (None, 16, 2, 2) l_pad: (None, 16, 3, 3) nd1: 0 l_pad: (None, 32, 3, 3)\n",
      "layer i have right now: conv1 layer before incoming: input\n",
      "l_pool: (None, 3, 14, 14) l_pad: (None, 3, 14, 14) nd1: 6 l_pad: (None, 8, 26, 26)\n",
      "layer i have right now: pool1 layer before incoming: sd_conv1\n",
      "l_pool: (None, 8, 13, 13) l_pad: (None, 8, 13, 13) nd1: 0 l_pad: (None, 8, 13, 13)\n",
      "layer i have right now: conv1 layer before incoming: input\n",
      "l_pool: (None, 3, 14, 14) l_pad: (None, 3, 14, 14) nd1: 6 l_pad: (None, 8, 26, 26)\n",
      "layer i have right now: conv2 layer before incoming: sd_mp1\n",
      "l_pool: (None, 8, 6, 6) l_pad: (None, 8, 7, 7) nd1: 2 l_pad: (None, 16, 11, 11)\n",
      "layer i have right now: conv1 layer before incoming: input\n",
      "l_pool: (None, 3, 14, 14) l_pad: (None, 3, 14, 14) nd1: 6 l_pad: (None, 8, 26, 26)\n",
      "layer i have right now: pool1 layer before incoming: sd_conv1\n",
      "l_pool: (None, 8, 13, 13) l_pad: (None, 8, 13, 13) nd1: 0 l_pad: (None, 8, 13, 13)\n",
      "layer i have right now: conv1 layer before incoming: input\n",
      "l_pool: (None, 3, 14, 14) l_pad: (None, 3, 14, 14) nd1: 6 l_pad: (None, 8, 26, 26)\n",
      "layer i have right now: pool2 layer before incoming: sd_conv2\n",
      "l_pool: (None, 16, 5, 5) l_pad: (None, 16, 5, 5) nd1: 0 l_pad: (None, 16, 5, 5)\n",
      "layer i have right now: conv1 layer before incoming: input\n",
      "l_pool: (None, 3, 14, 14) l_pad: (None, 3, 14, 14) nd1: 6 l_pad: (None, 8, 26, 26)\n",
      "layer i have right now: pool1 layer before incoming: sd_conv1\n",
      "l_pool: (None, 8, 13, 13) l_pad: (None, 8, 13, 13) nd1: 0 l_pad: (None, 8, 13, 13)\n",
      "layer i have right now: conv1 layer before incoming: input\n",
      "l_pool: (None, 3, 14, 14) l_pad: (None, 3, 14, 14) nd1: 6 l_pad: (None, 8, 26, 26)\n",
      "layer i have right now: conv2 layer before incoming: sd_mp1\n",
      "l_pool: (None, 8, 6, 6) l_pad: (None, 8, 7, 7) nd1: 2 l_pad: (None, 16, 11, 11)\n",
      "layer i have right now: conv1 layer before incoming: input\n",
      "l_pool: (None, 3, 14, 14) l_pad: (None, 3, 14, 14) nd1: 6 l_pad: (None, 8, 26, 26)\n",
      "layer i have right now: pool1 layer before incoming: sd_conv1\n",
      "l_pool: (None, 8, 13, 13) l_pad: (None, 8, 13, 13) nd1: 0 l_pad: (None, 8, 13, 13)\n",
      "layer i have right now: conv1 layer before incoming: input\n",
      "l_pool: (None, 3, 14, 14) l_pad: (None, 3, 14, 14) nd1: 6 l_pad: (None, 8, 26, 26)\n"
     ]
    },
    {
     "ename": "KeyboardInterrupt",
     "evalue": "",
     "output_type": "error",
     "traceback": [
      "\u001b[0;31m---------------------------------------------------------------------------\u001b[0m",
      "\u001b[0;31mKeyboardInterrupt\u001b[0m                         Traceback (most recent call last)",
      "\u001b[0;32m<ipython-input-622-697ee872f6e4>\u001b[0m in \u001b[0;36m<module>\u001b[0;34m()\u001b[0m\n\u001b[1;32m      8\u001b[0m \u001b[0mgrads\u001b[0m \u001b[0;34m=\u001b[0m \u001b[0mT\u001b[0m\u001b[0;34m.\u001b[0m\u001b[0mgrad\u001b[0m\u001b[0;34m(\u001b[0m\u001b[0mloss\u001b[0m\u001b[0;34m,\u001b[0m \u001b[0mparams\u001b[0m\u001b[0;34m)\u001b[0m\u001b[0;34m\u001b[0m\u001b[0m\n\u001b[1;32m      9\u001b[0m \u001b[0mupdates\u001b[0m \u001b[0;34m=\u001b[0m \u001b[0mnesterov_momentum\u001b[0m\u001b[0;34m(\u001b[0m\u001b[0mgrads\u001b[0m\u001b[0;34m,\u001b[0m \u001b[0mparams\u001b[0m\u001b[0;34m,\u001b[0m \u001b[0mlearning_rate\u001b[0m\u001b[0;34m=\u001b[0m\u001b[0;36m0.01\u001b[0m\u001b[0;34m,\u001b[0m \u001b[0mmomentum\u001b[0m\u001b[0;34m=\u001b[0m\u001b[0;36m0.9\u001b[0m\u001b[0;34m)\u001b[0m\u001b[0;34m\u001b[0m\u001b[0m\n\u001b[0;32m---> 10\u001b[0;31m \u001b[0mtrain_fn\u001b[0m \u001b[0;34m=\u001b[0m \u001b[0mtheano\u001b[0m\u001b[0;34m.\u001b[0m\u001b[0mfunction\u001b[0m\u001b[0;34m(\u001b[0m\u001b[0minputs\u001b[0m\u001b[0;34m=\u001b[0m\u001b[0;34m[\u001b[0m\u001b[0mX\u001b[0m\u001b[0;34m,\u001b[0m \u001b[0my\u001b[0m\u001b[0;34m]\u001b[0m\u001b[0;34m,\u001b[0m \u001b[0moutputs\u001b[0m\u001b[0;34m=\u001b[0m\u001b[0mloss\u001b[0m\u001b[0;34m,\u001b[0m \u001b[0mupdates\u001b[0m\u001b[0;34m=\u001b[0m\u001b[0mupdates\u001b[0m\u001b[0;34m)\u001b[0m\u001b[0;34m\u001b[0m\u001b[0m\n\u001b[0m",
      "\u001b[0;32m//anaconda/lib/python2.7/site-packages/Theano-0.8.0.dev0-py2.7.egg/theano/compile/function.pyc\u001b[0m in \u001b[0;36mfunction\u001b[0;34m(inputs, outputs, mode, updates, givens, no_default_updates, accept_inplace, name, rebuild_strict, allow_input_downcast, profile, on_unused_input)\u001b[0m\n\u001b[1;32m    315\u001b[0m                    \u001b[0mon_unused_input\u001b[0m\u001b[0;34m=\u001b[0m\u001b[0mon_unused_input\u001b[0m\u001b[0;34m,\u001b[0m\u001b[0;34m\u001b[0m\u001b[0m\n\u001b[1;32m    316\u001b[0m                    \u001b[0mprofile\u001b[0m\u001b[0;34m=\u001b[0m\u001b[0mprofile\u001b[0m\u001b[0;34m,\u001b[0m\u001b[0;34m\u001b[0m\u001b[0m\n\u001b[0;32m--> 317\u001b[0;31m                    output_keys=output_keys)\n\u001b[0m\u001b[1;32m    318\u001b[0m     \u001b[0;31m# We need to add the flag check_aliased inputs if we have any mutable or\u001b[0m\u001b[0;34m\u001b[0m\u001b[0;34m\u001b[0m\u001b[0m\n\u001b[1;32m    319\u001b[0m     \u001b[0;31m# borrowed used defined inputs\u001b[0m\u001b[0;34m\u001b[0m\u001b[0;34m\u001b[0m\u001b[0m\n",
      "\u001b[0;32m//anaconda/lib/python2.7/site-packages/Theano-0.8.0.dev0-py2.7.egg/theano/compile/pfunc.pyc\u001b[0m in \u001b[0;36mpfunc\u001b[0;34m(params, outputs, mode, updates, givens, no_default_updates, accept_inplace, name, rebuild_strict, allow_input_downcast, profile, on_unused_input, output_keys)\u001b[0m\n\u001b[1;32m    477\u001b[0m                          \u001b[0maccept_inplace\u001b[0m\u001b[0;34m=\u001b[0m\u001b[0maccept_inplace\u001b[0m\u001b[0;34m,\u001b[0m \u001b[0mname\u001b[0m\u001b[0;34m=\u001b[0m\u001b[0mname\u001b[0m\u001b[0;34m,\u001b[0m\u001b[0;34m\u001b[0m\u001b[0m\n\u001b[1;32m    478\u001b[0m                          \u001b[0mprofile\u001b[0m\u001b[0;34m=\u001b[0m\u001b[0mprofile\u001b[0m\u001b[0;34m,\u001b[0m \u001b[0mon_unused_input\u001b[0m\u001b[0;34m=\u001b[0m\u001b[0mon_unused_input\u001b[0m\u001b[0;34m,\u001b[0m\u001b[0;34m\u001b[0m\u001b[0m\n\u001b[0;32m--> 479\u001b[0;31m                          output_keys=output_keys)\n\u001b[0m\u001b[1;32m    480\u001b[0m \u001b[0;34m\u001b[0m\u001b[0m\n\u001b[1;32m    481\u001b[0m \u001b[0;34m\u001b[0m\u001b[0m\n",
      "\u001b[0;32m//anaconda/lib/python2.7/site-packages/Theano-0.8.0.dev0-py2.7.egg/theano/compile/function_module.pyc\u001b[0m in \u001b[0;36morig_function\u001b[0;34m(inputs, outputs, mode, accept_inplace, name, profile, on_unused_input, output_keys)\u001b[0m\n\u001b[1;32m   1769\u001b[0m                    \u001b[0mprofile\u001b[0m\u001b[0;34m=\u001b[0m\u001b[0mprofile\u001b[0m\u001b[0;34m,\u001b[0m\u001b[0;34m\u001b[0m\u001b[0m\n\u001b[1;32m   1770\u001b[0m                    \u001b[0mon_unused_input\u001b[0m\u001b[0;34m=\u001b[0m\u001b[0mon_unused_input\u001b[0m\u001b[0;34m,\u001b[0m\u001b[0;34m\u001b[0m\u001b[0m\n\u001b[0;32m-> 1771\u001b[0;31m                    \u001b[0moutput_keys\u001b[0m\u001b[0;34m=\u001b[0m\u001b[0moutput_keys\u001b[0m\u001b[0;34m)\u001b[0m\u001b[0;34m.\u001b[0m\u001b[0mcreate\u001b[0m\u001b[0;34m(\u001b[0m\u001b[0;34m\u001b[0m\u001b[0m\n\u001b[0m\u001b[1;32m   1772\u001b[0m             defaults)\n\u001b[1;32m   1773\u001b[0m \u001b[0;34m\u001b[0m\u001b[0m\n",
      "\u001b[0;32m//anaconda/lib/python2.7/site-packages/Theano-0.8.0.dev0-py2.7.egg/theano/compile/function_module.pyc\u001b[0m in \u001b[0;36m__init__\u001b[0;34m(self, inputs, outputs, mode, accept_inplace, function_builder, profile, on_unused_input, fgraph, output_keys)\u001b[0m\n\u001b[1;32m   1449\u001b[0m                         optimizer, inputs, outputs)\n\u001b[1;32m   1450\u001b[0m                 \u001b[0;32melse\u001b[0m\u001b[0;34m:\u001b[0m\u001b[0;34m\u001b[0m\u001b[0m\n\u001b[0;32m-> 1451\u001b[0;31m                     \u001b[0moptimizer_profile\u001b[0m \u001b[0;34m=\u001b[0m \u001b[0moptimizer\u001b[0m\u001b[0;34m(\u001b[0m\u001b[0mfgraph\u001b[0m\u001b[0;34m)\u001b[0m\u001b[0;34m\u001b[0m\u001b[0m\n\u001b[0m\u001b[1;32m   1452\u001b[0m \u001b[0;34m\u001b[0m\u001b[0m\n\u001b[1;32m   1453\u001b[0m                 \u001b[0mend_optimizer\u001b[0m \u001b[0;34m=\u001b[0m \u001b[0mtime\u001b[0m\u001b[0;34m.\u001b[0m\u001b[0mtime\u001b[0m\u001b[0;34m(\u001b[0m\u001b[0;34m)\u001b[0m\u001b[0;34m\u001b[0m\u001b[0m\n",
      "\u001b[0;32m//anaconda/lib/python2.7/site-packages/Theano-0.8.0.dev0-py2.7.egg/theano/gof/opt.pyc\u001b[0m in \u001b[0;36m__call__\u001b[0;34m(self, fgraph)\u001b[0m\n\u001b[1;32m     99\u001b[0m \u001b[0;34m\u001b[0m\u001b[0m\n\u001b[1;32m    100\u001b[0m         \"\"\"\n\u001b[0;32m--> 101\u001b[0;31m         \u001b[0;32mreturn\u001b[0m \u001b[0mself\u001b[0m\u001b[0;34m.\u001b[0m\u001b[0moptimize\u001b[0m\u001b[0;34m(\u001b[0m\u001b[0mfgraph\u001b[0m\u001b[0;34m)\u001b[0m\u001b[0;34m\u001b[0m\u001b[0m\n\u001b[0m\u001b[1;32m    102\u001b[0m \u001b[0;34m\u001b[0m\u001b[0m\n\u001b[1;32m    103\u001b[0m     \u001b[0;32mdef\u001b[0m \u001b[0madd_requirements\u001b[0m\u001b[0;34m(\u001b[0m\u001b[0mself\u001b[0m\u001b[0;34m,\u001b[0m \u001b[0mfgraph\u001b[0m\u001b[0;34m)\u001b[0m\u001b[0;34m:\u001b[0m\u001b[0;34m\u001b[0m\u001b[0m\n",
      "\u001b[0;32m//anaconda/lib/python2.7/site-packages/Theano-0.8.0.dev0-py2.7.egg/theano/gof/opt.pyc\u001b[0m in \u001b[0;36moptimize\u001b[0;34m(self, fgraph, *args, **kwargs)\u001b[0m\n\u001b[1;32m     87\u001b[0m             \u001b[0morig\u001b[0m \u001b[0;34m=\u001b[0m \u001b[0mtheano\u001b[0m\u001b[0;34m.\u001b[0m\u001b[0mtensor\u001b[0m\u001b[0;34m.\u001b[0m\u001b[0mbasic\u001b[0m\u001b[0;34m.\u001b[0m\u001b[0mconstant\u001b[0m\u001b[0;34m.\u001b[0m\u001b[0menable\u001b[0m\u001b[0;34m\u001b[0m\u001b[0m\n\u001b[1;32m     88\u001b[0m             \u001b[0mtheano\u001b[0m\u001b[0;34m.\u001b[0m\u001b[0mtensor\u001b[0m\u001b[0;34m.\u001b[0m\u001b[0mbasic\u001b[0m\u001b[0;34m.\u001b[0m\u001b[0mconstant\u001b[0m\u001b[0;34m.\u001b[0m\u001b[0menable\u001b[0m \u001b[0;34m=\u001b[0m \u001b[0mFalse\u001b[0m\u001b[0;34m\u001b[0m\u001b[0m\n\u001b[0;32m---> 89\u001b[0;31m             \u001b[0mret\u001b[0m \u001b[0;34m=\u001b[0m \u001b[0mself\u001b[0m\u001b[0;34m.\u001b[0m\u001b[0mapply\u001b[0m\u001b[0;34m(\u001b[0m\u001b[0mfgraph\u001b[0m\u001b[0;34m,\u001b[0m \u001b[0;34m*\u001b[0m\u001b[0margs\u001b[0m\u001b[0;34m,\u001b[0m \u001b[0;34m**\u001b[0m\u001b[0mkwargs\u001b[0m\u001b[0;34m)\u001b[0m\u001b[0;34m\u001b[0m\u001b[0m\n\u001b[0m\u001b[1;32m     90\u001b[0m         \u001b[0;32mfinally\u001b[0m\u001b[0;34m:\u001b[0m\u001b[0;34m\u001b[0m\u001b[0m\n\u001b[1;32m     91\u001b[0m             \u001b[0mtheano\u001b[0m\u001b[0;34m.\u001b[0m\u001b[0mtensor\u001b[0m\u001b[0;34m.\u001b[0m\u001b[0mbasic\u001b[0m\u001b[0;34m.\u001b[0m\u001b[0mconstant\u001b[0m\u001b[0;34m.\u001b[0m\u001b[0menable\u001b[0m \u001b[0;34m=\u001b[0m \u001b[0morig\u001b[0m\u001b[0;34m\u001b[0m\u001b[0m\n",
      "\u001b[0;32m//anaconda/lib/python2.7/site-packages/Theano-0.8.0.dev0-py2.7.egg/theano/gof/opt.pyc\u001b[0m in \u001b[0;36mapply\u001b[0;34m(self, fgraph)\u001b[0m\n\u001b[1;32m    228\u001b[0m             \u001b[0;32mtry\u001b[0m\u001b[0;34m:\u001b[0m\u001b[0;34m\u001b[0m\u001b[0m\n\u001b[1;32m    229\u001b[0m                 \u001b[0mt0\u001b[0m \u001b[0;34m=\u001b[0m \u001b[0mtime\u001b[0m\u001b[0;34m.\u001b[0m\u001b[0mtime\u001b[0m\u001b[0;34m(\u001b[0m\u001b[0;34m)\u001b[0m\u001b[0;34m\u001b[0m\u001b[0m\n\u001b[0;32m--> 230\u001b[0;31m                 \u001b[0msub_prof\u001b[0m \u001b[0;34m=\u001b[0m \u001b[0moptimizer\u001b[0m\u001b[0;34m.\u001b[0m\u001b[0moptimize\u001b[0m\u001b[0;34m(\u001b[0m\u001b[0mfgraph\u001b[0m\u001b[0;34m)\u001b[0m\u001b[0;34m\u001b[0m\u001b[0m\n\u001b[0m\u001b[1;32m    231\u001b[0m                 \u001b[0ml\u001b[0m\u001b[0;34m.\u001b[0m\u001b[0mappend\u001b[0m\u001b[0;34m(\u001b[0m\u001b[0mfloat\u001b[0m\u001b[0;34m(\u001b[0m\u001b[0mtime\u001b[0m\u001b[0;34m.\u001b[0m\u001b[0mtime\u001b[0m\u001b[0;34m(\u001b[0m\u001b[0;34m)\u001b[0m \u001b[0;34m-\u001b[0m \u001b[0mt0\u001b[0m\u001b[0;34m)\u001b[0m\u001b[0;34m)\u001b[0m\u001b[0;34m\u001b[0m\u001b[0m\n\u001b[1;32m    232\u001b[0m                 \u001b[0msub_profs\u001b[0m\u001b[0;34m.\u001b[0m\u001b[0mappend\u001b[0m\u001b[0;34m(\u001b[0m\u001b[0msub_prof\u001b[0m\u001b[0;34m)\u001b[0m\u001b[0;34m\u001b[0m\u001b[0m\n",
      "\u001b[0;32m//anaconda/lib/python2.7/site-packages/Theano-0.8.0.dev0-py2.7.egg/theano/gof/opt.pyc\u001b[0m in \u001b[0;36moptimize\u001b[0;34m(self, fgraph, *args, **kwargs)\u001b[0m\n\u001b[1;32m     87\u001b[0m             \u001b[0morig\u001b[0m \u001b[0;34m=\u001b[0m \u001b[0mtheano\u001b[0m\u001b[0;34m.\u001b[0m\u001b[0mtensor\u001b[0m\u001b[0;34m.\u001b[0m\u001b[0mbasic\u001b[0m\u001b[0;34m.\u001b[0m\u001b[0mconstant\u001b[0m\u001b[0;34m.\u001b[0m\u001b[0menable\u001b[0m\u001b[0;34m\u001b[0m\u001b[0m\n\u001b[1;32m     88\u001b[0m             \u001b[0mtheano\u001b[0m\u001b[0;34m.\u001b[0m\u001b[0mtensor\u001b[0m\u001b[0;34m.\u001b[0m\u001b[0mbasic\u001b[0m\u001b[0;34m.\u001b[0m\u001b[0mconstant\u001b[0m\u001b[0;34m.\u001b[0m\u001b[0menable\u001b[0m \u001b[0;34m=\u001b[0m \u001b[0mFalse\u001b[0m\u001b[0;34m\u001b[0m\u001b[0m\n\u001b[0;32m---> 89\u001b[0;31m             \u001b[0mret\u001b[0m \u001b[0;34m=\u001b[0m \u001b[0mself\u001b[0m\u001b[0;34m.\u001b[0m\u001b[0mapply\u001b[0m\u001b[0;34m(\u001b[0m\u001b[0mfgraph\u001b[0m\u001b[0;34m,\u001b[0m \u001b[0;34m*\u001b[0m\u001b[0margs\u001b[0m\u001b[0;34m,\u001b[0m \u001b[0;34m**\u001b[0m\u001b[0mkwargs\u001b[0m\u001b[0;34m)\u001b[0m\u001b[0;34m\u001b[0m\u001b[0m\n\u001b[0m\u001b[1;32m     90\u001b[0m         \u001b[0;32mfinally\u001b[0m\u001b[0;34m:\u001b[0m\u001b[0;34m\u001b[0m\u001b[0m\n\u001b[1;32m     91\u001b[0m             \u001b[0mtheano\u001b[0m\u001b[0;34m.\u001b[0m\u001b[0mtensor\u001b[0m\u001b[0;34m.\u001b[0m\u001b[0mbasic\u001b[0m\u001b[0;34m.\u001b[0m\u001b[0mconstant\u001b[0m\u001b[0;34m.\u001b[0m\u001b[0menable\u001b[0m \u001b[0;34m=\u001b[0m \u001b[0morig\u001b[0m\u001b[0;34m\u001b[0m\u001b[0m\n",
      "\u001b[0;32m//anaconda/lib/python2.7/site-packages/Theano-0.8.0.dev0-py2.7.egg/theano/gof/opt.pyc\u001b[0m in \u001b[0;36mapply\u001b[0;34m(self, fgraph, start_from)\u001b[0m\n\u001b[1;32m   2201\u001b[0m                         \u001b[0mnb\u001b[0m \u001b[0;34m=\u001b[0m \u001b[0mchange_tracker\u001b[0m\u001b[0;34m.\u001b[0m\u001b[0mnb_imported\u001b[0m\u001b[0;34m\u001b[0m\u001b[0m\n\u001b[1;32m   2202\u001b[0m                         \u001b[0mt_opt\u001b[0m \u001b[0;34m=\u001b[0m \u001b[0mtime\u001b[0m\u001b[0;34m.\u001b[0m\u001b[0mtime\u001b[0m\u001b[0;34m(\u001b[0m\u001b[0;34m)\u001b[0m\u001b[0;34m\u001b[0m\u001b[0m\n\u001b[0;32m-> 2203\u001b[0;31m                         \u001b[0mlopt_change\u001b[0m \u001b[0;34m=\u001b[0m \u001b[0mself\u001b[0m\u001b[0;34m.\u001b[0m\u001b[0mprocess_node\u001b[0m\u001b[0;34m(\u001b[0m\u001b[0mfgraph\u001b[0m\u001b[0;34m,\u001b[0m \u001b[0mnode\u001b[0m\u001b[0;34m,\u001b[0m \u001b[0mlopt\u001b[0m\u001b[0;34m)\u001b[0m\u001b[0;34m\u001b[0m\u001b[0m\n\u001b[0m\u001b[1;32m   2204\u001b[0m                         \u001b[0mtime_opts\u001b[0m\u001b[0;34m[\u001b[0m\u001b[0mlopt\u001b[0m\u001b[0;34m]\u001b[0m \u001b[0;34m+=\u001b[0m \u001b[0mtime\u001b[0m\u001b[0;34m.\u001b[0m\u001b[0mtime\u001b[0m\u001b[0;34m(\u001b[0m\u001b[0;34m)\u001b[0m \u001b[0;34m-\u001b[0m \u001b[0mt_opt\u001b[0m\u001b[0;34m\u001b[0m\u001b[0m\n\u001b[1;32m   2205\u001b[0m                         \u001b[0;32mif\u001b[0m \u001b[0;32mnot\u001b[0m \u001b[0mlopt_change\u001b[0m\u001b[0;34m:\u001b[0m\u001b[0;34m\u001b[0m\u001b[0m\n",
      "\u001b[0;32m//anaconda/lib/python2.7/site-packages/Theano-0.8.0.dev0-py2.7.egg/theano/gof/opt.pyc\u001b[0m in \u001b[0;36mprocess_node\u001b[0;34m(self, fgraph, node, lopt)\u001b[0m\n\u001b[1;32m   1777\u001b[0m         \u001b[0mlopt\u001b[0m \u001b[0;34m=\u001b[0m \u001b[0mlopt\u001b[0m \u001b[0;32mor\u001b[0m \u001b[0mself\u001b[0m\u001b[0;34m.\u001b[0m\u001b[0mlocal_opt\u001b[0m\u001b[0;34m\u001b[0m\u001b[0m\n\u001b[1;32m   1778\u001b[0m         \u001b[0;32mtry\u001b[0m\u001b[0;34m:\u001b[0m\u001b[0;34m\u001b[0m\u001b[0m\n\u001b[0;32m-> 1779\u001b[0;31m             \u001b[0mreplacements\u001b[0m \u001b[0;34m=\u001b[0m \u001b[0mlopt\u001b[0m\u001b[0;34m.\u001b[0m\u001b[0mtransform\u001b[0m\u001b[0;34m(\u001b[0m\u001b[0mnode\u001b[0m\u001b[0;34m)\u001b[0m\u001b[0;34m\u001b[0m\u001b[0m\n\u001b[0m\u001b[1;32m   1780\u001b[0m         \u001b[0;32mexcept\u001b[0m \u001b[0mException\u001b[0m \u001b[0;32mas\u001b[0m \u001b[0me\u001b[0m\u001b[0;34m:\u001b[0m\u001b[0;34m\u001b[0m\u001b[0m\n\u001b[1;32m   1781\u001b[0m             \u001b[0;32mif\u001b[0m \u001b[0mself\u001b[0m\u001b[0;34m.\u001b[0m\u001b[0mfailure_callback\u001b[0m \u001b[0;32mis\u001b[0m \u001b[0;32mnot\u001b[0m \u001b[0mNone\u001b[0m\u001b[0;34m:\u001b[0m\u001b[0;34m\u001b[0m\u001b[0m\n",
      "\u001b[0;32m//anaconda/lib/python2.7/site-packages/Theano-0.8.0.dev0-py2.7.egg/theano/tensor/opt.pyc\u001b[0m in \u001b[0;36mlocal_subtensor_lift\u001b[0;34m(node)\u001b[0m\n\u001b[1;32m   2578\u001b[0m                 \u001b[0;31m# There is no broadcastable in the inputs\u001b[0m\u001b[0;34m\u001b[0m\u001b[0;34m\u001b[0m\u001b[0m\n\u001b[1;32m   2579\u001b[0m                 \u001b[0midx\u001b[0m \u001b[0;34m=\u001b[0m \u001b[0mnode\u001b[0m\u001b[0;34m.\u001b[0m\u001b[0minputs\u001b[0m\u001b[0;34m[\u001b[0m\u001b[0;36m1\u001b[0m\u001b[0;34m:\u001b[0m\u001b[0;34m]\u001b[0m\u001b[0;34m\u001b[0m\u001b[0m\n\u001b[0;32m-> 2580\u001b[0;31m                 \u001b[0mnew_inputs\u001b[0m \u001b[0;34m=\u001b[0m \u001b[0;34m[\u001b[0m\u001b[0mnode\u001b[0m\u001b[0;34m.\u001b[0m\u001b[0mop\u001b[0m\u001b[0;34m(\u001b[0m\u001b[0mi\u001b[0m\u001b[0;34m,\u001b[0m \u001b[0;34m*\u001b[0m\u001b[0midx\u001b[0m\u001b[0;34m)\u001b[0m \u001b[0;32mfor\u001b[0m \u001b[0mi\u001b[0m \u001b[0;32min\u001b[0m \u001b[0mu\u001b[0m\u001b[0;34m.\u001b[0m\u001b[0mowner\u001b[0m\u001b[0;34m.\u001b[0m\u001b[0minputs\u001b[0m\u001b[0;34m]\u001b[0m\u001b[0;34m\u001b[0m\u001b[0m\n\u001b[0m\u001b[1;32m   2581\u001b[0m                 \u001b[0;31m# Copy over previous output stacktrace\u001b[0m\u001b[0;34m\u001b[0m\u001b[0;34m\u001b[0m\u001b[0m\n\u001b[1;32m   2582\u001b[0m                 \u001b[0mcopy_stack_trace\u001b[0m\u001b[0;34m(\u001b[0m\u001b[0mnode\u001b[0m\u001b[0;34m.\u001b[0m\u001b[0moutputs\u001b[0m\u001b[0;34m[\u001b[0m\u001b[0;36m0\u001b[0m\u001b[0;34m]\u001b[0m\u001b[0;34m,\u001b[0m \u001b[0mnew_inputs\u001b[0m\u001b[0;34m)\u001b[0m\u001b[0;34m\u001b[0m\u001b[0m\n",
      "\u001b[0;32m//anaconda/lib/python2.7/site-packages/Theano-0.8.0.dev0-py2.7.egg/theano/gof/op.pyc\u001b[0m in \u001b[0;36m__call__\u001b[0;34m(self, *inputs, **kwargs)\u001b[0m\n\u001b[1;32m    609\u001b[0m         \"\"\"\n\u001b[1;32m    610\u001b[0m         \u001b[0mreturn_list\u001b[0m \u001b[0;34m=\u001b[0m \u001b[0mkwargs\u001b[0m\u001b[0;34m.\u001b[0m\u001b[0mpop\u001b[0m\u001b[0;34m(\u001b[0m\u001b[0;34m'return_list'\u001b[0m\u001b[0;34m,\u001b[0m \u001b[0mFalse\u001b[0m\u001b[0;34m)\u001b[0m\u001b[0;34m\u001b[0m\u001b[0m\n\u001b[0;32m--> 611\u001b[0;31m         \u001b[0mnode\u001b[0m \u001b[0;34m=\u001b[0m \u001b[0mself\u001b[0m\u001b[0;34m.\u001b[0m\u001b[0mmake_node\u001b[0m\u001b[0;34m(\u001b[0m\u001b[0;34m*\u001b[0m\u001b[0minputs\u001b[0m\u001b[0;34m,\u001b[0m \u001b[0;34m**\u001b[0m\u001b[0mkwargs\u001b[0m\u001b[0;34m)\u001b[0m\u001b[0;34m\u001b[0m\u001b[0m\n\u001b[0m\u001b[1;32m    612\u001b[0m \u001b[0;34m\u001b[0m\u001b[0m\n\u001b[1;32m    613\u001b[0m         \u001b[0;32mif\u001b[0m \u001b[0mconfig\u001b[0m\u001b[0;34m.\u001b[0m\u001b[0mcompute_test_value\u001b[0m \u001b[0;34m!=\u001b[0m \u001b[0;34m'off'\u001b[0m\u001b[0;34m:\u001b[0m\u001b[0;34m\u001b[0m\u001b[0m\n",
      "\u001b[0;32m//anaconda/lib/python2.7/site-packages/Theano-0.8.0.dev0-py2.7.egg/theano/tensor/subtensor.pyc\u001b[0m in \u001b[0;36mmake_node\u001b[0;34m(self, x, *inputs)\u001b[0m\n\u001b[1;32m    498\u001b[0m \u001b[0;34m\u001b[0m\u001b[0m\n\u001b[1;32m    499\u001b[0m         \u001b[0;31m# infer the broadcasting pattern\u001b[0m\u001b[0;34m\u001b[0m\u001b[0;34m\u001b[0m\u001b[0m\n\u001b[0;32m--> 500\u001b[0;31m         padded = (self.get_constant_idx((None,) + inputs, allow_partial=True) +\n\u001b[0m\u001b[1;32m    501\u001b[0m                   [slice(None, None, None)] * (x.type.ndim - len(idx_list)))\n\u001b[1;32m    502\u001b[0m         \u001b[0mbroadcastable\u001b[0m \u001b[0;34m=\u001b[0m \u001b[0;34m[\u001b[0m\u001b[0;34m]\u001b[0m\u001b[0;34m\u001b[0m\u001b[0m\n",
      "\u001b[0;32m//anaconda/lib/python2.7/site-packages/Theano-0.8.0.dev0-py2.7.egg/theano/tensor/subtensor.pyc\u001b[0m in \u001b[0;36mget_constant_idx\u001b[0;34m(self, inputs, allow_partial, only_process_constants)\u001b[0m\n\u001b[1;32m    449\u001b[0m                         \u001b[0;32mraise\u001b[0m\u001b[0;34m\u001b[0m\u001b[0m\n\u001b[1;32m    450\u001b[0m \u001b[0;34m\u001b[0m\u001b[0m\n\u001b[0;32m--> 451\u001b[0;31m         \u001b[0;32mreturn\u001b[0m \u001b[0mlist\u001b[0m\u001b[0;34m(\u001b[0m\u001b[0mmap\u001b[0m\u001b[0;34m(\u001b[0m\u001b[0mconv\u001b[0m\u001b[0;34m,\u001b[0m \u001b[0mreal_idx\u001b[0m\u001b[0;34m)\u001b[0m\u001b[0;34m)\u001b[0m\u001b[0;34m\u001b[0m\u001b[0m\n\u001b[0m\u001b[1;32m    452\u001b[0m \u001b[0;34m\u001b[0m\u001b[0m\n\u001b[1;32m    453\u001b[0m     \u001b[0;32mdef\u001b[0m \u001b[0m__init__\u001b[0m\u001b[0;34m(\u001b[0m\u001b[0mself\u001b[0m\u001b[0;34m,\u001b[0m \u001b[0midx_list\u001b[0m\u001b[0;34m)\u001b[0m\u001b[0;34m:\u001b[0m\u001b[0;34m\u001b[0m\u001b[0m\n",
      "\u001b[0;32m//anaconda/lib/python2.7/site-packages/Theano-0.8.0.dev0-py2.7.egg/theano/tensor/subtensor.pyc\u001b[0m in \u001b[0;36mconv\u001b[0;34m(val)\u001b[0m\n\u001b[1;32m    436\u001b[0m             \u001b[0;32melif\u001b[0m \u001b[0misinstance\u001b[0m\u001b[0;34m(\u001b[0m\u001b[0mval\u001b[0m\u001b[0;34m,\u001b[0m \u001b[0mslice\u001b[0m\u001b[0;34m)\u001b[0m\u001b[0;34m:\u001b[0m\u001b[0;34m\u001b[0m\u001b[0m\n\u001b[1;32m    437\u001b[0m                 return slice(conv(val.start),\n\u001b[0;32m--> 438\u001b[0;31m                              \u001b[0mconv\u001b[0m\u001b[0;34m(\u001b[0m\u001b[0mval\u001b[0m\u001b[0;34m.\u001b[0m\u001b[0mstop\u001b[0m\u001b[0;34m)\u001b[0m\u001b[0;34m,\u001b[0m\u001b[0;34m\u001b[0m\u001b[0m\n\u001b[0m\u001b[1;32m    439\u001b[0m                              conv(val.step))\n\u001b[1;32m    440\u001b[0m             \u001b[0;32melse\u001b[0m\u001b[0;34m:\u001b[0m\u001b[0;34m\u001b[0m\u001b[0m\n",
      "\u001b[0;32m//anaconda/lib/python2.7/site-packages/Theano-0.8.0.dev0-py2.7.egg/theano/tensor/subtensor.pyc\u001b[0m in \u001b[0;36mconv\u001b[0;34m(val)\u001b[0m\n\u001b[1;32m    442\u001b[0m                     return get_scalar_constant_value(\n\u001b[1;32m    443\u001b[0m                         \u001b[0mval\u001b[0m\u001b[0;34m,\u001b[0m\u001b[0;34m\u001b[0m\u001b[0m\n\u001b[0;32m--> 444\u001b[0;31m                         only_process_constants=only_process_constants)\n\u001b[0m\u001b[1;32m    445\u001b[0m                 \u001b[0;32mexcept\u001b[0m \u001b[0mtheano\u001b[0m\u001b[0;34m.\u001b[0m\u001b[0mtensor\u001b[0m\u001b[0;34m.\u001b[0m\u001b[0mNotScalarConstantError\u001b[0m\u001b[0;34m:\u001b[0m\u001b[0;34m\u001b[0m\u001b[0m\n\u001b[1;32m    446\u001b[0m                     \u001b[0;32mif\u001b[0m \u001b[0mallow_partial\u001b[0m\u001b[0;34m:\u001b[0m\u001b[0;34m\u001b[0m\u001b[0m\n",
      "\u001b[0;32m//anaconda/lib/python2.7/site-packages/Theano-0.8.0.dev0-py2.7.egg/theano/tensor/basic.pyc\u001b[0m in \u001b[0;36mget_scalar_constant_value\u001b[0;34m(orig_v, elemwise, only_process_constants)\u001b[0m\n\u001b[1;32m    636\u001b[0m             \u001b[0;31m# to allow it to determine the broadcast pattern correctly.\u001b[0m\u001b[0;34m\u001b[0m\u001b[0;34m\u001b[0m\u001b[0m\n\u001b[1;32m    637\u001b[0m             \u001b[0;32melif\u001b[0m \u001b[0misinstance\u001b[0m\u001b[0;34m(\u001b[0m\u001b[0mv\u001b[0m\u001b[0;34m.\u001b[0m\u001b[0mowner\u001b[0m\u001b[0;34m.\u001b[0m\u001b[0mop\u001b[0m\u001b[0;34m,\u001b[0m \u001b[0;34m(\u001b[0m\u001b[0mScalarFromTensor\u001b[0m\u001b[0;34m,\u001b[0m \u001b[0mTensorFromScalar\u001b[0m\u001b[0;34m)\u001b[0m\u001b[0;34m)\u001b[0m\u001b[0;34m:\u001b[0m\u001b[0;34m\u001b[0m\u001b[0m\n\u001b[0;32m--> 638\u001b[0;31m                 \u001b[0;32mreturn\u001b[0m \u001b[0mget_scalar_constant_value\u001b[0m\u001b[0;34m(\u001b[0m\u001b[0mv\u001b[0m\u001b[0;34m.\u001b[0m\u001b[0mowner\u001b[0m\u001b[0;34m.\u001b[0m\u001b[0minputs\u001b[0m\u001b[0;34m[\u001b[0m\u001b[0;36m0\u001b[0m\u001b[0;34m]\u001b[0m\u001b[0;34m)\u001b[0m\u001b[0;34m\u001b[0m\u001b[0m\n\u001b[0m\u001b[1;32m    639\u001b[0m             \u001b[0;32melif\u001b[0m \u001b[0misinstance\u001b[0m\u001b[0;34m(\u001b[0m\u001b[0mv\u001b[0m\u001b[0;34m.\u001b[0m\u001b[0mowner\u001b[0m\u001b[0;34m.\u001b[0m\u001b[0mop\u001b[0m\u001b[0;34m,\u001b[0m \u001b[0mscal\u001b[0m\u001b[0;34m.\u001b[0m\u001b[0mScalarOp\u001b[0m\u001b[0;34m)\u001b[0m\u001b[0;34m:\u001b[0m\u001b[0;34m\u001b[0m\u001b[0m\n\u001b[1;32m    640\u001b[0m                 \u001b[0;32mif\u001b[0m \u001b[0misinstance\u001b[0m\u001b[0;34m(\u001b[0m\u001b[0mv\u001b[0m\u001b[0;34m.\u001b[0m\u001b[0mowner\u001b[0m\u001b[0;34m.\u001b[0m\u001b[0mop\u001b[0m\u001b[0;34m,\u001b[0m \u001b[0mscal\u001b[0m\u001b[0;34m.\u001b[0m\u001b[0mSecond\u001b[0m\u001b[0;34m)\u001b[0m\u001b[0;34m:\u001b[0m\u001b[0;34m\u001b[0m\u001b[0m\n",
      "\u001b[0;32m//anaconda/lib/python2.7/site-packages/Theano-0.8.0.dev0-py2.7.egg/theano/tensor/basic.pyc\u001b[0m in \u001b[0;36mget_scalar_constant_value\u001b[0;34m(orig_v, elemwise, only_process_constants)\u001b[0m\n\u001b[1;32m    658\u001b[0m                                 get_scalar_constant_value_elemwises):\n\u001b[1;32m    659\u001b[0m                     const = [get_scalar_constant_value(i)\n\u001b[0;32m--> 660\u001b[0;31m                              for i in v.owner.inputs]\n\u001b[0m\u001b[1;32m    661\u001b[0m                     \u001b[0mret\u001b[0m \u001b[0;34m=\u001b[0m \u001b[0;34m[\u001b[0m\u001b[0;34m[\u001b[0m\u001b[0mNone\u001b[0m\u001b[0;34m]\u001b[0m\u001b[0;34m]\u001b[0m\u001b[0;34m\u001b[0m\u001b[0m\n\u001b[1;32m    662\u001b[0m                     \u001b[0mv\u001b[0m\u001b[0;34m.\u001b[0m\u001b[0mowner\u001b[0m\u001b[0;34m.\u001b[0m\u001b[0mop\u001b[0m\u001b[0;34m.\u001b[0m\u001b[0mperform\u001b[0m\u001b[0;34m(\u001b[0m\u001b[0mv\u001b[0m\u001b[0;34m.\u001b[0m\u001b[0mowner\u001b[0m\u001b[0;34m,\u001b[0m \u001b[0mconst\u001b[0m\u001b[0;34m,\u001b[0m \u001b[0mret\u001b[0m\u001b[0;34m)\u001b[0m\u001b[0;34m\u001b[0m\u001b[0m\n",
      "\u001b[0;32m//anaconda/lib/python2.7/site-packages/Theano-0.8.0.dev0-py2.7.egg/theano/tensor/basic.pyc\u001b[0m in \u001b[0;36mget_scalar_constant_value\u001b[0;34m(orig_v, elemwise, only_process_constants)\u001b[0m\n\u001b[1;32m    658\u001b[0m                                 get_scalar_constant_value_elemwises):\n\u001b[1;32m    659\u001b[0m                     const = [get_scalar_constant_value(i)\n\u001b[0;32m--> 660\u001b[0;31m                              for i in v.owner.inputs]\n\u001b[0m\u001b[1;32m    661\u001b[0m                     \u001b[0mret\u001b[0m \u001b[0;34m=\u001b[0m \u001b[0;34m[\u001b[0m\u001b[0;34m[\u001b[0m\u001b[0mNone\u001b[0m\u001b[0;34m]\u001b[0m\u001b[0;34m]\u001b[0m\u001b[0;34m\u001b[0m\u001b[0m\n\u001b[1;32m    662\u001b[0m                     \u001b[0mv\u001b[0m\u001b[0;34m.\u001b[0m\u001b[0mowner\u001b[0m\u001b[0;34m.\u001b[0m\u001b[0mop\u001b[0m\u001b[0;34m.\u001b[0m\u001b[0mperform\u001b[0m\u001b[0;34m(\u001b[0m\u001b[0mv\u001b[0m\u001b[0;34m.\u001b[0m\u001b[0mowner\u001b[0m\u001b[0;34m,\u001b[0m \u001b[0mconst\u001b[0m\u001b[0;34m,\u001b[0m \u001b[0mret\u001b[0m\u001b[0;34m)\u001b[0m\u001b[0;34m\u001b[0m\u001b[0m\n",
      "\u001b[0;32m//anaconda/lib/python2.7/site-packages/Theano-0.8.0.dev0-py2.7.egg/theano/tensor/basic.pyc\u001b[0m in \u001b[0;36mget_scalar_constant_value\u001b[0;34m(orig_v, elemwise, only_process_constants)\u001b[0m\n\u001b[1;32m    658\u001b[0m                                 get_scalar_constant_value_elemwises):\n\u001b[1;32m    659\u001b[0m                     const = [get_scalar_constant_value(i)\n\u001b[0;32m--> 660\u001b[0;31m                              for i in v.owner.inputs]\n\u001b[0m\u001b[1;32m    661\u001b[0m                     \u001b[0mret\u001b[0m \u001b[0;34m=\u001b[0m \u001b[0;34m[\u001b[0m\u001b[0;34m[\u001b[0m\u001b[0mNone\u001b[0m\u001b[0;34m]\u001b[0m\u001b[0;34m]\u001b[0m\u001b[0;34m\u001b[0m\u001b[0m\n\u001b[1;32m    662\u001b[0m                     \u001b[0mv\u001b[0m\u001b[0;34m.\u001b[0m\u001b[0mowner\u001b[0m\u001b[0;34m.\u001b[0m\u001b[0mop\u001b[0m\u001b[0;34m.\u001b[0m\u001b[0mperform\u001b[0m\u001b[0;34m(\u001b[0m\u001b[0mv\u001b[0m\u001b[0;34m.\u001b[0m\u001b[0mowner\u001b[0m\u001b[0;34m,\u001b[0m \u001b[0mconst\u001b[0m\u001b[0;34m,\u001b[0m \u001b[0mret\u001b[0m\u001b[0;34m)\u001b[0m\u001b[0;34m\u001b[0m\u001b[0m\n",
      "\u001b[0;32m//anaconda/lib/python2.7/site-packages/Theano-0.8.0.dev0-py2.7.egg/theano/tensor/basic.pyc\u001b[0m in \u001b[0;36mget_scalar_constant_value\u001b[0;34m(orig_v, elemwise, only_process_constants)\u001b[0m\n\u001b[1;32m    658\u001b[0m                                 get_scalar_constant_value_elemwises):\n\u001b[1;32m    659\u001b[0m                     const = [get_scalar_constant_value(i)\n\u001b[0;32m--> 660\u001b[0;31m                              for i in v.owner.inputs]\n\u001b[0m\u001b[1;32m    661\u001b[0m                     \u001b[0mret\u001b[0m \u001b[0;34m=\u001b[0m \u001b[0;34m[\u001b[0m\u001b[0;34m[\u001b[0m\u001b[0mNone\u001b[0m\u001b[0;34m]\u001b[0m\u001b[0;34m]\u001b[0m\u001b[0;34m\u001b[0m\u001b[0m\n\u001b[1;32m    662\u001b[0m                     \u001b[0mv\u001b[0m\u001b[0;34m.\u001b[0m\u001b[0mowner\u001b[0m\u001b[0;34m.\u001b[0m\u001b[0mop\u001b[0m\u001b[0;34m.\u001b[0m\u001b[0mperform\u001b[0m\u001b[0;34m(\u001b[0m\u001b[0mv\u001b[0m\u001b[0;34m.\u001b[0m\u001b[0mowner\u001b[0m\u001b[0;34m,\u001b[0m \u001b[0mconst\u001b[0m\u001b[0;34m,\u001b[0m \u001b[0mret\u001b[0m\u001b[0;34m)\u001b[0m\u001b[0;34m\u001b[0m\u001b[0m\n",
      "\u001b[0;32m//anaconda/lib/python2.7/site-packages/Theano-0.8.0.dev0-py2.7.egg/theano/tensor/basic.pyc\u001b[0m in \u001b[0;36mget_scalar_constant_value\u001b[0;34m(orig_v, elemwise, only_process_constants)\u001b[0m\n\u001b[1;32m    658\u001b[0m                                 get_scalar_constant_value_elemwises):\n\u001b[1;32m    659\u001b[0m                     const = [get_scalar_constant_value(i)\n\u001b[0;32m--> 660\u001b[0;31m                              for i in v.owner.inputs]\n\u001b[0m\u001b[1;32m    661\u001b[0m                     \u001b[0mret\u001b[0m \u001b[0;34m=\u001b[0m \u001b[0;34m[\u001b[0m\u001b[0;34m[\u001b[0m\u001b[0mNone\u001b[0m\u001b[0;34m]\u001b[0m\u001b[0;34m]\u001b[0m\u001b[0;34m\u001b[0m\u001b[0m\n\u001b[1;32m    662\u001b[0m                     \u001b[0mv\u001b[0m\u001b[0;34m.\u001b[0m\u001b[0mowner\u001b[0m\u001b[0;34m.\u001b[0m\u001b[0mop\u001b[0m\u001b[0;34m.\u001b[0m\u001b[0mperform\u001b[0m\u001b[0;34m(\u001b[0m\u001b[0mv\u001b[0m\u001b[0;34m.\u001b[0m\u001b[0mowner\u001b[0m\u001b[0;34m,\u001b[0m \u001b[0mconst\u001b[0m\u001b[0;34m,\u001b[0m \u001b[0mret\u001b[0m\u001b[0;34m)\u001b[0m\u001b[0;34m\u001b[0m\u001b[0m\n",
      "\u001b[0;32m//anaconda/lib/python2.7/site-packages/Theano-0.8.0.dev0-py2.7.egg/theano/tensor/basic.pyc\u001b[0m in \u001b[0;36mget_scalar_constant_value\u001b[0;34m(orig_v, elemwise, only_process_constants)\u001b[0m\n\u001b[1;32m    658\u001b[0m                                 get_scalar_constant_value_elemwises):\n\u001b[1;32m    659\u001b[0m                     const = [get_scalar_constant_value(i)\n\u001b[0;32m--> 660\u001b[0;31m                              for i in v.owner.inputs]\n\u001b[0m\u001b[1;32m    661\u001b[0m                     \u001b[0mret\u001b[0m \u001b[0;34m=\u001b[0m \u001b[0;34m[\u001b[0m\u001b[0;34m[\u001b[0m\u001b[0mNone\u001b[0m\u001b[0;34m]\u001b[0m\u001b[0;34m]\u001b[0m\u001b[0;34m\u001b[0m\u001b[0m\n\u001b[1;32m    662\u001b[0m                     \u001b[0mv\u001b[0m\u001b[0;34m.\u001b[0m\u001b[0mowner\u001b[0m\u001b[0;34m.\u001b[0m\u001b[0mop\u001b[0m\u001b[0;34m.\u001b[0m\u001b[0mperform\u001b[0m\u001b[0;34m(\u001b[0m\u001b[0mv\u001b[0m\u001b[0;34m.\u001b[0m\u001b[0mowner\u001b[0m\u001b[0;34m,\u001b[0m \u001b[0mconst\u001b[0m\u001b[0;34m,\u001b[0m \u001b[0mret\u001b[0m\u001b[0;34m)\u001b[0m\u001b[0;34m\u001b[0m\u001b[0m\n",
      "\u001b[0;32m//anaconda/lib/python2.7/site-packages/Theano-0.8.0.dev0-py2.7.egg/theano/tensor/basic.pyc\u001b[0m in \u001b[0;36mget_scalar_constant_value\u001b[0;34m(orig_v, elemwise, only_process_constants)\u001b[0m\n\u001b[1;32m    658\u001b[0m                                 get_scalar_constant_value_elemwises):\n\u001b[1;32m    659\u001b[0m                     const = [get_scalar_constant_value(i)\n\u001b[0;32m--> 660\u001b[0;31m                              for i in v.owner.inputs]\n\u001b[0m\u001b[1;32m    661\u001b[0m                     \u001b[0mret\u001b[0m \u001b[0;34m=\u001b[0m \u001b[0;34m[\u001b[0m\u001b[0;34m[\u001b[0m\u001b[0mNone\u001b[0m\u001b[0;34m]\u001b[0m\u001b[0;34m]\u001b[0m\u001b[0;34m\u001b[0m\u001b[0m\n\u001b[1;32m    662\u001b[0m                     \u001b[0mv\u001b[0m\u001b[0;34m.\u001b[0m\u001b[0mowner\u001b[0m\u001b[0;34m.\u001b[0m\u001b[0mop\u001b[0m\u001b[0;34m.\u001b[0m\u001b[0mperform\u001b[0m\u001b[0;34m(\u001b[0m\u001b[0mv\u001b[0m\u001b[0;34m.\u001b[0m\u001b[0mowner\u001b[0m\u001b[0;34m,\u001b[0m \u001b[0mconst\u001b[0m\u001b[0;34m,\u001b[0m \u001b[0mret\u001b[0m\u001b[0;34m)\u001b[0m\u001b[0;34m\u001b[0m\u001b[0m\n",
      "\u001b[0;32m//anaconda/lib/python2.7/site-packages/Theano-0.8.0.dev0-py2.7.egg/theano/tensor/basic.pyc\u001b[0m in \u001b[0;36mget_scalar_constant_value\u001b[0;34m(orig_v, elemwise, only_process_constants)\u001b[0m\n\u001b[1;32m    658\u001b[0m                                 get_scalar_constant_value_elemwises):\n\u001b[1;32m    659\u001b[0m                     const = [get_scalar_constant_value(i)\n\u001b[0;32m--> 660\u001b[0;31m                              for i in v.owner.inputs]\n\u001b[0m\u001b[1;32m    661\u001b[0m                     \u001b[0mret\u001b[0m \u001b[0;34m=\u001b[0m \u001b[0;34m[\u001b[0m\u001b[0;34m[\u001b[0m\u001b[0mNone\u001b[0m\u001b[0;34m]\u001b[0m\u001b[0;34m]\u001b[0m\u001b[0;34m\u001b[0m\u001b[0m\n\u001b[1;32m    662\u001b[0m                     \u001b[0mv\u001b[0m\u001b[0;34m.\u001b[0m\u001b[0mowner\u001b[0m\u001b[0;34m.\u001b[0m\u001b[0mop\u001b[0m\u001b[0;34m.\u001b[0m\u001b[0mperform\u001b[0m\u001b[0;34m(\u001b[0m\u001b[0mv\u001b[0m\u001b[0;34m.\u001b[0m\u001b[0mowner\u001b[0m\u001b[0;34m,\u001b[0m \u001b[0mconst\u001b[0m\u001b[0;34m,\u001b[0m \u001b[0mret\u001b[0m\u001b[0;34m)\u001b[0m\u001b[0;34m\u001b[0m\u001b[0m\n",
      "\u001b[0;32m//anaconda/lib/python2.7/site-packages/Theano-0.8.0.dev0-py2.7.egg/theano/tensor/basic.pyc\u001b[0m in \u001b[0;36mget_scalar_constant_value\u001b[0;34m(orig_v, elemwise, only_process_constants)\u001b[0m\n\u001b[1;32m    658\u001b[0m                                 get_scalar_constant_value_elemwises):\n\u001b[1;32m    659\u001b[0m                     const = [get_scalar_constant_value(i)\n\u001b[0;32m--> 660\u001b[0;31m                              for i in v.owner.inputs]\n\u001b[0m\u001b[1;32m    661\u001b[0m                     \u001b[0mret\u001b[0m \u001b[0;34m=\u001b[0m \u001b[0;34m[\u001b[0m\u001b[0;34m[\u001b[0m\u001b[0mNone\u001b[0m\u001b[0;34m]\u001b[0m\u001b[0;34m]\u001b[0m\u001b[0;34m\u001b[0m\u001b[0m\n\u001b[1;32m    662\u001b[0m                     \u001b[0mv\u001b[0m\u001b[0;34m.\u001b[0m\u001b[0mowner\u001b[0m\u001b[0;34m.\u001b[0m\u001b[0mop\u001b[0m\u001b[0;34m.\u001b[0m\u001b[0mperform\u001b[0m\u001b[0;34m(\u001b[0m\u001b[0mv\u001b[0m\u001b[0;34m.\u001b[0m\u001b[0mowner\u001b[0m\u001b[0;34m,\u001b[0m \u001b[0mconst\u001b[0m\u001b[0;34m,\u001b[0m \u001b[0mret\u001b[0m\u001b[0;34m)\u001b[0m\u001b[0;34m\u001b[0m\u001b[0m\n",
      "\u001b[0;32m//anaconda/lib/python2.7/site-packages/Theano-0.8.0.dev0-py2.7.egg/theano/tensor/basic.pyc\u001b[0m in \u001b[0;36mget_scalar_constant_value\u001b[0;34m(orig_v, elemwise, only_process_constants)\u001b[0m\n\u001b[1;32m    658\u001b[0m                                 get_scalar_constant_value_elemwises):\n\u001b[1;32m    659\u001b[0m                     const = [get_scalar_constant_value(i)\n\u001b[0;32m--> 660\u001b[0;31m                              for i in v.owner.inputs]\n\u001b[0m\u001b[1;32m    661\u001b[0m                     \u001b[0mret\u001b[0m \u001b[0;34m=\u001b[0m \u001b[0;34m[\u001b[0m\u001b[0;34m[\u001b[0m\u001b[0mNone\u001b[0m\u001b[0;34m]\u001b[0m\u001b[0;34m]\u001b[0m\u001b[0;34m\u001b[0m\u001b[0m\n\u001b[1;32m    662\u001b[0m                     \u001b[0mv\u001b[0m\u001b[0;34m.\u001b[0m\u001b[0mowner\u001b[0m\u001b[0;34m.\u001b[0m\u001b[0mop\u001b[0m\u001b[0;34m.\u001b[0m\u001b[0mperform\u001b[0m\u001b[0;34m(\u001b[0m\u001b[0mv\u001b[0m\u001b[0;34m.\u001b[0m\u001b[0mowner\u001b[0m\u001b[0;34m,\u001b[0m \u001b[0mconst\u001b[0m\u001b[0;34m,\u001b[0m \u001b[0mret\u001b[0m\u001b[0;34m)\u001b[0m\u001b[0;34m\u001b[0m\u001b[0m\n",
      "\u001b[0;32m//anaconda/lib/python2.7/site-packages/Theano-0.8.0.dev0-py2.7.egg/theano/tensor/basic.pyc\u001b[0m in \u001b[0;36mget_scalar_constant_value\u001b[0;34m(orig_v, elemwise, only_process_constants)\u001b[0m\n\u001b[1;32m    658\u001b[0m                                 get_scalar_constant_value_elemwises):\n\u001b[1;32m    659\u001b[0m                     const = [get_scalar_constant_value(i)\n\u001b[0;32m--> 660\u001b[0;31m                              for i in v.owner.inputs]\n\u001b[0m\u001b[1;32m    661\u001b[0m                     \u001b[0mret\u001b[0m \u001b[0;34m=\u001b[0m \u001b[0;34m[\u001b[0m\u001b[0;34m[\u001b[0m\u001b[0mNone\u001b[0m\u001b[0;34m]\u001b[0m\u001b[0;34m]\u001b[0m\u001b[0;34m\u001b[0m\u001b[0m\n\u001b[1;32m    662\u001b[0m                     \u001b[0mv\u001b[0m\u001b[0;34m.\u001b[0m\u001b[0mowner\u001b[0m\u001b[0;34m.\u001b[0m\u001b[0mop\u001b[0m\u001b[0;34m.\u001b[0m\u001b[0mperform\u001b[0m\u001b[0;34m(\u001b[0m\u001b[0mv\u001b[0m\u001b[0;34m.\u001b[0m\u001b[0mowner\u001b[0m\u001b[0;34m,\u001b[0m \u001b[0mconst\u001b[0m\u001b[0;34m,\u001b[0m \u001b[0mret\u001b[0m\u001b[0;34m)\u001b[0m\u001b[0;34m\u001b[0m\u001b[0m\n",
      "\u001b[0;32m//anaconda/lib/python2.7/site-packages/Theano-0.8.0.dev0-py2.7.egg/theano/tensor/basic.pyc\u001b[0m in \u001b[0;36mget_scalar_constant_value\u001b[0;34m(orig_v, elemwise, only_process_constants)\u001b[0m\n\u001b[1;32m    658\u001b[0m                                 get_scalar_constant_value_elemwises):\n\u001b[1;32m    659\u001b[0m                     const = [get_scalar_constant_value(i)\n\u001b[0;32m--> 660\u001b[0;31m                              for i in v.owner.inputs]\n\u001b[0m\u001b[1;32m    661\u001b[0m                     \u001b[0mret\u001b[0m \u001b[0;34m=\u001b[0m \u001b[0;34m[\u001b[0m\u001b[0;34m[\u001b[0m\u001b[0mNone\u001b[0m\u001b[0;34m]\u001b[0m\u001b[0;34m]\u001b[0m\u001b[0;34m\u001b[0m\u001b[0m\n\u001b[1;32m    662\u001b[0m                     \u001b[0mv\u001b[0m\u001b[0;34m.\u001b[0m\u001b[0mowner\u001b[0m\u001b[0;34m.\u001b[0m\u001b[0mop\u001b[0m\u001b[0;34m.\u001b[0m\u001b[0mperform\u001b[0m\u001b[0;34m(\u001b[0m\u001b[0mv\u001b[0m\u001b[0;34m.\u001b[0m\u001b[0mowner\u001b[0m\u001b[0;34m,\u001b[0m \u001b[0mconst\u001b[0m\u001b[0;34m,\u001b[0m \u001b[0mret\u001b[0m\u001b[0;34m)\u001b[0m\u001b[0;34m\u001b[0m\u001b[0m\n",
      "\u001b[0;32m//anaconda/lib/python2.7/site-packages/Theano-0.8.0.dev0-py2.7.egg/theano/tensor/basic.pyc\u001b[0m in \u001b[0;36mget_scalar_constant_value\u001b[0;34m(orig_v, elemwise, only_process_constants)\u001b[0m\n\u001b[1;32m    658\u001b[0m                                 get_scalar_constant_value_elemwises):\n\u001b[1;32m    659\u001b[0m                     const = [get_scalar_constant_value(i)\n\u001b[0;32m--> 660\u001b[0;31m                              for i in v.owner.inputs]\n\u001b[0m\u001b[1;32m    661\u001b[0m                     \u001b[0mret\u001b[0m \u001b[0;34m=\u001b[0m \u001b[0;34m[\u001b[0m\u001b[0;34m[\u001b[0m\u001b[0mNone\u001b[0m\u001b[0;34m]\u001b[0m\u001b[0;34m]\u001b[0m\u001b[0;34m\u001b[0m\u001b[0m\n\u001b[1;32m    662\u001b[0m                     \u001b[0mv\u001b[0m\u001b[0;34m.\u001b[0m\u001b[0mowner\u001b[0m\u001b[0;34m.\u001b[0m\u001b[0mop\u001b[0m\u001b[0;34m.\u001b[0m\u001b[0mperform\u001b[0m\u001b[0;34m(\u001b[0m\u001b[0mv\u001b[0m\u001b[0;34m.\u001b[0m\u001b[0mowner\u001b[0m\u001b[0;34m,\u001b[0m \u001b[0mconst\u001b[0m\u001b[0;34m,\u001b[0m \u001b[0mret\u001b[0m\u001b[0;34m)\u001b[0m\u001b[0;34m\u001b[0m\u001b[0m\n",
      "\u001b[0;32m//anaconda/lib/python2.7/site-packages/Theano-0.8.0.dev0-py2.7.egg/theano/tensor/basic.pyc\u001b[0m in \u001b[0;36mget_scalar_constant_value\u001b[0;34m(orig_v, elemwise, only_process_constants)\u001b[0m\n\u001b[1;32m    658\u001b[0m                                 get_scalar_constant_value_elemwises):\n\u001b[1;32m    659\u001b[0m                     const = [get_scalar_constant_value(i)\n\u001b[0;32m--> 660\u001b[0;31m                              for i in v.owner.inputs]\n\u001b[0m\u001b[1;32m    661\u001b[0m                     \u001b[0mret\u001b[0m \u001b[0;34m=\u001b[0m \u001b[0;34m[\u001b[0m\u001b[0;34m[\u001b[0m\u001b[0mNone\u001b[0m\u001b[0;34m]\u001b[0m\u001b[0;34m]\u001b[0m\u001b[0;34m\u001b[0m\u001b[0m\n\u001b[1;32m    662\u001b[0m                     \u001b[0mv\u001b[0m\u001b[0;34m.\u001b[0m\u001b[0mowner\u001b[0m\u001b[0;34m.\u001b[0m\u001b[0mop\u001b[0m\u001b[0;34m.\u001b[0m\u001b[0mperform\u001b[0m\u001b[0;34m(\u001b[0m\u001b[0mv\u001b[0m\u001b[0;34m.\u001b[0m\u001b[0mowner\u001b[0m\u001b[0;34m,\u001b[0m \u001b[0mconst\u001b[0m\u001b[0;34m,\u001b[0m \u001b[0mret\u001b[0m\u001b[0;34m)\u001b[0m\u001b[0;34m\u001b[0m\u001b[0m\n",
      "\u001b[0;32m//anaconda/lib/python2.7/site-packages/Theano-0.8.0.dev0-py2.7.egg/theano/tensor/basic.pyc\u001b[0m in \u001b[0;36mget_scalar_constant_value\u001b[0;34m(orig_v, elemwise, only_process_constants)\u001b[0m\n\u001b[1;32m    658\u001b[0m                                 get_scalar_constant_value_elemwises):\n\u001b[1;32m    659\u001b[0m                     const = [get_scalar_constant_value(i)\n\u001b[0;32m--> 660\u001b[0;31m                              for i in v.owner.inputs]\n\u001b[0m\u001b[1;32m    661\u001b[0m                     \u001b[0mret\u001b[0m \u001b[0;34m=\u001b[0m \u001b[0;34m[\u001b[0m\u001b[0;34m[\u001b[0m\u001b[0mNone\u001b[0m\u001b[0;34m]\u001b[0m\u001b[0;34m]\u001b[0m\u001b[0;34m\u001b[0m\u001b[0m\n\u001b[1;32m    662\u001b[0m                     \u001b[0mv\u001b[0m\u001b[0;34m.\u001b[0m\u001b[0mowner\u001b[0m\u001b[0;34m.\u001b[0m\u001b[0mop\u001b[0m\u001b[0;34m.\u001b[0m\u001b[0mperform\u001b[0m\u001b[0;34m(\u001b[0m\u001b[0mv\u001b[0m\u001b[0;34m.\u001b[0m\u001b[0mowner\u001b[0m\u001b[0;34m,\u001b[0m \u001b[0mconst\u001b[0m\u001b[0;34m,\u001b[0m \u001b[0mret\u001b[0m\u001b[0;34m)\u001b[0m\u001b[0;34m\u001b[0m\u001b[0m\n",
      "\u001b[0;32m//anaconda/lib/python2.7/site-packages/Theano-0.8.0.dev0-py2.7.egg/theano/tensor/basic.pyc\u001b[0m in \u001b[0;36mget_scalar_constant_value\u001b[0;34m(orig_v, elemwise, only_process_constants)\u001b[0m\n\u001b[1;32m    658\u001b[0m                                 get_scalar_constant_value_elemwises):\n\u001b[1;32m    659\u001b[0m                     const = [get_scalar_constant_value(i)\n\u001b[0;32m--> 660\u001b[0;31m                              for i in v.owner.inputs]\n\u001b[0m\u001b[1;32m    661\u001b[0m                     \u001b[0mret\u001b[0m \u001b[0;34m=\u001b[0m \u001b[0;34m[\u001b[0m\u001b[0;34m[\u001b[0m\u001b[0mNone\u001b[0m\u001b[0;34m]\u001b[0m\u001b[0;34m]\u001b[0m\u001b[0;34m\u001b[0m\u001b[0m\n\u001b[1;32m    662\u001b[0m                     \u001b[0mv\u001b[0m\u001b[0;34m.\u001b[0m\u001b[0mowner\u001b[0m\u001b[0;34m.\u001b[0m\u001b[0mop\u001b[0m\u001b[0;34m.\u001b[0m\u001b[0mperform\u001b[0m\u001b[0;34m(\u001b[0m\u001b[0mv\u001b[0m\u001b[0;34m.\u001b[0m\u001b[0mowner\u001b[0m\u001b[0;34m,\u001b[0m \u001b[0mconst\u001b[0m\u001b[0;34m,\u001b[0m \u001b[0mret\u001b[0m\u001b[0;34m)\u001b[0m\u001b[0;34m\u001b[0m\u001b[0m\n",
      "\u001b[0;32m//anaconda/lib/python2.7/site-packages/Theano-0.8.0.dev0-py2.7.egg/theano/tensor/basic.pyc\u001b[0m in \u001b[0;36mget_scalar_constant_value\u001b[0;34m(orig_v, elemwise, only_process_constants)\u001b[0m\n\u001b[1;32m    658\u001b[0m                                 get_scalar_constant_value_elemwises):\n\u001b[1;32m    659\u001b[0m                     const = [get_scalar_constant_value(i)\n\u001b[0;32m--> 660\u001b[0;31m                              for i in v.owner.inputs]\n\u001b[0m\u001b[1;32m    661\u001b[0m                     \u001b[0mret\u001b[0m \u001b[0;34m=\u001b[0m \u001b[0;34m[\u001b[0m\u001b[0;34m[\u001b[0m\u001b[0mNone\u001b[0m\u001b[0;34m]\u001b[0m\u001b[0;34m]\u001b[0m\u001b[0;34m\u001b[0m\u001b[0m\n\u001b[1;32m    662\u001b[0m                     \u001b[0mv\u001b[0m\u001b[0;34m.\u001b[0m\u001b[0mowner\u001b[0m\u001b[0;34m.\u001b[0m\u001b[0mop\u001b[0m\u001b[0;34m.\u001b[0m\u001b[0mperform\u001b[0m\u001b[0;34m(\u001b[0m\u001b[0mv\u001b[0m\u001b[0;34m.\u001b[0m\u001b[0mowner\u001b[0m\u001b[0;34m,\u001b[0m \u001b[0mconst\u001b[0m\u001b[0;34m,\u001b[0m \u001b[0mret\u001b[0m\u001b[0;34m)\u001b[0m\u001b[0;34m\u001b[0m\u001b[0m\n",
      "\u001b[0;32m//anaconda/lib/python2.7/site-packages/Theano-0.8.0.dev0-py2.7.egg/theano/tensor/basic.pyc\u001b[0m in \u001b[0;36mget_scalar_constant_value\u001b[0;34m(orig_v, elemwise, only_process_constants)\u001b[0m\n\u001b[1;32m    658\u001b[0m                                 get_scalar_constant_value_elemwises):\n\u001b[1;32m    659\u001b[0m                     const = [get_scalar_constant_value(i)\n\u001b[0;32m--> 660\u001b[0;31m                              for i in v.owner.inputs]\n\u001b[0m\u001b[1;32m    661\u001b[0m                     \u001b[0mret\u001b[0m \u001b[0;34m=\u001b[0m \u001b[0;34m[\u001b[0m\u001b[0;34m[\u001b[0m\u001b[0mNone\u001b[0m\u001b[0;34m]\u001b[0m\u001b[0;34m]\u001b[0m\u001b[0;34m\u001b[0m\u001b[0m\n\u001b[1;32m    662\u001b[0m                     \u001b[0mv\u001b[0m\u001b[0;34m.\u001b[0m\u001b[0mowner\u001b[0m\u001b[0;34m.\u001b[0m\u001b[0mop\u001b[0m\u001b[0;34m.\u001b[0m\u001b[0mperform\u001b[0m\u001b[0;34m(\u001b[0m\u001b[0mv\u001b[0m\u001b[0;34m.\u001b[0m\u001b[0mowner\u001b[0m\u001b[0;34m,\u001b[0m \u001b[0mconst\u001b[0m\u001b[0;34m,\u001b[0m \u001b[0mret\u001b[0m\u001b[0;34m)\u001b[0m\u001b[0;34m\u001b[0m\u001b[0m\n",
      "\u001b[0;32m//anaconda/lib/python2.7/site-packages/Theano-0.8.0.dev0-py2.7.egg/theano/tensor/basic.pyc\u001b[0m in \u001b[0;36mget_scalar_constant_value\u001b[0;34m(orig_v, elemwise, only_process_constants)\u001b[0m\n\u001b[1;32m    658\u001b[0m                                 get_scalar_constant_value_elemwises):\n\u001b[1;32m    659\u001b[0m                     const = [get_scalar_constant_value(i)\n\u001b[0;32m--> 660\u001b[0;31m                              for i in v.owner.inputs]\n\u001b[0m\u001b[1;32m    661\u001b[0m                     \u001b[0mret\u001b[0m \u001b[0;34m=\u001b[0m \u001b[0;34m[\u001b[0m\u001b[0;34m[\u001b[0m\u001b[0mNone\u001b[0m\u001b[0;34m]\u001b[0m\u001b[0;34m]\u001b[0m\u001b[0;34m\u001b[0m\u001b[0m\n\u001b[1;32m    662\u001b[0m                     \u001b[0mv\u001b[0m\u001b[0;34m.\u001b[0m\u001b[0mowner\u001b[0m\u001b[0;34m.\u001b[0m\u001b[0mop\u001b[0m\u001b[0;34m.\u001b[0m\u001b[0mperform\u001b[0m\u001b[0;34m(\u001b[0m\u001b[0mv\u001b[0m\u001b[0;34m.\u001b[0m\u001b[0mowner\u001b[0m\u001b[0;34m,\u001b[0m \u001b[0mconst\u001b[0m\u001b[0;34m,\u001b[0m \u001b[0mret\u001b[0m\u001b[0;34m)\u001b[0m\u001b[0;34m\u001b[0m\u001b[0m\n",
      "\u001b[0;32m//anaconda/lib/python2.7/site-packages/Theano-0.8.0.dev0-py2.7.egg/theano/tensor/basic.pyc\u001b[0m in \u001b[0;36mget_scalar_constant_value\u001b[0;34m(orig_v, elemwise, only_process_constants)\u001b[0m\n\u001b[1;32m    658\u001b[0m                                 get_scalar_constant_value_elemwises):\n\u001b[1;32m    659\u001b[0m                     const = [get_scalar_constant_value(i)\n\u001b[0;32m--> 660\u001b[0;31m                              for i in v.owner.inputs]\n\u001b[0m\u001b[1;32m    661\u001b[0m                     \u001b[0mret\u001b[0m \u001b[0;34m=\u001b[0m \u001b[0;34m[\u001b[0m\u001b[0;34m[\u001b[0m\u001b[0mNone\u001b[0m\u001b[0;34m]\u001b[0m\u001b[0;34m]\u001b[0m\u001b[0;34m\u001b[0m\u001b[0m\n\u001b[1;32m    662\u001b[0m                     \u001b[0mv\u001b[0m\u001b[0;34m.\u001b[0m\u001b[0mowner\u001b[0m\u001b[0;34m.\u001b[0m\u001b[0mop\u001b[0m\u001b[0;34m.\u001b[0m\u001b[0mperform\u001b[0m\u001b[0;34m(\u001b[0m\u001b[0mv\u001b[0m\u001b[0;34m.\u001b[0m\u001b[0mowner\u001b[0m\u001b[0;34m,\u001b[0m \u001b[0mconst\u001b[0m\u001b[0;34m,\u001b[0m \u001b[0mret\u001b[0m\u001b[0;34m)\u001b[0m\u001b[0;34m\u001b[0m\u001b[0m\n",
      "\u001b[0;32m//anaconda/lib/python2.7/site-packages/Theano-0.8.0.dev0-py2.7.egg/theano/tensor/basic.pyc\u001b[0m in \u001b[0;36mget_scalar_constant_value\u001b[0;34m(orig_v, elemwise, only_process_constants)\u001b[0m\n\u001b[1;32m    658\u001b[0m                                 get_scalar_constant_value_elemwises):\n\u001b[1;32m    659\u001b[0m                     const = [get_scalar_constant_value(i)\n\u001b[0;32m--> 660\u001b[0;31m                              for i in v.owner.inputs]\n\u001b[0m\u001b[1;32m    661\u001b[0m                     \u001b[0mret\u001b[0m \u001b[0;34m=\u001b[0m \u001b[0;34m[\u001b[0m\u001b[0;34m[\u001b[0m\u001b[0mNone\u001b[0m\u001b[0;34m]\u001b[0m\u001b[0;34m]\u001b[0m\u001b[0;34m\u001b[0m\u001b[0m\n\u001b[1;32m    662\u001b[0m                     \u001b[0mv\u001b[0m\u001b[0;34m.\u001b[0m\u001b[0mowner\u001b[0m\u001b[0;34m.\u001b[0m\u001b[0mop\u001b[0m\u001b[0;34m.\u001b[0m\u001b[0mperform\u001b[0m\u001b[0;34m(\u001b[0m\u001b[0mv\u001b[0m\u001b[0;34m.\u001b[0m\u001b[0mowner\u001b[0m\u001b[0;34m,\u001b[0m \u001b[0mconst\u001b[0m\u001b[0;34m,\u001b[0m \u001b[0mret\u001b[0m\u001b[0;34m)\u001b[0m\u001b[0;34m\u001b[0m\u001b[0m\n",
      "\u001b[0;32m//anaconda/lib/python2.7/site-packages/Theano-0.8.0.dev0-py2.7.egg/theano/tensor/basic.pyc\u001b[0m in \u001b[0;36mget_scalar_constant_value\u001b[0;34m(orig_v, elemwise, only_process_constants)\u001b[0m\n\u001b[1;32m    658\u001b[0m                                 get_scalar_constant_value_elemwises):\n\u001b[1;32m    659\u001b[0m                     const = [get_scalar_constant_value(i)\n\u001b[0;32m--> 660\u001b[0;31m                              for i in v.owner.inputs]\n\u001b[0m\u001b[1;32m    661\u001b[0m                     \u001b[0mret\u001b[0m \u001b[0;34m=\u001b[0m \u001b[0;34m[\u001b[0m\u001b[0;34m[\u001b[0m\u001b[0mNone\u001b[0m\u001b[0;34m]\u001b[0m\u001b[0;34m]\u001b[0m\u001b[0;34m\u001b[0m\u001b[0m\n\u001b[1;32m    662\u001b[0m                     \u001b[0mv\u001b[0m\u001b[0;34m.\u001b[0m\u001b[0mowner\u001b[0m\u001b[0;34m.\u001b[0m\u001b[0mop\u001b[0m\u001b[0;34m.\u001b[0m\u001b[0mperform\u001b[0m\u001b[0;34m(\u001b[0m\u001b[0mv\u001b[0m\u001b[0;34m.\u001b[0m\u001b[0mowner\u001b[0m\u001b[0;34m,\u001b[0m \u001b[0mconst\u001b[0m\u001b[0;34m,\u001b[0m \u001b[0mret\u001b[0m\u001b[0;34m)\u001b[0m\u001b[0;34m\u001b[0m\u001b[0m\n",
      "\u001b[0;32m//anaconda/lib/python2.7/site-packages/Theano-0.8.0.dev0-py2.7.egg/theano/tensor/basic.pyc\u001b[0m in \u001b[0;36mget_scalar_constant_value\u001b[0;34m(orig_v, elemwise, only_process_constants)\u001b[0m\n\u001b[1;32m    658\u001b[0m                                 get_scalar_constant_value_elemwises):\n\u001b[1;32m    659\u001b[0m                     const = [get_scalar_constant_value(i)\n\u001b[0;32m--> 660\u001b[0;31m                              for i in v.owner.inputs]\n\u001b[0m\u001b[1;32m    661\u001b[0m                     \u001b[0mret\u001b[0m \u001b[0;34m=\u001b[0m \u001b[0;34m[\u001b[0m\u001b[0;34m[\u001b[0m\u001b[0mNone\u001b[0m\u001b[0;34m]\u001b[0m\u001b[0;34m]\u001b[0m\u001b[0;34m\u001b[0m\u001b[0m\n\u001b[1;32m    662\u001b[0m                     \u001b[0mv\u001b[0m\u001b[0;34m.\u001b[0m\u001b[0mowner\u001b[0m\u001b[0;34m.\u001b[0m\u001b[0mop\u001b[0m\u001b[0;34m.\u001b[0m\u001b[0mperform\u001b[0m\u001b[0;34m(\u001b[0m\u001b[0mv\u001b[0m\u001b[0;34m.\u001b[0m\u001b[0mowner\u001b[0m\u001b[0;34m,\u001b[0m \u001b[0mconst\u001b[0m\u001b[0;34m,\u001b[0m \u001b[0mret\u001b[0m\u001b[0;34m)\u001b[0m\u001b[0;34m\u001b[0m\u001b[0m\n",
      "\u001b[0;32m//anaconda/lib/python2.7/site-packages/Theano-0.8.0.dev0-py2.7.egg/theano/tensor/basic.pyc\u001b[0m in \u001b[0;36mget_scalar_constant_value\u001b[0;34m(orig_v, elemwise, only_process_constants)\u001b[0m\n\u001b[1;32m    623\u001b[0m             if isinstance(v.owner.op, (Alloc, DimShuffle, Rebroadcast,\n\u001b[1;32m    624\u001b[0m                                        \u001b[0mcompile\u001b[0m\u001b[0;34m.\u001b[0m\u001b[0mops\u001b[0m\u001b[0;34m.\u001b[0m\u001b[0mOutputGuard\u001b[0m\u001b[0;34m,\u001b[0m\u001b[0;34m\u001b[0m\u001b[0m\n\u001b[0;32m--> 625\u001b[0;31m                                        compile.DeepCopyOp)):\n\u001b[0m\u001b[1;32m    626\u001b[0m                 \u001b[0mv\u001b[0m \u001b[0;34m=\u001b[0m \u001b[0mv\u001b[0m\u001b[0;34m.\u001b[0m\u001b[0mowner\u001b[0m\u001b[0;34m.\u001b[0m\u001b[0minputs\u001b[0m\u001b[0;34m[\u001b[0m\u001b[0;36m0\u001b[0m\u001b[0;34m]\u001b[0m\u001b[0;34m\u001b[0m\u001b[0m\n\u001b[1;32m    627\u001b[0m                 \u001b[0;32mcontinue\u001b[0m\u001b[0;34m\u001b[0m\u001b[0m\n",
      "\u001b[0;31mKeyboardInterrupt\u001b[0m: "
     ]
    }
   ],
   "source": [
    "X = l_in.input_var\n",
    "y = T.ivector('y')\n",
    "\n",
    "\n",
    "net_out = get_output(l_out, X)\n",
    "loss = categorical_crossentropy(net_out, y).mean()\n",
    "params = get_all_params(l_out, trainable=True)\n",
    "grads = T.grad(loss, params)\n",
    "updates = nesterov_momentum(grads, params, learning_rate=0.01, momentum=0.9)\n",
    "train_fn = theano.function(inputs=[X, y], outputs=loss, updates=updates)\n"
   ]
  },
  {
   "cell_type": "code",
   "execution_count": null,
   "metadata": {
    "collapsed": true
   },
   "outputs": [],
   "source": []
  }
 ],
 "metadata": {
  "kernelspec": {
   "display_name": "Python 2",
   "language": "python",
   "name": "python2"
  },
  "language_info": {
   "codemirror_mode": {
    "name": "ipython",
    "version": 2
   },
   "file_extension": ".py",
   "mimetype": "text/x-python",
   "name": "python",
   "nbconvert_exporter": "python",
   "pygments_lexer": "ipython2",
   "version": "2.7.11"
  }
 },
 "nbformat": 4,
 "nbformat_minor": 0
}
