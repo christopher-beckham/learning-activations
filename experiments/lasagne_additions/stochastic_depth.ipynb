{
 "cells": [
  {
   "cell_type": "code",
   "execution_count": 2,
   "metadata": {
    "collapsed": false
   },
   "outputs": [
    {
     "name": "stderr",
     "output_type": "stream",
     "text": [
      "//anaconda/lib/python2.7/site-packages/Theano-0.8.0.dev0-py2.7.egg/theano/tensor/signal/downsample.py:5: UserWarning: downsample module has been moved to the pool module.\n",
      "  warnings.warn(\"downsample module has been moved to the pool module.\")\n"
     ]
    }
   ],
   "source": [
    "import theano\n",
    "from theano import tensor as T\n",
    "import lasagne\n",
    "from lasagne.layers import *\n",
    "from lasagne.nonlinearities import *\n",
    "from lasagne.objectives import *\n",
    "from lasagne.regularization import *\n",
    "from lasagne.random import get_rng\n",
    "from lasagne.updates import *\n",
    "from lasagne.init import *\n",
    "import numpy as np\n",
    "import sys\n",
    "sys.path.append(\"../../modules/\")\n",
    "import helper as hp\n",
    "\n",
    "from theano.sandbox.rng_mrg import MRG_RandomStreams as RandomStreams\n",
    "\n",
    "import matplotlib.pyplot as plt\n",
    "%matplotlib inline\n",
    "\n",
    "import os\n",
    "import cPickle as pickle\n",
    "\n",
    "from theano.tensor import TensorType\n",
    "\n",
    "from theano.ifelse import ifelse\n",
    "\n",
    "from time import time\n",
    "\n",
    "%load_ext rpy2.ipython\n",
    "\n",
    "from scipy import stats\n",
    "\n",
    "import deep_residual_learning_CIFAR10"
   ]
  },
  {
   "cell_type": "code",
   "execution_count": 5,
   "metadata": {
    "collapsed": true
   },
   "outputs": [],
   "source": [
    "srng = RandomStreams(get_rng().randint(1, 2147462579))"
   ]
  },
  {
   "cell_type": "code",
   "execution_count": 13,
   "metadata": {
    "collapsed": false
   },
   "outputs": [
    {
     "data": {
      "text/plain": [
       "(10, 1, 1, 1)"
      ]
     },
     "execution_count": 13,
     "metadata": {},
     "output_type": "execute_result"
    }
   ],
   "source": [
    "srng.binomial(n=1, p=0.5, size=(10,), dtype=\"float32\").dimshuffle(0,'x','x','x').eval().shape"
   ]
  },
  {
   "cell_type": "code",
   "execution_count": 14,
   "metadata": {
    "collapsed": false
   },
   "outputs": [
    {
     "data": {
      "text/plain": [
       "array([[[[ 0.,  0.],\n",
       "         [ 0.,  0.]],\n",
       "\n",
       "        [[ 0.,  0.],\n",
       "         [ 0.,  0.]],\n",
       "\n",
       "        [[ 0.,  0.],\n",
       "         [ 0.,  0.]]],\n",
       "\n",
       "\n",
       "       [[[ 0.,  0.],\n",
       "         [ 0.,  0.]],\n",
       "\n",
       "        [[ 0.,  0.],\n",
       "         [ 0.,  0.]],\n",
       "\n",
       "        [[ 0.,  0.],\n",
       "         [ 0.,  0.]]],\n",
       "\n",
       "\n",
       "       [[[ 0.,  0.],\n",
       "         [ 0.,  0.]],\n",
       "\n",
       "        [[ 0.,  0.],\n",
       "         [ 0.,  0.]],\n",
       "\n",
       "        [[ 0.,  0.],\n",
       "         [ 0.,  0.]]],\n",
       "\n",
       "\n",
       "       [[[ 1.,  1.],\n",
       "         [ 1.,  1.]],\n",
       "\n",
       "        [[ 1.,  1.],\n",
       "         [ 1.,  1.]],\n",
       "\n",
       "        [[ 1.,  1.],\n",
       "         [ 1.,  1.]]],\n",
       "\n",
       "\n",
       "       [[[ 0.,  0.],\n",
       "         [ 0.,  0.]],\n",
       "\n",
       "        [[ 0.,  0.],\n",
       "         [ 0.,  0.]],\n",
       "\n",
       "        [[ 0.,  0.],\n",
       "         [ 0.,  0.]]],\n",
       "\n",
       "\n",
       "       [[[ 1.,  1.],\n",
       "         [ 1.,  1.]],\n",
       "\n",
       "        [[ 1.,  1.],\n",
       "         [ 1.,  1.]],\n",
       "\n",
       "        [[ 1.,  1.],\n",
       "         [ 1.,  1.]]],\n",
       "\n",
       "\n",
       "       [[[ 0.,  0.],\n",
       "         [ 0.,  0.]],\n",
       "\n",
       "        [[ 0.,  0.],\n",
       "         [ 0.,  0.]],\n",
       "\n",
       "        [[ 0.,  0.],\n",
       "         [ 0.,  0.]]],\n",
       "\n",
       "\n",
       "       [[[ 0.,  0.],\n",
       "         [ 0.,  0.]],\n",
       "\n",
       "        [[ 0.,  0.],\n",
       "         [ 0.,  0.]],\n",
       "\n",
       "        [[ 0.,  0.],\n",
       "         [ 0.,  0.]]],\n",
       "\n",
       "\n",
       "       [[[ 1.,  1.],\n",
       "         [ 1.,  1.]],\n",
       "\n",
       "        [[ 1.,  1.],\n",
       "         [ 1.,  1.]],\n",
       "\n",
       "        [[ 1.,  1.],\n",
       "         [ 1.,  1.]]],\n",
       "\n",
       "\n",
       "       [[[ 1.,  1.],\n",
       "         [ 1.,  1.]],\n",
       "\n",
       "        [[ 1.,  1.],\n",
       "         [ 1.,  1.]],\n",
       "\n",
       "        [[ 1.,  1.],\n",
       "         [ 1.,  1.]]]])"
      ]
     },
     "execution_count": 14,
     "metadata": {},
     "output_type": "execute_result"
    }
   ],
   "source": [
    "srng.binomial(n=1, p=0.5, size=(10,), dtype=\"float32\").dimshuffle(0,'x','x','x').eval() * np.ones( (10, 3, 2, 2) )"
   ]
  },
  {
   "cell_type": "markdown",
   "metadata": {},
   "source": [
    "Stuff related to resnet shortcut connections..."
   ]
  },
  {
   "cell_type": "code",
   "execution_count": 31,
   "metadata": {
    "collapsed": false
   },
   "outputs": [
    {
     "name": "stdout",
     "output_type": "stream",
     "text": [
      "(None, 8, 28, 28)\n"
     ]
    }
   ],
   "source": [
    "l_in = InputLayer( (None, 3, 28, 28) )\n",
    "l_conv1 = Conv2DLayer(l_in, num_filters=8, filter_size=3, pad='same')\n",
    "l_conv2 = Conv2DLayer(l_conv1, num_filters=8, filter_size=3,pad='same')\n",
    "print l_conv2.output_shape"
   ]
  },
  {
   "cell_type": "code",
   "execution_count": 34,
   "metadata": {
    "collapsed": false
   },
   "outputs": [
    {
     "data": {
      "text/plain": [
       "(None, 8, 14, 14)"
      ]
     },
     "execution_count": 34,
     "metadata": {},
     "output_type": "execute_result"
    }
   ],
   "source": [
    "Conv2DLayer(l_in, num_filters=8, stride=2, filter_size=1, pad=0).output_shape"
   ]
  },
  {
   "cell_type": "markdown",
   "metadata": {},
   "source": [
    "https://github.com/Lasagne/Lasagne/issues/531"
   ]
  },
  {
   "cell_type": "code",
   "execution_count": 69,
   "metadata": {
    "collapsed": true
   },
   "outputs": [],
   "source": [
    "def residual_block(layer, num_filters, filter_size=3, stride=1, num_layers=2):\n",
    "    print layer.output_shape\n",
    "    conv = layer\n",
    "    if (num_filters != layer.output_shape[1]) or (stride != 1):\n",
    "        layer = Conv2DLayer(layer, num_filters, filter_size=1, stride=stride, pad=0, nonlinearity=None, b=None)\n",
    "    for _ in range(num_layers):\n",
    "        # first conv has to respect the stride, so that we can add the id connection\n",
    "        conv = Conv2DLayer(conv, num_filters, filter_size, stride=stride, pad='same')\n",
    "        print conv.output_shape\n",
    "        stride = 1\n",
    "    print \"[conv, layer] = %s, %s\" % (str(conv.output_shape), str(layer.output_shape))\n",
    "    return ElemwiseSumLayer([conv, layer])"
   ]
  },
  {
   "cell_type": "code",
   "execution_count": 70,
   "metadata": {
    "collapsed": false
   },
   "outputs": [
    {
     "name": "stdout",
     "output_type": "stream",
     "text": [
      "(None, 3, 28, 28)\n",
      "(None, 8, 14, 14)\n",
      "(None, 8, 14, 14)\n",
      "[conv, layer] = (None, 8, 14, 14), (None, 8, 14, 14)\n"
     ]
    }
   ],
   "source": [
    "l_out = residual_block(l_in, num_filters=8, filter_size=3, stride=2)"
   ]
  },
  {
   "cell_type": "code",
   "execution_count": null,
   "metadata": {
    "collapsed": true
   },
   "outputs": [],
   "source": []
  },
  {
   "cell_type": "code",
   "execution_count": 55,
   "metadata": {
    "collapsed": true
   },
   "outputs": [],
   "source": [
    "X = T.tensor4('X')"
   ]
  },
  {
   "cell_type": "code",
   "execution_count": 59,
   "metadata": {
    "collapsed": false
   },
   "outputs": [],
   "source": [
    "out_fn = theano.function([X], get_output(l_out, X))"
   ]
  },
  {
   "cell_type": "code",
   "execution_count": 61,
   "metadata": {
    "collapsed": false
   },
   "outputs": [
    {
     "ename": "ValueError",
     "evalue": "Input dimension mis-match. (input[1].shape[2] = 28, input[3].shape[2] = 14)\nApply node that caused the error: Elemwise{Composite{((i0 * (Abs((i1 + i2)) + i1 + i2)) + i3)}}[(0, 1)](TensorConstant{(1, 1, 1, 1) of 0.5}, CorrMM{half, (1, 1)}.0, InplaceDimShuffle{x,0,x,x}.0, CorrMM{(0, 0), (2, 2)}.0)\nToposort index: 9\nInputs types: [TensorType(float64, (True, True, True, True)), TensorType(float64, 4D), TensorType(float64, (True, False, True, True)), TensorType(float64, 4D)]\nInputs shapes: [(1, 1, 1, 1), (1, 8, 28, 28), (1, 8, 1, 1), (1, 8, 14, 14)]\nInputs strides: [(8, 8, 8, 8), (50176, 6272, 224, 8), (64, 8, 8, 8), (12544, 1568, 112, 8)]\nInputs values: [array([[[[ 0.5]]]]), 'not shown', 'not shown', 'not shown']\nOutputs clients: [['output']]\n\nHINT: Re-running with most Theano optimization disabled could give you a back-trace of when this node was created. This can be done with by setting the Theano flag 'optimizer=fast_compile'. If that does not work, Theano optimizations can be disabled with 'optimizer=None'.\nHINT: Use the Theano flag 'exception_verbosity=high' for a debugprint and storage map footprint of this apply node.",
     "output_type": "error",
     "traceback": [
      "\u001b[0;31m---------------------------------------------------------------------------\u001b[0m",
      "\u001b[0;31mValueError\u001b[0m                                Traceback (most recent call last)",
      "\u001b[0;32m<ipython-input-61-0929563bf957>\u001b[0m in \u001b[0;36m<module>\u001b[0;34m()\u001b[0m\n\u001b[0;32m----> 1\u001b[0;31m \u001b[0mout_fn\u001b[0m\u001b[0;34m(\u001b[0m \u001b[0mnp\u001b[0m\u001b[0;34m.\u001b[0m\u001b[0mones\u001b[0m\u001b[0;34m(\u001b[0m\u001b[0;34m(\u001b[0m\u001b[0;36m1\u001b[0m\u001b[0;34m,\u001b[0m\u001b[0;36m3\u001b[0m\u001b[0;34m,\u001b[0m\u001b[0;36m28\u001b[0m\u001b[0;34m,\u001b[0m\u001b[0;36m28\u001b[0m\u001b[0;34m)\u001b[0m \u001b[0;34m)\u001b[0m \u001b[0;34m)\u001b[0m\u001b[0;34m\u001b[0m\u001b[0m\n\u001b[0m",
      "\u001b[0;32m//anaconda/lib/python2.7/site-packages/Theano-0.8.0.dev0-py2.7.egg/theano/compile/function_module.pyc\u001b[0m in \u001b[0;36m__call__\u001b[0;34m(self, *args, **kwargs)\u001b[0m\n\u001b[1;32m    869\u001b[0m                     \u001b[0mnode\u001b[0m\u001b[0;34m=\u001b[0m\u001b[0mself\u001b[0m\u001b[0;34m.\u001b[0m\u001b[0mfn\u001b[0m\u001b[0;34m.\u001b[0m\u001b[0mnodes\u001b[0m\u001b[0;34m[\u001b[0m\u001b[0mself\u001b[0m\u001b[0;34m.\u001b[0m\u001b[0mfn\u001b[0m\u001b[0;34m.\u001b[0m\u001b[0mposition_of_error\u001b[0m\u001b[0;34m]\u001b[0m\u001b[0;34m,\u001b[0m\u001b[0;34m\u001b[0m\u001b[0m\n\u001b[1;32m    870\u001b[0m                     \u001b[0mthunk\u001b[0m\u001b[0;34m=\u001b[0m\u001b[0mthunk\u001b[0m\u001b[0;34m,\u001b[0m\u001b[0;34m\u001b[0m\u001b[0m\n\u001b[0;32m--> 871\u001b[0;31m                     storage_map=getattr(self.fn, 'storage_map', None))\n\u001b[0m\u001b[1;32m    872\u001b[0m             \u001b[0;32melse\u001b[0m\u001b[0;34m:\u001b[0m\u001b[0;34m\u001b[0m\u001b[0m\n\u001b[1;32m    873\u001b[0m                 \u001b[0;31m# old-style linkers raise their own exceptions\u001b[0m\u001b[0;34m\u001b[0m\u001b[0;34m\u001b[0m\u001b[0m\n",
      "\u001b[0;32m//anaconda/lib/python2.7/site-packages/Theano-0.8.0.dev0-py2.7.egg/theano/gof/link.pyc\u001b[0m in \u001b[0;36mraise_with_op\u001b[0;34m(node, thunk, exc_info, storage_map)\u001b[0m\n\u001b[1;32m    312\u001b[0m         \u001b[0;31m# extra long error message in that case.\u001b[0m\u001b[0;34m\u001b[0m\u001b[0;34m\u001b[0m\u001b[0m\n\u001b[1;32m    313\u001b[0m         \u001b[0;32mpass\u001b[0m\u001b[0;34m\u001b[0m\u001b[0m\n\u001b[0;32m--> 314\u001b[0;31m     \u001b[0mreraise\u001b[0m\u001b[0;34m(\u001b[0m\u001b[0mexc_type\u001b[0m\u001b[0;34m,\u001b[0m \u001b[0mexc_value\u001b[0m\u001b[0;34m,\u001b[0m \u001b[0mexc_trace\u001b[0m\u001b[0;34m)\u001b[0m\u001b[0;34m\u001b[0m\u001b[0m\n\u001b[0m\u001b[1;32m    315\u001b[0m \u001b[0;34m\u001b[0m\u001b[0m\n\u001b[1;32m    316\u001b[0m \u001b[0;34m\u001b[0m\u001b[0m\n",
      "\u001b[0;32m//anaconda/lib/python2.7/site-packages/Theano-0.8.0.dev0-py2.7.egg/theano/compile/function_module.pyc\u001b[0m in \u001b[0;36m__call__\u001b[0;34m(self, *args, **kwargs)\u001b[0m\n\u001b[1;32m    857\u001b[0m         \u001b[0mt0_fn\u001b[0m \u001b[0;34m=\u001b[0m \u001b[0mtime\u001b[0m\u001b[0;34m.\u001b[0m\u001b[0mtime\u001b[0m\u001b[0;34m(\u001b[0m\u001b[0;34m)\u001b[0m\u001b[0;34m\u001b[0m\u001b[0m\n\u001b[1;32m    858\u001b[0m         \u001b[0;32mtry\u001b[0m\u001b[0;34m:\u001b[0m\u001b[0;34m\u001b[0m\u001b[0m\n\u001b[0;32m--> 859\u001b[0;31m             \u001b[0moutputs\u001b[0m \u001b[0;34m=\u001b[0m \u001b[0mself\u001b[0m\u001b[0;34m.\u001b[0m\u001b[0mfn\u001b[0m\u001b[0;34m(\u001b[0m\u001b[0;34m)\u001b[0m\u001b[0;34m\u001b[0m\u001b[0m\n\u001b[0m\u001b[1;32m    860\u001b[0m         \u001b[0;32mexcept\u001b[0m \u001b[0mException\u001b[0m\u001b[0;34m:\u001b[0m\u001b[0;34m\u001b[0m\u001b[0m\n\u001b[1;32m    861\u001b[0m             \u001b[0;32mif\u001b[0m \u001b[0mhasattr\u001b[0m\u001b[0;34m(\u001b[0m\u001b[0mself\u001b[0m\u001b[0;34m.\u001b[0m\u001b[0mfn\u001b[0m\u001b[0;34m,\u001b[0m \u001b[0;34m'position_of_error'\u001b[0m\u001b[0;34m)\u001b[0m\u001b[0;34m:\u001b[0m\u001b[0;34m\u001b[0m\u001b[0m\n",
      "\u001b[0;31mValueError\u001b[0m: Input dimension mis-match. (input[1].shape[2] = 28, input[3].shape[2] = 14)\nApply node that caused the error: Elemwise{Composite{((i0 * (Abs((i1 + i2)) + i1 + i2)) + i3)}}[(0, 1)](TensorConstant{(1, 1, 1, 1) of 0.5}, CorrMM{half, (1, 1)}.0, InplaceDimShuffle{x,0,x,x}.0, CorrMM{(0, 0), (2, 2)}.0)\nToposort index: 9\nInputs types: [TensorType(float64, (True, True, True, True)), TensorType(float64, 4D), TensorType(float64, (True, False, True, True)), TensorType(float64, 4D)]\nInputs shapes: [(1, 1, 1, 1), (1, 8, 28, 28), (1, 8, 1, 1), (1, 8, 14, 14)]\nInputs strides: [(8, 8, 8, 8), (50176, 6272, 224, 8), (64, 8, 8, 8), (12544, 1568, 112, 8)]\nInputs values: [array([[[[ 0.5]]]]), 'not shown', 'not shown', 'not shown']\nOutputs clients: [['output']]\n\nHINT: Re-running with most Theano optimization disabled could give you a back-trace of when this node was created. This can be done with by setting the Theano flag 'optimizer=fast_compile'. If that does not work, Theano optimizations can be disabled with 'optimizer=None'.\nHINT: Use the Theano flag 'exception_verbosity=high' for a debugprint and storage map footprint of this apply node."
     ]
    }
   ],
   "source": [
    "out_fn( np.ones((1,3,28,28) ) )"
   ]
  },
  {
   "cell_type": "markdown",
   "metadata": {},
   "source": [
    "----"
   ]
  },
  {
   "cell_type": "code",
   "execution_count": 149,
   "metadata": {
    "collapsed": true
   },
   "outputs": [],
   "source": [
    "import math"
   ]
  },
  {
   "cell_type": "code",
   "execution_count": 209,
   "metadata": {
    "collapsed": false
   },
   "outputs": [
    {
     "name": "stdout",
     "output_type": "stream",
     "text": [
      "input (None, 3, 28, 28)\n",
      "conv1 (None, 8, 26, 26)\n",
      "conv2 (None, 8, 24, 24)\n"
     ]
    }
   ],
   "source": [
    "l_in = InputLayer( (None, 3, 28, 28), name=\"input\" )\n",
    "l_conv1 = Conv2DLayer(l_in, num_filters=8, filter_size=3, name=\"conv1\")\n",
    "l_conv2 = Conv2DLayer(l_conv1, num_filters=8, filter_size=3, name=\"conv2\")\n",
    "for layer in get_all_layers(l_conv2):\n",
    "    print layer.name, layer.output_shape"
   ]
  },
  {
   "cell_type": "code",
   "execution_count": 210,
   "metadata": {
    "collapsed": false
   },
   "outputs": [
    {
     "name": "stdout",
     "output_type": "stream",
     "text": [
      "(None, 8, 13, 13)\n"
     ]
    }
   ],
   "source": [
    "id1 = Pool2DLayer(l_conv1, pool_size=(2,2), mode=\"average_inc_pad\")\n",
    "print id1.output_shape"
   ]
  },
  {
   "cell_type": "code",
   "execution_count": 211,
   "metadata": {
    "collapsed": false
   },
   "outputs": [
    {
     "data": {
      "text/plain": [
       "(None, 8, 24, 24)"
      ]
     },
     "execution_count": 211,
     "metadata": {},
     "output_type": "execute_result"
    }
   ],
   "source": [
    "# if the pool shape is not divisible by 2, let's pad asymmetrically\n",
    "# e.g. if (13,13) then make it (14,14)\n",
    "if id1.output_shape[2] % 2 == 1:\n",
    "    l_pad = pad(id1, width=((0,1), (0,1)))\n",
    "# now, pad it so that it's good\n",
    "nd1 = (l_conv2.output_shape[2]-l_pad.output_shape[2])/2\n",
    "l_pad = pad(l_pad, width=(nd1, nd1))\n",
    "    \n",
    "l_pad.output_shape"
   ]
  },
  {
   "cell_type": "code",
   "execution_count": 199,
   "metadata": {
    "collapsed": false
   },
   "outputs": [],
   "source": [
    "out_pad = theano.function([X], get_output(l_pad, X))"
   ]
  },
  {
   "cell_type": "code",
   "execution_count": 201,
   "metadata": {
    "collapsed": false
   },
   "outputs": [
    {
     "data": {
      "text/plain": [
       "(10, 8, 24, 24)"
      ]
     },
     "execution_count": 201,
     "metadata": {},
     "output_type": "execute_result"
    }
   ],
   "source": [
    "out_pad( np.ones((10,3,28,28)) ).shape"
   ]
  },
  {
   "cell_type": "markdown",
   "metadata": {},
   "source": [
    "-----"
   ]
  },
  {
   "cell_type": "code",
   "execution_count": 370,
   "metadata": {
    "collapsed": false
   },
   "outputs": [
    {
     "name": "stdout",
     "output_type": "stream",
     "text": [
      "input (None, 3, 28, 28)\n",
      "conv1 (None, 8, 26, 26)\n",
      "conv2 (None, 8, 24, 24)\n"
     ]
    }
   ],
   "source": [
    "l_in = InputLayer( (None, 3, 28, 28), name=\"input\" )\n",
    "l_conv1 = Conv2DLayer(l_in, num_filters=8, filter_size=3, name=\"conv1\")\n",
    "l_conv2 = Conv2DLayer(l_conv1, num_filters=8, filter_size=3, name=\"conv2\")\n",
    "for layer in get_all_layers(l_conv2):\n",
    "    print layer.name, layer.output_shape"
   ]
  },
  {
   "cell_type": "code",
   "execution_count": 619,
   "metadata": {
    "collapsed": false
   },
   "outputs": [],
   "source": [
    "class StochasticDepthLayer(Layer):\n",
    "    def __init__(self, incoming, in_var, nonlinearity=rectify, p=0.5,\n",
    "                 **kwargs):\n",
    "        super(StochasticDepthLayer, self).__init__(incoming, **kwargs)\n",
    "        self.nonlinearity = (identity if nonlinearity is None\n",
    "                             else nonlinearity)\n",
    "        self._srng = RandomStreams(get_rng().randint(1, 2147462579))\n",
    "        self.p = p\n",
    "        \n",
    "        self.layer_before_incoming = incoming.input_layer\n",
    "        #for prev_layer in get_all_layers(incoming)[::-1]:\n",
    "        #    if isinstance(prev_layer, Conv2DLayer) or isinstance(prev_layer, Pool2DLayer) \\\n",
    "        #    or isinstance(prev_layer, InputLayer):\n",
    "        #        self.layer_before_incoming = prev_layer\n",
    "        #        break\n",
    "        \n",
    "        self.incoming = incoming\n",
    "        self.in_var = in_var\n",
    "\n",
    "    def get_output_for(self, input, deterministic=False, **kwargs):\n",
    "        if deterministic or self.p == 0.0:\n",
    "            return input\n",
    "        else:\n",
    "            \"\"\"\n",
    "            layer_before_incoming: (26, 26)\n",
    "            incoming: (24, 24)\n",
    "            If we apply avg pooling to layer_before_incoming, we get:\n",
    "            (13,13)\n",
    "            So let's add a condition to pad asymmetrically so that it is:\n",
    "            (14,14)\n",
    "            Then, let's pool up to (24, 24)\n",
    "            \"\"\"\n",
    "            layer_before_incoming = self.layer_before_incoming\n",
    "            incoming = self.incoming\n",
    "            print \"layer i have right now: %s\" % str(incoming.name),\n",
    "            print \"layer before incoming: %s\" % str(layer_before_incoming.name)\n",
    "            l_pool = Pool2DLayer(layer_before_incoming, pool_size=(2,2), mode=\"average_inc_pad\")\n",
    "            print \"l_pool: %s\" % str(l_pool.output_shape),\n",
    "            if (l_pool.output_shape[2] % 2 == 1 and incoming.output_shape[2] % 2 == 0) or \\\n",
    "                (l_pool.output_shape[2] % 2 == 0 and incoming.output_shape[2] % 2 == 1):\n",
    "                l_pad = pad( l_pool, width=((0,1),(0,1)) )\n",
    "                print \"l_pad: %s\" % str(l_pad.output_shape),\n",
    "            else:\n",
    "                l_pad = l_pool\n",
    "                print \"l_pad: %s\" % str(l_pad.output_shape),\n",
    "            nd1 = (self.incoming.output_shape[2]-l_pad.output_shape[2])/2\n",
    "            print \"nd1: %i\" % nd1,\n",
    "            if nd1 > 0:\n",
    "                l_pad = pad(l_pad, width=(nd1,nd1))\n",
    "            # what if the layer_before_incoming num feature maps is\n",
    "            # less than the incoming_layer num feature maps?\n",
    "            if layer_before_incoming.output_shape[1] < incoming.output_shape[1]:\n",
    "                diff_in_fms = incoming.output_shape[1]-layer_before_incoming.output_shape[1]\n",
    "                if diff_in_fms % 2 == 0: \n",
    "                    width_tp = ((diff_in_fms/2, diff_in_fms/2),)\n",
    "                else:\n",
    "                    width_tp = (((diff_in_fms/2)+1, diff_in_fms/2),)\n",
    "                l_pad = pad(\n",
    "                    l_pad, \n",
    "                    batch_ndim=1, \n",
    "                    width=width_tp\n",
    "                ) \n",
    "            \n",
    "            print \"l_pad: %s\" % str(l_pad.output_shape)\n",
    "\n",
    "            l_pad_out = get_output(l_pad, self.in_var)\n",
    "\n",
    "            # ok, now do the binomial mask\n",
    "            mask = self._srng.binomial(n=1, p=(self.p), size=(input.shape[0],),\n",
    "                dtype=input.dtype)\n",
    "            mask = mask.dimshuffle(0,'x','x','x')\n",
    "            \n",
    "            return self.nonlinearity( (mask*input) + l_pad_out )\n",
    "            #return self.nonlinearity(input+l_pad_out)"
   ]
  },
  {
   "cell_type": "code",
   "execution_count": 372,
   "metadata": {
    "collapsed": false
   },
   "outputs": [
    {
     "data": {
      "text/plain": [
       "(None, 8, 24, 24)"
      ]
     },
     "execution_count": 372,
     "metadata": {},
     "output_type": "execute_result"
    }
   ],
   "source": [
    "l_test = StochasticDepthLayer(l_conv2, nonlinearity=rectify, in_var=X)\n",
    "l_test.output_shape"
   ]
  },
  {
   "cell_type": "code",
   "execution_count": 373,
   "metadata": {
    "collapsed": false
   },
   "outputs": [
    {
     "name": "stdout",
     "output_type": "stream",
     "text": [
      "yes\n",
      "<function rectify at 0x107833140>\n"
     ]
    }
   ],
   "source": [
    "fn_test = theano.function([X], get_output(l_test, X))"
   ]
  },
  {
   "cell_type": "code",
   "execution_count": 376,
   "metadata": {
    "collapsed": false
   },
   "outputs": [
    {
     "data": {
      "text/plain": [
       "array([[[[ 0.        ,  0.        ,  0.        , ...,  0.        ,\n",
       "           0.        ,  0.        ],\n",
       "         [ 0.        ,  0.        ,  0.        , ...,  0.        ,\n",
       "           0.        ,  0.        ],\n",
       "         [ 0.        ,  0.        ,  0.        , ...,  0.        ,\n",
       "           0.        ,  0.        ],\n",
       "         ..., \n",
       "         [ 0.        ,  0.        ,  0.        , ...,  0.        ,\n",
       "           0.        ,  0.        ],\n",
       "         [ 0.        ,  0.        ,  0.        , ...,  0.        ,\n",
       "           0.        ,  0.        ],\n",
       "         [ 0.        ,  0.        ,  0.        , ...,  0.        ,\n",
       "           0.        ,  0.        ]],\n",
       "\n",
       "        [[ 0.02005802,  0.02005802,  0.02005802, ...,  0.02005802,\n",
       "           0.02005802,  0.02005802],\n",
       "         [ 0.02005802,  0.02005802,  0.02005802, ...,  0.02005802,\n",
       "           0.02005802,  0.02005802],\n",
       "         [ 0.02005802,  0.02005802,  0.02005802, ...,  0.02005802,\n",
       "           0.02005802,  0.02005802],\n",
       "         ..., \n",
       "         [ 0.02005802,  0.02005802,  0.02005802, ...,  0.02005802,\n",
       "           0.02005802,  0.02005802],\n",
       "         [ 0.02005802,  0.02005802,  0.02005802, ...,  0.02005802,\n",
       "           0.02005802,  0.02005802],\n",
       "         [ 0.02005802,  0.02005802,  0.02005802, ...,  0.02005802,\n",
       "           0.02005802,  0.02005802]],\n",
       "\n",
       "        [[ 0.0361864 ,  0.0361864 ,  0.0361864 , ...,  0.0361864 ,\n",
       "           0.0361864 ,  0.0361864 ],\n",
       "         [ 0.0361864 ,  0.0361864 ,  0.0361864 , ...,  0.0361864 ,\n",
       "           0.0361864 ,  0.0361864 ],\n",
       "         [ 0.0361864 ,  0.0361864 ,  0.0361864 , ...,  0.0361864 ,\n",
       "           0.0361864 ,  0.0361864 ],\n",
       "         ..., \n",
       "         [ 0.0361864 ,  0.0361864 ,  0.0361864 , ...,  0.0361864 ,\n",
       "           0.0361864 ,  0.0361864 ],\n",
       "         [ 0.0361864 ,  0.0361864 ,  0.0361864 , ...,  0.0361864 ,\n",
       "           0.0361864 ,  0.0361864 ],\n",
       "         [ 0.0361864 ,  0.0361864 ,  0.0361864 , ...,  0.0361864 ,\n",
       "           0.0361864 ,  0.0361864 ]],\n",
       "\n",
       "        ..., \n",
       "        [[ 0.        ,  0.        ,  0.        , ...,  0.        ,\n",
       "           0.        ,  0.        ],\n",
       "         [ 0.        ,  0.        ,  0.        , ...,  0.        ,\n",
       "           0.        ,  0.        ],\n",
       "         [ 0.        ,  0.        ,  0.        , ...,  0.        ,\n",
       "           0.        ,  0.        ],\n",
       "         ..., \n",
       "         [ 0.        ,  0.        ,  0.        , ...,  0.        ,\n",
       "           0.        ,  0.        ],\n",
       "         [ 0.        ,  0.        ,  0.        , ...,  0.        ,\n",
       "           0.        ,  0.        ],\n",
       "         [ 0.        ,  0.        ,  0.        , ...,  0.        ,\n",
       "           0.        ,  0.        ]],\n",
       "\n",
       "        [[ 0.11052079,  0.11052079,  0.11052079, ...,  0.11052079,\n",
       "           0.11052079,  0.11052079],\n",
       "         [ 0.11052079,  0.11052079,  0.11052079, ...,  0.11052079,\n",
       "           0.11052079,  0.11052079],\n",
       "         [ 0.11052079,  0.11052079,  0.11052079, ...,  0.11052079,\n",
       "           0.11052079,  0.11052079],\n",
       "         ..., \n",
       "         [ 0.11052079,  0.11052079,  0.11052079, ...,  0.11052079,\n",
       "           0.11052079,  0.11052079],\n",
       "         [ 0.11052079,  0.11052079,  0.11052079, ...,  0.11052079,\n",
       "           0.11052079,  0.11052079],\n",
       "         [ 0.11052079,  0.11052079,  0.11052079, ...,  0.11052079,\n",
       "           0.11052079,  0.11052079]],\n",
       "\n",
       "        [[ 0.        ,  0.        ,  0.        , ...,  0.        ,\n",
       "           0.        ,  0.        ],\n",
       "         [ 0.        ,  0.        ,  0.        , ...,  0.        ,\n",
       "           0.        ,  0.        ],\n",
       "         [ 0.        ,  0.        ,  0.        , ...,  0.        ,\n",
       "           0.        ,  0.        ],\n",
       "         ..., \n",
       "         [ 0.        ,  0.        ,  0.        , ...,  0.        ,\n",
       "           0.        ,  0.        ],\n",
       "         [ 0.        ,  0.        ,  0.        , ...,  0.        ,\n",
       "           0.        ,  0.        ],\n",
       "         [ 0.        ,  0.        ,  0.        , ...,  0.        ,\n",
       "           0.        ,  0.        ]]]])"
      ]
     },
     "execution_count": 376,
     "metadata": {},
     "output_type": "execute_result"
    }
   ],
   "source": [
    "fn_test( np.ones((1, 3, 28, 28)) )"
   ]
  },
  {
   "cell_type": "code",
   "execution_count": 620,
   "metadata": {
    "collapsed": false
   },
   "outputs": [
    {
     "name": "stdout",
     "output_type": "stream",
     "text": [
      "input (None, 3, 28, 28)\n",
      "conv1 (None, 8, 26, 26)\n",
      "sd_conv1 (None, 8, 26, 26)\n",
      "pool1 (None, 8, 13, 13)\n",
      "sd_mp1 (None, 8, 13, 13)\n",
      "conv2 (None, 16, 11, 11)\n",
      "sd_conv2 (None, 16, 11, 11)\n",
      "pool2 (None, 16, 5, 5)\n",
      "sd_mp2 (None, 16, 5, 5)\n",
      "conv3 (None, 32, 3, 3)\n",
      "sd_conv3 (None, 32, 3, 3)\n",
      "final (None, 10)\n"
     ]
    }
   ],
   "source": [
    "l_in = InputLayer( (None, 3, 28, 28), name=\"input\" )\n",
    "l_conv1 = StochasticDepthLayer(\n",
    "    Conv2DLayer(l_in, num_filters=8, filter_size=3, name=\"conv1\", nonlinearity=None),\n",
    "    nonlinearity=rectify, in_var=l_in.input_var, name=\"sd_conv1\"\n",
    ")\n",
    "l_mp1 = StochasticDepthLayer(\n",
    "    MaxPool2DLayer(l_conv1, pool_size=(2,2), name=\"pool1\"),\n",
    "    nonlinearity=identity, in_var=l_in.input_var, name=\"sd_mp1\"\n",
    ")\n",
    "l_conv2 = StochasticDepthLayer(\n",
    "    Conv2DLayer(l_mp1, num_filters=16, filter_size=3, name=\"conv2\", nonlinearity=None),\n",
    "    nonlinearity=rectify, in_var=l_in.input_var, name=\"sd_conv2\"\n",
    ")\n",
    "l_mp2 = StochasticDepthLayer(\n",
    "    MaxPool2DLayer(l_conv2, pool_size=(2,2), name=\"pool2\"),\n",
    "    nonlinearity=identity, in_var=l_in.input_var, name=\"sd_mp2\"\n",
    ")\n",
    "l_conv3 = StochasticDepthLayer(\n",
    "    Conv2DLayer(l_mp2, num_filters=32, filter_size=3, name=\"conv3\", nonlinearity=None),\n",
    "    nonlinearity=rectify, in_var=l_in.input_var, name=\"sd_conv3\"\n",
    ")\n",
    "l_out = DenseLayer(l_conv3, num_units=10, nonlinearity=softmax, name=\"final\")\n",
    "\n",
    "for layer in get_all_layers(l_out):\n",
    "    print layer.name, layer.output_shape"
   ]
  },
  {
   "cell_type": "code",
   "execution_count": 616,
   "metadata": {
    "collapsed": false,
    "scrolled": true
   },
   "outputs": [
    {
     "name": "stdout",
     "output_type": "stream",
     "text": [
      "layer i have right now: conv1 layer before incoming: input\n",
      "l_pool: (None, 3, 14, 14) l_pad: (None, 3, 14, 14) nd1: 6 l_pad: (None, 8, 26, 26)\n",
      "layer i have right now: pool1 layer before incoming: sd_conv1\n",
      "l_pool: (None, 8, 13, 13) l_pad: (None, 8, 13, 13) nd1: 0 l_pad: (None, 8, 13, 13)\n",
      "layer i have right now: conv1 layer before incoming: input\n",
      "l_pool: (None, 3, 14, 14) l_pad: (None, 3, 14, 14) nd1: 6 l_pad: (None, 8, 26, 26)\n",
      "layer i have right now: conv2 layer before incoming: sd_mp1\n",
      "l_pool: (None, 8, 6, 6) l_pad: (None, 8, 7, 7) nd1: 2 l_pad: (None, 16, 11, 11)\n",
      "layer i have right now: conv1 layer before incoming: input\n",
      "l_pool: (None, 3, 14, 14) l_pad: (None, 3, 14, 14) nd1: 6 l_pad: (None, 8, 26, 26)\n",
      "layer i have right now: pool1 layer before incoming: sd_conv1\n",
      "l_pool: (None, 8, 13, 13) l_pad: (None, 8, 13, 13) nd1: 0 l_pad: (None, 8, 13, 13)\n",
      "layer i have right now: conv1 layer before incoming: input\n",
      "l_pool: (None, 3, 14, 14) l_pad: (None, 3, 14, 14) nd1: 6 l_pad: (None, 8, 26, 26)\n",
      "layer i have right now: pool2 layer before incoming: sd_conv2\n",
      "l_pool: (None, 16, 5, 5) l_pad: (None, 16, 5, 5) nd1: 0 l_pad: (None, 16, 5, 5)\n",
      "layer i have right now: conv1 layer before incoming: input\n",
      "l_pool: (None, 3, 14, 14) l_pad: (None, 3, 14, 14) nd1: 6 l_pad: (None, 8, 26, 26)\n",
      "layer i have right now: pool1 layer before incoming: sd_conv1\n",
      "l_pool: (None, 8, 13, 13) l_pad: (None, 8, 13, 13) nd1: 0 l_pad: (None, 8, 13, 13)\n",
      "layer i have right now: conv1 layer before incoming: input\n",
      "l_pool: (None, 3, 14, 14) l_pad: (None, 3, 14, 14) nd1: 6 l_pad: (None, 8, 26, 26)\n",
      "layer i have right now: conv2 layer before incoming: sd_mp1\n",
      "l_pool: (None, 8, 6, 6) l_pad: (None, 8, 7, 7) nd1: 2 l_pad: (None, 16, 11, 11)\n",
      "layer i have right now: conv1 layer before incoming: input\n",
      "l_pool: (None, 3, 14, 14) l_pad: (None, 3, 14, 14) nd1: 6 l_pad: (None, 8, 26, 26)\n",
      "layer i have right now: pool1 layer before incoming: sd_conv1\n",
      "l_pool: (None, 8, 13, 13) l_pad: (None, 8, 13, 13) nd1: 0 l_pad: (None, 8, 13, 13)\n",
      "layer i have right now: conv1 layer before incoming: input\n",
      "l_pool: (None, 3, 14, 14) l_pad: (None, 3, 14, 14) nd1: 6 l_pad: (None, 8, 26, 26)\n",
      "layer i have right now: conv3 layer before incoming: sd_mp2\n",
      "l_pool: (None, 16, 2, 2) l_pad: (None, 16, 3, 3) nd1: 0 l_pad: (None, 32, 3, 3)\n",
      "layer i have right now: conv1 layer before incoming: input\n",
      "l_pool: (None, 3, 14, 14) l_pad: (None, 3, 14, 14) nd1: 6 l_pad: (None, 8, 26, 26)\n",
      "layer i have right now: pool1 layer before incoming: sd_conv1\n",
      "l_pool: (None, 8, 13, 13) l_pad: (None, 8, 13, 13) nd1: 0 l_pad: (None, 8, 13, 13)\n",
      "layer i have right now: conv1 layer before incoming: input\n",
      "l_pool: (None, 3, 14, 14) l_pad: (None, 3, 14, 14) nd1: 6 l_pad: (None, 8, 26, 26)\n",
      "layer i have right now: conv2 layer before incoming: sd_mp1\n",
      "l_pool: (None, 8, 6, 6) l_pad: (None, 8, 7, 7) nd1: 2 l_pad: (None, 16, 11, 11)\n",
      "layer i have right now: conv1 layer before incoming: input\n",
      "l_pool: (None, 3, 14, 14) l_pad: (None, 3, 14, 14) nd1: 6 l_pad: (None, 8, 26, 26)\n",
      "layer i have right now: pool1 layer before incoming: sd_conv1\n",
      "l_pool: (None, 8, 13, 13) l_pad: (None, 8, 13, 13) nd1: 0 l_pad: (None, 8, 13, 13)\n",
      "layer i have right now: conv1 layer before incoming: input\n",
      "l_pool: (None, 3, 14, 14) l_pad: (None, 3, 14, 14) nd1: 6 l_pad: (None, 8, 26, 26)\n",
      "layer i have right now: pool2 layer before incoming: sd_conv2\n",
      "l_pool: (None, 16, 5, 5) l_pad: (None, 16, 5, 5) nd1: 0 l_pad: (None, 16, 5, 5)\n",
      "layer i have right now: conv1 layer before incoming: input\n",
      "l_pool: (None, 3, 14, 14) l_pad: (None, 3, 14, 14) nd1: 6 l_pad: (None, 8, 26, 26)\n",
      "layer i have right now: pool1 layer before incoming: sd_conv1\n",
      "l_pool: (None, 8, 13, 13) l_pad: (None, 8, 13, 13) nd1: 0 l_pad: (None, 8, 13, 13)\n",
      "layer i have right now: conv1 layer before incoming: input\n",
      "l_pool: (None, 3, 14, 14) l_pad: (None, 3, 14, 14) nd1: 6 l_pad: (None, 8, 26, 26)\n",
      "layer i have right now: conv2 layer before incoming: sd_mp1\n",
      "l_pool: (None, 8, 6, 6) l_pad: (None, 8, 7, 7) nd1: 2 l_pad: (None, 16, 11, 11)\n",
      "layer i have right now: conv1 layer before incoming: input\n",
      "l_pool: (None, 3, 14, 14) l_pad: (None, 3, 14, 14) nd1: 6 l_pad: (None, 8, 26, 26)\n",
      "layer i have right now: pool1 layer before incoming: sd_conv1\n",
      "l_pool: (None, 8, 13, 13) l_pad: (None, 8, 13, 13) nd1: 0 l_pad: (None, 8, 13, 13)\n",
      "layer i have right now: conv1 layer before incoming: input\n",
      "l_pool: (None, 3, 14, 14) l_pad: (None, 3, 14, 14) nd1: 6 l_pad: (None, 8, 26, 26)\n"
     ]
    },
    {
     "ename": "MissingInputError",
     "evalue": "(\"An input of the graph, used to compute Pool{ds=(2, 2), ignore_border=True, st=(2, 2), padding=(0, 0), mode='average_inc_pad'}(input.input), was not provided and not given a value.Use the Theano flag exception_verbosity='high',for more information on this error.\", input.input)",
     "output_type": "error",
     "traceback": [
      "\u001b[0;31m---------------------------------------------------------------------------\u001b[0m",
      "\u001b[0;31mMissingInputError\u001b[0m                         Traceback (most recent call last)",
      "\u001b[0;32m<ipython-input-616-03697fd5cbc5>\u001b[0m in \u001b[0;36m<module>\u001b[0;34m()\u001b[0m\n\u001b[0;32m----> 1\u001b[0;31m \u001b[0mfn_test\u001b[0m \u001b[0;34m=\u001b[0m \u001b[0mtheano\u001b[0m\u001b[0;34m.\u001b[0m\u001b[0mfunction\u001b[0m\u001b[0;34m(\u001b[0m\u001b[0;34m[\u001b[0m\u001b[0mX\u001b[0m\u001b[0;34m]\u001b[0m\u001b[0;34m,\u001b[0m \u001b[0mget_output\u001b[0m\u001b[0;34m(\u001b[0m\u001b[0ml_out\u001b[0m\u001b[0;34m,\u001b[0m \u001b[0mX\u001b[0m\u001b[0;34m)\u001b[0m\u001b[0;34m)\u001b[0m\u001b[0;34m\u001b[0m\u001b[0m\n\u001b[0m",
      "\u001b[0;32m//anaconda/lib/python2.7/site-packages/Theano-0.8.0.dev0-py2.7.egg/theano/compile/function.pyc\u001b[0m in \u001b[0;36mfunction\u001b[0;34m(inputs, outputs, mode, updates, givens, no_default_updates, accept_inplace, name, rebuild_strict, allow_input_downcast, profile, on_unused_input)\u001b[0m\n\u001b[1;32m    315\u001b[0m                    \u001b[0mon_unused_input\u001b[0m\u001b[0;34m=\u001b[0m\u001b[0mon_unused_input\u001b[0m\u001b[0;34m,\u001b[0m\u001b[0;34m\u001b[0m\u001b[0m\n\u001b[1;32m    316\u001b[0m                    \u001b[0mprofile\u001b[0m\u001b[0;34m=\u001b[0m\u001b[0mprofile\u001b[0m\u001b[0;34m,\u001b[0m\u001b[0;34m\u001b[0m\u001b[0m\n\u001b[0;32m--> 317\u001b[0;31m                    output_keys=output_keys)\n\u001b[0m\u001b[1;32m    318\u001b[0m     \u001b[0;31m# We need to add the flag check_aliased inputs if we have any mutable or\u001b[0m\u001b[0;34m\u001b[0m\u001b[0;34m\u001b[0m\u001b[0m\n\u001b[1;32m    319\u001b[0m     \u001b[0;31m# borrowed used defined inputs\u001b[0m\u001b[0;34m\u001b[0m\u001b[0;34m\u001b[0m\u001b[0m\n",
      "\u001b[0;32m//anaconda/lib/python2.7/site-packages/Theano-0.8.0.dev0-py2.7.egg/theano/compile/pfunc.pyc\u001b[0m in \u001b[0;36mpfunc\u001b[0;34m(params, outputs, mode, updates, givens, no_default_updates, accept_inplace, name, rebuild_strict, allow_input_downcast, profile, on_unused_input, output_keys)\u001b[0m\n\u001b[1;32m    477\u001b[0m                          \u001b[0maccept_inplace\u001b[0m\u001b[0;34m=\u001b[0m\u001b[0maccept_inplace\u001b[0m\u001b[0;34m,\u001b[0m \u001b[0mname\u001b[0m\u001b[0;34m=\u001b[0m\u001b[0mname\u001b[0m\u001b[0;34m,\u001b[0m\u001b[0;34m\u001b[0m\u001b[0m\n\u001b[1;32m    478\u001b[0m                          \u001b[0mprofile\u001b[0m\u001b[0;34m=\u001b[0m\u001b[0mprofile\u001b[0m\u001b[0;34m,\u001b[0m \u001b[0mon_unused_input\u001b[0m\u001b[0;34m=\u001b[0m\u001b[0mon_unused_input\u001b[0m\u001b[0;34m,\u001b[0m\u001b[0;34m\u001b[0m\u001b[0m\n\u001b[0;32m--> 479\u001b[0;31m                          output_keys=output_keys)\n\u001b[0m\u001b[1;32m    480\u001b[0m \u001b[0;34m\u001b[0m\u001b[0m\n\u001b[1;32m    481\u001b[0m \u001b[0;34m\u001b[0m\u001b[0m\n",
      "\u001b[0;32m//anaconda/lib/python2.7/site-packages/Theano-0.8.0.dev0-py2.7.egg/theano/compile/function_module.pyc\u001b[0m in \u001b[0;36morig_function\u001b[0;34m(inputs, outputs, mode, accept_inplace, name, profile, on_unused_input, output_keys)\u001b[0m\n\u001b[1;32m   1769\u001b[0m                    \u001b[0mprofile\u001b[0m\u001b[0;34m=\u001b[0m\u001b[0mprofile\u001b[0m\u001b[0;34m,\u001b[0m\u001b[0;34m\u001b[0m\u001b[0m\n\u001b[1;32m   1770\u001b[0m                    \u001b[0mon_unused_input\u001b[0m\u001b[0;34m=\u001b[0m\u001b[0mon_unused_input\u001b[0m\u001b[0;34m,\u001b[0m\u001b[0;34m\u001b[0m\u001b[0m\n\u001b[0;32m-> 1771\u001b[0;31m                    \u001b[0moutput_keys\u001b[0m\u001b[0;34m=\u001b[0m\u001b[0moutput_keys\u001b[0m\u001b[0;34m)\u001b[0m\u001b[0;34m.\u001b[0m\u001b[0mcreate\u001b[0m\u001b[0;34m(\u001b[0m\u001b[0;34m\u001b[0m\u001b[0m\n\u001b[0m\u001b[1;32m   1772\u001b[0m             defaults)\n\u001b[1;32m   1773\u001b[0m \u001b[0;34m\u001b[0m\u001b[0m\n",
      "\u001b[0;32m//anaconda/lib/python2.7/site-packages/Theano-0.8.0.dev0-py2.7.egg/theano/compile/function_module.pyc\u001b[0m in \u001b[0;36m__init__\u001b[0;34m(self, inputs, outputs, mode, accept_inplace, function_builder, profile, on_unused_input, fgraph, output_keys)\u001b[0m\n\u001b[1;32m   1421\u001b[0m             \u001b[0;31m# OUTPUT VARIABLES)\u001b[0m\u001b[0;34m\u001b[0m\u001b[0;34m\u001b[0m\u001b[0m\n\u001b[1;32m   1422\u001b[0m             fgraph, additional_outputs = std_fgraph(inputs, outputs,\n\u001b[0;32m-> 1423\u001b[0;31m                                                     accept_inplace)\n\u001b[0m\u001b[1;32m   1424\u001b[0m             \u001b[0mfgraph\u001b[0m\u001b[0;34m.\u001b[0m\u001b[0mprofile\u001b[0m \u001b[0;34m=\u001b[0m \u001b[0mprofile\u001b[0m\u001b[0;34m\u001b[0m\u001b[0m\n\u001b[1;32m   1425\u001b[0m         \u001b[0;32melse\u001b[0m\u001b[0;34m:\u001b[0m\u001b[0;34m\u001b[0m\u001b[0m\n",
      "\u001b[0;32m//anaconda/lib/python2.7/site-packages/Theano-0.8.0.dev0-py2.7.egg/theano/compile/function_module.pyc\u001b[0m in \u001b[0;36mstd_fgraph\u001b[0;34m(input_specs, output_specs, accept_inplace)\u001b[0m\n\u001b[1;32m    175\u001b[0m \u001b[0;34m\u001b[0m\u001b[0m\n\u001b[1;32m    176\u001b[0m     fgraph = gof.fg.FunctionGraph(orig_inputs, orig_outputs,\n\u001b[0;32m--> 177\u001b[0;31m                                   update_mapping=update_mapping)\n\u001b[0m\u001b[1;32m    178\u001b[0m \u001b[0;34m\u001b[0m\u001b[0m\n\u001b[1;32m    179\u001b[0m     \u001b[0;32mfor\u001b[0m \u001b[0mnode\u001b[0m \u001b[0;32min\u001b[0m \u001b[0mfgraph\u001b[0m\u001b[0;34m.\u001b[0m\u001b[0mapply_nodes\u001b[0m\u001b[0;34m:\u001b[0m\u001b[0;34m\u001b[0m\u001b[0m\n",
      "\u001b[0;32m//anaconda/lib/python2.7/site-packages/Theano-0.8.0.dev0-py2.7.egg/theano/gof/fg.pyc\u001b[0m in \u001b[0;36m__init__\u001b[0;34m(self, inputs, outputs, features, clone, update_mapping)\u001b[0m\n\u001b[1;32m    169\u001b[0m \u001b[0;34m\u001b[0m\u001b[0m\n\u001b[1;32m    170\u001b[0m         \u001b[0;32mfor\u001b[0m \u001b[0moutput\u001b[0m \u001b[0;32min\u001b[0m \u001b[0moutputs\u001b[0m\u001b[0;34m:\u001b[0m\u001b[0;34m\u001b[0m\u001b[0m\n\u001b[0;32m--> 171\u001b[0;31m             \u001b[0mself\u001b[0m\u001b[0;34m.\u001b[0m\u001b[0m__import_r__\u001b[0m\u001b[0;34m(\u001b[0m\u001b[0moutput\u001b[0m\u001b[0;34m,\u001b[0m \u001b[0mreason\u001b[0m\u001b[0;34m=\u001b[0m\u001b[0;34m\"init\"\u001b[0m\u001b[0;34m)\u001b[0m\u001b[0;34m\u001b[0m\u001b[0m\n\u001b[0m\u001b[1;32m    172\u001b[0m         \u001b[0;32mfor\u001b[0m \u001b[0mi\u001b[0m\u001b[0;34m,\u001b[0m \u001b[0moutput\u001b[0m \u001b[0;32min\u001b[0m \u001b[0menumerate\u001b[0m\u001b[0;34m(\u001b[0m\u001b[0moutputs\u001b[0m\u001b[0;34m)\u001b[0m\u001b[0;34m:\u001b[0m\u001b[0;34m\u001b[0m\u001b[0m\n\u001b[1;32m    173\u001b[0m             \u001b[0moutput\u001b[0m\u001b[0;34m.\u001b[0m\u001b[0mclients\u001b[0m\u001b[0;34m.\u001b[0m\u001b[0mappend\u001b[0m\u001b[0;34m(\u001b[0m\u001b[0;34m(\u001b[0m\u001b[0;34m'output'\u001b[0m\u001b[0;34m,\u001b[0m \u001b[0mi\u001b[0m\u001b[0;34m)\u001b[0m\u001b[0;34m)\u001b[0m\u001b[0;34m\u001b[0m\u001b[0m\n",
      "\u001b[0;32m//anaconda/lib/python2.7/site-packages/Theano-0.8.0.dev0-py2.7.egg/theano/gof/fg.pyc\u001b[0m in \u001b[0;36m__import_r__\u001b[0;34m(self, variable, reason)\u001b[0m\n\u001b[1;32m    361\u001b[0m         \u001b[0;31m# Imports the owners of the variables\u001b[0m\u001b[0;34m\u001b[0m\u001b[0;34m\u001b[0m\u001b[0m\n\u001b[1;32m    362\u001b[0m         \u001b[0;32mif\u001b[0m \u001b[0mvariable\u001b[0m\u001b[0;34m.\u001b[0m\u001b[0mowner\u001b[0m \u001b[0;32mand\u001b[0m \u001b[0mvariable\u001b[0m\u001b[0;34m.\u001b[0m\u001b[0mowner\u001b[0m \u001b[0;32mnot\u001b[0m \u001b[0;32min\u001b[0m \u001b[0mself\u001b[0m\u001b[0;34m.\u001b[0m\u001b[0mapply_nodes\u001b[0m\u001b[0;34m:\u001b[0m\u001b[0;34m\u001b[0m\u001b[0m\n\u001b[0;32m--> 363\u001b[0;31m                 \u001b[0mself\u001b[0m\u001b[0;34m.\u001b[0m\u001b[0m__import__\u001b[0m\u001b[0;34m(\u001b[0m\u001b[0mvariable\u001b[0m\u001b[0;34m.\u001b[0m\u001b[0mowner\u001b[0m\u001b[0;34m,\u001b[0m \u001b[0mreason\u001b[0m\u001b[0;34m=\u001b[0m\u001b[0mreason\u001b[0m\u001b[0;34m)\u001b[0m\u001b[0;34m\u001b[0m\u001b[0m\n\u001b[0m\u001b[1;32m    364\u001b[0m         if (variable.owner is None and\n\u001b[1;32m    365\u001b[0m                 \u001b[0;32mnot\u001b[0m \u001b[0misinstance\u001b[0m\u001b[0;34m(\u001b[0m\u001b[0mvariable\u001b[0m\u001b[0;34m,\u001b[0m \u001b[0mgraph\u001b[0m\u001b[0;34m.\u001b[0m\u001b[0mConstant\u001b[0m\u001b[0;34m)\u001b[0m \u001b[0;32mand\u001b[0m\u001b[0;34m\u001b[0m\u001b[0m\n",
      "\u001b[0;32m//anaconda/lib/python2.7/site-packages/Theano-0.8.0.dev0-py2.7.egg/theano/gof/fg.pyc\u001b[0m in \u001b[0;36m__import__\u001b[0;34m(self, apply_node, check, reason)\u001b[0m\n\u001b[1;32m    475\u001b[0m                             \u001b[0;34m\"for more information on this error.\"\u001b[0m\u001b[0;34m\u001b[0m\u001b[0m\n\u001b[1;32m    476\u001b[0m                             % str(node)),\n\u001b[0;32m--> 477\u001b[0;31m                             r)\n\u001b[0m\u001b[1;32m    478\u001b[0m \u001b[0;34m\u001b[0m\u001b[0m\n\u001b[1;32m    479\u001b[0m         \u001b[0;32mfor\u001b[0m \u001b[0mnode\u001b[0m \u001b[0;32min\u001b[0m \u001b[0mnew_nodes\u001b[0m\u001b[0;34m:\u001b[0m\u001b[0;34m\u001b[0m\u001b[0m\n",
      "\u001b[0;31mMissingInputError\u001b[0m: (\"An input of the graph, used to compute Pool{ds=(2, 2), ignore_border=True, st=(2, 2), padding=(0, 0), mode='average_inc_pad'}(input.input), was not provided and not given a value.Use the Theano flag exception_verbosity='high',for more information on this error.\", input.input)"
     ]
    }
   ],
   "source": [
    "fn_test = theano.function([X], get_output(l_out, X))"
   ]
  },
  {
   "cell_type": "code",
   "execution_count": 617,
   "metadata": {
    "collapsed": false
   },
   "outputs": [
    {
     "data": {
      "text/plain": [
       "(10, 10)"
      ]
     },
     "execution_count": 617,
     "metadata": {},
     "output_type": "execute_result"
    }
   ],
   "source": [
    "fn_test( np.ones((10, 3, 28, 28) ) ).shape"
   ]
  },
  {
   "cell_type": "code",
   "execution_count": 608,
   "metadata": {
    "collapsed": false
   },
   "outputs": [
    {
     "data": {
      "text/plain": [
       "0"
      ]
     },
     "execution_count": 608,
     "metadata": {},
     "output_type": "execute_result"
    }
   ],
   "source": [
    "np.sum(np.isnan( np.ones((10, 3, 28, 28) ) ))"
   ]
  },
  {
   "cell_type": "code",
   "execution_count": 594,
   "metadata": {
    "collapsed": false
   },
   "outputs": [
    {
     "name": "stderr",
     "output_type": "stream",
     "text": [
      "loading mnist...\n"
     ]
    }
   ],
   "source": [
    "sys.stderr.write(\"loading mnist...\\n\")\n",
    "train_data, valid_data, _ = hp.load_mnist(\"../../data/mnist.pkl.gz\")"
   ]
  },
  {
   "cell_type": "code",
   "execution_count": 595,
   "metadata": {
    "collapsed": true
   },
   "outputs": [],
   "source": [
    "X_train, y_train = train_data"
   ]
  },
  {
   "cell_type": "code",
   "execution_count": 596,
   "metadata": {
    "collapsed": true
   },
   "outputs": [],
   "source": [
    "X_train_subset = X_train[0:200]\n",
    "y_train_subset = y_train[0:200]"
   ]
  },
  {
   "cell_type": "code",
   "execution_count": null,
   "metadata": {
    "collapsed": false
   },
   "outputs": [
    {
     "name": "stdout",
     "output_type": "stream",
     "text": [
      "layer i have right now: conv1 layer before incoming: input\n",
      "l_pool: (None, 3, 14, 14) l_pad: (None, 3, 14, 14) nd1: 6 l_pad: (None, 8, 26, 26)\n",
      "layer i have right now: pool1 layer before incoming: sd_conv1\n",
      "l_pool: (None, 8, 13, 13) l_pad: (None, 8, 13, 13) nd1: 0 l_pad: (None, 8, 13, 13)\n",
      "layer i have right now: conv1 layer before incoming: input\n",
      "l_pool: (None, 3, 14, 14) l_pad: (None, 3, 14, 14) nd1: 6 l_pad: (None, 8, 26, 26)\n",
      "layer i have right now: conv2 layer before incoming: sd_mp1\n",
      "l_pool: (None, 8, 6, 6) l_pad: (None, 8, 7, 7) nd1: 2 l_pad: (None, 16, 11, 11)\n",
      "layer i have right now: conv1 layer before incoming: input\n",
      "l_pool: (None, 3, 14, 14) l_pad: (None, 3, 14, 14) nd1: 6 l_pad: (None, 8, 26, 26)\n",
      "layer i have right now: pool1 layer before incoming: sd_conv1\n",
      "l_pool: (None, 8, 13, 13) l_pad: (None, 8, 13, 13) nd1: 0 l_pad: (None, 8, 13, 13)\n",
      "layer i have right now: conv1 layer before incoming: input\n",
      "l_pool: (None, 3, 14, 14) l_pad: (None, 3, 14, 14) nd1: 6 l_pad: (None, 8, 26, 26)\n",
      "layer i have right now: pool2 layer before incoming: sd_conv2\n",
      "l_pool: (None, 16, 5, 5) l_pad: (None, 16, 5, 5) nd1: 0 l_pad: (None, 16, 5, 5)\n",
      "layer i have right now: conv1 layer before incoming: input\n",
      "l_pool: (None, 3, 14, 14) l_pad: (None, 3, 14, 14) nd1: 6 l_pad: (None, 8, 26, 26)\n",
      "layer i have right now: pool1 layer before incoming: sd_conv1\n",
      "l_pool: (None, 8, 13, 13) l_pad: (None, 8, 13, 13) nd1: 0 l_pad: (None, 8, 13, 13)\n",
      "layer i have right now: conv1 layer before incoming: input\n",
      "l_pool: (None, 3, 14, 14) l_pad: (None, 3, 14, 14) nd1: 6 l_pad: (None, 8, 26, 26)\n",
      "layer i have right now: conv2 layer before incoming: sd_mp1\n",
      "l_pool: (None, 8, 6, 6) l_pad: (None, 8, 7, 7) nd1: 2 l_pad: (None, 16, 11, 11)\n",
      "layer i have right now: conv1 layer before incoming: input\n",
      "l_pool: (None, 3, 14, 14) l_pad: (None, 3, 14, 14) nd1: 6 l_pad: (None, 8, 26, 26)\n",
      "layer i have right now: pool1 layer before incoming: sd_conv1\n",
      "l_pool: (None, 8, 13, 13) l_pad: (None, 8, 13, 13) nd1: 0 l_pad: (None, 8, 13, 13)\n",
      "layer i have right now: conv1 layer before incoming: input\n",
      "l_pool: (None, 3, 14, 14) l_pad: (None, 3, 14, 14) nd1: 6 l_pad: (None, 8, 26, 26)\n",
      "layer i have right now: conv3 layer before incoming: sd_mp2\n",
      "l_pool: (None, 16, 2, 2) l_pad: (None, 16, 3, 3) nd1: 0 l_pad: (None, 32, 3, 3)\n",
      "layer i have right now: conv1 layer before incoming: input\n",
      "l_pool: (None, 3, 14, 14) l_pad: (None, 3, 14, 14) nd1: 6 l_pad: (None, 8, 26, 26)\n",
      "layer i have right now: pool1 layer before incoming: sd_conv1\n",
      "l_pool: (None, 8, 13, 13) l_pad: (None, 8, 13, 13) nd1: 0 l_pad: (None, 8, 13, 13)\n",
      "layer i have right now: conv1 layer before incoming: input\n",
      "l_pool: (None, 3, 14, 14) l_pad: (None, 3, 14, 14) nd1: 6 l_pad: (None, 8, 26, 26)\n",
      "layer i have right now: conv2 layer before incoming: sd_mp1\n",
      "l_pool: (None, 8, 6, 6) l_pad: (None, 8, 7, 7) nd1: 2 l_pad: (None, 16, 11, 11)\n",
      "layer i have right now: conv1 layer before incoming: input\n",
      "l_pool: (None, 3, 14, 14) l_pad: (None, 3, 14, 14) nd1: 6 l_pad: (None, 8, 26, 26)\n",
      "layer i have right now: pool1 layer before incoming: sd_conv1\n",
      "l_pool: (None, 8, 13, 13) l_pad: (None, 8, 13, 13) nd1: 0 l_pad: (None, 8, 13, 13)\n",
      "layer i have right now: conv1 layer before incoming: input\n",
      "l_pool: (None, 3, 14, 14) l_pad: (None, 3, 14, 14) nd1: 6 l_pad: (None, 8, 26, 26)\n",
      "layer i have right now: pool2 layer before incoming: sd_conv2\n",
      "l_pool: (None, 16, 5, 5) l_pad: (None, 16, 5, 5) nd1: 0 l_pad: (None, 16, 5, 5)\n",
      "layer i have right now: conv1 layer before incoming: input\n",
      "l_pool: (None, 3, 14, 14) l_pad: (None, 3, 14, 14) nd1: 6 l_pad: (None, 8, 26, 26)\n",
      "layer i have right now: pool1 layer before incoming: sd_conv1\n",
      "l_pool: (None, 8, 13, 13) l_pad: (None, 8, 13, 13) nd1: 0 l_pad: (None, 8, 13, 13)\n",
      "layer i have right now: conv1 layer before incoming: input\n",
      "l_pool: (None, 3, 14, 14) l_pad: (None, 3, 14, 14) nd1: 6 l_pad: (None, 8, 26, 26)\n",
      "layer i have right now: conv2 layer before incoming: sd_mp1\n",
      "l_pool: (None, 8, 6, 6) l_pad: (None, 8, 7, 7) nd1: 2 l_pad: (None, 16, 11, 11)\n",
      "layer i have right now: conv1 layer before incoming: input\n",
      "l_pool: (None, 3, 14, 14) l_pad: (None, 3, 14, 14) nd1: 6 l_pad: (None, 8, 26, 26)\n",
      "layer i have right now: pool1"
     ]
    }
   ],
   "source": [
    "X = l_in.input_var\n",
    "y = T.ivector('y')\n",
    "\n",
    "\n",
    "net_out = get_output(l_out, X)\n",
    "loss = categorical_crossentropy(net_out, y).mean()\n",
    "params = get_all_params(l_out, trainable=True)\n",
    "grads = T.grad(loss, params)\n",
    "updates = nesterov_momentum(grads, params, learning_rate=0.01, momentum=0.9)\n",
    "train_fn = theano.function(inputs=[X, y], outputs=loss, updates=updates)\n"
   ]
  },
  {
   "cell_type": "code",
   "execution_count": null,
   "metadata": {
    "collapsed": true
   },
   "outputs": [],
   "source": []
  }
 ],
 "metadata": {
  "kernelspec": {
   "display_name": "Python 2",
   "language": "python",
   "name": "python2"
  },
  "language_info": {
   "codemirror_mode": {
    "name": "ipython",
    "version": 2
   },
   "file_extension": ".py",
   "mimetype": "text/x-python",
   "name": "python",
   "nbconvert_exporter": "python",
   "pygments_lexer": "ipython2",
   "version": "2.7.11"
  }
 },
 "nbformat": 4,
 "nbformat_minor": 0
}
