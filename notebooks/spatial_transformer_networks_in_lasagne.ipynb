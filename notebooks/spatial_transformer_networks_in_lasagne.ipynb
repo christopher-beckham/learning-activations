{
 "cells": [
  {
   "cell_type": "code",
   "execution_count": 154,
   "metadata": {
    "collapsed": false
   },
   "outputs": [],
   "source": [
    "import sys\n",
    "import cPickle as pickle\n",
    "import gzip\n",
    "from matplotlib import pyplot as plt\n",
    "%matplotlib inline\n",
    "sys.path.append(\"../modules/\")\n",
    "import helper\n",
    "# ----\n",
    "import theano\n",
    "from theano import tensor as T\n",
    "import lasagne\n",
    "import numpy as np\n",
    "np.random.seed(0)"
   ]
  },
  {
   "cell_type": "code",
   "execution_count": 33,
   "metadata": {
    "collapsed": false
   },
   "outputs": [],
   "source": [
    "train_set, _, _ = helper.load_mnist()"
   ]
  },
  {
   "cell_type": "code",
   "execution_count": 34,
   "metadata": {
    "collapsed": false
   },
   "outputs": [],
   "source": [
    "Xt, yt = train_set"
   ]
  },
  {
   "cell_type": "code",
   "execution_count": 37,
   "metadata": {
    "collapsed": false
   },
   "outputs": [
    {
     "data": {
      "image/png": "[encoded data removed]",
      "text/plain": [
       "<matplotlib.figure.Figure at 0x1071e7bd0>"
      ]
     },
     "metadata": {},
     "output_type": "display_data"
    }
   ],
   "source": [
    "plt.imshow(Xt[0,0], interpolation='nearest', vmin=0, vmax=1, cmap='Greys')\n",
    "plt.show()"
   ]
  },
  {
   "cell_type": "code",
   "execution_count": 116,
   "metadata": {
    "collapsed": false
   },
   "outputs": [],
   "source": [
    "theta_vector = theano.shared( np.zeros((2, 3), dtype='float32').flatten() )"
   ]
  },
  {
   "cell_type": "code",
   "execution_count": 117,
   "metadata": {
    "collapsed": false
   },
   "outputs": [],
   "source": [
    "W = lasagne.init.Constant(0.0)\n",
    "l_in = lasagne.layers.InputLayer((None, 1, 28, 28))\n",
    "l_loc = lasagne.layers.DenseLayer(l_in, num_units=6, W=W, b=theta_vector, nonlinearity=None)\n",
    "l_trans = lasagne.layers.TransformerLayer(l_in, l_loc)\n",
    "X = T.tensor4('x')\n",
    "get_out = theano.function([X], lasagne.layers.get_output(l_trans, X))"
   ]
  },
  {
   "cell_type": "code",
   "execution_count": 150,
   "metadata": {
    "collapsed": true
   },
   "outputs": [],
   "source": [
    "b = np.zeros((2, 3), dtype='float32')\n",
    "zoom_thetas = [ (0,0), (1,1) ]\n",
    "skew_thetas = [ (1,0), (0,1) ]\n",
    "b[ zoom_thetas[0] ] = 1 # zoom factor on x axis (smaller = bigger zoom)\n",
    "b[ zoom_thetas[1] ] = 1 # zoom factor on y axis (smaller = bigger zoom)\n",
    "b[ skew_thetas[0] ] = 0 # skew factor on y axis (bigger = bigger skew)\n",
    "b[ skew_thetas[1] ] = 0 # skew factor on x axis\n",
    "b = b.flatten()\n",
    "theta_vector.set_value(b)"
   ]
  },
  {
   "cell_type": "code",
   "execution_count": 151,
   "metadata": {
    "collapsed": false
   },
   "outputs": [
    {
     "data": {
      "image/png": "[encoded data removed]",
      "text/plain": [
       "<matplotlib.figure.Figure at 0x110000f50>"
      ]
     },
     "metadata": {},
     "output_type": "display_data"
    }
   ],
   "source": [
    "plt.imshow(get_out(Xt[0:1])[0,0], interpolation='nearest', vmin=0, vmax=1, cmap='Greys')\n",
    "plt.show()"
   ]
  },
  {
   "cell_type": "code",
   "execution_count": 155,
   "metadata": {
    "collapsed": false
   },
   "outputs": [],
   "source": [
    "def random_transform():\n",
    "    b = np.zeros((2, 3), dtype='float32')\n",
    "    zoom_thetas = [ (0,0), (1,1) ]\n",
    "    skew_thetas = [ (1,0), (0,1) ]\n",
    "    b[ zoom_thetas[0] ] = np.random.normal()\n",
    "    b[ zoom_thetas[1] ] = np.random.normal()\n",
    "    b[ skew_thetas[0] ] = np.random.normal()\n",
    "    b[ skew_thetas[1] ] = np.random.normal()\n",
    "    b = b.flatten()\n",
    "    return b"
   ]
  },
  {
   "cell_type": "code",
   "execution_count": 171,
   "metadata": {
    "collapsed": false
   },
   "outputs": [
    {
     "data": {
      "image/png": "[encoded data removed]",
      "text/plain": [
       "<matplotlib.figure.Figure at 0x107ac5bd0>"
      ]
     },
     "metadata": {},
     "output_type": "display_data"
    }
   ],
   "source": [
    "theta_vector.set_value( random_transform() )\n",
    "plt.imshow(get_out(Xt[0:1])[0,0], interpolation='nearest', vmin=0, vmax=1, cmap='Greys')\n",
    "plt.show()"
   ]
  },
  {
   "cell_type": "code",
   "execution_count": null,
   "metadata": {
    "collapsed": true
   },
   "outputs": [],
   "source": []
  }
 ],
 "metadata": {
  "kernelspec": {
   "display_name": "Python 2",
   "language": "python",
   "name": "python2"
  },
  "language_info": {
   "codemirror_mode": {
    "name": "ipython",
    "version": 2
   },
   "file_extension": ".py",
   "mimetype": "text/x-python",
   "name": "python",
   "nbconvert_exporter": "python",
   "pygments_lexer": "ipython2",
   "version": "2.7.10"
  }
 },
 "nbformat": 4,
 "nbformat_minor": 0
}
