{
 "cells": [
  {
   "cell_type": "code",
   "execution_count": 3,
   "metadata": {
    "collapsed": true
   },
   "outputs": [],
   "source": [
    "import theano\n",
    "from theano import tensor as T\n",
    "import numpy as np"
   ]
  },
  {
   "cell_type": "code",
   "execution_count": 4,
   "metadata": {
    "collapsed": false
   },
   "outputs": [],
   "source": [
    "x, t = theano.tensor.fvector('x'), theano.tensor.fvector('t')\n",
    "w1 = theano.shared(np.random.randn(3,4))\n",
    "w2 = theano.shared(np.random.randn(4,2))\n",
    "a1 = theano.tensor.tanh(theano.tensor.dot(x,w1))\n",
    "a2 = theano.tensor.tanh(theano.tensor.dot(a1,w2))\n",
    "cost2 = theano.tensor.sqr(a2 - t).sum()\n",
    "cost2 += theano.tensor.sqr(w2.sum())\n",
    "cost1 = theano.tensor.sqr(w1.sum())\n",
    "\n",
    "params = [[w2],[w1]]\n",
    "costs = [cost2,cost1]\n",
    "grad_ends = [[a1], [x]]\n",
    "\n",
    "next_grad = None\n",
    "param_grads = []\n",
    "for i in xrange(2):\n",
    "    param_grad, next_grad = theano.subgraph_grad(\n",
    "        wrt=params[i], end=grad_ends[i],\n",
    "        start=next_grad, cost=costs[i]\n",
    "    )\n",
    "    next_grad = dict(zip(grad_ends[i], next_grad))\n",
    "    param_grads.extend(param_grad)"
   ]
  },
  {
   "cell_type": "code",
   "execution_count": 24,
   "metadata": {
    "collapsed": false
   },
   "outputs": [
    {
     "data": {
      "text/plain": [
       "[dot.0, Elemwise{mul}.0, dot.0, dot.0, Elemwise{add,no_inplace}.0]"
      ]
     },
     "execution_count": 24,
     "metadata": {},
     "output_type": "execute_result"
    }
   ],
   "source": [
    "theano.gradient.subgraph_grad(cost=cost2, wrt=[x,a2,a1,w1,w2], end=[x])[0]"
   ]
  },
  {
   "cell_type": "code",
   "execution_count": 30,
   "metadata": {
    "collapsed": false
   },
   "outputs": [
    {
     "data": {
      "text/plain": [
       "for{cpu,scan_fn}.0"
      ]
     },
     "execution_count": 30,
     "metadata": {},
     "output_type": "execute_result"
    }
   ],
   "source": [
    "theano.gradient.jacobian(a1, x)"
   ]
  },
  {
   "cell_type": "code",
   "execution_count": 31,
   "metadata": {
    "collapsed": true
   },
   "outputs": [],
   "source": [
    "?np.unravel_index"
   ]
  },
  {
   "cell_type": "code",
   "execution_count": 44,
   "metadata": {
    "collapsed": false
   },
   "outputs": [
    {
     "data": {
      "text/plain": [
       "array([[ 0.68621583,  0.06329717,  0.46359387, -0.38076799, -0.75463858,\n",
       "         0.10291292, -0.31769141,  0.35705752,  0.24202654,  0.61434808],\n",
       "       [-0.27121905, -0.54917728,  0.91297449,  0.91426071, -0.09469437,\n",
       "         0.61196261, -1.10817158, -0.74085188,  0.15035303, -0.88167935],\n",
       "       [-0.155116  ,  1.19416548, -0.18752311,  2.78366355, -0.38795102,\n",
       "        -0.57534937,  1.89406207,  0.90448865,  0.67881436,  1.01477812],\n",
       "       [-0.45017513, -0.85712732,  0.16203129,  1.38079164,  1.55089171,\n",
       "        -0.83461094,  0.52694038, -0.83455186, -0.27045018, -0.74915098],\n",
       "       [ 0.98305828, -0.60878438,  0.03143526,  0.59182847,  0.27395933,\n",
       "         0.23360785, -0.64926788, -1.65566081,  0.76190322,  0.9489948 ],\n",
       "       [-0.94908998, -0.1148407 ,  0.33920974, -0.95584536,  0.73065948,\n",
       "        -0.43567066, -1.49250593, -0.52756355, -0.36759087,  0.12945069],\n",
       "       [ 2.2590641 ,  1.32616584, -0.47128037,  1.09893364, -2.25914435,\n",
       "         0.06003005, -1.39977139,  0.08518377,  1.09161668, -0.67159048],\n",
       "       [ 0.29740175, -1.56112946, -0.94871078,  0.41163871,  1.03011371,\n",
       "         0.5750207 ,  0.37877306, -1.91930851,  1.20884909, -1.92068301],\n",
       "       [ 0.6946979 , -0.09780754, -0.01465644,  1.79387489, -0.98783127,\n",
       "        -0.94295151,  1.19698636, -0.21499122,  0.19930718, -0.83681127],\n",
       "       [ 1.28236715,  0.5177494 ,  0.72895495,  0.92563913, -1.07030775,\n",
       "         1.49556266,  0.72498361,  0.13665287, -0.12763388,  0.41603469]])"
      ]
     },
     "execution_count": 44,
     "metadata": {},
     "output_type": "execute_result"
    }
   ],
   "source": [
    "tmp = np.random.normal(0, 1, size= (10, 10) )\n",
    "tmp"
   ]
  },
  {
   "cell_type": "code",
   "execution_count": 46,
   "metadata": {
    "collapsed": false
   },
   "outputs": [
    {
     "data": {
      "text/plain": [
       "array([[ 0.68621583,  0.06329717,  0.46359387,  0.        ,  0.        ,\n",
       "         0.10291292,  0.        ,  0.35705752,  0.24202654,  0.61434808],\n",
       "       [ 0.        ,  0.        ,  0.91297449,  0.91426071,  0.        ,\n",
       "         0.61196261,  0.        ,  0.        ,  0.15035303,  0.        ],\n",
       "       [ 0.        ,  1.19416548,  0.        ,  2.78366355,  0.        ,\n",
       "         0.        ,  1.89406207,  0.90448865,  0.67881436,  1.01477812],\n",
       "       [ 0.        ,  0.        ,  0.16203129,  1.38079164,  1.55089171,\n",
       "         0.        ,  0.52694038,  0.        ,  0.        ,  0.        ],\n",
       "       [ 0.98305828,  0.        ,  0.03143526,  0.59182847,  0.27395933,\n",
       "         0.23360785,  0.        ,  0.        ,  0.76190322,  0.9489948 ],\n",
       "       [ 0.        ,  0.        ,  0.33920974,  0.        ,  0.73065948,\n",
       "         0.        ,  0.        ,  0.        ,  0.        ,  0.12945069],\n",
       "       [ 2.2590641 ,  1.32616584,  0.        ,  1.09893364,  0.        ,\n",
       "         0.06003005,  0.        ,  0.08518377,  1.09161668,  0.        ],\n",
       "       [ 0.29740175,  0.        ,  0.        ,  0.41163871,  1.03011371,\n",
       "         0.5750207 ,  0.37877306,  0.        ,  1.20884909,  0.        ],\n",
       "       [ 0.6946979 ,  0.        ,  0.        ,  1.79387489,  0.        ,\n",
       "         0.        ,  1.19698636,  0.        ,  0.19930718,  0.        ],\n",
       "       [ 1.28236715,  0.5177494 ,  0.72895495,  0.92563913,  0.        ,\n",
       "         1.49556266,  0.72498361,  0.13665287,  0.        ,  0.41603469]])"
      ]
     },
     "execution_count": 46,
     "metadata": {},
     "output_type": "execute_result"
    }
   ],
   "source": [
    "np.maximum(tmp, 0)"
   ]
  },
  {
   "cell_type": "code",
   "execution_count": null,
   "metadata": {
    "collapsed": true
   },
   "outputs": [],
   "source": []
  }
 ],
 "metadata": {
  "kernelspec": {
   "display_name": "Python 2",
   "language": "python",
   "name": "python2"
  },
  "language_info": {
   "codemirror_mode": {
    "name": "ipython",
    "version": 2
   },
   "file_extension": ".py",
   "mimetype": "text/x-python",
   "name": "python",
   "nbconvert_exporter": "python",
   "pygments_lexer": "ipython2",
   "version": "2.7.10"
  }
 },
 "nbformat": 4,
 "nbformat_minor": 0
}
