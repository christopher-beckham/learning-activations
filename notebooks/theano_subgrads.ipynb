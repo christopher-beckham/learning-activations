{
 "cells": [
  {
   "cell_type": "code",
   "execution_count": 3,
   "metadata": {
    "collapsed": true
   },
   "outputs": [],
   "source": [
    "import theano\n",
    "from theano import tensor as T\n",
    "import numpy as np"
   ]
  },
  {
   "cell_type": "code",
   "execution_count": 4,
   "metadata": {
    "collapsed": false
   },
   "outputs": [],
   "source": [
    "x, t = theano.tensor.fvector('x'), theano.tensor.fvector('t')\n",
    "w1 = theano.shared(np.random.randn(3,4))\n",
    "w2 = theano.shared(np.random.randn(4,2))\n",
    "a1 = theano.tensor.tanh(theano.tensor.dot(x,w1))\n",
    "a2 = theano.tensor.tanh(theano.tensor.dot(a1,w2))\n",
    "cost2 = theano.tensor.sqr(a2 - t).sum()\n",
    "cost2 += theano.tensor.sqr(w2.sum())\n",
    "cost1 = theano.tensor.sqr(w1.sum())\n",
    "\n",
    "params = [[w2],[w1]]\n",
    "costs = [cost2,cost1]\n",
    "grad_ends = [[a1], [x]]\n",
    "\n",
    "next_grad = None\n",
    "param_grads = []\n",
    "for i in xrange(2):\n",
    "    param_grad, next_grad = theano.subgraph_grad(\n",
    "        wrt=params[i], end=grad_ends[i],\n",
    "        start=next_grad, cost=costs[i]\n",
    "    )\n",
    "    next_grad = dict(zip(grad_ends[i], next_grad))\n",
    "    param_grads.extend(param_grad)"
   ]
  },
  {
   "cell_type": "code",
   "execution_count": 24,
   "metadata": {
    "collapsed": false
   },
   "outputs": [
    {
     "data": {
      "text/plain": [
       "[dot.0, Elemwise{mul}.0, dot.0, dot.0, Elemwise{add,no_inplace}.0]"
      ]
     },
     "execution_count": 24,
     "metadata": {},
     "output_type": "execute_result"
    }
   ],
   "source": [
    "theano.gradient.subgraph_grad(cost=cost2, wrt=[x,a2,a1,w1,w2], end=[x])[0]"
   ]
  },
  {
   "cell_type": "code",
   "execution_count": 30,
   "metadata": {
    "collapsed": false
   },
   "outputs": [
    {
     "data": {
      "text/plain": [
       "for{cpu,scan_fn}.0"
      ]
     },
     "execution_count": 30,
     "metadata": {},
     "output_type": "execute_result"
    }
   ],
   "source": [
    "theano.gradient.jacobian(a1, x)"
   ]
  },
  {
   "cell_type": "code",
   "execution_count": 31,
   "metadata": {
    "collapsed": true
   },
   "outputs": [],
   "source": [
    "?np.unravel_index"
   ]
  },
  {
   "cell_type": "code",
   "execution_count": null,
   "metadata": {
    "collapsed": true
   },
   "outputs": [],
   "source": []
  }
 ],
 "metadata": {
  "kernelspec": {
   "display_name": "Python 2",
   "language": "python",
   "name": "python2"
  },
  "language_info": {
   "codemirror_mode": {
    "name": "ipython",
    "version": 2
   },
   "file_extension": ".py",
   "mimetype": "text/x-python",
   "name": "python",
   "nbconvert_exporter": "python",
   "pygments_lexer": "ipython2",
   "version": "2.7.10"
  }
 },
 "nbformat": 4,
 "nbformat_minor": 0
}
