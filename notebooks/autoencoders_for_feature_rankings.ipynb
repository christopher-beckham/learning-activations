{
 "cells": [
  {
   "cell_type": "markdown",
   "metadata": {},
   "source": [
    "* MNIST inverse network\n",
    "* Newsgroups inverse network\n",
    "* Squared error loss and classification loss\n",
    "  * Also with L1 regularisation"
   ]
  },
  {
   "cell_type": "code",
   "execution_count": 1,
   "metadata": {
    "collapsed": false
   },
   "outputs": [
    {
     "name": "stderr",
     "output_type": "stream",
     "text": [
      "//anaconda/lib/python2.7/site-packages/Theano-0.8.0.dev0-py2.7.egg/theano/tensor/signal/downsample.py:5: UserWarning: downsample module has been moved to the pool module.\n",
      "  warnings.warn(\"downsample module has been moved to the pool module.\")\n"
     ]
    }
   ],
   "source": [
    "import sys\n",
    "import cPickle as pickle\n",
    "import gzip\n",
    "import random\n",
    "from matplotlib import pyplot as plt\n",
    "%matplotlib inline\n",
    "sys.path.append(\"../modules/\")\n",
    "import helper as hp\n",
    "# ----\n",
    "import theano\n",
    "from theano import tensor as T\n",
    "import lasagne\n",
    "import numpy as np\n",
    "# ---\n",
    "from skimage import io\n",
    "# ---\n",
    "from lasagne.layers import *\n",
    "from lasagne.nonlinearities import *\n",
    "from lasagne.objectives import *\n",
    "from lasagne.init import *\n",
    "from lasagne.updates import *\n",
    "from lasagne.regularization import *\n",
    "# ---\n",
    "from scipy.io import loadmat\n",
    "# ---\n",
    "random.seed(0)\n",
    "np.random.seed(0)"
   ]
  },
  {
   "cell_type": "code",
   "execution_count": 574,
   "metadata": {
    "collapsed": false
   },
   "outputs": [
    {
     "name": "stderr",
     "output_type": "stream",
     "text": [
      "//anaconda/lib/python2.7/site-packages/IPython/extensions/rmagic.py:11: UserWarning: The rmagic extension in IPython has moved to `rpy2.ipython`, please see `rpy2` documentation.\n",
      "  warnings.warn(\"The rmagic extension in IPython has moved to \"\n"
     ]
    }
   ],
   "source": [
    "%load_ext rmagic"
   ]
  },
  {
   "cell_type": "code",
   "execution_count": 2,
   "metadata": {
    "collapsed": true
   },
   "outputs": [],
   "source": [
    "def print_net(out):\n",
    "    for layer in get_all_layers(out):\n",
    "        print layer.output_shape\n",
    "    print count_params(out)"
   ]
  },
  {
   "cell_type": "markdown",
   "metadata": {},
   "source": [
    "* Load in the newsgroup dataset\n",
    "* Add 100 random $U(0,1)$ (discrete) attributes to the end."
   ]
  },
  {
   "cell_type": "code",
   "execution_count": 3,
   "metadata": {
    "collapsed": false
   },
   "outputs": [],
   "source": [
    "data = loadmat(\"../data/20news_w100.mat\")\n",
    "X_total = data[\"documents\"].toarray().T\n",
    "X_total = np.asarray(X_total, dtype=\"float32\")\n",
    "X_noise = np.asarray(np.random.randint(0, 2, (X_total.shape[0], X_total.shape[1])), dtype=\"float32\")\n",
    "X_total = np.hstack( (X_total, X_noise) )\n",
    "y_total = data[\"newsgroups\"]-1\n",
    "y_total = np.asarray(y_total[0],dtype=\"int32\")"
   ]
  },
  {
   "cell_type": "code",
   "execution_count": 4,
   "metadata": {
    "collapsed": true
   },
   "outputs": [],
   "source": [
    "def simple_mlp(X_data, y_data, lamb=0.0):\n",
    "    a_in = InputLayer( (None, X_data.shape[1]) )\n",
    "    a_out = DenseLayer(a_in, num_units=np.max(y_data)+1, nonlinearity=softmax)   \n",
    "    X = T.fmatrix('X')\n",
    "    y = T.ivector('y')\n",
    "    loss = categorical_crossentropy( get_output(a_out, X), y ).mean() + \\\n",
    "        lamb*regularize_layer_params(a_out, l1)\n",
    "    params = get_all_params(a_out)\n",
    "    updates = nesterov_momentum(loss, params, 0.01, 0.9)\n",
    "    train_fn = theano.function([X, y], loss, updates=updates)\n",
    "    x_grad_fn = theano.function([X, y], T.grad(loss, X))\n",
    "    predict_fn = theano.function([X], get_output(a_out, X) )\n",
    "    loss_fn = theano.function([X, y], loss )\n",
    "    return {\"net\": a_out,\n",
    "            \"train_fn\":train_fn,\n",
    "            \"x_grad_fn\":x_grad_fn,\n",
    "            \"predict_fn\":predict_fn,\n",
    "            \"loss_fn\": loss_fn}"
   ]
  },
  {
   "cell_type": "code",
   "execution_count": 161,
   "metadata": {
    "collapsed": false
   },
   "outputs": [],
   "source": [
    "mlp1 = simple_mlp(X_total, y_total, lamb=1e-4)"
   ]
  },
  {
   "cell_type": "code",
   "execution_count": 162,
   "metadata": {
    "collapsed": false
   },
   "outputs": [
    {
     "name": "stdout",
     "output_type": "stream",
     "text": [
      "(None, 200)\n",
      "(None, 4)\n",
      "804\n"
     ]
    }
   ],
   "source": [
    "print_net(mlp1[\"net\"])"
   ]
  },
  {
   "cell_type": "code",
   "execution_count": 41,
   "metadata": {
    "collapsed": true
   },
   "outputs": [],
   "source": [
    "def train_net(X_train, y_train, train_fn, num_epochs, batch_size, shuffle=True):\n",
    "    idxs = [x for x in range(0, X_train.shape[0])]\n",
    "    Xt, yt = X_train, y_train\n",
    "    for epoch in range(0, num_epochs):\n",
    "        if shuffle:\n",
    "            random.shuffle(idxs)\n",
    "            Xt = X_train[idxs]\n",
    "            yt = y_train[idxs]\n",
    "        b = 0\n",
    "        losses = []\n",
    "        while True:\n",
    "            if b*batch_size >= Xt.shape[0]:\n",
    "                break\n",
    "            this_loss = train_fn(\n",
    "                Xt[b*batch_size : (b+1)*batch_size], yt[b*batch_size : (b+1)*batch_size])\n",
    "            losses.append(this_loss)\n",
    "            b += 1\n",
    "        print np.mean(losses)"
   ]
  },
  {
   "cell_type": "code",
   "execution_count": 45,
   "metadata": {
    "collapsed": true
   },
   "outputs": [],
   "source": [
    "def get_accuracy(X_train, y_train, predict_fn):\n",
    "    return float(np.sum(np.argmax(predict_fn(X_train),axis=1) == y_train)) / len(y_train)"
   ]
  },
  {
   "cell_type": "code",
   "execution_count": 46,
   "metadata": {
    "collapsed": true
   },
   "outputs": [],
   "source": [
    "def get_mean_abs_grad(X_train, y_train, x_grad_fn):\n",
    "    return np.mean(np.abs(x_grad_fn(X_train, y_train)),axis=0)"
   ]
  },
  {
   "cell_type": "markdown",
   "metadata": {},
   "source": [
    "* Train a simple perceptron MLP on the newsgroup dataset with $L_{1}$\n",
    "* Look at the accuracy and a plot of the mean absolute gradients over the training set (we expect the noise attributes to have low gradients)"
   ]
  },
  {
   "cell_type": "code",
   "execution_count": 164,
   "metadata": {
    "collapsed": false
   },
   "outputs": [
    {
     "name": "stdout",
     "output_type": "stream",
     "text": [
      "1.23782492573\n",
      "0.960639491297\n",
      "0.848167788826\n",
      "0.784305225545\n",
      "0.743613367122\n",
      "0.713672729464\n",
      "0.691508968917\n",
      "0.674317077775\n",
      "0.660457236334\n",
      "0.647527825989\n",
      "0.63826223627\n",
      "0.629079979089\n",
      "0.621915280712\n",
      "0.615667768524\n",
      "0.60946658993\n",
      "0.604178421548\n",
      "0.599059228146\n",
      "0.595081339638\n",
      "0.591303508491\n",
      "0.587313707409\n",
      "0.584546975842\n",
      "0.581150863592\n",
      "0.578920502777\n",
      "0.576257051497\n",
      "0.573726568034\n",
      "0.570987052064\n",
      "0.569266816217\n",
      "0.567626849824\n",
      "0.565838529677\n",
      "0.563938650743\n",
      "0.562113950668\n",
      "0.56032212932\n",
      "0.559437404324\n",
      "0.55771197196\n",
      "0.557043260298\n",
      "0.555486703026\n",
      "0.554498902576\n",
      "0.552672347261\n",
      "0.552092306087\n",
      "0.55127030752\n",
      "0.550372989862\n",
      "0.549320239056\n",
      "0.548901000415\n",
      "0.547335477268\n",
      "0.546944026156\n",
      "0.545982552765\n",
      "0.545147662821\n",
      "0.544118613568\n",
      "0.543581190859\n",
      "0.543280369104\n",
      "0.542228214874\n",
      "0.541875568586\n",
      "0.541428510473\n",
      "0.540986840894\n",
      "0.54008416404\n",
      "0.539583482373\n",
      "0.539327911776\n",
      "0.539311553776\n",
      "0.538282317624\n",
      "0.537281528075\n",
      "0.537239494005\n",
      "0.536886463901\n",
      "0.536271668828\n",
      "0.536607975535\n",
      "0.535751097298\n",
      "0.535342858907\n",
      "0.534710173516\n",
      "0.534634907381\n",
      "0.534230801413\n",
      "0.534112394396\n",
      "0.533287232158\n",
      "0.53339526413\n",
      "0.532837506779\n",
      "0.532617058493\n",
      "0.532113186794\n",
      "0.531800308308\n",
      "0.531911229873\n",
      "0.531451856755\n",
      "0.531114307854\n",
      "0.53093658964\n",
      "0.531085560527\n",
      "0.530141798485\n",
      "0.530585234335\n",
      "0.529883740716\n",
      "0.530003480863\n",
      "0.529543101928\n",
      "0.529497684745\n",
      "0.529204414655\n",
      "0.528650409445\n",
      "0.528380866264\n",
      "0.528902996405\n",
      "0.528728748933\n",
      "0.528375454282\n",
      "0.527930631925\n",
      "0.528206820135\n",
      "0.527738595665\n",
      "0.527301066681\n",
      "0.527083274277\n",
      "0.527572988136\n",
      "0.527179136526\n",
      "0.526601763903\n",
      "0.526665258813\n",
      "0.526834383444\n",
      "0.52648278468\n",
      "0.526442749523\n",
      "0.526155854373\n",
      "0.526017888043\n",
      "0.525865219828\n",
      "0.525512073327\n",
      "0.525532230392\n",
      "0.52575400161\n",
      "0.525269687378\n",
      "0.525385114702\n",
      "0.525114663126\n",
      "0.525286785736\n",
      "0.525074793154\n",
      "0.524605417461\n",
      "0.524795529622\n",
      "0.524402612387\n",
      "0.524705397482\n",
      "0.524199938873\n",
      "0.523997219575\n",
      "0.52414607086\n",
      "0.524264086738\n",
      "0.523481707248\n",
      "0.524061265331\n",
      "0.523947887222\n",
      "0.524078534558\n",
      "0.52368651817\n",
      "0.523325687424\n",
      "0.523463374882\n",
      "0.523441576603\n",
      "0.523472725083\n",
      "0.522733660277\n",
      "0.523133003142\n",
      "0.5236253365\n",
      "0.523412495805\n",
      "0.522724993457\n",
      "0.522872389638\n",
      "0.523046695746\n",
      "0.522176749962\n",
      "0.522693053726\n",
      "0.522144834749\n",
      "0.521836368287\n",
      "0.522424939214\n",
      "0.522547341428\n",
      "0.522528200789\n",
      "0.522039253468\n",
      "0.522190190383\n",
      "0.522567392547\n",
      "0.522370018344\n",
      "0.521844247273\n",
      "0.522092577417\n",
      "0.5216677754\n",
      "0.522181173093\n",
      "0.521498014089\n",
      "0.521545171573\n",
      "0.521927950474\n",
      "0.521971538631\n",
      "0.52107643581\n",
      "0.521575874658\n",
      "0.521123376\n",
      "0.52110558727\n",
      "0.521465181838\n",
      "0.521184246085\n",
      "0.521110963597\n",
      "0.521282593271\n",
      "0.520952945249\n",
      "0.520788184278\n",
      "0.52082487283\n",
      "0.520830846409\n",
      "0.520908904147\n",
      "0.5216797324\n",
      "0.520522938534\n",
      "0.521358434764\n",
      "0.520239194051\n",
      "0.520700475962\n",
      "0.520750223238\n",
      "0.520505447454\n",
      "0.520753155957\n",
      "0.520294762948\n",
      "0.520681126164\n",
      "0.520730468876\n",
      "0.520537144961\n",
      "0.520337009267\n",
      "0.520508817356\n",
      "0.520317766549\n",
      "0.52025190616\n",
      "0.520569537048\n",
      "0.52004791938\n",
      "0.520423677283\n",
      "0.52088718965\n",
      "0.520017771784\n",
      "0.520014220825\n",
      "0.520390158026\n",
      "0.519480908157\n",
      "0.519736543599\n",
      "0.520543911231\n",
      "0.519672474858\n",
      "0.519660398241\n"
     ]
    }
   ],
   "source": [
    "train_net(X_total, y_total, mlp1[\"train_fn\"], num_epochs=200, batch_size=128, shuffle=True)"
   ]
  },
  {
   "cell_type": "code",
   "execution_count": 44,
   "metadata": {
    "collapsed": false
   },
   "outputs": [
    {
     "ename": "NameError",
     "evalue": "name 'get_accuracy' is not defined",
     "output_type": "error",
     "traceback": [
      "\u001b[0;31m---------------------------------------------------------------------------\u001b[0m",
      "\u001b[0;31mNameError\u001b[0m                                 Traceback (most recent call last)",
      "\u001b[0;32m<ipython-input-44-0a666d2e1a51>\u001b[0m in \u001b[0;36m<module>\u001b[0;34m()\u001b[0m\n\u001b[0;32m----> 1\u001b[0;31m \u001b[0mget_accuracy\u001b[0m\u001b[0;34m(\u001b[0m\u001b[0mX_total\u001b[0m\u001b[0;34m,\u001b[0m \u001b[0my_total\u001b[0m\u001b[0;34m,\u001b[0m \u001b[0mmlp1\u001b[0m\u001b[0;34m[\u001b[0m\u001b[0;34m\"predict_fn\"\u001b[0m\u001b[0;34m]\u001b[0m\u001b[0;34m)\u001b[0m\u001b[0;34m\u001b[0m\u001b[0m\n\u001b[0m",
      "\u001b[0;31mNameError\u001b[0m: name 'get_accuracy' is not defined"
     ]
    }
   ],
   "source": [
    "get_accuracy(X_total, y_total, mlp1[\"predict_fn\"])"
   ]
  },
  {
   "cell_type": "code",
   "execution_count": 166,
   "metadata": {
    "collapsed": false
   },
   "outputs": [
    {
     "data": {
      "text/plain": [
       "[<matplotlib.lines.Line2D at 0x10e0d4110>]"
      ]
     },
     "execution_count": 166,
     "metadata": {},
     "output_type": "execute_result"
    },
    {
     "data": {
      "image/png": "[encoded data removed]",
      "text/plain": [
       "<matplotlib.figure.Figure at 0x109e27cd0>"
      ]
     },
     "metadata": {},
     "output_type": "display_data"
    }
   ],
   "source": [
    "plt.plot( get_mean_abs_grad(X_total, y_total, mlp1[\"x_grad_fn\"]) )"
   ]
  },
  {
   "cell_type": "markdown",
   "metadata": {},
   "source": [
    "* Do the same thing but train an MLP (one hidden layer, with 100 hidden units)\n",
    "* Evaluate accuracy\n",
    "* Evaluate gradient plots for the input layer and the hidden layer"
   ]
  },
  {
   "cell_type": "code",
   "execution_count": 4,
   "metadata": {
    "collapsed": false
   },
   "outputs": [],
   "source": [
    "def mlp(X_data, y_data, num_hidden_units=None, lamb=0.0):\n",
    "    if num_hidden_units == None:\n",
    "        num_hidden_units = X_data.shape[1]/2\n",
    "    a_in = InputLayer( (None, X_data.shape[1]) )\n",
    "    a_hidden = DenseLayer(a_in, num_units=num_hidden_units)\n",
    "    a_out = DenseLayer(a_hidden, num_units=np.max(y_data)+1, nonlinearity=softmax)\n",
    "    # hacky\n",
    "    z_hidden = InputLayer(a_hidden.output_shape, W=a_hidden.W)\n",
    "    z_out = DenseLayer(z_hidden, num_units=np.max(y_data)+1, nonlinearity=softmax, W=a_out.W)\n",
    "    # ---\n",
    "    X = T.fmatrix('X')\n",
    "    y = T.ivector('y')\n",
    "    loss = categorical_crossentropy( get_output(a_out, X), y ).mean() + \\\n",
    "        lamb*regularize_layer_params(a_out, l1)\n",
    "    z_loss = categorical_crossentropy( get_output(z_out, X), y ).mean() + \\\n",
    "        lamb*regularize_layer_params(z_out, l1)\n",
    "    params = get_all_params(a_out)\n",
    "    updates = nesterov_momentum(loss, params, 0.01, 0.9)\n",
    "    train_fn = theano.function([X, y], loss, updates=updates)\n",
    "    # the loss fn is defined in terms of X -> hidden -> out\n",
    "    x_grad_fn = theano.function([X, y], T.grad(loss, X))\n",
    "    predict_fn = theano.function([X], get_output(a_out, X) )\n",
    "    loss_fn = theano.function([X, y], loss )\n",
    "    # hacky\n",
    "    hidden_grad_fn = theano.function([X, y], T.grad(z_loss, X))\n",
    "    hidden_predict_fn = theano.function([X], get_output(a_hidden, X))\n",
    "    # ---\n",
    "    return {\"net\": a_out,\n",
    "            \"train_fn\":train_fn,\n",
    "            \"x_grad_fn\":x_grad_fn,\n",
    "            \"predict_fn\":predict_fn,\n",
    "            \"hidden_grad_fn\":hidden_grad_fn,\n",
    "            \"hidden_predict_fn\":hidden_predict_fn,\n",
    "            \"loss_fn\": loss_fn}"
   ]
  },
  {
   "cell_type": "code",
   "execution_count": 91,
   "metadata": {
    "collapsed": true
   },
   "outputs": [],
   "source": [
    "def mlp(X_data, y_data, num_hidden_units=None, lamb=0.0):\n",
    "    # prototype\n",
    "    if num_hidden_units == None:\n",
    "        num_hidden_units = X_data.shape[1]/2\n",
    "    a_in = InputLayer( (None, X_data.shape[1]) )\n",
    "    a_hidden = DenseLayer(a_in, num_units=num_hidden_units)\n",
    "    a_out = DenseLayer(a_hidden, num_units=np.max(y_data)+1, nonlinearity=softmax)\n",
    "    #a_tmp = InputLayer( (None, 20) )\n",
    "    #a_tmp2 = DenseLayer(a_tmp, num_units=num_hidden_units)\n",
    "    #a_tmp3 = DenseLayer(a_tmp2, num_units=np.max(y_data)+1, nonlinearity=softmax)\n",
    "    # ---\n",
    "    X = T.fmatrix('X')\n",
    "    y = T.ivector('y')\n",
    "    outputs = get_output([a_hidden, a_out], X)\n",
    "    #print outputs\n",
    "    loss = categorical_crossentropy( outputs[1], y ).mean() + \\\n",
    "        lamb*regularize_layer_params(a_out, l1)\n",
    "    params = get_all_params(a_out)\n",
    "    updates = nesterov_momentum(loss, params, 0.01, 0.9)\n",
    "    train_fn = theano.function([X, y], loss, updates=updates)\n",
    "    #Compute dLoss / dX\n",
    "    x_grad_fn = theano.function([X, y], theano.gradient.subgraph_grad(cost=loss, wrt=[X], end=[X])[0][0])\n",
    "    predict_fn = theano.function([X], get_output(a_out, X) )\n",
    "    loss_fn = theano.function([X, y], loss )\n",
    "    #Compute dLoss / dHidden\n",
    "    hidden_grad_fn = theano.function([X, y],\n",
    "            theano.subgraph_grad(cost=loss, wrt=[ outputs[0] ], end=[X])[0][0])\n",
    "    hidden_predict_fn = theano.function([X], outputs[0])\n",
    "    # ---\n",
    "    return {\"net\": a_out,\n",
    "            \"train_fn\":train_fn,\n",
    "            \"x_grad_fn\":x_grad_fn,\n",
    "            \"predict_fn\":predict_fn,\n",
    "            \"hidden_grad_fn\":hidden_grad_fn,\n",
    "            \"hidden_predict_fn\":hidden_predict_fn,\n",
    "            \"loss_fn\": loss_fn}"
   ]
  },
  {
   "cell_type": "code",
   "execution_count": 63,
   "metadata": {
    "collapsed": false
   },
   "outputs": [
    {
     "name": "stdout",
     "output_type": "stream",
     "text": [
      "[Elemwise{mul,no_inplace}.0, Softmax.0]\n"
     ]
    }
   ],
   "source": [
    "mlp2 = mlp(X_total, y_total, lamb=1e-4)"
   ]
  },
  {
   "cell_type": "code",
   "execution_count": 64,
   "metadata": {
    "collapsed": false
   },
   "outputs": [
    {
     "name": "stdout",
     "output_type": "stream",
     "text": [
      "1.19555065464\n",
      "0.809396083683\n",
      "0.657495903813\n",
      "0.600676297496\n",
      "0.57076333571\n",
      "0.553588780822\n",
      "0.540438661739\n",
      "0.531441274122\n",
      "0.526705587633\n",
      "0.520925570466\n",
      "0.515019106053\n",
      "0.511680831425\n",
      "0.506874260432\n",
      "0.501677384157\n",
      "0.499772505267\n",
      "0.49596105838\n",
      "0.490664108058\n",
      "0.486086646678\n",
      "0.484629150446\n",
      "0.478740991708\n",
      "0.476378800704\n",
      "0.470840922174\n",
      "0.467212729554\n",
      "0.464487594351\n",
      "0.459643347947\n",
      "0.456515552104\n",
      "0.449547810637\n",
      "0.445540130483\n",
      "0.44155478765\n",
      "0.438572180992\n",
      "0.434083477001\n",
      "0.429671681032\n",
      "0.425157619484\n",
      "0.418439357126\n",
      "0.414678930263\n",
      "0.410895382979\n",
      "0.406299903827\n",
      "0.401127986962\n",
      "0.395739789491\n",
      "0.392536236744\n",
      "0.387241064885\n",
      "0.381632124225\n",
      "0.376484799211\n",
      "0.373053848005\n",
      "0.367720279575\n",
      "0.362138286268\n",
      "0.357753843748\n",
      "0.353165004638\n",
      "0.349162825145\n",
      "0.343509415456\n",
      "0.339802465291\n",
      "0.334388900507\n",
      "0.330935754959\n",
      "0.325991679999\n",
      "0.322249149002\n",
      "0.318239052174\n",
      "0.312216630151\n",
      "0.309147074148\n",
      "0.304561539377\n",
      "0.299475027512\n",
      "0.295600242117\n",
      "0.291833002464\n",
      "0.286084997559\n",
      "0.28428117227\n",
      "0.279152172429\n",
      "0.274756071285\n",
      "0.27143442883\n",
      "0.267368259407\n",
      "0.26351562782\n",
      "0.260878339466\n",
      "0.255477112267\n",
      "0.251236169209\n",
      "0.248122884994\n",
      "0.244777620684\n",
      "0.240886208758\n",
      "0.237001852618\n",
      "0.232896706887\n",
      "0.230708088443\n",
      "0.225453067203\n",
      "0.223897690503\n",
      "0.218777322269\n",
      "0.214319546476\n",
      "0.21214749471\n",
      "0.208837212578\n",
      "0.207616137318\n",
      "0.203057116367\n",
      "0.200072287518\n",
      "0.197335861288\n",
      "0.195147756829\n",
      "0.190130578989\n",
      "0.18733429458\n",
      "0.185498128002\n",
      "0.181859246488\n",
      "0.178222365093\n",
      "0.17707073817\n",
      "0.173117407473\n",
      "0.171544806779\n",
      "0.167863544924\n",
      "0.164427529873\n",
      "0.160930487746\n",
      "0.159406088347\n",
      "0.156948657478\n",
      "0.155238839879\n",
      "0.152249268048\n",
      "0.150133917889\n",
      "0.148104565607\n",
      "0.144430525835\n",
      "0.142538669345\n",
      "0.139883459948\n",
      "0.137398940449\n",
      "0.137062012898\n",
      "0.133329820193\n",
      "0.132886449102\n",
      "0.129542699575\n",
      "0.127845056655\n",
      "0.125229947351\n",
      "0.124386547179\n",
      "0.123748594406\n",
      "0.120142147026\n",
      "0.11819623715\n",
      "0.115898757721\n",
      "0.114292656257\n",
      "0.114056351038\n",
      "0.111964981785\n",
      "0.109630978602\n",
      "0.108185711546\n",
      "0.106334625345\n",
      "0.105212609491\n",
      "0.103934758837\n",
      "0.102265184177\n",
      "0.100288637976\n",
      "0.0999455116323\n",
      "0.0974403835651\n",
      "0.096832411934\n",
      "0.095122254988\n",
      "0.0940377627905\n",
      "0.0922585960727\n",
      "0.0912843596734\n",
      "0.0905207053667\n",
      "0.0900016218251\n",
      "0.0890236680917\n",
      "0.0875915183675\n",
      "0.0860838502576\n",
      "0.0845144225717\n",
      "0.0838358051288\n",
      "0.0831505237816\n",
      "0.0824204057125\n",
      "0.0808860801315\n",
      "0.0806045906986\n",
      "0.0792675341808\n",
      "0.0785699694279\n",
      "0.0774856034784\n",
      "0.0767866758433\n",
      "0.0764270757551\n",
      "0.0753871572009\n",
      "0.0738837335334\n",
      "0.0734753340933\n",
      "0.0728122413808\n",
      "0.0730207479156\n",
      "0.071974372302\n",
      "0.0708032220512\n",
      "0.0711243635368\n",
      "0.0701028235419\n",
      "0.0690481517222\n",
      "0.068196641384\n",
      "0.0676617043706\n",
      "0.067651022146\n",
      "0.066351296341\n",
      "0.0658263571019\n",
      "0.0660180806295\n",
      "0.0652246953498\n",
      "0.0644308008355\n",
      "0.0647041299619\n",
      "0.0635182187798\n",
      "0.0635430075218\n",
      "0.062683068696\n",
      "0.0623815696973\n",
      "0.0618010136357\n",
      "0.0616101068295\n",
      "0.0611675646783\n",
      "0.0603685956392\n",
      "0.0602446489286\n",
      "0.0600161570345\n",
      "0.0596112042278\n",
      "0.05917161228\n",
      "0.058937672992\n",
      "0.0582297684042\n",
      "0.0581612286164\n",
      "0.057810903182\n",
      "0.0573404148076\n",
      "0.0573344262479\n",
      "0.0569278490982\n",
      "0.0562223317115\n",
      "0.0563545186879\n",
      "0.0560515180801\n",
      "0.0559345419296\n",
      "0.0555336382106\n",
      "0.055047062714\n",
      "0.0546778372124\n",
      "0.0543664261255\n"
     ]
    }
   ],
   "source": [
    "train_net(X_total, y_total, mlp2[\"train_fn\"], num_epochs=200, batch_size=128, shuffle=True)"
   ]
  },
  {
   "cell_type": "code",
   "execution_count": 65,
   "metadata": {
    "collapsed": false
   },
   "outputs": [
    {
     "data": {
      "text/plain": [
       "1.0"
      ]
     },
     "execution_count": 65,
     "metadata": {},
     "output_type": "execute_result"
    }
   ],
   "source": [
    "get_accuracy(X_total, y_total, mlp2[\"predict_fn\"])"
   ]
  },
  {
   "cell_type": "code",
   "execution_count": 79,
   "metadata": {
    "collapsed": false
   },
   "outputs": [
    {
     "data": {
      "text/plain": [
       "[<matplotlib.lines.Line2D at 0x139203810>]"
      ]
     },
     "execution_count": 79,
     "metadata": {},
     "output_type": "execute_result"
    },
    {
     "data": {
      "image/png": "[encoded data removed]",
      "text/plain": [
       "<matplotlib.figure.Figure at 0x111ee7950>"
      ]
     },
     "metadata": {},
     "output_type": "display_data"
    }
   ],
   "source": [
    "plt.plot( get_mean_abs_grad(X_total, y_total, mlp2[\"x_grad_fn\"]) )"
   ]
  },
  {
   "cell_type": "code",
   "execution_count": 68,
   "metadata": {
    "collapsed": false
   },
   "outputs": [
    {
     "data": {
      "text/plain": [
       "[<matplotlib.lines.Line2D at 0x1112557d0>]"
      ]
     },
     "execution_count": 68,
     "metadata": {},
     "output_type": "execute_result"
    },
    {
     "data": {
      "image/png": "[encoded data removed]",
      "text/plain": [
       "<matplotlib.figure.Figure at 0x11161f110>"
      ]
     },
     "metadata": {},
     "output_type": "display_data"
    }
   ],
   "source": [
    "mlp2_hidden_grads = mlp2[\"hidden_grad_fn\"](X_total, y_total)\n",
    "plt.plot( np.mean(np.abs(mlp2_hidden_grads), axis=0) )"
   ]
  },
  {
   "cell_type": "markdown",
   "metadata": {},
   "source": [
    "* Generate an MLP with no $L_{1}$ regularisation (we want to overfit the training set, and see how the validation set reacts).\n",
    "* Let's train our network and after each epoch, save a plot of the (validation set) input and hidden gradients to disk."
   ]
  },
  {
   "cell_type": "code",
   "execution_count": 69,
   "metadata": {
    "collapsed": true
   },
   "outputs": [],
   "source": [
    "%%bash\n",
    "mkdir -p feature_ranking_out/input_grads\n",
    "mkdir -p feature_ranking_out/hidden_grads"
   ]
  },
  {
   "cell_type": "code",
   "execution_count": 82,
   "metadata": {
    "collapsed": false
   },
   "outputs": [
    {
     "name": "stdout",
     "output_type": "stream",
     "text": [
      "[Elemwise{mul,no_inplace}.0, Softmax.0]\n"
     ]
    }
   ],
   "source": [
    "mlp3 = mlp(X_total, y_total, num_hidden_units=None, lamb=0.0)"
   ]
  },
  {
   "cell_type": "code",
   "execution_count": 71,
   "metadata": {
    "collapsed": false
   },
   "outputs": [
    {
     "name": "stdout",
     "output_type": "stream",
     "text": [
      "(None, 200)\n",
      "(None, 100)\n",
      "(None, 4)\n",
      "20504\n"
     ]
    }
   ],
   "source": [
    "print_net(mlp3[\"net\"])"
   ]
  },
  {
   "cell_type": "markdown",
   "metadata": {},
   "source": [
    "Cut the data into training and validation."
   ]
  },
  {
   "cell_type": "code",
   "execution_count": 72,
   "metadata": {
    "collapsed": false
   },
   "outputs": [
    {
     "data": {
      "text/plain": [
       "((16242, 200), (16242,))"
      ]
     },
     "execution_count": 72,
     "metadata": {},
     "output_type": "execute_result"
    }
   ],
   "source": [
    "X_total.shape, y_total.shape"
   ]
  },
  {
   "cell_type": "code",
   "execution_count": 73,
   "metadata": {
    "collapsed": false
   },
   "outputs": [],
   "source": [
    "idxs = [x for x in range(0, X_total.shape[0])]\n",
    "random.shuffle(idxs)\n",
    "train_idxs = idxs[0 : int(0.75*len(idxs))]\n",
    "valid_idxs = idxs[int(0.75*len(idxs)) :: ]\n",
    "Xt, yt, Xv, yv = X_total[train_idxs], y_total[train_idxs], X_total[valid_idxs], y_total[valid_idxs]"
   ]
  },
  {
   "cell_type": "code",
   "execution_count": 74,
   "metadata": {
    "collapsed": false
   },
   "outputs": [
    {
     "data": {
      "text/plain": [
       "((12181, 200), (12181,), (4061, 200), (4061,))"
      ]
     },
     "execution_count": 74,
     "metadata": {},
     "output_type": "execute_result"
    }
   ],
   "source": [
    "Xt.shape, yt.shape, Xv.shape, yv.shape"
   ]
  },
  {
   "cell_type": "code",
   "execution_count": 80,
   "metadata": {
    "collapsed": false
   },
   "outputs": [],
   "source": [
    "def graph_grad_train(Xt, yt, Xv, yv, mlp, num_epochs=20, batch_size=128):\n",
    "    \n",
    "    hidden_grads_arr = []\n",
    "    input_grads_arr = []\n",
    "    \n",
    "    idxs = [x for x in range(0, Xt.shape[0])]\n",
    "    for epoch in range(0, num_epochs):\n",
    "        random.shuffle(idxs)\n",
    "        Xt = Xt[idxs]\n",
    "        yt = yt[idxs]\n",
    "        b = 0\n",
    "        losses = []\n",
    "        while True:\n",
    "            if b*batch_size >= Xt.shape[0]:\n",
    "                break\n",
    "            this_loss = mlp[\"train_fn\"](\n",
    "                Xt[b*batch_size : (b+1)*batch_size], yt[b*batch_size : (b+1)*batch_size])\n",
    "            losses.append(this_loss)\n",
    "            b += 1\n",
    "        input_grads = mlp[\"x_grad_fn\"](Xv, yv)\n",
    "        input_grads = np.mean(np.abs(input_grads), axis=0)\n",
    "        hidden_grads = mlp[\"hidden_grad_fn\"](Xv, yv)\n",
    "        np.savetxt(\"feature_ranking_out/hidden_grads/%s.csv\" % str(epoch+1).zfill(2),\n",
    "                   hidden_grads, delimiter=\",\", fmt=\"%5.5e\")\n",
    "        hidden_grads = np.mean(np.abs(hidden_grads), axis=0)   \n",
    "        \n",
    "        # save grads\n",
    "        input_grads_arr.append(input_grads)\n",
    "        hidden_grads_arr.append(hidden_grads)\n",
    "        this_valid_loss = mlp[\"loss_fn\"](Xv, yv)\n",
    "        print \"train loss, valid loss = %f, %f\" % (np.mean(losses), this_valid_loss)\n",
    "       \n",
    "    print \"plotting...\"\n",
    "    biggest_input_max = -1\n",
    "    biggest_hidden_max = -1\n",
    "    for i in range(0, len(hidden_grads_arr)):\n",
    "        if np.max(hidden_grads_arr[i]) > biggest_hidden_max:\n",
    "            biggest_hidden_max = np.max(hidden_grads_arr[i])\n",
    "        if np.max(input_grads_arr[i]) > biggest_input_max:\n",
    "            biggest_input_max = np.max(input_grads_arr[i])\n",
    "            \n",
    "    for epoch in range(0, num_epochs):\n",
    "        plt.ylim(0, biggest_hidden_max)\n",
    "        plt.plot(hidden_grads_arr[epoch])\n",
    "        plt.savefig(\"feature_ranking_out/hidden_grads/%s.png\" % str(epoch+1).zfill(2))\n",
    "        plt.close()\n",
    "        plt.ylim(0, biggest_input_max)\n",
    "        plt.plot(input_grads_arr[epoch])\n",
    "        plt.savefig(\"feature_ranking_out/input_grads/%s.png\" % str(epoch+1).zfill(2))\n",
    "        plt.close()"
   ]
  },
  {
   "cell_type": "code",
   "execution_count": 83,
   "metadata": {
    "collapsed": false
   },
   "outputs": [
    {
     "name": "stdout",
     "output_type": "stream",
     "text": [
      "train loss, valid loss = 1.265682, 1.095089\n",
      "train loss, valid loss = 0.937777, 0.811730\n",
      "train loss, valid loss = 0.731964, 0.676413\n",
      "train loss, valid loss = 0.643457, 0.634058\n",
      "train loss, valid loss = 0.596938, 0.612812\n",
      "train loss, valid loss = 0.568607, 0.572648\n",
      "train loss, valid loss = 0.554042, 0.616587\n",
      "train loss, valid loss = 0.541818, 0.560268\n",
      "train loss, valid loss = 0.530589, 0.570906\n",
      "train loss, valid loss = 0.520501, 0.553255\n",
      "train loss, valid loss = 0.515452, 0.539677\n",
      "train loss, valid loss = 0.509300, 0.548752\n",
      "train loss, valid loss = 0.504063, 0.552121\n",
      "train loss, valid loss = 0.496826, 0.545204\n",
      "train loss, valid loss = 0.494875, 0.537638\n",
      "train loss, valid loss = 0.487245, 0.530217\n",
      "train loss, valid loss = 0.481830, 0.572776\n",
      "train loss, valid loss = 0.476298, 0.546551\n",
      "train loss, valid loss = 0.471664, 0.533995\n",
      "train loss, valid loss = 0.471008, 0.542909\n",
      "train loss, valid loss = 0.466045, 0.531833\n",
      "train loss, valid loss = 0.461121, 0.551483\n",
      "train loss, valid loss = 0.454659, 0.530395\n",
      "train loss, valid loss = 0.450119, 0.546780\n",
      "train loss, valid loss = 0.448272, 0.552776\n",
      "train loss, valid loss = 0.438517, 0.529312\n",
      "train loss, valid loss = 0.434828, 0.531487\n",
      "train loss, valid loss = 0.428572, 0.560993\n",
      "train loss, valid loss = 0.423763, 0.541770\n",
      "train loss, valid loss = 0.421574, 0.540828\n",
      "train loss, valid loss = 0.415577, 0.572617\n",
      "train loss, valid loss = 0.409378, 0.547330\n",
      "train loss, valid loss = 0.405352, 0.551180\n",
      "train loss, valid loss = 0.396018, 0.554170\n",
      "train loss, valid loss = 0.392859, 0.567612\n",
      "train loss, valid loss = 0.389117, 0.574584\n",
      "train loss, valid loss = 0.383061, 0.636244\n",
      "train loss, valid loss = 0.373832, 0.552463\n",
      "train loss, valid loss = 0.367566, 0.562474\n",
      "train loss, valid loss = 0.365308, 0.559930\n",
      "train loss, valid loss = 0.355122, 0.553322\n",
      "train loss, valid loss = 0.352237, 0.567435\n",
      "train loss, valid loss = 0.349934, 0.558040\n",
      "train loss, valid loss = 0.339908, 0.589069\n",
      "train loss, valid loss = 0.336694, 0.598015\n",
      "train loss, valid loss = 0.333182, 0.572476\n",
      "train loss, valid loss = 0.326394, 0.659146\n",
      "train loss, valid loss = 0.319354, 0.589023\n",
      "train loss, valid loss = 0.313212, 0.588197\n",
      "train loss, valid loss = 0.308173, 0.594707\n",
      "train loss, valid loss = 0.301734, 0.585257\n",
      "train loss, valid loss = 0.295401, 0.588683\n",
      "train loss, valid loss = 0.290241, 0.595402\n",
      "train loss, valid loss = 0.284014, 0.608223\n",
      "train loss, valid loss = 0.278988, 0.626050\n",
      "train loss, valid loss = 0.276223, 0.640034\n",
      "train loss, valid loss = 0.269801, 0.613533\n",
      "train loss, valid loss = 0.263756, 0.654077\n",
      "train loss, valid loss = 0.262071, 0.686422\n",
      "train loss, valid loss = 0.253539, 0.623621\n",
      "train loss, valid loss = 0.247124, 0.628596\n",
      "train loss, valid loss = 0.245369, 0.636117\n",
      "train loss, valid loss = 0.238727, 0.635216\n",
      "train loss, valid loss = 0.231267, 0.643516\n",
      "train loss, valid loss = 0.228290, 0.658484\n",
      "train loss, valid loss = 0.223541, 0.675805\n",
      "train loss, valid loss = 0.217325, 0.674273\n",
      "train loss, valid loss = 0.215716, 0.696013\n",
      "train loss, valid loss = 0.210205, 0.674148\n",
      "train loss, valid loss = 0.202785, 0.669407\n",
      "train loss, valid loss = 0.197995, 0.696096\n",
      "train loss, valid loss = 0.194558, 0.703327\n",
      "train loss, valid loss = 0.189772, 0.686117\n",
      "train loss, valid loss = 0.185487, 0.695587\n",
      "train loss, valid loss = 0.181173, 0.708370\n",
      "train loss, valid loss = 0.178394, 0.701177\n",
      "train loss, valid loss = 0.175211, 0.768731\n",
      "train loss, valid loss = 0.170074, 0.739590\n",
      "train loss, valid loss = 0.163204, 0.732008\n",
      "train loss, valid loss = 0.160059, 0.736135\n",
      "train loss, valid loss = 0.159031, 0.733474\n",
      "train loss, valid loss = 0.155330, 0.733558\n",
      "train loss, valid loss = 0.150373, 0.742432\n",
      "train loss, valid loss = 0.148425, 0.813087\n",
      "train loss, valid loss = 0.146616, 0.756480\n",
      "train loss, valid loss = 0.141407, 0.772702\n",
      "train loss, valid loss = 0.137447, 0.762037\n",
      "train loss, valid loss = 0.134666, 0.819949\n",
      "train loss, valid loss = 0.130817, 0.812869\n",
      "train loss, valid loss = 0.128483, 0.774988\n",
      "train loss, valid loss = 0.120409, 0.800729\n",
      "train loss, valid loss = 0.121483, 0.806100\n",
      "train loss, valid loss = 0.117636, 0.801018\n",
      "train loss, valid loss = 0.113339, 0.806046\n",
      "train loss, valid loss = 0.111279, 0.815217\n",
      "train loss, valid loss = 0.107902, 0.832705\n",
      "train loss, valid loss = 0.105331, 0.844255\n",
      "train loss, valid loss = 0.103399, 0.843923\n",
      "train loss, valid loss = 0.101967, 0.836130\n",
      "train loss, valid loss = 0.097946, 0.852116\n",
      "plotting...\n"
     ]
    }
   ],
   "source": [
    "graph_grad_train(Xt, yt, Xv, yv, mlp3, num_epochs=100)"
   ]
  },
  {
   "cell_type": "code",
   "execution_count": 78,
   "metadata": {
    "collapsed": false,
    "scrolled": true
   },
   "outputs": [
    {
     "data": {
      "text/plain": [
       "(0.9867005992939825, 0.7660674710662398)"
      ]
     },
     "execution_count": 78,
     "metadata": {},
     "output_type": "execute_result"
    }
   ],
   "source": [
    "get_accuracy(Xt, yt, mlp3[\"predict_fn\"]), get_accuracy(Xv, yv, mlp3[\"predict_fn\"])"
   ]
  },
  {
   "cell_type": "markdown",
   "metadata": {},
   "source": [
    "* Over time, the validation set gradients for input/hidden layers gets larger. Is this because the network is overfitting the training set, and hence the $\\frac{dL}{dx}$ has hit a local minimum, whereas this is not the case with the validation set?\n",
    "* Let's look at the hidden activation gradients for the validation set, and sort them"
   ]
  },
  {
   "cell_type": "code",
   "execution_count": 84,
   "metadata": {
    "collapsed": false
   },
   "outputs": [],
   "source": [
    "mlp3_hidden_grads = mlp3[\"hidden_grad_fn\"](Xv, yv)\n",
    "mlp3_hidden_grads_mean = np.mean(np.abs(mlp3_hidden_grads), axis=0)\n",
    "mlp3_hidden_grads_std = np.std(np.abs(mlp3_hidden_grads), axis=0)"
   ]
  },
  {
   "cell_type": "code",
   "execution_count": 85,
   "metadata": {
    "collapsed": false
   },
   "outputs": [
    {
     "data": {
      "text/plain": [
       "[<matplotlib.lines.Line2D at 0x135892790>]"
      ]
     },
     "execution_count": 85,
     "metadata": {},
     "output_type": "execute_result"
    },
    {
     "data": {
      "image/png": "[encoded data removed]",
      "text/plain": [
       "<matplotlib.figure.Figure at 0x1353a0550>"
      ]
     },
     "metadata": {},
     "output_type": "display_data"
    }
   ],
   "source": [
    "plt.plot(mlp3_hidden_grads_mean)"
   ]
  },
  {
   "cell_type": "code",
   "execution_count": 86,
   "metadata": {
    "collapsed": false
   },
   "outputs": [
    {
     "data": {
      "text/plain": [
       "[<matplotlib.lines.Line2D at 0x135e1a4d0>]"
      ]
     },
     "execution_count": 86,
     "metadata": {},
     "output_type": "execute_result"
    },
    {
     "data": {
      "image/png": "[encoded data removed]",
      "text/plain": [
       "<matplotlib.figure.Figure at 0x1359f45d0>"
      ]
     },
     "metadata": {},
     "output_type": "display_data"
    }
   ],
   "source": [
    "plt.plot(mlp3_hidden_grads_mean / mlp3_hidden_grads_std)"
   ]
  },
  {
   "cell_type": "code",
   "execution_count": 50,
   "metadata": {
    "collapsed": false
   },
   "outputs": [
    {
     "data": {
      "text/plain": [
       "array([56, 11, 65, 84, 92,  0, 71, 77, 64,  7, 78, 60, 33, 63,  2, 28,  5,\n",
       "       36, 73, 10,  8, 87, 35,  4, 67, 69, 79, 22, 90, 14, 55, 19, 59, 23,\n",
       "        6, 62, 12, 99, 43, 42, 74, 83, 41,  3, 39, 91, 72, 13, 31, 47, 58,\n",
       "       40, 76, 32, 34, 49, 81, 50, 75, 25, 95, 53, 38, 48, 17, 54, 88, 94,\n",
       "       37, 51, 80, 96, 52, 82, 68, 24, 16, 66, 27, 15, 57, 97, 21,  9, 85,\n",
       "       18,  1, 98, 26, 46, 89, 45, 30, 93, 86, 20, 44, 29, 70, 61])"
      ]
     },
     "execution_count": 50,
     "metadata": {},
     "output_type": "execute_result"
    }
   ],
   "source": [
    "np.argsort(mlp3_hidden_grads_mean)"
   ]
  },
  {
   "cell_type": "code",
   "execution_count": 94,
   "metadata": {
    "collapsed": false
   },
   "outputs": [
    {
     "data": {
      "text/plain": [
       "array([12, 85, 74, 62, 77, 23, 26, 75,  6, 33, 78, 84, 97, 67, 34, 65, 21,\n",
       "        3, 42, 90, 15,  9, 64, 20, 38, 66, 46, 54, 80, 41,  2, 89, 86, 52,\n",
       "       61, 59, 60, 16, 36, 87, 57, 31, 69, 49, 98, 10, 50, 95, 51, 17, 58,\n",
       "       19, 13, 82, 93, 43, 48, 94, 22,  1, 30,  7, 11, 28, 37, 53, 32, 70,\n",
       "       71,  5, 44, 40, 96, 29, 25, 99, 81, 47, 14, 76, 83,  0, 91, 73, 56,\n",
       "       88, 72, 63, 55, 35, 68, 24, 92, 39, 27, 79,  4,  8, 45, 18])"
      ]
     },
     "execution_count": 94,
     "metadata": {},
     "output_type": "execute_result"
    }
   ],
   "source": [
    "np.argsort(mlp3_hidden_grads_mean / mlp3_hidden_grads_std)"
   ]
  },
  {
   "cell_type": "code",
   "execution_count": 105,
   "metadata": {
    "collapsed": false
   },
   "outputs": [
    {
     "data": {
      "text/plain": [
       "(200,)"
      ]
     },
     "execution_count": 105,
     "metadata": {},
     "output_type": "execute_result"
    }
   ],
   "source": [
    "mlp3[\"net\"].input_layer.W.get_value()[:,12].shape"
   ]
  },
  {
   "cell_type": "markdown",
   "metadata": {},
   "source": [
    "* Can we visualise a histogram of hidden activation gradients (over the validation set) for each hidden unit?"
   ]
  },
  {
   "cell_type": "code",
   "execution_count": 453,
   "metadata": {
    "collapsed": false
   },
   "outputs": [
    {
     "data": {
      "text/plain": [
       "(array([   63.,   113.,   171.,   210.,  1510.,  1562.,   178.,   135.,\n",
       "           96.,    23.]),\n",
       " array([ -6.32923745e-05,  -5.06339856e-05,  -3.79755967e-05,\n",
       "         -2.53172079e-05,  -1.26588190e-05,  -4.30141856e-10,\n",
       "          1.26579587e-05,   2.53163476e-05,   3.79747365e-05,\n",
       "          5.06331253e-05,   6.32915142e-05]),\n",
       " <a list of 10 Patch objects>)"
      ]
     },
     "execution_count": 453,
     "metadata": {},
     "output_type": "execute_result"
    },
    {
     "data": {
      "image/png": "[encoded data removed]",
      "text/plain": [
       "<matplotlib.figure.Figure at 0x155d0e810>"
      ]
     },
     "metadata": {},
     "output_type": "display_data"
    }
   ],
   "source": [
    "plt.hist( mlp3[\"hidden_grad_fn\"]( mlp3[\"hidden_predict_fn\"](Xv).astype(\"float32\"), yv)[:,39] )"
   ]
  },
  {
   "cell_type": "markdown",
   "metadata": {},
   "source": [
    "* Train on all minibatches\n",
    "* Evaluate performance of hidden layer on validation set\n",
    "* Find the M worst hidden units (i.e. the ones with high mean gradients), and reinitialise their weights"
   ]
  },
  {
   "cell_type": "code",
   "execution_count": 119,
   "metadata": {
    "collapsed": false
   },
   "outputs": [],
   "source": [
    "def adaptive_train(Xt, yt, Xv, yv, mlp, num_to_fix, check_every, \n",
    "                   batch_size, num_epochs=20, add_noise=False, print_out=True):\n",
    "    sampler = GlorotUniform()\n",
    "    idxs = [x for x in range(0, Xt.shape[0])]\n",
    "    train_fn = mlp[\"train_fn\"]\n",
    "    hidden_predict_fn = mlp[\"hidden_predict_fn\"]\n",
    "    hidden_grad_fn = mlp[\"hidden_grad_fn\"]\n",
    "    net = mlp[\"net\"]\n",
    "    h_grads_arr = []\n",
    "    for epoch in range(0, num_epochs):\n",
    "        random.shuffle(idxs)\n",
    "        Xt = Xt[idxs]\n",
    "        yt = yt[idxs]\n",
    "        b = 0\n",
    "        losses = []\n",
    "        while True:\n",
    "            if b*batch_size >= Xt.shape[0]:\n",
    "                break\n",
    "            this_loss = train_fn(Xt[b*batch_size : (b+1)*batch_size], yt[b*batch_size : (b+1)*batch_size])\n",
    "            losses.append(this_loss)\n",
    "            b += 1\n",
    "        if num_to_fix > 0:\n",
    "            h_grads = hidden_grad_fn(Xv, yv)\n",
    "            h_grads_mean = np.mean(np.abs(h_grads), axis=0)\n",
    "            h_grads_std = np.std(np.abs(h_grads), axis=0)\n",
    "            h_grads = h_grads_mean / h_grads_std\n",
    "            h_idxs = np.argsort(h_grads)[::-1]\n",
    "        #print \"units to fix: %s\" % str(h_idxs[0:num_to_fix])\n",
    "        if num_to_fix > 0 and (epoch+1) % check_every == 0:\n",
    "            W = net.input_layer.W.get_value()\n",
    "            for idx in h_idxs[0:num_to_fix]:\n",
    "                if add_noise:\n",
    "                    W[:,idx] += np.random.normal(0, 0.1, size=( W[:,idx].shape[0], 1) ).flatten()\n",
    "                else:\n",
    "                    W[:,idx] = sampler.sample( ( W[:,idx].shape[0], 1) ).flatten()\n",
    "            net.input_layer.W.set_value(W)\n",
    "        if print_out:\n",
    "            print np.mean(losses)\n",
    "    return h_grads_arr"
   ]
  },
  {
   "cell_type": "code",
   "execution_count": 121,
   "metadata": {
    "collapsed": false
   },
   "outputs": [
    {
     "name": "stdout",
     "output_type": "stream",
     "text": [
      "[0, 0, 0.7638512681605516]\n",
      "[0, 1, 0.7677911844373307]\n",
      "[0, 2, 0.7527702536321104]\n",
      "[0, 3, 0.7621275547894607]\n",
      "[0, 4, 0.7660674710662398]\n",
      "[0, 5, 0.7557251908396947]\n",
      "[0, 6, 0.7574489042107855]\n",
      "[0, 7, 0.7608963309529673]\n",
      "[0, 8, 0.7549864565377986]\n",
      "[0, 9, 0.7613888204875646]\n",
      "[5, 0, 0.7707461216449151]\n",
      "[5, 1, 0.7660674710662398]\n",
      "[5, 2, 0.7527702536321104]\n",
      "[5, 3, 0.7695148978084215]\n",
      "[5, 4, 0.7601575966510712]\n",
      "[5, 5, 0.7695148978084215]\n",
      "[5, 6, 0.7557251908396947]\n",
      "[5, 7, 0.7503078059591234]\n",
      "[5, 8, 0.7660674710662398]\n",
      "[5, 9, 0.7426742181728638]\n",
      "[10, 0, 0.767544939670032]\n",
      "[10, 1, 0.7781334646638759]\n",
      "[10, 2, 0.7670524501354347]\n",
      "[10, 3, 0.7564639251415908]\n",
      "[10, 4, 0.7633587786259542]\n",
      "[10, 5, 0.7399655257325782]\n",
      "[10, 6, 0.7515390297956168]\n",
      "[10, 7, 0.7702536321103176]\n",
      "[10, 8, 0.7608963309529673]\n",
      "[10, 9, 0.7407042600344743]\n",
      "[20, 0, 0.7150948042354099]\n",
      "[20, 1, 0.7766559960600837]\n",
      "[20, 2, 0.7729623245506033]\n",
      "[20, 3, 0.7719773454814085]\n",
      "[20, 4, 0.7712386111795124]\n",
      "[20, 5, 0.651317409505048]\n",
      "[20, 6, 0.6788968234425018]\n",
      "[20, 7, 0.7636050233932529]\n",
      "[20, 8, 0.7505540507264221]\n",
      "[20, 9, 0.7392267914306822]\n",
      "[40, 0, 0.7362718542230977]\n",
      "[40, 1, 0.7810884018714602]\n",
      "[40, 2, 0.7200196995813839]\n",
      "[40, 3, 0.5587293770007388]\n",
      "[40, 4, 0.7852745629155381]\n",
      "[40, 5, 0.6242304851021916]\n",
      "[40, 6, 0.7407042600344743]\n",
      "[40, 7, 0.706968726914553]\n",
      "[40, 8, 0.7468603792169416]\n",
      "[40, 9, 0.6547648362472297]\n",
      "[80, 0, 0.537552327013051]\n",
      "[80, 1, 0.6244767298694903]\n",
      "[80, 2, 0.2688992858901748]\n",
      "[80, 3, 0.3368628416646146]\n",
      "[80, 4, 0.30189608470819995]\n",
      "[80, 5, 0.42920462940162524]\n",
      "[80, 6, 0.5725190839694656]\n",
      "[80, 7, 0.5540507264220635]\n",
      "[80, 8, 0.2373799556759419]\n",
      "[80, 9, 0.4060576212755479]\n",
      "[0, 0, 0.7638512681605516]\n",
      "[0, 1, 0.7677911844373307]\n",
      "[0, 2, 0.7527702536321104]\n",
      "[0, 3, 0.7621275547894607]\n",
      "[0, 4, 0.7660674710662398]\n",
      "[0, 5, 0.7557251908396947]\n",
      "[0, 6, 0.7574489042107855]\n",
      "[0, 7, 0.7608963309529673]\n",
      "[0, 8, 0.7549864565377986]\n",
      "[0, 9, 0.7613888204875646]\n",
      "[5, 0, 0.7549864565377986]\n",
      "[5, 1, 0.7535089879340064]\n",
      "[5, 2, 0.7591726175818764]\n",
      "[5, 3, 0.7544939670032011]\n",
      "[5, 4, 0.7714848559468112]\n",
      "[5, 5, 0.7589263728145776]\n",
      "[5, 6, 0.7510465402610195]\n",
      "[5, 7, 0.7394730361979808]\n",
      "[5, 8, 0.7256833292292538]\n",
      "[5, 9, 0.7591726175818764]\n",
      "[10, 0, 0.7505540507264221]\n",
      "[10, 1, 0.7569564146761881]\n",
      "[10, 2, 0.7604038414183698]\n",
      "[10, 3, 0.7409505048017729]\n",
      "[10, 4, 0.7581876385126816]\n",
      "[10, 5, 0.7150948042354099]\n",
      "[10, 6, 0.7446441763112533]\n",
      "[10, 7, 0.7443979315439547]\n",
      "[10, 8, 0.7379955675941886]\n",
      "[10, 9, 0.7219896577197734]\n",
      "[20, 0, 0.7485840925880325]\n",
      "[20, 1, 0.7495690716572273]\n",
      "[20, 2, 0.730361979807929]\n",
      "[20, 3, 0.7335631617828121]\n",
      "[20, 4, 0.6813592711154888]\n",
      "[20, 5, 0.7256833292292538]\n",
      "[20, 6, 0.730361979807929]\n",
      "[20, 7, 0.7372568332922925]\n",
      "[20, 8, 0.72075843388328]\n",
      "[20, 9, 0.6978576705245013]\n",
      "[40, 0, 0.7052450135434623]\n",
      "[40, 1, 0.7195272100467865]\n",
      "[40, 2, 0.6830829844865797]\n",
      "[40, 3, 0.7030288106377739]\n",
      "[40, 4, 0.6129032258064516]\n",
      "[40, 5, 0.6766806205368135]\n",
      "[40, 6, 0.7219896577197734]\n",
      "[40, 7, 0.6788968234425018]\n",
      "[40, 8, 0.5466633834031027]\n",
      "[40, 9, 0.6968726914553066]\n",
      "[80, 0, 0.40778133464663874]\n",
      "[80, 1, 0.3356316178281212]\n",
      "[80, 2, 0.4006402363949766]\n",
      "[80, 3, 0.3597636050233933]\n",
      "[80, 4, 0.47377493228268897]\n",
      "[80, 5, 0.5163752770253632]\n",
      "[80, 6, 0.30238857424279736]\n",
      "[80, 7, 0.3134695887712386]\n",
      "[80, 8, 0.5483870967741935]\n",
      "[80, 9, 0.49495198227037673]\n"
     ]
    }
   ],
   "source": [
    "for check_every in [1, 20]:\n",
    "    rows_to_write = []\n",
    "    for num_to_fix in [0, 5, 10, 20, 40, 80]:\n",
    "        valid_accs = []\n",
    "        for x in range(0, 10):\n",
    "            row = [num_to_fix, x]\n",
    "            np.random.seed(x)\n",
    "            random.seed(x)\n",
    "            mlp4 = mlp(X_total, y_total, num_hidden_units=None, lamb=0.0)\n",
    "            h_grads_arr = adaptive_train(Xt, yt, Xv, yv, mlp4, \n",
    "                batch_size=128, num_epochs=100, num_to_fix=num_to_fix, check_every=check_every, print_out=False)\n",
    "            valid_acc = get_accuracy(Xv, yv, mlp4[\"predict_fn\"])\n",
    "            row.append(valid_acc)\n",
    "            valid_accs.append(valid_acc)\n",
    "            rows_to_write.append(row)\n",
    "            print row\n",
    "    with open(\"feature_ranking_out_adaptive/stats%i.csv\" % check_every, \"wb\") as f:\n",
    "        f.write(\"num_to_fix,seed,valid_accuracy\\n\")\n",
    "        for row in rows_to_write:\n",
    "            f.write(\",\".join( [str(r) for r in row] ) + \"\\n\")"
   ]
  },
  {
   "cell_type": "markdown",
   "metadata": {},
   "source": [
    "* Weight change every epoch = 80 does better than everything else (seems too brute force?)\n",
    "* Weight change every 20 epochs = 80 does worse"
   ]
  },
  {
   "cell_type": "code",
   "execution_count": 615,
   "metadata": {
    "collapsed": false
   },
   "outputs": [
    {
     "name": "stdout",
     "output_type": "stream",
     "text": [
      "[0, 0, 0.7709923664122137]\n",
      "[0, 1, 0.7589263728145776]\n",
      "[0, 2, 0.756217680374292]\n",
      "[0, 3, 0.7606500861856685]\n",
      "[0, 4, 0.7576951489780842]\n",
      "[0, 5, 0.7606500861856685]\n",
      "[0, 6, 0.758680128047279]\n",
      "[0, 7, 0.7690224082738242]\n",
      "[0, 8, 0.7655749815316425]\n",
      "[0, 9, 0.7576951489780842]\n",
      "[5, 0, 0.7522777640975129]\n",
      "[5, 1, 0.7453829106131494]\n",
      "[5, 2, 0.7453829106131494]\n",
      "[5, 3, 0.7535089879340064]\n",
      "[5, 4, 0.7544939670032011]\n",
      "[5, 5, 0.7443979315439547]\n",
      "[5, 6, 0.7552327013050972]\n",
      "[5, 7, 0.7653287367643438]\n",
      "[5, 8, 0.7463678896823442]\n",
      "[5, 9, 0.7463678896823442]\n",
      "[10, 0, 0.7557251908396947]\n",
      "[10, 1, 0.7244521053927604]\n",
      "[10, 2, 0.741689239103669]\n",
      "[10, 3, 0.7468603792169416]\n",
      "[10, 4, 0.7054912583107609]\n",
      "[10, 5, 0.7512927850283182]\n",
      "[10, 6, 0.7532627431667077]\n",
      "[10, 7, 0.7493228268899286]\n",
      "[10, 8, 0.7411967495690717]\n",
      "[10, 9, 0.7495690716572273]\n"
     ]
    }
   ],
   "source": [
    "for check_every in [20]:\n",
    "    rows_to_write = []\n",
    "    for num_to_fix in [0, 5, 10]:\n",
    "        valid_accs = []\n",
    "        # row in the format \"num_to_fix,seed,valid_acc\n",
    "        for x in range(0, 10):\n",
    "            row = [num_to_fix, x]\n",
    "            np.random.seed(x)\n",
    "            random.seed(x)\n",
    "            mlp4 = mlp(X_total, y_total, num_hidden_units=None, lamb=0.0)\n",
    "            h_grads_arr = adaptive_train(\n",
    "                Xt, yt, Xv, yv, mlp4, num_epochs=100, num_to_fix=num_to_fix, check_every=check_every, add_noise=True, print_out=False)\n",
    "            valid_acc = get_accuracy(Xv, yv, mlp4[\"predict_fn\"])\n",
    "            row.append(valid_acc)\n",
    "            valid_accs.append(valid_acc)\n",
    "            rows_to_write.append(row)\n",
    "            print row\n",
    "\n",
    "    with open(\"feature_ranking_out_adaptive/noise_stats%i.csv\" % check_every, \"wb\") as f:\n",
    "        f.write(\"num_to_fix,seed,valid_accuracy\\n\")\n",
    "        for row in rows_to_write:\n",
    "            f.write(\",\".join( [str(r) for r in row] ) + \"\\n\")"
   ]
  },
  {
   "cell_type": "code",
   "execution_count": 555,
   "metadata": {
    "collapsed": false
   },
   "outputs": [],
   "source": [
    "for i in range(0, len(h_grads_arr)):\n",
    "    plt.ylim(0, 0.000050)\n",
    "    plt.plot(h_grads_arr[i])\n",
    "    plt.savefig(\"feature_ranking_out_adaptive/%s.png\" % str(i+1).zfill(2))\n",
    "    plt.close()"
   ]
  },
  {
   "cell_type": "markdown",
   "metadata": {
    "collapsed": true
   },
   "source": [
    "----"
   ]
  },
  {
   "cell_type": "markdown",
   "metadata": {},
   "source": [
    "* Plot the gradients on MNIST digits. This makes a nice visualisation which could make it into the paper."
   ]
  },
  {
   "cell_type": "code",
   "execution_count": 380,
   "metadata": {
    "collapsed": true
   },
   "outputs": [],
   "source": [
    "sys.path.append(\"../modules/\")\n",
    "import helper as hp"
   ]
  },
  {
   "cell_type": "code",
   "execution_count": 381,
   "metadata": {
    "collapsed": true
   },
   "outputs": [],
   "source": [
    "mnist_train_set, _, _ = hp.load_mnist()"
   ]
  },
  {
   "cell_type": "code",
   "execution_count": 387,
   "metadata": {
    "collapsed": true
   },
   "outputs": [],
   "source": [
    "mnist_x, mnist_y = mnist_train_set\n",
    "mnist_x = mnist_x.astype(\"float32\")\n",
    "mnist_y = mnist_y.astype(\"int32\")"
   ]
  },
  {
   "cell_type": "code",
   "execution_count": 383,
   "metadata": {
    "collapsed": true
   },
   "outputs": [],
   "source": [
    "def simple_conv(X_data, y_data):\n",
    "    a_in = InputLayer( (None, 1, 28, 28 ) )\n",
    "    a_conv1 = Conv2DLayer(a_in, num_filters=16, filter_size=(5,5), nonlinearity=rectify)\n",
    "    a_mp1 = MaxPool2DLayer(a_conv1, pool_size=(2,2))\n",
    "    a_conv2 = Conv2DLayer(a_mp1, num_filters=32, filter_size=(5,5), nonlinearity=rectify)\n",
    "    a_mp2 = MaxPool2DLayer(a_conv2, pool_size=(2,2))\n",
    "    a_out = DenseLayer(a_mp2, num_units=np.max(y_data)+1, nonlinearity=softmax)  \n",
    "    X = T.tensor4('X')\n",
    "    y = T.ivector('y')\n",
    "    loss = categorical_crossentropy( get_output(a_out, X), y ).mean()\n",
    "    params = get_all_params(a_out)\n",
    "    updates = nesterov_momentum(loss, params, 0.01, 0.9)\n",
    "    train_fn = theano.function([X, y], loss, updates=updates)\n",
    "    x_grad_fn = theano.function([X, y], T.grad(loss, X))\n",
    "    predict_fn = theano.function([X], get_output(a_out, X) )\n",
    "    loss_fn = theano.function([X, y], loss )\n",
    "    return {\"net\": a_out,\n",
    "            \"train_fn\":train_fn,\n",
    "            \"x_grad_fn\":x_grad_fn,\n",
    "            \"predict_fn\":predict_fn,\n",
    "            \"loss_fn\": loss_fn}"
   ]
  },
  {
   "cell_type": "code",
   "execution_count": 384,
   "metadata": {
    "collapsed": true
   },
   "outputs": [],
   "source": [
    "conv = simple_conv(mnist_x, mnist_y)"
   ]
  },
  {
   "cell_type": "code",
   "execution_count": 388,
   "metadata": {
    "collapsed": false
   },
   "outputs": [
    {
     "name": "stdout",
     "output_type": "stream",
     "text": [
      "0.26089267387\n",
      "0.0771458087307\n",
      "0.0571138216773\n"
     ]
    },
    {
     "ename": "KeyboardInterrupt",
     "evalue": "",
     "output_type": "error",
     "traceback": [
      "\u001b[0;31m---------------------------------------------------------------------------\u001b[0m",
      "\u001b[0;31mKeyboardInterrupt\u001b[0m                         Traceback (most recent call last)",
      "\u001b[0;32m<ipython-input-388-83b1cdc78701>\u001b[0m in \u001b[0;36m<module>\u001b[0;34m()\u001b[0m\n\u001b[0;32m----> 1\u001b[0;31m \u001b[0mtrain_net\u001b[0m\u001b[0;34m(\u001b[0m\u001b[0mmnist_x\u001b[0m\u001b[0;34m,\u001b[0m \u001b[0mmnist_y\u001b[0m\u001b[0;34m,\u001b[0m \u001b[0mconv\u001b[0m\u001b[0;34m[\u001b[0m\u001b[0;34m\"train_fn\"\u001b[0m\u001b[0;34m]\u001b[0m\u001b[0;34m,\u001b[0m \u001b[0mnum_epochs\u001b[0m\u001b[0;34m=\u001b[0m\u001b[0;36m5\u001b[0m\u001b[0;34m,\u001b[0m \u001b[0mbatch_size\u001b[0m\u001b[0;34m=\u001b[0m\u001b[0;36m64\u001b[0m\u001b[0;34m)\u001b[0m\u001b[0;34m\u001b[0m\u001b[0m\n\u001b[0m",
      "\u001b[0;32m<ipython-input-163-7f4713c07068>\u001b[0m in \u001b[0;36mtrain_net\u001b[0;34m(X_train, y_train, train_fn, num_epochs, batch_size, shuffle)\u001b[0m\n\u001b[1;32m     13\u001b[0m                 \u001b[0;32mbreak\u001b[0m\u001b[0;34m\u001b[0m\u001b[0m\n\u001b[1;32m     14\u001b[0m             this_loss = train_fn(\n\u001b[0;32m---> 15\u001b[0;31m                 Xt[b*batch_size : (b+1)*batch_size], yt[b*batch_size : (b+1)*batch_size])\n\u001b[0m\u001b[1;32m     16\u001b[0m             \u001b[0mlosses\u001b[0m\u001b[0;34m.\u001b[0m\u001b[0mappend\u001b[0m\u001b[0;34m(\u001b[0m\u001b[0mthis_loss\u001b[0m\u001b[0;34m)\u001b[0m\u001b[0;34m\u001b[0m\u001b[0m\n\u001b[1;32m     17\u001b[0m             \u001b[0mb\u001b[0m \u001b[0;34m+=\u001b[0m \u001b[0;36m1\u001b[0m\u001b[0;34m\u001b[0m\u001b[0m\n",
      "\u001b[0;32m//anaconda/lib/python2.7/site-packages/Theano-0.8.0.dev0-py2.7.egg/theano/compile/function_module.pyc\u001b[0m in \u001b[0;36m__call__\u001b[0;34m(self, *args, **kwargs)\u001b[0m\n\u001b[1;32m    857\u001b[0m         \u001b[0mt0_fn\u001b[0m \u001b[0;34m=\u001b[0m \u001b[0mtime\u001b[0m\u001b[0;34m.\u001b[0m\u001b[0mtime\u001b[0m\u001b[0;34m(\u001b[0m\u001b[0;34m)\u001b[0m\u001b[0;34m\u001b[0m\u001b[0m\n\u001b[1;32m    858\u001b[0m         \u001b[0;32mtry\u001b[0m\u001b[0;34m:\u001b[0m\u001b[0;34m\u001b[0m\u001b[0m\n\u001b[0;32m--> 859\u001b[0;31m             \u001b[0moutputs\u001b[0m \u001b[0;34m=\u001b[0m \u001b[0mself\u001b[0m\u001b[0;34m.\u001b[0m\u001b[0mfn\u001b[0m\u001b[0;34m(\u001b[0m\u001b[0;34m)\u001b[0m\u001b[0;34m\u001b[0m\u001b[0m\n\u001b[0m\u001b[1;32m    860\u001b[0m         \u001b[0;32mexcept\u001b[0m \u001b[0mException\u001b[0m\u001b[0;34m:\u001b[0m\u001b[0;34m\u001b[0m\u001b[0m\n\u001b[1;32m    861\u001b[0m             \u001b[0;32mif\u001b[0m \u001b[0mhasattr\u001b[0m\u001b[0;34m(\u001b[0m\u001b[0mself\u001b[0m\u001b[0;34m.\u001b[0m\u001b[0mfn\u001b[0m\u001b[0;34m,\u001b[0m \u001b[0;34m'position_of_error'\u001b[0m\u001b[0;34m)\u001b[0m\u001b[0;34m:\u001b[0m\u001b[0;34m\u001b[0m\u001b[0m\n",
      "\u001b[0;32m//anaconda/lib/python2.7/site-packages/Theano-0.8.0.dev0-py2.7.egg/theano/gof/op.pyc\u001b[0m in \u001b[0;36mrval\u001b[0;34m(p, i, o, n)\u001b[0m\n\u001b[1;32m    905\u001b[0m         \u001b[0;32mif\u001b[0m \u001b[0mparams\u001b[0m \u001b[0;32mis\u001b[0m \u001b[0mgraph\u001b[0m\u001b[0;34m.\u001b[0m\u001b[0mNoParams\u001b[0m\u001b[0;34m:\u001b[0m\u001b[0;34m\u001b[0m\u001b[0m\n\u001b[1;32m    906\u001b[0m             \u001b[0;31m# default arguments are stored in the closure of `rval`\u001b[0m\u001b[0;34m\u001b[0m\u001b[0;34m\u001b[0m\u001b[0m\n\u001b[0;32m--> 907\u001b[0;31m             \u001b[0;32mdef\u001b[0m \u001b[0mrval\u001b[0m\u001b[0;34m(\u001b[0m\u001b[0mp\u001b[0m\u001b[0;34m=\u001b[0m\u001b[0mp\u001b[0m\u001b[0;34m,\u001b[0m \u001b[0mi\u001b[0m\u001b[0;34m=\u001b[0m\u001b[0mnode_input_storage\u001b[0m\u001b[0;34m,\u001b[0m \u001b[0mo\u001b[0m\u001b[0;34m=\u001b[0m\u001b[0mnode_output_storage\u001b[0m\u001b[0;34m,\u001b[0m \u001b[0mn\u001b[0m\u001b[0;34m=\u001b[0m\u001b[0mnode\u001b[0m\u001b[0;34m)\u001b[0m\u001b[0;34m:\u001b[0m\u001b[0;34m\u001b[0m\u001b[0m\n\u001b[0m\u001b[1;32m    908\u001b[0m                 \u001b[0mr\u001b[0m \u001b[0;34m=\u001b[0m \u001b[0mp\u001b[0m\u001b[0;34m(\u001b[0m\u001b[0mn\u001b[0m\u001b[0;34m,\u001b[0m \u001b[0;34m[\u001b[0m\u001b[0mx\u001b[0m\u001b[0;34m[\u001b[0m\u001b[0;36m0\u001b[0m\u001b[0;34m]\u001b[0m \u001b[0;32mfor\u001b[0m \u001b[0mx\u001b[0m \u001b[0;32min\u001b[0m \u001b[0mi\u001b[0m\u001b[0;34m]\u001b[0m\u001b[0;34m,\u001b[0m \u001b[0mo\u001b[0m\u001b[0;34m)\u001b[0m\u001b[0;34m\u001b[0m\u001b[0m\n\u001b[1;32m    909\u001b[0m                 \u001b[0;32mfor\u001b[0m \u001b[0mo\u001b[0m \u001b[0;32min\u001b[0m \u001b[0mnode\u001b[0m\u001b[0;34m.\u001b[0m\u001b[0moutputs\u001b[0m\u001b[0;34m:\u001b[0m\u001b[0;34m\u001b[0m\u001b[0m\n",
      "\u001b[0;31mKeyboardInterrupt\u001b[0m: "
     ]
    }
   ],
   "source": [
    "train_net(mnist_x, mnist_y, conv[\"train_fn\"], num_epochs=5, batch_size=64)"
   ]
  },
  {
   "cell_type": "code",
   "execution_count": 393,
   "metadata": {
    "collapsed": true
   },
   "outputs": [],
   "source": [
    "mnist_x_9 = mnist_x[ (mnist_y == 9) ]\n",
    "mnist_y_9 = np.asarray([9 for x in range(0, mnist_x_9.shape[0])], dtype=\"int32\")"
   ]
  },
  {
   "cell_type": "code",
   "execution_count": 394,
   "metadata": {
    "collapsed": false
   },
   "outputs": [],
   "source": [
    "grads_for_9 = conv[\"x_grad_fn\"](mnist_x_9, mnist_y_9)"
   ]
  },
  {
   "cell_type": "code",
   "execution_count": 403,
   "metadata": {
    "collapsed": false
   },
   "outputs": [
    {
     "data": {
      "text/plain": [
       "<matplotlib.image.AxesImage at 0x144be4950>"
      ]
     },
     "execution_count": 403,
     "metadata": {},
     "output_type": "execute_result"
    },
    {
     "data": {
      "image/png": "[encoded data removed]",
      "text/plain": [
       "<matplotlib.figure.Figure at 0x1448c7690>"
      ]
     },
     "metadata": {},
     "output_type": "display_data"
    }
   ],
   "source": [
    "plt.imshow( np.mean(np.abs(grads_for_9),axis=0)[0] )"
   ]
  },
  {
   "cell_type": "code",
   "execution_count": 404,
   "metadata": {
    "collapsed": false
   },
   "outputs": [
    {
     "data": {
      "text/plain": [
       "<matplotlib.image.AxesImage at 0x1450a6bd0>"
      ]
     },
     "execution_count": 404,
     "metadata": {},
     "output_type": "execute_result"
    },
    {
     "data": {
      "image/png": "[encoded data removed]",
      "text/plain": [
       "<matplotlib.figure.Figure at 0x14504e3d0>"
      ]
     },
     "metadata": {},
     "output_type": "display_data"
    }
   ],
   "source": [
    "plt.imshow( np.mean(np.abs(mnist_x_9),axis=0)[0] )"
   ]
  },
  {
   "cell_type": "markdown",
   "metadata": {},
   "source": [
    "----"
   ]
  },
  {
   "cell_type": "markdown",
   "metadata": {},
   "source": [
    "* Not using autoencoders, because the noise attributes actually get larger gradients. Because they have no structure to them, the network allocates more capacity to them, and hence they end up being more important attributes."
   ]
  },
  {
   "cell_type": "markdown",
   "metadata": {
    "collapsed": true
   },
   "source": [
    "----"
   ]
  },
  {
   "cell_type": "code",
   "execution_count": 8,
   "metadata": {
    "collapsed": false
   },
   "outputs": [],
   "source": [
    "?T.sqr"
   ]
  },
  {
   "cell_type": "code",
   "execution_count": 135,
   "metadata": {
    "collapsed": true
   },
   "outputs": [],
   "source": [
    "def mlp_fnorm(X_data, y_data, num_hidden_units=None, lamb=0.0):\n",
    "    \"\"\"\n",
    "    We have an MLP x -> h -> y.\n",
    "    Let's apply the data regulariser ||dy/dh||_{F}^2\n",
    "    \"\"\"\n",
    "    if num_hidden_units == None:\n",
    "        num_hidden_units = X_data.shape[1]/2\n",
    "    a_in = InputLayer( (None, X_data.shape[1]) )\n",
    "    a_hidden = DenseLayer(a_in, num_units=num_hidden_units)\n",
    "    a_out = DenseLayer(a_hidden, num_units=np.max(y_data)+1, nonlinearity=softmax)\n",
    "    # ---\n",
    "    X = T.fmatrix('X')\n",
    "    y = T.ivector('y')\n",
    "    loss = categorical_crossentropy( get_output(a_out, X), y ).mean() + \\\n",
    "        lamb*1\n",
    "    params = get_all_params(a_out)\n",
    "    updates = nesterov_momentum(loss, params, 0.01, 0.9)\n",
    "    train_fn = theano.function([X, y], loss, updates=updates)\n",
    "    # the loss fn is defined in terms of X -> hidden -> out\n",
    "    x_grad_fn = theano.function([X, y], T.grad(loss, X))\n",
    "    predict_fn = theano.function([X], get_output(a_out, X) )\n",
    "    loss_fn = theano.function([X, y], loss )\n",
    "    \n",
    "    tmp_fn = theano.function([X], \n",
    "        theano.gradient.jacobian( get_output(a_hidden, X).flatten(), X ))\n",
    "    \n",
    "    # ---\n",
    "    return {\"net\": a_out,\n",
    "            \"train_fn\":train_fn,\n",
    "            \"x_grad_fn\":x_grad_fn,\n",
    "            \"predict_fn\":predict_fn,\n",
    "            \"loss_fn\": loss_fn,\n",
    "            \"tmp_fn\": tmp_fn}"
   ]
  },
  {
   "cell_type": "code",
   "execution_count": 136,
   "metadata": {
    "collapsed": false
   },
   "outputs": [],
   "source": [
    "tmp_fn = mlp_fnorm(X_total, y_total)[\"tmp_fn\"]"
   ]
  },
  {
   "cell_type": "code",
   "execution_count": 143,
   "metadata": {
    "collapsed": false
   },
   "outputs": [
    {
     "data": {
      "text/plain": [
       "(400, 4, 200)"
      ]
     },
     "execution_count": 143,
     "metadata": {},
     "output_type": "execute_result"
    }
   ],
   "source": [
    "tmp_fn(X_total[0:4]).shape"
   ]
  },
  {
   "cell_type": "code",
   "execution_count": 138,
   "metadata": {
    "collapsed": true
   },
   "outputs": [],
   "source": [
    "?theano.gradient.jacobian"
   ]
  },
  {
   "cell_type": "code",
   "execution_count": 142,
   "metadata": {
    "collapsed": false
   },
   "outputs": [
    {
     "data": {
      "text/plain": [
       "(4, 200)"
      ]
     },
     "execution_count": 142,
     "metadata": {},
     "output_type": "execute_result"
    }
   ],
   "source": [
    "X_total[0:4].shape"
   ]
  },
  {
   "cell_type": "code",
   "execution_count": null,
   "metadata": {
    "collapsed": true
   },
   "outputs": [],
   "source": []
  }
 ],
 "metadata": {
  "kernelspec": {
   "display_name": "Python 2",
   "language": "python",
   "name": "python2"
  },
  "language_info": {
   "codemirror_mode": {
    "name": "ipython",
    "version": 2
   },
   "file_extension": ".py",
   "mimetype": "text/x-python",
   "name": "python",
   "nbconvert_exporter": "python",
   "pygments_lexer": "ipython2",
   "version": "2.7.10"
  }
 },
 "nbformat": 4,
 "nbformat_minor": 0
}
