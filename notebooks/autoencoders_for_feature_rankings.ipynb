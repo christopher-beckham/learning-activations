{
 "cells": [
  {
   "cell_type": "markdown",
   "metadata": {},
   "source": [
    "* MNIST inverse network\n",
    "* Newsgroups inverse network\n",
    "* Squared error loss and classification loss\n",
    "  * Also with L1 regularisation"
   ]
  },
  {
   "cell_type": "code",
   "execution_count": 96,
   "metadata": {
    "collapsed": false
   },
   "outputs": [],
   "source": [
    "import sys\n",
    "import cPickle as pickle\n",
    "import gzip\n",
    "import random\n",
    "from matplotlib import pyplot as plt\n",
    "%matplotlib inline\n",
    "sys.path.append(\"../modules/\")\n",
    "import helper as hp\n",
    "# ----\n",
    "import theano\n",
    "from theano import tensor as T\n",
    "import lasagne\n",
    "import numpy as np\n",
    "# ---\n",
    "from skimage import io\n",
    "# ---\n",
    "from lasagne.layers import *\n",
    "from lasagne.nonlinearities import *\n",
    "from lasagne.objectives import *\n",
    "from lasagne.init import *\n",
    "from lasagne.updates import *\n",
    "from lasagne.regularization import *\n",
    "# ---\n",
    "from scipy.io import loadmat\n",
    "# ---\n",
    "random.seed(0)\n",
    "np.random.seed(0)"
   ]
  },
  {
   "cell_type": "code",
   "execution_count": 574,
   "metadata": {
    "collapsed": false
   },
   "outputs": [
    {
     "name": "stderr",
     "output_type": "stream",
     "text": [
      "//anaconda/lib/python2.7/site-packages/IPython/extensions/rmagic.py:11: UserWarning: The rmagic extension in IPython has moved to `rpy2.ipython`, please see `rpy2` documentation.\n",
      "  warnings.warn(\"The rmagic extension in IPython has moved to \"\n"
     ]
    }
   ],
   "source": [
    "%load_ext rmagic"
   ]
  },
  {
   "cell_type": "code",
   "execution_count": 62,
   "metadata": {
    "collapsed": true
   },
   "outputs": [],
   "source": [
    "def print_net(out):\n",
    "    for layer in get_all_layers(out):\n",
    "        print layer.output_shape\n",
    "    print count_params(out)"
   ]
  },
  {
   "cell_type": "markdown",
   "metadata": {},
   "source": [
    "* Load in the newsgroup dataset\n",
    "* Add 100 random $U(0,1)$ (discrete) attributes to the end."
   ]
  },
  {
   "cell_type": "code",
   "execution_count": 159,
   "metadata": {
    "collapsed": false
   },
   "outputs": [],
   "source": [
    "data = loadmat(\"../data/20news_w100.mat\")\n",
    "X_total = data[\"documents\"].toarray().T\n",
    "X_total = np.asarray(X_total, dtype=\"float32\")\n",
    "X_noise = np.asarray(np.random.randint(0, 2, (X_total.shape[0], X_total.shape[1])), dtype=\"float32\")\n",
    "X_total = np.hstack( (X_total, X_noise) )\n",
    "y_total = data[\"newsgroups\"]-1\n",
    "y_total = np.asarray(y_total[0],dtype=\"int32\")"
   ]
  },
  {
   "cell_type": "code",
   "execution_count": 160,
   "metadata": {
    "collapsed": true
   },
   "outputs": [],
   "source": [
    "def simple_mlp(X_data, y_data, lamb=0.0):\n",
    "    a_in = InputLayer( (None, X_data.shape[1]) )\n",
    "    a_out = DenseLayer(a_in, num_units=np.max(y_data)+1, nonlinearity=softmax)   \n",
    "    X = T.fmatrix('X')\n",
    "    y = T.ivector('y')\n",
    "    loss = categorical_crossentropy( get_output(a_out, X), y ).mean() + \\\n",
    "        lamb*regularize_layer_params(a_out, l1)\n",
    "    params = get_all_params(a_out)\n",
    "    updates = nesterov_momentum(loss, params, 0.01, 0.9)\n",
    "    train_fn = theano.function([X, y], loss, updates=updates)\n",
    "    x_grad_fn = theano.function([X, y], T.grad(loss, X))\n",
    "    predict_fn = theano.function([X], get_output(a_out, X) )\n",
    "    loss_fn = theano.function([X, y], loss )\n",
    "    return {\"net\": a_out,\n",
    "            \"train_fn\":train_fn,\n",
    "            \"x_grad_fn\":x_grad_fn,\n",
    "            \"predict_fn\":predict_fn,\n",
    "            \"loss_fn\": loss_fn}"
   ]
  },
  {
   "cell_type": "code",
   "execution_count": 161,
   "metadata": {
    "collapsed": false
   },
   "outputs": [],
   "source": [
    "mlp1 = simple_mlp(X_total, y_total, lamb=1e-4)"
   ]
  },
  {
   "cell_type": "code",
   "execution_count": 162,
   "metadata": {
    "collapsed": false
   },
   "outputs": [
    {
     "name": "stdout",
     "output_type": "stream",
     "text": [
      "(None, 200)\n",
      "(None, 4)\n",
      "804\n"
     ]
    }
   ],
   "source": [
    "print_net(mlp1[\"net\"])"
   ]
  },
  {
   "cell_type": "code",
   "execution_count": 163,
   "metadata": {
    "collapsed": true
   },
   "outputs": [],
   "source": [
    "def train_net(X_train, y_train, train_fn, num_epochs, batch_size, shuffle=True):\n",
    "    idxs = [x for x in range(0, X_train.shape[0])]\n",
    "    Xt, yt = X_train, y_train\n",
    "    for epoch in range(0, num_epochs):\n",
    "        if shuffle:\n",
    "            random.shuffle(idxs)\n",
    "            Xt = X_train[idxs]\n",
    "            yt = y_train[idxs]\n",
    "        b = 0\n",
    "        losses = []\n",
    "        while True:\n",
    "            if b*batch_size >= Xt.shape[0]:\n",
    "                break\n",
    "            this_loss = train_fn(\n",
    "                Xt[b*batch_size : (b+1)*batch_size], yt[b*batch_size : (b+1)*batch_size])\n",
    "            losses.append(this_loss)\n",
    "            b += 1\n",
    "        print np.mean(losses)"
   ]
  },
  {
   "cell_type": "code",
   "execution_count": 143,
   "metadata": {
    "collapsed": true
   },
   "outputs": [],
   "source": [
    "def get_accuracy(X_train, y_train, predict_fn):\n",
    "    return float(np.sum(np.argmax(predict_fn(X_train),axis=1) == y_train)) / len(y_train)"
   ]
  },
  {
   "cell_type": "code",
   "execution_count": 154,
   "metadata": {
    "collapsed": true
   },
   "outputs": [],
   "source": [
    "def get_mean_abs_grad(X_train, y_train, x_grad_fn):\n",
    "    return np.mean(np.abs(x_grad_fn(X_train, y_train)),axis=0)"
   ]
  },
  {
   "cell_type": "markdown",
   "metadata": {},
   "source": [
    "* Train a simple perceptron MLP on the newsgroup dataset with $L_{1}$\n",
    "* Look at the accuracy and a plot of the mean absolute gradients over the training set (we expect the noise attributes to have low gradients)"
   ]
  },
  {
   "cell_type": "code",
   "execution_count": 164,
   "metadata": {
    "collapsed": false
   },
   "outputs": [
    {
     "name": "stdout",
     "output_type": "stream",
     "text": [
      "1.23782492573\n",
      "0.960639491297\n",
      "0.848167788826\n",
      "0.784305225545\n",
      "0.743613367122\n",
      "0.713672729464\n",
      "0.691508968917\n",
      "0.674317077775\n",
      "0.660457236334\n",
      "0.647527825989\n",
      "0.63826223627\n",
      "0.629079979089\n",
      "0.621915280712\n",
      "0.615667768524\n",
      "0.60946658993\n",
      "0.604178421548\n",
      "0.599059228146\n",
      "0.595081339638\n",
      "0.591303508491\n",
      "0.587313707409\n",
      "0.584546975842\n",
      "0.581150863592\n",
      "0.578920502777\n",
      "0.576257051497\n",
      "0.573726568034\n",
      "0.570987052064\n",
      "0.569266816217\n",
      "0.567626849824\n",
      "0.565838529677\n",
      "0.563938650743\n",
      "0.562113950668\n",
      "0.56032212932\n",
      "0.559437404324\n",
      "0.55771197196\n",
      "0.557043260298\n",
      "0.555486703026\n",
      "0.554498902576\n",
      "0.552672347261\n",
      "0.552092306087\n",
      "0.55127030752\n",
      "0.550372989862\n",
      "0.549320239056\n",
      "0.548901000415\n",
      "0.547335477268\n",
      "0.546944026156\n",
      "0.545982552765\n",
      "0.545147662821\n",
      "0.544118613568\n",
      "0.543581190859\n",
      "0.543280369104\n",
      "0.542228214874\n",
      "0.541875568586\n",
      "0.541428510473\n",
      "0.540986840894\n",
      "0.54008416404\n",
      "0.539583482373\n",
      "0.539327911776\n",
      "0.539311553776\n",
      "0.538282317624\n",
      "0.537281528075\n",
      "0.537239494005\n",
      "0.536886463901\n",
      "0.536271668828\n",
      "0.536607975535\n",
      "0.535751097298\n",
      "0.535342858907\n",
      "0.534710173516\n",
      "0.534634907381\n",
      "0.534230801413\n",
      "0.534112394396\n",
      "0.533287232158\n",
      "0.53339526413\n",
      "0.532837506779\n",
      "0.532617058493\n",
      "0.532113186794\n",
      "0.531800308308\n",
      "0.531911229873\n",
      "0.531451856755\n",
      "0.531114307854\n",
      "0.53093658964\n",
      "0.531085560527\n",
      "0.530141798485\n",
      "0.530585234335\n",
      "0.529883740716\n",
      "0.530003480863\n",
      "0.529543101928\n",
      "0.529497684745\n",
      "0.529204414655\n",
      "0.528650409445\n",
      "0.528380866264\n",
      "0.528902996405\n",
      "0.528728748933\n",
      "0.528375454282\n",
      "0.527930631925\n",
      "0.528206820135\n",
      "0.527738595665\n",
      "0.527301066681\n",
      "0.527083274277\n",
      "0.527572988136\n",
      "0.527179136526\n",
      "0.526601763903\n",
      "0.526665258813\n",
      "0.526834383444\n",
      "0.52648278468\n",
      "0.526442749523\n",
      "0.526155854373\n",
      "0.526017888043\n",
      "0.525865219828\n",
      "0.525512073327\n",
      "0.525532230392\n",
      "0.52575400161\n",
      "0.525269687378\n",
      "0.525385114702\n",
      "0.525114663126\n",
      "0.525286785736\n",
      "0.525074793154\n",
      "0.524605417461\n",
      "0.524795529622\n",
      "0.524402612387\n",
      "0.524705397482\n",
      "0.524199938873\n",
      "0.523997219575\n",
      "0.52414607086\n",
      "0.524264086738\n",
      "0.523481707248\n",
      "0.524061265331\n",
      "0.523947887222\n",
      "0.524078534558\n",
      "0.52368651817\n",
      "0.523325687424\n",
      "0.523463374882\n",
      "0.523441576603\n",
      "0.523472725083\n",
      "0.522733660277\n",
      "0.523133003142\n",
      "0.5236253365\n",
      "0.523412495805\n",
      "0.522724993457\n",
      "0.522872389638\n",
      "0.523046695746\n",
      "0.522176749962\n",
      "0.522693053726\n",
      "0.522144834749\n",
      "0.521836368287\n",
      "0.522424939214\n",
      "0.522547341428\n",
      "0.522528200789\n",
      "0.522039253468\n",
      "0.522190190383\n",
      "0.522567392547\n",
      "0.522370018344\n",
      "0.521844247273\n",
      "0.522092577417\n",
      "0.5216677754\n",
      "0.522181173093\n",
      "0.521498014089\n",
      "0.521545171573\n",
      "0.521927950474\n",
      "0.521971538631\n",
      "0.52107643581\n",
      "0.521575874658\n",
      "0.521123376\n",
      "0.52110558727\n",
      "0.521465181838\n",
      "0.521184246085\n",
      "0.521110963597\n",
      "0.521282593271\n",
      "0.520952945249\n",
      "0.520788184278\n",
      "0.52082487283\n",
      "0.520830846409\n",
      "0.520908904147\n",
      "0.5216797324\n",
      "0.520522938534\n",
      "0.521358434764\n",
      "0.520239194051\n",
      "0.520700475962\n",
      "0.520750223238\n",
      "0.520505447454\n",
      "0.520753155957\n",
      "0.520294762948\n",
      "0.520681126164\n",
      "0.520730468876\n",
      "0.520537144961\n",
      "0.520337009267\n",
      "0.520508817356\n",
      "0.520317766549\n",
      "0.52025190616\n",
      "0.520569537048\n",
      "0.52004791938\n",
      "0.520423677283\n",
      "0.52088718965\n",
      "0.520017771784\n",
      "0.520014220825\n",
      "0.520390158026\n",
      "0.519480908157\n",
      "0.519736543599\n",
      "0.520543911231\n",
      "0.519672474858\n",
      "0.519660398241\n"
     ]
    }
   ],
   "source": [
    "train_net(X_total, y_total, mlp1[\"train_fn\"], num_epochs=200, batch_size=128, shuffle=True)"
   ]
  },
  {
   "cell_type": "code",
   "execution_count": 165,
   "metadata": {
    "collapsed": false
   },
   "outputs": [
    {
     "data": {
      "text/plain": [
       "0.8180642777983007"
      ]
     },
     "execution_count": 165,
     "metadata": {},
     "output_type": "execute_result"
    }
   ],
   "source": [
    "get_accuracy(X_total, y_total, mlp1[\"predict_fn\"])"
   ]
  },
  {
   "cell_type": "code",
   "execution_count": 166,
   "metadata": {
    "collapsed": false
   },
   "outputs": [
    {
     "data": {
      "text/plain": [
       "[<matplotlib.lines.Line2D at 0x10e0d4110>]"
      ]
     },
     "execution_count": 166,
     "metadata": {},
     "output_type": "execute_result"
    },
    {
     "data": {
      "image/png": "[encoded data removed]",
      "text/plain": [
       "<matplotlib.figure.Figure at 0x109e27cd0>"
      ]
     },
     "metadata": {},
     "output_type": "display_data"
    }
   ],
   "source": [
    "plt.plot( get_mean_abs_grad(X_total, y_total, mlp1[\"x_grad_fn\"]) )"
   ]
  },
  {
   "cell_type": "markdown",
   "metadata": {},
   "source": [
    "* Do the same thing but train an MLP (one hidden layer, with 100 hidden units)\n",
    "* Evaluate accuracy\n",
    "* Evaluate gradient plots for the input layer and the hidden layer"
   ]
  },
  {
   "cell_type": "code",
   "execution_count": 569,
   "metadata": {
    "collapsed": false
   },
   "outputs": [],
   "source": [
    "def mlp(X_data, y_data, num_hidden_units=None, lamb=0.0):\n",
    "    if num_hidden_units == None:\n",
    "        num_hidden_units = X_data.shape[1]/2\n",
    "    a_in = InputLayer( (None, X_data.shape[1]) )\n",
    "    a_hidden = DenseLayer(a_in, num_units=num_hidden_units)\n",
    "    a_out = DenseLayer(a_hidden, num_units=np.max(y_data)+1, nonlinearity=softmax)\n",
    "    # hacky\n",
    "    z_hidden = InputLayer(a_hidden.output_shape, W=a_hidden.W)\n",
    "    z_out = DenseLayer(z_hidden, num_units=np.max(y_data)+1, nonlinearity=softmax, W=a_out.W)\n",
    "    # ---\n",
    "    X = T.fmatrix('X')\n",
    "    y = T.ivector('y')\n",
    "    loss = categorical_crossentropy( get_output(a_out, X), y ).mean() + \\\n",
    "        lamb*regularize_layer_params(a_out, l1)\n",
    "    z_loss = categorical_crossentropy( get_output(z_out, X), y ).mean() + \\\n",
    "        lamb*regularize_layer_params(z_out, l1)\n",
    "    params = get_all_params(a_out)\n",
    "    updates = nesterov_momentum(loss, params, 0.01, 0.9)\n",
    "    train_fn = theano.function([X, y], loss, updates=updates)\n",
    "    # the loss fn is defined in terms of X -> hidden -> out\n",
    "    x_grad_fn = theano.function([X, y], T.grad(loss, X))\n",
    "    predict_fn = theano.function([X], get_output(a_out, X) )\n",
    "    loss_fn = theano.function([X, y], loss )\n",
    "    # hacky\n",
    "    hidden_grad_fn = theano.function([X, y], T.grad(z_loss, X))\n",
    "    hidden_predict_fn = theano.function([X], get_output(a_hidden, X))\n",
    "    # ---\n",
    "    return {\"net\": a_out,\n",
    "            \"train_fn\":train_fn,\n",
    "            \"x_grad_fn\":x_grad_fn,\n",
    "            \"predict_fn\":predict_fn,\n",
    "            \"hidden_grad_fn\":hidden_grad_fn,\n",
    "            \"hidden_predict_fn\":hidden_predict_fn,\n",
    "            \"loss_fn\": loss_fn}"
   ]
  },
  {
   "cell_type": "code",
   "execution_count": 230,
   "metadata": {
    "collapsed": false
   },
   "outputs": [
    {
     "name": "stdout",
     "output_type": "stream",
     "text": [
      "(None, 100)\n"
     ]
    }
   ],
   "source": [
    "mlp2 = mlp(X_total, y_total, lamb=1e-4)"
   ]
  },
  {
   "cell_type": "code",
   "execution_count": 232,
   "metadata": {
    "collapsed": false
   },
   "outputs": [
    {
     "name": "stdout",
     "output_type": "stream",
     "text": [
      "1.19901941848\n",
      "0.80897760697\n",
      "0.652031093172\n",
      "0.593974877305\n",
      "0.565017012846\n",
      "0.551322376491\n",
      "0.537515358757\n",
      "0.529481812419\n",
      "0.523333190462\n",
      "0.517985284556\n",
      "0.514454321247\n",
      "0.508864846068\n",
      "0.504042333193\n",
      "0.501687158622\n",
      "0.497792434021\n",
      "0.493968811041\n",
      "0.491689533601\n",
      "0.486200291181\n",
      "0.483582250672\n",
      "0.481528231983\n",
      "0.47762103487\n",
      "0.472464986878\n",
      "0.469549716484\n",
      "0.466590889793\n",
      "0.463653685988\n",
      "0.456291002157\n",
      "0.453850043824\n",
      "0.450046695938\n",
      "0.445938526074\n",
      "0.441542643846\n",
      "0.437549192395\n",
      "0.433138419964\n",
      "0.42956714582\n",
      "0.424302895376\n",
      "0.420501219242\n",
      "0.415909556831\n",
      "0.409319371419\n",
      "0.4077957623\n",
      "0.402048293658\n",
      "0.397617418716\n",
      "0.392250389816\n",
      "0.387710230799\n",
      "0.383632947576\n",
      "0.378012766043\n",
      "0.374251000022\n",
      "0.369855143134\n",
      "0.365644248687\n",
      "0.361564081911\n",
      "0.355574970892\n",
      "0.352051685288\n",
      "0.347322243599\n",
      "0.343366729663\n",
      "0.338423631994\n",
      "0.333707069676\n",
      "0.329851023632\n",
      "0.325194626334\n",
      "0.320559384676\n",
      "0.317959594831\n",
      "0.312393026207\n",
      "0.307730210612\n",
      "0.302853843776\n",
      "0.300316258339\n",
      "0.295066695261\n",
      "0.291609548663\n",
      "0.287978236912\n",
      "0.285015198948\n",
      "0.281155894635\n",
      "0.275581160272\n",
      "0.271310612485\n",
      "0.270592713052\n",
      "0.265861130567\n",
      "0.261706428124\n",
      "0.258152951672\n",
      "0.253780394058\n",
      "0.248791471655\n",
      "0.247875465653\n",
      "0.243700075311\n",
      "0.240598040198\n",
      "0.237593346912\n",
      "0.234132821245\n",
      "0.229857761239\n",
      "0.226100820643\n",
      "0.224957454314\n",
      "0.221526437436\n",
      "0.218452091168\n",
      "0.214762242452\n",
      "0.210627877768\n",
      "0.207440008785\n",
      "0.205002149227\n",
      "0.201368317163\n",
      "0.198669617045\n",
      "0.195054372037\n",
      "0.193973908799\n",
      "0.190712022565\n",
      "0.186085326576\n",
      "0.185296653659\n",
      "0.18093580682\n",
      "0.179109771182\n",
      "0.17704781041\n",
      "0.175212317789\n",
      "0.172150849865\n",
      "0.168768915893\n",
      "0.165057089207\n",
      "0.164894210957\n",
      "0.16137054367\n",
      "0.158800219756\n",
      "0.155546634629\n",
      "0.153391420344\n",
      "0.152862677008\n",
      "0.148830264057\n",
      "0.147074110297\n",
      "0.144287475866\n",
      "0.14190525393\n",
      "0.140073022782\n",
      "0.137450641879\n",
      "0.135432110739\n",
      "0.133123419654\n",
      "0.132258147909\n",
      "0.130190820773\n",
      "0.12865446197\n",
      "0.125409205664\n",
      "0.124428557336\n",
      "0.121863401522\n",
      "0.120383356804\n",
      "0.119033404111\n",
      "0.116393967494\n",
      "0.115393851101\n",
      "0.113881509065\n",
      "0.112933125455\n",
      "0.110695153619\n",
      "0.108837211103\n",
      "0.106968672746\n",
      "0.105979359707\n",
      "0.104353055523\n",
      "0.102626954056\n",
      "0.101352145577\n",
      "0.100107010136\n",
      "0.0992209366307\n",
      "0.0979539478087\n",
      "0.097351434171\n",
      "0.0958858658619\n",
      "0.0936823287483\n",
      "0.0926982596631\n",
      "0.0921817462122\n",
      "0.0905787859477\n",
      "0.0893451288374\n",
      "0.087818569498\n",
      "0.0863396234597\n",
      "0.0853931467217\n",
      "0.0852590204079\n",
      "0.0837321429606\n",
      "0.0838489127757\n",
      "0.0819006134412\n",
      "0.0806459282546\n",
      "0.0803587041351\n",
      "0.0796421529635\n",
      "0.0782350652015\n",
      "0.0778072573316\n",
      "0.0771167397461\n",
      "0.0765885023854\n",
      "0.0756971308406\n",
      "0.0743786835601\n",
      "0.0735012189172\n",
      "0.073197842144\n",
      "0.0726750292404\n",
      "0.0724369619316\n",
      "0.0716289436088\n",
      "0.0701719386176\n",
      "0.0702554591372\n",
      "0.0690657397278\n",
      "0.0690392203516\n",
      "0.0681414939954\n",
      "0.0672734348812\n",
      "0.0673282880475\n",
      "0.0662117511779\n",
      "0.0660903798508\n",
      "0.0654858561002\n",
      "0.0649586415535\n",
      "0.0647752681195\n",
      "0.0640077731658\n",
      "0.063338058699\n",
      "0.0631552451934\n",
      "0.0629162604341\n",
      "0.0620733512029\n",
      "0.0619042408192\n",
      "0.0616690021037\n",
      "0.0610551736607\n",
      "0.0605940180474\n",
      "0.0602449523897\n",
      "0.0597849207335\n",
      "0.0596358295919\n",
      "0.0590479276305\n",
      "0.0591203177806\n",
      "0.058602465644\n",
      "0.0581555597922\n",
      "0.0577184661634\n",
      "0.0574708842682\n",
      "0.0572921113281\n",
      "0.0568163796306\n",
      "0.0565719772519\n"
     ]
    }
   ],
   "source": [
    "train_net(X_total, y_total, mlp2[\"train_fn\"], num_epochs=200, batch_size=128, shuffle=True)"
   ]
  },
  {
   "cell_type": "code",
   "execution_count": 219,
   "metadata": {
    "collapsed": false
   },
   "outputs": [
    {
     "data": {
      "text/plain": [
       "0.9999384312276813"
      ]
     },
     "execution_count": 219,
     "metadata": {},
     "output_type": "execute_result"
    }
   ],
   "source": [
    "get_accuracy(X_total, y_total, mlp2[\"predict_fn\"])"
   ]
  },
  {
   "cell_type": "code",
   "execution_count": 220,
   "metadata": {
    "collapsed": false
   },
   "outputs": [
    {
     "data": {
      "text/plain": [
       "[<matplotlib.lines.Line2D at 0x1253016d0>]"
      ]
     },
     "execution_count": 220,
     "metadata": {},
     "output_type": "execute_result"
    },
    {
     "data": {
      "image/png": "[encoded data removed]",
      "text/plain": [
       "<matplotlib.figure.Figure at 0x12170e110>"
      ]
     },
     "metadata": {},
     "output_type": "display_data"
    }
   ],
   "source": [
    "plt.plot( get_mean_abs_grad(X_total, y_total, mlp2[\"x_grad_fn\"]) )"
   ]
  },
  {
   "cell_type": "code",
   "execution_count": 246,
   "metadata": {
    "collapsed": false
   },
   "outputs": [
    {
     "data": {
      "text/plain": [
       "[<matplotlib.lines.Line2D at 0x10ecfcc10>]"
      ]
     },
     "execution_count": 246,
     "metadata": {},
     "output_type": "execute_result"
    },
    {
     "data": {
      "image/png": "[encoded data removed]",
      "text/plain": [
       "<matplotlib.figure.Figure at 0x109ff8110>"
      ]
     },
     "metadata": {},
     "output_type": "display_data"
    }
   ],
   "source": [
    "plt.plot( np.mean(np.abs(mlp2_hidden_grads), axis=0) )"
   ]
  },
  {
   "cell_type": "markdown",
   "metadata": {},
   "source": [
    "* Generate an MLP with no $L_{1}$ regularisation (we want to overfit the training set, and see how the validation set reacts).\n",
    "* Let's train our network and after each epoch, save a plot of the (validation set) input and hidden gradients to disk."
   ]
  },
  {
   "cell_type": "code",
   "execution_count": 277,
   "metadata": {
    "collapsed": true
   },
   "outputs": [],
   "source": [
    "%%bash\n",
    "mkdir -p feature_ranking_out/input_grads\n",
    "mkdir -p feature_ranking_out/hidden_grads"
   ]
  },
  {
   "cell_type": "code",
   "execution_count": 378,
   "metadata": {
    "collapsed": false
   },
   "outputs": [
    {
     "name": "stdout",
     "output_type": "stream",
     "text": [
      "(None, 100)\n"
     ]
    }
   ],
   "source": [
    "mlp3 = mlp(X_total, y_total, num_hidden_units=None, lamb=0.0)"
   ]
  },
  {
   "cell_type": "code",
   "execution_count": 342,
   "metadata": {
    "collapsed": false
   },
   "outputs": [
    {
     "name": "stdout",
     "output_type": "stream",
     "text": [
      "(None, 200)\n",
      "(None, 100)\n",
      "(None, 4)\n",
      "20504\n"
     ]
    }
   ],
   "source": [
    "print_net(mlp3[\"net\"])"
   ]
  },
  {
   "cell_type": "markdown",
   "metadata": {},
   "source": [
    "Cut the data into training and validation."
   ]
  },
  {
   "cell_type": "code",
   "execution_count": 283,
   "metadata": {
    "collapsed": false
   },
   "outputs": [
    {
     "data": {
      "text/plain": [
       "((16242, 200), (16242,))"
      ]
     },
     "execution_count": 283,
     "metadata": {},
     "output_type": "execute_result"
    }
   ],
   "source": [
    "X_total.shape, y_total.shape"
   ]
  },
  {
   "cell_type": "code",
   "execution_count": 293,
   "metadata": {
    "collapsed": false
   },
   "outputs": [],
   "source": [
    "idxs = [x for x in range(0, X_train.shape[0])]\n",
    "random.shuffle(idxs)\n",
    "train_idxs = idxs[0 : int(0.75*len(idxs))]\n",
    "valid_idxs = idxs[int(0.75*len(idxs)) :: ]\n",
    "Xt, yt, Xv, yv = X_total[train_idxs], y_total[train_idxs], X_total[valid_idxs], y_total[valid_idxs]"
   ]
  },
  {
   "cell_type": "code",
   "execution_count": 294,
   "metadata": {
    "collapsed": false
   },
   "outputs": [
    {
     "data": {
      "text/plain": [
       "((12181, 200), (12181,), (4061, 200), (4061,))"
      ]
     },
     "execution_count": 294,
     "metadata": {},
     "output_type": "execute_result"
    }
   ],
   "source": [
    "Xt.shape, yt.shape, Xv.shape, yv.shape"
   ]
  },
  {
   "cell_type": "code",
   "execution_count": 377,
   "metadata": {
    "collapsed": false
   },
   "outputs": [],
   "source": [
    "def graph_grad_train(Xt, yt, Xv, yv, mlp, num_epochs=20):\n",
    "    \n",
    "    hidden_grads_arr = []\n",
    "    input_grads_arr = []\n",
    "    \n",
    "    idxs = [x for x in range(0, Xt.shape[0])]\n",
    "    for epoch in range(0, num_epochs):\n",
    "        random.shuffle(idxs)\n",
    "        Xt = Xt[idxs]\n",
    "        yt = yt[idxs]\n",
    "        b = 0\n",
    "        losses = []\n",
    "        while True:\n",
    "            if b*batch_size >= Xt.shape[0]:\n",
    "                break\n",
    "            this_loss = mlp[\"train_fn\"](\n",
    "                Xt[b*batch_size : (b+1)*batch_size], yt[b*batch_size : (b+1)*batch_size])\n",
    "            losses.append(this_loss)\n",
    "            b += 1\n",
    "        input_grads = mlp[\"x_grad_fn\"](Xv, yv)\n",
    "        input_grads = np.mean(np.abs(input_grads), axis=0)\n",
    "        hidden_grads = mlp[\"hidden_grad_fn\"]( mlp[\"hidden_predict_fn\"](Xv).astype(\"float32\"), yv)\n",
    "        hidden_grads = np.mean(np.abs(hidden_grads), axis=0)       \n",
    "        \n",
    "        # save grads\n",
    "        input_grads_arr.append(input_grads)\n",
    "        hidden_grads_arr.append(hidden_grads)\n",
    "        this_valid_loss = mlp[\"loss_fn\"](Xv, yv)\n",
    "        print \"train loss, valid loss = %f, %f\" % (np.mean(losses), this_valid_loss)\n",
    "       \n",
    "    print \"plotting...\"\n",
    "    biggest_input_max = -1\n",
    "    biggest_hidden_max = -1\n",
    "    for i in range(0, len(hidden_grads_arr)):\n",
    "        if np.max(hidden_grads_arr[i]) > biggest_hidden_max:\n",
    "            biggest_hidden_max = np.max(hidden_grads_arr[i])\n",
    "        if np.max(input_grads_arr[i]) > biggest_input_max:\n",
    "            biggest_input_max = np.max(input_grads_arr[i])\n",
    "            \n",
    "    for epoch in range(0, num_epochs):\n",
    "        plt.ylim(0, biggest_hidden_max)\n",
    "        plt.plot(hidden_grads_arr[epoch])\n",
    "        plt.savefig(\"feature_ranking_out/hidden_grads/%s.png\" % str(epoch+1).zfill(2))\n",
    "        plt.close()\n",
    "        plt.ylim(0, biggest_input_max)\n",
    "        plt.plot(input_grads_arr[epoch])\n",
    "        plt.savefig(\"feature_ranking_out/input_grads/%s.png\" % str(epoch+1).zfill(2))\n",
    "        plt.close()"
   ]
  },
  {
   "cell_type": "code",
   "execution_count": 379,
   "metadata": {
    "collapsed": false
   },
   "outputs": [
    {
     "name": "stdout",
     "output_type": "stream",
     "text": [
      "train loss, valid loss = 1.255504, 1.085376\n",
      "train loss, valid loss = 0.933350, 0.838087\n",
      "train loss, valid loss = 0.741755, 0.701784\n",
      "train loss, valid loss = 0.647006, 0.646907\n",
      "train loss, valid loss = 0.597360, 0.604032\n",
      "train loss, valid loss = 0.567649, 0.633877\n",
      "train loss, valid loss = 0.548819, 0.575458\n",
      "train loss, valid loss = 0.536249, 0.566892\n",
      "train loss, valid loss = 0.525504, 0.597286\n",
      "train loss, valid loss = 0.521782, 0.595822\n",
      "train loss, valid loss = 0.515406, 0.547165\n",
      "train loss, valid loss = 0.505562, 0.563671\n",
      "train loss, valid loss = 0.499192, 0.582680\n",
      "train loss, valid loss = 0.498338, 0.544197\n",
      "train loss, valid loss = 0.490663, 0.544855\n",
      "train loss, valid loss = 0.484023, 0.591073\n",
      "train loss, valid loss = 0.484626, 0.543590\n",
      "train loss, valid loss = 0.475822, 0.540308\n",
      "train loss, valid loss = 0.473984, 0.548123\n",
      "train loss, valid loss = 0.469962, 0.550181\n",
      "train loss, valid loss = 0.467573, 0.564162\n",
      "train loss, valid loss = 0.463952, 0.550215\n",
      "train loss, valid loss = 0.455615, 0.564637\n",
      "train loss, valid loss = 0.452504, 0.561165\n",
      "train loss, valid loss = 0.446263, 0.543626\n",
      "train loss, valid loss = 0.440376, 0.539112\n",
      "train loss, valid loss = 0.434443, 0.542090\n",
      "train loss, valid loss = 0.432908, 0.542257\n",
      "train loss, valid loss = 0.427928, 0.552638\n",
      "train loss, valid loss = 0.420612, 0.551026\n",
      "train loss, valid loss = 0.417865, 0.550621\n",
      "train loss, valid loss = 0.411510, 0.578340\n",
      "train loss, valid loss = 0.407827, 0.548511\n",
      "train loss, valid loss = 0.401739, 0.560205\n",
      "train loss, valid loss = 0.393198, 0.555645\n",
      "train loss, valid loss = 0.388276, 0.555469\n",
      "train loss, valid loss = 0.382206, 0.564641\n",
      "train loss, valid loss = 0.379483, 0.566203\n",
      "train loss, valid loss = 0.371721, 0.560409\n",
      "train loss, valid loss = 0.365300, 0.575567\n",
      "train loss, valid loss = 0.360716, 0.565965\n",
      "train loss, valid loss = 0.353103, 0.588004\n",
      "train loss, valid loss = 0.347964, 0.578147\n",
      "train loss, valid loss = 0.343388, 0.599277\n",
      "train loss, valid loss = 0.338958, 0.582446\n",
      "train loss, valid loss = 0.333066, 0.592681\n",
      "train loss, valid loss = 0.328477, 0.584615\n",
      "train loss, valid loss = 0.324257, 0.591406\n",
      "train loss, valid loss = 0.314669, 0.601964\n",
      "train loss, valid loss = 0.309432, 0.614836\n",
      "train loss, valid loss = 0.301862, 0.592728\n",
      "train loss, valid loss = 0.296508, 0.617669\n",
      "train loss, valid loss = 0.292814, 0.611269\n",
      "train loss, valid loss = 0.286373, 0.618900\n",
      "train loss, valid loss = 0.282493, 0.649011\n",
      "train loss, valid loss = 0.278204, 0.625051\n",
      "train loss, valid loss = 0.272600, 0.668655\n",
      "train loss, valid loss = 0.267631, 0.624958\n",
      "train loss, valid loss = 0.258275, 0.663600\n",
      "train loss, valid loss = 0.255339, 0.650653\n",
      "train loss, valid loss = 0.250185, 0.642343\n",
      "train loss, valid loss = 0.245064, 0.660592\n",
      "train loss, valid loss = 0.240352, 0.658049\n",
      "train loss, valid loss = 0.234131, 0.644965\n",
      "train loss, valid loss = 0.229327, 0.649238\n",
      "train loss, valid loss = 0.222045, 0.662979\n",
      "train loss, valid loss = 0.218189, 0.696798\n",
      "train loss, valid loss = 0.217402, 0.675708\n",
      "train loss, valid loss = 0.211111, 0.677915\n",
      "train loss, valid loss = 0.202609, 0.674543\n",
      "train loss, valid loss = 0.201223, 0.689113\n",
      "train loss, valid loss = 0.198978, 0.771052\n",
      "train loss, valid loss = 0.193085, 0.708345\n",
      "train loss, valid loss = 0.189784, 0.716832\n",
      "train loss, valid loss = 0.183254, 0.724008\n",
      "train loss, valid loss = 0.178758, 0.712726\n",
      "train loss, valid loss = 0.173799, 0.714739\n",
      "train loss, valid loss = 0.171298, 0.714836\n",
      "train loss, valid loss = 0.167787, 0.735890\n",
      "train loss, valid loss = 0.163585, 0.729784\n",
      "train loss, valid loss = 0.158070, 0.741266\n",
      "train loss, valid loss = 0.155428, 0.749541\n",
      "train loss, valid loss = 0.153141, 0.761475\n",
      "train loss, valid loss = 0.150273, 0.809524\n",
      "train loss, valid loss = 0.148172, 0.771509\n",
      "train loss, valid loss = 0.141476, 0.786843\n",
      "train loss, valid loss = 0.138995, 0.789798\n",
      "train loss, valid loss = 0.134951, 0.777915\n",
      "train loss, valid loss = 0.130600, 0.806455\n",
      "train loss, valid loss = 0.128710, 0.835044\n",
      "train loss, valid loss = 0.122809, 0.794686\n",
      "train loss, valid loss = 0.121972, 0.825082\n",
      "train loss, valid loss = 0.120142, 0.830921\n",
      "train loss, valid loss = 0.116353, 0.828262\n",
      "train loss, valid loss = 0.112194, 0.847447\n",
      "train loss, valid loss = 0.110655, 0.854684\n",
      "train loss, valid loss = 0.107261, 0.842031\n",
      "train loss, valid loss = 0.104941, 0.852159\n",
      "train loss, valid loss = 0.102536, 0.855738\n",
      "train loss, valid loss = 0.099837, 0.857369\n",
      "plotting...\n"
     ]
    }
   ],
   "source": [
    "graph_grad_train(Xt, yt, Xv, yv, mlp3, num_epochs=100)"
   ]
  },
  {
   "cell_type": "code",
   "execution_count": 373,
   "metadata": {
    "collapsed": false,
    "scrolled": true
   },
   "outputs": [
    {
     "data": {
      "text/plain": [
       "(0.989902306871357, 0.7549864565377986)"
      ]
     },
     "execution_count": 373,
     "metadata": {},
     "output_type": "execute_result"
    }
   ],
   "source": [
    "get_accuracy(Xt, yt, mlp3[\"predict_fn\"]), get_accuracy(Xv, yv, mlp3[\"predict_fn\"])"
   ]
  },
  {
   "cell_type": "markdown",
   "metadata": {},
   "source": [
    "* Over time, the validation set gradients for input/hidden layers gets larger. Is this because the network is overfitting the training set, and hence the $\\frac{dL}{dx}$ has hit a local minimum, whereas this is not the case with the validation set?\n",
    "* Let's look at the hidden activation gradients for the validation set, and sort them"
   ]
  },
  {
   "cell_type": "code",
   "execution_count": 413,
   "metadata": {
    "collapsed": false
   },
   "outputs": [],
   "source": [
    "mlp3_hidden_grads = np.mean(np.abs(mlp3[\"hidden_grad_fn\"]( mlp3[\"hidden_predict_fn\"](Xv).astype(\"float32\"), yv)), axis=0)"
   ]
  },
  {
   "cell_type": "code",
   "execution_count": 415,
   "metadata": {
    "collapsed": false
   },
   "outputs": [
    {
     "data": {
      "text/plain": [
       "[<matplotlib.lines.Line2D at 0x146b5b190>]"
      ]
     },
     "execution_count": 415,
     "metadata": {},
     "output_type": "execute_result"
    },
    {
     "data": {
      "image/png": "[encoded data removed]",
      "text/plain": [
       "<matplotlib.figure.Figure at 0x146ad2650>"
      ]
     },
     "metadata": {},
     "output_type": "display_data"
    }
   ],
   "source": [
    "plt.plot(mlp3_hidden_grads)"
   ]
  },
  {
   "cell_type": "code",
   "execution_count": 435,
   "metadata": {
    "collapsed": false
   },
   "outputs": [
    {
     "data": {
      "text/plain": [
       "array([39, 33, 79, 80, 51,  8, 12, 89, 45, 24, 38, 31, 32, 77, 16,  5, 85,\n",
       "       27, 75, 22, 82, 62, 54, 65, 96, 87, 30, 59, 88, 21, 95, 43, 84, 71,\n",
       "       81, 37, 18, 14, 63, 57, 97, 25, 73, 46, 92, 66, 64, 13, 42, 15, 76,\n",
       "       78,  6, 93, 67, 58, 72, 94, 35, 10, 29, 61, 68, 36, 48, 74, 47, 70,\n",
       "       40, 49, 34,  0,  7,  1, 50, 99,  4, 55, 91, 53, 69, 98, 11, 52, 28,\n",
       "       26, 44,  2, 17, 60, 56,  9, 83,  3, 20, 23, 86, 90, 41, 19])"
      ]
     },
     "execution_count": 435,
     "metadata": {},
     "output_type": "execute_result"
    }
   ],
   "source": [
    "np.argsort(mlp3_hidden_grads)"
   ]
  },
  {
   "cell_type": "markdown",
   "metadata": {},
   "source": [
    "* Can we visualise a histogram of hidden activation gradients (over the validation set) for each hidden unit?"
   ]
  },
  {
   "cell_type": "code",
   "execution_count": 453,
   "metadata": {
    "collapsed": false
   },
   "outputs": [
    {
     "data": {
      "text/plain": [
       "(array([   63.,   113.,   171.,   210.,  1510.,  1562.,   178.,   135.,\n",
       "           96.,    23.]),\n",
       " array([ -6.32923745e-05,  -5.06339856e-05,  -3.79755967e-05,\n",
       "         -2.53172079e-05,  -1.26588190e-05,  -4.30141856e-10,\n",
       "          1.26579587e-05,   2.53163476e-05,   3.79747365e-05,\n",
       "          5.06331253e-05,   6.32915142e-05]),\n",
       " <a list of 10 Patch objects>)"
      ]
     },
     "execution_count": 453,
     "metadata": {},
     "output_type": "execute_result"
    },
    {
     "data": {
      "image/png": "[encoded data removed]",
      "text/plain": [
       "<matplotlib.figure.Figure at 0x155d0e810>"
      ]
     },
     "metadata": {},
     "output_type": "display_data"
    }
   ],
   "source": [
    "plt.hist( mlp3[\"hidden_grad_fn\"]( mlp3[\"hidden_predict_fn\"](Xv).astype(\"float32\"), yv)[:,39] )"
   ]
  },
  {
   "cell_type": "markdown",
   "metadata": {},
   "source": [
    "* Train on all minibatches\n",
    "* Evaluate performance of hidden layer on validation set\n",
    "* Find the M worst hidden units (i.e. the ones with high mean gradients), and reinitialise their weights"
   ]
  },
  {
   "cell_type": "code",
   "execution_count": 603,
   "metadata": {
    "collapsed": false
   },
   "outputs": [
    {
     "data": {
      "text/plain": [
       "array([ 1.,  1.,  1.,  1.,  1.,  1.,  1.,  1.,  1.,  1.])"
      ]
     },
     "execution_count": 603,
     "metadata": {},
     "output_type": "execute_result"
    }
   ],
   "source": [
    "np.ones((10,10))[:,5]"
   ]
  },
  {
   "cell_type": "code",
   "execution_count": 614,
   "metadata": {
    "collapsed": false
   },
   "outputs": [],
   "source": [
    "def adaptive_train(Xt, yt, Xv, yv, mlp, num_to_fix, check_every, num_epochs=20, add_noise=False, print_out=True):\n",
    "    sampler = GlorotUniform()\n",
    "    idxs = [x for x in range(0, Xt.shape[0])]\n",
    "    train_fn = mlp[\"train_fn\"]\n",
    "    hidden_predict_fn = mlp[\"hidden_predict_fn\"]\n",
    "    hidden_grad_fn = mlp[\"hidden_grad_fn\"]\n",
    "    net = mlp[\"net\"]\n",
    "    h_grads_arr = []\n",
    "    for epoch in range(0, num_epochs):\n",
    "        random.shuffle(idxs)\n",
    "        Xt = Xt[idxs]\n",
    "        yt = yt[idxs]\n",
    "        b = 0\n",
    "        losses = []\n",
    "        while True:\n",
    "            if b*batch_size >= Xt.shape[0]:\n",
    "                break\n",
    "            this_loss = train_fn(Xt[b*batch_size : (b+1)*batch_size], yt[b*batch_size : (b+1)*batch_size])\n",
    "            losses.append(this_loss)\n",
    "            b += 1\n",
    "        h_grads = np.mean(np.abs(hidden_grad_fn( hidden_predict_fn(Xv).astype(\"float32\"), yv)), axis=0)\n",
    "        h_grads_arr.append(h_grads)\n",
    "        h_idxs = np.argsort(h_grads)[::-1]\n",
    "        #print \"units to fix: %s\" % str(h_idxs[0:num_to_fix])\n",
    "        if num_to_fix > 0 and (epoch+1) % check_every == 0:\n",
    "            W = net.input_layer.W.get_value()\n",
    "            for idx in h_idxs[0:num_to_fix]:\n",
    "                if add_noise:\n",
    "                    W[:,idx] += np.random.normal(0, 0.1, size=( W[:,idx].shape[0], 1) ).flatten()\n",
    "                else:\n",
    "                    W[:,idx] = sampler.sample( ( W[:,idx].shape[0], 1) ).flatten()\n",
    "            net.input_layer.W.set_value(W)\n",
    "        if print_out:\n",
    "            print np.mean(losses)\n",
    "    return h_grads_arr"
   ]
  },
  {
   "cell_type": "code",
   "execution_count": 611,
   "metadata": {
    "collapsed": false
   },
   "outputs": [
    {
     "name": "stdout",
     "output_type": "stream",
     "text": [
      "[0, 0, 0.7709923664122137]\n",
      "[0, 1, 0.7589263728145776]\n",
      "[0, 2, 0.756217680374292]\n",
      "[0, 3, 0.7606500861856685]\n",
      "[0, 4, 0.7576951489780842]\n",
      "[0, 5, 0.7606500861856685]\n",
      "[0, 6, 0.758680128047279]\n",
      "[0, 7, 0.7690224082738242]\n",
      "[0, 8, 0.7655749815316425]\n",
      "[0, 9, 0.7576951489780842]\n",
      "[5, 0, 0.6631371583353853]\n",
      "[5, 1, 0.5289337601575966]\n",
      "[5, 2, 0.5779364688500369]\n",
      "[5, 3, 0.6042846589509973]\n",
      "[5, 4, 0.7114011327259295]\n",
      "[5, 5, 0.6766806205368135]\n",
      "[5, 6, 0.6857916769268653]\n",
      "[5, 7, 0.6680620536813593]\n",
      "[5, 8, 0.5481408520068949]\n",
      "[5, 9, 0.6572272839202167]\n",
      "[10, 0, 0.45284412706229993]\n",
      "[10, 1, 0.6338340310268407]\n",
      "[10, 2, 0.4550603299679882]\n",
      "[10, 3, 0.548879586308791]\n",
      "[10, 4, 0.41738488057128786]\n",
      "[10, 5, 0.5252400886481162]\n",
      "[10, 6, 0.5422309775917262]\n",
      "[10, 7, 0.607732085693179]\n",
      "[10, 8, 0.5799064269884265]\n",
      "[10, 9, 0.6646146269391775]\n",
      "[20, 0, 0.45776902240827383]\n",
      "[20, 1, 0.4444718049741443]\n",
      "[20, 2, 0.5213001723713371]\n",
      "[20, 3, 0.40384141836985965]\n",
      "[20, 4, 0.6330952967249446]\n",
      "[20, 5, 0.3504063038660428]\n",
      "[20, 6, 0.37035213001723716]\n",
      "[20, 7, 0.3137158335385373]\n",
      "[20, 8, 0.4461955183452352]\n",
      "[20, 9, 0.3870967741935484]\n",
      "[40, 0, 0.37847820733809406]\n",
      "[40, 1, 0.26816055158827873]\n",
      "[40, 2, 0.3962078305836001]\n",
      "[40, 3, 0.308298448657966]\n",
      "[40, 4, 0.37995567594188623]\n",
      "[40, 5, 0.36493474513666585]\n",
      "[40, 6, 0.3590248707214972]\n",
      "[40, 7, 0.34203398177788724]\n",
      "[40, 8, 0.36247229746367887]\n",
      "[40, 9, 0.4016252154641714]\n",
      "[80, 0, 0.24452105392760404]\n",
      "[80, 1, 0.2750554050726422]\n",
      "[80, 2, 0.2940162521546417]\n",
      "[80, 3, 0.30238857424279736]\n",
      "[80, 4, 0.3065747352868752]\n",
      "[80, 5, 0.2462447672986949]\n",
      "[80, 6, 0.27899532134942134]\n",
      "[80, 7, 0.3299679881802512]\n",
      "[80, 8, 0.3183944841172125]\n",
      "[80, 9, 0.33218419108593944]\n",
      "[0, 0, 0.7709923664122137]\n",
      "[0, 1, 0.7589263728145776]\n",
      "[0, 2, 0.756217680374292]\n",
      "[0, 3, 0.7606500861856685]\n",
      "[0, 4, 0.7576951489780842]\n",
      "[0, 5, 0.7606500861856685]\n",
      "[0, 6, 0.758680128047279]\n",
      "[0, 7, 0.7690224082738242]\n",
      "[0, 8, 0.7655749815316425]\n",
      "[0, 9, 0.7576951489780842]\n",
      "[5, 0, 0.7067224821472544]\n",
      "[5, 1, 0.7436591972420586]\n",
      "[5, 2, 0.7291307559714356]\n",
      "[5, 3, 0.7508002954937207]\n",
      "[5, 4, 0.7407042600344743]\n",
      "[5, 5, 0.7096774193548387]\n",
      "[5, 6, 0.7146023147008126]\n",
      "[5, 7, 0.7089386850529427]\n",
      "[5, 8, 0.7256833292292538]\n",
      "[5, 9, 0.7500615611918247]\n",
      "[10, 0, 0.7035213001723714]\n",
      "[10, 1, 0.7054912583107609]\n",
      "[10, 2, 0.6697857670524502]\n",
      "[10, 3, 0.6798818025116966]\n",
      "[10, 4, 0.6614134449642946]\n",
      "[10, 5, 0.6931790199458262]\n",
      "[10, 6, 0.6419601083476976]\n",
      "[10, 7, 0.6426988426495936]\n",
      "[10, 8, 0.671509480423541]\n",
      "[10, 9, 0.7072149716818518]\n",
      "[20, 0, 0.42748091603053434]\n",
      "[20, 1, 0.4735286875153903]\n",
      "[20, 2, 0.4671263235656242]\n",
      "[20, 3, 0.42920462940162524]\n",
      "[20, 4, 0.47869982762866287]\n",
      "[20, 5, 0.45087416892391036]\n",
      "[20, 6, 0.459246491012066]\n",
      "[20, 7, 0.6008372322088156]\n",
      "[20, 8, 0.3999015020930805]\n",
      "[20, 9, 0.49593696133957155]\n",
      "[40, 0, 0.3188869736518099]\n",
      "[40, 1, 0.39226791430682095]\n",
      "[40, 2, 0.1782812115242551]\n",
      "[40, 3, 0.3009111056390052]\n",
      "[40, 4, 0.3479438561930559]\n",
      "[40, 5, 0.4060576212755479]\n",
      "[40, 6, 0.33957153410490026]\n",
      "[40, 7, 0.36887466141344494]\n",
      "[40, 8, 0.38660428465895097]\n",
      "[40, 9, 0.37109086431913324]\n",
      "[80, 0, 0.2856439300664861]\n",
      "[80, 1, 0.24058113765082492]\n",
      "[80, 2, 0.3183944841172125]\n",
      "[80, 3, 0.3046047771484856]\n",
      "[80, 4, 0.2029056882541246]\n",
      "[80, 5, 0.31100714109825167]\n",
      "[80, 6, 0.17557251908396945]\n",
      "[80, 7, 0.21841910859394237]\n",
      "[80, 8, 0.2693917754247722]\n",
      "[80, 9, 0.3245506032996799]\n"
     ]
    }
   ],
   "source": [
    "for check_every in [1, 20]:\n",
    "    rows_to_write = []\n",
    "    for num_to_fix in [0, 5, 10, 20, 40, 80]:\n",
    "        valid_accs = []\n",
    "        for x in range(0, 10):\n",
    "            row = [num_to_fix, x]\n",
    "            np.random.seed(x)\n",
    "            random.seed(x)\n",
    "            mlp4 = mlp(X_total, y_total, num_hidden_units=None, lamb=0.0)\n",
    "            h_grads_arr = adaptive_train(\n",
    "                Xt, yt, Xv, yv, mlp4, num_epochs=100, num_to_fix=num_to_fix, check_every=check_every, print_out=False)\n",
    "            valid_acc = get_accuracy(Xv, yv, mlp4[\"predict_fn\"])\n",
    "            row.append(valid_acc)\n",
    "            valid_accs.append(valid_acc)\n",
    "            rows_to_write.append(row)\n",
    "            print row\n",
    "    with open(\"feature_ranking_out_adaptive/stats%i.csv\" % check_every, \"wb\") as f:\n",
    "        f.write(\"num_to_fix,seed,valid_accuracy\\n\")\n",
    "        for row in rows_to_write:\n",
    "            f.write(\",\".join( [str(r) for r in row] ) + \"\\n\")"
   ]
  },
  {
   "cell_type": "markdown",
   "metadata": {},
   "source": [
    "* Weight change every epoch = 80 does better than everything else (seems too brute force?)\n",
    "* Weight change every 20 epochs = 80 does worse"
   ]
  },
  {
   "cell_type": "code",
   "execution_count": 615,
   "metadata": {
    "collapsed": false
   },
   "outputs": [
    {
     "name": "stdout",
     "output_type": "stream",
     "text": [
      "[0, 0, 0.7709923664122137]\n",
      "[0, 1, 0.7589263728145776]\n",
      "[0, 2, 0.756217680374292]\n",
      "[0, 3, 0.7606500861856685]\n",
      "[0, 4, 0.7576951489780842]\n",
      "[0, 5, 0.7606500861856685]\n",
      "[0, 6, 0.758680128047279]\n",
      "[0, 7, 0.7690224082738242]\n",
      "[0, 8, 0.7655749815316425]\n",
      "[0, 9, 0.7576951489780842]\n",
      "[5, 0, 0.7522777640975129]\n",
      "[5, 1, 0.7453829106131494]\n",
      "[5, 2, 0.7453829106131494]\n",
      "[5, 3, 0.7535089879340064]\n",
      "[5, 4, 0.7544939670032011]\n",
      "[5, 5, 0.7443979315439547]\n",
      "[5, 6, 0.7552327013050972]\n",
      "[5, 7, 0.7653287367643438]\n",
      "[5, 8, 0.7463678896823442]\n",
      "[5, 9, 0.7463678896823442]\n",
      "[10, 0, 0.7557251908396947]\n",
      "[10, 1, 0.7244521053927604]\n",
      "[10, 2, 0.741689239103669]\n",
      "[10, 3, 0.7468603792169416]\n",
      "[10, 4, 0.7054912583107609]\n",
      "[10, 5, 0.7512927850283182]\n",
      "[10, 6, 0.7532627431667077]\n",
      "[10, 7, 0.7493228268899286]\n",
      "[10, 8, 0.7411967495690717]\n",
      "[10, 9, 0.7495690716572273]\n"
     ]
    }
   ],
   "source": [
    "for check_every in [20]:\n",
    "    rows_to_write = []\n",
    "    for num_to_fix in [0, 5, 10]:\n",
    "        valid_accs = []\n",
    "        # row in the format \"num_to_fix,seed,valid_acc\n",
    "        for x in range(0, 10):\n",
    "            row = [num_to_fix, x]\n",
    "            np.random.seed(x)\n",
    "            random.seed(x)\n",
    "            mlp4 = mlp(X_total, y_total, num_hidden_units=None, lamb=0.0)\n",
    "            h_grads_arr = adaptive_train(\n",
    "                Xt, yt, Xv, yv, mlp4, num_epochs=100, num_to_fix=num_to_fix, check_every=check_every, add_noise=True, print_out=False)\n",
    "            valid_acc = get_accuracy(Xv, yv, mlp4[\"predict_fn\"])\n",
    "            row.append(valid_acc)\n",
    "            valid_accs.append(valid_acc)\n",
    "            rows_to_write.append(row)\n",
    "            print row\n",
    "\n",
    "    with open(\"feature_ranking_out_adaptive/noise_stats%i.csv\" % check_every, \"wb\") as f:\n",
    "        f.write(\"num_to_fix,seed,valid_accuracy\\n\")\n",
    "        for row in rows_to_write:\n",
    "            f.write(\",\".join( [str(r) for r in row] ) + \"\\n\")"
   ]
  },
  {
   "cell_type": "code",
   "execution_count": 555,
   "metadata": {
    "collapsed": false
   },
   "outputs": [],
   "source": [
    "for i in range(0, len(h_grads_arr)):\n",
    "    plt.ylim(0, 0.000050)\n",
    "    plt.plot(h_grads_arr[i])\n",
    "    plt.savefig(\"feature_ranking_out_adaptive/%s.png\" % str(i+1).zfill(2))\n",
    "    plt.close()"
   ]
  },
  {
   "cell_type": "markdown",
   "metadata": {
    "collapsed": true
   },
   "source": [
    "----"
   ]
  },
  {
   "cell_type": "markdown",
   "metadata": {},
   "source": [
    "* Plot the gradients on MNIST digits. This makes a nice visualisation which could make it into the paper."
   ]
  },
  {
   "cell_type": "code",
   "execution_count": 380,
   "metadata": {
    "collapsed": true
   },
   "outputs": [],
   "source": [
    "sys.path.append(\"../modules/\")\n",
    "import helper as hp"
   ]
  },
  {
   "cell_type": "code",
   "execution_count": 381,
   "metadata": {
    "collapsed": true
   },
   "outputs": [],
   "source": [
    "mnist_train_set, _, _ = hp.load_mnist()"
   ]
  },
  {
   "cell_type": "code",
   "execution_count": 387,
   "metadata": {
    "collapsed": true
   },
   "outputs": [],
   "source": [
    "mnist_x, mnist_y = mnist_train_set\n",
    "mnist_x = mnist_x.astype(\"float32\")\n",
    "mnist_y = mnist_y.astype(\"int32\")"
   ]
  },
  {
   "cell_type": "code",
   "execution_count": 383,
   "metadata": {
    "collapsed": true
   },
   "outputs": [],
   "source": [
    "def simple_conv(X_data, y_data):\n",
    "    a_in = InputLayer( (None, 1, 28, 28 ) )\n",
    "    a_conv1 = Conv2DLayer(a_in, num_filters=16, filter_size=(5,5), nonlinearity=rectify)\n",
    "    a_mp1 = MaxPool2DLayer(a_conv1, pool_size=(2,2))\n",
    "    a_conv2 = Conv2DLayer(a_mp1, num_filters=32, filter_size=(5,5), nonlinearity=rectify)\n",
    "    a_mp2 = MaxPool2DLayer(a_conv2, pool_size=(2,2))\n",
    "    a_out = DenseLayer(a_mp2, num_units=np.max(y_data)+1, nonlinearity=softmax)  \n",
    "    X = T.tensor4('X')\n",
    "    y = T.ivector('y')\n",
    "    loss = categorical_crossentropy( get_output(a_out, X), y ).mean()\n",
    "    params = get_all_params(a_out)\n",
    "    updates = nesterov_momentum(loss, params, 0.01, 0.9)\n",
    "    train_fn = theano.function([X, y], loss, updates=updates)\n",
    "    x_grad_fn = theano.function([X, y], T.grad(loss, X))\n",
    "    predict_fn = theano.function([X], get_output(a_out, X) )\n",
    "    loss_fn = theano.function([X, y], loss )\n",
    "    return {\"net\": a_out,\n",
    "            \"train_fn\":train_fn,\n",
    "            \"x_grad_fn\":x_grad_fn,\n",
    "            \"predict_fn\":predict_fn,\n",
    "            \"loss_fn\": loss_fn}"
   ]
  },
  {
   "cell_type": "code",
   "execution_count": 384,
   "metadata": {
    "collapsed": true
   },
   "outputs": [],
   "source": [
    "conv = simple_conv(mnist_x, mnist_y)"
   ]
  },
  {
   "cell_type": "code",
   "execution_count": 388,
   "metadata": {
    "collapsed": false
   },
   "outputs": [
    {
     "name": "stdout",
     "output_type": "stream",
     "text": [
      "0.26089267387\n",
      "0.0771458087307\n",
      "0.0571138216773\n"
     ]
    },
    {
     "ename": "KeyboardInterrupt",
     "evalue": "",
     "output_type": "error",
     "traceback": [
      "\u001b[0;31m---------------------------------------------------------------------------\u001b[0m",
      "\u001b[0;31mKeyboardInterrupt\u001b[0m                         Traceback (most recent call last)",
      "\u001b[0;32m<ipython-input-388-83b1cdc78701>\u001b[0m in \u001b[0;36m<module>\u001b[0;34m()\u001b[0m\n\u001b[0;32m----> 1\u001b[0;31m \u001b[0mtrain_net\u001b[0m\u001b[0;34m(\u001b[0m\u001b[0mmnist_x\u001b[0m\u001b[0;34m,\u001b[0m \u001b[0mmnist_y\u001b[0m\u001b[0;34m,\u001b[0m \u001b[0mconv\u001b[0m\u001b[0;34m[\u001b[0m\u001b[0;34m\"train_fn\"\u001b[0m\u001b[0;34m]\u001b[0m\u001b[0;34m,\u001b[0m \u001b[0mnum_epochs\u001b[0m\u001b[0;34m=\u001b[0m\u001b[0;36m5\u001b[0m\u001b[0;34m,\u001b[0m \u001b[0mbatch_size\u001b[0m\u001b[0;34m=\u001b[0m\u001b[0;36m64\u001b[0m\u001b[0;34m)\u001b[0m\u001b[0;34m\u001b[0m\u001b[0m\n\u001b[0m",
      "\u001b[0;32m<ipython-input-163-7f4713c07068>\u001b[0m in \u001b[0;36mtrain_net\u001b[0;34m(X_train, y_train, train_fn, num_epochs, batch_size, shuffle)\u001b[0m\n\u001b[1;32m     13\u001b[0m                 \u001b[0;32mbreak\u001b[0m\u001b[0;34m\u001b[0m\u001b[0m\n\u001b[1;32m     14\u001b[0m             this_loss = train_fn(\n\u001b[0;32m---> 15\u001b[0;31m                 Xt[b*batch_size : (b+1)*batch_size], yt[b*batch_size : (b+1)*batch_size])\n\u001b[0m\u001b[1;32m     16\u001b[0m             \u001b[0mlosses\u001b[0m\u001b[0;34m.\u001b[0m\u001b[0mappend\u001b[0m\u001b[0;34m(\u001b[0m\u001b[0mthis_loss\u001b[0m\u001b[0;34m)\u001b[0m\u001b[0;34m\u001b[0m\u001b[0m\n\u001b[1;32m     17\u001b[0m             \u001b[0mb\u001b[0m \u001b[0;34m+=\u001b[0m \u001b[0;36m1\u001b[0m\u001b[0;34m\u001b[0m\u001b[0m\n",
      "\u001b[0;32m//anaconda/lib/python2.7/site-packages/Theano-0.8.0.dev0-py2.7.egg/theano/compile/function_module.pyc\u001b[0m in \u001b[0;36m__call__\u001b[0;34m(self, *args, **kwargs)\u001b[0m\n\u001b[1;32m    857\u001b[0m         \u001b[0mt0_fn\u001b[0m \u001b[0;34m=\u001b[0m \u001b[0mtime\u001b[0m\u001b[0;34m.\u001b[0m\u001b[0mtime\u001b[0m\u001b[0;34m(\u001b[0m\u001b[0;34m)\u001b[0m\u001b[0;34m\u001b[0m\u001b[0m\n\u001b[1;32m    858\u001b[0m         \u001b[0;32mtry\u001b[0m\u001b[0;34m:\u001b[0m\u001b[0;34m\u001b[0m\u001b[0m\n\u001b[0;32m--> 859\u001b[0;31m             \u001b[0moutputs\u001b[0m \u001b[0;34m=\u001b[0m \u001b[0mself\u001b[0m\u001b[0;34m.\u001b[0m\u001b[0mfn\u001b[0m\u001b[0;34m(\u001b[0m\u001b[0;34m)\u001b[0m\u001b[0;34m\u001b[0m\u001b[0m\n\u001b[0m\u001b[1;32m    860\u001b[0m         \u001b[0;32mexcept\u001b[0m \u001b[0mException\u001b[0m\u001b[0;34m:\u001b[0m\u001b[0;34m\u001b[0m\u001b[0m\n\u001b[1;32m    861\u001b[0m             \u001b[0;32mif\u001b[0m \u001b[0mhasattr\u001b[0m\u001b[0;34m(\u001b[0m\u001b[0mself\u001b[0m\u001b[0;34m.\u001b[0m\u001b[0mfn\u001b[0m\u001b[0;34m,\u001b[0m \u001b[0;34m'position_of_error'\u001b[0m\u001b[0;34m)\u001b[0m\u001b[0;34m:\u001b[0m\u001b[0;34m\u001b[0m\u001b[0m\n",
      "\u001b[0;32m//anaconda/lib/python2.7/site-packages/Theano-0.8.0.dev0-py2.7.egg/theano/gof/op.pyc\u001b[0m in \u001b[0;36mrval\u001b[0;34m(p, i, o, n)\u001b[0m\n\u001b[1;32m    905\u001b[0m         \u001b[0;32mif\u001b[0m \u001b[0mparams\u001b[0m \u001b[0;32mis\u001b[0m \u001b[0mgraph\u001b[0m\u001b[0;34m.\u001b[0m\u001b[0mNoParams\u001b[0m\u001b[0;34m:\u001b[0m\u001b[0;34m\u001b[0m\u001b[0m\n\u001b[1;32m    906\u001b[0m             \u001b[0;31m# default arguments are stored in the closure of `rval`\u001b[0m\u001b[0;34m\u001b[0m\u001b[0;34m\u001b[0m\u001b[0m\n\u001b[0;32m--> 907\u001b[0;31m             \u001b[0;32mdef\u001b[0m \u001b[0mrval\u001b[0m\u001b[0;34m(\u001b[0m\u001b[0mp\u001b[0m\u001b[0;34m=\u001b[0m\u001b[0mp\u001b[0m\u001b[0;34m,\u001b[0m \u001b[0mi\u001b[0m\u001b[0;34m=\u001b[0m\u001b[0mnode_input_storage\u001b[0m\u001b[0;34m,\u001b[0m \u001b[0mo\u001b[0m\u001b[0;34m=\u001b[0m\u001b[0mnode_output_storage\u001b[0m\u001b[0;34m,\u001b[0m \u001b[0mn\u001b[0m\u001b[0;34m=\u001b[0m\u001b[0mnode\u001b[0m\u001b[0;34m)\u001b[0m\u001b[0;34m:\u001b[0m\u001b[0;34m\u001b[0m\u001b[0m\n\u001b[0m\u001b[1;32m    908\u001b[0m                 \u001b[0mr\u001b[0m \u001b[0;34m=\u001b[0m \u001b[0mp\u001b[0m\u001b[0;34m(\u001b[0m\u001b[0mn\u001b[0m\u001b[0;34m,\u001b[0m \u001b[0;34m[\u001b[0m\u001b[0mx\u001b[0m\u001b[0;34m[\u001b[0m\u001b[0;36m0\u001b[0m\u001b[0;34m]\u001b[0m \u001b[0;32mfor\u001b[0m \u001b[0mx\u001b[0m \u001b[0;32min\u001b[0m \u001b[0mi\u001b[0m\u001b[0;34m]\u001b[0m\u001b[0;34m,\u001b[0m \u001b[0mo\u001b[0m\u001b[0;34m)\u001b[0m\u001b[0;34m\u001b[0m\u001b[0m\n\u001b[1;32m    909\u001b[0m                 \u001b[0;32mfor\u001b[0m \u001b[0mo\u001b[0m \u001b[0;32min\u001b[0m \u001b[0mnode\u001b[0m\u001b[0;34m.\u001b[0m\u001b[0moutputs\u001b[0m\u001b[0;34m:\u001b[0m\u001b[0;34m\u001b[0m\u001b[0m\n",
      "\u001b[0;31mKeyboardInterrupt\u001b[0m: "
     ]
    }
   ],
   "source": [
    "train_net(mnist_x, mnist_y, conv[\"train_fn\"], num_epochs=5, batch_size=64)"
   ]
  },
  {
   "cell_type": "code",
   "execution_count": 393,
   "metadata": {
    "collapsed": true
   },
   "outputs": [],
   "source": [
    "mnist_x_9 = mnist_x[ (mnist_y == 9) ]\n",
    "mnist_y_9 = np.asarray([9 for x in range(0, mnist_x_9.shape[0])], dtype=\"int32\")"
   ]
  },
  {
   "cell_type": "code",
   "execution_count": 394,
   "metadata": {
    "collapsed": false
   },
   "outputs": [],
   "source": [
    "grads_for_9 = conv[\"x_grad_fn\"](mnist_x_9, mnist_y_9)"
   ]
  },
  {
   "cell_type": "code",
   "execution_count": 403,
   "metadata": {
    "collapsed": false
   },
   "outputs": [
    {
     "data": {
      "text/plain": [
       "<matplotlib.image.AxesImage at 0x144be4950>"
      ]
     },
     "execution_count": 403,
     "metadata": {},
     "output_type": "execute_result"
    },
    {
     "data": {
      "image/png": "[encoded data removed]",
      "text/plain": [
       "<matplotlib.figure.Figure at 0x1448c7690>"
      ]
     },
     "metadata": {},
     "output_type": "display_data"
    }
   ],
   "source": [
    "plt.imshow( np.mean(np.abs(grads_for_9),axis=0)[0] )"
   ]
  },
  {
   "cell_type": "code",
   "execution_count": 404,
   "metadata": {
    "collapsed": false
   },
   "outputs": [
    {
     "data": {
      "text/plain": [
       "<matplotlib.image.AxesImage at 0x1450a6bd0>"
      ]
     },
     "execution_count": 404,
     "metadata": {},
     "output_type": "execute_result"
    },
    {
     "data": {
      "image/png": "[encoded data removed]",
      "text/plain": [
       "<matplotlib.figure.Figure at 0x14504e3d0>"
      ]
     },
     "metadata": {},
     "output_type": "display_data"
    }
   ],
   "source": [
    "plt.imshow( np.mean(np.abs(mnist_x_9),axis=0)[0] )"
   ]
  },
  {
   "cell_type": "markdown",
   "metadata": {},
   "source": [
    "----"
   ]
  },
  {
   "cell_type": "markdown",
   "metadata": {},
   "source": [
    "* Not using autoencoders, because the noise attributes actually get larger gradients. Because they have no structure to them, the network allocates more capacity to them, and hence they end up being more important attributes."
   ]
  },
  {
   "cell_type": "code",
   "execution_count": null,
   "metadata": {
    "collapsed": true
   },
   "outputs": [],
   "source": []
  }
 ],
 "metadata": {
  "kernelspec": {
   "display_name": "Python 2",
   "language": "python",
   "name": "python2"
  },
  "language_info": {
   "codemirror_mode": {
    "name": "ipython",
    "version": 2
   },
   "file_extension": ".py",
   "mimetype": "text/x-python",
   "name": "python",
   "nbconvert_exporter": "python",
   "pygments_lexer": "ipython2",
   "version": "2.7.10"
  }
 },
 "nbformat": 4,
 "nbformat_minor": 0
}
