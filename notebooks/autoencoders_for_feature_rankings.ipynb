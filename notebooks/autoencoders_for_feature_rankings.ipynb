{
 "cells": [
  {
   "cell_type": "markdown",
   "metadata": {},
   "source": [
    "* MNIST inverse network\n",
    "* Newsgroups inverse network\n",
    "* Squared error loss and classification loss\n",
    "  * Also with L1 regularisation\n",
    "* https://papers.nips.cc/paper/119-skeletonization-a-technique-for-trimming-the-fat-from-a-network-via-relevance-assessment.pdf"
   ]
  },
  {
   "cell_type": "markdown",
   "metadata": {},
   "source": [
    "----"
   ]
  },
  {
   "cell_type": "markdown",
   "metadata": {},
   "source": [
    "Yann Lecun's paper \"Optimal Brain Damage\":\n",
    "* This is a paper on network pruning (not our primary focus)\n",
    "* Let's use a Taylor series to calculate $\\delta E$ based on a perturbation of the parameter vector $U$, $\\delta U$. **This formulation is slightly confusing for me, because it's not expressing the effect on $E$ by perturbing a single weight value $u_i$, but a weight vector $U$.**\n",
    "* We assume that $\\frac{\\partial E}{\\partial u_{i}} = 0$ (i.e. each weight is at a local minimum), but this seems to imply that training is finished, and that we prune the network after training. **It seems like a waste because we have to wait until the network is fully trained to start pruning it.**\n",
    "* Assumes the cost function is nearly quadratic\n",
    "* Use a simplification of the Hessian $\\frac{\\partial^{2} E}{\\partial u_{i} \\partial u_{j}} = \\frac{\\partial}{\\partial u_{j}} \\Big( \\frac{\\partial E}{\\partial u_{i}} \\Big)$ by taking the diagonal elements and use that.\n",
    "* The saliency of each parameter $s_{k} = h_{kk}u^{2}_{k} / 2$\n",
    "* I feel as though the computation of $\\frac{\\partial E}{\\partial u_{i}}$ is more straightforward. **This doesn't require computation of the Hessian (even though LeCun only does the diagonal of the Hessian).**"
   ]
  },
  {
   "cell_type": "markdown",
   "metadata": {},
   "source": [
    "Mozer and Smolensky paper on \"Skeletonisation\":\n",
    "* This is a paper on network pruning (again, not our primary focus)\n",
    "* Let the output of a hidden unit $o_{j} = sigm(\\sum_{i} w_{ji} \\alpha_{i} o_{i})$\n",
    "* The $\\alpha_{i}$ is a \"gating unit\" that is always equal to 1, but we can compute $\\frac{\\partial E}{\\partial o_{i}}$ instead to see how the loss changes when we decrease the \"significance\" of that unit\n",
    "* **They say this technique is poor when the output is close to the target but this could be mitigated by using a validation set?**"
   ]
  },
  {
   "cell_type": "markdown",
   "metadata": {},
   "source": [
    "My work:\n",
    "\n",
    "* Use the validation set to do smart re-init of weights\n",
    "* Compute the average of $|\\frac{\\partial E}{\\partial h_{i}}|$ over the entire validation set to get an unbiased measure of how sensitive each hidden unit $h_{i}$ is to the loss function.\n",
    "* Also compute the average of $|\\frac{\\partial E}{\\partial x_{i}}|$ on the validation set to get a ranking of how well each input feature does.\n",
    "* ##What happens if we do LeCun styles and prune the network after training using the validation set?"
   ]
  },
  {
   "cell_type": "code",
   "execution_count": null,
   "metadata": {
    "collapsed": true
   },
   "outputs": [],
   "source": []
  },
  {
   "cell_type": "code",
   "execution_count": 1,
   "metadata": {
    "collapsed": false
   },
   "outputs": [
    {
     "name": "stderr",
     "output_type": "stream",
     "text": [
      "//anaconda/lib/python2.7/site-packages/Theano-0.8.0.dev0-py2.7.egg/theano/tensor/signal/downsample.py:5: UserWarning: downsample module has been moved to the pool module.\n",
      "  warnings.warn(\"downsample module has been moved to the pool module.\")\n"
     ]
    }
   ],
   "source": [
    "import sys\n",
    "import cPickle as pickle\n",
    "import gzip\n",
    "import random\n",
    "from matplotlib import pyplot as plt\n",
    "%matplotlib inline\n",
    "sys.path.append(\"../modules/\")\n",
    "import helper as hp\n",
    "# ----\n",
    "import theano\n",
    "from theano import tensor as T\n",
    "import lasagne\n",
    "import numpy as np\n",
    "# ---\n",
    "from skimage import io\n",
    "# ---\n",
    "from lasagne.layers import *\n",
    "from lasagne.nonlinearities import *\n",
    "from lasagne.objectives import *\n",
    "from lasagne.init import *\n",
    "from lasagne.updates import *\n",
    "from lasagne.regularization import *\n",
    "# ---\n",
    "from scipy.io import loadmat\n",
    "# ---\n",
    "from IPython.display import Image\n",
    "random.seed(0)\n",
    "np.random.seed(0)"
   ]
  },
  {
   "cell_type": "code",
   "execution_count": 26,
   "metadata": {
    "collapsed": false
   },
   "outputs": [
    {
     "name": "stdout",
     "output_type": "stream",
     "text": [
      "The rpy2.ipython extension is already loaded. To reload it, use:\n",
      "  %reload_ext rpy2.ipython\n"
     ]
    }
   ],
   "source": [
    "%load_ext rpy2.ipython"
   ]
  },
  {
   "cell_type": "code",
   "execution_count": 2,
   "metadata": {
    "collapsed": true
   },
   "outputs": [],
   "source": [
    "def print_net(out):\n",
    "    for layer in get_all_layers(out):\n",
    "        print layer.output_shape\n",
    "    print count_params(out)"
   ]
  },
  {
   "cell_type": "markdown",
   "metadata": {},
   "source": [
    "* Load in the newsgroup dataset\n",
    "* Add 100 random $U(0,1)$ (discrete) attributes to the end."
   ]
  },
  {
   "cell_type": "code",
   "execution_count": 3,
   "metadata": {
    "collapsed": false
   },
   "outputs": [],
   "source": [
    "data = loadmat(\"../data/20news_w100.mat\")\n",
    "X_total = data[\"documents\"].toarray().T\n",
    "X_total = np.asarray(X_total, dtype=\"float32\")\n",
    "X_noise = np.asarray(np.random.randint(0, 2, (X_total.shape[0], X_total.shape[1])), dtype=\"float32\")\n",
    "X_total = np.hstack( (X_total, X_noise) )\n",
    "y_total = data[\"newsgroups\"]-1\n",
    "y_total = np.asarray(y_total[0],dtype=\"int32\")"
   ]
  },
  {
   "cell_type": "code",
   "execution_count": 7,
   "metadata": {
    "collapsed": true
   },
   "outputs": [],
   "source": [
    "def simple_mlp(X_data, y_data, lamb=0.0):\n",
    "    a_in = InputLayer( (None, X_data.shape[1]) )\n",
    "    a_out = DenseLayer(a_in, num_units=np.max(y_data)+1, nonlinearity=softmax)   \n",
    "    X = T.fmatrix('X')\n",
    "    y = T.ivector('y')\n",
    "    loss = categorical_crossentropy( get_output(a_out, X), y ).mean() + \\\n",
    "        lamb*regularize_layer_params(a_out, l1)\n",
    "    params = get_all_params(a_out)\n",
    "    updates = nesterov_momentum(loss, params, 0.01, 0.9)\n",
    "    train_fn = theano.function([X, y], loss, updates=updates)\n",
    "    x_grad_fn = theano.function([X, y], T.grad(loss, X))\n",
    "    predict_fn = theano.function([X], get_output(a_out, X) )\n",
    "    loss_fn = theano.function([X, y], loss )\n",
    "    return {\"net\": a_out,\n",
    "            \"train_fn\":train_fn,\n",
    "            \"x_grad_fn\":x_grad_fn,\n",
    "            \"predict_fn\":predict_fn,\n",
    "            \"loss_fn\": loss_fn}"
   ]
  },
  {
   "cell_type": "code",
   "execution_count": 8,
   "metadata": {
    "collapsed": false
   },
   "outputs": [],
   "source": [
    "mlp1 = simple_mlp(X_total, y_total, lamb=1e-4)"
   ]
  },
  {
   "cell_type": "code",
   "execution_count": 6,
   "metadata": {
    "collapsed": false
   },
   "outputs": [
    {
     "name": "stdout",
     "output_type": "stream",
     "text": [
      "(None, 200)\n",
      "(None, 4)\n",
      "804\n"
     ]
    }
   ],
   "source": [
    "print_net(mlp1[\"net\"])"
   ]
  },
  {
   "cell_type": "code",
   "execution_count": 4,
   "metadata": {
    "collapsed": true
   },
   "outputs": [],
   "source": [
    "def train_net(X_train, y_train, train_fn, num_epochs, batch_size, shuffle=True):\n",
    "    idxs = [x for x in range(0, X_train.shape[0])]\n",
    "    Xt, yt = X_train, y_train\n",
    "    for epoch in range(0, num_epochs):\n",
    "        if shuffle:\n",
    "            random.shuffle(idxs)\n",
    "            Xt = X_train[idxs]\n",
    "            yt = y_train[idxs]\n",
    "        b = 0\n",
    "        losses = []\n",
    "        while True:\n",
    "            if b*batch_size >= Xt.shape[0]:\n",
    "                break\n",
    "            this_loss = train_fn(\n",
    "                Xt[b*batch_size : (b+1)*batch_size], yt[b*batch_size : (b+1)*batch_size])\n",
    "            losses.append(this_loss)\n",
    "            b += 1\n",
    "        print np.mean(losses)"
   ]
  },
  {
   "cell_type": "code",
   "execution_count": 5,
   "metadata": {
    "collapsed": true
   },
   "outputs": [],
   "source": [
    "def get_accuracy(X_train, y_train, predict_fn):\n",
    "    return float(np.sum(np.argmax(predict_fn(X_train),axis=1) == y_train)) / len(y_train)"
   ]
  },
  {
   "cell_type": "code",
   "execution_count": 6,
   "metadata": {
    "collapsed": true
   },
   "outputs": [],
   "source": [
    "def get_mean_abs_grad(X_train, y_train, x_grad_fn):\n",
    "    return np.mean(np.abs(x_grad_fn(X_train, y_train)),axis=0)"
   ]
  },
  {
   "cell_type": "markdown",
   "metadata": {},
   "source": [
    "* Train a simple perceptron MLP on the newsgroup dataset with $L_{1}$\n",
    "* Look at the accuracy and a plot of the mean absolute gradients over the training set (we expect the noise attributes to have low gradients)"
   ]
  },
  {
   "cell_type": "code",
   "execution_count": 9,
   "metadata": {
    "collapsed": false
   },
   "outputs": [
    {
     "name": "stdout",
     "output_type": "stream",
     "text": [
      "1.24038769687\n",
      "0.961402661807\n",
      "0.846730233653\n",
      "0.783747876401\n",
      "0.741364332204\n",
      "0.711811377242\n",
      "0.689930242737\n",
      "0.6719055283\n",
      "0.657789754059\n",
      "0.645425312019\n",
      "0.635820935525\n",
      "0.627344108521\n",
      "0.620307427978\n",
      "0.613422596707\n",
      "0.608173235901\n",
      "0.602524239123\n",
      "0.597997254493\n",
      "0.593634118246\n",
      "0.58999622535\n",
      "0.586007760017\n",
      "0.582901186732\n",
      "0.580647499627\n",
      "0.577508280324\n",
      "0.574825711939\n",
      "0.572769822787\n",
      "0.570677350104\n",
      "0.569178246387\n",
      "0.566503460182\n",
      "0.564949097169\n",
      "0.562628962734\n",
      "0.561439528658\n",
      "0.559980061237\n",
      "0.559252894894\n",
      "0.557535476689\n",
      "0.55649951018\n",
      "0.554870809332\n",
      "0.553857100425\n",
      "0.55276352065\n",
      "0.551228267174\n",
      "0.550536239804\n",
      "0.549603675921\n",
      "0.548873289351\n",
      "0.547737637265\n",
      "0.547328269907\n",
      "0.546394409481\n",
      "0.545402491087\n",
      "0.544799126556\n",
      "0.544053936665\n",
      "0.54334388851\n",
      "0.543165216714\n",
      "0.542025717262\n",
      "0.541955042916\n",
      "0.540852726611\n",
      "0.540259810079\n",
      "0.539688210315\n",
      "0.539456873215\n",
      "0.538800994564\n",
      "0.538490240026\n",
      "0.538356482633\n",
      "0.537411796992\n",
      "0.537316718914\n",
      "0.53678772601\n",
      "0.536439141984\n",
      "0.535757806627\n",
      "0.535097052571\n",
      "0.535082632158\n",
      "0.534397293469\n",
      "0.534777208619\n",
      "0.534090071569\n",
      "0.533821140602\n",
      "0.533922247068\n",
      "0.533167316117\n",
      "0.533212701617\n",
      "0.53260697469\n",
      "0.53247296386\n",
      "0.531732667957\n",
      "0.532040617005\n",
      "0.531562639452\n",
      "0.531385206933\n",
      "0.530828919232\n",
      "0.530411572308\n",
      "0.531065368916\n",
      "0.530633731617\n",
      "0.530373110477\n",
      "0.529953400482\n",
      "0.529498579873\n",
      "0.52951762288\n",
      "0.529434921417\n",
      "0.529337746422\n",
      "0.529024797839\n",
      "0.528849578939\n",
      "0.528184846889\n",
      "0.527968256858\n",
      "0.528580417172\n",
      "0.528049407868\n",
      "0.528033779933\n",
      "0.527967762578\n",
      "0.527393485283\n",
      "0.527354682243\n",
      "0.527215006843\n",
      "0.527373840613\n",
      "0.526812631987\n",
      "0.527502831004\n",
      "0.526571829692\n",
      "0.526301610802\n",
      "0.526498453478\n",
      "0.526520445193\n",
      "0.526556097104\n",
      "0.526016934678\n",
      "0.525611317453\n",
      "0.526654018279\n",
      "0.525757440938\n",
      "0.525546463387\n",
      "0.525878261866\n",
      "0.525248197366\n",
      "0.525455606117\n",
      "0.525141071622\n",
      "0.525199879393\n",
      "0.524717207721\n",
      "0.524817956814\n",
      "0.525136652736\n",
      "0.524632068222\n",
      "0.52467893292\n",
      "0.524565242523\n",
      "0.524317035722\n",
      "0.523913830288\n",
      "0.524019124115\n",
      "0.52371135087\n",
      "0.524557143556\n",
      "0.523677299481\n",
      "0.523690824856\n",
      "0.523811766126\n",
      "0.523520609812\n",
      "0.523370374603\n",
      "0.523476033613\n",
      "0.523485127026\n",
      "0.523361006536\n",
      "0.523266621879\n",
      "0.52290869546\n",
      "0.523288381058\n",
      "0.522726412325\n",
      "0.523702394928\n",
      "0.522756418912\n",
      "0.522878061135\n",
      "0.522446988564\n",
      "0.522450240346\n",
      "0.522490525693\n",
      "0.522336418637\n",
      "0.522523423205\n",
      "0.522554450159\n",
      "0.522856251311\n",
      "0.52243911961\n",
      "0.522323295639\n",
      "0.5227522019\n",
      "0.522117355103\n",
      "0.522484424889\n",
      "0.522007479655\n",
      "0.522227437059\n",
      "0.521937112221\n",
      "0.521972518267\n",
      "0.521872668407\n",
      "0.521649603856\n",
      "0.521584049716\n",
      "0.521711398223\n",
      "0.521619711517\n",
      "0.521740429053\n",
      "0.521305390234\n",
      "0.521781130433\n",
      "0.521613326007\n",
      "0.521306707198\n",
      "0.521116570351\n",
      "0.521186365324\n",
      "0.521240742799\n",
      "0.521791111463\n",
      "0.520485174914\n",
      "0.520547405026\n",
      "0.520661529911\n",
      "0.520304624019\n",
      "0.521208290963\n",
      "0.520992767657\n",
      "0.521199250961\n",
      "0.52076578777\n",
      "0.521064967543\n",
      "0.521120359532\n",
      "0.5208022492\n",
      "0.520701001173\n",
      "0.520952929011\n",
      "0.52038084827\n",
      "0.52060060434\n",
      "0.520019036169\n",
      "0.520796578979\n",
      "0.520210492395\n",
      "0.520722306077\n",
      "0.520491914852\n",
      "0.52070966042\n",
      "0.52032516085\n",
      "0.520463482319\n",
      "0.520241928137\n",
      "0.520073219003\n",
      "0.519795478507\n"
     ]
    }
   ],
   "source": [
    "train_net(X_total, y_total, mlp1[\"train_fn\"], num_epochs=200, batch_size=128, shuffle=True)"
   ]
  },
  {
   "cell_type": "code",
   "execution_count": 10,
   "metadata": {
    "collapsed": false
   },
   "outputs": [
    {
     "data": {
      "text/plain": [
       "[<matplotlib.lines.Line2D at 0x1140b92d0>]"
      ]
     },
     "execution_count": 10,
     "metadata": {},
     "output_type": "execute_result"
    },
    {
     "data": {
      "image/png": "[encoded data removed]",
      "text/plain": [
       "<matplotlib.figure.Figure at 0x1140f60d0>"
      ]
     },
     "metadata": {},
     "output_type": "display_data"
    }
   ],
   "source": [
    "plt.plot( get_mean_abs_grad(X_total, y_total, mlp1[\"x_grad_fn\"]) )"
   ]
  },
  {
   "cell_type": "markdown",
   "metadata": {},
   "source": [
    "* Do the same thing but train an MLP (one hidden layer, with 100 hidden units)\n",
    "* Evaluate accuracy\n",
    "* Evaluate gradient plots for the input layer and the hidden layer"
   ]
  },
  {
   "cell_type": "code",
   "execution_count": 167,
   "metadata": {
    "collapsed": true
   },
   "outputs": [],
   "source": [
    "def mlp(X_data, y_data, num_hidden_units=None, lamb=0.0):\n",
    "    # prototype\n",
    "    if num_hidden_units == None:\n",
    "        num_hidden_units = X_data.shape[1]/2\n",
    "    a_in = InputLayer( (None, X_data.shape[1]) )\n",
    "    a_hidden = DenseLayer(a_in, num_units=num_hidden_units)\n",
    "    a_out = DenseLayer(a_hidden, num_units=np.max(y_data)+1, nonlinearity=softmax)\n",
    "    # ---\n",
    "    X = T.fmatrix('X')\n",
    "    y = T.ivector('y')\n",
    "    outputs = get_output([a_hidden, a_out], X)\n",
    "    #print outputs\n",
    "    loss = categorical_crossentropy( outputs[1], y ).mean() + \\\n",
    "        lamb*regularize_layer_params(a_out, l1)\n",
    "    params = get_all_params(a_out)\n",
    "    \n",
    "    \"\"\"\n",
    "    params = [W1, b1, W1, b1], so\n",
    "    params[0], params[2] = W1, W2\n",
    "    \"\"\"\n",
    "    W1_mask = theano.shared(\n",
    "        np.ones( params[0].get_value().shape ).astype(\"float32\") )\n",
    "    W2_mask = theano.shared(\n",
    "        np.ones( params[2].get_value().shape ).astype(\"float32\") ) \n",
    "    updates = nesterov_momentum(loss, params, 0.01, 0.9)\n",
    "    updates[ updates.keys()[0] ] = updates[ updates.keys()[0] ] * W1_mask\n",
    "    updates[ updates.keys()[2] ] = updates[ updates.keys()[2] ] * W2_mask    \n",
    "    \n",
    "    train_fn = theano.function([X, y], loss, updates=updates)\n",
    "    #Compute dLoss / dX\n",
    "    x_grad_fn = theano.function([X, y], theano.gradient.subgraph_grad(cost=loss, wrt=[X], end=[X])[0][0])\n",
    "    predict_fn = theano.function([X], get_output(a_out, X) )\n",
    "    loss_fn = theano.function([X, y], loss )\n",
    "    #Compute dLoss / dHidden\n",
    "    hidden_grad_fn = theano.function([X, y],\n",
    "            theano.subgraph_grad(cost=loss, wrt=[ outputs[0] ], end=[X])[0][0])\n",
    "    hidden_predict_fn = theano.function([X], outputs[0])\n",
    "    #Compute dLoss / dW1\n",
    "    w1_grad_fn = theano.function([X,y], T.grad(loss,params[0]))\n",
    "    w2_grad_fn = theano.function([X,y], T.grad(loss,params[2]))\n",
    "    # ---\n",
    "    return {\"net\": a_out,\n",
    "            \"train_fn\":train_fn,\n",
    "            \"x_grad_fn\":x_grad_fn,\n",
    "            \"predict_fn\":predict_fn,\n",
    "            \"hidden_grad_fn\":hidden_grad_fn,\n",
    "            \"hidden_predict_fn\":hidden_predict_fn,\n",
    "            \"w1_grad_fn\":w1_grad_fn,\n",
    "            \"w2_grad_fn\":w2_grad_fn,\n",
    "            \"loss_fn\": loss_fn,\n",
    "            \"W1_mask\": W1_mask,\n",
    "            \"W2_mask\": W2_mask,\n",
    "            \"W1\": params[0],\n",
    "            \"W2\": params[2]}"
   ]
  },
  {
   "cell_type": "code",
   "execution_count": 45,
   "metadata": {
    "collapsed": false
   },
   "outputs": [],
   "source": [
    "mlp2 = mlp(X_total, y_total, lamb=1e-4)"
   ]
  },
  {
   "cell_type": "code",
   "execution_count": 46,
   "metadata": {
    "collapsed": false
   },
   "outputs": [
    {
     "name": "stdout",
     "output_type": "stream",
     "text": [
      "1.19287630255\n",
      "0.798047850244\n",
      "0.650163044327\n",
      "0.592531455304\n",
      "0.566004271755\n",
      "0.550285115026\n",
      "0.540488815589\n",
      "0.532426634981\n",
      "0.52548010289\n",
      "0.523098710172\n",
      "0.517036588408\n",
      "0.510581815446\n",
      "0.507858662094\n",
      "0.505045391862\n",
      "0.501529487308\n",
      "0.496382928538\n",
      "0.494317369126\n",
      "0.491174936635\n",
      "0.487491684518\n",
      "0.483392836779\n",
      "0.481370312446\n",
      "0.476039584351\n",
      "0.472348474006\n",
      "0.468698002244\n",
      "0.46454991334\n",
      "0.461459666196\n",
      "0.456706158735\n",
      "0.452557161329\n",
      "0.447995996533\n",
      "0.445969286798\n",
      "0.439920116619\n",
      "0.436065439093\n",
      "0.432810955517\n",
      "0.428084496305\n",
      "0.4235590976\n",
      "0.418587136857\n",
      "0.412684866439\n",
      "0.409588916592\n",
      "0.403696744196\n",
      "0.400020869492\n",
      "0.396846357755\n",
      "0.39145923888\n",
      "0.384997870225\n",
      "0.380787190717\n",
      "0.375868475491\n",
      "0.371643930481\n",
      "0.365644132819\n",
      "0.361878686949\n",
      "0.356090822261\n",
      "0.352943931611\n",
      "0.348113484767\n",
      "0.341537685697\n",
      "0.338706170665\n",
      "0.333842666532\n",
      "0.329202192444\n",
      "0.324482825074\n",
      "0.319521077917\n",
      "0.315487288137\n",
      "0.31019618732\n",
      "0.307993551252\n",
      "0.30291905567\n",
      "0.297659007081\n",
      "0.29288364414\n",
      "0.289406874806\n",
      "0.28678713236\n",
      "0.280932022017\n",
      "0.278587167009\n",
      "0.272704651008\n",
      "0.268423340534\n",
      "0.265945637431\n",
      "0.261659475325\n",
      "0.256106288166\n",
      "0.256557664629\n",
      "0.250752521458\n",
      "0.247995671794\n",
      "0.242755677961\n",
      "0.240191712196\n",
      "0.237456979084\n",
      "0.23299283676\n",
      "0.229749458859\n",
      "0.226560527102\n",
      "0.221031186371\n",
      "0.217758865813\n",
      "0.216096498443\n",
      "0.213604673631\n",
      "0.209322874322\n",
      "0.205535719993\n",
      "0.204421239042\n",
      "0.200201867743\n",
      "0.197661350781\n",
      "0.19289413075\n",
      "0.190089670735\n",
      "0.187787543357\n",
      "0.185357418094\n",
      "0.181910406351\n",
      "0.178836634682\n",
      "0.177639908721\n",
      "0.173269168778\n",
      "0.172659245273\n",
      "0.168419375014\n",
      "0.16552894931\n",
      "0.162775275877\n",
      "0.161102112611\n",
      "0.159111275904\n",
      "0.156271333232\n",
      "0.154700316663\n",
      "0.15184688632\n",
      "0.148142548423\n",
      "0.146598589103\n",
      "0.14622408965\n",
      "0.141458002924\n",
      "0.14063450652\n",
      "0.138102781098\n",
      "0.137178804758\n",
      "0.135151377579\n",
      "0.132050971986\n",
      "0.131559759633\n",
      "0.128898424589\n",
      "0.126546833667\n",
      "0.126576424329\n",
      "0.123579692752\n",
      "0.122551126677\n",
      "0.119757853998\n",
      "0.118786397465\n",
      "0.117429377745\n",
      "0.116340601694\n",
      "0.113653204986\n",
      "0.112562779436\n",
      "0.109997047731\n",
      "0.108746849794\n",
      "0.107278995654\n",
      "0.106611530271\n",
      "0.103871004374\n",
      "0.102718822237\n",
      "0.101790524551\n",
      "0.0999407461579\n",
      "0.0998825124467\n",
      "0.0977728529793\n",
      "0.0965400826566\n",
      "0.0963027476053\n",
      "0.0940655882072\n",
      "0.0927774256153\n",
      "0.0925885191582\n",
      "0.0905044518763\n",
      "0.0902069340119\n",
      "0.088677115406\n",
      "0.087964985525\n",
      "0.0862921188701\n",
      "0.0857302576509\n",
      "0.0849840721059\n",
      "0.0838132788276\n",
      "0.0825216286726\n",
      "0.0822322033522\n",
      "0.0807702625516\n",
      "0.0797284557717\n",
      "0.078822776145\n",
      "0.0791121001848\n",
      "0.0778370159495\n",
      "0.0775538825132\n",
      "0.0761411094645\n",
      "0.0749062054143\n",
      "0.0753561965726\n",
      "0.0743533370558\n",
      "0.0730232178872\n",
      "0.0728939369666\n",
      "0.0721616234263\n",
      "0.0714501222487\n",
      "0.0707576614685\n",
      "0.070337516709\n",
      "0.0696659374059\n",
      "0.0691124313753\n",
      "0.0687148296028\n",
      "0.0680295491943\n",
      "0.0673029147646\n",
      "0.0667992380392\n",
      "0.0666008664253\n",
      "0.0655320066363\n",
      "0.0653280011599\n",
      "0.0652022738674\n",
      "0.0641833708908\n",
      "0.0637238063305\n",
      "0.0638215956197\n",
      "0.0634827130368\n",
      "0.0627097018291\n",
      "0.0624765150349\n",
      "0.0619894431018\n",
      "0.0619144120509\n",
      "0.0614281544562\n",
      "0.0608631907793\n",
      "0.0604986957628\n",
      "0.060598106913\n",
      "0.0599864886167\n",
      "0.0595936700133\n",
      "0.0592664190953\n",
      "0.0585633824159\n",
      "0.0586223412871\n",
      "0.0582236727909\n",
      "0.0576785097176\n",
      "0.0574534661983\n",
      "0.0569210903242\n"
     ]
    }
   ],
   "source": [
    "train_net(X_total, y_total, mlp2[\"train_fn\"], num_epochs=200, batch_size=128, shuffle=True)"
   ]
  },
  {
   "cell_type": "code",
   "execution_count": 47,
   "metadata": {
    "collapsed": false
   },
   "outputs": [
    {
     "data": {
      "text/plain": [
       "0.9999384312276813"
      ]
     },
     "execution_count": 47,
     "metadata": {},
     "output_type": "execute_result"
    }
   ],
   "source": [
    "get_accuracy(X_total, y_total, mlp2[\"predict_fn\"])"
   ]
  },
  {
   "cell_type": "code",
   "execution_count": 51,
   "metadata": {
    "collapsed": false
   },
   "outputs": [
    {
     "data": {
      "text/plain": [
       "(100, 4)"
      ]
     },
     "execution_count": 51,
     "metadata": {},
     "output_type": "execute_result"
    }
   ],
   "source": [
    "mlp2[\"W2\"].get_value().shape"
   ]
  },
  {
   "cell_type": "code",
   "execution_count": 15,
   "metadata": {
    "collapsed": false
   },
   "outputs": [
    {
     "data": {
      "text/plain": [
       "(16242, 200)"
      ]
     },
     "execution_count": 15,
     "metadata": {},
     "output_type": "execute_result"
    }
   ],
   "source": [
    "mlp2[\"x_grad_fn\"](X_total, y_total).shape"
   ]
  },
  {
   "cell_type": "markdown",
   "metadata": {},
   "source": [
    "Plot each feature $x_{i}$ against the average of $\\frac{dL}{dx_{i}}$ over the entire dataset."
   ]
  },
  {
   "cell_type": "code",
   "execution_count": 16,
   "metadata": {
    "collapsed": false
   },
   "outputs": [
    {
     "data": {
      "text/plain": [
       "[<matplotlib.lines.Line2D at 0x11b192c50>]"
      ]
     },
     "execution_count": 16,
     "metadata": {},
     "output_type": "execute_result"
    },
    {
     "data": {
      "image/png": "[encoded data removed]",
      "text/plain": [
       "<matplotlib.figure.Figure at 0x11ab897d0>"
      ]
     },
     "metadata": {},
     "output_type": "display_data"
    }
   ],
   "source": [
    "plt.plot( get_mean_abs_grad(X_total, y_total, mlp2[\"x_grad_fn\"]) )"
   ]
  },
  {
   "cell_type": "markdown",
   "metadata": {},
   "source": [
    "Plot each $h_{i}$ against the average of $\\frac{dL}{dh_{i}}$ over the entire dataset."
   ]
  },
  {
   "cell_type": "code",
   "execution_count": 17,
   "metadata": {
    "collapsed": false
   },
   "outputs": [
    {
     "data": {
      "text/plain": [
       "[<matplotlib.lines.Line2D at 0x11b2cd150>]"
      ]
     },
     "execution_count": 17,
     "metadata": {},
     "output_type": "execute_result"
    },
    {
     "data": {
      "image/png": "[encoded data removed]",
      "text/plain": [
       "<matplotlib.figure.Figure at 0x11a20c850>"
      ]
     },
     "metadata": {},
     "output_type": "display_data"
    }
   ],
   "source": [
    "mlp2_hidden_grads = mlp2[\"hidden_grad_fn\"](X_total, y_total)\n",
    "plt.plot( np.mean(np.abs(mlp2_hidden_grads), axis=0) )"
   ]
  },
  {
   "cell_type": "markdown",
   "metadata": {},
   "source": [
    "* Generate an MLP with no $L_{1}$ regularisation (we want to overfit the training set, and see how the validation set reacts).\n",
    "* Let's train our network and after each epoch, save a plot of the (validation set) input and hidden gradients to disk."
   ]
  },
  {
   "cell_type": "code",
   "execution_count": 18,
   "metadata": {
    "collapsed": true
   },
   "outputs": [],
   "source": [
    "%%bash\n",
    "mkdir -p feature_ranking_out/input_grads\n",
    "mkdir -p feature_ranking_out/hidden_grads"
   ]
  },
  {
   "cell_type": "code",
   "execution_count": 19,
   "metadata": {
    "collapsed": false
   },
   "outputs": [],
   "source": [
    "mlp3 = mlp(X_total, y_total, num_hidden_units=None, lamb=0.0)"
   ]
  },
  {
   "cell_type": "code",
   "execution_count": 20,
   "metadata": {
    "collapsed": false
   },
   "outputs": [
    {
     "name": "stdout",
     "output_type": "stream",
     "text": [
      "(None, 200)\n",
      "(None, 100)\n",
      "(None, 4)\n",
      "20504\n"
     ]
    }
   ],
   "source": [
    "print_net(mlp3[\"net\"])"
   ]
  },
  {
   "cell_type": "markdown",
   "metadata": {},
   "source": [
    "Cut the data into training and validation."
   ]
  },
  {
   "cell_type": "code",
   "execution_count": 21,
   "metadata": {
    "collapsed": false
   },
   "outputs": [],
   "source": [
    "idxs = [x for x in range(0, X_total.shape[0])]\n",
    "random.shuffle(idxs)\n",
    "train_idxs = idxs[0 : int(0.75*len(idxs))]\n",
    "valid_idxs = idxs[int(0.75*len(idxs)) :: ]\n",
    "Xt, yt, Xv, yv = X_total[train_idxs], y_total[train_idxs], X_total[valid_idxs], y_total[valid_idxs]"
   ]
  },
  {
   "cell_type": "code",
   "execution_count": 22,
   "metadata": {
    "collapsed": false
   },
   "outputs": [
    {
     "data": {
      "text/plain": [
       "((12181, 200), (12181,), (4061, 200), (4061,))"
      ]
     },
     "execution_count": 22,
     "metadata": {},
     "output_type": "execute_result"
    }
   ],
   "source": [
    "Xt.shape, yt.shape, Xv.shape, yv.shape"
   ]
  },
  {
   "cell_type": "code",
   "execution_count": 23,
   "metadata": {
    "collapsed": false
   },
   "outputs": [],
   "source": [
    "def graph_grad_train(Xt, yt, Xv, yv, mlp, num_epochs=20, batch_size=128):\n",
    "    \n",
    "    hidden_grads_arr = []\n",
    "    input_grads_arr = []\n",
    "    \n",
    "    idxs = [x for x in range(0, Xt.shape[0])]\n",
    "    for epoch in range(0, num_epochs):\n",
    "        random.shuffle(idxs)\n",
    "        Xt = Xt[idxs]\n",
    "        yt = yt[idxs]\n",
    "        b = 0\n",
    "        losses = []\n",
    "        while True:\n",
    "            if b*batch_size >= Xt.shape[0]:\n",
    "                break\n",
    "            this_loss = mlp[\"train_fn\"](\n",
    "                Xt[b*batch_size : (b+1)*batch_size], yt[b*batch_size : (b+1)*batch_size])\n",
    "            losses.append(this_loss)\n",
    "            b += 1\n",
    "        input_grads = mlp[\"x_grad_fn\"](Xv, yv)\n",
    "        input_grads = np.mean(np.abs(input_grads), axis=0)\n",
    "        hidden_grads = mlp[\"hidden_grad_fn\"](Xv, yv)\n",
    "        np.savetxt(\"feature_ranking_out/hidden_grads/%s.csv\" % str(epoch+1).zfill(2),\n",
    "                   hidden_grads, delimiter=\",\", fmt=\"%5.5e\")\n",
    "        hidden_grads = np.mean(np.abs(hidden_grads), axis=0)   \n",
    "        \n",
    "        # save grads\n",
    "        input_grads_arr.append(input_grads)\n",
    "        hidden_grads_arr.append(hidden_grads)\n",
    "        this_valid_loss = mlp[\"loss_fn\"](Xv, yv)\n",
    "        print \"train loss, valid loss = %f, %f\" % (np.mean(losses), this_valid_loss)\n",
    "       \n",
    "    print \"plotting...\"\n",
    "    biggest_input_max = -1\n",
    "    biggest_hidden_max = -1\n",
    "    for i in range(0, len(hidden_grads_arr)):\n",
    "        if np.max(hidden_grads_arr[i]) > biggest_hidden_max:\n",
    "            biggest_hidden_max = np.max(hidden_grads_arr[i])\n",
    "        if np.max(input_grads_arr[i]) > biggest_input_max:\n",
    "            biggest_input_max = np.max(input_grads_arr[i])\n",
    "            \n",
    "    for epoch in range(0, num_epochs):\n",
    "        plt.ylim(0, biggest_hidden_max)\n",
    "        plt.plot(hidden_grads_arr[epoch])\n",
    "        plt.savefig(\"feature_ranking_out/hidden_grads/%s.png\" % str(epoch+1).zfill(2))\n",
    "        plt.close()\n",
    "        plt.ylim(0, biggest_input_max)\n",
    "        plt.plot(input_grads_arr[epoch])\n",
    "        plt.savefig(\"feature_ranking_out/input_grads/%s.png\" % str(epoch+1).zfill(2))\n",
    "        plt.close()"
   ]
  },
  {
   "cell_type": "code",
   "execution_count": 24,
   "metadata": {
    "collapsed": false
   },
   "outputs": [
    {
     "name": "stdout",
     "output_type": "stream",
     "text": [
      "train loss, valid loss = 1.259534, 1.084590\n",
      "train loss, valid loss = 0.921809, 0.820552\n",
      "train loss, valid loss = 0.718729, 0.691864\n",
      "train loss, valid loss = 0.629907, 0.631205\n",
      "train loss, valid loss = 0.589884, 0.624609\n",
      "train loss, valid loss = 0.566590, 0.605955\n",
      "train loss, valid loss = 0.546265, 0.567964\n",
      "train loss, valid loss = 0.536979, 0.577164\n",
      "train loss, valid loss = 0.525036, 0.558745\n",
      "train loss, valid loss = 0.516314, 0.570329\n",
      "train loss, valid loss = 0.515275, 0.554276\n",
      "train loss, valid loss = 0.505661, 0.545663\n",
      "train loss, valid loss = 0.502044, 0.546647\n",
      "train loss, valid loss = 0.499705, 0.564793\n",
      "train loss, valid loss = 0.498049, 0.550870\n",
      "train loss, valid loss = 0.491057, 0.549059\n",
      "train loss, valid loss = 0.483071, 0.560452\n",
      "train loss, valid loss = 0.481704, 0.556206\n",
      "train loss, valid loss = 0.477753, 0.545201\n",
      "train loss, valid loss = 0.476040, 0.549429\n",
      "train loss, valid loss = 0.471631, 0.541363\n",
      "train loss, valid loss = 0.468444, 0.610003\n",
      "train loss, valid loss = 0.463774, 0.537395\n",
      "train loss, valid loss = 0.458460, 0.549768\n",
      "train loss, valid loss = 0.456182, 0.543426\n",
      "train loss, valid loss = 0.452773, 0.547934\n",
      "train loss, valid loss = 0.448746, 0.544457\n",
      "train loss, valid loss = 0.444053, 0.562089\n",
      "train loss, valid loss = 0.442968, 0.595464\n",
      "train loss, valid loss = 0.436086, 0.556625\n",
      "train loss, valid loss = 0.428997, 0.578379\n",
      "train loss, valid loss = 0.423061, 0.547897\n",
      "train loss, valid loss = 0.417178, 0.556218\n",
      "train loss, valid loss = 0.414058, 0.552240\n",
      "train loss, valid loss = 0.411406, 0.547874\n",
      "train loss, valid loss = 0.403853, 0.551034\n",
      "train loss, valid loss = 0.400502, 0.551423\n",
      "train loss, valid loss = 0.397219, 0.575009\n",
      "train loss, valid loss = 0.390249, 0.567315\n",
      "train loss, valid loss = 0.384028, 0.571992\n",
      "train loss, valid loss = 0.377977, 0.579219\n",
      "train loss, valid loss = 0.375235, 0.568655\n",
      "train loss, valid loss = 0.367205, 0.584011\n",
      "train loss, valid loss = 0.366950, 0.612777\n",
      "train loss, valid loss = 0.360088, 0.574523\n",
      "train loss, valid loss = 0.356444, 0.590560\n",
      "train loss, valid loss = 0.354147, 0.573387\n",
      "train loss, valid loss = 0.343365, 0.593214\n",
      "train loss, valid loss = 0.336460, 0.670556\n",
      "train loss, valid loss = 0.332127, 0.588458\n",
      "train loss, valid loss = 0.327898, 0.589594\n",
      "train loss, valid loss = 0.321600, 0.591736\n",
      "train loss, valid loss = 0.315917, 0.619054\n",
      "train loss, valid loss = 0.314884, 0.597164\n",
      "train loss, valid loss = 0.305637, 0.599788\n",
      "train loss, valid loss = 0.302791, 0.636571\n",
      "train loss, valid loss = 0.295859, 0.608040\n",
      "train loss, valid loss = 0.290089, 0.626656\n",
      "train loss, valid loss = 0.284593, 0.617609\n",
      "train loss, valid loss = 0.279041, 0.622095\n",
      "train loss, valid loss = 0.276995, 0.621788\n",
      "train loss, valid loss = 0.271531, 0.663018\n",
      "train loss, valid loss = 0.267534, 0.628804\n",
      "train loss, valid loss = 0.258852, 0.631572\n",
      "train loss, valid loss = 0.252798, 0.654537\n",
      "train loss, valid loss = 0.249430, 0.651977\n",
      "train loss, valid loss = 0.245303, 0.665333\n",
      "train loss, valid loss = 0.242204, 0.654552\n",
      "train loss, valid loss = 0.235453, 0.658146\n",
      "train loss, valid loss = 0.230280, 0.663887\n",
      "train loss, valid loss = 0.227583, 0.728965\n",
      "train loss, valid loss = 0.222259, 0.698132\n",
      "train loss, valid loss = 0.215650, 0.675357\n",
      "train loss, valid loss = 0.211246, 0.689211\n",
      "train loss, valid loss = 0.207144, 0.695986\n",
      "train loss, valid loss = 0.202061, 0.720059\n",
      "train loss, valid loss = 0.198139, 0.712368\n",
      "train loss, valid loss = 0.192292, 0.700900\n",
      "train loss, valid loss = 0.189197, 0.699658\n",
      "train loss, valid loss = 0.184975, 0.713754\n",
      "train loss, valid loss = 0.180780, 0.742310\n",
      "train loss, valid loss = 0.177172, 0.728596\n",
      "train loss, valid loss = 0.174296, 0.755044\n",
      "train loss, valid loss = 0.170878, 0.747721\n",
      "train loss, valid loss = 0.166593, 0.756148\n",
      "train loss, valid loss = 0.161768, 0.757333\n",
      "train loss, valid loss = 0.157156, 0.762761\n",
      "train loss, valid loss = 0.153868, 0.752905\n",
      "train loss, valid loss = 0.150284, 0.772633\n",
      "train loss, valid loss = 0.148057, 0.767564\n",
      "train loss, valid loss = 0.144637, 0.805471\n",
      "train loss, valid loss = 0.140058, 0.774271\n",
      "train loss, valid loss = 0.137431, 0.778269\n",
      "train loss, valid loss = 0.132875, 0.788400\n",
      "train loss, valid loss = 0.130404, 0.795896\n",
      "train loss, valid loss = 0.126489, 0.793188\n",
      "train loss, valid loss = 0.124030, 0.810513\n",
      "train loss, valid loss = 0.122213, 0.831577\n",
      "train loss, valid loss = 0.119560, 0.817510\n",
      "train loss, valid loss = 0.114561, 0.818577\n",
      "plotting...\n"
     ]
    }
   ],
   "source": [
    "graph_grad_train(Xt, yt, Xv, yv, mlp3, num_epochs=100)"
   ]
  },
  {
   "cell_type": "code",
   "execution_count": 27,
   "metadata": {
    "collapsed": false,
    "scrolled": true
   },
   "outputs": [
    {
     "data": {
      "text/plain": [
       "(0.9831705114522618, 0.7658212262989411)"
      ]
     },
     "execution_count": 27,
     "metadata": {},
     "output_type": "execute_result"
    }
   ],
   "source": [
    "get_accuracy(Xt, yt, mlp3[\"predict_fn\"]), get_accuracy(Xv, yv, mlp3[\"predict_fn\"])"
   ]
  },
  {
   "cell_type": "code",
   "execution_count": 28,
   "metadata": {
    "collapsed": false
   },
   "outputs": [
    {
     "data": {
      "image/png": "[encoded data removed]",
      "text/plain": [
       "<IPython.core.display.Image object>"
      ]
     },
     "execution_count": 28,
     "metadata": {},
     "output_type": "execute_result"
    }
   ],
   "source": [
    "Image(\"feature_ranking_out/input_grads/01.png\")"
   ]
  },
  {
   "cell_type": "code",
   "execution_count": 29,
   "metadata": {
    "collapsed": false
   },
   "outputs": [
    {
     "data": {
      "image/png": "[encoded data removed]",
      "text/plain": [
       "<IPython.core.display.Image object>"
      ]
     },
     "execution_count": 29,
     "metadata": {},
     "output_type": "execute_result"
    }
   ],
   "source": [
    "Image(\"feature_ranking_out/input_grads/99.png\")"
   ]
  },
  {
   "cell_type": "code",
   "execution_count": 31,
   "metadata": {
    "collapsed": false
   },
   "outputs": [
    {
     "data": {
      "image/png": "[encoded data removed]",
      "text/plain": [
       "<IPython.core.display.Image object>"
      ]
     },
     "execution_count": 31,
     "metadata": {},
     "output_type": "execute_result"
    }
   ],
   "source": [
    "Image(\"feature_ranking_out/hidden_grads/01.png\")"
   ]
  },
  {
   "cell_type": "code",
   "execution_count": 32,
   "metadata": {
    "collapsed": false
   },
   "outputs": [
    {
     "data": {
      "image/png": "[encoded data removed]",
      "text/plain": [
       "<IPython.core.display.Image object>"
      ]
     },
     "execution_count": 32,
     "metadata": {},
     "output_type": "execute_result"
    }
   ],
   "source": [
    "Image(\"feature_ranking_out/hidden_grads/99.png\")"
   ]
  },
  {
   "cell_type": "markdown",
   "metadata": {},
   "source": [
    "* Over time, the validation set gradients for input/hidden layers gets larger. Is this because the network is overfitting the training set, and hence the $\\frac{dL}{dx}$ / $\\frac{dL}{dh}$ has hit a local minimum, whereas this is not the case with the validation set?\n",
    "* Let's look at the hidden activation gradients for the validation set, and sort them"
   ]
  },
  {
   "cell_type": "code",
   "execution_count": 33,
   "metadata": {
    "collapsed": false
   },
   "outputs": [],
   "source": [
    "mlp3_hidden_grads = mlp3[\"hidden_grad_fn\"](Xv, yv)\n",
    "mlp3_hidden_grads_mean = np.mean(np.abs(mlp3_hidden_grads), axis=0)\n",
    "mlp3_hidden_grads_std = np.std(np.abs(mlp3_hidden_grads), axis=0)"
   ]
  },
  {
   "cell_type": "code",
   "execution_count": 34,
   "metadata": {
    "collapsed": false
   },
   "outputs": [
    {
     "data": {
      "text/plain": [
       "[<matplotlib.lines.Line2D at 0x13ef81850>]"
      ]
     },
     "execution_count": 34,
     "metadata": {},
     "output_type": "execute_result"
    },
    {
     "data": {
      "image/png": "[encoded data removed]",
      "text/plain": [
       "<matplotlib.figure.Figure at 0x13ef2cf90>"
      ]
     },
     "metadata": {},
     "output_type": "display_data"
    }
   ],
   "source": [
    "plt.plot(mlp3_hidden_grads_mean)"
   ]
  },
  {
   "cell_type": "code",
   "execution_count": 35,
   "metadata": {
    "collapsed": false
   },
   "outputs": [
    {
     "data": {
      "text/plain": [
       "[<matplotlib.lines.Line2D at 0x13f06c0d0>]"
      ]
     },
     "execution_count": 35,
     "metadata": {},
     "output_type": "execute_result"
    },
    {
     "data": {
      "image/png": "[encoded data removed]",
      "text/plain": [
       "<matplotlib.figure.Figure at 0x13ef762d0>"
      ]
     },
     "metadata": {},
     "output_type": "display_data"
    }
   ],
   "source": [
    "plt.plot(mlp3_hidden_grads_mean / mlp3_hidden_grads_std)"
   ]
  },
  {
   "cell_type": "code",
   "execution_count": 50,
   "metadata": {
    "collapsed": false
   },
   "outputs": [
    {
     "data": {
      "text/plain": [
       "array([56, 11, 65, 84, 92,  0, 71, 77, 64,  7, 78, 60, 33, 63,  2, 28,  5,\n",
       "       36, 73, 10,  8, 87, 35,  4, 67, 69, 79, 22, 90, 14, 55, 19, 59, 23,\n",
       "        6, 62, 12, 99, 43, 42, 74, 83, 41,  3, 39, 91, 72, 13, 31, 47, 58,\n",
       "       40, 76, 32, 34, 49, 81, 50, 75, 25, 95, 53, 38, 48, 17, 54, 88, 94,\n",
       "       37, 51, 80, 96, 52, 82, 68, 24, 16, 66, 27, 15, 57, 97, 21,  9, 85,\n",
       "       18,  1, 98, 26, 46, 89, 45, 30, 93, 86, 20, 44, 29, 70, 61])"
      ]
     },
     "execution_count": 50,
     "metadata": {},
     "output_type": "execute_result"
    }
   ],
   "source": [
    "np.argsort(mlp3_hidden_grads_mean)"
   ]
  },
  {
   "cell_type": "code",
   "execution_count": 94,
   "metadata": {
    "collapsed": false
   },
   "outputs": [
    {
     "data": {
      "text/plain": [
       "array([12, 85, 74, 62, 77, 23, 26, 75,  6, 33, 78, 84, 97, 67, 34, 65, 21,\n",
       "        3, 42, 90, 15,  9, 64, 20, 38, 66, 46, 54, 80, 41,  2, 89, 86, 52,\n",
       "       61, 59, 60, 16, 36, 87, 57, 31, 69, 49, 98, 10, 50, 95, 51, 17, 58,\n",
       "       19, 13, 82, 93, 43, 48, 94, 22,  1, 30,  7, 11, 28, 37, 53, 32, 70,\n",
       "       71,  5, 44, 40, 96, 29, 25, 99, 81, 47, 14, 76, 83,  0, 91, 73, 56,\n",
       "       88, 72, 63, 55, 35, 68, 24, 92, 39, 27, 79,  4,  8, 45, 18])"
      ]
     },
     "execution_count": 94,
     "metadata": {},
     "output_type": "execute_result"
    }
   ],
   "source": [
    "np.argsort(mlp3_hidden_grads_mean / mlp3_hidden_grads_std)"
   ]
  },
  {
   "cell_type": "code",
   "execution_count": 105,
   "metadata": {
    "collapsed": false
   },
   "outputs": [
    {
     "data": {
      "text/plain": [
       "(200,)"
      ]
     },
     "execution_count": 105,
     "metadata": {},
     "output_type": "execute_result"
    }
   ],
   "source": [
    "mlp3[\"net\"].input_layer.W.get_value()[:,12].shape"
   ]
  },
  {
   "cell_type": "markdown",
   "metadata": {},
   "source": [
    "* For each hidden unit $h_{i}$, compute a histogram of the gradient $\\frac{dL}{dh_{i}}$ on all the examples in the validation set."
   ]
  },
  {
   "cell_type": "code",
   "execution_count": 36,
   "metadata": {
    "collapsed": false
   },
   "outputs": [
    {
     "name": "stderr",
     "output_type": "stream",
     "text": [
      "mkdir: mlp3_each_unit_hidden_grads: File exists\n"
     ]
    }
   ],
   "source": [
    "%%bash\n",
    "mkdir mlp3_each_unit_hidden_grads"
   ]
  },
  {
   "cell_type": "code",
   "execution_count": 42,
   "metadata": {
    "collapsed": false
   },
   "outputs": [
    {
     "data": {
      "text/plain": [
       "100"
      ]
     },
     "execution_count": 42,
     "metadata": {},
     "output_type": "execute_result"
    }
   ],
   "source": [
    "mlp3[\"net\"].input_layer.num_units"
   ]
  },
  {
   "cell_type": "code",
   "execution_count": 37,
   "metadata": {
    "collapsed": false
   },
   "outputs": [],
   "source": [
    "for i in range(0, mlp3[\"net\"].input_layer.num_units):\n",
    "    plt.hist( mlp3[\"hidden_grad_fn\"](Xv, yv)[:,i] )\n",
    "    plt.savefig(\"mlp3_each_unit_hidden_grads/%s.png\" % str(i+1).zfill(2))\n",
    "    plt.close()"
   ]
  },
  {
   "cell_type": "code",
   "execution_count": 38,
   "metadata": {
    "collapsed": false
   },
   "outputs": [
    {
     "data": {
      "image/png": "[encoded data removed]",
      "text/plain": [
       "<IPython.core.display.Image object>"
      ]
     },
     "execution_count": 38,
     "metadata": {},
     "output_type": "execute_result"
    }
   ],
   "source": [
    "Image(\"mlp3_each_unit_hidden_grads/01.png\")"
   ]
  },
  {
   "cell_type": "code",
   "execution_count": 39,
   "metadata": {
    "collapsed": false
   },
   "outputs": [
    {
     "data": {
      "image/png": "[encoded data removed]",
      "text/plain": [
       "<IPython.core.display.Image object>"
      ]
     },
     "execution_count": 39,
     "metadata": {},
     "output_type": "execute_result"
    }
   ],
   "source": [
    "Image(\"mlp3_each_unit_hidden_grads/99.png\")"
   ]
  },
  {
   "cell_type": "markdown",
   "metadata": {},
   "source": [
    "* Train on all minibatches\n",
    "* Evaluate performance of hidden layer on validation set\n",
    "* Find the M worst hidden units (i.e. the ones with high mean gradients on the validation set), and reinitialise their incoming weights (or kill their incoming + outgoing weights)"
   ]
  },
  {
   "cell_type": "code",
   "execution_count": 178,
   "metadata": {
    "collapsed": false
   },
   "outputs": [],
   "source": [
    "def adaptive_train(Xt, yt, Xv, yv, mlp, num_to_fix, check_every, \n",
    "                   batch_size, num_epochs=20, mode=\"re_init\", \n",
    "                   print_out=True, debug=False, args={}):\n",
    "    sampler = GlorotUniform()\n",
    "    idxs = [x for x in range(0, Xt.shape[0])]\n",
    "    train_fn = mlp[\"train_fn\"]\n",
    "    hidden_predict_fn = mlp[\"hidden_predict_fn\"]\n",
    "    hidden_grad_fn = mlp[\"hidden_grad_fn\"]\n",
    "    w1_grad_fn = mlp[\"w1_grad_fn\"]\n",
    "    net = mlp[\"net\"]\n",
    "    h_grads_arr = []\n",
    "    for epoch in range(0, num_epochs):\n",
    "        random.shuffle(idxs)\n",
    "        Xt = Xt[idxs]\n",
    "        yt = yt[idxs]\n",
    "        b = 0\n",
    "        losses = []\n",
    "        while True:\n",
    "            if b*batch_size >= Xt.shape[0]:\n",
    "                break\n",
    "            this_loss = train_fn(Xt[b*batch_size : (b+1)*batch_size], yt[b*batch_size : (b+1)*batch_size])\n",
    "            losses.append(this_loss)\n",
    "            b += 1\n",
    "        if num_to_fix > 0:\n",
    "            h_grads = hidden_grad_fn(Xv, yv)\n",
    "            h_grads_mean = np.mean(np.abs(h_grads), axis=0)\n",
    "            h_grads_std = np.std(np.abs(h_grads), axis=0)\n",
    "            h_grads = h_grads_mean / h_grads_std\n",
    "            # we get nans for killed units\n",
    "            h_grads = np.nan_to_num(h_grads)\n",
    "            # if a hidden unit has a big gradient but has already\n",
    "            # been killed, then it will become zero\n",
    "            h_idxs = np.argsort(h_grads)[::-1]\n",
    "            #if debug:\n",
    "            #    print h_grads\n",
    "        #print \"units to fix: %s\" % str(h_idxs[0:num_to_fix])\n",
    "        if num_to_fix > 0 and (epoch+1) % check_every == 0:\n",
    "            if debug:\n",
    "                print \"hidden units to kill: %s\" % str(h_idxs[0:num_to_fix])\n",
    "                print \"alive hidden units so far: %i\" % len(killed_so_far.nonzero()[0])              \n",
    "            if mode in [\"kill_neuron\", \"re_init\"]:\n",
    "                for idx in h_idxs[0:num_to_fix]:\n",
    "                    W1, W2 = mlp[\"W1\"].get_value(), mlp[\"W2\"].get_value()\n",
    "                    W1_mask, W2_mask = mlp[\"W1_mask\"].get_value(), mlp[\"W2_mask\"].get_value()\n",
    "                    if mode == \"kill_neuron\":\n",
    "                        # kill the incoming weights\n",
    "                        W1[:, idx] = np.zeros( (W1[:, idx].shape[0], 1) ).flatten()\n",
    "                        W1_mask[:, idx] = np.zeros( (W1_mask[:, idx].shape[0], 1) ).flatten()\n",
    "                        # kill the outgoing weights\n",
    "                        W2[idx, :] = np.zeros( (W2[idx, :].shape[0], 1) ).flatten()\n",
    "                        W2_mask[idx, :] = np.zeros( (W2_mask[idx, :].shape[0], 1) ).flatten()\n",
    "                        # set the matrices\n",
    "                        mlp[\"W1\"].set_value(W1)\n",
    "                        mlp[\"W1_mask\"].set_value(W1_mask)\n",
    "                        mlp[\"W2\"].set_value(W2)\n",
    "                        mlp[\"W2_mask\"].set_value(W2_mask)\n",
    "                    elif mode == \"re_init\":\n",
    "                        W1[:,idx] = sampler.sample( ( W1[:,idx].shape[0], 1) ).flatten()\n",
    "                        # TODO: lower the outgoing weights by a factor\n",
    "                        if \"re_init_scale\" in args:\n",
    "                            #print \"reinit\"\n",
    "                            W2[idx,:] = W2[idx,:] * args[\"re_init_scale\"]\n",
    "                            mlp[\"W2\"].set_value(W2)\n",
    "                        mlp[\"W1\"].set_value(W1)\n",
    "            elif mode in [\"kill_weight\"]:\n",
    "                W1, W2 = mlp[\"W1\"].get_value(), mlp[\"W2\"].get_value()\n",
    "                W1_mask, W2_mask = mlp[\"W1_mask\"].get_value(), mlp[\"W2_mask\"].get_value()\n",
    "                # get dLoss/dh for all hidden units, flatten, and multiply\n",
    "                # with W1 mask so we don't get connections we already killed\n",
    "                sorted_mat = np.argsort(\n",
    "                    np.abs(w1_grad_fn(Xv, yv).flatten()) * W1_mask.flatten() \n",
    "                )\n",
    "                # argsort matrix\n",
    "                sorted_mat_idxs = np.dstack(\n",
    "                    np.unravel_index(sorted_mat, W1.shape) )[0][::-1]\n",
    "                for tp in sorted_mat_idxs[0:num_to_fix]:\n",
    "                    W1[ tp[0], tp[1] ] = 0\n",
    "                    W1_mask[ tp[0], tp[1] ] = 0\n",
    "                mlp[\"W1_mask\"].set_value(W1_mask)\n",
    "                mlp[\"W1\"].set_value(W1)                 \n",
    "            else:\n",
    "                raise NotImplementedException()\n",
    "        if print_out:\n",
    "            print np.mean(losses)\n",
    "    return h_grads_arr"
   ]
  },
  {
   "cell_type": "code",
   "execution_count": 108,
   "metadata": {
    "collapsed": false
   },
   "outputs": [
    {
     "ename": "AttributeError",
     "evalue": "'numpy.ndarray' object has no attribute 'zero'",
     "output_type": "error",
     "traceback": [
      "\u001b[0;31m---------------------------------------------------------------------------\u001b[0m",
      "\u001b[0;31mAttributeError\u001b[0m                            Traceback (most recent call last)",
      "\u001b[0;32m<ipython-input-108-025948a90763>\u001b[0m in \u001b[0;36m<module>\u001b[0;34m()\u001b[0m\n\u001b[0;32m----> 1\u001b[0;31m \u001b[0mmlp_\u001b[0m\u001b[0;34m[\u001b[0m\u001b[0;34m\"W2\"\u001b[0m\u001b[0;34m]\u001b[0m\u001b[0;34m.\u001b[0m\u001b[0mget_value\u001b[0m\u001b[0;34m(\u001b[0m\u001b[0;34m)\u001b[0m\u001b[0;34m.\u001b[0m\u001b[0mzero\u001b[0m\u001b[0;34m(\u001b[0m\u001b[0;34m)\u001b[0m\u001b[0;34m\u001b[0m\u001b[0m\n\u001b[0m",
      "\u001b[0;31mAttributeError\u001b[0m: 'numpy.ndarray' object has no attribute 'zero'"
     ]
    }
   ],
   "source": [
    "mlp_[\"W2\"].get_value().zero()"
   ]
  },
  {
   "cell_type": "code",
   "execution_count": 181,
   "metadata": {
    "collapsed": false
   },
   "outputs": [
    {
     "name": "stdout",
     "output_type": "stream",
     "text": [
      "[0, 0, 0.7424279734055651]\n",
      "[0, 1, 0.7485840925880325]\n",
      "[0, 2, 0.7648362472297464]\n",
      "[0, 3, 0.7475991135188377]\n",
      "[0, 4, 0.7500615611918247]\n",
      "[0, 5, 0.7672986949027333]\n",
      "[0, 6, 0.7537552327013051]\n",
      "[0, 7, 0.758680128047279]\n",
      "[0, 8, 0.7653287367643438]\n",
      "[0, 9, 0.7596651071164737]\n",
      "[5, 0, 0.7729623245506033]\n",
      "[5, 1, 0.7692686530411229]\n",
      "[5, 2, 0.7668062053681359]\n",
      "[5, 3, 0.7655749815316425]\n",
      "[5, 4, 0.7559714356069933]\n",
      "[5, 5, 0.7766559960600837]\n",
      "[5, 6, 0.7685299187392268]\n",
      "[5, 7, 0.7702536321103176]\n",
      "[5, 8, 0.7623737995567594]\n",
      "[5, 9, 0.7596651071164737]\n",
      "[10, 0, 0.767544939670032]\n",
      "[10, 1, 0.764343757695149]\n",
      "[10, 2, 0.7771484855946811]\n",
      "[10, 3, 0.7392267914306822]\n",
      "[10, 4, 0.7749322826889928]\n",
      "[10, 5, 0.7589263728145776]\n",
      "[10, 6, 0.7685299187392268]\n",
      "[10, 7, 0.718295986210293]\n",
      "[10, 8, 0.7621275547894607]\n",
      "[10, 9, 0.7680374292046294]\n",
      "[20, 0, 0.778872198965772]\n",
      "[20, 1, 0.7825658704752524]\n",
      "[20, 2, 0.7916769268653041]\n",
      "[20, 3, 0.7776409751292785]\n",
      "[20, 4, 0.6350652548633342]\n",
      "[20, 5, 0.7833046047771485]\n",
      "[20, 6, 0.782073380940655]\n",
      "[20, 7, 0.7823196257079537]\n",
      "[20, 8, 0.7874907658212263]\n",
      "[20, 9, 0.7591726175818764]\n",
      "[40, 0, 0.47081999507510464]\n",
      "[40, 1, 0.7732085693179019]\n",
      "[40, 2, 0.723220881556267]\n",
      "[40, 3, 0.6811130263481902]\n",
      "[40, 4, 0.7131248460970204]\n",
      "[40, 5, 0.5249938438808175]\n",
      "[40, 6, 0.7192809652794878]\n",
      "[40, 7, 0.7589263728145776]\n",
      "[40, 8, 0.7256833292292538]\n",
      "[40, 9, 0.7384880571287861]\n",
      "[80, 0, 0.2314700812607732]\n",
      "[80, 1, 0.30140359517360255]\n",
      "[80, 2, 0.33513912829352377]\n",
      "[80, 3, 0.4003939916276779]\n",
      "[80, 4, 0.3474513666584585]\n",
      "[80, 5, 0.3516375277025363]\n",
      "[80, 6, 0.3715833538537306]\n",
      "[80, 7, 0.36370352130017236]\n",
      "[80, 8, 0.33957153410490026]\n",
      "[80, 9, 0.36000984979069195]\n",
      "[0, 0, 0.7424279734055651]\n",
      "[0, 1, 0.7485840925880325]\n",
      "[0, 2, 0.7648362472297464]\n",
      "[0, 3, 0.7475991135188377]\n",
      "[0, 4, 0.7500615611918247]\n",
      "[0, 5, 0.7672986949027333]\n",
      "[0, 6, 0.7537552327013051]\n",
      "[0, 7, 0.758680128047279]\n",
      "[0, 8, 0.7653287367643438]\n",
      "[0, 9, 0.7596651071164737]\n",
      "[5, 0, 0.7059837478453583]\n",
      "[5, 1, 0.7315932036444226]\n",
      "[5, 2, 0.7493228268899286]\n",
      "[5, 3, 0.7478453582861364]\n",
      "[5, 4, 0.7576951489780842]\n",
      "[5, 5, 0.7665599606008372]\n",
      "[5, 6, 0.7512927850283182]\n",
      "[5, 7, 0.7520315193302143]\n",
      "[5, 8, 0.7138635803989165]\n",
      "[5, 9, 0.7266683082984486]\n",
      "[10, 0, 0.6907165722728392]\n",
      "[10, 1, 0.7399655257325782]\n",
      "[10, 2, 0.7549864565377986]\n",
      "[10, 3, 0.7443979315439547]\n",
      "[10, 4, 0.6833292292538784]\n",
      "[10, 5, 0.7471066239842403]\n",
      "[10, 6, 0.7379955675941886]\n",
      "[10, 7, 0.7355331199212016]\n",
      "[10, 8, 0.7178034966756957]\n",
      "[10, 9, 0.7429204629401626]\n",
      "[20, 0, 0.706968726914553]\n",
      "[20, 1, 0.7086924402856439]\n",
      "[20, 2, 0.5936961339571534]\n",
      "[20, 3, 0.6806205368135927]\n",
      "[20, 4, 0.6867766559960601]\n",
      "[20, 5, 0.7197734548140852]\n",
      "[20, 6, 0.671509480423541]\n",
      "[20, 7, 0.7402117704998769]\n",
      "[20, 8, 0.6237379955675942]\n",
      "[20, 9, 0.7163260280719035]\n",
      "[40, 0, 0.7542477222359025]\n",
      "[40, 1, 0.7658212262989411]\n",
      "[40, 2, 0.6683082984486579]\n",
      "[40, 3, 0.6761881310022162]\n",
      "[40, 4, 0.7276532873676435]\n",
      "[40, 5, 0.7623737995567594]\n",
      "[40, 6, 0.6446688007879833]\n",
      "[40, 7, 0.6939177542477223]\n",
      "[40, 8, 0.7335631617828121]\n",
      "[40, 9, 0.7604038414183698]\n",
      "[80, 0, 0.47008126077320855]\n",
      "[80, 1, 0.2984486579660182]\n",
      "[80, 2, 0.45530657473528685]\n",
      "[80, 3, 0.555281950258557]\n",
      "[80, 4, 0.4154149224328983]\n",
      "[80, 5, 0.5368135927111549]\n",
      "[80, 6, 0.3225806451612903]\n",
      "[80, 7, 0.5294262496921941]\n",
      "[80, 8, 0.4277271607978331]\n",
      "[80, 9, 0.39842403348928834]\n"
     ]
    }
   ],
   "source": [
    "for re_init_scale in [0.01]:\n",
    "    for check_every in [1, 20]:\n",
    "        rows_to_write = []\n",
    "        for num_to_fix in [0, 5, 10, 20, 40, 80]:\n",
    "            valid_accs = []\n",
    "            for x in range(0, 10):\n",
    "                row = [num_to_fix, x]\n",
    "                np.random.seed(x)\n",
    "                random.seed(x)\n",
    "                mlp_ = mlp(X_total, y_total, num_hidden_units=None, lamb=0.0)\n",
    "                h_grads_arr = adaptive_train(Xt, yt, Xv, yv, mlp_, \n",
    "                    batch_size=128, num_epochs=100, num_to_fix=num_to_fix,\n",
    "                    check_every=check_every, print_out=False, mode=\"re_init\",\n",
    "                    args={\"re_init_scale\": re_init_scale}\n",
    "                )\n",
    "                valid_acc = get_accuracy(Xv, yv, mlp_[\"predict_fn\"])\n",
    "                row.append(valid_acc)\n",
    "                valid_accs.append(valid_acc)\n",
    "                rows_to_write.append(row)\n",
    "                print row\n",
    "        with open(\"feature_ranking_out_adaptive/stats%i_%f.csv\" % (check_every, re_init_scale), \"wb\") as f:\n",
    "            f.write(\"num_to_fix,seed,valid_accuracy\\n\")\n",
    "            for row in rows_to_write:\n",
    "                f.write(\",\".join( [str(r) for r in row] ) + \"\\n\")"
   ]
  },
  {
   "cell_type": "code",
   "execution_count": 182,
   "metadata": {
    "collapsed": false
   },
   "outputs": [
    {
     "data": {
      "image/png": "[encoded data removed]"
     },
     "metadata": {},
     "output_type": "display_data"
    }
   ],
   "source": [
    "%%R\n",
    "par(mfrow=c(1,2))\n",
    "files = c(\n",
    "    \"feature_ranking_out_adaptive/stats1_0.010000.csv\",\n",
    "    \"feature_ranking_out_adaptive/stats20_0.010000.csv\"\n",
    ")\n",
    "captions = c(\n",
    "    \"check after 1 epoch\",\n",
    "    \"check after 20 epochs\"\n",
    ")\n",
    "for( i in 1:length(files)) {\n",
    "    df = read.csv( files[i] )\n",
    "    boxplot(valid_accuracy ~ num_to_fix, data=df, main=captions[i],\n",
    "            xlab=\"number of units to re-init per epoch\", ylab=\"valid set accuracy\")\n",
    "}"
   ]
  },
  {
   "cell_type": "code",
   "execution_count": 180,
   "metadata": {
    "collapsed": false
   },
   "outputs": [
    {
     "data": {
      "image/png": "[encoded data removed]"
     },
     "metadata": {},
     "output_type": "display_data"
    }
   ],
   "source": [
    "%%R\n",
    "par(mfrow=c(1,2))\n",
    "files = c(\n",
    "    \"feature_ranking_out_adaptive/stats1_0.100000.csv\",\n",
    "    \"feature_ranking_out_adaptive/stats20_0.100000.csv\"\n",
    ")\n",
    "captions = c(\n",
    "    \"check after 1 epoch\",\n",
    "    \"check after 20 epochs\"\n",
    ")\n",
    "for( i in 1:length(files)) {\n",
    "    df = read.csv( files[i] )\n",
    "    boxplot(valid_accuracy ~ num_to_fix, data=df, main=captions[i],\n",
    "            xlab=\"number of units to re-init per epoch\", ylab=\"valid set accuracy\")\n",
    "}"
   ]
  },
  {
   "cell_type": "code",
   "execution_count": 81,
   "metadata": {
    "collapsed": false
   },
   "outputs": [
    {
     "data": {
      "image/png": "[encoded data removed]"
     },
     "metadata": {},
     "output_type": "display_data"
    }
   ],
   "source": [
    "%%R\n",
    "par(mfrow=c(1,2))\n",
    "files = c(\n",
    "    \"feature_ranking_out_adaptive/stats1.csv\",\n",
    "    \"feature_ranking_out_adaptive/stats20.csv\"\n",
    ")\n",
    "captions = c(\n",
    "    \"check after 1 epoch\",\n",
    "    \"check after 20 epochs\"\n",
    ")\n",
    "for( i in 1:length(files)) {\n",
    "    df = read.csv( files[i] )\n",
    "    boxplot(valid_accuracy ~ num_to_fix, data=df, main=captions[i],\n",
    "            xlab=\"number of units to re-init per epoch\", ylab=\"valid set accuracy\")\n",
    "}"
   ]
  },
  {
   "cell_type": "code",
   "execution_count": 141,
   "metadata": {
    "collapsed": false
   },
   "outputs": [
    {
     "data": {
      "text/plain": [
       "5"
      ]
     },
     "execution_count": 141,
     "metadata": {},
     "output_type": "execute_result"
    }
   ],
   "source": [
    "100/20"
   ]
  },
  {
   "cell_type": "markdown",
   "metadata": {},
   "source": [
    "It doesn't look like the weight reinitialisation trick works?"
   ]
  },
  {
   "cell_type": "markdown",
   "metadata": {},
   "source": [
    "Let's do the version but with neuron killing. We're training for 100 epochs, so:\n",
    "* When $checkEvery=5$"
   ]
  },
  {
   "cell_type": "code",
   "execution_count": 146,
   "metadata": {
    "collapsed": false
   },
   "outputs": [
    {
     "name": "stdout",
     "output_type": "stream",
     "text": [
      "[0, 0, 0.7424279734055651]\n",
      "[0, 1, 0.7485840925880325]\n",
      "[0, 2, 0.7648362472297464]\n",
      "[0, 3, 0.7475991135188377]\n",
      "[0, 4, 0.7500615611918247]\n",
      "[0, 5, 0.7672986949027333]\n",
      "[0, 6, 0.7537552327013051]\n",
      "[0, 7, 0.758680128047279]\n",
      "[0, 8, 0.7653287367643438]\n",
      "[0, 9, 0.7596651071164737]\n",
      "[0, 0, 0.7424279734055651]\n",
      "[0, 1, 0.7485840925880325]\n",
      "[0, 2, 0.7648362472297464]\n",
      "[0, 3, 0.7475991135188377]\n",
      "[0, 4, 0.7500615611918247]\n",
      "[0, 5, 0.7672986949027333]\n",
      "[0, 6, 0.7537552327013051]\n",
      "[0, 7, 0.758680128047279]\n",
      "[0, 8, 0.7653287367643438]\n",
      "[0, 9, 0.7596651071164737]\n"
     ]
    }
   ],
   "source": [
    "for check_every in [5, 20]:\n",
    "    rows_to_write = []\n",
    "    for num_to_fix in [1, 2, 3]:\n",
    "        valid_accs = []\n",
    "        # row in the format \"num_to_fix,seed,valid_acc\n",
    "        for x in range(0, 10):\n",
    "            row = [num_to_fix, x]\n",
    "            np.random.seed(x)\n",
    "            random.seed(x)\n",
    "            mlp_ = mlp(X_total, y_total, num_hidden_units=None, lamb=0.0)\n",
    "            h_grads_arr = adaptive_train(\n",
    "                Xt, yt, Xv, yv, mlp_, \n",
    "                batch_size=128, \n",
    "                num_epochs=100, \n",
    "                num_to_fix=num_to_fix, \n",
    "                check_every=check_every, \n",
    "                print_out=False,\n",
    "                kill_neuron=True)\n",
    "            valid_acc = get_accuracy(Xv, yv, mlp_[\"predict_fn\"])\n",
    "            row.append(valid_acc)\n",
    "            valid_accs.append(valid_acc)\n",
    "            rows_to_write.append(row)\n",
    "            print row\n",
    "    with open(\"feature_ranking_out_adaptive/kill_stats%i.csv\" % check_every, \"wb\") as f:\n",
    "        f.write(\"num_to_fix,seed,valid_accuracy\\n\")\n",
    "        for row in rows_to_write:\n",
    "            f.write(\",\".join( [str(r) for r in row] ) + \"\\n\")"
   ]
  },
  {
   "cell_type": "code",
   "execution_count": 149,
   "metadata": {
    "collapsed": false
   },
   "outputs": [
    {
     "data": {
      "image/png": "[encoded data removed]"
     },
     "metadata": {},
     "output_type": "display_data"
    }
   ],
   "source": [
    "%%R\n",
    "par(mfrow=c(1,2))\n",
    "files = c(\n",
    "    \"feature_ranking_out_adaptive/kill_stats5.csv\",\n",
    "    \"feature_ranking_out_adaptive/kill_stats20.csv\"\n",
    ")\n",
    "captions = c(\n",
    "    \"check after 5 epochs\",\n",
    "    \"check after 20 epochs\"\n",
    ")\n",
    "for( i in 1:length(files)) {\n",
    "    df = read.csv( files[i] )\n",
    "    boxplot(valid_accuracy ~ num_to_fix, data=df, main=captions[i], ylim=c(0.65,0.80),\n",
    "            xlab=\"number of units to kill per epoch\", ylab=\"valid set accuracy\")\n",
    "}"
   ]
  },
  {
   "cell_type": "markdown",
   "metadata": {},
   "source": [
    "From this figure it appears that killing hidden units (i.e. their incoming and outcoming weights) does not seem to be of a benefit either. The only \"nice\" thing is that on the left figure, killing 1 unit per 5 epochs achieves a very similar validation set accuracy distribution to the baseline."
   ]
  },
  {
   "cell_type": "code",
   "execution_count": 150,
   "metadata": {
    "collapsed": false
   },
   "outputs": [
    {
     "name": "stdout",
     "output_type": "stream",
     "text": [
      "hidden units to kill: [54]\n",
      "alive hidden units so far: 100\n",
      "hidden units to kill: [22]\n",
      "alive hidden units so far: 99\n",
      "hidden units to kill: [37]\n",
      "alive hidden units so far: 98\n",
      "hidden units to kill: [25]\n",
      "alive hidden units so far: 97\n",
      "hidden units to kill: [91]\n",
      "alive hidden units so far: 96\n",
      "hidden units to kill: [33]\n",
      "alive hidden units so far: 95\n",
      "hidden units to kill: [48]\n",
      "alive hidden units so far: 94\n",
      "hidden units to kill: [5]\n",
      "alive hidden units so far: 93\n",
      "hidden units to kill: [4]\n",
      "alive hidden units so far: 92\n",
      "hidden units to kill: [64]\n",
      "alive hidden units so far: 91\n",
      "hidden units to kill: [27]\n",
      "alive hidden units so far: 90\n",
      "hidden units to kill: [10]\n",
      "alive hidden units so far: 89\n",
      "hidden units to kill: [68]\n",
      "alive hidden units so far: 88\n",
      "hidden units to kill: [39]\n",
      "alive hidden units so far: 87\n",
      "hidden units to kill: [85]\n",
      "alive hidden units so far: 86\n",
      "hidden units to kill: [70]\n",
      "alive hidden units so far: 85\n",
      "hidden units to kill: [99]\n",
      "alive hidden units so far: 84\n",
      "hidden units to kill: [92]\n",
      "alive hidden units so far: 83\n",
      "hidden units to kill: [44]\n",
      "alive hidden units so far: 82\n",
      "hidden units to kill: [71]\n",
      "alive hidden units so far: 81\n",
      "hidden units to kill: [97]\n",
      "alive hidden units so far: 80\n",
      "hidden units to kill: [59]\n",
      "alive hidden units so far: 79\n",
      "hidden units to kill: [12]\n",
      "alive hidden units so far: 78\n",
      "hidden units to kill: [3]\n",
      "alive hidden units so far: 77\n",
      "hidden units to kill: [69]\n",
      "alive hidden units so far: 76\n",
      "hidden units to kill: [81]\n",
      "alive hidden units so far: 75\n",
      "hidden units to kill: [79]\n",
      "alive hidden units so far: 74\n",
      "hidden units to kill: [51]\n",
      "alive hidden units so far: 73\n",
      "hidden units to kill: [87]\n",
      "alive hidden units so far: 72\n",
      "hidden units to kill: [74]\n",
      "alive hidden units so far: 71\n",
      "hidden units to kill: [84]\n",
      "alive hidden units so far: 70\n",
      "hidden units to kill: [86]\n",
      "alive hidden units so far: 69\n",
      "hidden units to kill: [46]\n",
      "alive hidden units so far: 68\n",
      "hidden units to kill: [19]\n",
      "alive hidden units so far: 67\n",
      "hidden units to kill: [94]\n",
      "alive hidden units so far: 66\n",
      "hidden units to kill: [96]\n",
      "alive hidden units so far: 65\n",
      "hidden units to kill: [77]\n",
      "alive hidden units so far: 64\n",
      "hidden units to kill: [14]\n",
      "alive hidden units so far: 63\n",
      "hidden units to kill: [1]\n",
      "alive hidden units so far: 62\n",
      "hidden units to kill: [23]\n",
      "alive hidden units so far: 61\n",
      "hidden units to kill: [8]\n",
      "alive hidden units so far: 60\n",
      "hidden units to kill: [29]\n",
      "alive hidden units so far: 59\n",
      "hidden units to kill: [80]\n",
      "alive hidden units so far: 58\n",
      "hidden units to kill: [98]\n",
      "alive hidden units so far: 57\n",
      "hidden units to kill: [56]\n",
      "alive hidden units so far: 56\n",
      "hidden units to kill: [24]\n",
      "alive hidden units so far: 55\n",
      "hidden units to kill: [61]\n",
      "alive hidden units so far: 54\n",
      "hidden units to kill: [45]\n",
      "alive hidden units so far: 53\n",
      "hidden units to kill: [63]\n",
      "alive hidden units so far: 52\n",
      "hidden units to kill: [65]\n",
      "alive hidden units so far: 51\n",
      "hidden units to kill: [41]\n",
      "alive hidden units so far: 50\n",
      "hidden units to kill: [62]\n",
      "alive hidden units so far: 49\n",
      "hidden units to kill: [43]\n",
      "alive hidden units so far: 48\n",
      "hidden units to kill: [89]\n",
      "alive hidden units so far: 47\n",
      "hidden units to kill: [95]\n",
      "alive hidden units so far: 46\n",
      "hidden units to kill: [67]\n",
      "alive hidden units so far: 45\n",
      "hidden units to kill: [93]\n",
      "alive hidden units so far: 44\n",
      "hidden units to kill: [57]\n",
      "alive hidden units so far: 43\n",
      "hidden units to kill: [75]\n",
      "alive hidden units so far: 42\n",
      "hidden units to kill: [0]\n",
      "alive hidden units so far: 41\n",
      "hidden units to kill: [15]\n",
      "alive hidden units so far: 40\n",
      "hidden units to kill: [11]\n",
      "alive hidden units so far: 39\n",
      "hidden units to kill: [21]\n",
      "alive hidden units so far: 38\n",
      "hidden units to kill: [49]\n",
      "alive hidden units so far: 37\n",
      "hidden units to kill: [30]\n",
      "alive hidden units so far: 36\n",
      "hidden units to kill: [13]\n",
      "alive hidden units so far: 35\n",
      "hidden units to kill: [26]\n",
      "alive hidden units so far: 34\n",
      "hidden units to kill: [34]\n",
      "alive hidden units so far: 33\n",
      "hidden units to kill: [7]\n",
      "alive hidden units so far: 32\n",
      "hidden units to kill: [78]\n",
      "alive hidden units so far: 31\n",
      "hidden units to kill: [53]\n",
      "alive hidden units so far: 30\n",
      "hidden units to kill: [52]\n",
      "alive hidden units so far: 29\n",
      "hidden units to kill: [83]\n",
      "alive hidden units so far: 28\n",
      "hidden units to kill: [35]\n",
      "alive hidden units so far: 27\n",
      "hidden units to kill: [66]\n",
      "alive hidden units so far: 26\n",
      "hidden units to kill: [6]\n",
      "alive hidden units so far: 25\n",
      "hidden units to kill: [36]\n",
      "alive hidden units so far: 24\n",
      "hidden units to kill: [88]\n",
      "alive hidden units so far: 23\n",
      "hidden units to kill: [20]\n",
      "alive hidden units so far: 22\n",
      "hidden units to kill: [32]\n",
      "alive hidden units so far: 21\n",
      "hidden units to kill: [90]\n",
      "alive hidden units so far: 20\n",
      "hidden units to kill: [28]\n",
      "alive hidden units so far: 19\n",
      "hidden units to kill: [58]\n",
      "alive hidden units so far: 18\n",
      "hidden units to kill: [73]\n",
      "alive hidden units so far: 17\n",
      "hidden units to kill: [82]\n",
      "alive hidden units so far: 16\n",
      "hidden units to kill: [31]\n",
      "alive hidden units so far: 15\n",
      "hidden units to kill: [50]\n",
      "alive hidden units so far: 14\n",
      "hidden units to kill: [47]\n",
      "alive hidden units so far: 13\n",
      "hidden units to kill: [16]\n",
      "alive hidden units so far: 12\n",
      "hidden units to kill: [17]\n",
      "alive hidden units so far: 11\n",
      "hidden units to kill: [38]\n",
      "alive hidden units so far: 10\n",
      "hidden units to kill: [9]\n",
      "alive hidden units so far: 9\n",
      "hidden units to kill: [2]\n",
      "alive hidden units so far: 8\n",
      "hidden units to kill: [18]\n",
      "alive hidden units so far: 7\n",
      "hidden units to kill: [55]\n",
      "alive hidden units so far: 6\n",
      "hidden units to kill: [60]\n",
      "alive hidden units so far: 5\n",
      "hidden units to kill: [40]\n",
      "alive hidden units so far: 4\n",
      "hidden units to kill: [42]\n",
      "alive hidden units so far: 3\n",
      "hidden units to kill: [76]\n",
      "alive hidden units so far: 2\n",
      "hidden units to kill: [72]\n",
      "alive hidden units so far: 1\n"
     ]
    }
   ],
   "source": [
    "for check_every in [1]:\n",
    "    rows_to_write = []\n",
    "    for num_to_fix in [1]:\n",
    "        valid_accs = []\n",
    "        # row in the format \"num_to_fix,seed,valid_acc\n",
    "        for x in range(0, 1):\n",
    "            row = [num_to_fix, x]\n",
    "            np.random.seed(x)\n",
    "            random.seed(x)\n",
    "            mlp_ = mlp(X_total, y_total, num_hidden_units=None, lamb=0.0)\n",
    "            h_grads_arr = adaptive_train(\n",
    "                Xt, yt, Xv, yv, mlp_, \n",
    "                batch_size=128, \n",
    "                num_epochs=100, \n",
    "                num_to_fix=num_to_fix, \n",
    "                check_every=check_every, \n",
    "                print_out=False,\n",
    "                kill_neuron=True,\n",
    "                debug=True)"
   ]
  },
  {
   "cell_type": "code",
   "execution_count": 555,
   "metadata": {
    "collapsed": false
   },
   "outputs": [],
   "source": [
    "for i in range(0, len(h_grads_arr)):\n",
    "    plt.ylim(0, 0.000050)\n",
    "    plt.plot(h_grads_arr[i])\n",
    "    plt.savefig(\"feature_ranking_out_adaptive/%s.png\" % str(i+1).zfill(2))\n",
    "    plt.close()"
   ]
  },
  {
   "cell_type": "markdown",
   "metadata": {},
   "source": [
    "Let's try the third idea and kill incoming weights for the hidden units. This seems like the less ruthless approach out of the three."
   ]
  },
  {
   "cell_type": "code",
   "execution_count": 173,
   "metadata": {
    "collapsed": false
   },
   "outputs": [
    {
     "name": "stdout",
     "output_type": "stream",
     "text": [
      "[5, 0, 0.7508002954937207]\n",
      "[5, 1, 0.7591726175818764]\n",
      "[5, 2, 0.7613888204875646]\n",
      "[5, 3, 0.7569564146761881]\n",
      "[5, 4, 0.7532627431667077]\n",
      "[5, 5, 0.7670524501354347]\n",
      "[5, 6, 0.7579413937453829]\n",
      "[5, 7, 0.7567101699088894]\n",
      "[5, 8, 0.7714848559468112]\n",
      "[5, 9, 0.7567101699088894]\n",
      "num killed connections: 500.000000\n",
      "[10, 0, 0.7604038414183698]\n",
      "[10, 1, 0.7658212262989411]\n",
      "[10, 2, 0.7680374292046294]\n",
      "[10, 3, 0.7581876385126816]\n",
      "[10, 4, 0.7564639251415908]\n",
      "[10, 5, 0.7665599606008372]\n"
     ]
    },
    {
     "ename": "KeyboardInterrupt",
     "evalue": "",
     "output_type": "error",
     "traceback": [
      "\u001b[0;31m---------------------------------------------------------------------------\u001b[0m",
      "\u001b[0;31mKeyboardInterrupt\u001b[0m                         Traceback (most recent call last)",
      "\u001b[0;32m<ipython-input-173-9ff5c54ed440>\u001b[0m in \u001b[0;36m<module>\u001b[0;34m()\u001b[0m\n\u001b[1;32m     10\u001b[0m             h_grads_arr = adaptive_train(Xt, yt, Xv, yv, mlp_, \n\u001b[1;32m     11\u001b[0m                 \u001b[0mbatch_size\u001b[0m\u001b[0;34m=\u001b[0m\u001b[0;36m128\u001b[0m\u001b[0;34m,\u001b[0m \u001b[0mnum_epochs\u001b[0m\u001b[0;34m=\u001b[0m\u001b[0;36m100\u001b[0m\u001b[0;34m,\u001b[0m \u001b[0mnum_to_fix\u001b[0m\u001b[0;34m=\u001b[0m\u001b[0mnum_to_fix\u001b[0m\u001b[0;34m,\u001b[0m \u001b[0mcheck_every\u001b[0m\u001b[0;34m=\u001b[0m\u001b[0mcheck_every\u001b[0m\u001b[0;34m,\u001b[0m \u001b[0mprint_out\u001b[0m\u001b[0;34m=\u001b[0m\u001b[0mFalse\u001b[0m\u001b[0;34m,\u001b[0m\u001b[0;34m\u001b[0m\u001b[0m\n\u001b[0;32m---> 12\u001b[0;31m                 mode=\"kill_weight\")\n\u001b[0m\u001b[1;32m     13\u001b[0m             \u001b[0mvalid_acc\u001b[0m \u001b[0;34m=\u001b[0m \u001b[0mget_accuracy\u001b[0m\u001b[0;34m(\u001b[0m\u001b[0mXv\u001b[0m\u001b[0;34m,\u001b[0m \u001b[0myv\u001b[0m\u001b[0;34m,\u001b[0m \u001b[0mmlp_\u001b[0m\u001b[0;34m[\u001b[0m\u001b[0;34m\"predict_fn\"\u001b[0m\u001b[0;34m]\u001b[0m\u001b[0;34m)\u001b[0m\u001b[0;34m\u001b[0m\u001b[0m\n\u001b[1;32m     14\u001b[0m             \u001b[0mrow\u001b[0m\u001b[0;34m.\u001b[0m\u001b[0mappend\u001b[0m\u001b[0;34m(\u001b[0m\u001b[0mvalid_acc\u001b[0m\u001b[0;34m)\u001b[0m\u001b[0;34m\u001b[0m\u001b[0m\n",
      "\u001b[0;32m<ipython-input-172-84525404e85d>\u001b[0m in \u001b[0;36madaptive_train\u001b[0;34m(Xt, yt, Xv, yv, mlp, num_to_fix, check_every, batch_size, num_epochs, mode, print_out, debug)\u001b[0m\n\u001b[1;32m     19\u001b[0m             \u001b[0;32mif\u001b[0m \u001b[0mb\u001b[0m\u001b[0;34m*\u001b[0m\u001b[0mbatch_size\u001b[0m \u001b[0;34m>=\u001b[0m \u001b[0mXt\u001b[0m\u001b[0;34m.\u001b[0m\u001b[0mshape\u001b[0m\u001b[0;34m[\u001b[0m\u001b[0;36m0\u001b[0m\u001b[0;34m]\u001b[0m\u001b[0;34m:\u001b[0m\u001b[0;34m\u001b[0m\u001b[0m\n\u001b[1;32m     20\u001b[0m                 \u001b[0;32mbreak\u001b[0m\u001b[0;34m\u001b[0m\u001b[0m\n\u001b[0;32m---> 21\u001b[0;31m             \u001b[0mthis_loss\u001b[0m \u001b[0;34m=\u001b[0m \u001b[0mtrain_fn\u001b[0m\u001b[0;34m(\u001b[0m\u001b[0mXt\u001b[0m\u001b[0;34m[\u001b[0m\u001b[0mb\u001b[0m\u001b[0;34m*\u001b[0m\u001b[0mbatch_size\u001b[0m \u001b[0;34m:\u001b[0m \u001b[0;34m(\u001b[0m\u001b[0mb\u001b[0m\u001b[0;34m+\u001b[0m\u001b[0;36m1\u001b[0m\u001b[0;34m)\u001b[0m\u001b[0;34m*\u001b[0m\u001b[0mbatch_size\u001b[0m\u001b[0;34m]\u001b[0m\u001b[0;34m,\u001b[0m \u001b[0myt\u001b[0m\u001b[0;34m[\u001b[0m\u001b[0mb\u001b[0m\u001b[0;34m*\u001b[0m\u001b[0mbatch_size\u001b[0m \u001b[0;34m:\u001b[0m \u001b[0;34m(\u001b[0m\u001b[0mb\u001b[0m\u001b[0;34m+\u001b[0m\u001b[0;36m1\u001b[0m\u001b[0;34m)\u001b[0m\u001b[0;34m*\u001b[0m\u001b[0mbatch_size\u001b[0m\u001b[0;34m]\u001b[0m\u001b[0;34m)\u001b[0m\u001b[0;34m\u001b[0m\u001b[0m\n\u001b[0m\u001b[1;32m     22\u001b[0m             \u001b[0mlosses\u001b[0m\u001b[0;34m.\u001b[0m\u001b[0mappend\u001b[0m\u001b[0;34m(\u001b[0m\u001b[0mthis_loss\u001b[0m\u001b[0;34m)\u001b[0m\u001b[0;34m\u001b[0m\u001b[0m\n\u001b[1;32m     23\u001b[0m             \u001b[0mb\u001b[0m \u001b[0;34m+=\u001b[0m \u001b[0;36m1\u001b[0m\u001b[0;34m\u001b[0m\u001b[0m\n",
      "\u001b[0;32m//anaconda/lib/python2.7/site-packages/Theano-0.8.0.dev0-py2.7.egg/theano/compile/function_module.pyc\u001b[0m in \u001b[0;36m__call__\u001b[0;34m(self, *args, **kwargs)\u001b[0m\n\u001b[1;32m    857\u001b[0m         \u001b[0mt0_fn\u001b[0m \u001b[0;34m=\u001b[0m \u001b[0mtime\u001b[0m\u001b[0;34m.\u001b[0m\u001b[0mtime\u001b[0m\u001b[0;34m(\u001b[0m\u001b[0;34m)\u001b[0m\u001b[0;34m\u001b[0m\u001b[0m\n\u001b[1;32m    858\u001b[0m         \u001b[0;32mtry\u001b[0m\u001b[0;34m:\u001b[0m\u001b[0;34m\u001b[0m\u001b[0m\n\u001b[0;32m--> 859\u001b[0;31m             \u001b[0moutputs\u001b[0m \u001b[0;34m=\u001b[0m \u001b[0mself\u001b[0m\u001b[0;34m.\u001b[0m\u001b[0mfn\u001b[0m\u001b[0;34m(\u001b[0m\u001b[0;34m)\u001b[0m\u001b[0;34m\u001b[0m\u001b[0m\n\u001b[0m\u001b[1;32m    860\u001b[0m         \u001b[0;32mexcept\u001b[0m \u001b[0mException\u001b[0m\u001b[0;34m:\u001b[0m\u001b[0;34m\u001b[0m\u001b[0m\n\u001b[1;32m    861\u001b[0m             \u001b[0;32mif\u001b[0m \u001b[0mhasattr\u001b[0m\u001b[0;34m(\u001b[0m\u001b[0mself\u001b[0m\u001b[0;34m.\u001b[0m\u001b[0mfn\u001b[0m\u001b[0;34m,\u001b[0m \u001b[0;34m'position_of_error'\u001b[0m\u001b[0;34m)\u001b[0m\u001b[0;34m:\u001b[0m\u001b[0;34m\u001b[0m\u001b[0m\n",
      "\u001b[0;32m//anaconda/lib/python2.7/site-packages/Theano-0.8.0.dev0-py2.7.egg/theano/gof/op.pyc\u001b[0m in \u001b[0;36mrval\u001b[0;34m(p, i, o, n)\u001b[0m\n\u001b[1;32m    905\u001b[0m         \u001b[0;32mif\u001b[0m \u001b[0mparams\u001b[0m \u001b[0;32mis\u001b[0m \u001b[0mgraph\u001b[0m\u001b[0;34m.\u001b[0m\u001b[0mNoParams\u001b[0m\u001b[0;34m:\u001b[0m\u001b[0;34m\u001b[0m\u001b[0m\n\u001b[1;32m    906\u001b[0m             \u001b[0;31m# default arguments are stored in the closure of `rval`\u001b[0m\u001b[0;34m\u001b[0m\u001b[0;34m\u001b[0m\u001b[0m\n\u001b[0;32m--> 907\u001b[0;31m             \u001b[0;32mdef\u001b[0m \u001b[0mrval\u001b[0m\u001b[0;34m(\u001b[0m\u001b[0mp\u001b[0m\u001b[0;34m=\u001b[0m\u001b[0mp\u001b[0m\u001b[0;34m,\u001b[0m \u001b[0mi\u001b[0m\u001b[0;34m=\u001b[0m\u001b[0mnode_input_storage\u001b[0m\u001b[0;34m,\u001b[0m \u001b[0mo\u001b[0m\u001b[0;34m=\u001b[0m\u001b[0mnode_output_storage\u001b[0m\u001b[0;34m,\u001b[0m \u001b[0mn\u001b[0m\u001b[0;34m=\u001b[0m\u001b[0mnode\u001b[0m\u001b[0;34m)\u001b[0m\u001b[0;34m:\u001b[0m\u001b[0;34m\u001b[0m\u001b[0m\n\u001b[0m\u001b[1;32m    908\u001b[0m                 \u001b[0mr\u001b[0m \u001b[0;34m=\u001b[0m \u001b[0mp\u001b[0m\u001b[0;34m(\u001b[0m\u001b[0mn\u001b[0m\u001b[0;34m,\u001b[0m \u001b[0;34m[\u001b[0m\u001b[0mx\u001b[0m\u001b[0;34m[\u001b[0m\u001b[0;36m0\u001b[0m\u001b[0;34m]\u001b[0m \u001b[0;32mfor\u001b[0m \u001b[0mx\u001b[0m \u001b[0;32min\u001b[0m \u001b[0mi\u001b[0m\u001b[0;34m]\u001b[0m\u001b[0;34m,\u001b[0m \u001b[0mo\u001b[0m\u001b[0;34m)\u001b[0m\u001b[0;34m\u001b[0m\u001b[0m\n\u001b[1;32m    909\u001b[0m                 \u001b[0;32mfor\u001b[0m \u001b[0mo\u001b[0m \u001b[0;32min\u001b[0m \u001b[0mnode\u001b[0m\u001b[0;34m.\u001b[0m\u001b[0moutputs\u001b[0m\u001b[0;34m:\u001b[0m\u001b[0;34m\u001b[0m\u001b[0m\n",
      "\u001b[0;31mKeyboardInterrupt\u001b[0m: "
     ]
    }
   ],
   "source": [
    "for check_every in [1, 20]:\n",
    "    rows_to_write = []\n",
    "    for num_to_fix in [5, 10, 20, 40, 80]:\n",
    "        valid_accs = []\n",
    "        for x in range(0, 10):\n",
    "            row = [num_to_fix, x]\n",
    "            np.random.seed(x)\n",
    "            random.seed(x)\n",
    "            mlp_ = mlp(X_total, y_total, num_hidden_units=None, lamb=0.0)\n",
    "            h_grads_arr = adaptive_train(Xt, yt, Xv, yv, mlp_, \n",
    "                batch_size=128, num_epochs=100, num_to_fix=num_to_fix, check_every=check_every, print_out=False,\n",
    "                mode=\"kill_weight\")\n",
    "            valid_acc = get_accuracy(Xv, yv, mlp_[\"predict_fn\"])\n",
    "            row.append(valid_acc)\n",
    "            valid_accs.append(valid_acc)\n",
    "            rows_to_write.append(row)\n",
    "            print row\n",
    "        print \"num killed connections: %f\" % (np.sum(mlp_[\"W1\"].get_value() == 0))\n",
    "    with open(\"feature_ranking_out_adaptive_weights/stats%i.csv\" % check_every, \"wb\") as f: #wb\n",
    "        f.write(\"num_to_fix,seed,valid_accuracy\\n\")\n",
    "        for row in rows_to_write:\n",
    "            f.write(\",\".join( [str(r) for r in row] ) + \"\\n\")"
   ]
  },
  {
   "cell_type": "code",
   "execution_count": 166,
   "metadata": {
    "collapsed": false
   },
   "outputs": [
    {
     "data": {
      "text/plain": [
       "array([[  1.93302076e-04,  -1.23520691e-04,   1.26505594e-05, ...,\n",
       "         -1.97063139e-05,   6.46673233e-05,   2.54514350e-04],\n",
       "       [ -1.57708877e-04,  -2.76175558e-05,  -4.28745646e-05, ...,\n",
       "          1.88469595e-04,   2.87798694e-05,   1.45041833e-04],\n",
       "       [  1.45680204e-04,  -2.36857567e-05,   1.63664870e-04, ...,\n",
       "         -9.50842868e-05,   6.12528267e-05,   5.75790254e-05],\n",
       "       ..., \n",
       "       [ -1.87937040e-03,   1.12496885e-03,  -1.87185940e-03, ...,\n",
       "          5.62782044e-04,  -7.62666422e-04,   1.57828596e-03],\n",
       "       [ -1.07122718e-03,  -6.70942182e-04,  -1.17461189e-03, ...,\n",
       "          2.22159315e-03,   2.68011479e-04,   1.28876223e-03],\n",
       "       [  1.05016781e-04,  -2.02715683e-04,  -4.62873580e-04, ...,\n",
       "          1.40090220e-03,  -1.67967581e-04,   8.59741579e-04]])"
      ]
     },
     "execution_count": 166,
     "metadata": {},
     "output_type": "execute_result"
    }
   ],
   "source": [
    "mlp_[\"w1_grad_fn\"](Xv, yv)"
   ]
  },
  {
   "cell_type": "markdown",
   "metadata": {
    "collapsed": true
   },
   "source": [
    "----"
   ]
  },
  {
   "cell_type": "markdown",
   "metadata": {},
   "source": [
    "* Plot the gradients on MNIST digits. This makes a nice visualisation which could make it into the paper."
   ]
  },
  {
   "cell_type": "code",
   "execution_count": 380,
   "metadata": {
    "collapsed": true
   },
   "outputs": [],
   "source": [
    "sys.path.append(\"../modules/\")\n",
    "import helper as hp"
   ]
  },
  {
   "cell_type": "code",
   "execution_count": 381,
   "metadata": {
    "collapsed": true
   },
   "outputs": [],
   "source": [
    "mnist_train_set, _, _ = hp.load_mnist()"
   ]
  },
  {
   "cell_type": "code",
   "execution_count": 387,
   "metadata": {
    "collapsed": true
   },
   "outputs": [],
   "source": [
    "mnist_x, mnist_y = mnist_train_set\n",
    "mnist_x = mnist_x.astype(\"float32\")\n",
    "mnist_y = mnist_y.astype(\"int32\")"
   ]
  },
  {
   "cell_type": "code",
   "execution_count": 383,
   "metadata": {
    "collapsed": true
   },
   "outputs": [],
   "source": [
    "def simple_conv(X_data, y_data):\n",
    "    a_in = InputLayer( (None, 1, 28, 28 ) )\n",
    "    a_conv1 = Conv2DLayer(a_in, num_filters=16, filter_size=(5,5), nonlinearity=rectify)\n",
    "    a_mp1 = MaxPool2DLayer(a_conv1, pool_size=(2,2))\n",
    "    a_conv2 = Conv2DLayer(a_mp1, num_filters=32, filter_size=(5,5), nonlinearity=rectify)\n",
    "    a_mp2 = MaxPool2DLayer(a_conv2, pool_size=(2,2))\n",
    "    a_out = DenseLayer(a_mp2, num_units=np.max(y_data)+1, nonlinearity=softmax)  \n",
    "    X = T.tensor4('X')\n",
    "    y = T.ivector('y')\n",
    "    loss = categorical_crossentropy( get_output(a_out, X), y ).mean()\n",
    "    params = get_all_params(a_out)\n",
    "    updates = nesterov_momentum(loss, params, 0.01, 0.9)\n",
    "    train_fn = theano.function([X, y], loss, updates=updates)\n",
    "    x_grad_fn = theano.function([X, y], T.grad(loss, X))\n",
    "    predict_fn = theano.function([X], get_output(a_out, X) )\n",
    "    loss_fn = theano.function([X, y], loss )\n",
    "    return {\"net\": a_out,\n",
    "            \"train_fn\":train_fn,\n",
    "            \"x_grad_fn\":x_grad_fn,\n",
    "            \"predict_fn\":predict_fn,\n",
    "            \"loss_fn\": loss_fn}"
   ]
  },
  {
   "cell_type": "code",
   "execution_count": 384,
   "metadata": {
    "collapsed": true
   },
   "outputs": [],
   "source": [
    "conv = simple_conv(mnist_x, mnist_y)"
   ]
  },
  {
   "cell_type": "code",
   "execution_count": 388,
   "metadata": {
    "collapsed": false
   },
   "outputs": [
    {
     "name": "stdout",
     "output_type": "stream",
     "text": [
      "0.26089267387\n",
      "0.0771458087307\n",
      "0.0571138216773\n"
     ]
    },
    {
     "ename": "KeyboardInterrupt",
     "evalue": "",
     "output_type": "error",
     "traceback": [
      "\u001b[0;31m---------------------------------------------------------------------------\u001b[0m",
      "\u001b[0;31mKeyboardInterrupt\u001b[0m                         Traceback (most recent call last)",
      "\u001b[0;32m<ipython-input-388-83b1cdc78701>\u001b[0m in \u001b[0;36m<module>\u001b[0;34m()\u001b[0m\n\u001b[0;32m----> 1\u001b[0;31m \u001b[0mtrain_net\u001b[0m\u001b[0;34m(\u001b[0m\u001b[0mmnist_x\u001b[0m\u001b[0;34m,\u001b[0m \u001b[0mmnist_y\u001b[0m\u001b[0;34m,\u001b[0m \u001b[0mconv\u001b[0m\u001b[0;34m[\u001b[0m\u001b[0;34m\"train_fn\"\u001b[0m\u001b[0;34m]\u001b[0m\u001b[0;34m,\u001b[0m \u001b[0mnum_epochs\u001b[0m\u001b[0;34m=\u001b[0m\u001b[0;36m5\u001b[0m\u001b[0;34m,\u001b[0m \u001b[0mbatch_size\u001b[0m\u001b[0;34m=\u001b[0m\u001b[0;36m64\u001b[0m\u001b[0;34m)\u001b[0m\u001b[0;34m\u001b[0m\u001b[0m\n\u001b[0m",
      "\u001b[0;32m<ipython-input-163-7f4713c07068>\u001b[0m in \u001b[0;36mtrain_net\u001b[0;34m(X_train, y_train, train_fn, num_epochs, batch_size, shuffle)\u001b[0m\n\u001b[1;32m     13\u001b[0m                 \u001b[0;32mbreak\u001b[0m\u001b[0;34m\u001b[0m\u001b[0m\n\u001b[1;32m     14\u001b[0m             this_loss = train_fn(\n\u001b[0;32m---> 15\u001b[0;31m                 Xt[b*batch_size : (b+1)*batch_size], yt[b*batch_size : (b+1)*batch_size])\n\u001b[0m\u001b[1;32m     16\u001b[0m             \u001b[0mlosses\u001b[0m\u001b[0;34m.\u001b[0m\u001b[0mappend\u001b[0m\u001b[0;34m(\u001b[0m\u001b[0mthis_loss\u001b[0m\u001b[0;34m)\u001b[0m\u001b[0;34m\u001b[0m\u001b[0m\n\u001b[1;32m     17\u001b[0m             \u001b[0mb\u001b[0m \u001b[0;34m+=\u001b[0m \u001b[0;36m1\u001b[0m\u001b[0;34m\u001b[0m\u001b[0m\n",
      "\u001b[0;32m//anaconda/lib/python2.7/site-packages/Theano-0.8.0.dev0-py2.7.egg/theano/compile/function_module.pyc\u001b[0m in \u001b[0;36m__call__\u001b[0;34m(self, *args, **kwargs)\u001b[0m\n\u001b[1;32m    857\u001b[0m         \u001b[0mt0_fn\u001b[0m \u001b[0;34m=\u001b[0m \u001b[0mtime\u001b[0m\u001b[0;34m.\u001b[0m\u001b[0mtime\u001b[0m\u001b[0;34m(\u001b[0m\u001b[0;34m)\u001b[0m\u001b[0;34m\u001b[0m\u001b[0m\n\u001b[1;32m    858\u001b[0m         \u001b[0;32mtry\u001b[0m\u001b[0;34m:\u001b[0m\u001b[0;34m\u001b[0m\u001b[0m\n\u001b[0;32m--> 859\u001b[0;31m             \u001b[0moutputs\u001b[0m \u001b[0;34m=\u001b[0m \u001b[0mself\u001b[0m\u001b[0;34m.\u001b[0m\u001b[0mfn\u001b[0m\u001b[0;34m(\u001b[0m\u001b[0;34m)\u001b[0m\u001b[0;34m\u001b[0m\u001b[0m\n\u001b[0m\u001b[1;32m    860\u001b[0m         \u001b[0;32mexcept\u001b[0m \u001b[0mException\u001b[0m\u001b[0;34m:\u001b[0m\u001b[0;34m\u001b[0m\u001b[0m\n\u001b[1;32m    861\u001b[0m             \u001b[0;32mif\u001b[0m \u001b[0mhasattr\u001b[0m\u001b[0;34m(\u001b[0m\u001b[0mself\u001b[0m\u001b[0;34m.\u001b[0m\u001b[0mfn\u001b[0m\u001b[0;34m,\u001b[0m \u001b[0;34m'position_of_error'\u001b[0m\u001b[0;34m)\u001b[0m\u001b[0;34m:\u001b[0m\u001b[0;34m\u001b[0m\u001b[0m\n",
      "\u001b[0;32m//anaconda/lib/python2.7/site-packages/Theano-0.8.0.dev0-py2.7.egg/theano/gof/op.pyc\u001b[0m in \u001b[0;36mrval\u001b[0;34m(p, i, o, n)\u001b[0m\n\u001b[1;32m    905\u001b[0m         \u001b[0;32mif\u001b[0m \u001b[0mparams\u001b[0m \u001b[0;32mis\u001b[0m \u001b[0mgraph\u001b[0m\u001b[0;34m.\u001b[0m\u001b[0mNoParams\u001b[0m\u001b[0;34m:\u001b[0m\u001b[0;34m\u001b[0m\u001b[0m\n\u001b[1;32m    906\u001b[0m             \u001b[0;31m# default arguments are stored in the closure of `rval`\u001b[0m\u001b[0;34m\u001b[0m\u001b[0;34m\u001b[0m\u001b[0m\n\u001b[0;32m--> 907\u001b[0;31m             \u001b[0;32mdef\u001b[0m \u001b[0mrval\u001b[0m\u001b[0;34m(\u001b[0m\u001b[0mp\u001b[0m\u001b[0;34m=\u001b[0m\u001b[0mp\u001b[0m\u001b[0;34m,\u001b[0m \u001b[0mi\u001b[0m\u001b[0;34m=\u001b[0m\u001b[0mnode_input_storage\u001b[0m\u001b[0;34m,\u001b[0m \u001b[0mo\u001b[0m\u001b[0;34m=\u001b[0m\u001b[0mnode_output_storage\u001b[0m\u001b[0;34m,\u001b[0m \u001b[0mn\u001b[0m\u001b[0;34m=\u001b[0m\u001b[0mnode\u001b[0m\u001b[0;34m)\u001b[0m\u001b[0;34m:\u001b[0m\u001b[0;34m\u001b[0m\u001b[0m\n\u001b[0m\u001b[1;32m    908\u001b[0m                 \u001b[0mr\u001b[0m \u001b[0;34m=\u001b[0m \u001b[0mp\u001b[0m\u001b[0;34m(\u001b[0m\u001b[0mn\u001b[0m\u001b[0;34m,\u001b[0m \u001b[0;34m[\u001b[0m\u001b[0mx\u001b[0m\u001b[0;34m[\u001b[0m\u001b[0;36m0\u001b[0m\u001b[0;34m]\u001b[0m \u001b[0;32mfor\u001b[0m \u001b[0mx\u001b[0m \u001b[0;32min\u001b[0m \u001b[0mi\u001b[0m\u001b[0;34m]\u001b[0m\u001b[0;34m,\u001b[0m \u001b[0mo\u001b[0m\u001b[0;34m)\u001b[0m\u001b[0;34m\u001b[0m\u001b[0m\n\u001b[1;32m    909\u001b[0m                 \u001b[0;32mfor\u001b[0m \u001b[0mo\u001b[0m \u001b[0;32min\u001b[0m \u001b[0mnode\u001b[0m\u001b[0;34m.\u001b[0m\u001b[0moutputs\u001b[0m\u001b[0;34m:\u001b[0m\u001b[0;34m\u001b[0m\u001b[0m\n",
      "\u001b[0;31mKeyboardInterrupt\u001b[0m: "
     ]
    }
   ],
   "source": [
    "train_net(mnist_x, mnist_y, conv[\"train_fn\"], num_epochs=5, batch_size=64)"
   ]
  },
  {
   "cell_type": "code",
   "execution_count": 393,
   "metadata": {
    "collapsed": true
   },
   "outputs": [],
   "source": [
    "mnist_x_9 = mnist_x[ (mnist_y == 9) ]\n",
    "mnist_y_9 = np.asarray([9 for x in range(0, mnist_x_9.shape[0])], dtype=\"int32\")"
   ]
  },
  {
   "cell_type": "code",
   "execution_count": 394,
   "metadata": {
    "collapsed": false
   },
   "outputs": [],
   "source": [
    "grads_for_9 = conv[\"x_grad_fn\"](mnist_x_9, mnist_y_9)"
   ]
  },
  {
   "cell_type": "code",
   "execution_count": 403,
   "metadata": {
    "collapsed": false
   },
   "outputs": [
    {
     "data": {
      "text/plain": [
       "<matplotlib.image.AxesImage at 0x144be4950>"
      ]
     },
     "execution_count": 403,
     "metadata": {},
     "output_type": "execute_result"
    },
    {
     "data": {
      "image/png": "[encoded data removed]",
      "text/plain": [
       "<matplotlib.figure.Figure at 0x1448c7690>"
      ]
     },
     "metadata": {},
     "output_type": "display_data"
    }
   ],
   "source": [
    "plt.imshow( np.mean(np.abs(grads_for_9),axis=0)[0] )"
   ]
  },
  {
   "cell_type": "code",
   "execution_count": 404,
   "metadata": {
    "collapsed": false
   },
   "outputs": [
    {
     "data": {
      "text/plain": [
       "<matplotlib.image.AxesImage at 0x1450a6bd0>"
      ]
     },
     "execution_count": 404,
     "metadata": {},
     "output_type": "execute_result"
    },
    {
     "data": {
      "image/png": "[encoded data removed]",
      "text/plain": [
       "<matplotlib.figure.Figure at 0x14504e3d0>"
      ]
     },
     "metadata": {},
     "output_type": "display_data"
    }
   ],
   "source": [
    "plt.imshow( np.mean(np.abs(mnist_x_9),axis=0)[0] )"
   ]
  },
  {
   "cell_type": "markdown",
   "metadata": {},
   "source": [
    "----"
   ]
  },
  {
   "cell_type": "markdown",
   "metadata": {},
   "source": [
    "* Not using autoencoders, because the noise attributes actually get larger gradients. Because they have no structure to them, the network allocates more capacity to them, and hence they end up being more important attributes."
   ]
  },
  {
   "cell_type": "markdown",
   "metadata": {
    "collapsed": true
   },
   "source": [
    "----"
   ]
  },
  {
   "cell_type": "markdown",
   "metadata": {
    "collapsed": false
   },
   "source": [
    "I suspect that getting rid of neurons is a bit too ruthless and that we need to get rid of individual weight connections instead..."
   ]
  },
  {
   "cell_type": "code",
   "execution_count": 421,
   "metadata": {
    "collapsed": true
   },
   "outputs": [],
   "source": [
    "def mlp_weights(X_data, y_data, num_hidden_units=None, lamb=0.0):\n",
    "    if num_hidden_units == None:\n",
    "        num_hidden_units = X_data.shape[1]/2\n",
    "    a_in = InputLayer( (None, X_data.shape[1]) )\n",
    "    a_hidden = DenseLayer(a_in, num_units=num_hidden_units)\n",
    "    a_out = DenseLayer(a_hidden, num_units=np.max(y_data)+1, nonlinearity=softmax)\n",
    "    # ---\n",
    "    X = T.fmatrix('X')\n",
    "    y = T.ivector('y')\n",
    "    loss = categorical_crossentropy( get_output(a_out, X), y ).mean() + \\\n",
    "        lamb*regularize_layer_params(a_out, l1)\n",
    "    params = get_all_params(a_out)\n",
    "    print \"debug params: %s\" % str(params)\n",
    "    # create the masks\n",
    "    W1_mask = theano.shared(\n",
    "        np.ones( mlp6[\"params\"][0].get_value().shape ).astype(\"float32\") )\n",
    "    W2_mask = theano.shared(\n",
    "        np.ones( mlp6[\"params\"][2].get_value().shape ).astype(\"float32\") )\n",
    "    updates = nesterov_momentum(loss, params, 0.01, 0.9)\n",
    "    # W1\n",
    "    updates[ updates.keys()[0] ] = updates[ updates.keys()[0] ] * W1_mask\n",
    "    # W2\n",
    "    updates[ updates.keys()[2] ] = updates[ updates.keys()[2] ] * W2_mask\n",
    "    \n",
    "    train_fn = theano.function([X, y], loss, updates=updates)\n",
    "    x_grad_fn = theano.function([X, y], T.grad(loss, X))\n",
    "    predict_fn = theano.function([X], get_output(a_out, X) )\n",
    "    loss_fn = theano.function([X, y], loss ) \n",
    "    # [W1, b1, W2, b2]\n",
    "    grad_fn = theano.function([X,y], T.grad(loss,params)[0])\n",
    "    \n",
    "    # ---\n",
    "    return {\"net\": a_out,\n",
    "            \"train_fn\":train_fn,\n",
    "            \"x_grad_fn\":x_grad_fn,\n",
    "            \"predict_fn\":predict_fn,\n",
    "            \"loss_fn\": loss_fn,\n",
    "            \"grad_fn\": grad_fn,\n",
    "            \"W1_mask\": W1_mask,\n",
    "            \"W2_mask\": W2_mask,\n",
    "            \"loss\": loss,\n",
    "            \"params\": params,\n",
    "            \"updates\": updates}"
   ]
  },
  {
   "cell_type": "code",
   "execution_count": 206,
   "metadata": {
    "collapsed": false
   },
   "outputs": [],
   "source": [
    "mlp5 = mlp_weights(X_total, y_total)\n",
    "#mlp5[\"net\"].W.set_value( np.zeros( mlp5[\"net\"].W.get_value().shape ) )\n",
    "#mlp5[\"net\"].input_layer.W.set_value( np.zeros( mlp5[\"net\"].input_layer.W.get_value().shape ) )"
   ]
  },
  {
   "cell_type": "code",
   "execution_count": 216,
   "metadata": {
    "collapsed": false
   },
   "outputs": [
    {
     "name": "stdout",
     "output_type": "stream",
     "text": [
      "0.498152009246\n",
      "0.494480421681\n",
      "0.487800148276\n",
      "0.484657040547\n",
      "0.484245727927\n",
      "0.475663009436\n",
      "0.472413697956\n",
      "0.467532039505\n",
      "0.461597414646\n",
      "0.45953481833\n",
      "0.453844758196\n",
      "0.45038948606\n",
      "0.446368459349\n",
      "0.442047243577\n",
      "0.435174076259\n",
      "0.431614124761\n",
      "0.426534368187\n",
      "0.421506970681\n",
      "0.417738618038\n",
      "0.413633560957\n",
      "0.405006923479\n",
      "0.403783977573\n",
      "0.399962268693\n",
      "0.3909470268\n",
      "0.385232945859\n",
      "0.379520955028\n",
      "0.374773443025\n",
      "0.366748786757\n",
      "0.362927392314\n",
      "0.355000048142\n",
      "0.351915522134\n",
      "0.344298361191\n",
      "0.339608609715\n",
      "0.33470379973\n",
      "0.328901171846\n",
      "0.324982808321\n",
      "0.317446649845\n",
      "0.31165082214\n",
      "0.30586209336\n",
      "0.300938004301\n",
      "0.294374141028\n",
      "0.289602712949\n",
      "0.284772042848\n",
      "0.277769599244\n",
      "0.276351784064\n",
      "0.269639783459\n",
      "0.261089588105\n",
      "0.257645861205\n",
      "0.252326469186\n",
      "0.247450087247\n",
      "0.244095418357\n",
      "0.237265945739\n",
      "0.232367901905\n",
      "0.226933876074\n",
      "0.222551226471\n",
      "0.219835025699\n",
      "0.21674171732\n",
      "0.214428106249\n",
      "0.203094139347\n",
      "0.201901537843\n",
      "0.199503463065\n",
      "0.19205762097\n",
      "0.186776063846\n",
      "0.181878853464\n",
      "0.176922942236\n",
      "0.175255520618\n",
      "0.171028089359\n",
      "0.167204787621\n",
      "0.164442875175\n",
      "0.160630298654\n",
      "0.155557550468\n",
      "0.14993094455\n",
      "0.146466808545\n",
      "0.144623478741\n",
      "0.140712732258\n",
      "0.136193522198\n",
      "0.131813014865\n",
      "0.128833576528\n",
      "0.127200079445\n",
      "0.124272154834\n",
      "0.121038233825\n",
      "0.117650185671\n",
      "0.115980522191\n",
      "0.112660399697\n",
      "0.108655696876\n",
      "0.106650004013\n",
      "0.103055234181\n",
      "0.0992786085168\n",
      "0.097188439854\n",
      "0.0955842602589\n",
      "0.094414122558\n",
      "0.0903671323167\n",
      "0.0874566142271\n",
      "0.085318252248\n",
      "0.0835396019885\n",
      "0.0829796221538\n",
      "0.0808455385866\n",
      "0.0797812773764\n",
      "0.0758310368763\n",
      "0.0750928939939\n",
      "0.0718797600181\n",
      "0.0695548501205\n",
      "0.0695100446961\n",
      "0.0674795053073\n",
      "0.0655997924656\n",
      "0.0645091824615\n",
      "0.0621058068499\n",
      "0.0601316784841\n",
      "0.0593416048107\n",
      "0.0580860028236\n",
      "0.0568828516293\n",
      "0.055492579552\n",
      "0.0546281311762\n",
      "0.0537734222036\n",
      "0.052596428163\n",
      "0.050535839288\n",
      "0.049929538406\n",
      "0.049581968726\n",
      "0.0480912865369\n",
      "0.0479099226472\n",
      "0.0460801607981\n",
      "0.0445768086158\n",
      "0.044601883482\n",
      "0.0430986436265\n",
      "0.0416430844269\n",
      "0.0412337514031\n",
      "0.0403092049668\n",
      "0.0397121337824\n",
      "0.038825226051\n",
      "0.0385593318725\n",
      "0.0384165180882\n",
      "0.0368467820032\n",
      "0.0357832376116\n",
      "0.0352948870089\n",
      "0.0346895764409\n",
      "0.033674735614\n",
      "0.0331340541653\n",
      "0.0326886683535\n",
      "0.0320213234166\n",
      "0.0316045737553\n",
      "0.0312866077462\n",
      "0.0305680007317\n",
      "0.0300035257805\n",
      "0.0294858400092\n",
      "0.0289466442146\n",
      "0.0291023256197\n",
      "0.0282636317221\n",
      "0.0275441958663\n",
      "0.0269151711452\n",
      "0.0264823370944\n",
      "0.0263427741262\n",
      "0.0263300595387\n",
      "0.025633034957\n",
      "0.0250104292816\n",
      "0.0246510834826\n",
      "0.0242697597137\n",
      "0.0239330213172\n",
      "0.023502355602\n",
      "0.0232147752572\n",
      "0.0228951861434\n",
      "0.0225451946054\n",
      "0.0222988400161\n",
      "0.0220414105798\n",
      "0.0218095138911\n",
      "0.0212793071484\n",
      "0.0211149666666\n",
      "0.0208480174494\n",
      "0.0206088885873\n",
      "0.0202388234594\n",
      "0.0198603080864\n",
      "0.0199157924403\n",
      "0.0196022314906\n",
      "0.0191828524914\n",
      "0.0188183736142\n",
      "0.0188729552687\n",
      "0.0185851179876\n",
      "0.0182442336592\n",
      "0.0179659646469\n",
      "0.017986318735\n",
      "0.0175082811444\n",
      "0.0174782123292\n",
      "0.0172915450299\n",
      "0.0172622683731\n",
      "0.0172269684635\n",
      "0.0164086493446\n",
      "0.0164994967882\n",
      "0.0163307486488\n",
      "0.0159814560552\n",
      "0.0158538640895\n",
      "0.0156089701303\n",
      "0.0154463159368\n",
      "0.0153843114402\n",
      "0.0151032788906\n",
      "0.0149608710722\n",
      "0.0147941889924\n",
      "0.0146550110884\n",
      "0.0145594399179\n",
      "0.0143619643565\n",
      "0.0144340748927\n",
      "0.0141425715678\n"
     ]
    }
   ],
   "source": [
    "train_net(Xt, yt, mlp5[\"train_fn\"], num_epochs=200, batch_size=128, shuffle=True)"
   ]
  },
  {
   "cell_type": "code",
   "execution_count": 219,
   "metadata": {
    "collapsed": false
   },
   "outputs": [
    {
     "data": {
      "text/plain": [
       "[<matplotlib.lines.Line2D at 0x132848210>]"
      ]
     },
     "execution_count": 219,
     "metadata": {},
     "output_type": "execute_result"
    },
    {
     "data": {
      "image/png": "[encoded data removed]",
      "text/plain": [
       "<matplotlib.figure.Figure at 0x138cb8f50>"
      ]
     },
     "metadata": {},
     "output_type": "display_data"
    }
   ],
   "source": [
    "plt.plot(np.abs(mlp5[\"grad_fn\"](Xv, yv).flatten()))"
   ]
  },
  {
   "cell_type": "code",
   "execution_count": 441,
   "metadata": {
    "collapsed": true
   },
   "outputs": [],
   "source": [
    "def adaptive_train_weights(Xt, yt, Xv, yv, mlp, num_to_fix, check_every, \n",
    "                   batch_size, num_epochs=20, kill_weights=True, print_out=True):\n",
    "    sampler = GlorotUniform()\n",
    "    idxs = [x for x in range(0, Xt.shape[0])]\n",
    "    net, train_fn, grad_fn = mlp[\"net\"], mlp[\"train_fn\"], mlp[\"grad_fn\"]\n",
    "    W1_mask = mlp[\"W1_mask\"]\n",
    "    w1_grads_arr = []\n",
    "    for epoch in range(0, num_epochs):\n",
    "        random.shuffle(idxs)\n",
    "        Xt = Xt[idxs]\n",
    "        yt = yt[idxs]\n",
    "        b = 0\n",
    "        losses = []\n",
    "        while True:\n",
    "            if b*batch_size >= Xt.shape[0]:\n",
    "                break\n",
    "            this_loss = train_fn(Xt[b*batch_size : (b+1)*batch_size], yt[b*batch_size : (b+1)*batch_size])\n",
    "            losses.append(this_loss)\n",
    "            b += 1\n",
    "        #print \"units to fix: %s\" % str(h_idxs[0:num_to_fix])\n",
    "        if num_to_fix > 0 and (epoch+1) % check_every == 0:\n",
    "            this_W1_mask = W1_mask.get_value()\n",
    "            # get dL/dW1 on the validation set\n",
    "            sorted_mat = np.argsort( np.abs(grad_fn(Xv, yv).flatten()) * this_W1_mask.flatten() )\n",
    "            w1_grads_arr.append(sorted_mat)\n",
    "            # argsort matrix\n",
    "            sorted_mat_idxs = np.dstack(\n",
    "                np.unravel_index(sorted_mat, net.input_layer.W.get_value().shape) )[0][::-1]\n",
    "            W = net.input_layer.W.get_value()\n",
    "            for tp in sorted_mat_idxs[0:num_to_fix]:\n",
    "                if kill_weights:\n",
    "                    W[ tp[0], tp[1] ] = 0\n",
    "                    this_W1_mask[ tp[0], tp[1] ] = 0\n",
    "                else:\n",
    "                    W[ tp[0], tp[1] ] = sampler.sample( (1,1) ).flatten()\n",
    "            W1_mask.set_value(this_W1_mask)\n",
    "            net.input_layer.W.set_value(W)\n",
    "            #print np.sum(W==0.0), np.sum(this_W1_mask==0.0)\n",
    "        if print_out:\n",
    "            print np.mean(losses)\n",
    "    return w1_grads_arr"
   ]
  },
  {
   "cell_type": "code",
   "execution_count": 440,
   "metadata": {
    "collapsed": false
   },
   "outputs": [
    {
     "name": "stdout",
     "output_type": "stream",
     "text": [
      "debug params: [W, b, W, b]\n",
      "num killed connections: 1000.000000\n",
      "[10, 0, 0.7692686530411229]\n",
      "debug params: [W, b, W, b]\n",
      "num killed connections: 1000.000000\n",
      "[10, 1, 0.7616350652548634]\n",
      "debug params: [W, b, W, b]\n",
      "num killed connections: 1000.000000\n",
      "[10, 2, 0.7640975129278503]\n",
      "debug params: [W, b, W, b]\n",
      "num killed connections: 1000.000000\n",
      "[10, 3, 0.7648362472297464]\n",
      "debug params: [W, b, W, b]\n",
      "num killed connections: 1000.000000\n",
      "[10, 4, 0.7722235902487072]\n",
      "debug params: [W, b, W, b]\n",
      "num killed connections: 1000.000000\n",
      "[10, 5, 0.7569564146761881]\n",
      "debug params: [W, b, W, b]\n",
      "num killed connections: 1000.000000\n",
      "[10, 6, 0.7618813100221621]\n",
      "debug params: [W, b, W, b]\n",
      "num killed connections: 1000.000000\n",
      "[10, 7, 0.7579413937453829]\n",
      "debug params: [W, b, W, b]\n",
      "num killed connections: 1000.000000\n",
      "[10, 8, 0.7508002954937207]\n",
      "debug params: [W, b, W, b]\n",
      "num killed connections: 1000.000000\n",
      "[10, 9, 0.7631125338586555]\n",
      "debug params: [W, b, W, b]\n",
      "num killed connections: 2000.000000\n",
      "[20, 0, 0.7719773454814085]\n",
      "debug params: [W, b, W, b]\n",
      "num killed connections: 2000.000000\n",
      "[20, 1, 0.7759172617581876]\n",
      "debug params: [W, b, W, b]\n",
      "num killed connections: 2000.000000\n",
      "[20, 2, 0.765082491997045]\n",
      "debug params: [W, b, W, b]\n",
      "num killed connections: 2000.000000\n",
      "[20, 3, 0.7739473036197981]\n",
      "debug params: [W, b, W, b]\n",
      "num killed connections: 2000.000000\n",
      "[20, 4, 0.7830583600098497]\n",
      "debug params: [W, b, W, b]\n",
      "num killed connections: 2000.000000\n",
      "[20, 5, 0.7722235902487072]\n",
      "debug params: [W, b, W, b]\n",
      "num killed connections: 2000.000000\n",
      "[20, 6, 0.7677911844373307]\n",
      "debug params: [W, b, W, b]\n",
      "num killed connections: 2000.000000\n",
      "[20, 7, 0.7687761635065254]\n",
      "debug params: [W, b, W, b]\n",
      "num killed connections: 2000.000000\n",
      "[20, 8, 0.7732085693179019]\n",
      "debug params: [W, b, W, b]\n",
      "num killed connections: 2000.000000\n",
      "[20, 9, 0.7677911844373307]\n",
      "debug params: [W, b, W, b]\n",
      "num killed connections: 4000.000000\n",
      "[40, 0, 0.7966018222112781]\n",
      "debug params: [W, b, W, b]\n",
      "num killed connections: 4000.000000\n",
      "[40, 1, 0.7887219896577198]\n",
      "debug params: [W, b, W, b]\n",
      "num killed connections: 4000.000000\n",
      "[40, 2, 0.7901994582615119]\n",
      "debug params: [W, b, W, b]\n",
      "num killed connections: 4000.000000\n",
      "[40, 3, 0.7867520315193303]\n",
      "debug params: [W, b, W, b]\n",
      "num killed connections: 4000.000000\n",
      "[40, 4, 0.7862595419847328]\n",
      "debug params: [W, b, W, b]\n",
      "num killed connections: 4000.000000\n",
      "[40, 5, 0.7911844373307068]\n",
      "debug params: [W, b, W, b]\n",
      "num killed connections: 4000.000000\n",
      "[40, 6, 0.7818271361733563]\n",
      "debug params: [W, b, W, b]\n",
      "num killed connections: 4000.000000\n",
      "[40, 7, 0.7897069687269146]\n",
      "debug params: [W, b, W, b]\n",
      "num killed connections: 4000.000000\n",
      "[40, 8, 0.7983255355823689]\n",
      "debug params: [W, b, W, b]\n",
      "num killed connections: 4000.000000\n",
      "[40, 9, 0.7926619059344989]\n"
     ]
    }
   ],
   "source": [
    "for check_every in [1]:\n",
    "    rows_to_write = []\n",
    "    for num_to_fix in [1, 5, 10, 20, 40]: #1,5\n",
    "        valid_accs = []\n",
    "        for x in range(0, 10):\n",
    "            row = [num_to_fix, x]\n",
    "            np.random.seed(x)\n",
    "            random.seed(x)\n",
    "            mlp5 = mlp_weights(X_total, y_total, num_hidden_units=None, lamb=0.0)\n",
    "            h_grads_arr = adaptive_train_weights(Xt, yt, Xv, yv, mlp5, \n",
    "                batch_size=128, num_epochs=100, num_to_fix=num_to_fix, check_every=check_every, print_out=False)\n",
    "            print \"num killed connections: %f\" % (np.sum(mlp5[\"net\"].input_layer.W.get_value() == 0))\n",
    "            valid_acc = get_accuracy(Xv, yv, mlp5[\"predict_fn\"])\n",
    "            row.append(valid_acc)\n",
    "            valid_accs.append(valid_acc)\n",
    "            rows_to_write.append(row)\n",
    "            print row\n",
    "    with open(\"feature_ranking_out_adaptive_weights/stats%i.csv\" % check_every, \"wb\") as f: #wb\n",
    "        f.write(\"num_to_fix,seed,valid_accuracy\\n\")\n",
    "        for row in rows_to_write:\n",
    "            f.write(\",\".join( [str(r) for r in row] ) + \"\\n\")"
   ]
  },
  {
   "cell_type": "code",
   "execution_count": 429,
   "metadata": {
    "collapsed": false
   },
   "outputs": [
    {
     "data": {
      "text/plain": [
       "8"
      ]
     },
     "execution_count": 429,
     "metadata": {},
     "output_type": "execute_result"
    }
   ],
   "source": [
    "np.sum( mlp5[\"net\"].input_layer.W.get_value() == 0 )"
   ]
  },
  {
   "cell_type": "code",
   "execution_count": 254,
   "metadata": {
    "collapsed": false
   },
   "outputs": [],
   "source": [
    "sorted_mat = np.argsort(np.abs(mlp5[\"grad_fn\"](Xv, yv).flatten()))\n",
    "\n",
    "\n",
    "\n",
    "#np.argsort(mlp5[\"grad_fn\"](Xv, yv).flatten()).reshape( mlp5[\"net\"].input_layer.W.get_value().shape)"
   ]
  },
  {
   "cell_type": "code",
   "execution_count": 261,
   "metadata": {
    "collapsed": false
   },
   "outputs": [],
   "source": [
    "sorted_mat_idxs = np.dstack( np.unravel_index(sorted_mat, mlp5[\"net\"].input_layer.W.get_value().shape) )[0][::-1]"
   ]
  },
  {
   "cell_type": "code",
   "execution_count": 257,
   "metadata": {
    "collapsed": false
   },
   "outputs": [
    {
     "data": {
      "text/plain": [
       "(0.047240316424077028, 0.0)"
      ]
     },
     "execution_count": 257,
     "metadata": {},
     "output_type": "execute_result"
    }
   ],
   "source": [
    "np.max( np.abs(mlp5[\"grad_fn\"](Xv, yv)) ), np.min( np.abs(mlp5[\"grad_fn\"](Xv, yv) ) ) "
   ]
  },
  {
   "cell_type": "code",
   "execution_count": 276,
   "metadata": {
    "collapsed": false
   },
   "outputs": [],
   "source": [
    "?mlp5[\"net\"].W.set_value"
   ]
  },
  {
   "cell_type": "code",
   "execution_count": 272,
   "metadata": {
    "collapsed": false
   },
   "outputs": [
    {
     "data": {
      "text/plain": [
       "0.047240316424077028"
      ]
     },
     "execution_count": 272,
     "metadata": {},
     "output_type": "execute_result"
    }
   ],
   "source": [
    "mlp5[\"grad_fn\"](Xv, yv)[ sorted_mat_idxs[0][0], sorted_mat_idxs[0][1] ]"
   ]
  },
  {
   "cell_type": "code",
   "execution_count": 265,
   "metadata": {
    "collapsed": false
   },
   "outputs": [
    {
     "data": {
      "text/plain": [
       "(200, 100)"
      ]
     },
     "execution_count": 265,
     "metadata": {},
     "output_type": "execute_result"
    }
   ],
   "source": [
    "mlp5[\"grad_fn\"](Xv, yv).shape"
   ]
  },
  {
   "cell_type": "code",
   "execution_count": 204,
   "metadata": {
    "collapsed": false
   },
   "outputs": [
    {
     "ename": "KeyError",
     "evalue": "'tmp_fn'",
     "output_type": "error",
     "traceback": [
      "\u001b[0;31m---------------------------------------------------------------------------\u001b[0m",
      "\u001b[0;31mKeyError\u001b[0m                                  Traceback (most recent call last)",
      "\u001b[0;32m<ipython-input-204-6d8f1d0565e8>\u001b[0m in \u001b[0;36m<module>\u001b[0;34m()\u001b[0m\n\u001b[0;32m----> 1\u001b[0;31m \u001b[0mplt\u001b[0m\u001b[0;34m.\u001b[0m\u001b[0mplot\u001b[0m\u001b[0;34m(\u001b[0m \u001b[0mnp\u001b[0m\u001b[0;34m.\u001b[0m\u001b[0mabs\u001b[0m\u001b[0;34m(\u001b[0m\u001b[0mmlp5\u001b[0m\u001b[0;34m[\u001b[0m\u001b[0;34m\"tmp_fn\"\u001b[0m\u001b[0;34m]\u001b[0m\u001b[0;34m(\u001b[0m\u001b[0mXv\u001b[0m\u001b[0;34m,\u001b[0m \u001b[0myv\u001b[0m\u001b[0;34m)\u001b[0m\u001b[0;34m)\u001b[0m\u001b[0;34m.\u001b[0m\u001b[0mflatten\u001b[0m\u001b[0;34m(\u001b[0m\u001b[0;34m)\u001b[0m \u001b[0;34m)\u001b[0m\u001b[0;34m\u001b[0m\u001b[0m\n\u001b[0m",
      "\u001b[0;31mKeyError\u001b[0m: 'tmp_fn'"
     ]
    }
   ],
   "source": [
    "plt.plot( np.abs(mlp5[\"tmp_fn\"](Xv, yv)).flatten() )"
   ]
  },
  {
   "cell_type": "code",
   "execution_count": 319,
   "metadata": {
    "collapsed": false
   },
   "outputs": [
    {
     "data": {
      "text/plain": [
       "OrderedDict([(W, Elemwise{sub,no_inplace}.0),\n",
       "             (b, Elemwise{sub,no_inplace}.0),\n",
       "             (W, Elemwise{sub,no_inplace}.0),\n",
       "             (b, Elemwise{sub,no_inplace}.0)])"
      ]
     },
     "execution_count": 319,
     "metadata": {},
     "output_type": "execute_result"
    }
   ],
   "source": [
    "test_dict = sgd(mlp5[\"loss\"], mlp5[\"params\"], 0.01)\n",
    "test_dict"
   ]
  },
  {
   "cell_type": "code",
   "execution_count": 328,
   "metadata": {
    "collapsed": false
   },
   "outputs": [
    {
     "data": {
      "text/plain": [
       "Elemwise{mul,no_inplace}.0"
      ]
     },
     "execution_count": 328,
     "metadata": {},
     "output_type": "execute_result"
    }
   ],
   "source": [
    "test_dict[ test_dict.keys()[0] ] * np.ones( mlp5[\"params\"][0].get_value().shape )"
   ]
  },
  {
   "cell_type": "code",
   "execution_count": 360,
   "metadata": {
    "collapsed": false
   },
   "outputs": [
    {
     "ename": "KeyError",
     "evalue": "'grads'",
     "output_type": "error",
     "traceback": [
      "\u001b[0;31m---------------------------------------------------------------------------\u001b[0m",
      "\u001b[0;31mKeyError\u001b[0m                                  Traceback (most recent call last)",
      "\u001b[0;32m<ipython-input-360-57be6f6fc7c7>\u001b[0m in \u001b[0;36m<module>\u001b[0;34m()\u001b[0m\n\u001b[0;32m----> 1\u001b[0;31m \u001b[0mmlp5\u001b[0m\u001b[0;34m[\u001b[0m\u001b[0;34m\"grads\"\u001b[0m\u001b[0;34m]\u001b[0m\u001b[0;34m[\u001b[0m\u001b[0;36m0\u001b[0m\u001b[0;34m]\u001b[0m\u001b[0;34m\u001b[0m\u001b[0m\n\u001b[0m",
      "\u001b[0;31mKeyError\u001b[0m: 'grads'"
     ]
    }
   ],
   "source": [
    "mlp5[\"grads\"][0]"
   ]
  },
  {
   "cell_type": "code",
   "execution_count": 388,
   "metadata": {
    "collapsed": false
   },
   "outputs": [
    {
     "name": "stdout",
     "output_type": "stream",
     "text": [
      "debug params: [W, b, W, b]\n",
      "debug grads: [dot.0, DimShuffle{1}.0, Elemwise{add,no_inplace}.0, DimShuffle{1}.0]\n"
     ]
    }
   ],
   "source": [
    "mlp6 = mlp_weights(Xt, yt, lamb=0)"
   ]
  },
  {
   "cell_type": "code",
   "execution_count": 408,
   "metadata": {
    "collapsed": false
   },
   "outputs": [
    {
     "data": {
      "text/plain": [
       "OrderedDict([(W, Elemwise{add,no_inplace}.0),\n",
       "             (b, Elemwise{add,no_inplace}.0),\n",
       "             (W, Elemwise{add,no_inplace}.0),\n",
       "             (b, Elemwise{add,no_inplace}.0),\n",
       "             (<TensorType(float64, matrix)>, Elemwise{sub,no_inplace}.0),\n",
       "             (<TensorType(float64, vector)>, Elemwise{sub,no_inplace}.0),\n",
       "             (<TensorType(float64, matrix)>, Elemwise{sub,no_inplace}.0),\n",
       "             (<TensorType(float64, vector)>, Elemwise{sub,no_inplace}.0)])"
      ]
     },
     "execution_count": 408,
     "metadata": {},
     "output_type": "execute_result"
    }
   ],
   "source": [
    "mlp6[\"updates\"]"
   ]
  },
  {
   "cell_type": "code",
   "execution_count": 383,
   "metadata": {
    "collapsed": false
   },
   "outputs": [
    {
     "data": {
      "text/plain": [
       "array([[-0., -0., -0., ..., -0., -0., -0.],\n",
       "       [-0., -0., -0., ..., -0., -0., -0.],\n",
       "       [-0., -0., -0., ..., -0., -0., -0.],\n",
       "       ..., \n",
       "       [-0., -0., -0., ..., -0., -0., -0.],\n",
       "       [-0., -0., -0., ..., -0., -0., -0.],\n",
       "       [-0., -0., -0., ..., -0., -0., -0.]], dtype=float32)"
      ]
     },
     "execution_count": 383,
     "metadata": {},
     "output_type": "execute_result"
    }
   ],
   "source": [
    "mlp6[\"W1_mask\"].set_value( mlp6[\"W1_mask\"].get_value()*0 )\n",
    "mlp6[\"W1_mask\"].get_value()"
   ]
  },
  {
   "cell_type": "code",
   "execution_count": 384,
   "metadata": {
    "collapsed": false
   },
   "outputs": [
    {
     "data": {
      "text/plain": [
       "array([[ 0.05470818,  0.02120683,  0.07059879, ...,  0.09436997,\n",
       "        -0.09669261, -0.10973032],\n",
       "       [-0.0517125 , -0.11202686,  0.08334102, ...,  0.0942083 ,\n",
       "        -0.10220168, -0.0606113 ],\n",
       "       [ 0.07471082, -0.08856105,  0.09389722, ...,  0.04164411,\n",
       "         0.01324239,  0.00816825],\n",
       "       ..., \n",
       "       [ 0.05871566, -0.12756718,  0.07058836, ..., -0.06776465,\n",
       "        -0.01413079, -0.00808478],\n",
       "       [-0.00871159,  0.1008104 , -0.13568771, ...,  0.10167564,\n",
       "        -0.02167538, -0.06554889],\n",
       "       [-0.13245182, -0.10813265,  0.13434869, ..., -0.09897702,\n",
       "         0.12640046,  0.13643417]])"
      ]
     },
     "execution_count": 384,
     "metadata": {},
     "output_type": "execute_result"
    }
   ],
   "source": [
    "mlp6[\"net\"].input_layer.W.get_value()"
   ]
  },
  {
   "cell_type": "code",
   "execution_count": 385,
   "metadata": {
    "collapsed": false
   },
   "outputs": [
    {
     "name": "stdout",
     "output_type": "stream",
     "text": [
      "1.28684574926\n",
      "1.19193620066\n",
      "1.15416646592\n",
      "1.12744048373\n",
      "1.1059697712\n",
      "1.08744226336\n",
      "1.07423088581\n",
      "1.0612520737\n",
      "1.05100869261\n",
      "1.04436850967\n"
     ]
    }
   ],
   "source": [
    "train_net(Xt, yt, mlp6[\"train_fn\"], num_epochs=10, batch_size=32)"
   ]
  },
  {
   "cell_type": "code",
   "execution_count": null,
   "metadata": {
    "collapsed": true
   },
   "outputs": [],
   "source": []
  }
 ],
 "metadata": {
  "kernelspec": {
   "display_name": "Python 2",
   "language": "python",
   "name": "python2"
  },
  "language_info": {
   "codemirror_mode": {
    "name": "ipython",
    "version": 2
   },
   "file_extension": ".py",
   "mimetype": "text/x-python",
   "name": "python",
   "nbconvert_exporter": "python",
   "pygments_lexer": "ipython2",
   "version": "2.7.11"
  }
 },
 "nbformat": 4,
 "nbformat_minor": 0
}
